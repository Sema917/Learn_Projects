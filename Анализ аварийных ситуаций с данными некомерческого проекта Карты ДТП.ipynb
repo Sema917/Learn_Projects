{
 "cells": [
  {
   "cell_type": "markdown",
   "metadata": {
    "deletable": false,
    "editable": false,
    "id": "t00fl5UqGwCy",
    "tags": [
     "1e3c4ba5-e41c-441c-b80d-91af102cc6cd"
    ]
   },
   "source": [
    "\n",
    "# Кейс спринта\n",
    "\n",
    "\n",
    "Заказчик проекта — «Карта ДТП». Это некоммерческий проект, посвящённый проблеме дорожно-транспортных происшествий в России. Цель проекта — повысить безопасность на дорогах.\n",
    "\n",
    "«Карта ДТП» помогает выявлять реальные причины ДТП, оценивать уровень развития инфраструктуры, а также разрабатывать качественные решения и программы по повышению безопасности на улицах и дорогах. Заказчик хочет собирать данные более высокого качества и ожидает от вас рекомендаций: на какие проблемы или особенности обратить внимание.\n",
    "\n",
    "## Что нужно сделать\n",
    "\n",
    "Вам необходимо проверить, встречаются ли в данных дубликаты и пропуски. Это поможет заказчикам собирать более качественные данные.\n",
    "\n",
    "Вам также понадобится ответить на следующие вопросы:\n",
    "\n",
    "- как менялось число ДТП по временным промежуткам;\n",
    "\n",
    "- различается ли число ДТП для групп водителей с разным стажем.\n",
    "\n",
    "\n",
    "## Описание данных\n",
    "\n",
    "Данные `Kirovskaya_oblast.csv`, `Moscowskaya_oblast.csv` содержат информацию ДТП:\n",
    "\n",
    "* `geometry.coordinates` — координаты ДТП;\n",
    "\n",
    "* `id` — идентификатор ДТП;\n",
    "\n",
    "*  `properties.tags` — тег происшествия;\n",
    "\n",
    "*  `properties.light` — освещённость;\n",
    "\n",
    "*  `properties.point.lat` — широта;\n",
    "\n",
    "*  `properties.point.long` — долгота;\n",
    "\n",
    "*  `properties.nearby` — ближайшие объекты;\n",
    "\n",
    "*  `properties.region` — регион;\n",
    "\n",
    "*  `properties.scheme` — схема ДТП;\n",
    "\n",
    "*  `properties.address` — ближайший адрес;\n",
    "\n",
    "*  `properties.weather` — погода;\n",
    "\n",
    "*  `properties.category` — категория ДТП;\n",
    "\n",
    "*  `properties.datetime` — дата и время ДТП;\n",
    "\n",
    "*  `properties.injured_count` — число пострадавших;\n",
    "\n",
    "*  `properties.parent_region` — область;\n",
    "\n",
    "*  `properties.road_conditions` — состояние покрытия;\n",
    "\n",
    "*  `properties.participants_count` — число участников;\n",
    "\n",
    "*  `properties.participant_categories` — категории участников.\n",
    "\n",
    "`Moscowskaya_oblast_participiants.csv`, `Kirovskaya_oblast_participiants.csv` — сведения об участниках ДТП:\n",
    "\n",
    "* `role` — роль;\n",
    "\n",
    "* `gender` — пол;\n",
    "\n",
    "* `violations` — какие правила дорожного движения были нарушены конкретным участником;\n",
    "\n",
    "* `health_status` — состояние здоровья после  ДТП;\n",
    "\n",
    "* `years_of_driving_experience` — число лет опыта;\n",
    "\n",
    "* `id` — идентификатор ДТП.\n",
    "\n",
    "\n",
    "`Kirovskaya_oblast_vehicles.csv`, `Moscowskaya_oblast_vehicles.csv` — сведения о транспортных средствах:\n",
    "\n",
    "* `year` — год выпуска;\n",
    "\n",
    "* `brand` — марка транспортного средства;\n",
    "\n",
    "* `color` — цвет;\n",
    "\n",
    "* `model` — модель;\n",
    "\n",
    "* `category` — категория;\n",
    "\n",
    "* `id` — идентификатор ДТП."
   ]
  },
  {
   "cell_type": "markdown",
   "metadata": {
    "id": "igXM2EUwJQeu"
   },
   "source": [
    "# Проверка ошибок в данных и их предобработка\n",
    "\n"
   ]
  },
  {
   "cell_type": "markdown",
   "metadata": {
    "id": "IeZjY9f9MPgb"
   },
   "source": [
    "### 1) Замена названий (меток) столбцов на оптимальные для работы"
   ]
  },
  {
   "cell_type": "code",
   "execution_count": 3,
   "metadata": {},
   "outputs": [],
   "source": [
    "import pandas as pd\n",
    "# Загрузим датасеты для дальнейшей работы\n",
    "df_kirov_obl = pd.read_csv('Kirovskaya_oblast.csv')\n",
    "df_msc_obl = pd.read_csv('Moscowskaya_oblast.csv')"
   ]
  },
  {
   "cell_type": "markdown",
   "metadata": {},
   "source": [
    "В представленных датасетах название полей некорректны для дальнейшей работы, для удоства их следует заменить."
   ]
  },
  {
   "cell_type": "code",
   "execution_count": 5,
   "metadata": {},
   "outputs": [
    {
     "data": {
      "text/plain": [
       "Index(['geometry.coordinates', 'id', 'properties.tags', 'properties.light',\n",
       "       'properties.point.lat', 'properties.point.long', 'properties.nearby',\n",
       "       'properties.region', 'properties.scheme', 'properties.address',\n",
       "       'properties.weather', 'properties.category', 'properties.datetime',\n",
       "       'properties.injured_count', 'properties.parent_region',\n",
       "       'properties.road_conditions', 'properties.participants_count',\n",
       "       'properties.participant_categories'],\n",
       "      dtype='object')"
      ]
     },
     "execution_count": 5,
     "metadata": {},
     "output_type": "execute_result"
    }
   ],
   "source": [
    "df_kirov_obl.columns"
   ]
  },
  {
   "cell_type": "code",
   "execution_count": 6,
   "metadata": {},
   "outputs": [],
   "source": [
    "df_kirov_obl.columns = ['coordinates', 'id', 'tags', 'light',\n",
    "       'lat', 'long', 'nearby',\n",
    "       'region', 'scheme', 'address',\n",
    "       'weather', 'category', 'datetime',\n",
    "       'injured_count', 'parent_region',\n",
    "       'road_conditions', 'participants_count',\n",
    "       'participant_categories']\n",
    "df_msc_obl.columns = ['coordinates', 'id', 'tags', 'light',\n",
    "       'lat', 'long', 'nearby',\n",
    "       'region', 'scheme', 'address',\n",
    "       'weather', 'category', 'datetime',\n",
    "       'injured_count', 'parent_region',\n",
    "       'road_conditions', 'participants_count',\n",
    "       'participant_categories']"
   ]
  },
  {
   "cell_type": "markdown",
   "metadata": {},
   "source": [
    "В сотальных представленных датасетах название столбцов подходят для комфортной работы с ними."
   ]
  },
  {
   "cell_type": "markdown",
   "metadata": {
    "id": "WO_WoGOFMLwN"
   },
   "source": [
    "### 2) Проверка пропусков в данных\n",
    "\n",
    "На примере датасета `Kirovskaya_oblast.csv` изучите, в каких столбцах есть пропуски. Предположите причины их возникновения. Напишите рекомендации, как работать с  пропусками и как их в дальнейшем избежать."
   ]
  },
  {
   "cell_type": "code",
   "execution_count": 8,
   "metadata": {},
   "outputs": [
    {
     "data": {
      "text/plain": [
       "coordinates               0.000000\n",
       "id                        0.000000\n",
       "tags                      0.000000\n",
       "light                     0.000000\n",
       "lat                       0.220431\n",
       "long                      0.220431\n",
       "nearby                    0.000000\n",
       "region                    0.000000\n",
       "scheme                    7.832197\n",
       "address                   4.642833\n",
       "weather                   0.000000\n",
       "category                  0.000000\n",
       "datetime                  0.000000\n",
       "injured_count             0.000000\n",
       "parent_region             0.000000\n",
       "road_conditions           0.000000\n",
       "participants_count        0.000000\n",
       "participant_categories    0.000000\n",
       "dtype: float64"
      ]
     },
     "execution_count": 8,
     "metadata": {},
     "output_type": "execute_result"
    }
   ],
   "source": [
    "df_kirov_obl.isna().sum() / df_kirov_obl.shape[0]*100"
   ]
  },
  {
   "cell_type": "markdown",
   "metadata": {},
   "source": [
    "Пропуски в данных содержаться в следующих столбцах: широта и долгота, схема и адрес. Во всех перечисленных полях количество пропусков не превышает 8% от общего объема данных. Больше всего пропусков в схеме дтп и в адресе. Пропуски в адресе возможны, так как не все аварии происходят в населенных пунктах или же поле является необязательным к заполнению. Пропуски в схемах также возможны, так как не всегда возможно сделать точную зарисовку аварии."
   ]
  },
  {
   "cell_type": "code",
   "execution_count": 9,
   "metadata": {},
   "outputs": [
    {
     "data": {
      "text/plain": [
       "coordinates                0.000000\n",
       "id                         0.000000\n",
       "tags                       0.000000\n",
       "light                      0.000000\n",
       "lat                        0.020665\n",
       "long                       0.020665\n",
       "nearby                     0.000000\n",
       "region                     0.000000\n",
       "scheme                     9.526762\n",
       "address                   12.096163\n",
       "weather                    0.000000\n",
       "category                   0.000000\n",
       "datetime                   0.000000\n",
       "injured_count              0.000000\n",
       "parent_region              0.000000\n",
       "road_conditions            0.000000\n",
       "participants_count         0.000000\n",
       "participant_categories     0.000000\n",
       "dtype: float64"
      ]
     },
     "execution_count": 9,
     "metadata": {},
     "output_type": "execute_result"
    }
   ],
   "source": [
    "df_msc_obl.isna().sum() / df_kirov_obl.shape[0]*100"
   ]
  },
  {
   "cell_type": "markdown",
   "metadata": {},
   "source": [
    "При проверки данных по Мск, можно так;е заметить два поля, в которых аккумулированы пропуски: схема и адрес.\n",
    "Учитывая специфику задач, которые требует заказчик, обработка пропусков не нужна."
   ]
  },
  {
   "cell_type": "markdown",
   "metadata": {
    "id": "8J3L9kYZ8XZx"
   },
   "source": [
    "### 3) Наличие явных и неявных дубликатов в данных\n",
    "\n"
   ]
  },
  {
   "cell_type": "markdown",
   "metadata": {
    "id": "1cAm27OH8gKN"
   },
   "source": [
    "Есть ли явные дубликаты в данных, какой это процент значений?"
   ]
  },
  {
   "cell_type": "code",
   "execution_count": 10,
   "metadata": {},
   "outputs": [
    {
     "data": {
      "text/plain": [
       "0"
      ]
     },
     "execution_count": 10,
     "metadata": {},
     "output_type": "execute_result"
    }
   ],
   "source": [
    "df_kirov_obl.duplicated(keep = 'first').sum()"
   ]
  },
  {
   "cell_type": "markdown",
   "metadata": {},
   "source": [
    "Количество полных дубликатов равно нулю. Проверим также дубликаты, которые могут быть неявными. Уникальными полями кроме id можно считать комбинацию времени и места."
   ]
  },
  {
   "cell_type": "code",
   "execution_count": 11,
   "metadata": {},
   "outputs": [
    {
     "data": {
      "text/html": [
       "<div>\n",
       "<style scoped>\n",
       "    .dataframe tbody tr th:only-of-type {\n",
       "        vertical-align: middle;\n",
       "    }\n",
       "\n",
       "    .dataframe tbody tr th {\n",
       "        vertical-align: top;\n",
       "    }\n",
       "\n",
       "    .dataframe thead th {\n",
       "        text-align: right;\n",
       "    }\n",
       "</style>\n",
       "<table border=\"1\" class=\"dataframe\">\n",
       "  <thead>\n",
       "    <tr style=\"text-align: right;\">\n",
       "      <th></th>\n",
       "      <th>coordinates</th>\n",
       "      <th>id</th>\n",
       "      <th>tags</th>\n",
       "      <th>light</th>\n",
       "      <th>lat</th>\n",
       "      <th>long</th>\n",
       "      <th>nearby</th>\n",
       "      <th>region</th>\n",
       "      <th>scheme</th>\n",
       "      <th>address</th>\n",
       "      <th>weather</th>\n",
       "      <th>category</th>\n",
       "      <th>datetime</th>\n",
       "      <th>injured_count</th>\n",
       "      <th>parent_region</th>\n",
       "      <th>road_conditions</th>\n",
       "      <th>participants_count</th>\n",
       "      <th>participant_categories</th>\n",
       "    </tr>\n",
       "  </thead>\n",
       "  <tbody>\n",
       "  </tbody>\n",
       "</table>\n",
       "</div>"
      ],
      "text/plain": [
       "Empty DataFrame\n",
       "Columns: [coordinates, id, tags, light, lat, long, nearby, region, scheme, address, weather, category, datetime, injured_count, parent_region, road_conditions, participants_count, participant_categories]\n",
       "Index: []"
      ]
     },
     "execution_count": 11,
     "metadata": {},
     "output_type": "execute_result"
    }
   ],
   "source": [
    "df_kirov_obl[df_kirov_obl.duplicated(subset = ['lat', 'long', 'datetime'])]"
   ]
  },
  {
   "cell_type": "markdown",
   "metadata": {},
   "source": [
    "Дубликатов также не найдено"
   ]
  },
  {
   "cell_type": "code",
   "execution_count": 13,
   "metadata": {},
   "outputs": [
    {
     "data": {
      "text/plain": [
       "0"
      ]
     },
     "execution_count": 13,
     "metadata": {},
     "output_type": "execute_result"
    }
   ],
   "source": [
    "#Повторим аналогичные действия для другого датасета\n",
    "df_msc_obl.duplicated(keep = 'first').sum()"
   ]
  },
  {
   "cell_type": "code",
   "execution_count": 14,
   "metadata": {},
   "outputs": [
    {
     "data": {
      "text/html": [
       "<div>\n",
       "<style scoped>\n",
       "    .dataframe tbody tr th:only-of-type {\n",
       "        vertical-align: middle;\n",
       "    }\n",
       "\n",
       "    .dataframe tbody tr th {\n",
       "        vertical-align: top;\n",
       "    }\n",
       "\n",
       "    .dataframe thead th {\n",
       "        text-align: right;\n",
       "    }\n",
       "</style>\n",
       "<table border=\"1\" class=\"dataframe\">\n",
       "  <thead>\n",
       "    <tr style=\"text-align: right;\">\n",
       "      <th></th>\n",
       "      <th>coordinates</th>\n",
       "      <th>id</th>\n",
       "      <th>tags</th>\n",
       "      <th>light</th>\n",
       "      <th>lat</th>\n",
       "      <th>long</th>\n",
       "      <th>nearby</th>\n",
       "      <th>region</th>\n",
       "      <th>scheme</th>\n",
       "      <th>address</th>\n",
       "      <th>weather</th>\n",
       "      <th>category</th>\n",
       "      <th>datetime</th>\n",
       "      <th>injured_count</th>\n",
       "      <th>parent_region</th>\n",
       "      <th>road_conditions</th>\n",
       "      <th>participants_count</th>\n",
       "      <th>participant_categories</th>\n",
       "    </tr>\n",
       "  </thead>\n",
       "  <tbody>\n",
       "  </tbody>\n",
       "</table>\n",
       "</div>"
      ],
      "text/plain": [
       "Empty DataFrame\n",
       "Columns: [coordinates, id, tags, light, lat, long, nearby, region, scheme, address, weather, category, datetime, injured_count, parent_region, road_conditions, participants_count, participant_categories]\n",
       "Index: []"
      ]
     },
     "execution_count": 14,
     "metadata": {},
     "output_type": "execute_result"
    }
   ],
   "source": [
    "df_msc_obl[df_msc_obl.duplicated(subset = ['lat', 'long', 'datetime'])]"
   ]
  },
  {
   "cell_type": "markdown",
   "metadata": {},
   "source": [
    "В датасетах об авариях явных и неявных дубликатов не выявлено."
   ]
  },
  {
   "cell_type": "markdown",
   "metadata": {
    "id": "FQyJB_QL-GQB"
   },
   "source": [
    "### 4) Проверка корректности типов данных"
   ]
  },
  {
   "cell_type": "code",
   "execution_count": 15,
   "metadata": {},
   "outputs": [
    {
     "name": "stdout",
     "output_type": "stream",
     "text": [
      "<class 'pandas.core.frame.DataFrame'>\n",
      "RangeIndex: 14517 entries, 0 to 14516\n",
      "Data columns (total 18 columns):\n",
      " #   Column                  Non-Null Count  Dtype  \n",
      "---  ------                  --------------  -----  \n",
      " 0   coordinates             14517 non-null  object \n",
      " 1   id                      14517 non-null  int64  \n",
      " 2   tags                    14517 non-null  object \n",
      " 3   light                   14517 non-null  object \n",
      " 4   lat                     14485 non-null  float64\n",
      " 5   long                    14485 non-null  float64\n",
      " 6   nearby                  14517 non-null  object \n",
      " 7   region                  14517 non-null  object \n",
      " 8   scheme                  13380 non-null  float64\n",
      " 9   address                 13843 non-null  object \n",
      " 10  weather                 14517 non-null  object \n",
      " 11  category                14517 non-null  object \n",
      " 12  datetime                14517 non-null  object \n",
      " 13  injured_count           14517 non-null  int64  \n",
      " 14  parent_region           14517 non-null  object \n",
      " 15  road_conditions         14517 non-null  object \n",
      " 16  participants_count      14517 non-null  int64  \n",
      " 17  participant_categories  14517 non-null  object \n",
      "dtypes: float64(3), int64(3), object(12)\n",
      "memory usage: 2.0+ MB\n"
     ]
    }
   ],
   "source": [
    "#Рассмотрим типы данных выведя обшщую информацию о датафрейме\n",
    "df_kirov_obl.info()"
   ]
  },
  {
   "cell_type": "code",
   "execution_count": 16,
   "metadata": {},
   "outputs": [
    {
     "data": {
      "text/html": [
       "<div>\n",
       "<style scoped>\n",
       "    .dataframe tbody tr th:only-of-type {\n",
       "        vertical-align: middle;\n",
       "    }\n",
       "\n",
       "    .dataframe tbody tr th {\n",
       "        vertical-align: top;\n",
       "    }\n",
       "\n",
       "    .dataframe thead th {\n",
       "        text-align: right;\n",
       "    }\n",
       "</style>\n",
       "<table border=\"1\" class=\"dataframe\">\n",
       "  <thead>\n",
       "    <tr style=\"text-align: right;\">\n",
       "      <th></th>\n",
       "      <th>coordinates</th>\n",
       "      <th>id</th>\n",
       "      <th>tags</th>\n",
       "      <th>light</th>\n",
       "      <th>lat</th>\n",
       "      <th>long</th>\n",
       "      <th>nearby</th>\n",
       "      <th>region</th>\n",
       "      <th>scheme</th>\n",
       "      <th>address</th>\n",
       "      <th>weather</th>\n",
       "      <th>category</th>\n",
       "      <th>datetime</th>\n",
       "      <th>injured_count</th>\n",
       "      <th>parent_region</th>\n",
       "      <th>road_conditions</th>\n",
       "      <th>participants_count</th>\n",
       "      <th>participant_categories</th>\n",
       "    </tr>\n",
       "  </thead>\n",
       "  <tbody>\n",
       "    <tr>\n",
       "      <th>0</th>\n",
       "      <td>[47.875603, 57.24379]</td>\n",
       "      <td>1983180</td>\n",
       "      <td>Дорожно-транспортные происшествия</td>\n",
       "      <td>Светлое время суток</td>\n",
       "      <td>57.243790</td>\n",
       "      <td>47.875603</td>\n",
       "      <td>[]</td>\n",
       "      <td>Яранский район</td>\n",
       "      <td>600.0</td>\n",
       "      <td>Р-176 Вятка Чебоксары - Йошкар-Ола - Киров - С...</td>\n",
       "      <td>['Дождь']</td>\n",
       "      <td>Опрокидывание</td>\n",
       "      <td>2017-07-01 18:00:00</td>\n",
       "      <td>1</td>\n",
       "      <td>Кировская область</td>\n",
       "      <td>['Мокрое']</td>\n",
       "      <td>3</td>\n",
       "      <td>['Все участники']</td>\n",
       "    </tr>\n",
       "    <tr>\n",
       "      <th>1</th>\n",
       "      <td>[47.87903, 57.304807]</td>\n",
       "      <td>2889433</td>\n",
       "      <td>Дорожно-транспортные происшествия</td>\n",
       "      <td>Светлое время суток</td>\n",
       "      <td>57.304807</td>\n",
       "      <td>47.879030</td>\n",
       "      <td>['Административные здания', 'Нерегулируемый пе...</td>\n",
       "      <td>Яранский район</td>\n",
       "      <td>710.0</td>\n",
       "      <td>г Яранск, ул Кирова, 10</td>\n",
       "      <td>['Ясно']</td>\n",
       "      <td>Наезд на пешехода</td>\n",
       "      <td>2023-09-12 17:10:00</td>\n",
       "      <td>1</td>\n",
       "      <td>Кировская область</td>\n",
       "      <td>['Сухое', 'Отсутствие, плохая различимость гор...</td>\n",
       "      <td>2</td>\n",
       "      <td>['Все участники', 'Пешеходы']</td>\n",
       "    </tr>\n",
       "    <tr>\n",
       "      <th>2</th>\n",
       "      <td>[47.840781, 57.297156]</td>\n",
       "      <td>2591208</td>\n",
       "      <td>Дорожно-транспортные происшествия</td>\n",
       "      <td>Сумерки</td>\n",
       "      <td>57.297156</td>\n",
       "      <td>47.840781</td>\n",
       "      <td>['Жилые дома индивидуальной застройки', 'Нерег...</td>\n",
       "      <td>Яранский район</td>\n",
       "      <td>NaN</td>\n",
       "      <td>г Яранск, ул Чапаева, 80</td>\n",
       "      <td>['Пасмурно']</td>\n",
       "      <td>Съезд с дороги</td>\n",
       "      <td>2021-07-02 21:25:00</td>\n",
       "      <td>1</td>\n",
       "      <td>Кировская область</td>\n",
       "      <td>['Мокрое']</td>\n",
       "      <td>1</td>\n",
       "      <td>['Все участники']</td>\n",
       "    </tr>\n",
       "    <tr>\n",
       "      <th>3</th>\n",
       "      <td>[47.834365, 57.244775]</td>\n",
       "      <td>2577639</td>\n",
       "      <td>Дорожно-транспортные происшествия</td>\n",
       "      <td>Светлое время суток</td>\n",
       "      <td>57.244775</td>\n",
       "      <td>47.834365</td>\n",
       "      <td>['Жилые дома индивидуальной застройки']</td>\n",
       "      <td>Яранский район</td>\n",
       "      <td>200.0</td>\n",
       "      <td>м Знаменка, ул Кирова, 15</td>\n",
       "      <td>['Пасмурно']</td>\n",
       "      <td>Столкновение</td>\n",
       "      <td>2021-05-31 18:55:00</td>\n",
       "      <td>1</td>\n",
       "      <td>Кировская область</td>\n",
       "      <td>['Сухое']</td>\n",
       "      <td>2</td>\n",
       "      <td>['Все участники', 'Мотоциклисты']</td>\n",
       "    </tr>\n",
       "    <tr>\n",
       "      <th>4</th>\n",
       "      <td>[47.968197, 57.357738]</td>\n",
       "      <td>1981026</td>\n",
       "      <td>Дорожно-транспортные происшествия</td>\n",
       "      <td>Светлое время суток</td>\n",
       "      <td>57.357738</td>\n",
       "      <td>47.968197</td>\n",
       "      <td>['Нерегулируемый перекрёсток неравнозначных ул...</td>\n",
       "      <td>Яранский район</td>\n",
       "      <td>NaN</td>\n",
       "      <td>с/п Никольское, Киров-Советск- Яранск - подъез...</td>\n",
       "      <td>['Ясно']</td>\n",
       "      <td>Опрокидывание</td>\n",
       "      <td>2018-05-16 16:25:00</td>\n",
       "      <td>2</td>\n",
       "      <td>Кировская область</td>\n",
       "      <td>['Сухое', 'Отсутствие, плохая различимость гор...</td>\n",
       "      <td>2</td>\n",
       "      <td>['Все участники']</td>\n",
       "    </tr>\n",
       "  </tbody>\n",
       "</table>\n",
       "</div>"
      ],
      "text/plain": [
       "              coordinates       id                               tags  \\\n",
       "0   [47.875603, 57.24379]  1983180  Дорожно-транспортные происшествия   \n",
       "1   [47.87903, 57.304807]  2889433  Дорожно-транспортные происшествия   \n",
       "2  [47.840781, 57.297156]  2591208  Дорожно-транспортные происшествия   \n",
       "3  [47.834365, 57.244775]  2577639  Дорожно-транспортные происшествия   \n",
       "4  [47.968197, 57.357738]  1981026  Дорожно-транспортные происшествия   \n",
       "\n",
       "                 light        lat       long  \\\n",
       "0  Светлое время суток  57.243790  47.875603   \n",
       "1  Светлое время суток  57.304807  47.879030   \n",
       "2              Сумерки  57.297156  47.840781   \n",
       "3  Светлое время суток  57.244775  47.834365   \n",
       "4  Светлое время суток  57.357738  47.968197   \n",
       "\n",
       "                                              nearby          region  scheme  \\\n",
       "0                                                 []  Яранский район   600.0   \n",
       "1  ['Административные здания', 'Нерегулируемый пе...  Яранский район   710.0   \n",
       "2  ['Жилые дома индивидуальной застройки', 'Нерег...  Яранский район     NaN   \n",
       "3            ['Жилые дома индивидуальной застройки']  Яранский район   200.0   \n",
       "4  ['Нерегулируемый перекрёсток неравнозначных ул...  Яранский район     NaN   \n",
       "\n",
       "                                             address       weather  \\\n",
       "0  Р-176 Вятка Чебоксары - Йошкар-Ола - Киров - С...     ['Дождь']   \n",
       "1                            г Яранск, ул Кирова, 10      ['Ясно']   \n",
       "2                           г Яранск, ул Чапаева, 80  ['Пасмурно']   \n",
       "3                          м Знаменка, ул Кирова, 15  ['Пасмурно']   \n",
       "4  с/п Никольское, Киров-Советск- Яранск - подъез...      ['Ясно']   \n",
       "\n",
       "            category             datetime  injured_count      parent_region  \\\n",
       "0      Опрокидывание  2017-07-01 18:00:00              1  Кировская область   \n",
       "1  Наезд на пешехода  2023-09-12 17:10:00              1  Кировская область   \n",
       "2     Съезд с дороги  2021-07-02 21:25:00              1  Кировская область   \n",
       "3       Столкновение  2021-05-31 18:55:00              1  Кировская область   \n",
       "4      Опрокидывание  2018-05-16 16:25:00              2  Кировская область   \n",
       "\n",
       "                                     road_conditions  participants_count  \\\n",
       "0                                         ['Мокрое']                   3   \n",
       "1  ['Сухое', 'Отсутствие, плохая различимость гор...                   2   \n",
       "2                                         ['Мокрое']                   1   \n",
       "3                                          ['Сухое']                   2   \n",
       "4  ['Сухое', 'Отсутствие, плохая различимость гор...                   2   \n",
       "\n",
       "              participant_categories  \n",
       "0                  ['Все участники']  \n",
       "1      ['Все участники', 'Пешеходы']  \n",
       "2                  ['Все участники']  \n",
       "3  ['Все участники', 'Мотоциклисты']  \n",
       "4                  ['Все участники']  "
      ]
     },
     "execution_count": 16,
     "metadata": {},
     "output_type": "execute_result"
    }
   ],
   "source": [
    "df_kirov_obl.head(5)"
   ]
  },
  {
   "cell_type": "markdown",
   "metadata": {},
   "source": [
    "На основе анализа данных и типов данных, которые были подобраны при разгрузке было выялвено следующее:\n",
    "- поле coordanetes содержит в себе информацию, которая дублируется в полях lat и long - для оптимизации поле можно убрать, так как с данными о широте и долготе проще работать в разбивке, кроме того их можно преобразовать в float32;\n",
    "- поле id можно заменить на int32;\n",
    "- поле scheme также можно заменить на int, однако тогда нужно избавиться от пропусков, но из-за этого мы потеряем небольшой объем данных (приблизительно 5% от общего объема);\n",
    "- поле datetime представлено в типе object, при этом в самом поле хранится данные даты и времени, требуется перевод в datetime;\n",
    "- поле injured_count и participants_count хранят небольшие числа, поэтому можно заменить int64 на int 4."
   ]
  },
  {
   "cell_type": "markdown",
   "metadata": {},
   "source": [
    "Типы данных требуеют корректировки."
   ]
  },
  {
   "cell_type": "markdown",
   "metadata": {
    "id": "XbvXOlrAAjqB"
   },
   "source": [
    "## Исследовательский анализ\n",
    "\n"
   ]
  },
  {
   "cell_type": "markdown",
   "metadata": {
    "id": "jhehiImVAnQJ"
   },
   "source": [
    "### Какое число ДТП случилось в каждый день недели. Разбивка числа происшествий по месяцам"
   ]
  },
  {
   "cell_type": "code",
   "execution_count": 18,
   "metadata": {},
   "outputs": [],
   "source": [
    "# Для начала необходимо преобразовать тип данных даты и времени\n",
    "df_kirov_obl['datetime'] = pd.to_datetime(df_kirov_obl['datetime'])"
   ]
  },
  {
   "cell_type": "code",
   "execution_count": 19,
   "metadata": {},
   "outputs": [],
   "source": [
    "# Вывдем  день и месяц в отдельное поле\n",
    "df_kirov_obl['day'] = df_kirov_obl['datetime'].dt.day_name()\n",
    "df_kirov_obl['month'] = df_kirov_obl['datetime'].dt.month"
   ]
  },
  {
   "cell_type": "markdown",
   "metadata": {},
   "source": [
    "Повторим аналогичные действия для датасета Москвы и Московской области."
   ]
  },
  {
   "cell_type": "code",
   "execution_count": 20,
   "metadata": {},
   "outputs": [],
   "source": [
    "# Для начала необходимо преобразовать тип данных даты и времени\n",
    "df_msc_obl['datetime'] = pd.to_datetime(df_msc_obl['datetime'])"
   ]
  },
  {
   "cell_type": "code",
   "execution_count": 21,
   "metadata": {},
   "outputs": [],
   "source": [
    "# Вывдем  день и месяц в отдельное поле\n",
    "df_msc_obl['day'] = df_msc_obl['datetime'].dt.day_name()\n",
    "df_msc_obl['month'] = df_msc_obl['datetime'].dt.month"
   ]
  },
  {
   "cell_type": "markdown",
   "metadata": {},
   "source": [
    "Теперь выведем информацию о ДТП в разбивке по дням и месяцам для каждого датасета."
   ]
  },
  {
   "cell_type": "code",
   "execution_count": 22,
   "metadata": {},
   "outputs": [
    {
     "data": {
      "text/plain": [
       "Friday       2344\n",
       "Saturday     2246\n",
       "Sunday       2054\n",
       "Monday       2010\n",
       "Tuesday      1988\n",
       "Wednesday    1939\n",
       "Thursday     1936\n",
       "Name: day, dtype: int64"
      ]
     },
     "metadata": {},
     "output_type": "display_data"
    },
    {
     "data": {
      "text/plain": [
       "8     1654\n",
       "7     1635\n",
       "6     1421\n",
       "9     1370\n",
       "10    1333\n",
       "11    1200\n",
       "5     1189\n",
       "12    1164\n",
       "1     1069\n",
       "4      875\n",
       "2      808\n",
       "3      799\n",
       "Name: month, dtype: int64"
      ]
     },
     "execution_count": 22,
     "metadata": {},
     "output_type": "execute_result"
    }
   ],
   "source": [
    "display(df_kirov_obl['day'].value_counts())\n",
    "df_kirov_obl['month'].value_counts()"
   ]
  },
  {
   "cell_type": "markdown",
   "metadata": {},
   "source": [
    "В Кировской области самыми активными месяцами ДТП является летние месяцы (август, Июль, Июнь), а дни - пятница, суботта, воскресенье. Веротянее всего большое количество аварий в период с пятницы по воскресенье связано с потерью бдительности - люди больше отдыхают и чаще отвлекаются. В летние месяцы аварий может быть больше из-за положения солнца (в летние месяцы солнце находится в зените и погода чаще безоблачная), что приводи к частому ослеплению солнечными лучами."
   ]
  },
  {
   "cell_type": "code",
   "execution_count": 23,
   "metadata": {},
   "outputs": [
    {
     "data": {
      "text/plain": [
       "Saturday     7285\n",
       "Friday       7024\n",
       "Monday       6390\n",
       "Thursday     6343\n",
       "Sunday       6318\n",
       "Tuesday      6156\n",
       "Wednesday    6102\n",
       "Name: day, dtype: int64"
      ]
     },
     "metadata": {},
     "output_type": "display_data"
    },
    {
     "data": {
      "text/plain": [
       "8     4787\n",
       "9     4571\n",
       "7     4401\n",
       "6     4354\n",
       "10    4113\n",
       "5     3992\n",
       "12    3732\n",
       "11    3618\n",
       "1     3254\n",
       "4     3172\n",
       "3     2880\n",
       "2     2744\n",
       "Name: month, dtype: int64"
      ]
     },
     "execution_count": 23,
     "metadata": {},
     "output_type": "execute_result"
    }
   ],
   "source": [
    "display(df_msc_obl['day'].value_counts())\n",
    "df_msc_obl['month'].value_counts()"
   ]
  },
  {
   "cell_type": "markdown",
   "metadata": {},
   "source": [
    "В Московской области данные почти похожи, однако происходит смещение по дням и месяцам: больше всего аварий происходило в период июль - сентябрь, а в днях - пятница, суббота и понедельник. Так как в москве движение более плотное и оживленное, то большое количество аварий в москве в понедельник можно объяснить тем, что люди еще не успели вернуться \"в ресурс\" и во время поездки на работу попали в ДТП."
   ]
  },
  {
   "cell_type": "markdown",
   "metadata": {
    "id": "xcu4WsEoCGog"
   },
   "source": [
    "### Категории водителей по стажу. Встречаются ли категории, которые разительно отличаются по числу ДТП"
   ]
  },
  {
   "cell_type": "markdown",
   "metadata": {},
   "source": [
    "Для решения исследовательской задачи необходимо дозагрузить другой датасет, в котором хранится информации об участних ДТП."
   ]
  },
  {
   "cell_type": "code",
   "execution_count": 25,
   "metadata": {},
   "outputs": [],
   "source": [
    "df_kirov_user = pd.read_csv('https://code.s3.yandex.net/datasets/Kirovskaya_oblast_participiants.csv')\n",
    "df_msc_user = pd.read_csv('https://code.s3.yandex.net/datasets/Moscowskaya_oblast_participiants.csv')"
   ]
  },
  {
   "cell_type": "code",
   "execution_count": 26,
   "metadata": {},
   "outputs": [
    {
     "data": {
      "text/html": [
       "<div>\n",
       "<style scoped>\n",
       "    .dataframe tbody tr th:only-of-type {\n",
       "        vertical-align: middle;\n",
       "    }\n",
       "\n",
       "    .dataframe tbody tr th {\n",
       "        vertical-align: top;\n",
       "    }\n",
       "\n",
       "    .dataframe thead th {\n",
       "        text-align: right;\n",
       "    }\n",
       "</style>\n",
       "<table border=\"1\" class=\"dataframe\">\n",
       "  <thead>\n",
       "    <tr style=\"text-align: right;\">\n",
       "      <th></th>\n",
       "      <th>role</th>\n",
       "      <th>gender</th>\n",
       "      <th>violations</th>\n",
       "      <th>health_status</th>\n",
       "      <th>years_of_driving_experience</th>\n",
       "      <th>id</th>\n",
       "    </tr>\n",
       "  </thead>\n",
       "  <tbody>\n",
       "    <tr>\n",
       "      <th>0</th>\n",
       "      <td>Водитель</td>\n",
       "      <td>Мужской</td>\n",
       "      <td>['Несоответствие скорости конкретным условиям ...</td>\n",
       "      <td>Раненый, находящийся (находившийся) на амбулат...</td>\n",
       "      <td>26.0</td>\n",
       "      <td>1983180</td>\n",
       "    </tr>\n",
       "    <tr>\n",
       "      <th>1</th>\n",
       "      <td>Водитель</td>\n",
       "      <td>Мужской</td>\n",
       "      <td>[]</td>\n",
       "      <td>Не пострадал</td>\n",
       "      <td>34.0</td>\n",
       "      <td>2889433</td>\n",
       "    </tr>\n",
       "    <tr>\n",
       "      <th>2</th>\n",
       "      <td>Пассажир</td>\n",
       "      <td>Мужской</td>\n",
       "      <td>[]</td>\n",
       "      <td>Раненый, находящийся (находившийся)  на амбула...</td>\n",
       "      <td>NaN</td>\n",
       "      <td>2591208</td>\n",
       "    </tr>\n",
       "    <tr>\n",
       "      <th>3</th>\n",
       "      <td>Пассажир</td>\n",
       "      <td>Мужской</td>\n",
       "      <td>[]</td>\n",
       "      <td>Раненый, находящийся (находившийся)  на амбула...</td>\n",
       "      <td>NaN</td>\n",
       "      <td>2591208</td>\n",
       "    </tr>\n",
       "    <tr>\n",
       "      <th>4</th>\n",
       "      <td>Водитель</td>\n",
       "      <td>Мужской</td>\n",
       "      <td>[]</td>\n",
       "      <td>Не пострадал</td>\n",
       "      <td>27.0</td>\n",
       "      <td>2577639</td>\n",
       "    </tr>\n",
       "  </tbody>\n",
       "</table>\n",
       "</div>"
      ],
      "text/plain": [
       "       role   gender                                         violations  \\\n",
       "0  Водитель  Мужской  ['Несоответствие скорости конкретным условиям ...   \n",
       "1  Водитель  Мужской                                                 []   \n",
       "2  Пассажир  Мужской                                                 []   \n",
       "3  Пассажир  Мужской                                                 []   \n",
       "4  Водитель  Мужской                                                 []   \n",
       "\n",
       "                                       health_status  \\\n",
       "0  Раненый, находящийся (находившийся) на амбулат...   \n",
       "1                                       Не пострадал   \n",
       "2  Раненый, находящийся (находившийся)  на амбула...   \n",
       "3  Раненый, находящийся (находившийся)  на амбула...   \n",
       "4                                       Не пострадал   \n",
       "\n",
       "   years_of_driving_experience       id  \n",
       "0                         26.0  1983180  \n",
       "1                         34.0  2889433  \n",
       "2                          NaN  2591208  \n",
       "3                          NaN  2591208  \n",
       "4                         27.0  2577639  "
      ]
     },
     "execution_count": 26,
     "metadata": {},
     "output_type": "execute_result"
    }
   ],
   "source": [
    "df_kirov_user.head()"
   ]
  },
  {
   "cell_type": "markdown",
   "metadata": {},
   "source": [
    "Не для всех участников ДТП заполнен стаж, вероятнее всего у них не было прав. Выберем только водителей."
   ]
  },
  {
   "cell_type": "code",
   "execution_count": 28,
   "metadata": {},
   "outputs": [
    {
     "data": {
      "text/html": [
       "<div>\n",
       "<style scoped>\n",
       "    .dataframe tbody tr th:only-of-type {\n",
       "        vertical-align: middle;\n",
       "    }\n",
       "\n",
       "    .dataframe tbody tr th {\n",
       "        vertical-align: top;\n",
       "    }\n",
       "\n",
       "    .dataframe thead th {\n",
       "        text-align: right;\n",
       "    }\n",
       "</style>\n",
       "<table border=\"1\" class=\"dataframe\">\n",
       "  <thead>\n",
       "    <tr style=\"text-align: right;\">\n",
       "      <th></th>\n",
       "      <th>role</th>\n",
       "      <th>gender</th>\n",
       "      <th>violations</th>\n",
       "      <th>health_status</th>\n",
       "      <th>years_of_driving_experience</th>\n",
       "      <th>id</th>\n",
       "    </tr>\n",
       "  </thead>\n",
       "  <tbody>\n",
       "    <tr>\n",
       "      <th>0</th>\n",
       "      <td>Водитель</td>\n",
       "      <td>Мужской</td>\n",
       "      <td>[]</td>\n",
       "      <td>Не пострадал</td>\n",
       "      <td>13.0</td>\n",
       "      <td>2163589</td>\n",
       "    </tr>\n",
       "    <tr>\n",
       "      <th>1</th>\n",
       "      <td>Водитель</td>\n",
       "      <td>Мужской</td>\n",
       "      <td>[]</td>\n",
       "      <td>Не пострадал</td>\n",
       "      <td>13.0</td>\n",
       "      <td>2163589</td>\n",
       "    </tr>\n",
       "    <tr>\n",
       "      <th>2</th>\n",
       "      <td>Водитель</td>\n",
       "      <td>Мужской</td>\n",
       "      <td>['Неправильный выбор дистанции']</td>\n",
       "      <td>Не пострадал</td>\n",
       "      <td>5.0</td>\n",
       "      <td>2155398</td>\n",
       "    </tr>\n",
       "    <tr>\n",
       "      <th>3</th>\n",
       "      <td>Водитель</td>\n",
       "      <td>Мужской</td>\n",
       "      <td>['Неправильный выбор дистанции']</td>\n",
       "      <td>Не пострадал</td>\n",
       "      <td>5.0</td>\n",
       "      <td>2155398</td>\n",
       "    </tr>\n",
       "    <tr>\n",
       "      <th>4</th>\n",
       "      <td>Водитель</td>\n",
       "      <td>Женский</td>\n",
       "      <td>[]</td>\n",
       "      <td>Не пострадал</td>\n",
       "      <td>11.0</td>\n",
       "      <td>2163319</td>\n",
       "    </tr>\n",
       "    <tr>\n",
       "      <th>...</th>\n",
       "      <td>...</td>\n",
       "      <td>...</td>\n",
       "      <td>...</td>\n",
       "      <td>...</td>\n",
       "      <td>...</td>\n",
       "      <td>...</td>\n",
       "    </tr>\n",
       "    <tr>\n",
       "      <th>82157</th>\n",
       "      <td>Водитель</td>\n",
       "      <td>Мужской</td>\n",
       "      <td>['Несоответствие скорости конкретным условиям ...</td>\n",
       "      <td>Не пострадал</td>\n",
       "      <td>30.0</td>\n",
       "      <td>2651606</td>\n",
       "    </tr>\n",
       "    <tr>\n",
       "      <th>82180</th>\n",
       "      <td>Водитель</td>\n",
       "      <td>Мужской</td>\n",
       "      <td>[]</td>\n",
       "      <td>Не пострадал</td>\n",
       "      <td>11.0</td>\n",
       "      <td>2140870</td>\n",
       "    </tr>\n",
       "    <tr>\n",
       "      <th>82181</th>\n",
       "      <td>Водитель</td>\n",
       "      <td>Мужской</td>\n",
       "      <td>[]</td>\n",
       "      <td>Не пострадал</td>\n",
       "      <td>11.0</td>\n",
       "      <td>2140870</td>\n",
       "    </tr>\n",
       "    <tr>\n",
       "      <th>82221</th>\n",
       "      <td>Водитель</td>\n",
       "      <td>Мужской</td>\n",
       "      <td>[]</td>\n",
       "      <td>Не пострадал</td>\n",
       "      <td>33.0</td>\n",
       "      <td>2145783</td>\n",
       "    </tr>\n",
       "    <tr>\n",
       "      <th>94829</th>\n",
       "      <td>Водитель</td>\n",
       "      <td>NaN</td>\n",
       "      <td>[]</td>\n",
       "      <td>Не пострадал</td>\n",
       "      <td>NaN</td>\n",
       "      <td>2151028</td>\n",
       "    </tr>\n",
       "  </tbody>\n",
       "</table>\n",
       "<p>64516 rows × 6 columns</p>\n",
       "</div>"
      ],
      "text/plain": [
       "           role   gender                                         violations  \\\n",
       "0      Водитель  Мужской                                                 []   \n",
       "1      Водитель  Мужской                                                 []   \n",
       "2      Водитель  Мужской                   ['Неправильный выбор дистанции']   \n",
       "3      Водитель  Мужской                   ['Неправильный выбор дистанции']   \n",
       "4      Водитель  Женский                                                 []   \n",
       "...         ...      ...                                                ...   \n",
       "82157  Водитель  Мужской  ['Несоответствие скорости конкретным условиям ...   \n",
       "82180  Водитель  Мужской                                                 []   \n",
       "82181  Водитель  Мужской                                                 []   \n",
       "82221  Водитель  Мужской                                                 []   \n",
       "94829  Водитель      NaN                                                 []   \n",
       "\n",
       "      health_status  years_of_driving_experience       id  \n",
       "0      Не пострадал                         13.0  2163589  \n",
       "1      Не пострадал                         13.0  2163589  \n",
       "2      Не пострадал                          5.0  2155398  \n",
       "3      Не пострадал                          5.0  2155398  \n",
       "4      Не пострадал                         11.0  2163319  \n",
       "...             ...                          ...      ...  \n",
       "82157  Не пострадал                         30.0  2651606  \n",
       "82180  Не пострадал                         11.0  2140870  \n",
       "82181  Не пострадал                         11.0  2140870  \n",
       "82221  Не пострадал                         33.0  2145783  \n",
       "94829  Не пострадал                          NaN  2151028  \n",
       "\n",
       "[64516 rows x 6 columns]"
      ]
     },
     "execution_count": 28,
     "metadata": {},
     "output_type": "execute_result"
    }
   ],
   "source": [
    "df_kirov_user[df_kirov_user['role']=='Водитель']\n",
    "df_msc_user[df_msc_user['role']=='Водитель']"
   ]
  },
  {
   "cell_type": "markdown",
   "metadata": {},
   "source": [
    "Из полученных данных заметно, чо есть водители у которых нет прав, добавим также это условие и создадим новые датасеты."
   ]
  },
  {
   "cell_type": "code",
   "execution_count": 29,
   "metadata": {},
   "outputs": [],
   "source": [
    "df_kirov_prav = df_kirov_user[(df_kirov_user['role']=='Водитель') & df_kirov_user['years_of_driving_experience'].notna()]\n",
    "df_msc_prav = df_msc_user[(df_msc_user['role']=='Водитель') & df_msc_user['years_of_driving_experience'].notna()]"
   ]
  },
  {
   "cell_type": "markdown",
   "metadata": {},
   "source": [
    "Теперь категоризуем водителей с правами по опыту. Чтобы создать единые группы возьмем промежуток в 5 лет."
   ]
  },
  {
   "cell_type": "code",
   "execution_count": 31,
   "metadata": {},
   "outputs": [
    {
     "name": "stderr",
     "output_type": "stream",
     "text": [
      "/tmp/ipykernel_31/3446042725.py:1: SettingWithCopyWarning: \n",
      "A value is trying to be set on a copy of a slice from a DataFrame.\n",
      "Try using .loc[row_indexer,col_indexer] = value instead\n",
      "\n",
      "See the caveats in the documentation: https://pandas.pydata.org/pandas-docs/stable/user_guide/indexing.html#returning-a-view-versus-a-copy\n",
      "  df_kirov_prav['category'] = pd.cut(df_kirov_prav['years_of_driving_experience'], [0,5,10,15,20,25,30,35,40,50,60,70])\n",
      "/tmp/ipykernel_31/3446042725.py:2: SettingWithCopyWarning: \n",
      "A value is trying to be set on a copy of a slice from a DataFrame.\n",
      "Try using .loc[row_indexer,col_indexer] = value instead\n",
      "\n",
      "See the caveats in the documentation: https://pandas.pydata.org/pandas-docs/stable/user_guide/indexing.html#returning-a-view-versus-a-copy\n",
      "  df_msc_prav['category'] = pd.cut(df_msc_prav['years_of_driving_experience'], [0,5,10,15,20,25,30,35,40,50,60,70])\n"
     ]
    }
   ],
   "source": [
    "df_kirov_prav['category'] = pd.cut(df_kirov_prav['years_of_driving_experience'], [0,5,10,15,20,25,30,35,40,50,60,70])\n",
    "df_msc_prav['category'] = pd.cut(df_msc_prav['years_of_driving_experience'], [0,5,10,15,20,25,30,35,40,50,60,70])"
   ]
  },
  {
   "cell_type": "code",
   "execution_count": 32,
   "metadata": {},
   "outputs": [
    {
     "data": {
      "text/plain": [
       "(0, 5]      3533\n",
       "(5, 10]     3238\n",
       "(10, 15]    2769\n",
       "(15, 20]    2280\n",
       "(20, 25]    1587\n",
       "(25, 30]    1137\n",
       "(30, 35]     921\n",
       "(35, 40]     697\n",
       "(40, 50]     629\n",
       "(50, 60]     106\n",
       "(60, 70]      12\n",
       "Name: category, dtype: int64"
      ]
     },
     "metadata": {},
     "output_type": "display_data"
    },
    {
     "data": {
      "text/plain": [
       "(0, 5]      11919\n",
       "(5, 10]     11853\n",
       "(10, 15]    10037\n",
       "(15, 20]     9085\n",
       "(20, 25]     6004\n",
       "(25, 30]     4007\n",
       "(30, 35]     2713\n",
       "(35, 40]     2051\n",
       "(40, 50]     1600\n",
       "(50, 60]      361\n",
       "(60, 70]       49\n",
       "Name: category, dtype: int64"
      ]
     },
     "execution_count": 32,
     "metadata": {},
     "output_type": "execute_result"
    }
   ],
   "source": [
    "display(df_kirov_prav['category'].value_counts())\n",
    "df_msc_prav['category'].value_counts()"
   ]
  },
  {
   "cell_type": "markdown",
   "metadata": {},
   "source": [
    "Разбивка на категории по водительскому стажу демоснтрирует уменьшение количество ДТП с увеличением срока вождения, однако чтобы лучше оценить частоту ДТП в категориях необходимо посмотреть долю аварий от общего числа водителе со стажем. В рамках данного задания это не представляется возможным"
   ]
  },
  {
   "cell_type": "markdown",
   "metadata": {
    "id": "muKT0SVzGKtA"
   },
   "source": [
    "### Как менялось число аварий в Кировской (Киров входит в численность) и Московской области (Москва исключена). Где аварий больше в относительном выражении — в пересчёте на 100 тысяч жителей"
   ]
  },
  {
   "cell_type": "code",
   "execution_count": null,
   "metadata": {},
   "outputs": [],
   "source": []
  },
  {
   "cell_type": "markdown",
   "metadata": {
    "id": "mk1hihKDgKC3"
   },
   "source": [
    "# Итоговые выводы\n"
   ]
  }
 ],
 "metadata": {
  "ExecuteTimeLog": [
   {
    "duration": 804,
    "start_time": "2025-04-05T07:45:40.572Z"
   },
   {
    "duration": 2713,
    "start_time": "2025-04-05T07:46:23.856Z"
   },
   {
    "duration": 1594,
    "start_time": "2025-04-05T07:50:06.653Z"
   },
   {
    "duration": 63,
    "start_time": "2025-04-05T07:54:07.753Z"
   },
   {
    "duration": 8,
    "start_time": "2025-04-05T07:54:14.659Z"
   },
   {
    "duration": 4,
    "start_time": "2025-04-05T07:56:12.068Z"
   },
   {
    "duration": 16,
    "start_time": "2025-04-05T08:20:12.019Z"
   },
   {
    "duration": 17,
    "start_time": "2025-04-05T08:20:20.845Z"
   },
   {
    "duration": 32,
    "start_time": "2025-04-05T08:50:56.055Z"
   },
   {
    "duration": 37,
    "start_time": "2025-04-05T08:57:38.060Z"
   },
   {
    "duration": 22,
    "start_time": "2025-04-05T09:05:23.811Z"
   },
   {
    "duration": 35,
    "start_time": "2025-04-05T09:10:46.137Z"
   },
   {
    "duration": 96,
    "start_time": "2025-04-05T09:10:52.836Z"
   },
   {
    "duration": 22,
    "start_time": "2025-04-05T09:11:07.893Z"
   },
   {
    "duration": 21,
    "start_time": "2025-04-05T09:13:05.786Z"
   },
   {
    "duration": 26,
    "start_time": "2025-04-05T09:18:53.374Z"
   },
   {
    "duration": 1334,
    "start_time": "2025-04-05T09:53:52.254Z"
   },
   {
    "duration": 8,
    "start_time": "2025-04-05T09:54:07.468Z"
   },
   {
    "duration": 11,
    "start_time": "2025-04-05T09:55:41.250Z"
   },
   {
    "duration": 18,
    "start_time": "2025-04-05T09:56:23.854Z"
   },
   {
    "duration": 21,
    "start_time": "2025-04-05T09:57:40.099Z"
   },
   {
    "duration": 10,
    "start_time": "2025-04-05T09:58:58.955Z"
   },
   {
    "duration": 13,
    "start_time": "2025-04-05T10:03:57.747Z"
   },
   {
    "duration": 377,
    "start_time": "2025-04-05T10:09:01.707Z"
   },
   {
    "duration": 1019,
    "start_time": "2025-04-05T10:09:36.536Z"
   },
   {
    "duration": 9,
    "start_time": "2025-04-05T10:09:49.339Z"
   },
   {
    "duration": 97,
    "start_time": "2025-04-05T10:10:52.610Z"
   },
   {
    "duration": 29,
    "start_time": "2025-04-05T10:12:21.347Z"
   },
   {
    "duration": 17,
    "start_time": "2025-04-05T10:15:39.955Z"
   },
   {
    "duration": 16,
    "start_time": "2025-04-05T10:16:21.687Z"
   },
   {
    "duration": 11,
    "start_time": "2025-04-05T10:20:00.412Z"
   },
   {
    "duration": 13,
    "start_time": "2025-04-05T10:20:40.568Z"
   }
  ],
  "colab": {
   "provenance": [],
   "toc_visible": true
  },
  "kernelspec": {
   "display_name": "Python 3 (ipykernel)",
   "language": "python",
   "name": "python3"
  },
  "language_info": {
   "codemirror_mode": {
    "name": "ipython",
    "version": 3
   },
   "file_extension": ".py",
   "mimetype": "text/x-python",
   "name": "python",
   "nbconvert_exporter": "python",
   "pygments_lexer": "ipython3",
   "version": "3.9.5"
  },
  "toc": {
   "base_numbering": 1,
   "nav_menu": {},
   "number_sections": true,
   "sideBar": true,
   "skip_h1_title": true,
   "title_cell": "Table of Contents",
   "title_sidebar": "Contents",
   "toc_cell": false,
   "toc_position": {},
   "toc_section_display": true,
   "toc_window_display": false
  }
 },
 "nbformat": 4,
 "nbformat_minor": 1
}
