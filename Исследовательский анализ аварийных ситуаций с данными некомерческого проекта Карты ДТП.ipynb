{
 "cells": [
  {
   "cell_type": "markdown",
   "metadata": {
    "deletable": false,
    "editable": false,
    "id": "2sG7DFsm7dKL",
    "tags": [
     "5b31f380-eb56-4fbf-8817-01b208ced35d"
    ]
   },
   "source": [
    "\n",
    "# Кейс спринта\n",
    "\n",
    "\n",
    "В этом кейсе вы будете работать с данными «Карты ДТП» — некоммерческого проекта, посвящённого проблеме дорожно-транспортных происшествий в России. Вы могли знакомиться с этим проектом в Песочнице прошлого спринта.\n",
    "\n",
    "Заказчик предлагает продолжить исследование данных и изучить взаимосвязи. Особенно заказчика интересует, с чем может быть связана аварийность на дорогах.\n",
    "\n",
    "## Что нужно сделать\n",
    "Выполнить предобработку для удобства работы с данными: выбрать оптимальные названия столбцов и типы данных. Вам также понадобится дать ответы на вопросы заказчика.\n",
    "\n",
    "Если вы не работали с прошлой Песочницей, то всё равно можете выполнить этот проект. Для удобства советуем изменить названия столбцов датафрейма, используя код ниже:\n",
    "\n",
    "```\n",
    "import pandas as pd\n",
    "\n",
    "df = pd.read_csv('путь до папки с файлами/Kirovskaya_oblast.csv')\n",
    "df.columns = [c.replace('properties.', '') for c in df.columns]\n",
    "\n",
    "```\n",
    "\n",
    "\n",
    "### Вопросы заказчика\n",
    "\n",
    "1. Как распределено количество участников ДТП и почему? Встречаются ли аномальные значения или выбросы? Если да, то с чем они могут быть связаны? Для числа участников найдите наиболее типичное значение. По желанию можете проверить распределения и других столбцов.\n",
    "\n",
    "2. Предположите, между какими столбцами в датасете `Kirovskaya_oblast.csv` высокая корреляция. Проверьте своё предположение.  \n",
    "\n",
    "3. Как связаны категории аварий и погодные условия?\n",
    "\n",
    "4. Постройте процентную разбивку аварий по видам освещённости. При этом учитывайте пол участника и сделайте расчёты для мужчин и женщин отдельно.\n",
    "\n",
    "5. Исследуйте, чем отличаются аварии без пострадавших от тех, в которых был один пострадавший или более.\n",
    "\n",
    "6. Сделайте общий вывод о связи аварийности с другими факторами. Какие рекомендации вы можете дать заказчику?\n",
    "\n",
    "## Описание данных\n",
    "\n",
    "Датасет `Kirovskaya_oblast.csv` содержит информацию о ДТП в Кировской области:\n",
    "\n",
    "* `geometry.coordinates` — координаты ДТП;\n",
    "\n",
    "* `id` — идентификатор ДТП;\n",
    "\n",
    "* `properties.tags` — тег происшествия;\n",
    "\n",
    "* `properties.light` — освещённость;\n",
    "\n",
    "* `properties.point.lat` — широта;\n",
    "\n",
    "* `properties.point.long` — долгота;\n",
    "\n",
    "* `properties.nearby` — ближайшие объекты;\n",
    "\n",
    "* `properties.region` — регион;\n",
    "\n",
    "* `properties.scheme` — схема ДТП;\n",
    "\n",
    "* `properties.address` — ближайший адрес;\n",
    "\n",
    "* `properties.weather` — погода;\n",
    "\n",
    "* `properties.category` — категория ДТП;\n",
    "\n",
    "* `properties.datetime` — дата и время ДТП;\n",
    "\n",
    "* `properties.injured_count` — число пострадавших;\n",
    "\n",
    "* `properties.parent_region` — область;\n",
    "\n",
    "* `properties.road_conditions` — состояние покрытия;\n",
    "\n",
    "* `properties.participants_count` — число участников;\n",
    "\n",
    "* `properties.participant_categories` — категории участников.\n",
    "\n",
    "`Kirovskaya_oblast_participiants.csv` хранит сведения об участниках:\n",
    "\n",
    "* `role` — роль;\n",
    "\n",
    "* `gender` — пол;\n",
    "\n",
    "* `violations` — какие правила дорожного движения были нарушены конкретным участником;\n",
    "\n",
    "* `health_status` — состояние здоровья после ДТП;\n",
    "\n",
    "* `years_of_driving_experience` — число лет опыта;\n",
    "\n",
    "* `id` — идентификатор ДТП."
   ]
  },
  {
   "cell_type": "code",
   "execution_count": 1,
   "metadata": {
    "id": "_y879Aro8ZB-"
   },
   "outputs": [],
   "source": [
    "# Загрузите данные и выполните небольшую предобработку\n",
    "import pandas as pd\n",
    "\n",
    "df = pd.read_csv('https://code.s3.yandex.net/datasets/Kirovskaya_oblast.csv')\n",
    "df.columns = [c.replace('properties.', '') for c in df.columns]"
   ]
  },
  {
   "cell_type": "code",
   "execution_count": 2,
   "metadata": {},
   "outputs": [
    {
     "name": "stdout",
     "output_type": "stream",
     "text": [
      "<class 'pandas.core.frame.DataFrame'>\n",
      "RangeIndex: 14517 entries, 0 to 14516\n",
      "Data columns (total 18 columns):\n",
      " #   Column                  Non-Null Count  Dtype  \n",
      "---  ------                  --------------  -----  \n",
      " 0   geometry.coordinates    14517 non-null  object \n",
      " 1   id                      14517 non-null  int64  \n",
      " 2   tags                    14517 non-null  object \n",
      " 3   light                   14517 non-null  object \n",
      " 4   point.lat               14485 non-null  float64\n",
      " 5   point.long              14485 non-null  float64\n",
      " 6   nearby                  14517 non-null  object \n",
      " 7   region                  14517 non-null  object \n",
      " 8   scheme                  13380 non-null  float64\n",
      " 9   address                 13843 non-null  object \n",
      " 10  weather                 14517 non-null  object \n",
      " 11  category                14517 non-null  object \n",
      " 12  datetime                14517 non-null  object \n",
      " 13  injured_count           14517 non-null  int64  \n",
      " 14  parent_region           14517 non-null  object \n",
      " 15  road_conditions         14517 non-null  object \n",
      " 16  participants_count      14517 non-null  int64  \n",
      " 17  participant_categories  14517 non-null  object \n",
      "dtypes: float64(3), int64(3), object(12)\n",
      "memory usage: 2.0+ MB\n"
     ]
    }
   ],
   "source": [
    "df.info()"
   ]
  },
  {
   "cell_type": "code",
   "execution_count": 3,
   "metadata": {},
   "outputs": [
    {
     "data": {
      "text/html": [
       "<div>\n",
       "<style scoped>\n",
       "    .dataframe tbody tr th:only-of-type {\n",
       "        vertical-align: middle;\n",
       "    }\n",
       "\n",
       "    .dataframe tbody tr th {\n",
       "        vertical-align: top;\n",
       "    }\n",
       "\n",
       "    .dataframe thead th {\n",
       "        text-align: right;\n",
       "    }\n",
       "</style>\n",
       "<table border=\"1\" class=\"dataframe\">\n",
       "  <thead>\n",
       "    <tr style=\"text-align: right;\">\n",
       "      <th></th>\n",
       "      <th>geometry.coordinates</th>\n",
       "      <th>id</th>\n",
       "      <th>tags</th>\n",
       "      <th>light</th>\n",
       "      <th>point.lat</th>\n",
       "      <th>point.long</th>\n",
       "      <th>nearby</th>\n",
       "      <th>region</th>\n",
       "      <th>scheme</th>\n",
       "      <th>address</th>\n",
       "      <th>weather</th>\n",
       "      <th>category</th>\n",
       "      <th>datetime</th>\n",
       "      <th>injured_count</th>\n",
       "      <th>parent_region</th>\n",
       "      <th>road_conditions</th>\n",
       "      <th>participants_count</th>\n",
       "      <th>participant_categories</th>\n",
       "    </tr>\n",
       "  </thead>\n",
       "  <tbody>\n",
       "    <tr>\n",
       "      <th>0</th>\n",
       "      <td>[47.875603, 57.24379]</td>\n",
       "      <td>1983180</td>\n",
       "      <td>Дорожно-транспортные происшествия</td>\n",
       "      <td>Светлое время суток</td>\n",
       "      <td>57.243790</td>\n",
       "      <td>47.875603</td>\n",
       "      <td>[]</td>\n",
       "      <td>Яранский район</td>\n",
       "      <td>600.0</td>\n",
       "      <td>Р-176 Вятка Чебоксары - Йошкар-Ола - Киров - С...</td>\n",
       "      <td>['Дождь']</td>\n",
       "      <td>Опрокидывание</td>\n",
       "      <td>2017-07-01 18:00:00</td>\n",
       "      <td>1</td>\n",
       "      <td>Кировская область</td>\n",
       "      <td>['Мокрое']</td>\n",
       "      <td>3</td>\n",
       "      <td>['Все участники']</td>\n",
       "    </tr>\n",
       "    <tr>\n",
       "      <th>1</th>\n",
       "      <td>[47.87903, 57.304807]</td>\n",
       "      <td>2889433</td>\n",
       "      <td>Дорожно-транспортные происшествия</td>\n",
       "      <td>Светлое время суток</td>\n",
       "      <td>57.304807</td>\n",
       "      <td>47.879030</td>\n",
       "      <td>['Административные здания', 'Нерегулируемый пе...</td>\n",
       "      <td>Яранский район</td>\n",
       "      <td>710.0</td>\n",
       "      <td>г Яранск, ул Кирова, 10</td>\n",
       "      <td>['Ясно']</td>\n",
       "      <td>Наезд на пешехода</td>\n",
       "      <td>2023-09-12 17:10:00</td>\n",
       "      <td>1</td>\n",
       "      <td>Кировская область</td>\n",
       "      <td>['Сухое', 'Отсутствие, плохая различимость гор...</td>\n",
       "      <td>2</td>\n",
       "      <td>['Все участники', 'Пешеходы']</td>\n",
       "    </tr>\n",
       "    <tr>\n",
       "      <th>2</th>\n",
       "      <td>[47.840781, 57.297156]</td>\n",
       "      <td>2591208</td>\n",
       "      <td>Дорожно-транспортные происшествия</td>\n",
       "      <td>Сумерки</td>\n",
       "      <td>57.297156</td>\n",
       "      <td>47.840781</td>\n",
       "      <td>['Жилые дома индивидуальной застройки', 'Нерег...</td>\n",
       "      <td>Яранский район</td>\n",
       "      <td>NaN</td>\n",
       "      <td>г Яранск, ул Чапаева, 80</td>\n",
       "      <td>['Пасмурно']</td>\n",
       "      <td>Съезд с дороги</td>\n",
       "      <td>2021-07-02 21:25:00</td>\n",
       "      <td>1</td>\n",
       "      <td>Кировская область</td>\n",
       "      <td>['Мокрое']</td>\n",
       "      <td>1</td>\n",
       "      <td>['Все участники']</td>\n",
       "    </tr>\n",
       "    <tr>\n",
       "      <th>3</th>\n",
       "      <td>[47.834365, 57.244775]</td>\n",
       "      <td>2577639</td>\n",
       "      <td>Дорожно-транспортные происшествия</td>\n",
       "      <td>Светлое время суток</td>\n",
       "      <td>57.244775</td>\n",
       "      <td>47.834365</td>\n",
       "      <td>['Жилые дома индивидуальной застройки']</td>\n",
       "      <td>Яранский район</td>\n",
       "      <td>200.0</td>\n",
       "      <td>м Знаменка, ул Кирова, 15</td>\n",
       "      <td>['Пасмурно']</td>\n",
       "      <td>Столкновение</td>\n",
       "      <td>2021-05-31 18:55:00</td>\n",
       "      <td>1</td>\n",
       "      <td>Кировская область</td>\n",
       "      <td>['Сухое']</td>\n",
       "      <td>2</td>\n",
       "      <td>['Все участники', 'Мотоциклисты']</td>\n",
       "    </tr>\n",
       "    <tr>\n",
       "      <th>4</th>\n",
       "      <td>[47.968197, 57.357738]</td>\n",
       "      <td>1981026</td>\n",
       "      <td>Дорожно-транспортные происшествия</td>\n",
       "      <td>Светлое время суток</td>\n",
       "      <td>57.357738</td>\n",
       "      <td>47.968197</td>\n",
       "      <td>['Нерегулируемый перекрёсток неравнозначных ул...</td>\n",
       "      <td>Яранский район</td>\n",
       "      <td>NaN</td>\n",
       "      <td>с/п Никольское, Киров-Советск- Яранск - подъез...</td>\n",
       "      <td>['Ясно']</td>\n",
       "      <td>Опрокидывание</td>\n",
       "      <td>2018-05-16 16:25:00</td>\n",
       "      <td>2</td>\n",
       "      <td>Кировская область</td>\n",
       "      <td>['Сухое', 'Отсутствие, плохая различимость гор...</td>\n",
       "      <td>2</td>\n",
       "      <td>['Все участники']</td>\n",
       "    </tr>\n",
       "    <tr>\n",
       "      <th>...</th>\n",
       "      <td>...</td>\n",
       "      <td>...</td>\n",
       "      <td>...</td>\n",
       "      <td>...</td>\n",
       "      <td>...</td>\n",
       "      <td>...</td>\n",
       "      <td>...</td>\n",
       "      <td>...</td>\n",
       "      <td>...</td>\n",
       "      <td>...</td>\n",
       "      <td>...</td>\n",
       "      <td>...</td>\n",
       "      <td>...</td>\n",
       "      <td>...</td>\n",
       "      <td>...</td>\n",
       "      <td>...</td>\n",
       "      <td>...</td>\n",
       "      <td>...</td>\n",
       "    </tr>\n",
       "    <tr>\n",
       "      <th>14512</th>\n",
       "      <td>[51.090943, 56.233566]</td>\n",
       "      <td>1981076</td>\n",
       "      <td>Дорожно-транспортные происшествия</td>\n",
       "      <td>Светлое время суток</td>\n",
       "      <td>56.233566</td>\n",
       "      <td>51.090943</td>\n",
       "      <td>['Жилые дома индивидуальной застройки']</td>\n",
       "      <td>Вятско-Полянский район</td>\n",
       "      <td>NaN</td>\n",
       "      <td>г Вятские Поляны, ул Набережная, 6</td>\n",
       "      <td>['Ясно']</td>\n",
       "      <td>Иной вид ДТП</td>\n",
       "      <td>2018-05-17 06:20:00</td>\n",
       "      <td>1</td>\n",
       "      <td>Кировская область</td>\n",
       "      <td>['Сухое']</td>\n",
       "      <td>1</td>\n",
       "      <td>['Все участники', 'Мотоциклисты']</td>\n",
       "    </tr>\n",
       "    <tr>\n",
       "      <th>14513</th>\n",
       "      <td>[50.8911, 56.1978]</td>\n",
       "      <td>1985930</td>\n",
       "      <td>Дорожно-транспортные происшествия</td>\n",
       "      <td>Сумерки</td>\n",
       "      <td>56.197800</td>\n",
       "      <td>50.891100</td>\n",
       "      <td>[]</td>\n",
       "      <td>Вятско-Полянский район</td>\n",
       "      <td>330.0</td>\n",
       "      <td>NaN</td>\n",
       "      <td>['Ясно']</td>\n",
       "      <td>Столкновение</td>\n",
       "      <td>2019-05-30 18:35:00</td>\n",
       "      <td>1</td>\n",
       "      <td>Кировская область</td>\n",
       "      <td>['Сухое']</td>\n",
       "      <td>2</td>\n",
       "      <td>['Все участники', 'Дети']</td>\n",
       "    </tr>\n",
       "    <tr>\n",
       "      <th>14514</th>\n",
       "      <td>[51.079817, 56.22997]</td>\n",
       "      <td>1985949</td>\n",
       "      <td>Дорожно-транспортные происшествия</td>\n",
       "      <td>Светлое время суток</td>\n",
       "      <td>56.229970</td>\n",
       "      <td>51.079817</td>\n",
       "      <td>['Многоквартирные жилые дома', 'Выезд с прилег...</td>\n",
       "      <td>Вятско-Полянский район</td>\n",
       "      <td>NaN</td>\n",
       "      <td>г Вятские Поляны, ул Урицкого, 20</td>\n",
       "      <td>['Ясно']</td>\n",
       "      <td>Столкновение</td>\n",
       "      <td>2019-05-13 09:20:00</td>\n",
       "      <td>1</td>\n",
       "      <td>Кировская область</td>\n",
       "      <td>['Сухое', 'Отсутствие, плохая различимость гор...</td>\n",
       "      <td>2</td>\n",
       "      <td>['Все участники']</td>\n",
       "    </tr>\n",
       "    <tr>\n",
       "      <th>14515</th>\n",
       "      <td>[51.165556, 56.152222]</td>\n",
       "      <td>1986807</td>\n",
       "      <td>Дорожно-транспортные происшествия</td>\n",
       "      <td>Светлое время суток</td>\n",
       "      <td>56.152222</td>\n",
       "      <td>51.165556</td>\n",
       "      <td>['Многоквартирные жилые дома', 'Жилые дома инд...</td>\n",
       "      <td>Вятско-Полянский район</td>\n",
       "      <td>500.0</td>\n",
       "      <td>г Сосновка, ул Пролетарская, 13</td>\n",
       "      <td>['Ясно']</td>\n",
       "      <td>Столкновение</td>\n",
       "      <td>2015-08-12 17:05:00</td>\n",
       "      <td>3</td>\n",
       "      <td>Кировская область</td>\n",
       "      <td>['Сухое', 'Отсутствие, плохая различимость гор...</td>\n",
       "      <td>3</td>\n",
       "      <td>['Все участники']</td>\n",
       "    </tr>\n",
       "    <tr>\n",
       "      <th>14516</th>\n",
       "      <td>[51.1217, 56.2153]</td>\n",
       "      <td>1987515</td>\n",
       "      <td>Дорожно-транспортные происшествия</td>\n",
       "      <td>Светлое время суток</td>\n",
       "      <td>56.215300</td>\n",
       "      <td>51.121700</td>\n",
       "      <td>['Выезд с прилегающей территории']</td>\n",
       "      <td>Вятско-Полянский район</td>\n",
       "      <td>130.0</td>\n",
       "      <td>Вятские Поляны - Сосновка, 1 км</td>\n",
       "      <td>['Ясно']</td>\n",
       "      <td>Столкновение</td>\n",
       "      <td>2016-08-22 18:05:00</td>\n",
       "      <td>1</td>\n",
       "      <td>Кировская область</td>\n",
       "      <td>['Сухое']</td>\n",
       "      <td>2</td>\n",
       "      <td>['Все участники']</td>\n",
       "    </tr>\n",
       "  </tbody>\n",
       "</table>\n",
       "<p>14517 rows × 18 columns</p>\n",
       "</div>"
      ],
      "text/plain": [
       "         geometry.coordinates       id                               tags  \\\n",
       "0       [47.875603, 57.24379]  1983180  Дорожно-транспортные происшествия   \n",
       "1       [47.87903, 57.304807]  2889433  Дорожно-транспортные происшествия   \n",
       "2      [47.840781, 57.297156]  2591208  Дорожно-транспортные происшествия   \n",
       "3      [47.834365, 57.244775]  2577639  Дорожно-транспортные происшествия   \n",
       "4      [47.968197, 57.357738]  1981026  Дорожно-транспортные происшествия   \n",
       "...                       ...      ...                                ...   \n",
       "14512  [51.090943, 56.233566]  1981076  Дорожно-транспортные происшествия   \n",
       "14513      [50.8911, 56.1978]  1985930  Дорожно-транспортные происшествия   \n",
       "14514   [51.079817, 56.22997]  1985949  Дорожно-транспортные происшествия   \n",
       "14515  [51.165556, 56.152222]  1986807  Дорожно-транспортные происшествия   \n",
       "14516      [51.1217, 56.2153]  1987515  Дорожно-транспортные происшествия   \n",
       "\n",
       "                     light  point.lat  point.long  \\\n",
       "0      Светлое время суток  57.243790   47.875603   \n",
       "1      Светлое время суток  57.304807   47.879030   \n",
       "2                  Сумерки  57.297156   47.840781   \n",
       "3      Светлое время суток  57.244775   47.834365   \n",
       "4      Светлое время суток  57.357738   47.968197   \n",
       "...                    ...        ...         ...   \n",
       "14512  Светлое время суток  56.233566   51.090943   \n",
       "14513              Сумерки  56.197800   50.891100   \n",
       "14514  Светлое время суток  56.229970   51.079817   \n",
       "14515  Светлое время суток  56.152222   51.165556   \n",
       "14516  Светлое время суток  56.215300   51.121700   \n",
       "\n",
       "                                                  nearby  \\\n",
       "0                                                     []   \n",
       "1      ['Административные здания', 'Нерегулируемый пе...   \n",
       "2      ['Жилые дома индивидуальной застройки', 'Нерег...   \n",
       "3                ['Жилые дома индивидуальной застройки']   \n",
       "4      ['Нерегулируемый перекрёсток неравнозначных ул...   \n",
       "...                                                  ...   \n",
       "14512            ['Жилые дома индивидуальной застройки']   \n",
       "14513                                                 []   \n",
       "14514  ['Многоквартирные жилые дома', 'Выезд с прилег...   \n",
       "14515  ['Многоквартирные жилые дома', 'Жилые дома инд...   \n",
       "14516                 ['Выезд с прилегающей территории']   \n",
       "\n",
       "                       region  scheme  \\\n",
       "0              Яранский район   600.0   \n",
       "1              Яранский район   710.0   \n",
       "2              Яранский район     NaN   \n",
       "3              Яранский район   200.0   \n",
       "4              Яранский район     NaN   \n",
       "...                       ...     ...   \n",
       "14512  Вятско-Полянский район     NaN   \n",
       "14513  Вятско-Полянский район   330.0   \n",
       "14514  Вятско-Полянский район     NaN   \n",
       "14515  Вятско-Полянский район   500.0   \n",
       "14516  Вятско-Полянский район   130.0   \n",
       "\n",
       "                                                 address       weather  \\\n",
       "0      Р-176 Вятка Чебоксары - Йошкар-Ола - Киров - С...     ['Дождь']   \n",
       "1                                г Яранск, ул Кирова, 10      ['Ясно']   \n",
       "2                               г Яранск, ул Чапаева, 80  ['Пасмурно']   \n",
       "3                              м Знаменка, ул Кирова, 15  ['Пасмурно']   \n",
       "4      с/п Никольское, Киров-Советск- Яранск - подъез...      ['Ясно']   \n",
       "...                                                  ...           ...   \n",
       "14512                 г Вятские Поляны, ул Набережная, 6      ['Ясно']   \n",
       "14513                                                NaN      ['Ясно']   \n",
       "14514                  г Вятские Поляны, ул Урицкого, 20      ['Ясно']   \n",
       "14515                    г Сосновка, ул Пролетарская, 13      ['Ясно']   \n",
       "14516                    Вятские Поляны - Сосновка, 1 км      ['Ясно']   \n",
       "\n",
       "                category             datetime  injured_count  \\\n",
       "0          Опрокидывание  2017-07-01 18:00:00              1   \n",
       "1      Наезд на пешехода  2023-09-12 17:10:00              1   \n",
       "2         Съезд с дороги  2021-07-02 21:25:00              1   \n",
       "3           Столкновение  2021-05-31 18:55:00              1   \n",
       "4          Опрокидывание  2018-05-16 16:25:00              2   \n",
       "...                  ...                  ...            ...   \n",
       "14512       Иной вид ДТП  2018-05-17 06:20:00              1   \n",
       "14513       Столкновение  2019-05-30 18:35:00              1   \n",
       "14514       Столкновение  2019-05-13 09:20:00              1   \n",
       "14515       Столкновение  2015-08-12 17:05:00              3   \n",
       "14516       Столкновение  2016-08-22 18:05:00              1   \n",
       "\n",
       "           parent_region                                    road_conditions  \\\n",
       "0      Кировская область                                         ['Мокрое']   \n",
       "1      Кировская область  ['Сухое', 'Отсутствие, плохая различимость гор...   \n",
       "2      Кировская область                                         ['Мокрое']   \n",
       "3      Кировская область                                          ['Сухое']   \n",
       "4      Кировская область  ['Сухое', 'Отсутствие, плохая различимость гор...   \n",
       "...                  ...                                                ...   \n",
       "14512  Кировская область                                          ['Сухое']   \n",
       "14513  Кировская область                                          ['Сухое']   \n",
       "14514  Кировская область  ['Сухое', 'Отсутствие, плохая различимость гор...   \n",
       "14515  Кировская область  ['Сухое', 'Отсутствие, плохая различимость гор...   \n",
       "14516  Кировская область                                          ['Сухое']   \n",
       "\n",
       "       participants_count             participant_categories  \n",
       "0                       3                  ['Все участники']  \n",
       "1                       2      ['Все участники', 'Пешеходы']  \n",
       "2                       1                  ['Все участники']  \n",
       "3                       2  ['Все участники', 'Мотоциклисты']  \n",
       "4                       2                  ['Все участники']  \n",
       "...                   ...                                ...  \n",
       "14512                   1  ['Все участники', 'Мотоциклисты']  \n",
       "14513                   2          ['Все участники', 'Дети']  \n",
       "14514                   2                  ['Все участники']  \n",
       "14515                   3                  ['Все участники']  \n",
       "14516                   2                  ['Все участники']  \n",
       "\n",
       "[14517 rows x 18 columns]"
      ]
     },
     "execution_count": 3,
     "metadata": {},
     "output_type": "execute_result"
    }
   ],
   "source": [
    "df"
   ]
  },
  {
   "cell_type": "code",
   "execution_count": 4,
   "metadata": {},
   "outputs": [
    {
     "data": {
      "text/plain": [
       "geometry.coordinates      0.000000\n",
       "id                        0.000000\n",
       "tags                      0.000000\n",
       "light                     0.000000\n",
       "point.lat                 0.220431\n",
       "point.long                0.220431\n",
       "nearby                    0.000000\n",
       "region                    0.000000\n",
       "scheme                    7.832197\n",
       "address                   4.642833\n",
       "weather                   0.000000\n",
       "category                  0.000000\n",
       "datetime                  0.000000\n",
       "injured_count             0.000000\n",
       "parent_region             0.000000\n",
       "road_conditions           0.000000\n",
       "participants_count        0.000000\n",
       "participant_categories    0.000000\n",
       "dtype: float64"
      ]
     },
     "execution_count": 4,
     "metadata": {},
     "output_type": "execute_result"
    }
   ],
   "source": [
    "df.isna().sum()/df.shape[0] * 100"
   ]
  },
  {
   "cell_type": "markdown",
   "metadata": {},
   "source": [
    "Детально рассмотрев данные в таблице ДТП Кировской области можно выделить следующие важные аспекты, связанные с преобразованием данных:\n",
    "- замена поля id на формат int32;\n",
    "- замена поля datetime на формат datetime;\n",
    "- замена поля injured_count на формат int4.\n",
    "\n",
    "Количество пропусков в данных невелеко за исключением адреса и схемы. В некоторых аварийных ситуациях адрес может быть не проставлен по причине удаленности от населенного пункта, например на трассе. Также поле может быть необязятельно к заполнению, но это требует более глубокой проработки. В поле схем объем пропусков больше, однако учитывая тот факт, что тип данных в поле вещественный, то в нем содержаться цифры. Следовательно, схемы типичны и имеют свой уникальный номер, который можно интерпретировать в заранее отрисованную схему. Пропуски в этом поле могут говорить о том, что поле необязательно или о том, что схема аварии нетипична и не занесена в общий банк схем."
   ]
  },
  {
   "cell_type": "code",
   "execution_count": 5,
   "metadata": {},
   "outputs": [],
   "source": [
    "df['id'] = pd.to_numeric(df['id'], downcast = 'integer')\n",
    "df['datetime'] = pd.to_datetime(df['datetime'])\n",
    "df['injured_count'] = pd.to_numeric(df['injured_count'], downcast = 'integer')"
   ]
  },
  {
   "cell_type": "code",
   "execution_count": 6,
   "metadata": {},
   "outputs": [],
   "source": [
    "df_participiants = pd.read_csv('https://code.s3.yandex.net/datasets/Kirovskaya_oblast_participiants.csv')"
   ]
  },
  {
   "cell_type": "code",
   "execution_count": 7,
   "metadata": {},
   "outputs": [
    {
     "name": "stdout",
     "output_type": "stream",
     "text": [
      "<class 'pandas.core.frame.DataFrame'>\n",
      "RangeIndex: 31235 entries, 0 to 31234\n",
      "Data columns (total 6 columns):\n",
      " #   Column                       Non-Null Count  Dtype  \n",
      "---  ------                       --------------  -----  \n",
      " 0   role                         31235 non-null  object \n",
      " 1   gender                       30387 non-null  object \n",
      " 2   violations                   31235 non-null  object \n",
      " 3   health_status                31135 non-null  object \n",
      " 4   years_of_driving_experience  16909 non-null  float64\n",
      " 5   id                           31235 non-null  int64  \n",
      "dtypes: float64(1), int64(1), object(4)\n",
      "memory usage: 1.4+ MB\n"
     ]
    }
   ],
   "source": [
    "df_participiants.info()"
   ]
  },
  {
   "cell_type": "code",
   "execution_count": 8,
   "metadata": {},
   "outputs": [
    {
     "data": {
      "text/plain": [
       "role                            0.000000\n",
       "gender                          2.714903\n",
       "violations                      0.000000\n",
       "health_status                   0.320154\n",
       "years_of_driving_experience    45.865215\n",
       "id                              0.000000\n",
       "dtype: float64"
      ]
     },
     "execution_count": 8,
     "metadata": {},
     "output_type": "execute_result"
    }
   ],
   "source": [
    "df_participiants.isna().sum() / df_participiants.shape[0] * 100"
   ]
  },
  {
   "cell_type": "markdown",
   "metadata": {},
   "source": [
    "Больше всего пропусков находится в поле опыта вождения. Такие пропуски возможны по нескольким причинам:\n",
    "- возможно водитель был без прав и незаконно сел за руль;\n",
    "- участниками ДТП могут быть люди без прав.\n",
    "\n",
    "Исходя из этого пропуски в полях возможны.\n",
    "\n",
    "В поле 'id' можно заменить тип данных на менее затратный по памяти.\n"
   ]
  },
  {
   "cell_type": "code",
   "execution_count": 9,
   "metadata": {},
   "outputs": [],
   "source": [
    "df_participiants['id'] = pd.to_numeric(df_participiants['id'], downcast = 'integer')"
   ]
  },
  {
   "cell_type": "markdown",
   "metadata": {
    "id": "xUkJSQu57hrC"
   },
   "source": [
    "\n",
    "## Исследование данных\n",
    "\n",
    "### 1. Как распределено количество участников ДТП и почему? Встречаются ли аномальные значения или выбросы? Если да, то с чем они могут быть связаны? Для числа участников найдите наиболее типичное значение. По желанию можете проверить распределения и других столбцов."
   ]
  },
  {
   "cell_type": "code",
   "execution_count": 10,
   "metadata": {
    "id": "x3QIR8FV72Vn"
   },
   "outputs": [
    {
     "data": {
      "text/plain": [
       "2     8611\n",
       "3     2929\n",
       "1     1533\n",
       "4      909\n",
       "5      353\n",
       "6      109\n",
       "7       44\n",
       "8        9\n",
       "9        9\n",
       "10       5\n",
       "11       2\n",
       "12       2\n",
       "14       1\n",
       "30       1\n",
       "Name: participants_count, dtype: int64"
      ]
     },
     "execution_count": 10,
     "metadata": {},
     "output_type": "execute_result"
    }
   ],
   "source": [
    "#Распределение количества ДТП по количеству участников\n",
    "df['participants_count'].value_counts()"
   ]
  },
  {
   "cell_type": "code",
   "execution_count": 11,
   "metadata": {},
   "outputs": [
    {
     "data": {
      "text/plain": [
       "2     59.316663\n",
       "3     20.176345\n",
       "1     10.560033\n",
       "4      6.261624\n",
       "5      2.431632\n",
       "6      0.750844\n",
       "7      0.303093\n",
       "8      0.061996\n",
       "9      0.061996\n",
       "10     0.034442\n",
       "11     0.013777\n",
       "12     0.013777\n",
       "14     0.006888\n",
       "30     0.006888\n",
       "Name: participants_count, dtype: float64"
      ]
     },
     "execution_count": 11,
     "metadata": {},
     "output_type": "execute_result"
    }
   ],
   "source": [
    "# Теперь рассмотрим эти же значения в процентном соотношении и простроим диаграмму\n",
    "df['participants_count'].value_counts() / df.shape[0] * 100"
   ]
  },
  {
   "cell_type": "code",
   "execution_count": 12,
   "metadata": {},
   "outputs": [
    {
     "name": "stdout",
     "output_type": "stream",
     "text": [
      "Collecting phik\n",
      "  Downloading phik-0.12.4-cp39-cp39-manylinux_2_17_x86_64.manylinux2014_x86_64.whl (686 kB)\n",
      "\u001b[K     |████████████████████████████████| 686 kB 1.4 MB/s eta 0:00:01\n",
      "\u001b[?25hRequirement already satisfied: matplotlib>=2.2.3 in /opt/conda/lib/python3.9/site-packages (from phik) (3.3.4)\n",
      "Requirement already satisfied: joblib>=0.14.1 in /opt/conda/lib/python3.9/site-packages (from phik) (1.1.0)\n",
      "Requirement already satisfied: pandas>=0.25.1 in /opt/conda/lib/python3.9/site-packages (from phik) (1.2.4)\n",
      "Requirement already satisfied: scipy>=1.5.2 in /opt/conda/lib/python3.9/site-packages (from phik) (1.9.1)\n",
      "Requirement already satisfied: numpy>=1.18.0 in /opt/conda/lib/python3.9/site-packages (from phik) (1.21.1)\n",
      "Requirement already satisfied: pyparsing!=2.0.4,!=2.1.2,!=2.1.6,>=2.0.3 in /opt/conda/lib/python3.9/site-packages (from matplotlib>=2.2.3->phik) (2.4.7)\n",
      "Requirement already satisfied: cycler>=0.10 in /opt/conda/lib/python3.9/site-packages (from matplotlib>=2.2.3->phik) (0.11.0)\n",
      "Requirement already satisfied: kiwisolver>=1.0.1 in /opt/conda/lib/python3.9/site-packages (from matplotlib>=2.2.3->phik) (1.4.4)\n",
      "Requirement already satisfied: pillow>=6.2.0 in /opt/conda/lib/python3.9/site-packages (from matplotlib>=2.2.3->phik) (8.4.0)\n",
      "Requirement already satisfied: python-dateutil>=2.1 in /opt/conda/lib/python3.9/site-packages (from matplotlib>=2.2.3->phik) (2.8.1)\n",
      "Requirement already satisfied: pytz>=2017.3 in /opt/conda/lib/python3.9/site-packages (from pandas>=0.25.1->phik) (2021.1)\n",
      "Requirement already satisfied: six>=1.5 in /opt/conda/lib/python3.9/site-packages (from python-dateutil>=2.1->matplotlib>=2.2.3->phik) (1.16.0)\n",
      "Installing collected packages: phik\n",
      "Successfully installed phik-0.12.4\n"
     ]
    }
   ],
   "source": [
    "import matplotlib.pyplot as plt\n",
    "import seaborn as sns\n",
    "!pip install phik"
   ]
  },
  {
   "cell_type": "code",
   "execution_count": 13,
   "metadata": {},
   "outputs": [
    {
     "data": {
      "image/png": "[encoded data removed]",
      "text/plain": [
       "<Figure size 432x288 with 1 Axes>"
      ]
     },
     "metadata": {
      "needs_background": "light"
     },
     "output_type": "display_data"
    }
   ],
   "source": [
    "df['participants_count'].value_counts().sort_index().plot(kind='bar', xlabel = 'Количество участников ДТП',\n",
    "                                                         ylabel = 'Количество случаев', title = 'Распределение количества участников ДТП')\n",
    "plt.grid(axis = 'y')\n",
    "plt.show()"
   ]
  },
  {
   "cell_type": "markdown",
   "metadata": {},
   "source": [
    "В большинстве случаев количество пострадавших варируется от 1 до 3 человек (почти 90%) при этом чаще всего в авариях два пострадавших."
   ]
  },
  {
   "cell_type": "code",
   "execution_count": 14,
   "metadata": {},
   "outputs": [
    {
     "data": {
      "text/plain": [
       "count    14517.000000\n",
       "mean         2.355721\n",
       "std          1.004847\n",
       "min          1.000000\n",
       "25%          2.000000\n",
       "50%          2.000000\n",
       "75%          3.000000\n",
       "max         30.000000\n",
       "Name: participants_count, dtype: float64"
      ]
     },
     "execution_count": 14,
     "metadata": {},
     "output_type": "execute_result"
    }
   ],
   "source": [
    "df['participants_count'].describe()"
   ]
  },
  {
   "cell_type": "markdown",
   "metadata": {},
   "source": [
    "Изучеие основных показателей распределеления количества участников ДТП демонстрирует следующее:\n",
    "- среднее количество пострадавших не сильно отличается от медианы, что говорит о концентрации большинства значений около среднего, однако при этом присутствует разброс;\n",
    "- нет ни одного ДТП без пострадавших (мнимальное число 1);\n",
    "- максимальное количество пострадавших 30 (возможно авария произошла с участием общественного транспорта).\n"
   ]
  },
  {
   "cell_type": "code",
   "execution_count": 15,
   "metadata": {},
   "outputs": [
    {
     "data": {
      "image/png": "[encoded data removed]",
      "text/plain": [
       "<Figure size 720x648 with 1 Axes>"
      ]
     },
     "metadata": {
      "needs_background": "light"
     },
     "output_type": "display_data"
    }
   ],
   "source": [
    "df['participants_count'].plot(kind = 'box', figsize = (10,9), ylabel ='')\n",
    "plt.grid(axis = 'y')\n",
    "plt.show()"
   ]
  },
  {
   "cell_type": "code",
   "execution_count": 16,
   "metadata": {},
   "outputs": [
    {
     "data": {
      "text/plain": [
       "2     6205\n",
       "3     2368\n",
       "4      752\n",
       "5      304\n",
       "6       97\n",
       "7       39\n",
       "8        7\n",
       "9        6\n",
       "10       5\n",
       "12       2\n",
       "11       1\n",
       "14       1\n",
       "Name: participants_count, dtype: int64"
      ]
     },
     "execution_count": 16,
     "metadata": {},
     "output_type": "execute_result"
    }
   ],
   "source": [
    "df[(df['category'] == 'Столкновение') | (df['category'] == 'Наезд на пешехода')]['participants_count'].value_counts()"
   ]
  },
  {
   "cell_type": "markdown",
   "metadata": {},
   "source": [
    "Столкновение и наезд на пешехода являются самыми частыми случаями ДТП. При этом отпали случаи в которых всего один пострадавший. Соотвественно большинство случаев, в которых два и более пострадавших, связано именно с столкновением и наездом."
   ]
  },
  {
   "cell_type": "markdown",
   "metadata": {
    "id": "7E4CYzyg73k0"
   },
   "source": [
    "### 2. Предположите,  между какими столбцами в данных высокая корреляция? Проверьте своё предположение."
   ]
  },
  {
   "cell_type": "markdown",
   "metadata": {
    "id": "jLUuJVaw74kV"
   },
   "source": [
    "Для оценки корреляции воспользуемся методом phik"
   ]
  },
  {
   "cell_type": "code",
   "execution_count": 17,
   "metadata": {},
   "outputs": [
    {
     "name": "stdout",
     "output_type": "stream",
     "text": [
      "interval columns not set, guessing: ['id', 'point.lat', 'point.long', 'scheme', 'injured_count', 'participants_count']\n"
     ]
    },
    {
     "data": {
      "text/plain": [
       "'Корреляционная матрица с коэффициентом phi_k для примерного датафрейма:'"
      ]
     },
     "metadata": {},
     "output_type": "display_data"
    },
    {
     "data": {
      "text/html": [
       "<div>\n",
       "<style scoped>\n",
       "    .dataframe tbody tr th:only-of-type {\n",
       "        vertical-align: middle;\n",
       "    }\n",
       "\n",
       "    .dataframe tbody tr th {\n",
       "        vertical-align: top;\n",
       "    }\n",
       "\n",
       "    .dataframe thead th {\n",
       "        text-align: right;\n",
       "    }\n",
       "</style>\n",
       "<table border=\"1\" class=\"dataframe\">\n",
       "  <thead>\n",
       "    <tr style=\"text-align: right;\">\n",
       "      <th></th>\n",
       "      <th>id</th>\n",
       "      <th>point.lat</th>\n",
       "      <th>point.long</th>\n",
       "      <th>scheme</th>\n",
       "      <th>injured_count</th>\n",
       "      <th>participants_count</th>\n",
       "    </tr>\n",
       "  </thead>\n",
       "  <tbody>\n",
       "    <tr>\n",
       "      <th>id</th>\n",
       "      <td>1.000000</td>\n",
       "      <td>0.026482</td>\n",
       "      <td>0.000000</td>\n",
       "      <td>0.076066</td>\n",
       "      <td>0.015658</td>\n",
       "      <td>0.022621</td>\n",
       "    </tr>\n",
       "    <tr>\n",
       "      <th>point.lat</th>\n",
       "      <td>0.026482</td>\n",
       "      <td>1.000000</td>\n",
       "      <td>0.736831</td>\n",
       "      <td>0.029165</td>\n",
       "      <td>0.000000</td>\n",
       "      <td>0.000000</td>\n",
       "    </tr>\n",
       "    <tr>\n",
       "      <th>point.long</th>\n",
       "      <td>0.000000</td>\n",
       "      <td>0.736831</td>\n",
       "      <td>1.000000</td>\n",
       "      <td>0.047881</td>\n",
       "      <td>0.000000</td>\n",
       "      <td>0.045864</td>\n",
       "    </tr>\n",
       "    <tr>\n",
       "      <th>scheme</th>\n",
       "      <td>0.076066</td>\n",
       "      <td>0.029165</td>\n",
       "      <td>0.047881</td>\n",
       "      <td>1.000000</td>\n",
       "      <td>0.184062</td>\n",
       "      <td>0.246265</td>\n",
       "    </tr>\n",
       "    <tr>\n",
       "      <th>injured_count</th>\n",
       "      <td>0.015658</td>\n",
       "      <td>0.000000</td>\n",
       "      <td>0.000000</td>\n",
       "      <td>0.184062</td>\n",
       "      <td>1.000000</td>\n",
       "      <td>0.814831</td>\n",
       "    </tr>\n",
       "    <tr>\n",
       "      <th>participants_count</th>\n",
       "      <td>0.022621</td>\n",
       "      <td>0.000000</td>\n",
       "      <td>0.045864</td>\n",
       "      <td>0.246265</td>\n",
       "      <td>0.814831</td>\n",
       "      <td>1.000000</td>\n",
       "    </tr>\n",
       "  </tbody>\n",
       "</table>\n",
       "</div>"
      ],
      "text/plain": [
       "                          id  point.lat  point.long    scheme  injured_count  \\\n",
       "id                  1.000000   0.026482    0.000000  0.076066       0.015658   \n",
       "point.lat           0.026482   1.000000    0.736831  0.029165       0.000000   \n",
       "point.long          0.000000   0.736831    1.000000  0.047881       0.000000   \n",
       "scheme              0.076066   0.029165    0.047881  1.000000       0.184062   \n",
       "injured_count       0.015658   0.000000    0.000000  0.184062       1.000000   \n",
       "participants_count  0.022621   0.000000    0.045864  0.246265       0.814831   \n",
       "\n",
       "                    participants_count  \n",
       "id                            0.022621  \n",
       "point.lat                     0.000000  \n",
       "point.long                    0.045864  \n",
       "scheme                        0.246265  \n",
       "injured_count                 0.814831  \n",
       "participants_count            1.000000  "
      ]
     },
     "metadata": {},
     "output_type": "display_data"
    }
   ],
   "source": [
    "import phik\n",
    "correlation_matrix = df[['id', 'point.lat', 'point.long', 'scheme', 'injured_count', 'participants_count']].phik_matrix()\n",
    "\n",
    "# Выводим результаты\n",
    "display('Корреляционная матрица с коэффициентом phi_k для примерного датафрейма:')\n",
    "display(correlation_matrix)"
   ]
  },
  {
   "cell_type": "code",
   "execution_count": 18,
   "metadata": {},
   "outputs": [
    {
     "data": {
      "text/html": [
       "<div>\n",
       "<style scoped>\n",
       "    .dataframe tbody tr th:only-of-type {\n",
       "        vertical-align: middle;\n",
       "    }\n",
       "\n",
       "    .dataframe tbody tr th {\n",
       "        vertical-align: top;\n",
       "    }\n",
       "\n",
       "    .dataframe thead th {\n",
       "        text-align: right;\n",
       "    }\n",
       "</style>\n",
       "<table border=\"1\" class=\"dataframe\">\n",
       "  <thead>\n",
       "    <tr style=\"text-align: right;\">\n",
       "      <th></th>\n",
       "      <th>id</th>\n",
       "      <th>point.lat</th>\n",
       "      <th>point.long</th>\n",
       "      <th>scheme</th>\n",
       "      <th>injured_count</th>\n",
       "      <th>participants_count</th>\n",
       "    </tr>\n",
       "  </thead>\n",
       "  <tbody>\n",
       "    <tr>\n",
       "      <th>id</th>\n",
       "      <td>1.000000</td>\n",
       "      <td>0.044838</td>\n",
       "      <td>0.000309</td>\n",
       "      <td>-0.033493</td>\n",
       "      <td>-0.001796</td>\n",
       "      <td>-0.011355</td>\n",
       "    </tr>\n",
       "    <tr>\n",
       "      <th>point.lat</th>\n",
       "      <td>0.044838</td>\n",
       "      <td>1.000000</td>\n",
       "      <td>0.004421</td>\n",
       "      <td>0.022883</td>\n",
       "      <td>-0.029886</td>\n",
       "      <td>-0.000820</td>\n",
       "    </tr>\n",
       "    <tr>\n",
       "      <th>point.long</th>\n",
       "      <td>0.000309</td>\n",
       "      <td>0.004421</td>\n",
       "      <td>1.000000</td>\n",
       "      <td>0.021997</td>\n",
       "      <td>-0.005333</td>\n",
       "      <td>-0.008409</td>\n",
       "    </tr>\n",
       "    <tr>\n",
       "      <th>scheme</th>\n",
       "      <td>-0.033493</td>\n",
       "      <td>0.022883</td>\n",
       "      <td>0.021997</td>\n",
       "      <td>1.000000</td>\n",
       "      <td>-0.213594</td>\n",
       "      <td>-0.396280</td>\n",
       "    </tr>\n",
       "    <tr>\n",
       "      <th>injured_count</th>\n",
       "      <td>-0.001796</td>\n",
       "      <td>-0.029886</td>\n",
       "      <td>-0.005333</td>\n",
       "      <td>-0.213594</td>\n",
       "      <td>1.000000</td>\n",
       "      <td>0.727196</td>\n",
       "    </tr>\n",
       "    <tr>\n",
       "      <th>participants_count</th>\n",
       "      <td>-0.011355</td>\n",
       "      <td>-0.000820</td>\n",
       "      <td>-0.008409</td>\n",
       "      <td>-0.396280</td>\n",
       "      <td>0.727196</td>\n",
       "      <td>1.000000</td>\n",
       "    </tr>\n",
       "  </tbody>\n",
       "</table>\n",
       "</div>"
      ],
      "text/plain": [
       "                          id  point.lat  point.long    scheme  injured_count  \\\n",
       "id                  1.000000   0.044838    0.000309 -0.033493      -0.001796   \n",
       "point.lat           0.044838   1.000000    0.004421  0.022883      -0.029886   \n",
       "point.long          0.000309   0.004421    1.000000  0.021997      -0.005333   \n",
       "scheme             -0.033493   0.022883    0.021997  1.000000      -0.213594   \n",
       "injured_count      -0.001796  -0.029886   -0.005333 -0.213594       1.000000   \n",
       "participants_count -0.011355  -0.000820   -0.008409 -0.396280       0.727196   \n",
       "\n",
       "                    participants_count  \n",
       "id                           -0.011355  \n",
       "point.lat                    -0.000820  \n",
       "point.long                   -0.008409  \n",
       "scheme                       -0.396280  \n",
       "injured_count                 0.727196  \n",
       "participants_count            1.000000  "
      ]
     },
     "execution_count": 18,
     "metadata": {},
     "output_type": "execute_result"
    }
   ],
   "source": [
    "df.corr()"
   ]
  },
  {
   "cell_type": "code",
   "execution_count": 19,
   "metadata": {},
   "outputs": [
    {
     "data": {
      "image/png": "[encoded data removed]",
      "text/plain": [
       "<Figure size 432x288 with 2 Axes>"
      ]
     },
     "metadata": {
      "needs_background": "light"
     },
     "output_type": "display_data"
    }
   ],
   "source": [
    "sns.heatmap(correlation_matrix, annot = True, fmt = '.3f', linewidth = 0.5, cmap = 'coolwarm')\n",
    "plt.title('Корреляция между столбцами')\n",
    "plt.show()"
   ]
  },
  {
   "cell_type": "code",
   "execution_count": 20,
   "metadata": {},
   "outputs": [
    {
     "data": {
      "image/png": "[encoded data removed]",
      "text/plain": [
       "<Figure size 432x288 with 2 Axes>"
      ]
     },
     "metadata": {
      "needs_background": "light"
     },
     "output_type": "display_data"
    }
   ],
   "source": [
    "sns.heatmap(df.corr(), annot = True, fmt = '.3f', linewidth = 0.5, cmap = 'coolwarm')\n",
    "plt.title('Корреляция между столбцами')\n",
    "plt.show()"
   ]
  },
  {
   "cell_type": "markdown",
   "metadata": {},
   "source": [
    "Большая корреляционная связи по двум различным методам оценки корреляции демонстррируется среди поле отражающих количество участников и количество пострадавших. Также корреляция прослеживается  между числом участников и номером схемы и количеством пострадавших и номеров схемы. Возможно эти значения имеют слабовыраженную связь (например наезд на пешехода).\n",
    "\n",
    "Стоит также отметить, что при рассмотрении корреляции по Пирсону сильная связь найдена между широтой и долготой. Однако этот вариант стоит пресечь, поскольку обучная корреляция демонстрирует другую тенденцию. Данные о широте и долготе нелинейны и как следствие метод Пирсона не применим к к данноиу варианту."
   ]
  },
  {
   "cell_type": "markdown",
   "metadata": {
    "id": "66L_Nsjx74_s"
   },
   "source": [
    "### 3. Как связаны категории аварий и погодные условия?"
   ]
  },
  {
   "cell_type": "code",
   "execution_count": 21,
   "metadata": {
    "id": "271uu3L877sW"
   },
   "outputs": [
    {
     "data": {
      "text/plain": [
       "Столкновение                                                                                                 37.356203\n",
       "Наезд на пешехода                                                                                            30.061307\n",
       "Съезд с дороги                                                                                                7.956189\n",
       "Опрокидывание                                                                                                 6.902253\n",
       "Падение пассажира                                                                                             5.083695\n",
       "Наезд на препятствие                                                                                          4.594613\n",
       "Наезд на велосипедиста                                                                                        4.057312\n",
       "Наезд на стоящее ТС                                                                                           2.149204\n",
       "Иной вид ДТП                                                                                                  0.888613\n",
       "Наезд на животное                                                                                             0.613074\n",
       "Отбрасывание предмета                                                                                         0.123993\n",
       "Наезд на лицо, не являющееся участником дорожного движения, осуществляющее производство работ                 0.082662\n",
       "Наезд на лицо, не являющееся участником дорожного движения, осуществляющее несение службы                     0.068885\n",
       "Наезд на внезапно возникшее препятствие                                                                       0.027554\n",
       "Наезд на лицо, не являющееся участником дорожного движения, осуществляющее какую-либо другую деятельность     0.020665\n",
       "Падение груза                                                                                                 0.013777\n",
       "Name: category, dtype: float64"
      ]
     },
     "execution_count": 21,
     "metadata": {},
     "output_type": "execute_result"
    }
   ],
   "source": [
    "# Проверим сколько аварий было в различной категории\n",
    "df['category'].value_counts() / df.shape[0] * 100"
   ]
  },
  {
   "cell_type": "markdown",
   "metadata": {},
   "source": [
    "Чаще всего аварии представлены в категории столкновения, наезд на пешехода и съезд с дороги. Суммарно они составляют более 70 процентов всех случаев ДТП. Выведем топ 7 аварий и взглянем на их количество."
   ]
  },
  {
   "cell_type": "code",
   "execution_count": 22,
   "metadata": {},
   "outputs": [
    {
     "data": {
      "text/plain": [
       "Столкновение              5423\n",
       "Наезд на пешехода         4364\n",
       "Съезд с дороги            1155\n",
       "Опрокидывание             1002\n",
       "Падение пассажира          738\n",
       "Наезд на препятствие       667\n",
       "Наезд на велосипедиста     589\n",
       "Name: category, dtype: int64"
      ]
     },
     "execution_count": 22,
     "metadata": {},
     "output_type": "execute_result"
    }
   ],
   "source": [
    "df['category'].value_counts().head(7)"
   ]
  },
  {
   "cell_type": "code",
   "execution_count": 23,
   "metadata": {},
   "outputs": [
    {
     "data": {
      "text/plain": [
       "category               weather                          \n",
       "Столкновение           ['Пасмурно']                         2514\n",
       "                       ['Ясно']                             2288\n",
       "Наезд на пешехода      ['Пасмурно']                         2268\n",
       "                       ['Ясно']                             1572\n",
       "Съезд с дороги         ['Ясно']                              586\n",
       "                                                            ... \n",
       "Наезд на стоящее ТС    ['Пасмурно', 'Дождь']                   1\n",
       "Наезд на препятствие   ['Ясно', 'Температура ниже -30С']       1\n",
       "Столкновение           ['Пасмурно', 'Метель']                  1\n",
       "Отбрасывание предмета  ['Снегопад']                            1\n",
       "Наезд на стоящее ТС    ['Ясно', 'Температура ниже -30С']       1\n",
       "Name: id, Length: 115, dtype: int64"
      ]
     },
     "execution_count": 23,
     "metadata": {},
     "output_type": "execute_result"
    }
   ],
   "source": [
    "# Соотнесем категории аварий с погодными условиями\n",
    "df.groupby(['category', 'weather'])['id'].agg('count').sort_values(ascending = False)"
   ]
  },
  {
   "cell_type": "markdown",
   "metadata": {},
   "source": [
    "Данные ДТП распределились по категориям и погодным условиям. При этом ДТП различных категорий происходят в любые погодные условия."
   ]
  },
  {
   "cell_type": "code",
   "execution_count": 24,
   "metadata": {},
   "outputs": [
    {
     "data": {
      "text/plain": [
       "weather                                category    \n",
       "['Пасмурно']                           Столкновение    2514\n",
       "['Ясно']                               Столкновение    2288\n",
       "['Снегопад']                           Столкновение     274\n",
       "['Дождь']                              Столкновение     205\n",
       "['Пасмурно', 'Снегопад']               Столкновение      47\n",
       "['Ясно', 'Температура выше +30С']      Столкновение      34\n",
       "['Пасмурно', 'Дождь']                  Столкновение      21\n",
       "['Метель']                             Столкновение      14\n",
       "['Снегопад', 'Метель']                 Столкновение       8\n",
       "['Ясно', 'Температура ниже -30С']      Столкновение       5\n",
       "['Туман']                              Столкновение       4\n",
       "['Пасмурно', 'Температура ниже -30С']  Столкновение       3\n",
       "['Дождь', 'Снегопад']                  Столкновение       2\n",
       "['Пасмурно', 'Туман']                  Столкновение       2\n",
       "['Пасмурно', 'Метель']                 Столкновение       1\n",
       "['Пасмурно', 'Ураганный ветер']        Столкновение       1\n",
       "Name: id, dtype: int64"
      ]
     },
     "metadata": {},
     "output_type": "display_data"
    },
    {
     "data": {
      "text/plain": [
       "weather                                category         \n",
       "['Пасмурно']                           Наезд на пешехода    2268\n",
       "['Ясно']                               Наезд на пешехода    1572\n",
       "['Дождь']                              Наезд на пешехода     220\n",
       "['Снегопад']                           Наезд на пешехода     200\n",
       "['Пасмурно', 'Дождь']                  Наезд на пешехода      36\n",
       "['Пасмурно', 'Снегопад']               Наезд на пешехода      27\n",
       "['Ясно', 'Температура выше +30С']      Наезд на пешехода      14\n",
       "['Метель']                             Наезд на пешехода       9\n",
       "['Туман']                              Наезд на пешехода       6\n",
       "['Снегопад', 'Метель']                 Наезд на пешехода       4\n",
       "['Дождь', 'Снегопад']                  Наезд на пешехода       2\n",
       "['Пасмурно', 'Температура ниже -30С']  Наезд на пешехода       2\n",
       "['Ясно', 'Температура ниже -30С']      Наезд на пешехода       2\n",
       "['Дождь', 'Туман']                     Наезд на пешехода       1\n",
       "['Пасмурно', 'Метель']                 Наезд на пешехода       1\n",
       "Name: id, dtype: int64"
      ]
     },
     "metadata": {},
     "output_type": "display_data"
    },
    {
     "data": {
      "text/plain": [
       "weather                            category      \n",
       "['Ясно']                           Съезд с дороги    586\n",
       "['Пасмурно']                       Съезд с дороги    431\n",
       "['Дождь']                          Съезд с дороги     51\n",
       "['Снегопад']                       Съезд с дороги     50\n",
       "['Пасмурно', 'Снегопад']           Съезд с дороги     13\n",
       "['Пасмурно', 'Дождь']              Съезд с дороги     10\n",
       "['Ясно', 'Температура выше +30С']  Съезд с дороги      6\n",
       "['Метель']                         Съезд с дороги      2\n",
       "['Туман']                          Съезд с дороги      2\n",
       "['Пасмурно', 'Туман']              Съезд с дороги      1\n",
       "['Пасмурно', 'Ураганный ветер']    Съезд с дороги      1\n",
       "['Снегопад', 'Метель']             Съезд с дороги      1\n",
       "['Ясно', 'Температура ниже -30С']  Съезд с дороги      1\n",
       "Name: id, dtype: int64"
      ]
     },
     "metadata": {},
     "output_type": "display_data"
    },
    {
     "data": {
      "text/plain": [
       "weather                            category     \n",
       "['Ясно']                           Опрокидывание    532\n",
       "['Пасмурно']                       Опрокидывание    367\n",
       "['Дождь']                          Опрокидывание     40\n",
       "['Снегопад']                       Опрокидывание     27\n",
       "['Пасмурно', 'Снегопад']           Опрокидывание     13\n",
       "['Пасмурно', 'Дождь']              Опрокидывание     12\n",
       "['Туман']                          Опрокидывание      3\n",
       "['Ясно', 'Температура выше +30С']  Опрокидывание      3\n",
       "['Метель']                         Опрокидывание      2\n",
       "['Пасмурно', 'Туман']              Опрокидывание      2\n",
       "['Пасмурно', 'Метель']             Опрокидывание      1\n",
       "Name: id, dtype: int64"
      ]
     },
     "metadata": {},
     "output_type": "display_data"
    },
    {
     "data": {
      "text/plain": [
       "weather                                category         \n",
       "['Пасмурно']                           Падение пассажира    390\n",
       "['Ясно']                               Падение пассажира    315\n",
       "['Дождь']                              Падение пассажира     18\n",
       "['Снегопад']                           Падение пассажира      8\n",
       "['Пасмурно', 'Снегопад']               Падение пассажира      2\n",
       "['Пасмурно', 'Дождь']                  Падение пассажира      1\n",
       "['Пасмурно', 'Температура ниже -30С']  Падение пассажира      1\n",
       "['Ясно', 'Температура выше +30С']      Падение пассажира      1\n",
       "['Ясно', 'Температура ниже -30С']      Падение пассажира      1\n",
       "['Ясно', 'Туман']                      Падение пассажира      1\n",
       "Name: id, dtype: int64"
      ]
     },
     "metadata": {},
     "output_type": "display_data"
    },
    {
     "data": {
      "text/plain": [
       "weather                            category            \n",
       "['Ясно']                           Наезд на препятствие    304\n",
       "['Пасмурно']                       Наезд на препятствие    300\n",
       "['Дождь']                          Наезд на препятствие     26\n",
       "['Снегопад']                       Наезд на препятствие     24\n",
       "['Пасмурно', 'Снегопад']           Наезд на препятствие      4\n",
       "['Ясно', 'Температура выше +30С']  Наезд на препятствие      4\n",
       "['Пасмурно', 'Дождь']              Наезд на препятствие      2\n",
       "['Туман']                          Наезд на препятствие      2\n",
       "['Ясно', 'Температура ниже -30С']  Наезд на препятствие      1\n",
       "Name: id, dtype: int64"
      ]
     },
     "metadata": {},
     "output_type": "display_data"
    },
    {
     "data": {
      "text/plain": [
       "weather                            category              \n",
       "['Ясно']                           Наезд на велосипедиста    397\n",
       "['Пасмурно']                       Наезд на велосипедиста    171\n",
       "['Дождь']                          Наезд на велосипедиста     17\n",
       "['Ясно', 'Температура выше +30С']  Наезд на велосипедиста      2\n",
       "['Пасмурно', 'Дождь']              Наезд на велосипедиста      1\n",
       "['Снегопад']                       Наезд на велосипедиста      1\n",
       "Name: id, dtype: int64"
      ]
     },
     "metadata": {},
     "output_type": "display_data"
    }
   ],
   "source": [
    "for category_name in df['category'].value_counts().head(7).index:\n",
    "  display(df.query('category == @category_name').groupby(['weather', 'category'])['id'].nunique().sort_values(ascending = False))"
   ]
  },
  {
   "cell_type": "markdown",
   "metadata": {},
   "source": [
    "Рассмотрим две первые категории, в которые входят 60% всех случаев ДТП. Во многом они схожи. Больше всего случаев происходит в пасмурную погоду - плохая видимость дороги. При этом разница в погоде при столкновения (между пасмурной и ясной) невелика, при этом она значительно меньше чем разница в категории \"наезд на пешехода\". Это может быть свзано с тем, что при столкновении двух автомобилей общая скорость на встречу друг к другу намного больше чем у машины и пешехода.\n",
    "\n",
    "В других категориях наооборот больше всего аварий произошло в ясную погоду. Это вполне объяснимо, так как водителей мог ослепить солнечный свет. Однако, стоит посмотреть какое количество было ясных и пасмурных дней во взятом периоде чтобы оценить влияние погодных условий. "
   ]
  },
  {
   "cell_type": "markdown",
   "metadata": {
    "id": "wI9K-XTf78GK"
   },
   "source": [
    "### 4. Постройте процентную разбивку аварий по видам освещённости. При этом учитывайте пол участника и сделайте расчёты для мужчин и женщин отдельно."
   ]
  },
  {
   "cell_type": "code",
   "execution_count": 25,
   "metadata": {
    "id": "T9AKnc0Z8AOK"
   },
   "outputs": [
    {
     "data": {
      "text/plain": [
       "1984910    6\n",
       "1985567    6\n",
       "1984276    6\n",
       "2649405    6\n",
       "1983117    5\n",
       "          ..\n",
       "1982001    1\n",
       "1986095    1\n",
       "1984046    1\n",
       "2973229    1\n",
       "2754559    1\n",
       "Name: id, Length: 13025, dtype: int64"
      ]
     },
     "execution_count": 25,
     "metadata": {},
     "output_type": "execute_result"
    }
   ],
   "source": [
    "# Выведем количество упоминаний водителей в авариях\n",
    "df_participiants.query('role == \"Водитель\"')['id'].value_counts()"
   ]
  },
  {
   "cell_type": "markdown",
   "metadata": {},
   "source": [
    "В данных встречаются повторы, от которых следует избавиться"
   ]
  },
  {
   "cell_type": "code",
   "execution_count": 26,
   "metadata": {},
   "outputs": [],
   "source": [
    "df_participiants = df_participiants.query('role == \"Водитель\"')\n",
    "df_participiants = df_participiants.drop_duplicates (subset = 'id')"
   ]
  },
  {
   "cell_type": "code",
   "execution_count": 27,
   "metadata": {},
   "outputs": [],
   "source": [
    "# Для оценки аварий по видам освещенности необходимо объединить таблицы\n",
    "df_res = df_participiants.merge(df, on = 'id')"
   ]
  },
  {
   "cell_type": "code",
   "execution_count": 28,
   "metadata": {},
   "outputs": [],
   "source": [
    "df_percent = df_res.groupby(['gender', 'light'])['id'].nunique().reset_index().sort_values('light')\n",
    "df_percent['prcnt'] = 100*df_percent['id'] / ([df_res.query('gender == \"Женский\"')['id'].nunique(), df_res.query('gender == \"Мужской\"')['id'].nunique()] * 5)"
   ]
  },
  {
   "cell_type": "code",
   "execution_count": 29,
   "metadata": {},
   "outputs": [
    {
     "data": {
      "text/html": [
       "<div>\n",
       "<style scoped>\n",
       "    .dataframe tbody tr th:only-of-type {\n",
       "        vertical-align: middle;\n",
       "    }\n",
       "\n",
       "    .dataframe tbody tr th {\n",
       "        vertical-align: top;\n",
       "    }\n",
       "\n",
       "    .dataframe thead th {\n",
       "        text-align: right;\n",
       "    }\n",
       "</style>\n",
       "<table border=\"1\" class=\"dataframe\">\n",
       "  <thead>\n",
       "    <tr style=\"text-align: right;\">\n",
       "      <th></th>\n",
       "      <th>gender</th>\n",
       "      <th>light</th>\n",
       "      <th>id</th>\n",
       "      <th>prcnt</th>\n",
       "    </tr>\n",
       "  </thead>\n",
       "  <tbody>\n",
       "    <tr>\n",
       "      <th>8</th>\n",
       "      <td>Мужской</td>\n",
       "      <td>Светлое время суток</td>\n",
       "      <td>6905</td>\n",
       "      <td>63.658154</td>\n",
       "    </tr>\n",
       "    <tr>\n",
       "      <th>5</th>\n",
       "      <td>Мужской</td>\n",
       "      <td>В темное время суток, освещение включено</td>\n",
       "      <td>2372</td>\n",
       "      <td>21.867798</td>\n",
       "    </tr>\n",
       "    <tr>\n",
       "      <th>7</th>\n",
       "      <td>Мужской</td>\n",
       "      <td>В темное время суток, освещение отсутствует</td>\n",
       "      <td>1067</td>\n",
       "      <td>9.836821</td>\n",
       "    </tr>\n",
       "    <tr>\n",
       "      <th>9</th>\n",
       "      <td>Мужской</td>\n",
       "      <td>Сумерки</td>\n",
       "      <td>339</td>\n",
       "      <td>3.125288</td>\n",
       "    </tr>\n",
       "    <tr>\n",
       "      <th>6</th>\n",
       "      <td>Мужской</td>\n",
       "      <td>В темное время суток, освещение не включено</td>\n",
       "      <td>164</td>\n",
       "      <td>1.511939</td>\n",
       "    </tr>\n",
       "    <tr>\n",
       "      <th>3</th>\n",
       "      <td>Женский</td>\n",
       "      <td>Светлое время суток</td>\n",
       "      <td>1096</td>\n",
       "      <td>64.243845</td>\n",
       "    </tr>\n",
       "    <tr>\n",
       "      <th>0</th>\n",
       "      <td>Женский</td>\n",
       "      <td>В темное время суток, освещение включено</td>\n",
       "      <td>376</td>\n",
       "      <td>22.039859</td>\n",
       "    </tr>\n",
       "    <tr>\n",
       "      <th>2</th>\n",
       "      <td>Женский</td>\n",
       "      <td>В темное время суток, освещение отсутствует</td>\n",
       "      <td>168</td>\n",
       "      <td>9.847597</td>\n",
       "    </tr>\n",
       "    <tr>\n",
       "      <th>4</th>\n",
       "      <td>Женский</td>\n",
       "      <td>Сумерки</td>\n",
       "      <td>48</td>\n",
       "      <td>2.813599</td>\n",
       "    </tr>\n",
       "    <tr>\n",
       "      <th>1</th>\n",
       "      <td>Женский</td>\n",
       "      <td>В темное время суток, освещение не включено</td>\n",
       "      <td>18</td>\n",
       "      <td>1.055100</td>\n",
       "    </tr>\n",
       "  </tbody>\n",
       "</table>\n",
       "</div>"
      ],
      "text/plain": [
       "    gender                                        light    id      prcnt\n",
       "8  Мужской                          Светлое время суток  6905  63.658154\n",
       "5  Мужской     В темное время суток, освещение включено  2372  21.867798\n",
       "7  Мужской  В темное время суток, освещение отсутствует  1067   9.836821\n",
       "9  Мужской                                      Сумерки   339   3.125288\n",
       "6  Мужской  В темное время суток, освещение не включено   164   1.511939\n",
       "3  Женский                          Светлое время суток  1096  64.243845\n",
       "0  Женский     В темное время суток, освещение включено   376  22.039859\n",
       "2  Женский  В темное время суток, освещение отсутствует   168   9.847597\n",
       "4  Женский                                      Сумерки    48   2.813599\n",
       "1  Женский  В темное время суток, освещение не включено    18   1.055100"
      ]
     },
     "execution_count": 29,
     "metadata": {},
     "output_type": "execute_result"
    }
   ],
   "source": [
    "df_percent.sort_values(['gender', 'prcnt'], ascending = False)"
   ]
  },
  {
   "cell_type": "markdown",
   "metadata": {},
   "source": [
    "Различный между женщинами и мужчин почти нет, относительные значения близки друг к другу. При этом больше всего ДТП происходило в светлое время суток. Также стоит отметить, что мужчин водителей, которые попадали в ДТП больше чем женщин."
   ]
  },
  {
   "cell_type": "markdown",
   "metadata": {
    "id": "X1RGcO4C8AhR"
   },
   "source": [
    "### 5. Исследуйте, чем отличаются аварии без пострадавших от тех, в которых был один пострадавший или более."
   ]
  },
  {
   "cell_type": "code",
   "execution_count": 31,
   "metadata": {
    "id": "blylVfsB8F9I"
   },
   "outputs": [],
   "source": [
    "# Выберем уникальные идентификаторы тех ДТП, в которых не было пострадавших\n",
    "ids_injured = df_res.query('health_status != \"Не пострадал\"')['id'].unique()"
   ]
  },
  {
   "cell_type": "code",
   "execution_count": 51,
   "metadata": {},
   "outputs": [
    {
     "name": "stderr",
     "output_type": "stream",
     "text": [
      "/opt/conda/lib/python3.9/site-packages/pandas/plotting/_matplotlib/core.py:1583: MatplotlibDeprecationWarning: normalize=None does not normalize if the sum is less than 1 but this behavior is deprecated since 3.3 until two minor releases later. After the deprecation period the default value will be normalize=True. To prevent normalization pass normalize=False \n",
      "  results = ax.pie(y, labels=blabels, **kwds)\n",
      "/opt/conda/lib/python3.9/site-packages/pandas/plotting/_matplotlib/core.py:1583: MatplotlibDeprecationWarning: normalize=None does not normalize if the sum is less than 1 but this behavior is deprecated since 3.3 until two minor releases later. After the deprecation period the default value will be normalize=True. To prevent normalization pass normalize=False \n",
      "  results = ax.pie(y, labels=blabels, **kwds)\n",
      "/opt/conda/lib/python3.9/site-packages/pandas/plotting/_matplotlib/core.py:1583: MatplotlibDeprecationWarning: normalize=None does not normalize if the sum is less than 1 but this behavior is deprecated since 3.3 until two minor releases later. After the deprecation period the default value will be normalize=True. To prevent normalization pass normalize=False \n",
      "  results = ax.pie(y, labels=blabels, **kwds)\n",
      "/opt/conda/lib/python3.9/site-packages/pandas/plotting/_matplotlib/core.py:1583: MatplotlibDeprecationWarning: normalize=None does not normalize if the sum is less than 1 but this behavior is deprecated since 3.3 until two minor releases later. After the deprecation period the default value will be normalize=True. To prevent normalization pass normalize=False \n",
      "  results = ax.pie(y, labels=blabels, **kwds)\n",
      "/opt/conda/lib/python3.9/site-packages/pandas/plotting/_matplotlib/core.py:1583: MatplotlibDeprecationWarning: normalize=None does not normalize if the sum is less than 1 but this behavior is deprecated since 3.3 until two minor releases later. After the deprecation period the default value will be normalize=True. To prevent normalization pass normalize=False \n",
      "  results = ax.pie(y, labels=blabels, **kwds)\n",
      "/opt/conda/lib/python3.9/site-packages/pandas/plotting/_matplotlib/core.py:1583: MatplotlibDeprecationWarning: normalize=None does not normalize if the sum is less than 1 but this behavior is deprecated since 3.3 until two minor releases later. After the deprecation period the default value will be normalize=True. To prevent normalization pass normalize=False \n",
      "  results = ax.pie(y, labels=blabels, **kwds)\n",
      "/opt/conda/lib/python3.9/site-packages/pandas/plotting/_matplotlib/core.py:1583: MatplotlibDeprecationWarning: normalize=None does not normalize if the sum is less than 1 but this behavior is deprecated since 3.3 until two minor releases later. After the deprecation period the default value will be normalize=True. To prevent normalization pass normalize=False \n",
      "  results = ax.pie(y, labels=blabels, **kwds)\n",
      "/opt/conda/lib/python3.9/site-packages/pandas/plotting/_matplotlib/core.py:1583: MatplotlibDeprecationWarning: normalize=None does not normalize if the sum is less than 1 but this behavior is deprecated since 3.3 until two minor releases later. After the deprecation period the default value will be normalize=True. To prevent normalization pass normalize=False \n",
      "  results = ax.pie(y, labels=blabels, **kwds)\n",
      "/opt/conda/lib/python3.9/site-packages/pandas/plotting/_matplotlib/core.py:1583: MatplotlibDeprecationWarning: normalize=None does not normalize if the sum is less than 1 but this behavior is deprecated since 3.3 until two minor releases later. After the deprecation period the default value will be normalize=True. To prevent normalization pass normalize=False \n",
      "  results = ax.pie(y, labels=blabels, **kwds)\n",
      "/opt/conda/lib/python3.9/site-packages/pandas/plotting/_matplotlib/core.py:1583: MatplotlibDeprecationWarning: normalize=None does not normalize if the sum is less than 1 but this behavior is deprecated since 3.3 until two minor releases later. After the deprecation period the default value will be normalize=True. To prevent normalization pass normalize=False \n",
      "  results = ax.pie(y, labels=blabels, **kwds)\n"
     ]
    },
    {
     "data": {
      "image/png": "[encoded data removed]",
      "text/plain": [
       "<Figure size 1080x2160 with 10 Axes>"
      ]
     },
     "metadata": {},
     "output_type": "display_data"
    }
   ],
   "source": [
    "fig, axes = plt.subplots(nrows=5, ncols=2,  figsize=(15, 30))\n",
    "plt.subplots_adjust(wspace=0.2, hspace=0.5)\n",
    "\n",
    "counter = 0\n",
    "for column_name in ['light', 'weather', 'category', 'road_conditions', 'participant_categories']:\n",
    "  df_injured = df.query('id in @ids_injured')[column_name].value_counts(normalize = True).reset_index()[0:3]\n",
    "  df_no_injured = df.query('id not in @ids_injured')[column_name].value_counts(normalize = True).reset_index()[0:3]\n",
    "  df_injured.plot(kind = 'pie', ax=axes[counter, 0],  y=column_name, autopct='%1.1f%%', labels= df_injured[column_name], legend=False, subplots = True)\n",
    "  axes[counter, 0].title.set_text(f'Разбивка по параметру {column_name} в ДТП с пострадавшими')\n",
    "  df_no_injured.plot(kind = 'pie', ax=axes[counter, 1], y=column_name, autopct='%1.1f%%', labels= df_no_injured[column_name], legend=False, subplots = True)\n",
    "  axes[counter, 1].title.set_text(f'Разбивка по параметру {column_name} в ДТП без пострадавших')\n",
    "  counter += 1\n",
    "\n"
   ]
  },
  {
   "cell_type": "markdown",
   "metadata": {},
   "source": [
    "Полученные результаты представленные виде графиков демонстрирует что большой разницы между двумя группами ДТП (с пострадавшими и без) по различным параметрам не наблюдается."
   ]
  },
  {
   "cell_type": "markdown",
   "metadata": {
    "id": "CvR84O6U8Gm6"
   },
   "source": [
    "### 6. Сделайте общий вывод о связи аварийности с другими факторами. Какие рекомендации вы можете дать заказчику?"
   ]
  },
  {
   "cell_type": "markdown",
   "metadata": {
    "id": "mZ6fltcN8Jql"
   },
   "source": [
    " 1. Самые распространённые аварии — столкновение и наезд на пешехода — происходят при пасмурной погоде. Разрыв в числе столкновений при ясной и пасмурной погоде несущественный, однако наезды на пешеходов при ясной погоде происходят реже. Возможно, при столкновении двух машин скорость сближения выше, чем при столкновении пешехода и машины. Стоит также отметить, что съезд с дороги, опрокидывания и наезды на препятствия случались чаще в ясную погоду.\n",
    "\n",
    "2. В разбивке по полам и освещённости различий не обнаружено. Также похожи значения топ-3 для разных признаков ДТП в зависимости от наличия пострадавших.\n",
    "\n",
    "3. Обнаружено, что наиболее распространённое количество пострадавших в авариях — 2. Это может быть связано с самыми частыми типами аварий — «столкновение» и «наезд на пешехода».\n",
    "\n",
    "4. В данных встречается ДТП с 30 участниками.\n",
    "\n",
    "5. В датасете число пострадавших в `injured_count` не согласуется с `health_status`. Стоит узнать у заказчика, почему так произошло.\n"
   ]
  }
 ],
 "metadata": {
  "ExecuteTimeLog": [
   {
    "duration": 563,
    "start_time": "2025-04-07T15:46:54.535Z"
   },
   {
    "duration": 467,
    "start_time": "2025-04-07T15:50:12.663Z"
   },
   {
    "duration": 21,
    "start_time": "2025-04-07T15:50:39.048Z"
   },
   {
    "duration": 23,
    "start_time": "2025-04-07T15:52:43.535Z"
   },
   {
    "duration": 79,
    "start_time": "2025-04-08T06:41:01.832Z"
   },
   {
    "duration": 819,
    "start_time": "2025-04-08T16:33:08.439Z"
   },
   {
    "duration": 24,
    "start_time": "2025-04-08T16:33:09.260Z"
   },
   {
    "duration": 36,
    "start_time": "2025-04-08T16:33:09.286Z"
   },
   {
    "duration": 69,
    "start_time": "2025-04-08T16:33:09.324Z"
   },
   {
    "duration": 15,
    "start_time": "2025-04-08T16:53:32.298Z"
   },
   {
    "duration": 491,
    "start_time": "2025-04-08T17:01:22.816Z"
   },
   {
    "duration": 21,
    "start_time": "2025-04-08T17:01:34.474Z"
   },
   {
    "duration": 15,
    "start_time": "2025-04-08T17:02:05.449Z"
   },
   {
    "duration": 12,
    "start_time": "2025-04-08T17:02:11.146Z"
   },
   {
    "duration": 13,
    "start_time": "2025-04-08T17:02:18.182Z"
   },
   {
    "duration": 51,
    "start_time": "2025-04-09T15:24:57.029Z"
   },
   {
    "duration": 946,
    "start_time": "2025-04-09T15:25:02.880Z"
   },
   {
    "duration": 23,
    "start_time": "2025-04-09T15:25:03.828Z"
   },
   {
    "duration": 45,
    "start_time": "2025-04-09T15:25:03.852Z"
   },
   {
    "duration": 14,
    "start_time": "2025-04-09T15:25:03.899Z"
   },
   {
    "duration": 385,
    "start_time": "2025-04-09T15:25:03.915Z"
   },
   {
    "duration": 17,
    "start_time": "2025-04-09T15:25:04.302Z"
   },
   {
    "duration": 54,
    "start_time": "2025-04-09T15:25:04.321Z"
   },
   {
    "duration": 11,
    "start_time": "2025-04-09T15:25:04.377Z"
   },
   {
    "duration": 1384,
    "start_time": "2025-04-09T15:25:04.390Z"
   },
   {
    "duration": 6,
    "start_time": "2025-04-09T15:25:45.362Z"
   },
   {
    "duration": 8,
    "start_time": "2025-04-09T15:27:05.543Z"
   },
   {
    "duration": 102,
    "start_time": "2025-04-09T15:41:50.002Z"
   },
   {
    "duration": 93,
    "start_time": "2025-04-09T15:41:54.126Z"
   },
   {
    "duration": 17,
    "start_time": "2025-04-09T16:07:06.018Z"
   },
   {
    "duration": 9,
    "start_time": "2025-04-09T16:07:17.070Z"
   },
   {
    "duration": 15,
    "start_time": "2025-04-09T16:31:00.076Z"
   },
   {
    "duration": 502,
    "start_time": "2025-04-09T16:36:46.207Z"
   },
   {
    "duration": 159,
    "start_time": "2025-04-09T16:36:55.592Z"
   },
   {
    "duration": 206,
    "start_time": "2025-04-09T16:42:05.252Z"
   },
   {
    "duration": 1429,
    "start_time": "2025-04-09T16:47:57.042Z"
   },
   {
    "duration": 202,
    "start_time": "2025-04-09T16:48:16.322Z"
   },
   {
    "duration": 280,
    "start_time": "2025-04-09T16:48:30.942Z"
   },
   {
    "duration": 13,
    "start_time": "2025-04-09T16:49:01.404Z"
   },
   {
    "duration": 161,
    "start_time": "2025-04-09T16:49:16.193Z"
   },
   {
    "duration": 156,
    "start_time": "2025-04-09T16:50:15.764Z"
   },
   {
    "duration": 834,
    "start_time": "2025-04-09T19:21:26.093Z"
   },
   {
    "duration": 35,
    "start_time": "2025-04-09T19:21:26.929Z"
   },
   {
    "duration": 22,
    "start_time": "2025-04-09T19:21:26.966Z"
   },
   {
    "duration": 14,
    "start_time": "2025-04-09T19:21:26.990Z"
   },
   {
    "duration": 386,
    "start_time": "2025-04-09T19:21:27.006Z"
   },
   {
    "duration": 17,
    "start_time": "2025-04-09T19:21:27.394Z"
   },
   {
    "duration": 41,
    "start_time": "2025-04-09T19:21:27.413Z"
   },
   {
    "duration": 5,
    "start_time": "2025-04-09T19:21:27.456Z"
   },
   {
    "duration": 28,
    "start_time": "2025-04-09T19:21:27.463Z"
   },
   {
    "duration": 6,
    "start_time": "2025-04-09T19:21:27.494Z"
   },
   {
    "duration": 83,
    "start_time": "2025-04-09T19:21:27.502Z"
   },
   {
    "duration": 586,
    "start_time": "2025-04-09T19:21:27.587Z"
   },
   {
    "duration": 187,
    "start_time": "2025-04-09T19:26:13.718Z"
   },
   {
    "duration": 10,
    "start_time": "2025-04-09T19:33:11.588Z"
   },
   {
    "duration": 84,
    "start_time": "2025-04-09T19:46:18.813Z"
   },
   {
    "duration": 9,
    "start_time": "2025-04-09T19:46:22.310Z"
   },
   {
    "duration": 109,
    "start_time": "2025-04-09T19:46:29.693Z"
   },
   {
    "duration": 171,
    "start_time": "2025-04-09T19:47:34.795Z"
   },
   {
    "duration": 111,
    "start_time": "2025-04-09T19:47:50.861Z"
   },
   {
    "duration": 124,
    "start_time": "2025-04-09T19:48:15.691Z"
   },
   {
    "duration": 144,
    "start_time": "2025-04-09T19:48:23.223Z"
   },
   {
    "duration": 138,
    "start_time": "2025-04-09T19:48:35.678Z"
   },
   {
    "duration": 144,
    "start_time": "2025-04-09T19:49:03.293Z"
   },
   {
    "duration": 144,
    "start_time": "2025-04-09T19:49:09.317Z"
   },
   {
    "duration": 129,
    "start_time": "2025-04-09T19:51:07.966Z"
   },
   {
    "duration": 162,
    "start_time": "2025-04-09T19:51:42.600Z"
   },
   {
    "duration": 9,
    "start_time": "2025-04-09T19:51:53.953Z"
   },
   {
    "duration": 139,
    "start_time": "2025-04-09T19:51:56.502Z"
   },
   {
    "duration": 141,
    "start_time": "2025-04-09T19:52:25.452Z"
   },
   {
    "duration": 257,
    "start_time": "2025-04-09T19:52:37.843Z"
   },
   {
    "duration": 2,
    "start_time": "2025-04-09T19:52:41.901Z"
   },
   {
    "duration": 180,
    "start_time": "2025-04-09T19:52:43.233Z"
   },
   {
    "duration": 469,
    "start_time": "2025-04-09T19:53:31.760Z"
   },
   {
    "duration": 208,
    "start_time": "2025-04-09T19:53:33.586Z"
   },
   {
    "duration": 173,
    "start_time": "2025-04-09T19:53:37.215Z"
   },
   {
    "duration": 10,
    "start_time": "2025-04-09T19:53:44.198Z"
   },
   {
    "duration": 218,
    "start_time": "2025-04-09T19:53:46.233Z"
   },
   {
    "duration": 3,
    "start_time": "2025-04-09T19:54:15.178Z"
   },
   {
    "duration": 129,
    "start_time": "2025-04-09T19:54:21.452Z"
   },
   {
    "duration": 166,
    "start_time": "2025-04-09T19:54:31.748Z"
   },
   {
    "duration": 120,
    "start_time": "2025-04-09T20:29:28.231Z"
   },
   {
    "duration": 139,
    "start_time": "2025-04-09T20:29:38.389Z"
   },
   {
    "duration": 156,
    "start_time": "2025-04-09T20:29:44.619Z"
   },
   {
    "duration": 85,
    "start_time": "2025-04-09T20:32:23.974Z"
   },
   {
    "duration": 70,
    "start_time": "2025-04-09T20:32:34.493Z"
   },
   {
    "duration": 71,
    "start_time": "2025-04-09T20:32:40.293Z"
   },
   {
    "duration": 81,
    "start_time": "2025-04-09T20:32:48.102Z"
   },
   {
    "duration": 77,
    "start_time": "2025-04-09T20:32:50.013Z"
   },
   {
    "duration": 1224,
    "start_time": "2025-04-09T20:32:56.690Z"
   },
   {
    "duration": 12,
    "start_time": "2025-04-09T20:33:05.764Z"
   },
   {
    "duration": 3658,
    "start_time": "2025-04-09T21:23:00.126Z"
   },
   {
    "duration": 20,
    "start_time": "2025-04-09T21:27:06.663Z"
   },
   {
    "duration": 17,
    "start_time": "2025-04-09T21:28:34.305Z"
   },
   {
    "duration": 10,
    "start_time": "2025-04-09T21:29:20.434Z"
   },
   {
    "duration": 9,
    "start_time": "2025-04-09T21:29:46.603Z"
   },
   {
    "duration": 9,
    "start_time": "2025-04-09T21:29:47.865Z"
   },
   {
    "duration": 10,
    "start_time": "2025-04-09T21:30:16.005Z"
   },
   {
    "duration": 13,
    "start_time": "2025-04-09T21:33:14.940Z"
   },
   {
    "duration": 13,
    "start_time": "2025-04-09T21:33:49.006Z"
   },
   {
    "duration": 13,
    "start_time": "2025-04-09T21:35:32.779Z"
   },
   {
    "duration": 20,
    "start_time": "2025-04-09T21:36:02.241Z"
   },
   {
    "duration": 12,
    "start_time": "2025-04-09T21:36:14.566Z"
   },
   {
    "duration": 15,
    "start_time": "2025-04-09T21:39:47.562Z"
   },
   {
    "duration": 336,
    "start_time": "2025-04-09T21:40:45.057Z"
   },
   {
    "duration": 27,
    "start_time": "2025-04-09T21:56:58.217Z"
   },
   {
    "duration": 13,
    "start_time": "2025-04-09T21:59:47.642Z"
   },
   {
    "duration": 542,
    "start_time": "2025-04-09T22:28:23.552Z"
   },
   {
    "duration": 497,
    "start_time": "2025-04-09T22:28:48.783Z"
   },
   {
    "duration": 872,
    "start_time": "2025-04-11T20:13:58.599Z"
   },
   {
    "duration": 21,
    "start_time": "2025-04-11T20:13:59.475Z"
   },
   {
    "duration": 32,
    "start_time": "2025-04-11T20:13:59.498Z"
   },
   {
    "duration": 16,
    "start_time": "2025-04-11T20:13:59.531Z"
   },
   {
    "duration": 39,
    "start_time": "2025-04-11T20:13:59.549Z"
   },
   {
    "duration": 383,
    "start_time": "2025-04-11T20:13:59.589Z"
   },
   {
    "duration": 15,
    "start_time": "2025-04-11T20:13:59.974Z"
   },
   {
    "duration": 12,
    "start_time": "2025-04-11T20:13:59.991Z"
   },
   {
    "duration": 49,
    "start_time": "2025-04-11T20:14:00.004Z"
   },
   {
    "duration": 51,
    "start_time": "2025-04-11T20:14:00.054Z"
   },
   {
    "duration": 154,
    "start_time": "2025-04-11T20:14:00.107Z"
   },
   {
    "duration": 4501,
    "start_time": "2025-04-11T20:14:00.263Z"
   },
   {
    "duration": 186,
    "start_time": "2025-04-11T20:14:04.766Z"
   },
   {
    "duration": 9,
    "start_time": "2025-04-11T20:14:04.955Z"
   },
   {
    "duration": 130,
    "start_time": "2025-04-11T20:14:04.976Z"
   },
   {
    "duration": 13,
    "start_time": "2025-04-11T20:14:05.108Z"
   },
   {
    "duration": 269,
    "start_time": "2025-04-11T20:14:05.123Z"
   },
   {
    "duration": 12,
    "start_time": "2025-04-11T20:14:05.393Z"
   },
   {
    "duration": 622,
    "start_time": "2025-04-11T20:14:05.406Z"
   },
   {
    "duration": 518,
    "start_time": "2025-04-11T20:14:06.029Z"
   },
   {
    "duration": 6,
    "start_time": "2025-04-11T20:16:12.634Z"
   },
   {
    "duration": 8,
    "start_time": "2025-04-11T20:17:13.866Z"
   },
   {
    "duration": 7,
    "start_time": "2025-04-11T20:20:14.587Z"
   },
   {
    "duration": 3,
    "start_time": "2025-04-11T20:20:41.769Z"
   },
   {
    "duration": 108,
    "start_time": "2025-04-11T20:21:17.676Z"
   },
   {
    "duration": 10,
    "start_time": "2025-04-11T20:21:28.241Z"
   },
   {
    "duration": 12,
    "start_time": "2025-04-11T20:21:33.761Z"
   },
   {
    "duration": 12,
    "start_time": "2025-04-11T20:21:46.132Z"
   },
   {
    "duration": 10,
    "start_time": "2025-04-11T20:21:55.249Z"
   },
   {
    "duration": 59,
    "start_time": "2025-04-11T20:23:24.014Z"
   },
   {
    "duration": 10,
    "start_time": "2025-04-11T20:32:44.314Z"
   },
   {
    "duration": 12,
    "start_time": "2025-04-11T20:33:10.610Z"
   },
   {
    "duration": 7,
    "start_time": "2025-04-11T20:34:09.319Z"
   },
   {
    "duration": 14,
    "start_time": "2025-04-11T20:34:54.809Z"
   },
   {
    "duration": 11,
    "start_time": "2025-04-11T20:35:06.640Z"
   },
   {
    "duration": 2,
    "start_time": "2025-04-11T20:35:34.986Z"
   },
   {
    "duration": 24,
    "start_time": "2025-04-11T20:36:03.083Z"
   },
   {
    "duration": 30,
    "start_time": "2025-04-11T20:36:43.557Z"
   },
   {
    "duration": 12,
    "start_time": "2025-04-11T20:36:55.478Z"
   },
   {
    "duration": 892,
    "start_time": "2025-04-12T07:21:08.206Z"
   },
   {
    "duration": 38,
    "start_time": "2025-04-12T07:21:09.100Z"
   },
   {
    "duration": 141,
    "start_time": "2025-04-12T07:21:09.140Z"
   },
   {
    "duration": 19,
    "start_time": "2025-04-12T07:21:09.283Z"
   },
   {
    "duration": 17,
    "start_time": "2025-04-12T07:21:09.305Z"
   },
   {
    "duration": 591,
    "start_time": "2025-04-12T07:21:09.324Z"
   },
   {
    "duration": 27,
    "start_time": "2025-04-12T07:21:09.917Z"
   },
   {
    "duration": 61,
    "start_time": "2025-04-12T07:21:09.946Z"
   },
   {
    "duration": 26,
    "start_time": "2025-04-12T07:21:10.009Z"
   },
   {
    "duration": 43,
    "start_time": "2025-04-12T07:21:10.037Z"
   },
   {
    "duration": 20,
    "start_time": "2025-04-12T07:21:10.081Z"
   },
   {
    "duration": 4613,
    "start_time": "2025-04-12T07:21:10.103Z"
   },
   {
    "duration": 216,
    "start_time": "2025-04-12T07:21:14.718Z"
   },
   {
    "duration": 9,
    "start_time": "2025-04-12T07:21:14.938Z"
   },
   {
    "duration": 150,
    "start_time": "2025-04-12T07:21:14.949Z"
   },
   {
    "duration": 14,
    "start_time": "2025-04-12T07:21:15.101Z"
   },
   {
    "duration": 353,
    "start_time": "2025-04-12T07:21:15.118Z"
   },
   {
    "duration": 14,
    "start_time": "2025-04-12T07:21:15.473Z"
   },
   {
    "duration": 620,
    "start_time": "2025-04-12T07:21:15.488Z"
   },
   {
    "duration": 549,
    "start_time": "2025-04-12T07:21:16.110Z"
   },
   {
    "duration": 9,
    "start_time": "2025-04-12T07:21:16.661Z"
   },
   {
    "duration": 80,
    "start_time": "2025-04-12T07:21:16.672Z"
   },
   {
    "duration": 47,
    "start_time": "2025-04-12T07:21:16.754Z"
   },
   {
    "duration": 84,
    "start_time": "2025-04-12T07:21:16.803Z"
   },
   {
    "duration": 12,
    "start_time": "2025-04-12T07:21:16.889Z"
   },
   {
    "duration": 32,
    "start_time": "2025-04-12T07:21:16.902Z"
   },
   {
    "duration": 26,
    "start_time": "2025-04-12T07:21:16.938Z"
   },
   {
    "duration": 31,
    "start_time": "2025-04-12T07:21:16.966Z"
   },
   {
    "duration": 12,
    "start_time": "2025-04-12T07:21:17.000Z"
   },
   {
    "duration": 8,
    "start_time": "2025-04-12T07:23:56.596Z"
   },
   {
    "duration": 9,
    "start_time": "2025-04-12T07:24:33.091Z"
   },
   {
    "duration": 2271,
    "start_time": "2025-04-12T07:27:13.169Z"
   },
   {
    "duration": 861,
    "start_time": "2025-04-12T07:28:12.934Z"
   },
   {
    "duration": 2077,
    "start_time": "2025-04-12T07:29:38.291Z"
   },
   {
    "duration": 936,
    "start_time": "2025-04-12T07:30:10.759Z"
   },
   {
    "duration": 1971,
    "start_time": "2025-04-12T07:35:18.994Z"
   },
   {
    "duration": 982,
    "start_time": "2025-04-12T07:35:56.509Z"
   },
   {
    "duration": 904,
    "start_time": "2025-04-12T07:36:12.050Z"
   },
   {
    "duration": 903,
    "start_time": "2025-04-12T07:36:29.606Z"
   },
   {
    "duration": 2101,
    "start_time": "2025-04-12T07:36:40.744Z"
   },
   {
    "duration": 1948,
    "start_time": "2025-04-12T07:37:53.967Z"
   },
   {
    "duration": 881,
    "start_time": "2025-04-12T07:39:48.226Z"
   },
   {
    "duration": 2094,
    "start_time": "2025-04-12T07:40:19.413Z"
   },
   {
    "duration": 2302,
    "start_time": "2025-04-12T07:43:17.979Z"
   },
   {
    "duration": 23,
    "start_time": "2025-04-12T07:52:51.387Z"
   },
   {
    "duration": 123,
    "start_time": "2025-04-12T07:53:00.532Z"
   },
   {
    "duration": 1355,
    "start_time": "2025-04-12T07:53:48.263Z"
   },
   {
    "duration": 63,
    "start_time": "2025-04-12T07:59:21.298Z"
   }
  ],
  "colab": {
   "provenance": []
  },
  "kernelspec": {
   "display_name": "Python 3 (ipykernel)",
   "language": "python",
   "name": "python3"
  },
  "language_info": {
   "codemirror_mode": {
    "name": "ipython",
    "version": 3
   },
   "file_extension": ".py",
   "mimetype": "text/x-python",
   "name": "python",
   "nbconvert_exporter": "python",
   "pygments_lexer": "ipython3",
   "version": "3.9.5"
  },
  "toc": {
   "base_numbering": 1,
   "nav_menu": {},
   "number_sections": true,
   "sideBar": true,
   "skip_h1_title": true,
   "title_cell": "Table of Contents",
   "title_sidebar": "Contents",
   "toc_cell": false,
   "toc_position": {},
   "toc_section_display": true,
   "toc_window_display": false
  }
 },
 "nbformat": 4,
 "nbformat_minor": 1
}
