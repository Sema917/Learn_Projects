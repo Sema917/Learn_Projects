{
 "cells": [
  {
   "cell_type": "markdown",
   "id": "735274eb-477e-41c2-b62a-7f6fd57de944",
   "metadata": {},
   "source": [
    "# *Проект спринта №7. Python. Предобработка данных*"
   ]
  },
  {
   "cell_type": "markdown",
   "id": "fb072eba-f5c2-416e-8085-e01d634b19ae",
   "metadata": {},
   "source": [
    "**Автор:** Семин Андрей Геннадьевич\n",
    "\n",
    "**Дата:** 30.01.2025г."
   ]
  },
  {
   "cell_type": "markdown",
   "id": "e8ec01d6-f444-4310-8a54-abc010765f70",
   "metadata": {},
   "source": [
    "<a class=\"anchor\" id=\"1_charter\"></a> \n",
    "## Проект по запросу команды `\"Секреты Темнолесья\"`"
   ]
  },
  {
   "cell_type": "markdown",
   "id": "afc14060-8e35-4d36-a72c-f7e7c083a27a",
   "metadata": {},
   "source": [
    "### Описание проекта\n",
    "\n",
    "Команда игры «Секреты Темнолесья» снова на связи! Коллеги хотят привлечь новую аудиторию и подготовить статью о развитии индустрии игр в начале XXI века. Выпустить статью хотят на одном известном IT-ресурсе. По идее коллег статья должна привлечь внимание людей, которые любят старые игры, и заодно заинтересовать их «Секретами Темнолесья».\n",
    "В статье-исследовании хотят сделать обзор игровых платформ, изучить объёмы продаж игр разных жанров и региональные предпочтения игроков. Акцент в статье хотят сделать на играх жанра RPG — так называют компьютерные ролевые игры, в которых игроки управляют персонажами.\n",
    "Для статьи понадобится изучить развитие игровой индустрии с 2000 по 2013 год. В начале XXI века индустрия игр активно росла: развивались игровые платформы и появлялись мощные консоли (PlayStation 2, Xbox, Nintendo Wii). Возникало множество игровых жанров, а также росло количество многопользовательских онлайн-игр и сообществ. Видеоигры стали считаться важной частью массовой культуры и объединили миллионы людей по всему миру."
   ]
  },
  {
   "cell_type": "markdown",
   "id": "80405156-2be7-4341-80e3-22130036e83b",
   "metadata": {},
   "source": [
    "### Цель проекта:\n",
    "\n",
    "Подготовка, обрабокта и агрегация данных по запросу заказчика для оформления статьи на изветсном IT-ресурсе."
   ]
  },
  {
   "cell_type": "markdown",
   "id": "7012e89d-0218-4fca-a144-71676143d123",
   "metadata": {},
   "source": [
    "### Запрос заказчика:\n",
    "\n",
    "1. Отобрать данные по времени выхода игры. Период с 2000 по 2013 год включительно.\n",
    "2. Категоризовать игры по оценкам пользователей и экспертов. Выделите три категории:\n",
    "- высокая оценка — с оценкой от 8 до 10 и от 80 до 100, включая правые границы интервалов.\n",
    "- средняя оценка — с оценкой от 3 до 8 и от 30 до 80, не включая правые границы интервалов.\n",
    "- низкая оценка — с оценкой от 0 до 3 и от 0 до 30, не включая правые границы интервалов.\n",
    "3. Выделить топ-7 платформ по количеству игр, выпущенных за весь требуемый период."
   ]
  },
  {
   "cell_type": "markdown",
   "id": "e09a6990-d75a-4291-ac43-c04ba3b21f97",
   "metadata": {},
   "source": [
    "### Описание данных: \n",
    "\n",
    "Данные `https://code.s3.yandex.net//datasets/new_games.csv` содержат информацию о продажах игр разных жанров и платформ, а также пользовательские и экспертные оценки игр:\n",
    "- `Name` — название игры.\n",
    "- `Platform` — название платформы.\n",
    "- `Year of Release` — год выпуска игры.\n",
    "- `Genre` — жанр игры.\n",
    "- `NA sales` — продажи в Северной Америке (в миллионах проданных копий).\n",
    "- `EU sales` — продажи в Европе (в миллионах проданных копий).\n",
    "- `JP sales` — продажи в Японии (в миллионах проданных копий).\n",
    "- `Other sales` — продажи в других странах (в миллионах проданных копий).\n",
    "- `Critic Score` — оценка критиков (от 0 до 100).\n",
    "- `User Score` — оценка пользователей (от 0 до 10).\n",
    "- `Rating` — рейтинг организации ESRB (англ. Entertainment Software Rating Board). Эта ассоциация определяет рейтинг компьютерных игр и присваивает им подходящую возрастную категорию."
   ]
  },
  {
   "cell_type": "markdown",
   "id": "75dd244c-90ee-423f-87f1-77be823c596b",
   "metadata": {},
   "source": [
    "## Содержание проекта\n",
    "* [Проект по запросу команды `\"Секреты Темнолесья\"`](#1_charter)\n",
    "* [1. Загрузка данных и знакомтсво с ними](#2_charter)\n",
    "* [2. Проверка ошибок в данных и их предобработка](#3_charter)\n",
    "  * [2.1. Названия, или метки, столбцов датафрейма](#4_charter)\n",
    "  * [2.2. Типы данных](#5_charter)\n",
    "  * [2.3. Наличие пропусков в данных](#6_charter)\n",
    "  * [2.4. Явные и неявные дубликаты в данных](#7_charter)\n",
    "* [3. Фильтрация данных](#8_charter)\n",
    "* [4. Категоризация данных](#9_charter)\n",
    "* [5. Итоговый вывод](#10_charter)"
   ]
  },
  {
   "cell_type": "markdown",
   "id": "4ee29f26-3fdb-4096-9936-5e58b364d66f",
   "metadata": {},
   "source": [
    "<a class=\"anchor\" id=\"2_charter\"></a> \n",
    "## 1. Загрузка данных и знакомство с ними"
   ]
  },
  {
   "cell_type": "code",
   "execution_count": 10,
   "id": "560a2478-caf0-481c-95eb-d4684b2ee782",
   "metadata": {},
   "outputs": [],
   "source": [
    "# Для начала работы с данными и последующего анализа необходимо прикрепление следующих блибилотек:\n",
    "import pandas as pd"
   ]
  },
  {
   "cell_type": "code",
   "execution_count": 11,
   "id": "db73a186-1f45-4dd6-af0c-f01a5a363e13",
   "metadata": {},
   "outputs": [
    {
     "data": {
      "text/html": [
       "<div>\n",
       "<style scoped>\n",
       "    .dataframe tbody tr th:only-of-type {\n",
       "        vertical-align: middle;\n",
       "    }\n",
       "\n",
       "    .dataframe tbody tr th {\n",
       "        vertical-align: top;\n",
       "    }\n",
       "\n",
       "    .dataframe thead th {\n",
       "        text-align: right;\n",
       "    }\n",
       "</style>\n",
       "<table border=\"1\" class=\"dataframe\">\n",
       "  <thead>\n",
       "    <tr style=\"text-align: right;\">\n",
       "      <th></th>\n",
       "      <th>Name</th>\n",
       "      <th>Platform</th>\n",
       "      <th>Year of Release</th>\n",
       "      <th>Genre</th>\n",
       "      <th>NA sales</th>\n",
       "      <th>EU sales</th>\n",
       "      <th>JP sales</th>\n",
       "      <th>Other sales</th>\n",
       "      <th>Critic Score</th>\n",
       "      <th>User Score</th>\n",
       "      <th>Rating</th>\n",
       "    </tr>\n",
       "  </thead>\n",
       "  <tbody>\n",
       "    <tr>\n",
       "      <th>0</th>\n",
       "      <td>Wii Sports</td>\n",
       "      <td>Wii</td>\n",
       "      <td>2006.0</td>\n",
       "      <td>Sports</td>\n",
       "      <td>41.36</td>\n",
       "      <td>28.96</td>\n",
       "      <td>3.77</td>\n",
       "      <td>8.45</td>\n",
       "      <td>76.0</td>\n",
       "      <td>8</td>\n",
       "      <td>E</td>\n",
       "    </tr>\n",
       "    <tr>\n",
       "      <th>1</th>\n",
       "      <td>Super Mario Bros.</td>\n",
       "      <td>NES</td>\n",
       "      <td>1985.0</td>\n",
       "      <td>Platform</td>\n",
       "      <td>29.08</td>\n",
       "      <td>3.58</td>\n",
       "      <td>6.81</td>\n",
       "      <td>0.77</td>\n",
       "      <td>NaN</td>\n",
       "      <td>NaN</td>\n",
       "      <td>NaN</td>\n",
       "    </tr>\n",
       "    <tr>\n",
       "      <th>2</th>\n",
       "      <td>Mario Kart Wii</td>\n",
       "      <td>Wii</td>\n",
       "      <td>2008.0</td>\n",
       "      <td>Racing</td>\n",
       "      <td>15.68</td>\n",
       "      <td>12.76</td>\n",
       "      <td>3.79</td>\n",
       "      <td>3.29</td>\n",
       "      <td>82.0</td>\n",
       "      <td>8.3</td>\n",
       "      <td>E</td>\n",
       "    </tr>\n",
       "    <tr>\n",
       "      <th>3</th>\n",
       "      <td>Wii Sports Resort</td>\n",
       "      <td>Wii</td>\n",
       "      <td>2009.0</td>\n",
       "      <td>Sports</td>\n",
       "      <td>15.61</td>\n",
       "      <td>10.93</td>\n",
       "      <td>3.28</td>\n",
       "      <td>2.95</td>\n",
       "      <td>80.0</td>\n",
       "      <td>8</td>\n",
       "      <td>E</td>\n",
       "    </tr>\n",
       "    <tr>\n",
       "      <th>4</th>\n",
       "      <td>Pokemon Red/Pokemon Blue</td>\n",
       "      <td>GB</td>\n",
       "      <td>1996.0</td>\n",
       "      <td>Role-Playing</td>\n",
       "      <td>11.27</td>\n",
       "      <td>8.89</td>\n",
       "      <td>10.22</td>\n",
       "      <td>1.00</td>\n",
       "      <td>NaN</td>\n",
       "      <td>NaN</td>\n",
       "      <td>NaN</td>\n",
       "    </tr>\n",
       "    <tr>\n",
       "      <th>5</th>\n",
       "      <td>Tetris</td>\n",
       "      <td>GB</td>\n",
       "      <td>1989.0</td>\n",
       "      <td>Puzzle</td>\n",
       "      <td>23.20</td>\n",
       "      <td>2.26</td>\n",
       "      <td>4.22</td>\n",
       "      <td>0.58</td>\n",
       "      <td>NaN</td>\n",
       "      <td>NaN</td>\n",
       "      <td>NaN</td>\n",
       "    </tr>\n",
       "    <tr>\n",
       "      <th>6</th>\n",
       "      <td>New Super Mario Bros.</td>\n",
       "      <td>DS</td>\n",
       "      <td>2006.0</td>\n",
       "      <td>Platform</td>\n",
       "      <td>11.28</td>\n",
       "      <td>9.14</td>\n",
       "      <td>6.5</td>\n",
       "      <td>2.88</td>\n",
       "      <td>89.0</td>\n",
       "      <td>8.5</td>\n",
       "      <td>E</td>\n",
       "    </tr>\n",
       "    <tr>\n",
       "      <th>7</th>\n",
       "      <td>Wii Play</td>\n",
       "      <td>Wii</td>\n",
       "      <td>2006.0</td>\n",
       "      <td>Misc</td>\n",
       "      <td>13.96</td>\n",
       "      <td>9.18</td>\n",
       "      <td>2.93</td>\n",
       "      <td>2.84</td>\n",
       "      <td>58.0</td>\n",
       "      <td>6.6</td>\n",
       "      <td>E</td>\n",
       "    </tr>\n",
       "    <tr>\n",
       "      <th>8</th>\n",
       "      <td>New Super Mario Bros. Wii</td>\n",
       "      <td>Wii</td>\n",
       "      <td>2009.0</td>\n",
       "      <td>Platform</td>\n",
       "      <td>14.44</td>\n",
       "      <td>6.94</td>\n",
       "      <td>4.7</td>\n",
       "      <td>2.24</td>\n",
       "      <td>87.0</td>\n",
       "      <td>8.4</td>\n",
       "      <td>E</td>\n",
       "    </tr>\n",
       "    <tr>\n",
       "      <th>9</th>\n",
       "      <td>Duck Hunt</td>\n",
       "      <td>NES</td>\n",
       "      <td>1984.0</td>\n",
       "      <td>Shooter</td>\n",
       "      <td>26.93</td>\n",
       "      <td>0.63</td>\n",
       "      <td>0.28</td>\n",
       "      <td>0.47</td>\n",
       "      <td>NaN</td>\n",
       "      <td>NaN</td>\n",
       "      <td>NaN</td>\n",
       "    </tr>\n",
       "    <tr>\n",
       "      <th>10</th>\n",
       "      <td>Nintendogs</td>\n",
       "      <td>DS</td>\n",
       "      <td>2005.0</td>\n",
       "      <td>Simulation</td>\n",
       "      <td>9.05</td>\n",
       "      <td>10.95</td>\n",
       "      <td>1.93</td>\n",
       "      <td>2.74</td>\n",
       "      <td>NaN</td>\n",
       "      <td>NaN</td>\n",
       "      <td>NaN</td>\n",
       "    </tr>\n",
       "    <tr>\n",
       "      <th>11</th>\n",
       "      <td>Mario Kart DS</td>\n",
       "      <td>DS</td>\n",
       "      <td>2005.0</td>\n",
       "      <td>Racing</td>\n",
       "      <td>9.71</td>\n",
       "      <td>7.47</td>\n",
       "      <td>4.13</td>\n",
       "      <td>1.90</td>\n",
       "      <td>91.0</td>\n",
       "      <td>8.6</td>\n",
       "      <td>E</td>\n",
       "    </tr>\n",
       "    <tr>\n",
       "      <th>12</th>\n",
       "      <td>Pokemon Gold/Pokemon Silver</td>\n",
       "      <td>GB</td>\n",
       "      <td>1999.0</td>\n",
       "      <td>Role-Playing</td>\n",
       "      <td>9.00</td>\n",
       "      <td>6.18</td>\n",
       "      <td>7.2</td>\n",
       "      <td>0.71</td>\n",
       "      <td>NaN</td>\n",
       "      <td>NaN</td>\n",
       "      <td>NaN</td>\n",
       "    </tr>\n",
       "    <tr>\n",
       "      <th>13</th>\n",
       "      <td>Wii Fit</td>\n",
       "      <td>Wii</td>\n",
       "      <td>2007.0</td>\n",
       "      <td>Sports</td>\n",
       "      <td>8.92</td>\n",
       "      <td>8.03</td>\n",
       "      <td>3.6</td>\n",
       "      <td>2.15</td>\n",
       "      <td>80.0</td>\n",
       "      <td>7.7</td>\n",
       "      <td>E</td>\n",
       "    </tr>\n",
       "    <tr>\n",
       "      <th>14</th>\n",
       "      <td>Kinect Adventures!</td>\n",
       "      <td>X360</td>\n",
       "      <td>2010.0</td>\n",
       "      <td>Misc</td>\n",
       "      <td>15.00</td>\n",
       "      <td>4.89</td>\n",
       "      <td>0.24</td>\n",
       "      <td>1.69</td>\n",
       "      <td>61.0</td>\n",
       "      <td>6.3</td>\n",
       "      <td>E</td>\n",
       "    </tr>\n",
       "  </tbody>\n",
       "</table>\n",
       "</div>"
      ],
      "text/plain": [
       "                           Name Platform  Year of Release         Genre  \\\n",
       "0                    Wii Sports      Wii           2006.0        Sports   \n",
       "1             Super Mario Bros.      NES           1985.0      Platform   \n",
       "2                Mario Kart Wii      Wii           2008.0        Racing   \n",
       "3             Wii Sports Resort      Wii           2009.0        Sports   \n",
       "4      Pokemon Red/Pokemon Blue       GB           1996.0  Role-Playing   \n",
       "5                        Tetris       GB           1989.0        Puzzle   \n",
       "6         New Super Mario Bros.       DS           2006.0      Platform   \n",
       "7                      Wii Play      Wii           2006.0          Misc   \n",
       "8     New Super Mario Bros. Wii      Wii           2009.0      Platform   \n",
       "9                     Duck Hunt      NES           1984.0       Shooter   \n",
       "10                   Nintendogs       DS           2005.0    Simulation   \n",
       "11                Mario Kart DS       DS           2005.0        Racing   \n",
       "12  Pokemon Gold/Pokemon Silver       GB           1999.0  Role-Playing   \n",
       "13                      Wii Fit      Wii           2007.0        Sports   \n",
       "14           Kinect Adventures!     X360           2010.0          Misc   \n",
       "\n",
       "    NA sales EU sales JP sales  Other sales  Critic Score User Score Rating  \n",
       "0      41.36    28.96     3.77         8.45          76.0          8      E  \n",
       "1      29.08     3.58     6.81         0.77           NaN        NaN    NaN  \n",
       "2      15.68    12.76     3.79         3.29          82.0        8.3      E  \n",
       "3      15.61    10.93     3.28         2.95          80.0          8      E  \n",
       "4      11.27     8.89    10.22         1.00           NaN        NaN    NaN  \n",
       "5      23.20     2.26     4.22         0.58           NaN        NaN    NaN  \n",
       "6      11.28     9.14      6.5         2.88          89.0        8.5      E  \n",
       "7      13.96     9.18     2.93         2.84          58.0        6.6      E  \n",
       "8      14.44     6.94      4.7         2.24          87.0        8.4      E  \n",
       "9      26.93     0.63     0.28         0.47           NaN        NaN    NaN  \n",
       "10      9.05    10.95     1.93         2.74           NaN        NaN    NaN  \n",
       "11      9.71     7.47     4.13         1.90          91.0        8.6      E  \n",
       "12      9.00     6.18      7.2         0.71           NaN        NaN    NaN  \n",
       "13      8.92     8.03      3.6         2.15          80.0        7.7      E  \n",
       "14     15.00     4.89     0.24         1.69          61.0        6.3      E  "
      ]
     },
     "execution_count": 11,
     "metadata": {},
     "output_type": "execute_result"
    }
   ],
   "source": [
    "# Процесс загрузки данных в оперативную память блокнота\n",
    "dataset = pd.read_csv('new_games.csv')\n",
    "all_len_dataset = dataset.shape[0]\n",
    "dataset.head(15)"
   ]
  },
  {
   "cell_type": "code",
   "execution_count": 12,
   "id": "a01d1c00-47da-49e3-b6d6-9e7faea5a5bb",
   "metadata": {},
   "outputs": [
    {
     "name": "stdout",
     "output_type": "stream",
     "text": [
      "<class 'pandas.core.frame.DataFrame'>\n",
      "RangeIndex: 16956 entries, 0 to 16955\n",
      "Data columns (total 11 columns):\n",
      " #   Column           Non-Null Count  Dtype  \n",
      "---  ------           --------------  -----  \n",
      " 0   Name             16954 non-null  object \n",
      " 1   Platform         16956 non-null  object \n",
      " 2   Year of Release  16681 non-null  float64\n",
      " 3   Genre            16954 non-null  object \n",
      " 4   NA sales         16956 non-null  float64\n",
      " 5   EU sales         16956 non-null  object \n",
      " 6   JP sales         16956 non-null  object \n",
      " 7   Other sales      16956 non-null  float64\n",
      " 8   Critic Score     8242 non-null   float64\n",
      " 9   User Score       10152 non-null  object \n",
      " 10  Rating           10085 non-null  object \n",
      "dtypes: float64(4), object(7)\n",
      "memory usage: 1.4+ MB\n"
     ]
    },
    {
     "data": {
      "text/plain": [
       "Name               0.000118\n",
       "Platform           0.000000\n",
       "Year of Release    0.016218\n",
       "Genre              0.000118\n",
       "NA sales           0.000000\n",
       "EU sales           0.000000\n",
       "JP sales           0.000000\n",
       "Other sales        0.000000\n",
       "Critic Score       0.513918\n",
       "User Score         0.401274\n",
       "Rating             0.405225\n",
       "dtype: float64"
      ]
     },
     "execution_count": 12,
     "metadata": {},
     "output_type": "execute_result"
    }
   ],
   "source": [
    "# Вызовем метод `info()` для ознакомления со всеми столбцами датасета, \n",
    "# его размерами, типами данных, а также наличием пропусков\n",
    "dataset.info()\n",
    "dataset.isna().mean()"
   ]
  },
  {
   "cell_type": "markdown",
   "id": "9db18747-0468-4443-9889-6a9a9e6f9a4c",
   "metadata": {},
   "source": [
    "С помощью используемых методов была получена следуюая информация о датасете:\n",
    "- Размеры датасета составляют `16956 строк и 11 столбцов`;\n",
    "- Данные представлены типами данных `float64` - 4 шт., `object` - 7 шт.;\n",
    "- В датасете присутствуют столбцы, в которых встречаются пустые значения: `Name` - название игры; `Year of Release` - год релиза; `Critic Score` - оценка критиков; `User Score` - оценка пользователей; `Rating` - рейтинг игры;\n",
    "-  Есть несоответствие в типах данных: графа `Year of Release` представлена типом `float64` (вещественный тип данных), для года может подойти дата, однако представленные данные содержат только год, который можно записать в формате `integer`; графы `EU sales`, `JP sales` и `User Score` представлены типом данных `object` при этом содержат вещественные числа;\n",
    "-  Название столбцов записаны неудобно для дальнейшей работы."
   ]
  },
  {
   "cell_type": "code",
   "execution_count": 13,
   "id": "ce326fa5-085b-431e-beb7-ba6f7ddca21e",
   "metadata": {},
   "outputs": [
    {
     "data": {
      "text/plain": [
       "Name                  2\n",
       "Platform              0\n",
       "Year of Release     275\n",
       "Genre                 2\n",
       "NA sales              0\n",
       "EU sales              0\n",
       "JP sales              0\n",
       "Other sales           0\n",
       "Critic Score       8714\n",
       "User Score         6804\n",
       "Rating             6871\n",
       "dtype: int64"
      ]
     },
     "metadata": {},
     "output_type": "display_data"
    },
    {
     "data": {
      "text/plain": [
       "Name                0.011795\n",
       "Platform            0.000000\n",
       "Year of Release     1.621845\n",
       "Genre               0.011795\n",
       "NA sales            0.000000\n",
       "EU sales            0.000000\n",
       "JP sales            0.000000\n",
       "Other sales         0.000000\n",
       "Critic Score       51.391838\n",
       "User Score         40.127389\n",
       "Rating             40.522529\n",
       "dtype: float64"
      ]
     },
     "metadata": {},
     "output_type": "display_data"
    }
   ],
   "source": [
    "# Изучим количество пропусков в абсолютных и относительных величинах\n",
    "display(dataset.isna().sum())\n",
    "display(dataset.isna().sum() / dataset.shape[0] * 100)"
   ]
  },
  {
   "cell_type": "markdown",
   "id": "d0904185-2ae7-4bc3-b5a6-dad74b85c26f",
   "metadata": {},
   "source": [
    "При изучении пропусков заметно, что часть столбцов содержат незначительное количество пропусков: `Name` - 2 пропуска (0.012%), `Year of Release` - 275 пропусков (1.62%), `Genre` - 2 пропуска (0.012%). Относительно всего объема записей о играх пропущенные значения составляют небольшую долю. Как следствие, для упрощения дальнейшего анализа, этими данными можно принебречь и удалить их так как их значения не сильно отразятся на общей статистики. В отличии от этих данных, есть столбцы, в которых количество пропусков намного больше. К таким столбцам относятся: `Critic Score` - 8714 пропусков (51.39%), `User Score` - 6804 пропусков (40.13%) и `Rating` - 6871 пропуск (40.52%). Все указанные столбцы данных связаны с пользовательской или экспертной оценкой игры, а также ее рейтингом. На основе этого можно выдвинуть гипотезу о том, что данные могут быть пропущены из-за популярности игры (возможно игра непопулярна и количество оценок недостатчно чтобы рассчитать общую оценку игры), году издания (старые игры менее пополуряны из-за этого нет общей оценки), а также отсуствие рейтнга игры может быть обусловлено тем, что организация определяющая рейтинга начала работу в 1994 году и старым играм не был присвоен рейтинг. "
   ]
  },
  {
   "cell_type": "markdown",
   "id": "97eeae43-c357-4cf1-86e5-59cf8e5ed0b3",
   "metadata": {},
   "source": [
    "#### Общий вывод по разделу\n",
    "\n",
    "Представленые данные следует предобработать для осуществления дальнейшего анализа. Необходимо выполнить следующие задачи:\n",
    "- Переименовать название столбцов для упрощения работы с датасетом;\n",
    "- Заменить типы данных для некоторых ячеек;\n",
    "- Проверить уникальное содержимое ячеек на наличие неподходящих данных, дубликатов и возможных опечаток;\n",
    "- Обработать пропуски;\n",
    "- Проверить и избавиться от явных и неявных дубликатов."
   ]
  },
  {
   "cell_type": "markdown",
   "id": "6cce1dad-bd40-46b4-8ff4-88b31af69dac",
   "metadata": {},
   "source": [
    "<a class=\"anchor\" id=\"3_charter\"></a> \n",
    "## 2. Проверка ошибок в данных и их предобработка"
   ]
  },
  {
   "cell_type": "markdown",
   "id": "8a9ae58b-f710-423f-ab6c-f6a6e03425e8",
   "metadata": {},
   "source": [
    "<a class=\"anchor\" id=\"4_charter\"></a> \n",
    "### 2.1 Название, или метки, столбцов датафрейма"
   ]
  },
  {
   "cell_type": "code",
   "execution_count": 14,
   "id": "5b1576a2-6a90-4c60-b22c-f549e75e1afe",
   "metadata": {},
   "outputs": [
    {
     "data": {
      "text/plain": [
       "Index(['name', 'platform', 'year_of_release', 'genre', 'na_sales', 'eu_sales',\n",
       "       'jp_sales', 'other_sales', 'critic_score', 'user_score', 'rating'],\n",
       "      dtype='object')"
      ]
     },
     "execution_count": 14,
     "metadata": {},
     "output_type": "execute_result"
    }
   ],
   "source": [
    "# Для начала работы с датасетом произведем замену названий столбцов датасета,\n",
    "# а также приведем названия к единому регистру\n",
    "dataset=dataset.rename(columns = {'Name':'name',\n",
    "                                 'Platform':'platform',\n",
    "                                 'Year of Release':'year_of_release',\n",
    "                                 'Genre':'genre',\n",
    "                                 'NA sales':'na_sales',\n",
    "                                 'EU sales':'eu_sales',\n",
    "                                 'JP sales':'jp_sales',\n",
    "                                 'Other sales':'other_sales',\n",
    "                                 'Critic Score':'critic_score',\n",
    "                                 'User Score':'user_score',\n",
    "                                 'Rating':'rating'})\n",
    "dataset.columns"
   ]
  },
  {
   "cell_type": "markdown",
   "id": "7839a2b4-c59f-48b3-a95c-47f5f08f8985",
   "metadata": {},
   "source": [
    "Для удобвства работы все названия приведены к нижнему регистру, а также к стилю `snake_case`."
   ]
  },
  {
   "cell_type": "markdown",
   "id": "02cfb496-10de-495d-aef6-9466d5042877",
   "metadata": {},
   "source": [
    "<a class=\"anchor\" id=\"5_charter\"></a> \n",
    "### 2.2 Типы данных"
   ]
  },
  {
   "cell_type": "markdown",
   "id": "5461734a-8c56-488d-9284-e80ff43a9209",
   "metadata": {},
   "source": [
    "В представленных данных есть столбцы с несоответствующим типом данных, которые необходимо перевести в подходящий. Однако есть столбцы, в которых есть пропуски и их необходимо переввести в целочисленный тип данных `int64`. Учитывая что количество пропусков в данных немного им можно принебречь и убрать из датасета.\n",
    "\n",
    "Примечание: некоретный тип данных мог появится при формировании датасета, который автоматически подобрал подходящие типы к столбцам, в которых встречались неоднотипные данные (например: в числовых данных могли быть строковые значения, что привело к автоматическому определение типа `object` вместо типа `integer` или `float`)."
   ]
  },
  {
   "cell_type": "code",
   "execution_count": 15,
   "id": "ebb81f78-79af-471d-8aa0-3de9f99eda36",
   "metadata": {},
   "outputs": [
    {
     "data": {
      "text/plain": [
       "'Количество строк данных до удаления записей без года: 16956'"
      ]
     },
     "metadata": {},
     "output_type": "display_data"
    },
    {
     "data": {
      "text/plain": [
       "'Количество данных после удаление составило: 16681.'"
      ]
     },
     "metadata": {},
     "output_type": "display_data"
    },
    {
     "data": {
      "text/plain": [
       "'Удалено: 275 записей.'"
      ]
     },
     "metadata": {},
     "output_type": "display_data"
    },
    {
     "data": {
      "text/plain": [
       "'Осталось: 98.38%'"
      ]
     },
     "metadata": {},
     "output_type": "display_data"
    }
   ],
   "source": [
    "# Первоначально сделаем выборку данных по году в зависимости от наличия данных в записях\n",
    "len_dataset = dataset.shape[0]\n",
    "display(f'Количество строк данных до удаления записей без года: {len_dataset}')\n",
    "dataset = dataset[dataset['year_of_release'].isna() == False]\n",
    "display(f'Количество данных после удаление составило: {dataset.shape[0]}.')\n",
    "display(f'Удалено: {len_dataset - dataset.shape[0]} записей.')\n",
    "display(f'Осталось: {round(dataset.shape[0] / len_dataset * 100,2)}%')"
   ]
  },
  {
   "cell_type": "markdown",
   "id": "1fc12af7-d182-45da-8aa6-a6efff2688b7",
   "metadata": {},
   "source": [
    "Для удобства обработки данных было удалено 1.62% записей, которые содержали пустые значения в столбце года релиза игры. Следующим шагом будет преобразование типа данных из `float64` в `integer`."
   ]
  },
  {
   "cell_type": "code",
   "execution_count": 16,
   "id": "bbc5965f-1990-47a6-94b0-bab04a4a0f1f",
   "metadata": {},
   "outputs": [
    {
     "data": {
      "text/plain": [
       "dtype('int16')"
      ]
     },
     "execution_count": 16,
     "metadata": {},
     "output_type": "execute_result"
    }
   ],
   "source": [
    "# Информация в графе год релиза игры содержит небольшие значения, которые могут иметь максимальное \n",
    "# значение 2025 (настоящий год проведения работы с датасетом).\n",
    "# Для удобства и уменьшения объема памяти, используемой датасетом вопользуемся методом `to_numeric`\n",
    "# с использованием параметра `downcast`.\n",
    "dataset['year_of_release'] = pd.to_numeric(dataset['year_of_release'], downcast = 'integer')\n",
    "dataset['year_of_release'].dtypes"
   ]
  },
  {
   "cell_type": "markdown",
   "id": "ffa3f79c-59f8-490d-96fd-458fe13b2c06",
   "metadata": {},
   "source": [
    "Данные в столбце год релиза игры были преобразованы из типа `float64` в целочисленный `int16`, который занимает меньший объем в оперативной памяти. Следующий шаг это преобразование типов данных в столбцах `EU sales`, `JP sales` и `User Score`. Данные в перечисленных столбцах представлены в формате `object`."
   ]
  },
  {
   "cell_type": "code",
   "execution_count": 17,
   "id": "1145440a-db0b-42bc-bf82-c4a0a8c568af",
   "metadata": {},
   "outputs": [
    {
     "data": {
      "text/plain": [
       "eu_sales  jp_sales  user_score\n",
       "0.12      0.0       8.1           1\n",
       "          0.01      3.6           1\n",
       "                    5.1           1\n",
       "                    5.9           1\n",
       "unknown   1.93      9             1\n",
       "dtype: int64"
      ]
     },
     "execution_count": 17,
     "metadata": {},
     "output_type": "execute_result"
    }
   ],
   "source": [
    "# Для начала необходимо проверить какие данные содержаться в заявленных столбцах\n",
    "# Для этого выведем уникальные значения представленные в них.\n",
    "dataset[['eu_sales', 'jp_sales', 'user_score']].value_counts().tail()"
   ]
  },
  {
   "cell_type": "markdown",
   "id": "0cdf0563-25d2-4e2c-916b-c87eb5427296",
   "metadata": {},
   "source": [
    "Проверка показала, что в данных присутствуют текстовые записи `unknown`. Это привело к автоматическому определению типа данных `object`. В переподе значение 'unknown' - не определено, вероятнее всего для перечисленных игр неопределены значения продаж или пользовательская оценка. Для удобства обработки данных замением это значение на пропуск и преобразуем данные в тип данных `float64` для дальнейшей дообработки пропусков."
   ]
  },
  {
   "cell_type": "code",
   "execution_count": 18,
   "id": "1b34d751-0723-4193-86a8-96dbfb456c98",
   "metadata": {},
   "outputs": [
    {
     "data": {
      "text/plain": [
       "eu_sales      float32\n",
       "jp_sales      float32\n",
       "user_score    float32\n",
       "dtype: object"
      ]
     },
     "execution_count": 18,
     "metadata": {},
     "output_type": "execute_result"
    }
   ],
   "source": [
    "dataset['eu_sales'] = pd.to_numeric(dataset['eu_sales'], errors = 'coerce', downcast = 'float')\n",
    "dataset['jp_sales'] = pd.to_numeric(dataset['jp_sales'], errors = 'coerce', downcast = 'float')\n",
    "dataset['user_score'] = pd.to_numeric(dataset['user_score'], errors = 'coerce', downcast = 'float')\n",
    "dataset[['eu_sales', 'jp_sales', 'user_score']].dtypes"
   ]
  },
  {
   "cell_type": "markdown",
   "id": "fa75a933-8b29-4169-8de8-2b02572dee79",
   "metadata": {},
   "source": [
    "Проверка типов данных подтвердила, что преобразование данных из типа `object` в `float32` произошла успешно и теперь мы сможем обрабатывать данные в этих столбцах как числовые значения."
   ]
  },
  {
   "cell_type": "markdown",
   "id": "25d1ff02-716b-4f20-9032-9dd7fde9a69c",
   "metadata": {},
   "source": [
    "<a class=\"anchor\" id=\"6_charter\"></a> \n",
    "### 2.3 Наличие пропусков в данных"
   ]
  },
  {
   "cell_type": "markdown",
   "id": "9bad598c-e32a-4f1d-995f-c1ab7f62b9ce",
   "metadata": {},
   "source": [
    "Ранее мы уже провели проверку на пропуски данных. Однако, в предыдущем подразделе для преобразования типов данных мы убрали из датасета строчки с пропуском в годе реализации, а также заменили значения `unknown` на пропуски. Поэтому первым шагом снова проверим количество пропусков в данных для принятия решений о методе для обработки пропусков."
   ]
  },
  {
   "cell_type": "code",
   "execution_count": 19,
   "id": "3156ed43-a8c3-49a8-b53c-83e96dde99d9",
   "metadata": {},
   "outputs": [
    {
     "name": "stdout",
     "output_type": "stream",
     "text": [
      "<class 'pandas.core.frame.DataFrame'>\n",
      "Int64Index: 16681 entries, 0 to 16955\n",
      "Data columns (total 11 columns):\n",
      " #   Column           Non-Null Count  Dtype  \n",
      "---  ------           --------------  -----  \n",
      " 0   name             16679 non-null  object \n",
      " 1   platform         16681 non-null  object \n",
      " 2   year_of_release  16681 non-null  int16  \n",
      " 3   genre            16679 non-null  object \n",
      " 4   na_sales         16681 non-null  float64\n",
      " 5   eu_sales         16675 non-null  float32\n",
      " 6   jp_sales         16677 non-null  float32\n",
      " 7   other_sales      16681 non-null  float64\n",
      " 8   critic_score     8085 non-null   float64\n",
      " 9   user_score       7558 non-null   float32\n",
      " 10  rating           9901 non-null   object \n",
      "dtypes: float32(3), float64(3), int16(1), object(4)\n",
      "memory usage: 1.2+ MB\n"
     ]
    }
   ],
   "source": [
    "# Снова проверим данные с помощью метода `info()`\n",
    "dataset.info()"
   ]
  },
  {
   "cell_type": "markdown",
   "id": "aa8126cc-d071-4c71-ae0c-03d695138dff",
   "metadata": {},
   "source": [
    "После преобразования типов данных получили следующее описание датасета:\n",
    "- Количество столбцов - 11 шт., количество строк - 16681 (уменьшилось на 275 по сравнению с первичным датасетом);\n",
    "- Типы данных датасета: `float32` - 3 столбца; `float64` - 3 столбца; `int16` - 1 столбец; `object` - 4 столбца.\n",
    "- Изменилось количество пропусков (об этом поговорим после следующей проверки);\n",
    "- Появились пропуски в тех столбцах, где раньше их не было: `eu_sales`, `jp_sales`.\n",
    "\n",
    "Для подбора метода необходимо оценить отношение количество пропусков."
   ]
  },
  {
   "cell_type": "code",
   "execution_count": 20,
   "id": "860c7826-8c60-4dd8-83db-e4db7ad216c4",
   "metadata": {},
   "outputs": [
    {
     "data": {
      "text/plain": [
       "name                  2\n",
       "platform              0\n",
       "year_of_release       0\n",
       "genre                 2\n",
       "na_sales              0\n",
       "eu_sales              6\n",
       "jp_sales              4\n",
       "other_sales           0\n",
       "critic_score       8596\n",
       "user_score         9123\n",
       "rating             6780\n",
       "dtype: int64"
      ]
     },
     "metadata": {},
     "output_type": "display_data"
    },
    {
     "data": {
      "text/plain": [
       "name                0.011990\n",
       "platform            0.000000\n",
       "year_of_release     0.000000\n",
       "genre               0.011990\n",
       "na_sales            0.000000\n",
       "eu_sales            0.035969\n",
       "jp_sales            0.023979\n",
       "other_sales         0.000000\n",
       "critic_score       51.531683\n",
       "user_score         54.690966\n",
       "rating             40.645045\n",
       "dtype: float64"
      ]
     },
     "metadata": {},
     "output_type": "display_data"
    }
   ],
   "source": [
    "# Изучим количество пропусков в абсолютных и относительных величинах в новом датасете\n",
    "display(dataset.isna().sum())\n",
    "display(dataset.isna().sum() / dataset.shape[0] * 100)"
   ]
  },
  {
   "cell_type": "markdown",
   "id": "19cf8d12-a765-4289-bd40-7bf4ab5c5505",
   "metadata": {},
   "source": [
    "Из результата видно, что пропусков в столбцах `name` и `genre` не изменилось и составляет малую часть, которую также можно удалить из выборки. Тем более это также подтверждается задачей, которую хотят выполнить коллеги из \"Темнолесья\" - сделать акцент на играх RPG, что подтверждает важность жанра.\n",
    "\n",
    "Пропуски в столбцах `eu_sales` и `jp_sales` также малы относительно всего набора данных. В таком случае можно выбрать два метода: не обращать внимание на пропуски (это повлияет на анализ объемов продаж игр в зависимости от страны) или заменить пропуски средним значением продаж в зависимости от года выхода игры, платформы и региона (есть вероятность, что игры определенных жанров имеют различные уровни популярности в различных странах).\n",
    "\n",
    "Пропуски в столбцах `critic_score`, `user_score` и `rating` составляют большую долю относительно всех данных. В таком случае не получится подобрать средние значения под каждое пропущенное значение, потому что количество пропусков много и это повлияет на достоверность данных. Ранее мы уже выдвинули гипотезу, что такое количество пропусков может быть объяснено тем, что некоторые игры менее популярны и эксперты и пользователи их еще не оценила, а рейтинг могли не присвоить из-за раннего выхода игры и отсуствия процедуры определения рейтинга. Первично необходимо проверить данную теорию."
   ]
  },
  {
   "cell_type": "code",
   "execution_count": 21,
   "id": "c5fe9c36-a83b-41bc-bdf9-5fbcb42e9d69",
   "metadata": {},
   "outputs": [
    {
     "data": {
      "text/plain": [
       "year_of_release\n",
       "1980     0.000000\n",
       "1981     0.000000\n",
       "1982     0.000000\n",
       "1983     0.000000\n",
       "1984     0.000000\n",
       "1985     7.142857\n",
       "1986     0.000000\n",
       "1987     0.000000\n",
       "1988     6.666667\n",
       "1989     0.000000\n",
       "1990     0.000000\n",
       "1991     0.000000\n",
       "1992     4.651163\n",
       "1993     0.000000\n",
       "1994     0.826446\n",
       "1995     0.000000\n",
       "1996     2.621723\n",
       "1997     6.484642\n",
       "1998     8.333333\n",
       "1999    12.609971\n",
       "2000    42.016807\n",
       "2001    70.468432\n",
       "2002    78.903456\n",
       "2003    79.087452\n",
       "2004    78.339818\n",
       "2005    75.263158\n",
       "2006    67.058824\n",
       "2007    68.719212\n",
       "2008    68.719723\n",
       "2009    70.827586\n",
       "2010    63.643471\n",
       "2011    61.792863\n",
       "2012    53.731343\n",
       "2013    58.152174\n",
       "2014    59.417808\n",
       "2015    51.960784\n",
       "2016    55.818540\n",
       "dtype: float64"
      ]
     },
     "metadata": {},
     "output_type": "display_data"
    },
    {
     "data": {
      "text/plain": [
       "year_of_release\n",
       "1980     0.000000\n",
       "1981     0.000000\n",
       "1982     0.000000\n",
       "1983     0.000000\n",
       "1984     0.000000\n",
       "1985     7.142857\n",
       "1986     0.000000\n",
       "1987     0.000000\n",
       "1988     6.666667\n",
       "1989     0.000000\n",
       "1990     0.000000\n",
       "1991     0.000000\n",
       "1992     2.325581\n",
       "1993     0.000000\n",
       "1994     0.826446\n",
       "1995     0.000000\n",
       "1996     2.996255\n",
       "1997     5.802048\n",
       "1998     7.291667\n",
       "1999    11.730205\n",
       "2000    40.336134\n",
       "2001    67.820774\n",
       "2002    75.566150\n",
       "2003    75.411914\n",
       "2004    73.540856\n",
       "2005    69.684211\n",
       "2006    61.372549\n",
       "2007    58.045977\n",
       "2008    50.173010\n",
       "2009    45.448276\n",
       "2010    39.796716\n",
       "2011    43.777198\n",
       "2012    48.507463\n",
       "2013    50.362319\n",
       "2014    44.863014\n",
       "2015    37.091503\n",
       "2016    45.759369\n",
       "dtype: float64"
      ]
     },
     "metadata": {},
     "output_type": "display_data"
    },
    {
     "data": {
      "text/plain": [
       "year_of_release\n",
       "1980     0.000000\n",
       "1981     0.000000\n",
       "1982     0.000000\n",
       "1983     0.000000\n",
       "1984     0.000000\n",
       "1985     7.142857\n",
       "1986     0.000000\n",
       "1987     0.000000\n",
       "1988     6.666667\n",
       "1989     0.000000\n",
       "1990     0.000000\n",
       "1991     0.000000\n",
       "1992     2.325581\n",
       "1993     0.000000\n",
       "1994     0.826446\n",
       "1995     0.000000\n",
       "1996     2.996255\n",
       "1997     6.143345\n",
       "1998     8.072917\n",
       "1999     9.384164\n",
       "2000    29.971989\n",
       "2001    53.564155\n",
       "2002    55.899881\n",
       "2003    66.539924\n",
       "2004    63.942931\n",
       "2005    62.105263\n",
       "2006    54.509804\n",
       "2007    52.545156\n",
       "2008    46.366782\n",
       "2009    43.103448\n",
       "2010    37.294762\n",
       "2011    43.864230\n",
       "2012    51.343284\n",
       "2013    55.978261\n",
       "2014    56.506849\n",
       "2015    49.019608\n",
       "2016    51.873767\n",
       "dtype: float64"
      ]
     },
     "execution_count": 21,
     "metadata": {},
     "output_type": "execute_result"
    }
   ],
   "source": [
    "display(dataset.groupby('year_of_release')['rating'].count() / dataset.groupby('year_of_release')['year_of_release'].count() * 100)\n",
    "display(dataset.groupby('year_of_release')['critic_score'].count() / dataset.groupby('year_of_release')['year_of_release'].count() * 100)\n",
    "dataset.groupby('year_of_release')['user_score'].count() / dataset.groupby('year_of_release')['year_of_release'].count() * 100"
   ]
  },
  {
   "cell_type": "markdown",
   "id": "26b98194-11a0-4843-b0c8-e6a37f2fcb0f",
   "metadata": {},
   "source": [
    "Гипотеза о том, что игры вышедшие в более раннии годы не прошли процедуру рейтинга не подтвердилась так как рейтинг есть у игр, которые вышли в 1985, но при игры вышедшие в 1995 году не получили рейтинг. Более детальное расммотрение полученного результата позволяет выдвинуть другую гипотезу: `Игры получают рейтинг в зависимости от их популярности: если у игры есть оценка критиков или пользователей, то у игры есть рейтинг.` Однако на данном этапе подтвердить эту гипотезу проблематично и потребует больших ресурсов. Как следствие, учитывая зависимость рейтинга от оценок, пропуски по данному показателю также можно заменить на значение-индикатор. Приступим к обработке пропусков.\n"
   ]
  },
  {
   "cell_type": "code",
   "execution_count": 22,
   "id": "94b2f0e9-1f0d-478b-9a11-6b02efa2c1ad",
   "metadata": {},
   "outputs": [
    {
     "data": {
      "text/plain": [
       "'Количество записей до удаления строк с пропусками в названии игр или жанре: 16681.'"
      ]
     },
     "metadata": {},
     "output_type": "display_data"
    },
    {
     "data": {
      "text/plain": [
       "'Количество записей после удаления строк с пропусками: 16679.'"
      ]
     },
     "metadata": {},
     "output_type": "display_data"
    },
    {
     "data": {
      "text/plain": [
       "'Удалено: 2 значений.'"
      ]
     },
     "metadata": {},
     "output_type": "display_data"
    },
    {
     "data": {
      "text/plain": [
       "'Осталось: 99.98801031113243 % значений от предыдущего датасета.'"
      ]
     },
     "metadata": {},
     "output_type": "display_data"
    }
   ],
   "source": [
    "# Первоочередно избавимся от строк с пропусками в названии игры и жанре\n",
    "len_dataset = dataset.shape[0]\n",
    "display(f'Количество записей до удаления строк с пропусками в названии игр или жанре: {len_dataset}.')\n",
    "dataset = dataset[(dataset['name'].isna() == False) | (dataset['genre'].isna()==False)]\n",
    "display (f'Количество записей после удаления строк с пропусками: {dataset.shape[0]}.')\n",
    "display(f'Удалено: {len_dataset - dataset.shape[0]} значений.')\n",
    "display(f'Осталось: {dataset.shape[0]/len_dataset * 100} % значений от предыдущего датасета.')"
   ]
  },
  {
   "cell_type": "code",
   "execution_count": 23,
   "id": "9f8a4b9f-db7d-4fda-a6d8-04ce88b323e4",
   "metadata": {},
   "outputs": [],
   "source": [
    "# Теперь заменим пропуски в числах медианным значением по группе игр определнного года, платформы и жанра\n",
    "# Функция для замены пропусков медианным значением по группе игр определнного года, платформы и жанра для столбца eu_sales\n",
    "def mean_for_play_eu_sales (row):\n",
    "    if pd.isna(row['eu_sales']):\n",
    "        group = dataset[(dataset['year_of_release'] == row['year_of_release'])&\n",
    "                        (dataset['platform'] == row['platform'])&\n",
    "                        (dataset['genre'] == row['genre'])]\n",
    "        return group['eu_sales'].median()\n",
    "    else:\n",
    "        return row['eu_sales']\n",
    "# Функция для замены пропусков медианным значением по группе игр определнного года, платформы и жанра для столбца jp_sales        \n",
    "def mean_for_play_jp_sales (row):\n",
    "    if pd.isna(row['jp_sales']):\n",
    "        group = dataset[(dataset['year_of_release'] == row['year_of_release'])&\n",
    "                        (dataset['platform'] == row['platform'])&\n",
    "                        (dataset['genre'] == row['genre'])]\n",
    "        return group['jp_sales'].mean()\n",
    "    else:\n",
    "        return row['jp_sales']\n",
    "        \n",
    "dataset['eu_sales'] = dataset.apply(mean_for_play_eu_sales, axis=1)\n",
    "dataset['jp_sales'] = dataset.apply(mean_for_play_jp_sales, axis=1)"
   ]
  },
  {
   "cell_type": "markdown",
   "id": "d13ecfa6-2ca0-4ed0-b8b7-cf0a4d3ff4c7",
   "metadata": {},
   "source": [
    "Замена пропусков в столбцах продаж игр в различных страных выполнена. Для этого созданы две отдельные функции, которые заменили пропуски медианным значением в зависимости от года релиза игры, платформы и жанра."
   ]
  },
  {
   "cell_type": "markdown",
   "id": "7cf5b102-2adf-41d0-bb3c-6d46898f3d77",
   "metadata": {},
   "source": [
    "Теперь приступим к замене пропусков в столбцах оценок. Оценки экспертов выставляются по стобалльной системе (от 0 до 100), а оценки пользователей по десятибалльной системе (от 0 до 100). Таким образом, чтобы не менять формат типа данных ячеек можно заменить пропуски значением индикатором \"-1\". Что будет означать, что игра не получил оценку. При этом, оценка экспертов представлена целым числом, поэтому тип данных также можно заменить.\n"
   ]
  },
  {
   "cell_type": "code",
   "execution_count": 24,
   "id": "4e140cf2-c7ac-42a4-9c1f-dc1a444d9d55",
   "metadata": {},
   "outputs": [],
   "source": [
    "dataset['critic_score'] = dataset['critic_score'].fillna(-1)\n",
    "dataset['user_score'] = dataset['user_score'].fillna(-1)\n",
    "dataset['critic_score'] = pd.to_numeric(dataset['critic_score'], downcast = 'integer')"
   ]
  },
  {
   "cell_type": "markdown",
   "id": "3aefa79d-aa81-43e5-8f6d-3c0871802844",
   "metadata": {},
   "source": [
    "Приступим к заполнению пропусков в столбце `rating`. Столбец содержит значения в типе данных `object`, все значения в столбце представлены строковыми данными. Для заполнение пропусков подойдет значение-индикатор \"Unknown\" (руск. - неопределен). При этом, тип данных столбца не будет изменен."
   ]
  },
  {
   "cell_type": "code",
   "execution_count": 25,
   "id": "6a5f82f7-48c0-41ad-aae7-35004730f8ac",
   "metadata": {},
   "outputs": [],
   "source": [
    "dataset['rating'] = dataset['rating'].fillna('Unknown')"
   ]
  },
  {
   "cell_type": "code",
   "execution_count": 26,
   "id": "e96a54c1-35a9-4d76-94e4-24c9451d161f",
   "metadata": {
    "scrolled": true
   },
   "outputs": [
    {
     "name": "stdout",
     "output_type": "stream",
     "text": [
      "<class 'pandas.core.frame.DataFrame'>\n",
      "Int64Index: 16679 entries, 0 to 16955\n",
      "Data columns (total 11 columns):\n",
      " #   Column           Non-Null Count  Dtype  \n",
      "---  ------           --------------  -----  \n",
      " 0   name             16679 non-null  object \n",
      " 1   platform         16679 non-null  object \n",
      " 2   year_of_release  16679 non-null  int16  \n",
      " 3   genre            16679 non-null  object \n",
      " 4   na_sales         16679 non-null  float64\n",
      " 5   eu_sales         16679 non-null  float64\n",
      " 6   jp_sales         16679 non-null  float64\n",
      " 7   other_sales      16679 non-null  float64\n",
      " 8   critic_score     16679 non-null  int8   \n",
      " 9   user_score       16679 non-null  float32\n",
      " 10  rating           16679 non-null  object \n",
      "dtypes: float32(1), float64(4), int16(1), int8(1), object(4)\n",
      "memory usage: 1.3+ MB\n"
     ]
    },
    {
     "data": {
      "text/plain": [
       "None"
      ]
     },
     "metadata": {},
     "output_type": "display_data"
    },
    {
     "data": {
      "text/plain": [
       "name               0\n",
       "platform           0\n",
       "year_of_release    0\n",
       "genre              0\n",
       "na_sales           0\n",
       "eu_sales           0\n",
       "jp_sales           0\n",
       "other_sales        0\n",
       "critic_score       0\n",
       "user_score         0\n",
       "rating             0\n",
       "dtype: int64"
      ]
     },
     "metadata": {},
     "output_type": "display_data"
    }
   ],
   "source": [
    "# Осуществим проверку заполнения всех пропусков\n",
    "display(dataset.info())\n",
    "display(dataset.isna().sum())"
   ]
  },
  {
   "cell_type": "markdown",
   "id": "e4f9ddac-5110-417d-9340-62bb7b69ae5c",
   "metadata": {},
   "source": [
    "В результате все пропуски были устранены и перезаполнены медианными значеними или значениями индикатарами. Также был изменен тип данных в столбце `critic_score` на `int8`."
   ]
  },
  {
   "cell_type": "markdown",
   "id": "258bd00a-9c0f-433d-b1cf-ce782436b96a",
   "metadata": {},
   "source": [
    "<a class=\"anchor\" id=\"7_charter\"></a> \n",
    "### 2.4 Явные и неявные дубликаты в данных"
   ]
  },
  {
   "cell_type": "markdown",
   "id": "714c0b46-eb39-4f9e-a03f-1c411dbaffa0",
   "metadata": {},
   "source": [
    "Для начала следует проверить наличие неявных дубликатов в данных. Появление неявных дубликатов может быть вызванно различными условиями (сокращение названий, ошибки при вводе данных: наличие лишних пробелов или иных символов, орфографические ошибки, повторение записей с разными значениями и т.д.)"
   ]
  },
  {
   "cell_type": "markdown",
   "id": "c6026be2-3baf-4983-b282-6a0bbc3c5fff",
   "metadata": {},
   "source": [
    "Первостепенно выведем уникальные значения по годам, жанрам, платформам, рейтингу и названием игр\n"
   ]
  },
  {
   "cell_type": "code",
   "execution_count": 27,
   "id": "533b1efb-f0d0-4cc6-9f61-a4518b89d4c2",
   "metadata": {},
   "outputs": [
    {
     "data": {
      "text/plain": [
       "array([2006, 1985, 2008, 2009, 1996, 1989, 1984, 2005, 1999, 2007, 2010,\n",
       "       2013, 2004, 1990, 1988, 2002, 2001, 2011, 1998, 2015, 2012, 2014,\n",
       "       1992, 1997, 1993, 1994, 1982, 2016, 2003, 1986, 2000, 1995, 1991,\n",
       "       1981, 1987, 1980, 1983], dtype=int16)"
      ]
     },
     "execution_count": 27,
     "metadata": {},
     "output_type": "execute_result"
    }
   ],
   "source": [
    "dataset['year_of_release'].unique()"
   ]
  },
  {
   "cell_type": "markdown",
   "id": "8508a1d7-342b-46fc-8c0d-b4aa3acae296",
   "metadata": {},
   "source": [
    "При рассмотрении значений в столбце `year_of_release` неявных дубликатов необнаружено. Все значения уникальны."
   ]
  },
  {
   "cell_type": "code",
   "execution_count": 28,
   "id": "c25ce0d1-a4da-4feb-bf7d-ae2f0492a4c1",
   "metadata": {},
   "outputs": [
    {
     "data": {
      "text/plain": [
       "array(['E', 'Unknown', 'M', 'T', 'E10+', 'K-A', 'AO', 'EC', 'RP'],\n",
       "      dtype=object)"
      ]
     },
     "execution_count": 28,
     "metadata": {},
     "output_type": "execute_result"
    }
   ],
   "source": [
    "dataset['rating'].unique()"
   ]
  },
  {
   "cell_type": "markdown",
   "id": "8a67dd95-14cd-438a-bd9d-c7488a450c44",
   "metadata": {},
   "source": [
    "При рассмотрении значений в столбце `rating` неявных дубликатов необнаружено. Все значения уникальны."
   ]
  },
  {
   "cell_type": "code",
   "execution_count": 29,
   "id": "4140b502-de8d-4c68-bcd8-051a4d7c8252",
   "metadata": {},
   "outputs": [
    {
     "data": {
      "text/plain": [
       "array(['Sports', 'Platform', 'Racing', 'Role-Playing', 'Puzzle', 'Misc',\n",
       "       'Shooter', 'Simulation', 'Action', 'Fighting', 'Adventure',\n",
       "       'Strategy', 'MISC', 'ROLE-PLAYING', 'RACING', 'ACTION', 'SHOOTER',\n",
       "       'FIGHTING', 'SPORTS', 'PLATFORM', 'ADVENTURE', 'SIMULATION',\n",
       "       'PUZZLE', 'STRATEGY'], dtype=object)"
      ]
     },
     "execution_count": 29,
     "metadata": {},
     "output_type": "execute_result"
    }
   ],
   "source": [
    "dataset['genre'].unique()"
   ]
  },
  {
   "cell_type": "markdown",
   "id": "55335812-6a43-4a95-a8ca-2d5c44d2e467",
   "metadata": {},
   "source": [
    "В столбце `genre` присутвуют неявные дубликаты. Жанры задублировались из-за записи в разных регистрах. "
   ]
  },
  {
   "cell_type": "code",
   "execution_count": 30,
   "id": "79367e66-ff76-4355-a8b9-5cde5cbd20bc",
   "metadata": {},
   "outputs": [],
   "source": [
    "# Данные в колонке `genre` представляют собой строки, потому воспользуемся акцессором `.str`\n",
    "# и приведем все записи к нижнему регистру\n",
    "dataset['genre'] = dataset['genre'].str.lower()"
   ]
  },
  {
   "cell_type": "code",
   "execution_count": 31,
   "id": "950424d1-7764-4de6-acfb-bb275052bfbc",
   "metadata": {},
   "outputs": [
    {
     "data": {
      "text/plain": [
       "array(['Wii', 'NES', 'GB', 'DS', 'X360', 'PS3', 'PS2', 'SNES', 'GBA',\n",
       "       'PS4', '3DS', 'N64', 'PS', 'XB', 'PC', '2600', 'PSP', 'XOne',\n",
       "       'WiiU', 'GC', 'GEN', 'DC', 'PSV', 'SAT', 'SCD', 'WS', 'NG', 'TG16',\n",
       "       '3DO', 'GG', 'PCFX'], dtype=object)"
      ]
     },
     "execution_count": 31,
     "metadata": {},
     "output_type": "execute_result"
    }
   ],
   "source": [
    "dataset['platform'].unique()"
   ]
  },
  {
   "cell_type": "markdown",
   "id": "75deb3e3-b4de-4083-9364-6b938b77b6e2",
   "metadata": {},
   "source": [
    "При рассмотрении значений в столбце `platform` неявных дубликатов необнаружено. Все значения уникальны."
   ]
  },
  {
   "cell_type": "code",
   "execution_count": 32,
   "id": "ce01c546-1b49-4b73-8ee4-809adee1fdfd",
   "metadata": {},
   "outputs": [
    {
     "data": {
      "text/plain": [
       "Need for Speed: Most Wanted                            12\n",
       "Monopoly                                                9\n",
       "FIFA 14                                                 9\n",
       "Ratatouille                                             9\n",
       "LEGO Marvel Super Heroes                                9\n",
       "                                                       ..\n",
       "Gran Turismo 2                                          1\n",
       "I Spy: Fun House                                        1\n",
       "Zettai Kaikyuu Gakuen: Eden with Roses and Phantasm     1\n",
       "Jewel Quest: Expeditions                                1\n",
       "Crystal Castles                                         1\n",
       "Name: name, Length: 11426, dtype: int64"
      ]
     },
     "execution_count": 32,
     "metadata": {},
     "output_type": "execute_result"
    }
   ],
   "source": [
    "dataset['name'].value_counts()"
   ]
  },
  {
   "cell_type": "markdown",
   "id": "c119ee1e-5c39-49e8-9915-77b510ca227e",
   "metadata": {},
   "source": [
    "В первом приближении дубликатов в названии игр не обнаружено, однако следует привести все к единому регистру."
   ]
  },
  {
   "cell_type": "code",
   "execution_count": 33,
   "id": "19b0fcce-d9d5-4569-a0ad-771cde26b727",
   "metadata": {},
   "outputs": [],
   "source": [
    "# Действуем по аналогии со столбцом `genre`\n",
    "dataset['name'] = dataset['name'].str.lower()"
   ]
  },
  {
   "cell_type": "markdown",
   "id": "302a61ec-ed6a-4684-8c77-df122e7827d4",
   "metadata": {},
   "source": [
    "После устранения неявных дубликатов проверим наличие явных дубликатов и узнаем их количество. Так как игру могли занести в датасет несколько раз с разными числовыми значениями, проверим дубликаты по основным категориальным величным: название и платформа."
   ]
  },
  {
   "cell_type": "code",
   "execution_count": 34,
   "id": "6925a95b-04c9-4f28-a6b6-b6042f937e11",
   "metadata": {},
   "outputs": [
    {
     "data": {
      "text/plain": [
       "238"
      ]
     },
     "execution_count": 34,
     "metadata": {},
     "output_type": "execute_result"
    }
   ],
   "source": [
    "dataset.duplicated(subset = ['name', 'platform'], keep = 'first').sum()"
   ]
  },
  {
   "cell_type": "markdown",
   "id": "47c40295-94f8-4a96-ad17-7e35c3c1b4bf",
   "metadata": {},
   "source": [
    "Суммарно мы нашли в данных 238 дубликатов игр по названию игры и платформе. Для дальнейшего анализа наличие дубликатов нежелательно, так как может отразиться на его результатах, тем самым предоставив некачественные данные. Их следует удалить."
   ]
  },
  {
   "cell_type": "code",
   "execution_count": 35,
   "id": "ff674f3f-ac4e-42c4-89a7-6cbfacb04bb4",
   "metadata": {},
   "outputs": [],
   "source": [
    "dataset.drop_duplicates(subset = ['name', 'platform'], keep = 'first', inplace = True)"
   ]
  },
  {
   "cell_type": "markdown",
   "id": "a4586983-6682-4f12-8b73-26f8bf4452a6",
   "metadata": {},
   "source": [
    "Все дубликаты в датасете были удалены."
   ]
  },
  {
   "cell_type": "code",
   "execution_count": 36,
   "id": "1444b8bc-5091-4384-aea2-0bc025b45279",
   "metadata": {},
   "outputs": [
    {
     "data": {
      "text/plain": [
       "'Всего удалено: 515 записей по сравнению с исходным датасетом.'"
      ]
     },
     "metadata": {},
     "output_type": "display_data"
    },
    {
     "data": {
      "text/plain": [
       "'Всего удалено: 3.0372729417315405 %.'"
      ]
     },
     "metadata": {},
     "output_type": "display_data"
    }
   ],
   "source": [
    "display(f'Всего удалено: {all_len_dataset - dataset.shape[0]} записей по сравнению с исходным датасетом.')\n",
    "display(f'Всего удалено: {(all_len_dataset - dataset.shape[0])/all_len_dataset*100} %.')"
   ]
  },
  {
   "cell_type": "markdown",
   "id": "4d5aaecf-63c0-4ec7-a801-a9ed0ea19ed3",
   "metadata": {},
   "source": [
    "#### Общий вывод по разделу:\n",
    "\n",
    "В ходе выполнения работ по предобработки данных были устранены все пропуски и дубликаты датасета. При этом подобраны оптимальные типы данных для дальнейшей работы. В процессе предобработки было удалено 515 записей: 275 значенйи из-за отсутсвия значений в столбце `year_of_release`, 2 значения из-за отсутсвия значений в столбцах `name` и `genre`, а также 238 дубликатов. Удаленные записи составили 3.04%."
   ]
  },
  {
   "cell_type": "markdown",
   "id": "5274d661-8763-4821-81f3-c218d82948bc",
   "metadata": {},
   "source": [
    "<a class=\"anchor\" id=\"8_charter\"></a> \n",
    "## 3 Фильтрация данных"
   ]
  },
  {
   "cell_type": "markdown",
   "id": "d08ac0e5-6239-49c9-9aa4-03ed6798e5ad",
   "metadata": {},
   "source": [
    "По заданию коллег из \"Секреты Темнолесья\" необходимо отобрать данные за период с 2000 по 2013 год включительно. Для этого необходимо создадим новый датасет, в который будет помещене срез данных за указанный временной промежуток."
   ]
  },
  {
   "cell_type": "code",
   "execution_count": 37,
   "id": "286e3623-6406-42b2-a9de-4f9c80b14bc9",
   "metadata": {},
   "outputs": [
    {
     "name": "stdout",
     "output_type": "stream",
     "text": [
      "<class 'pandas.core.frame.DataFrame'>\n",
      "Int64Index: 12778 entries, 0 to 16954\n",
      "Data columns (total 11 columns):\n",
      " #   Column           Non-Null Count  Dtype  \n",
      "---  ------           --------------  -----  \n",
      " 0   name             12778 non-null  object \n",
      " 1   platform         12778 non-null  object \n",
      " 2   year_of_release  12778 non-null  int16  \n",
      " 3   genre            12778 non-null  object \n",
      " 4   na_sales         12778 non-null  float64\n",
      " 5   eu_sales         12778 non-null  float64\n",
      " 6   jp_sales         12778 non-null  float64\n",
      " 7   other_sales      12778 non-null  float64\n",
      " 8   critic_score     12778 non-null  int8   \n",
      " 9   user_score       12778 non-null  float32\n",
      " 10  rating           12778 non-null  object \n",
      "dtypes: float32(1), float64(4), int16(1), int8(1), object(4)\n",
      "memory usage: 985.8+ KB\n"
     ]
    }
   ],
   "source": [
    "# Отберем необходимые данные по двум условиям: значение в столбце `year_of_release` больше \n",
    "# или равно 2000 и значение в столбце `year_of_release` меньше или равно 2013.\n",
    "dataset_00_13 = dataset[(dataset['year_of_release']>= 2000) & (dataset['year_of_release']<= 2013)]\n",
    "dataset_00_13.info()"
   ]
  },
  {
   "cell_type": "markdown",
   "id": "1d27fbff-4974-4add-963a-90413506c68d",
   "metadata": {},
   "source": [
    "В результате был получен новый датасет `dataset_00_13`, в котором представлены данные за указанный ранее промежуток. Типы данных и их характеристики остались неимзенными. В новом датасете осталось 12778 записей."
   ]
  },
  {
   "cell_type": "code",
   "execution_count": 38,
   "id": "4662637f",
   "metadata": {},
   "outputs": [
    {
     "name": "stdout",
     "output_type": "stream",
     "text": [
      "Вот так выглядит df_my изначально\n"
     ]
    },
    {
     "data": {
      "text/html": [
       "<div>\n",
       "<style scoped>\n",
       "    .dataframe tbody tr th:only-of-type {\n",
       "        vertical-align: middle;\n",
       "    }\n",
       "\n",
       "    .dataframe tbody tr th {\n",
       "        vertical-align: top;\n",
       "    }\n",
       "\n",
       "    .dataframe thead th {\n",
       "        text-align: right;\n",
       "    }\n",
       "</style>\n",
       "<table border=\"1\" class=\"dataframe\">\n",
       "  <thead>\n",
       "    <tr style=\"text-align: right;\">\n",
       "      <th></th>\n",
       "      <th>A</th>\n",
       "      <th>B</th>\n",
       "    </tr>\n",
       "  </thead>\n",
       "  <tbody>\n",
       "    <tr>\n",
       "      <th>0</th>\n",
       "      <td>1</td>\n",
       "      <td>4</td>\n",
       "    </tr>\n",
       "    <tr>\n",
       "      <th>1</th>\n",
       "      <td>2</td>\n",
       "      <td>5</td>\n",
       "    </tr>\n",
       "    <tr>\n",
       "      <th>2</th>\n",
       "      <td>3</td>\n",
       "      <td>6</td>\n",
       "    </tr>\n",
       "  </tbody>\n",
       "</table>\n",
       "</div>"
      ],
      "text/plain": [
       "   A  B\n",
       "0  1  4\n",
       "1  2  5\n",
       "2  3  6"
      ]
     },
     "metadata": {},
     "output_type": "display_data"
    },
    {
     "name": "stdout",
     "output_type": "stream",
     "text": [
      "Вот так выглядит df_fake_copy  после внесения изменений\n"
     ]
    },
    {
     "data": {
      "text/html": [
       "<div>\n",
       "<style scoped>\n",
       "    .dataframe tbody tr th:only-of-type {\n",
       "        vertical-align: middle;\n",
       "    }\n",
       "\n",
       "    .dataframe tbody tr th {\n",
       "        vertical-align: top;\n",
       "    }\n",
       "\n",
       "    .dataframe thead th {\n",
       "        text-align: right;\n",
       "    }\n",
       "</style>\n",
       "<table border=\"1\" class=\"dataframe\">\n",
       "  <thead>\n",
       "    <tr style=\"text-align: right;\">\n",
       "      <th></th>\n",
       "      <th>A</th>\n",
       "      <th>B</th>\n",
       "    </tr>\n",
       "  </thead>\n",
       "  <tbody>\n",
       "    <tr>\n",
       "      <th>0</th>\n",
       "      <td>100</td>\n",
       "      <td>4</td>\n",
       "    </tr>\n",
       "    <tr>\n",
       "      <th>1</th>\n",
       "      <td>2</td>\n",
       "      <td>5</td>\n",
       "    </tr>\n",
       "    <tr>\n",
       "      <th>2</th>\n",
       "      <td>3</td>\n",
       "      <td>6</td>\n",
       "    </tr>\n",
       "  </tbody>\n",
       "</table>\n",
       "</div>"
      ],
      "text/plain": [
       "     A  B\n",
       "0  100  4\n",
       "1    2  5\n",
       "2    3  6"
      ]
     },
     "metadata": {},
     "output_type": "display_data"
    },
    {
     "data": {
      "text/html": [
       "<div>\n",
       "<style scoped>\n",
       "    .dataframe tbody tr th:only-of-type {\n",
       "        vertical-align: middle;\n",
       "    }\n",
       "\n",
       "    .dataframe tbody tr th {\n",
       "        vertical-align: top;\n",
       "    }\n",
       "\n",
       "    .dataframe thead th {\n",
       "        text-align: right;\n",
       "    }\n",
       "</style>\n",
       "<table border=\"1\" class=\"dataframe\">\n",
       "  <thead>\n",
       "    <tr style=\"text-align: right;\">\n",
       "      <th></th>\n",
       "      <th>A</th>\n",
       "      <th>B</th>\n",
       "    </tr>\n",
       "  </thead>\n",
       "  <tbody>\n",
       "    <tr>\n",
       "      <th>0</th>\n",
       "      <td>100</td>\n",
       "      <td>4</td>\n",
       "    </tr>\n",
       "    <tr>\n",
       "      <th>1</th>\n",
       "      <td>2</td>\n",
       "      <td>5</td>\n",
       "    </tr>\n",
       "    <tr>\n",
       "      <th>2</th>\n",
       "      <td>3</td>\n",
       "      <td>6</td>\n",
       "    </tr>\n",
       "  </tbody>\n",
       "</table>\n",
       "</div>"
      ],
      "text/plain": [
       "     A  B\n",
       "0  100  4\n",
       "1    2  5\n",
       "2    3  6"
      ]
     },
     "metadata": {},
     "output_type": "display_data"
    },
    {
     "name": "stdout",
     "output_type": "stream",
     "text": [
      "Смотрим сектора хранения информации df_my: 140356564475472 и df_fake_copy_id: 140356564475472\n"
     ]
    }
   ],
   "source": [
    " # код ревьюера\n",
    " # Создаем DataFrame\n",
    "df_my = pd.DataFrame({\n",
    "    'A': [1, 2, 3],\n",
    "    'B': [4, 5, 6]\n",
    "})\n",
    "\n",
    "# Давай его посмотрим\n",
    "print('Вот так выглядит df_my изначально')\n",
    "display(df_my)\n",
    "\n",
    "# А теперь давай создадим \"копию\" DataFrame без использования .copy()\n",
    "df_fake_copy = df_my\n",
    "\n",
    "\n",
    "# А теперь вносим изменения в \"копию\"\n",
    "df_fake_copy.loc[0, 'A'] = 100\n",
    "print('Вот так выглядит df_fake_copy  после внесения изменений')\n",
    "display(df_fake_copy)\n",
    "\n",
    "# А теперь вопрос на засыпку, что произойдёт с df_my?\n",
    "\n",
    " \n",
    " \n",
    " # Смотрим\n",
    "display(df_my)\n",
    "# И оказывается что он принял все изменения df_fake_copy\n",
    "\n",
    "\n",
    "# Но в чём тогда смысл df_copy = df_my, если изменения в одном, немедленно приведёт к изменениям в другом? \n",
    "# \n",
    "# Чтобы сделать настоящую копию:\n",
    "\n",
    "df_real_copy = df_my.copy()\n",
    "\n",
    "# И теперь если мы внесём изменения в df_real_copy, это не приведёт к изменениям в df_my, а если мы изменим df_my, \n",
    "# df_real_copyэто не приведёт к изменениям \n",
    "\n",
    "#  обрати на это внимание\n",
    "\n",
    "# Почему так происходит .copy()? Python, объекты, такие как DataFrame, являются ссылочными типами данных. \n",
    "# Это означает, что переменные, которые хранят эти объекты, фактически хранят ссылки на место в памяти, \n",
    "# где находится объект. Давай посмотрим id df_my и id df_fake_copy\n",
    "df_my_id = id(df_my)\n",
    "df_fake_copy_id = id(df_fake_copy)\n",
    "\n",
    "print(f\"Смотрим сектора хранения информации df_my: {df_my_id} и df_fake_copy_id: {df_fake_copy_id}\")\n",
    "\n",
    "# И видим что они идентичные! То есть наши это фреймы по-прежнему ссылаются на один и тот же сектор\n",
    "# Вот поэтому изменения в одном приводят к изменению в другом\n"
   ]
  },
  {
   "cell_type": "markdown",
   "id": "32e79055-3557-4a63-9cbb-ab7cdb359848",
   "metadata": {},
   "source": [
    "Также, коллеги хотели сделать акцент на играх в жанре RPG. Для этих целей создадим еще один датасет, в который попадут только записи с подходящим жанром. На основе предыдущего ознакомления с данными и обработки жанр RPG записан в датасете как `role-playing`. Совершим фильтрацию именно по этому значению."
   ]
  },
  {
   "cell_type": "code",
   "execution_count": 39,
   "id": "91bb9d28-a7b9-4e81-91f4-930699eee700",
   "metadata": {},
   "outputs": [
    {
     "name": "stdout",
     "output_type": "stream",
     "text": [
      "<class 'pandas.core.frame.DataFrame'>\n",
      "Int64Index: 1079 entries, 20 to 16942\n",
      "Data columns (total 11 columns):\n",
      " #   Column           Non-Null Count  Dtype  \n",
      "---  ------           --------------  -----  \n",
      " 0   name             1079 non-null   object \n",
      " 1   platform         1079 non-null   object \n",
      " 2   year_of_release  1079 non-null   int16  \n",
      " 3   genre            1079 non-null   object \n",
      " 4   na_sales         1079 non-null   float64\n",
      " 5   eu_sales         1079 non-null   float64\n",
      " 6   jp_sales         1079 non-null   float64\n",
      " 7   other_sales      1079 non-null   float64\n",
      " 8   critic_score     1079 non-null   int8   \n",
      " 9   user_score       1079 non-null   float32\n",
      " 10  rating           1079 non-null   object \n",
      "dtypes: float32(1), float64(4), int16(1), int8(1), object(4)\n",
      "memory usage: 83.2+ KB\n"
     ]
    }
   ],
   "source": [
    "dataset_00_13_rpg = dataset_00_13[dataset_00_13['genre'] == 'role-playing']\n",
    "dataset_00_13_rpg.info()"
   ]
  },
  {
   "cell_type": "code",
   "execution_count": 40,
   "id": "ca4515d6-2023-4390-a848-4de1d6c3a460",
   "metadata": {},
   "outputs": [
    {
     "data": {
      "text/plain": [
       "'Количество удаленных записей после фильтрации по году составило: 3663 записей.'"
      ]
     },
     "metadata": {},
     "output_type": "display_data"
    },
    {
     "data": {
      "text/plain": [
       "'Осталось: 77.72033331305882% записей.'"
      ]
     },
     "metadata": {},
     "output_type": "display_data"
    },
    {
     "data": {
      "text/plain": [
       "'Количество удаленных записей после фильтрации датасета `dataset_00_13`по жанру составило: 11699 записей.'"
      ]
     },
     "metadata": {},
     "output_type": "display_data"
    },
    {
     "data": {
      "text/plain": [
       "'Осталось: 8.444200970417906% записей.'"
      ]
     },
     "metadata": {},
     "output_type": "display_data"
    }
   ],
   "source": [
    "display(f'Количество удаленных записей после фильтрации по году составило: {dataset.shape[0] - dataset_00_13.shape[0]} записей.')\n",
    "display(f'Осталось: {dataset_00_13.shape[0]/dataset.shape[0] * 100}% записей.')\n",
    "display(f'Количество удаленных записей после фильтрации датасета `dataset_00_13`по жанру составило: {dataset_00_13.shape[0] - dataset_00_13_rpg.shape[0]} записей.')\n",
    "display(f'Осталось: {dataset_00_13_rpg.shape[0]/dataset_00_13.shape[0] * 100}% записей.')"
   ]
  },
  {
   "cell_type": "markdown",
   "id": "26f66d35-d5a2-4e07-b629-1a03ccb4e5d9",
   "metadata": {},
   "source": [
    "#### Общий вывод по разделу:\n",
    "\n",
    "В разделе совершена фильтрация первоначальных предобработанных данных. На основе проведенной фильтрации создано два датасета:\n",
    "- `dataset_00_13` - игры вышедшие с 2000 года по 2013 год включительно;\n",
    "- `dataset_00_13_rpg` - игры в жанре RPG вышешдшие с 2000 года по 2013 год включительно.\n",
    "\n",
    "В результате после первой фильтрации было удалено 3663 записи, осталось 12778 записей (77.72% от первоначального датасета). После второй фильтрации было отсеяно большее количество строк - 11699, осталось 1079 строк (8.44% от датасета собранного в результате фильтрации по году)."
   ]
  },
  {
   "cell_type": "markdown",
   "id": "4d389286-9bf5-467b-963c-77b76a32650b",
   "metadata": {},
   "source": [
    "<a class=\"anchor\" id=\"9_charter\"></a> \n",
    "## 4 Категоризация данных"
   ]
  },
  {
   "cell_type": "markdown",
   "id": "dee019e2-6c59-41dd-bf42-601ddb576c2f",
   "metadata": {},
   "source": [
    "\n",
    "Коллеги из \"Секреты Темнолесья\" попросило произвести категоризацию игр по оценкам пользователей и экспертов. Основным условием является выделение трех категорий:\n",
    "- высокая оценка — с оценкой от 8 до 10 и от 80 до 100, включая правые границы интервалов.\n",
    "- средняя оценка — с оценкой от 3 до 8 и от 30 до 80, не включая правые границы интервалов.\n",
    "- низкая оценка — с оценкой от 0 до 3 и от 0 до 30, не включая правые границы интервалов.\n",
    "\n",
    "Для этого потребуется добавить новый столбец в имеющиеся датасеты, в котором будет представлена категория оценки. Так как в прошлом разделе мы создали два датасета, то поработаем с ними поотдельности.\n",
    "\n",
    "Кроме того, ранее для игр, у которых нет информации о рейтинге, было занесено значение-индикатор \"-1\". На основе этого значения мы добавим категорию \"Не оценена критиком\"/\"Не оценена пользователем\""
   ]
  },
  {
   "cell_type": "code",
   "execution_count": 41,
   "id": "e74c5875-5095-4fca-bfbf-4573f712bf2b",
   "metadata": {
    "collapsed": true
   },
   "outputs": [
    {
     "name": "stderr",
     "output_type": "stream",
     "text": [
      "/tmp/ipykernel_48/207104594.py:26: SettingWithCopyWarning: \n",
      "A value is trying to be set on a copy of a slice from a DataFrame.\n",
      "Try using .loc[row_indexer,col_indexer] = value instead\n",
      "\n",
      "See the caveats in the documentation: https://pandas.pydata.org/pandas-docs/stable/user_guide/indexing.html#returning-a-view-versus-a-copy\n",
      "  dataset_00_13['assessment_critic']=dataset_00_13.apply(category_assessment_critic, axis = 1)\n",
      "/tmp/ipykernel_48/207104594.py:27: SettingWithCopyWarning: \n",
      "A value is trying to be set on a copy of a slice from a DataFrame.\n",
      "Try using .loc[row_indexer,col_indexer] = value instead\n",
      "\n",
      "See the caveats in the documentation: https://pandas.pydata.org/pandas-docs/stable/user_guide/indexing.html#returning-a-view-versus-a-copy\n",
      "  dataset_00_13['assessment_user']=dataset_00_13.apply(category_assessment_user, axis = 1)\n"
     ]
    },
    {
     "data": {
      "text/html": [
       "<div>\n",
       "<style scoped>\n",
       "    .dataframe tbody tr th:only-of-type {\n",
       "        vertical-align: middle;\n",
       "    }\n",
       "\n",
       "    .dataframe tbody tr th {\n",
       "        vertical-align: top;\n",
       "    }\n",
       "\n",
       "    .dataframe thead th {\n",
       "        text-align: right;\n",
       "    }\n",
       "</style>\n",
       "<table border=\"1\" class=\"dataframe\">\n",
       "  <thead>\n",
       "    <tr style=\"text-align: right;\">\n",
       "      <th></th>\n",
       "      <th>name</th>\n",
       "      <th>platform</th>\n",
       "      <th>year_of_release</th>\n",
       "      <th>genre</th>\n",
       "      <th>na_sales</th>\n",
       "      <th>eu_sales</th>\n",
       "      <th>jp_sales</th>\n",
       "      <th>other_sales</th>\n",
       "      <th>critic_score</th>\n",
       "      <th>user_score</th>\n",
       "      <th>rating</th>\n",
       "      <th>assessment_critic</th>\n",
       "      <th>assessment_user</th>\n",
       "    </tr>\n",
       "  </thead>\n",
       "  <tbody>\n",
       "    <tr>\n",
       "      <th>0</th>\n",
       "      <td>wii sports</td>\n",
       "      <td>Wii</td>\n",
       "      <td>2006</td>\n",
       "      <td>sports</td>\n",
       "      <td>41.36</td>\n",
       "      <td>28.959999</td>\n",
       "      <td>3.77</td>\n",
       "      <td>8.45</td>\n",
       "      <td>76</td>\n",
       "      <td>8.0</td>\n",
       "      <td>E</td>\n",
       "      <td>Средняя оценка</td>\n",
       "      <td>Высокая оценка</td>\n",
       "    </tr>\n",
       "    <tr>\n",
       "      <th>2</th>\n",
       "      <td>mario kart wii</td>\n",
       "      <td>Wii</td>\n",
       "      <td>2008</td>\n",
       "      <td>racing</td>\n",
       "      <td>15.68</td>\n",
       "      <td>12.760000</td>\n",
       "      <td>3.79</td>\n",
       "      <td>3.29</td>\n",
       "      <td>82</td>\n",
       "      <td>8.3</td>\n",
       "      <td>E</td>\n",
       "      <td>Высокая оценка</td>\n",
       "      <td>Высокая оценка</td>\n",
       "    </tr>\n",
       "    <tr>\n",
       "      <th>3</th>\n",
       "      <td>wii sports resort</td>\n",
       "      <td>Wii</td>\n",
       "      <td>2009</td>\n",
       "      <td>sports</td>\n",
       "      <td>15.61</td>\n",
       "      <td>10.930000</td>\n",
       "      <td>3.28</td>\n",
       "      <td>2.95</td>\n",
       "      <td>80</td>\n",
       "      <td>8.0</td>\n",
       "      <td>E</td>\n",
       "      <td>Высокая оценка</td>\n",
       "      <td>Высокая оценка</td>\n",
       "    </tr>\n",
       "    <tr>\n",
       "      <th>6</th>\n",
       "      <td>new super mario bros.</td>\n",
       "      <td>DS</td>\n",
       "      <td>2006</td>\n",
       "      <td>platform</td>\n",
       "      <td>11.28</td>\n",
       "      <td>9.140000</td>\n",
       "      <td>6.50</td>\n",
       "      <td>2.88</td>\n",
       "      <td>89</td>\n",
       "      <td>8.5</td>\n",
       "      <td>E</td>\n",
       "      <td>Высокая оценка</td>\n",
       "      <td>Высокая оценка</td>\n",
       "    </tr>\n",
       "    <tr>\n",
       "      <th>7</th>\n",
       "      <td>wii play</td>\n",
       "      <td>Wii</td>\n",
       "      <td>2006</td>\n",
       "      <td>misc</td>\n",
       "      <td>13.96</td>\n",
       "      <td>9.180000</td>\n",
       "      <td>2.93</td>\n",
       "      <td>2.84</td>\n",
       "      <td>58</td>\n",
       "      <td>6.6</td>\n",
       "      <td>E</td>\n",
       "      <td>Средняя оценка</td>\n",
       "      <td>Средняя оценка</td>\n",
       "    </tr>\n",
       "    <tr>\n",
       "      <th>8</th>\n",
       "      <td>new super mario bros. wii</td>\n",
       "      <td>Wii</td>\n",
       "      <td>2009</td>\n",
       "      <td>platform</td>\n",
       "      <td>14.44</td>\n",
       "      <td>6.940000</td>\n",
       "      <td>4.70</td>\n",
       "      <td>2.24</td>\n",
       "      <td>87</td>\n",
       "      <td>8.4</td>\n",
       "      <td>E</td>\n",
       "      <td>Высокая оценка</td>\n",
       "      <td>Высокая оценка</td>\n",
       "    </tr>\n",
       "    <tr>\n",
       "      <th>10</th>\n",
       "      <td>nintendogs</td>\n",
       "      <td>DS</td>\n",
       "      <td>2005</td>\n",
       "      <td>simulation</td>\n",
       "      <td>9.05</td>\n",
       "      <td>10.950000</td>\n",
       "      <td>1.93</td>\n",
       "      <td>2.74</td>\n",
       "      <td>-1</td>\n",
       "      <td>-1.0</td>\n",
       "      <td>Unknown</td>\n",
       "      <td>Не оценена критиком</td>\n",
       "      <td>Не оценена пользователем</td>\n",
       "    </tr>\n",
       "    <tr>\n",
       "      <th>11</th>\n",
       "      <td>mario kart ds</td>\n",
       "      <td>DS</td>\n",
       "      <td>2005</td>\n",
       "      <td>racing</td>\n",
       "      <td>9.71</td>\n",
       "      <td>7.470000</td>\n",
       "      <td>4.13</td>\n",
       "      <td>1.90</td>\n",
       "      <td>91</td>\n",
       "      <td>8.6</td>\n",
       "      <td>E</td>\n",
       "      <td>Высокая оценка</td>\n",
       "      <td>Высокая оценка</td>\n",
       "    </tr>\n",
       "    <tr>\n",
       "      <th>13</th>\n",
       "      <td>wii fit</td>\n",
       "      <td>Wii</td>\n",
       "      <td>2007</td>\n",
       "      <td>sports</td>\n",
       "      <td>8.92</td>\n",
       "      <td>8.030000</td>\n",
       "      <td>3.60</td>\n",
       "      <td>2.15</td>\n",
       "      <td>80</td>\n",
       "      <td>7.7</td>\n",
       "      <td>E</td>\n",
       "      <td>Высокая оценка</td>\n",
       "      <td>Средняя оценка</td>\n",
       "    </tr>\n",
       "    <tr>\n",
       "      <th>14</th>\n",
       "      <td>kinect adventures!</td>\n",
       "      <td>X360</td>\n",
       "      <td>2010</td>\n",
       "      <td>misc</td>\n",
       "      <td>15.00</td>\n",
       "      <td>4.890000</td>\n",
       "      <td>0.24</td>\n",
       "      <td>1.69</td>\n",
       "      <td>61</td>\n",
       "      <td>6.3</td>\n",
       "      <td>E</td>\n",
       "      <td>Средняя оценка</td>\n",
       "      <td>Средняя оценка</td>\n",
       "    </tr>\n",
       "  </tbody>\n",
       "</table>\n",
       "</div>"
      ],
      "text/plain": [
       "                         name platform  year_of_release       genre  na_sales  \\\n",
       "0                  wii sports      Wii             2006      sports     41.36   \n",
       "2              mario kart wii      Wii             2008      racing     15.68   \n",
       "3           wii sports resort      Wii             2009      sports     15.61   \n",
       "6       new super mario bros.       DS             2006    platform     11.28   \n",
       "7                    wii play      Wii             2006        misc     13.96   \n",
       "8   new super mario bros. wii      Wii             2009    platform     14.44   \n",
       "10                 nintendogs       DS             2005  simulation      9.05   \n",
       "11              mario kart ds       DS             2005      racing      9.71   \n",
       "13                    wii fit      Wii             2007      sports      8.92   \n",
       "14         kinect adventures!     X360             2010        misc     15.00   \n",
       "\n",
       "     eu_sales  jp_sales  other_sales  critic_score  user_score   rating  \\\n",
       "0   28.959999      3.77         8.45            76         8.0        E   \n",
       "2   12.760000      3.79         3.29            82         8.3        E   \n",
       "3   10.930000      3.28         2.95            80         8.0        E   \n",
       "6    9.140000      6.50         2.88            89         8.5        E   \n",
       "7    9.180000      2.93         2.84            58         6.6        E   \n",
       "8    6.940000      4.70         2.24            87         8.4        E   \n",
       "10  10.950000      1.93         2.74            -1        -1.0  Unknown   \n",
       "11   7.470000      4.13         1.90            91         8.6        E   \n",
       "13   8.030000      3.60         2.15            80         7.7        E   \n",
       "14   4.890000      0.24         1.69            61         6.3        E   \n",
       "\n",
       "      assessment_critic           assessment_user  \n",
       "0        Средняя оценка            Высокая оценка  \n",
       "2        Высокая оценка            Высокая оценка  \n",
       "3        Высокая оценка            Высокая оценка  \n",
       "6        Высокая оценка            Высокая оценка  \n",
       "7        Средняя оценка            Средняя оценка  \n",
       "8        Высокая оценка            Высокая оценка  \n",
       "10  Не оценена критиком  Не оценена пользователем  \n",
       "11       Высокая оценка            Высокая оценка  \n",
       "13       Высокая оценка            Средняя оценка  \n",
       "14       Средняя оценка            Средняя оценка  "
      ]
     },
     "metadata": {},
     "output_type": "display_data"
    },
    {
     "name": "stdout",
     "output_type": "stream",
     "text": [
      "<class 'pandas.core.frame.DataFrame'>\n",
      "Int64Index: 12778 entries, 0 to 16954\n",
      "Data columns (total 13 columns):\n",
      " #   Column             Non-Null Count  Dtype  \n",
      "---  ------             --------------  -----  \n",
      " 0   name               12778 non-null  object \n",
      " 1   platform           12778 non-null  object \n",
      " 2   year_of_release    12778 non-null  int16  \n",
      " 3   genre              12778 non-null  object \n",
      " 4   na_sales           12778 non-null  float64\n",
      " 5   eu_sales           12778 non-null  float64\n",
      " 6   jp_sales           12778 non-null  float64\n",
      " 7   other_sales        12778 non-null  float64\n",
      " 8   critic_score       12778 non-null  int8   \n",
      " 9   user_score         12778 non-null  float32\n",
      " 10  rating             12778 non-null  object \n",
      " 11  assessment_critic  12778 non-null  object \n",
      " 12  assessment_user    12778 non-null  object \n",
      "dtypes: float32(1), float64(4), int16(1), int8(1), object(6)\n",
      "memory usage: 1.2+ MB\n"
     ]
    }
   ],
   "source": [
    "# Функция для категоризации оценки для датасета `dataset_00_13`, произведем категоризацию данных с помощью метода `aplly()` по значениям\n",
    "# столбца с оценками критика\n",
    "def category_assessment_critic(row):\n",
    "    if 80 <= row['critic_score'] <= 100:\n",
    "        return 'Высокая оценка'\n",
    "    elif 30 <= row['critic_score'] < 80:\n",
    "        return 'Средняя оценка'\n",
    "    elif 0 < row['critic_score'] < 30:\n",
    "        return 'Низкая оценка'\n",
    "    else:\n",
    "        return 'Не оценена критиком'\n",
    "    \n",
    "# Функция для категоризации оценки для датасета `dataset_00_13`, произведем категоризацию данных с помощью метода `aplly()` по значениям\n",
    "# столбца с оценками пользователя\n",
    "def category_assessment_user(row_1):\n",
    "    if 8 <= row_1['user_score'] <= 10:\n",
    "        return 'Высокая оценка'\n",
    "    elif 3 <= row_1['user_score'] < 8:\n",
    "        return 'Средняя оценка'\n",
    "    elif 0 < row_1['user_score'] < 3:\n",
    "        return 'Низкая оценка'\n",
    "    else:\n",
    "        return 'Не оценена пользователем'\n",
    "    \n",
    "\n",
    "dataset_00_13['assessment_critic']=dataset_00_13.apply(category_assessment_critic, axis = 1)\n",
    "dataset_00_13['assessment_user']=dataset_00_13.apply(category_assessment_user, axis = 1)\n",
    "display(dataset_00_13.head(10))\n",
    "dataset_00_13.info()"
   ]
  },
  {
   "cell_type": "markdown",
   "id": "ad8eccd4-f461-4cea-8c64-e9242d1ae2fa",
   "metadata": {},
   "source": [
    "В результате работы было получено два новых столбца `assessment_critic` и `assessment_user`, в которые были помещены категории оценки критика и пользователя соответственно. После этого количество данных в датасете изменилось, вместо 11 столбцов стало 13. Количество строк при этом не изменилось.\n",
    "\n",
    "\n",
    "***P.S.: Не знаю как избавиться от ошибки в этом случае.***"
   ]
  },
  {
   "cell_type": "markdown",
   "id": "705c2957-dd46-455e-8193-5b41423094be",
   "metadata": {},
   "source": [
    "Теперь совершим аналогичное действие со вторым датасетом `dataset_00_13_rpg`."
   ]
  },
  {
   "cell_type": "code",
   "execution_count": 42,
   "id": "f46ad15c-40e9-4dc9-9ed6-c4f9a83b8d78",
   "metadata": {},
   "outputs": [
    {
     "ename": "SyntaxError",
     "evalue": "invalid syntax (3024553479.py, line 4)",
     "output_type": "error",
     "traceback": [
      "\u001b[0;36m  File \u001b[0;32m\"/tmp/ipykernel_48/3024553479.py\"\u001b[0;36m, line \u001b[0;32m4\u001b[0m\n\u001b[0;31m    labels = ['Не оценена критиком','Низкая оценка','Средняя оценка','Высокая оценка']ь\u001b[0m\n\u001b[0m                                                                                      ^\u001b[0m\n\u001b[0;31mSyntaxError\u001b[0m\u001b[0;31m:\u001b[0m invalid syntax\n"
     ]
    }
   ],
   "source": [
    "# В этот раз произведем категоризацию с помощью метода 'cut()'\n",
    "dataset_00_13_rpg['assessment_critic'] = pd.cut(dataset_00_13_rpg['critic_score'], \n",
    "                                               bins = [-2,0,30,80,101], \n",
    "                                               labels = ['Не оценена критиком','Низкая оценка','Средняя оценка','Высокая оценка']ь\n",
    "                                               right=False)\n",
    "dataset_00_13_rpg['assessment_user'] = pd.cut(dataset_00_13_rpg['user_score'], \n",
    "                                               bins = [-2,0,3,8,11], \n",
    "                                               labels = ['Не оценена пользователем','Низкая оценка','Средняя оценка','Высокая оценка'],\n",
    "                                              right=False)\n",
    "display(dataset_00_13_rpg.head(10))\n",
    "dataset_00_13_rpg.info()"
   ]
  },
  {
   "cell_type": "markdown",
   "id": "10699c06-ece2-4ba1-9e70-3299b79e9fc7",
   "metadata": {},
   "source": [
    "В результате работы было получено два новых столбца `assessment_critic` и `assessment_user`, в которые были помещены категории оценки критика и пользователя соответственно. После этого количество данных в датасете изменилось, вместо 11 столбцов стало 13. Количество строк при этом не изменилось.\n",
    "\n",
    "\n",
    "***P.S.: Не знаю как избавиться от ошибки в этом случае.***"
   ]
  },
  {
   "cell_type": "markdown",
   "id": "78b9e7a6-9a09-4073-b54d-488532afbfc4",
   "metadata": {},
   "source": [
    "Теперь подсчитаем количество игр в каждой категории, для этого воспользуемся методом для столбцов датафреймов`value_counts()`."
   ]
  },
  {
   "cell_type": "code",
   "execution_count": null,
   "id": "32b7cb53-0e47-4bc9-9cf7-bda04f9da769",
   "metadata": {},
   "outputs": [],
   "source": [
    "display(dataset_00_13['assessment_critic'].value_counts())\n",
    "display(dataset_00_13['assessment_critic'].value_counts(normalize = True))\n",
    "display(dataset_00_13['assessment_user'].value_counts())\n",
    "display(dataset_00_13['assessment_user'].value_counts(normalize = True))\n"
   ]
  },
  {
   "cell_type": "markdown",
   "id": "0c708583-b140-4d3a-a87b-2ab9faf865b1",
   "metadata": {},
   "source": [
    "После категоризации заметно, что большинство игр вышедших за указанный период с 2000 по 2013 год получили среднюю оценку от критиков. **Суммарно критики оценили 7166 игр.** При этом 5612 игр не получили оценку от критиков. Оцененные игры распределись следующим образом: 0.5% (67) игр вышедшие в этот период получили низкую оценку, 11.6% (1486) игр получили высокую оценку, 43.93% (5612) игр получили среднюю оценку и 43.92% (5612) игр не были оценены. \n",
    "\n",
    "В отношении пользователей сложилась немного иная картина. В отличии от критиков пользователи оценили меньшее количество игр. **Суммарно пользователи оценили  6479 игр.** Оценки пользователей распределись следующим образом: 1% (132) игр получили низкую оценку, 15.9% (2031) игр получили высокую оценку, 33.78% (4316) игр получили среднюю оценку и 49.3% (6299) игр вовсе не получили оценки от пользователей."
   ]
  },
  {
   "cell_type": "code",
   "execution_count": null,
   "id": "34fe749f-3eb2-451c-a879-8eaecdad2113",
   "metadata": {},
   "outputs": [],
   "source": [
    "# Совершим аналогичное действие но для датасета `dataset_00_13_rpg`\n",
    "display(dataset_00_13_rpg['assessment_critic'].value_counts())\n",
    "display(dataset_00_13_rpg['assessment_critic'].value_counts(normalize = True))\n",
    "display(dataset_00_13_rpg['assessment_user'].value_counts())\n",
    "display(dataset_00_13_rpg['assessment_user'].value_counts(normalize = True))"
   ]
  },
  {
   "cell_type": "markdown",
   "id": "e25c534e-a3f3-4868-960b-390635eb1ae0",
   "metadata": {},
   "source": [
    "После категоризации заметно, что большинство игр вышедших за указанный период с 2000 по 2013 год в жанре RPG получили среднюю оценку от критиков. **Суммарно критики оценили 613 игр.** При этом 466 игр не получили оценку от критиков. Оцененные игры распределись следующим образом: 0.0% (0) игр вышедшие в этот период получили низкую оценку, 14.64% (158) игр получили высокую оценку, 42.17% (455) игр получили среднюю оценку и 43.19% (466) игр не были оценены. \n",
    "\n",
    "В отношении пользователей сложилась немного иная картина. **Суммарно пользователи оценили  611 игр.** Оценки пользователей распределись следующим образом: 0.09% (1) игр получили низкую оценку, 23.3% (251) игр получили высокую оценку, 33.27% (359) игр получили среднюю оценку и 43.4% (468) игр вовсе не получили оценки от пользователей."
   ]
  },
  {
   "cell_type": "markdown",
   "id": "1e38ad08-9c7a-47ca-b4a4-f40bca8da476",
   "metadata": {},
   "source": [
    "Таким образом, можно сказать что пользователи более лояльны при оценивании игр и чаще чем критики ставят высокие оценки. Срез по играм в жанре RPG также это демонстрирует."
   ]
  },
  {
   "cell_type": "markdown",
   "id": "ed15e8c7-e50a-4db6-8dfd-e8a89943ff12",
   "metadata": {},
   "source": [
    "От коллег также поступало задание вывести топ-7 платформ по количеству игр, выпущенных за период с 2000 по 2013 год. По аналогии с предыдущей задачей выполним этот запрос двумя способами для разных датасетов."
   ]
  },
  {
   "cell_type": "code",
   "execution_count": null,
   "id": "0f3eeff0-93fe-4f17-971b-2b019c61d449",
   "metadata": {},
   "outputs": [],
   "source": [
    "# Воспоьзуемся двумя методами: \n",
    "# `groupby` для групировки и последующей агрегации данных\n",
    "# `sort_values` для сортировки полученной серии в порядке убывания значений для платформ\n",
    "dataset_00_13.groupby('platform')['name'].count().sort_values(ascending = False).head(7)"
   ]
  },
  {
   "cell_type": "markdown",
   "id": "e403cf09-066c-423c-afe6-ed0019ff3d39",
   "metadata": {},
   "source": [
    "В результате получили топ-7 платформ по выпуску игр в период с 2000 по 2013 год. В топ попали платформу с суммарным количеством выпущенных игр от 811 до 2127. "
   ]
  },
  {
   "cell_type": "code",
   "execution_count": null,
   "id": "3cb29455-fbe8-45e1-9519-579b9b73700b",
   "metadata": {},
   "outputs": [],
   "source": [
    "# Теперь решим поставленную задачу для другого датасета, в котором отобраны игры в жанре PRG\n",
    "# Для этого воспользуемся методом'value_counts()' так как в получившимся датасете нет пропусков\n",
    "dataset_00_13_rpg['platform'].value_counts()\n"
   ]
  },
  {
   "cell_type": "markdown",
   "id": "ffabd03c-0bbf-4264-9b48-979e34b5e93b",
   "metadata": {},
   "source": [
    "В результате был получен список всех платформ с указанием частоты появления в датасете. Из этого списка можно выбрать первые 7 платформ, которые и войдут в топ-7, это: DS, PSP, PS2, PS3, PC, GBA, X360. В топ попали платформы, которые в указанный период выпустили от 69 до 196 игр в жанре RPG. При этом, топ-7 платформ по количеству выпущенных игр за указанный период вне зависимости от жанра значительн отличается. В двух топах присутствуют 5 одинаковых платформ, но они занимают разные места."
   ]
  },
  {
   "cell_type": "markdown",
   "id": "23ff5394-bc4a-4a40-8fd1-39adadbeec36",
   "metadata": {},
   "source": [
    "<a class=\"anchor\" id=\"10_charter\"></a> \n",
    "## 5 Итоговый вывод"
   ]
  },
  {
   "cell_type": "markdown",
   "id": "47c14ffe-6469-4552-b690-baf497fe95b6",
   "metadata": {},
   "source": [
    "В ходе выполнения работ над проектом были выполнены следующие задачи:\n",
    "1. Загружены данные \n",
    "2. Проверены ошибки в данных и соверешна их предобработка\n",
    "\n",
    "   2.1.Изменены названия столбцов датафрейма\n",
    "\n",
    "   2.2. Изменены типы данных столбцов датафрейма\n",
    "\n",
    "   2.3. Были обнаружены и устранены пропуски в данных\n",
    "\n",
    "   2.4. Были обнаружены и впоследствии устранены явные и неявные дубликаты в данных\n",
    "   \n",
    "4. Осуществлена фильтрация данных\n",
    "5. Совершена категоризация данных\n"
   ]
  },
  {
   "cell_type": "markdown",
   "id": "f9b99981-c9be-4632-9778-273c001dfca2",
   "metadata": {},
   "source": [
    "По запросу заказчика были добавлены новые столбцы, которые содержат информацию о категориях оценок критиков и пользователей, а также выведен топ-7 платформ. Для предоставления более полной информации сделано два датасета `dataset_00_13`и `dataset_00_13_rpg`, в которых хранятся данные с 2000 по 2013 год, а также данные об играх жанра RPG соответственно."
   ]
  },
  {
   "cell_type": "markdown",
   "id": "824dc39b-a676-456d-8cbe-a40ab4761a60",
   "metadata": {},
   "source": [
    "В ходе предобработки данных **было удалено 3.04%** от всех полученных данных. Так как в задачу не входит посчитать прибыль от реализации игр, то **такое количество данных не сильно повлияет на проведенной анализ**.\n"
   ]
  },
  {
   "cell_type": "markdown",
   "id": "c6d42d01-a8a0-4d1c-bc48-68c172e10f14",
   "metadata": {},
   "source": [
    "Изучение категоризации оценок критиков и пользователей также показало, что **пользователи более лояльны в вопросе высталения оценок играм чем критики**. Но при этом, **критики ставят оценки играм чаще**. В ходе преодбработки данных также **выдвинута гипотеза: \"Рейтинг игры может быть сформирован только в том случае, если игра получила хотя бы одну из оценок\"**. \n",
    "\n",
    "Гипотеза подтверждается следующими данными: \n",
    "- при первом изучении пропусков в данных замечено, что доля пропусков в оценках пользователей и критиков разные, но при этом доля пропусков в столбце рейтинга намного ниже, чем в оценках;\n",
    "- при детальном изучении количества оценных игр и игр, у которых заполнен рейтинг по годам, заметно, что рейтинг и оценки в различные годы коррелируются и почти равны друг другу;\n",
    "- при изучении первых строк данных также заметно,что выдвигаемое предположение подтверждается.\n",
    "\n",
    "Однако, выдвинутая гипотеза требует более детально рассмотрения для подтверждения."
   ]
  },
  {
   "cell_type": "markdown",
   "id": "9bf126f9-3a57-4670-b930-9ae617bcfbf5",
   "metadata": {},
   "source": [
    "В результате в период **с 2000 по 2013 год было выпущено 12778 игр**, из них **в жанре RPG 1079 игр.**\n",
    "**Топ-7 платформ** по количеству выпущенных игр возглавили: **S2, DS, Wii, PSP, X360, PS3, GBA (в порядке убывания).**\n",
    "А по количеству выпущенных игр **в жанре RPG - DS, PSP, PS2, PS3, PC, GBA, X360.**"
   ]
  }
 ],
 "metadata": {
  "ExecuteTimeLog": [
   {
    "duration": 386,
    "start_time": "2025-01-30T09:25:36.393Z"
   },
   {
    "duration": 142,
    "start_time": "2025-01-30T09:25:36.780Z"
   },
   {
    "duration": 16,
    "start_time": "2025-01-30T09:25:36.923Z"
   },
   {
    "duration": 44,
    "start_time": "2025-01-30T09:25:36.941Z"
   },
   {
    "duration": 26,
    "start_time": "2025-01-30T09:25:36.987Z"
   },
   {
    "duration": 12,
    "start_time": "2025-01-30T09:25:37.015Z"
   },
   {
    "duration": 6,
    "start_time": "2025-01-30T09:25:37.029Z"
   },
   {
    "duration": 13,
    "start_time": "2025-01-30T09:25:37.036Z"
   },
   {
    "duration": 22,
    "start_time": "2025-01-30T09:25:37.051Z"
   },
   {
    "duration": 13,
    "start_time": "2025-01-30T09:25:37.076Z"
   },
   {
    "duration": 16,
    "start_time": "2025-01-30T09:25:37.090Z"
   },
   {
    "duration": 19,
    "start_time": "2025-01-30T09:25:37.107Z"
   },
   {
    "duration": 11,
    "start_time": "2025-01-30T09:25:37.158Z"
   },
   {
    "duration": 356,
    "start_time": "2025-01-30T09:25:37.170Z"
   },
   {
    "duration": 5,
    "start_time": "2025-01-30T09:25:37.527Z"
   },
   {
    "duration": 10,
    "start_time": "2025-01-30T09:25:37.534Z"
   },
   {
    "duration": 30,
    "start_time": "2025-01-30T09:25:37.546Z"
   },
   {
    "duration": 4,
    "start_time": "2025-01-30T09:25:37.577Z"
   },
   {
    "duration": 7,
    "start_time": "2025-01-30T09:25:37.582Z"
   },
   {
    "duration": 17,
    "start_time": "2025-01-30T09:25:37.590Z"
   },
   {
    "duration": 24,
    "start_time": "2025-01-30T09:25:37.609Z"
   },
   {
    "duration": 19,
    "start_time": "2025-01-30T09:25:37.635Z"
   },
   {
    "duration": 11,
    "start_time": "2025-01-30T09:25:37.656Z"
   },
   {
    "duration": 8,
    "start_time": "2025-01-30T09:25:37.669Z"
   },
   {
    "duration": 12,
    "start_time": "2025-01-30T09:25:37.679Z"
   },
   {
    "duration": 9,
    "start_time": "2025-01-30T09:25:37.692Z"
   },
   {
    "duration": 4,
    "start_time": "2025-01-30T09:25:37.703Z"
   },
   {
    "duration": 15,
    "start_time": "2025-01-30T09:25:37.710Z"
   },
   {
    "duration": 45,
    "start_time": "2025-01-30T09:25:37.727Z"
   },
   {
    "duration": 12,
    "start_time": "2025-01-30T09:25:37.773Z"
   },
   {
    "duration": 13,
    "start_time": "2025-01-30T09:25:37.787Z"
   },
   {
    "duration": 316,
    "start_time": "2025-01-30T09:25:37.802Z"
   },
   {
    "duration": 48,
    "start_time": "2025-01-30T09:25:38.120Z"
   },
   {
    "duration": 18,
    "start_time": "2025-01-30T09:25:38.170Z"
   },
   {
    "duration": 16,
    "start_time": "2025-01-30T09:25:38.190Z"
   },
   {
    "duration": 8,
    "start_time": "2025-01-30T09:25:38.208Z"
   },
   {
    "duration": 68,
    "start_time": "2025-01-30T09:25:38.217Z"
   },
   {
    "duration": 55,
    "start_time": "2025-03-05T16:32:08.733Z"
   },
   {
    "duration": 418,
    "start_time": "2025-03-05T16:32:12.833Z"
   },
   {
    "duration": 176,
    "start_time": "2025-03-05T16:32:13.253Z"
   },
   {
    "duration": 40,
    "start_time": "2025-03-05T16:32:13.431Z"
   },
   {
    "duration": 0,
    "start_time": "2025-03-05T16:32:13.473Z"
   },
   {
    "duration": 0,
    "start_time": "2025-03-05T16:32:13.474Z"
   },
   {
    "duration": 0,
    "start_time": "2025-03-05T16:32:13.476Z"
   },
   {
    "duration": 0,
    "start_time": "2025-03-05T16:32:13.477Z"
   },
   {
    "duration": 0,
    "start_time": "2025-03-05T16:32:13.478Z"
   },
   {
    "duration": 0,
    "start_time": "2025-03-05T16:32:13.479Z"
   },
   {
    "duration": 0,
    "start_time": "2025-03-05T16:32:13.480Z"
   },
   {
    "duration": 0,
    "start_time": "2025-03-05T16:32:13.481Z"
   },
   {
    "duration": 0,
    "start_time": "2025-03-05T16:32:13.482Z"
   },
   {
    "duration": 0,
    "start_time": "2025-03-05T16:32:13.483Z"
   },
   {
    "duration": 0,
    "start_time": "2025-03-05T16:32:13.484Z"
   },
   {
    "duration": 0,
    "start_time": "2025-03-05T16:32:13.485Z"
   },
   {
    "duration": 0,
    "start_time": "2025-03-05T16:32:13.486Z"
   },
   {
    "duration": 0,
    "start_time": "2025-03-05T16:32:13.487Z"
   },
   {
    "duration": 0,
    "start_time": "2025-03-05T16:32:13.488Z"
   },
   {
    "duration": 0,
    "start_time": "2025-03-05T16:32:13.489Z"
   },
   {
    "duration": 0,
    "start_time": "2025-03-05T16:32:13.490Z"
   },
   {
    "duration": 0,
    "start_time": "2025-03-05T16:32:13.491Z"
   },
   {
    "duration": 0,
    "start_time": "2025-03-05T16:32:13.492Z"
   },
   {
    "duration": 0,
    "start_time": "2025-03-05T16:32:13.493Z"
   },
   {
    "duration": 0,
    "start_time": "2025-03-05T16:32:13.494Z"
   },
   {
    "duration": 0,
    "start_time": "2025-03-05T16:32:13.495Z"
   },
   {
    "duration": 0,
    "start_time": "2025-03-05T16:32:13.496Z"
   },
   {
    "duration": 0,
    "start_time": "2025-03-05T16:32:13.497Z"
   },
   {
    "duration": 0,
    "start_time": "2025-03-05T16:32:13.498Z"
   },
   {
    "duration": 0,
    "start_time": "2025-03-05T16:32:13.499Z"
   },
   {
    "duration": 0,
    "start_time": "2025-03-05T16:32:13.500Z"
   },
   {
    "duration": 0,
    "start_time": "2025-03-05T16:32:13.501Z"
   },
   {
    "duration": 0,
    "start_time": "2025-03-05T16:32:13.502Z"
   },
   {
    "duration": 0,
    "start_time": "2025-03-05T16:32:13.503Z"
   },
   {
    "duration": 0,
    "start_time": "2025-03-05T16:32:13.504Z"
   },
   {
    "duration": 0,
    "start_time": "2025-03-05T16:32:13.504Z"
   },
   {
    "duration": 0,
    "start_time": "2025-03-05T16:32:13.505Z"
   },
   {
    "duration": 0,
    "start_time": "2025-03-05T16:32:13.506Z"
   },
   {
    "duration": 31,
    "start_time": "2025-03-05T16:32:31.283Z"
   },
   {
    "duration": 25,
    "start_time": "2025-03-05T16:33:19.831Z"
   },
   {
    "duration": 26,
    "start_time": "2025-03-05T16:34:40.348Z"
   },
   {
    "duration": 21,
    "start_time": "2025-03-05T16:35:07.812Z"
   },
   {
    "duration": 1220,
    "start_time": "2025-03-05T16:52:08.525Z"
   },
   {
    "duration": 2,
    "start_time": "2025-03-05T16:52:16.941Z"
   },
   {
    "duration": 260,
    "start_time": "2025-03-05T16:52:16.945Z"
   },
   {
    "duration": 25,
    "start_time": "2025-03-05T16:52:17.207Z"
   },
   {
    "duration": 36,
    "start_time": "2025-03-05T16:52:17.234Z"
   },
   {
    "duration": 6,
    "start_time": "2025-03-05T16:52:17.272Z"
   },
   {
    "duration": 24,
    "start_time": "2025-03-05T16:52:17.279Z"
   },
   {
    "duration": 29,
    "start_time": "2025-03-05T16:52:17.305Z"
   },
   {
    "duration": 52,
    "start_time": "2025-03-05T16:52:17.335Z"
   },
   {
    "duration": 24,
    "start_time": "2025-03-05T16:52:17.389Z"
   },
   {
    "duration": 14,
    "start_time": "2025-03-05T16:52:17.415Z"
   },
   {
    "duration": 16,
    "start_time": "2025-03-05T16:52:17.432Z"
   },
   {
    "duration": 28,
    "start_time": "2025-03-05T16:52:17.463Z"
   },
   {
    "duration": 18,
    "start_time": "2025-03-05T16:52:17.493Z"
   },
   {
    "duration": 369,
    "start_time": "2025-03-05T16:52:17.513Z"
   },
   {
    "duration": 5,
    "start_time": "2025-03-05T16:52:17.883Z"
   },
   {
    "duration": 269,
    "start_time": "2025-03-05T16:52:17.890Z"
   },
   {
    "duration": 97,
    "start_time": "2025-03-05T16:52:18.161Z"
   },
   {
    "duration": 8,
    "start_time": "2025-03-05T16:52:18.259Z"
   },
   {
    "duration": 6,
    "start_time": "2025-03-05T16:52:18.268Z"
   },
   {
    "duration": 5,
    "start_time": "2025-03-05T16:52:18.275Z"
   },
   {
    "duration": 8,
    "start_time": "2025-03-05T16:52:18.281Z"
   },
   {
    "duration": 8,
    "start_time": "2025-03-05T16:52:18.290Z"
   },
   {
    "duration": 12,
    "start_time": "2025-03-05T16:52:18.299Z"
   },
   {
    "duration": 11,
    "start_time": "2025-03-05T16:52:18.312Z"
   },
   {
    "duration": 40,
    "start_time": "2025-03-05T16:52:18.324Z"
   },
   {
    "duration": 82,
    "start_time": "2025-03-05T16:52:18.366Z"
   },
   {
    "duration": 15,
    "start_time": "2025-03-05T16:52:18.449Z"
   },
   {
    "duration": 16,
    "start_time": "2025-03-05T16:52:18.465Z"
   },
   {
    "duration": 17,
    "start_time": "2025-03-05T16:52:18.484Z"
   },
   {
    "duration": 11,
    "start_time": "2025-03-05T16:52:18.503Z"
   },
   {
    "duration": 46,
    "start_time": "2025-03-05T16:52:18.516Z"
   },
   {
    "duration": 277,
    "start_time": "2025-03-05T16:52:18.564Z"
   },
   {
    "duration": 57,
    "start_time": "2025-03-05T16:52:18.843Z"
   },
   {
    "duration": 0,
    "start_time": "2025-03-05T16:52:18.902Z"
   },
   {
    "duration": 0,
    "start_time": "2025-03-05T16:52:18.903Z"
   },
   {
    "duration": 0,
    "start_time": "2025-03-05T16:52:18.903Z"
   },
   {
    "duration": 0,
    "start_time": "2025-03-05T16:52:18.904Z"
   }
  ],
  "kernelspec": {
   "display_name": "Python 3 (ipykernel)",
   "language": "python",
   "name": "python3"
  },
  "language_info": {
   "codemirror_mode": {
    "name": "ipython",
    "version": 3
   },
   "file_extension": ".py",
   "mimetype": "text/x-python",
   "name": "python",
   "nbconvert_exporter": "python",
   "pygments_lexer": "ipython3",
   "version": "3.9.5"
  },
  "toc": {
   "base_numbering": 1,
   "nav_menu": {},
   "number_sections": true,
   "sideBar": true,
   "skip_h1_title": true,
   "title_cell": "Table of Contents",
   "title_sidebar": "Contents",
   "toc_cell": false,
   "toc_position": {},
   "toc_section_display": true,
   "toc_window_display": true
  }
 },
 "nbformat": 4,
 "nbformat_minor": 5
}
