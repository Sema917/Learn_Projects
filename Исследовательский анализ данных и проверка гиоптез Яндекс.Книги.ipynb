{
 "cells": [
  {
   "cell_type": "markdown",
   "id": "_E41Wr5fqnFT",
   "metadata": {
    "id": "_E41Wr5fqnFT"
   },
   "source": [
    "# Часть 1. Проверка гипотезы в Python и составление аналитической записки"
   ]
  },
  {
   "cell_type": "markdown",
   "id": "Z5_6nf-FrY7o",
   "metadata": {
    "id": "Z5_6nf-FrY7o"
   },
   "source": [
    "Вы предобработали данные в SQL, и теперь они готовы для проверки гипотезы в Python. Загрузите данные пользователей из Москвы и Санкт-Петербурга c суммой часов их активности из файла yandex_knigi_data.csv. Если работаете локально, скачать файл можно по ссылке.\n",
    "\n",
    "Проверьте наличие дубликатов в идентификаторах пользователей. Сравните размеры групп, их статистики и распределение.\n",
    "\n",
    "Напомним, как выглядит гипотеза: пользователи из Москвы проводят в среднем больше времени за чтением и прослушиванием книг в приложении, чем пользователи из Санкт-Петербурга. Попробуйте статистически это доказать, используя одностороннюю проверку гипотезы с двумя выборками:\n",
    "\n",
    "Нулевая гипотеза $H_0: \\mu_{\\text{СПб}} \\leq \\mu_{\\text{Москва}}$ <br> Среднее время активности пользователей в Санкт-Петербурге не больше, чем в Москве.\n",
    "\n",
    "Альтернативная гипотеза $H_1: \\mu_{\\text{СПб}} > \\mu_{\\text{Москва}}$ <br> Среднее время активности пользователей в Санкт-Петербурге больше, и это различие статистически значимо.\n",
    "\n",
    "По результатам анализа данных подготовьте аналитическую записку, в которой опишите:\n",
    "\n",
    "Выбранный тип t-теста и уровень статистической значимости.\n",
    "\n",
    "Результат теста, или p-value.\n",
    "\n",
    "Вывод на основе полученного p-value, то есть интерпретацию результатов.\n",
    "\n",
    "Одну или две возможные причины, объясняющие полученные результаты."
   ]
  },
  {
   "cell_type": "markdown",
   "id": "e06910dd",
   "metadata": {
    "id": "e06910dd"
   },
   "source": [
    "## Проверка гипотез в Python и результаты А/Б-теста  использования приложения Яндекс.Книги \n",
    "- Автор: Семин Андрей Геннадьевич\n",
    "- Дата: 29.04.2025г."
   ]
  },
  {
   "cell_type": "markdown",
   "id": "4149134c",
   "metadata": {
    "id": "4149134c"
   },
   "source": [
    "## Цели и задачи проекта\n",
    "\n",
    "Основной целью проекта является проверка гипотез и анализ результатов A/B-тестирования для пользователей таких продуктов как Яндекс.Книги и спортивного инвентаря компании BitMotion Kit."
   ]
  },
  {
   "cell_type": "markdown",
   "id": "728986ea",
   "metadata": {
    "id": "728986ea"
   },
   "source": [
    "## Описание данных\n",
    "\n",
    "Данные расположены по адресу: `yandex_knigi_data.csv`  \n",
    "В данных храниться следующая информация: \n",
    "- `city` - город (Москва или Санкт-петербург)\n",
    "- `puid` - индентификатор пользователя\n",
    "- `hours` - суммарное количество часов активности пользователя"
   ]
  },
  {
   "cell_type": "markdown",
   "id": "4fecaf95",
   "metadata": {
    "id": "4fecaf95"
   },
   "source": [
    "## Содержимое проекта\n",
    "\n",
    "\n",
    "* [1.1. Загрузка данных и знакомство с ними](#1_charter)\n",
    "* [1.2. Проверка гипотезы в Python](#2_charter)\n",
    "* [1.3. Аналитическая записка](#3_charter)\n",
    "* [Часть 2. Анализ результатов A/B-тестирования](#4_charter)\n",
    "* [2.2. Типы данных](#5_charter)\n",
    "* [2.3. Наличие пропусков в данных](#6_charter)\n",
    "* [2.4. Явные и неявные дубликаты в данных](#7_charter)\n",
    "* [3. Фильтрация данных](#8_charter)\n",
    "* [4. Категоризация данных](#9_charter)\n",
    "* [5. Итоговый вывод](#10_charter)\n",
    "\n",
    "---"
   ]
  },
  {
   "cell_type": "markdown",
   "id": "6f7d21d6",
   "metadata": {
    "id": "6f7d21d6"
   },
   "source": [
    "<a class=\"anchor\" id=\"1_charter\"></a> \n",
    "## 1. Загрузка данных и знакомство с ними\n",
    "\n",
    "Загрузите данные пользователей из Москвы и Санкт-Петербурга c их активностью (суммой часов чтения и прослушивания) из файла `yandex_knigi_data.csv`."
   ]
  },
  {
   "cell_type": "code",
   "execution_count": 46,
   "id": "05faf34b",
   "metadata": {
    "id": "05faf34b"
   },
   "outputs": [],
   "source": [
    "import pandas as pd\n",
    "import matplotlib.pyplot as plt\n",
    "from scipy.stats import ttest_ind"
   ]
  },
  {
   "cell_type": "code",
   "execution_count": 1,
   "id": "ce87c1db",
   "metadata": {
    "id": "ce87c1db"
   },
   "outputs": [
    {
     "ename": "NameError",
     "evalue": "name 'pd' is not defined",
     "output_type": "error",
     "traceback": [
      "\u001b[0;31m---------------------------------------------------------------------------\u001b[0m",
      "\u001b[0;31mNameError\u001b[0m                                 Traceback (most recent call last)",
      "\u001b[0;32m/tmp/ipykernel_108/1337157846.py\u001b[0m in \u001b[0;36m<module>\u001b[0;34m\u001b[0m\n\u001b[0;32m----> 1\u001b[0;31m \u001b[0mdf\u001b[0m \u001b[0;34m=\u001b[0m \u001b[0mpd\u001b[0m\u001b[0;34m.\u001b[0m\u001b[0mread_csv\u001b[0m\u001b[0;34m(\u001b[0m\u001b[0;34m'yandex_knigi_data.csv'\u001b[0m\u001b[0;34m)\u001b[0m\u001b[0;34m\u001b[0m\u001b[0;34m\u001b[0m\u001b[0m\n\u001b[0m",
      "\u001b[0;31mNameError\u001b[0m: name 'pd' is not defined"
     ]
    }
   ],
   "source": [
    "df = pd.read_csv('yandex_knigi_data.csv')"
   ]
  },
  {
   "cell_type": "code",
   "execution_count": 48,
   "id": "f68a7419",
   "metadata": {
    "id": "f68a7419"
   },
   "outputs": [
    {
     "name": "stdout",
     "output_type": "stream",
     "text": [
      "<class 'pandas.core.frame.DataFrame'>\n",
      "RangeIndex: 8784 entries, 0 to 8783\n",
      "Data columns (total 4 columns):\n",
      " #   Column      Non-Null Count  Dtype  \n",
      "---  ------      --------------  -----  \n",
      " 0   Unnamed: 0  8784 non-null   int64  \n",
      " 1   city        8784 non-null   object \n",
      " 2   puid        8784 non-null   int64  \n",
      " 3   hours       8784 non-null   float64\n",
      "dtypes: float64(1), int64(2), object(1)\n",
      "memory usage: 274.6+ KB\n"
     ]
    }
   ],
   "source": [
    "df.info()"
   ]
  },
  {
   "cell_type": "markdown",
   "id": "d7d5bb6c",
   "metadata": {},
   "source": [
    "В данных содержится 4 столбца, 3 из которых отражены в описании и 8784 строки. При этом пропусков в данных не наблюдается. "
   ]
  },
  {
   "cell_type": "code",
   "execution_count": 49,
   "id": "0b94c140",
   "metadata": {},
   "outputs": [
    {
     "data": {
      "text/html": [
       "<div>\n",
       "<style scoped>\n",
       "    .dataframe tbody tr th:only-of-type {\n",
       "        vertical-align: middle;\n",
       "    }\n",
       "\n",
       "    .dataframe tbody tr th {\n",
       "        vertical-align: top;\n",
       "    }\n",
       "\n",
       "    .dataframe thead th {\n",
       "        text-align: right;\n",
       "    }\n",
       "</style>\n",
       "<table border=\"1\" class=\"dataframe\">\n",
       "  <thead>\n",
       "    <tr style=\"text-align: right;\">\n",
       "      <th></th>\n",
       "      <th>Unnamed: 0</th>\n",
       "      <th>city</th>\n",
       "      <th>puid</th>\n",
       "      <th>hours</th>\n",
       "    </tr>\n",
       "  </thead>\n",
       "  <tbody>\n",
       "    <tr>\n",
       "      <th>0</th>\n",
       "      <td>0</td>\n",
       "      <td>Москва</td>\n",
       "      <td>9668</td>\n",
       "      <td>26.167776</td>\n",
       "    </tr>\n",
       "    <tr>\n",
       "      <th>1</th>\n",
       "      <td>1</td>\n",
       "      <td>Москва</td>\n",
       "      <td>16598</td>\n",
       "      <td>82.111217</td>\n",
       "    </tr>\n",
       "    <tr>\n",
       "      <th>2</th>\n",
       "      <td>2</td>\n",
       "      <td>Москва</td>\n",
       "      <td>80401</td>\n",
       "      <td>4.656906</td>\n",
       "    </tr>\n",
       "    <tr>\n",
       "      <th>3</th>\n",
       "      <td>3</td>\n",
       "      <td>Москва</td>\n",
       "      <td>140205</td>\n",
       "      <td>1.840556</td>\n",
       "    </tr>\n",
       "    <tr>\n",
       "      <th>4</th>\n",
       "      <td>4</td>\n",
       "      <td>Москва</td>\n",
       "      <td>248755</td>\n",
       "      <td>151.326434</td>\n",
       "    </tr>\n",
       "  </tbody>\n",
       "</table>\n",
       "</div>"
      ],
      "text/plain": [
       "   Unnamed: 0    city    puid       hours\n",
       "0           0  Москва    9668   26.167776\n",
       "1           1  Москва   16598   82.111217\n",
       "2           2  Москва   80401    4.656906\n",
       "3           3  Москва  140205    1.840556\n",
       "4           4  Москва  248755  151.326434"
      ]
     },
     "execution_count": 49,
     "metadata": {},
     "output_type": "execute_result"
    }
   ],
   "source": [
    "#Рассмотрим информацию, которая находитс в таблице\n",
    "df.head()"
   ]
  },
  {
   "cell_type": "markdown",
   "id": "e388dd0d",
   "metadata": {},
   "source": [
    "В столбце unnamed:0 расположены индексы, смысловой нагрузки в этом столбце нет."
   ]
  },
  {
   "cell_type": "code",
   "execution_count": 50,
   "id": "1c1622d6",
   "metadata": {},
   "outputs": [
    {
     "data": {
      "text/plain": [
       "Москва             6234\n",
       "Санкт-Петербург    2550\n",
       "Name: city, dtype: int64"
      ]
     },
     "metadata": {},
     "output_type": "display_data"
    },
    {
     "data": {
      "text/plain": [
       "8540"
      ]
     },
     "execution_count": 50,
     "metadata": {},
     "output_type": "execute_result"
    }
   ],
   "source": [
    "#Проверим количество данных в разрезе на города, а также уникальность идентификаторов. \n",
    "display(df['city'].value_counts())\n",
    "df['puid'].nunique()\n"
   ]
  },
  {
   "cell_type": "markdown",
   "id": "921a478b",
   "metadata": {},
   "source": [
    "Суммарно в данных присуствует 8784 записи, при этом 6234 записи из Москвы и 2550 из Санкт-Петербурга. Уникальных идентификаторов при этом 8540. Следовательно, 244 пользователя представлены в двух городах или же возможно в данных присутствуют дубликаты."
   ]
  },
  {
   "cell_type": "code",
   "execution_count": 51,
   "id": "abab8f12",
   "metadata": {},
   "outputs": [
    {
     "data": {
      "text/plain": [
       "0       False\n",
       "1       False\n",
       "2       False\n",
       "3       False\n",
       "4       False\n",
       "        ...  \n",
       "8779     True\n",
       "8780    False\n",
       "8781    False\n",
       "8782    False\n",
       "8783    False\n",
       "Length: 8784, dtype: bool"
      ]
     },
     "metadata": {},
     "output_type": "display_data"
    },
    {
     "data": {
      "text/plain": [
       "488"
      ]
     },
     "execution_count": 51,
     "metadata": {},
     "output_type": "execute_result"
    }
   ],
   "source": [
    "display(df.duplicated(subset='puid'))\n",
    "df.duplicated(subset='puid', keep = False).sum()"
   ]
  },
  {
   "cell_type": "markdown",
   "id": "0635eb78",
   "metadata": {},
   "source": [
    "Так как 488 составляют малую часть и отразятся на проверке гипотезы (пользователи могут присуствовать в двух группах), стоит их удалить."
   ]
  },
  {
   "cell_type": "code",
   "execution_count": 52,
   "id": "d16ccc3e",
   "metadata": {},
   "outputs": [],
   "source": [
    "df = df.drop_duplicates(subset = 'puid', keep = False)"
   ]
  },
  {
   "cell_type": "markdown",
   "id": "e8bb9606",
   "metadata": {},
   "source": [
    "В данных осталось 8296 строк, проверим их распределение по городам."
   ]
  },
  {
   "cell_type": "code",
   "execution_count": 53,
   "id": "c55be80c",
   "metadata": {},
   "outputs": [
    {
     "data": {
      "text/plain": [
       "Москва             5990\n",
       "Санкт-Петербург    2306\n",
       "Name: city, dtype: int64"
      ]
     },
     "metadata": {},
     "output_type": "display_data"
    },
    {
     "data": {
      "text/plain": [
       "'Разница в количестве пользователей между городами составляет:'"
      ]
     },
     "metadata": {},
     "output_type": "display_data"
    },
    {
     "data": {
      "text/plain": [
       "3684"
      ]
     },
     "metadata": {},
     "output_type": "display_data"
    }
   ],
   "source": [
    "display(df['city'].value_counts())\n",
    "display('Разница в количестве пользователей между городами составляет:', df[df['city']=='Москва'].shape[0] - df[df['city']=='Санкт-Петербург'].shape[0])\n"
   ]
  },
  {
   "cell_type": "markdown",
   "id": "625ce1ff",
   "metadata": {},
   "source": [
    "Разница между Моской и Санкт-Петербургом в количестве пользователей составила 3684 пользователя. Это стоит учесть при проверке гипотезы."
   ]
  },
  {
   "cell_type": "code",
   "execution_count": 54,
   "id": "3824590a",
   "metadata": {},
   "outputs": [
    {
     "data": {
      "image/png": "[encoded data removed]",
      "text/plain": [
       "<Figure size 1080x576 with 1 Axes>"
      ]
     },
     "metadata": {
      "needs_background": "light"
     },
     "output_type": "display_data"
    }
   ],
   "source": [
    "#Сравним как происходит распределение пользователей по суммарному количеству часов в приложении\n",
    "x = df[df['city'] == 'Москва']\n",
    "y = df[df['city'] == 'Санкт-Петербург']\n",
    "plt.figure(figsize = (15,8))\n",
    "x['hours'].hist(bins = 100, color = 'red', range = [0,250])\n",
    "y['hours'].hist(bins = 100, color = 'blue', range = [0,250])\n",
    "plt.xlabel('Количество часов активности')\n",
    "plt.ylabel('Количество пользователей')\n",
    "plt.title('Гистограмма распределения пользователей по часам')\n",
    "plt.grid()\n",
    "plt.show()"
   ]
  },
  {
   "cell_type": "code",
   "execution_count": 55,
   "id": "d2ebabc3",
   "metadata": {},
   "outputs": [
    {
     "data": {
      "text/html": [
       "<div>\n",
       "<style scoped>\n",
       "    .dataframe tbody tr th:only-of-type {\n",
       "        vertical-align: middle;\n",
       "    }\n",
       "\n",
       "    .dataframe tbody tr th {\n",
       "        vertical-align: top;\n",
       "    }\n",
       "\n",
       "    .dataframe thead th {\n",
       "        text-align: right;\n",
       "    }\n",
       "</style>\n",
       "<table border=\"1\" class=\"dataframe\">\n",
       "  <thead>\n",
       "    <tr style=\"text-align: right;\">\n",
       "      <th></th>\n",
       "      <th>Unnamed: 0</th>\n",
       "      <th>puid</th>\n",
       "      <th>hours</th>\n",
       "    </tr>\n",
       "  </thead>\n",
       "  <tbody>\n",
       "    <tr>\n",
       "      <th>count</th>\n",
       "      <td>5990.000000</td>\n",
       "      <td>5.990000e+03</td>\n",
       "      <td>5990.000000</td>\n",
       "    </tr>\n",
       "    <tr>\n",
       "      <th>mean</th>\n",
       "      <td>3124.419699</td>\n",
       "      <td>1.037652e+13</td>\n",
       "      <td>10.848192</td>\n",
       "    </tr>\n",
       "    <tr>\n",
       "      <th>std</th>\n",
       "      <td>1802.864265</td>\n",
       "      <td>1.077902e+14</td>\n",
       "      <td>36.925622</td>\n",
       "    </tr>\n",
       "    <tr>\n",
       "      <th>min</th>\n",
       "      <td>0.000000</td>\n",
       "      <td>9.668000e+03</td>\n",
       "      <td>0.000022</td>\n",
       "    </tr>\n",
       "    <tr>\n",
       "      <th>25%</th>\n",
       "      <td>1558.500000</td>\n",
       "      <td>3.140081e+08</td>\n",
       "      <td>0.057042</td>\n",
       "    </tr>\n",
       "    <tr>\n",
       "      <th>50%</th>\n",
       "      <td>3128.500000</td>\n",
       "      <td>8.757609e+08</td>\n",
       "      <td>0.888232</td>\n",
       "    </tr>\n",
       "    <tr>\n",
       "      <th>75%</th>\n",
       "      <td>4688.750000</td>\n",
       "      <td>1.517035e+09</td>\n",
       "      <td>5.933439</td>\n",
       "    </tr>\n",
       "    <tr>\n",
       "      <th>max</th>\n",
       "      <td>6233.000000</td>\n",
       "      <td>1.130000e+15</td>\n",
       "      <td>857.209373</td>\n",
       "    </tr>\n",
       "  </tbody>\n",
       "</table>\n",
       "</div>"
      ],
      "text/plain": [
       "        Unnamed: 0          puid        hours\n",
       "count  5990.000000  5.990000e+03  5990.000000\n",
       "mean   3124.419699  1.037652e+13    10.848192\n",
       "std    1802.864265  1.077902e+14    36.925622\n",
       "min       0.000000  9.668000e+03     0.000022\n",
       "25%    1558.500000  3.140081e+08     0.057042\n",
       "50%    3128.500000  8.757609e+08     0.888232\n",
       "75%    4688.750000  1.517035e+09     5.933439\n",
       "max    6233.000000  1.130000e+15   857.209373"
      ]
     },
     "execution_count": 55,
     "metadata": {},
     "output_type": "execute_result"
    }
   ],
   "source": [
    "# Посмотрим на статистические данные двух выборок: Москва и Санкт-Петербург\n",
    "df[df['city'] == 'Москва'].describe()"
   ]
  },
  {
   "cell_type": "code",
   "execution_count": 56,
   "id": "0438d8a2",
   "metadata": {},
   "outputs": [
    {
     "data": {
      "text/html": [
       "<div>\n",
       "<style scoped>\n",
       "    .dataframe tbody tr th:only-of-type {\n",
       "        vertical-align: middle;\n",
       "    }\n",
       "\n",
       "    .dataframe tbody tr th {\n",
       "        vertical-align: top;\n",
       "    }\n",
       "\n",
       "    .dataframe thead th {\n",
       "        text-align: right;\n",
       "    }\n",
       "</style>\n",
       "<table border=\"1\" class=\"dataframe\">\n",
       "  <thead>\n",
       "    <tr style=\"text-align: right;\">\n",
       "      <th></th>\n",
       "      <th>Unnamed: 0</th>\n",
       "      <th>puid</th>\n",
       "      <th>hours</th>\n",
       "    </tr>\n",
       "  </thead>\n",
       "  <tbody>\n",
       "    <tr>\n",
       "      <th>count</th>\n",
       "      <td>2306.000000</td>\n",
       "      <td>2.306000e+03</td>\n",
       "      <td>2306.000000</td>\n",
       "    </tr>\n",
       "    <tr>\n",
       "      <th>mean</th>\n",
       "      <td>7521.632697</td>\n",
       "      <td>5.391234e+12</td>\n",
       "      <td>11.264433</td>\n",
       "    </tr>\n",
       "    <tr>\n",
       "      <th>std</th>\n",
       "      <td>738.327494</td>\n",
       "      <td>7.787547e+13</td>\n",
       "      <td>39.831755</td>\n",
       "    </tr>\n",
       "    <tr>\n",
       "      <th>min</th>\n",
       "      <td>6234.000000</td>\n",
       "      <td>1.049230e+05</td>\n",
       "      <td>0.000025</td>\n",
       "    </tr>\n",
       "    <tr>\n",
       "      <th>25%</th>\n",
       "      <td>6879.750000</td>\n",
       "      <td>3.594025e+08</td>\n",
       "      <td>0.060173</td>\n",
       "    </tr>\n",
       "    <tr>\n",
       "      <th>50%</th>\n",
       "      <td>7532.500000</td>\n",
       "      <td>9.265005e+08</td>\n",
       "      <td>0.875355</td>\n",
       "    </tr>\n",
       "    <tr>\n",
       "      <th>75%</th>\n",
       "      <td>8162.750000</td>\n",
       "      <td>1.542720e+09</td>\n",
       "      <td>6.138424</td>\n",
       "    </tr>\n",
       "    <tr>\n",
       "      <th>max</th>\n",
       "      <td>8783.000000</td>\n",
       "      <td>1.130000e+15</td>\n",
       "      <td>978.764775</td>\n",
       "    </tr>\n",
       "  </tbody>\n",
       "</table>\n",
       "</div>"
      ],
      "text/plain": [
       "        Unnamed: 0          puid        hours\n",
       "count  2306.000000  2.306000e+03  2306.000000\n",
       "mean   7521.632697  5.391234e+12    11.264433\n",
       "std     738.327494  7.787547e+13    39.831755\n",
       "min    6234.000000  1.049230e+05     0.000025\n",
       "25%    6879.750000  3.594025e+08     0.060173\n",
       "50%    7532.500000  9.265005e+08     0.875355\n",
       "75%    8162.750000  1.542720e+09     6.138424\n",
       "max    8783.000000  1.130000e+15   978.764775"
      ]
     },
     "execution_count": 56,
     "metadata": {},
     "output_type": "execute_result"
    }
   ],
   "source": [
    "df[df['city'] == 'Санкт-Петербург'].describe()"
   ]
  },
  {
   "cell_type": "code",
   "execution_count": 57,
   "id": "1832e432",
   "metadata": {},
   "outputs": [
    {
     "data": {
      "image/png": "[encoded data removed]",
      "text/plain": [
       "<Figure size 1080x576 with 1 Axes>"
      ]
     },
     "metadata": {
      "needs_background": "light"
     },
     "output_type": "display_data"
    }
   ],
   "source": [
    "# В данных присуствуют значения, похожие на выбросы, из-зв чего проблематично оценить распределение\n",
    "# Следует избавиться от них\n",
    "x = df[(df['city'] == 'Москва')&(df['hours'] < df['hours'].quantile(0.9))]\n",
    "y = df[(df['city'] == 'Санкт-Петербург') &(df['hours'] < df['hours'].quantile(0.9))]\n",
    "plt.figure(figsize = (15,8))\n",
    "x['hours'].hist(bins = 100, color = 'red')\n",
    "y['hours'].hist(bins = 100, color = 'blue')\n",
    "plt.xlabel('Количество часов активности')\n",
    "plt.ylabel('Количество пользователей')\n",
    "plt.title('Гистограмма распределения пользователей по часам')\n",
    "plt.grid()\n",
    "plt.show()"
   ]
  },
  {
   "cell_type": "markdown",
   "id": "5925155e",
   "metadata": {},
   "source": [
    "Разница между выборками присутствует, это заметно не только в размерах выборок но и в статистических показателях: среднее значение, медиана, максимальное значение и т.д. "
   ]
  },
  {
   "cell_type": "markdown",
   "id": "07c4934c",
   "metadata": {},
   "source": [
    "Неравность выборок может исказить результаты при проверки гипотез. Однако, чтобы избежать проблем с проверкой гипотез стоит использовать t-test Уэлча. При рассмотрении гистограмм выборки ведут себя почти одинаково. Учитывая их размер, можно сказать что необходимые условия будут выполняется: выборки независимы, размер позволяет построить нормальное выборочное распределение так как соблюдается ЦПТ."
   ]
  },
  {
   "cell_type": "markdown",
   "id": "956e82e2",
   "metadata": {
    "id": "956e82e2"
   },
   "source": [
    "<a class=\"anchor\" id=\"2_charter\"></a> \n",
    "## 2. Проверка гипотезы в Python\n",
    "\n",
    "Гипотеза звучит так: пользователи из Санкт-Петербурга проводят в среднем больше времени за чтением и прослушиванием книг в приложении, чем пользователи из Москвы. Попробуйте статистически это доказать, используя одностороннюю проверку гипотезы с двумя выборками:\n",
    "\n",
    "- Нулевая гипотеза H₀: Средняя активность пользователей в часах в двух группах (Москва и Санкт-Петербург) не различается.\n",
    "\n",
    "- Альтернативная гипотеза H₁: Средняя активность пользователей в Санкт-Петербурге больше, и это различие статистически значимо."
   ]
  },
  {
   "cell_type": "code",
   "execution_count": 58,
   "id": "67956690",
   "metadata": {
    "id": "67956690"
   },
   "outputs": [
    {
     "data": {
      "text/plain": [
       "city\n",
       "Москва             10.848192\n",
       "Санкт-Петербург    11.264433\n",
       "Name: hours, dtype: float64"
      ]
     },
     "execution_count": 58,
     "metadata": {},
     "output_type": "execute_result"
    }
   ],
   "source": [
    "# Для начала сравним средние значения часов и выявим разницу\n",
    "df.groupby('city')['hours'].mean()"
   ]
  },
  {
   "cell_type": "markdown",
   "id": "6a261724",
   "metadata": {},
   "source": [
    "Разница в средних часах активности присутвует и составляет 0.42 часа. Теперь стоит оценить насколько данный результат статистически значим. Вероятнось допустить ошибку первого рода возьмем равной 0.05 (так как результат не требует огромной точности)."
   ]
  },
  {
   "cell_type": "code",
   "execution_count": 59,
   "id": "646dba2f",
   "metadata": {},
   "outputs": [
    {
     "data": {
      "text/plain": [
       "'pvalue = '"
      ]
     },
     "metadata": {},
     "output_type": "display_data"
    },
    {
     "data": {
      "text/plain": [
       "0.33179596018475044"
      ]
     },
     "metadata": {},
     "output_type": "display_data"
    },
    {
     "data": {
      "text/plain": [
       "'Не получилось отвергнуть нулевую гипотезу'"
      ]
     },
     "metadata": {},
     "output_type": "display_data"
    }
   ],
   "source": [
    "metric_msc = df[df['city']=='Москва']['hours']\n",
    "metric_spb = df[df['city']=='Санкт-Петербург']['hours']\n",
    "alpha = 0.05\n",
    "stat_test = ttest_ind(metric_spb, metric_msc, alternative = 'greater', equal_var = False)\n",
    "display('pvalue = ', stat_test.pvalue)\n",
    "if stat_test.pvalue < alpha:\n",
    "    display('Отвергаем нулевую гипотезу')\n",
    "else:\n",
    "    display('Не получилось отвергнуть нулевую гипотезу')"
   ]
  },
  {
   "cell_type": "markdown",
   "id": "240dd0cb",
   "metadata": {},
   "source": [
    "По результатам проведения t-теста Уэлча не получилось отвергнуть нулевую гипотезу, следовательно разница между средними часами активности использования приложения в Москве и в Санкт-Петербурге статистически незначима."
   ]
  },
  {
   "cell_type": "markdown",
   "id": "6953e84c",
   "metadata": {
    "id": "6953e84c"
   },
   "source": [
    "<a class=\"anchor\" id=\"3_charter\"></a> \n",
    "## 3. Аналитическая записка\n",
    "\n",
    "\n",
    "В ходе работы над задачей проведена проверка гипотезы о том, что в Санкт-Петербурге пользователи более активно используют приложения.  \n",
    "Первоначально были изучены данные и их распределение между городами, а также построены и изучены гистограммы рапсределения количества пользователей в зависимости от длительности суммарной активности пользователей.  \n",
    "Из-за разности в количестве пользователей, распределенных между городами, а также наличию разницы в статистических показателях был выбран t-тест Уэлча, который позволяет проиводить статистическую оценку при различии дисперсий выборок.\n",
    "\n",
    "В результате было получено, что средние значения в Санкт-Петерурге и Москве отличаются, при этом про проведении теста было получено значение pvalue = 0.33179596018475044, что выше заявленного уровня значимости.\n",
    "\n",
    "Полученное значение указывает на то, что опровергнуть нулевую гипотезу нельзя и средняя активность пользователей Москвы и Санкт-Петербурга равны.\n",
    "\n",
    "Возможной причиной отклонения результата может являтся неравенство количество пользователей по выборкам, так как наблюдается различие больше чем в два раза."
   ]
  },
  {
   "cell_type": "markdown",
   "id": "hc1d6jVISegz",
   "metadata": {
    "id": "hc1d6jVISegz"
   },
   "source": [
    "----"
   ]
  },
  {
   "cell_type": "markdown",
   "id": "NqOUIYhbrIfC",
   "metadata": {
    "id": "NqOUIYhbrIfC"
   },
   "source": [
    "<a class=\"anchor\" id=\"4_charter\"></a> \n",
    "# Часть 2. Анализ результатов A/B-тестирования"
   ]
  },
  {
   "cell_type": "markdown",
   "id": "tDwMKFNGsClr",
   "metadata": {
    "id": "tDwMKFNGsClr"
   },
   "source": [
    "Теперь вам нужно проанализировать другие данные. Представьте, что к вам обратились представители интернет-магазина BitMotion Kit, в котором продаются геймифицированные товары для тех, кто ведёт здоровый образ жизни. У него есть своя целевая аудитория, даже появились хиты продаж: эспандер со счётчиком и напоминанием, так и подстольный велотренажёр с Bluetooth.\n",
    "\n",
    "В будущем компания хочет расширить ассортимент товаров. Но перед этим нужно решить одну проблему. Интерфейс онлайн-магазина слишком сложен для пользователей — об этом говорят отзывы.\n",
    "\n",
    "Чтобы привлечь новых клиентов и увеличить число продаж, владельцы магазина разработали новую версию сайта и протестировали его на части пользователей. По задумке, это решение доказуемо повысит количество пользователей, которые совершат покупку.\n",
    "\n",
    "Ваша задача — провести оценку результатов A/B-теста. В вашем распоряжении:\n",
    "\n",
    "* данные о действиях пользователей и распределении их на группы,\n",
    "\n",
    "* техническое задание.\n",
    "\n",
    "Оцените корректность проведения теста и проанализируйте его результаты."
   ]
  },
  {
   "cell_type": "markdown",
   "id": "UNXAAyF5r9Rk",
   "metadata": {
    "id": "UNXAAyF5r9Rk"
   },
   "source": [
    "## 1. Опишите цели исследования.\n",
    "\n"
   ]
  },
  {
   "cell_type": "markdown",
   "id": "kHx-51yES8bd",
   "metadata": {
    "id": "kHx-51yES8bd"
   },
   "source": [
    "**Цель:** запуск нового интерфейса для онлайн-магазина  \n",
    "**Задачи: ** \n",
    "- проверить корректиность проведения А/В-тестирования\n",
    "- проанализировать результаты\n",
    "- сделать вывод о необходимости раскатывания фичи\n",
    "\n",
    "**Техническое задание проведённого теста**\n",
    "Предыдущий аналитик проверял полное обновление дизайна сайта. Гипотеза заключается в следующем: упрощение интерфейса приведёт к тому, что в течение семи дней после регистрации в системе конверсия зарегистрированных пользователей в покупателей увеличится как минимум на три процентных пункта.\n",
    "Параметры теста:  \n",
    "- название теста: interface_eu_test;\n",
    "- группы: А (контрольная), B (новый интерфейс).\n",
    "Вам нужно:  \n",
    "- загрузить данные теста;\n",
    "- проверить корректность его проведения;\n",
    "- проанализировать полученные результаты.\n",
    "\n",
    "Данные ab_test_participants.csv — таблица участников тестов.\n",
    "Структура файла:  \n",
    "- user_id — идентификатор пользователя;\n",
    "- group — группа пользователя;\n",
    "- ab_test — название теста;\n",
    "- device — устройство, с которого происходила регистрация.\n",
    "\n",
    "ab_test_events.zip — архив с одним csv-файлом, в котором собраны события 2020 года;  \n",
    "Структура файла:  \n",
    "- user_id — идентификатор пользователя;\n",
    "- event_dt — дата и время события;\n",
    "- event_name — тип события;\n",
    "- details — дополнительные данные о событии."
   ]
  },
  {
   "cell_type": "markdown",
   "id": "_CZryx2OsH-s",
   "metadata": {
    "id": "_CZryx2OsH-s"
   },
   "source": [
    "## 2. Загрузите данные, оцените их целостность.\n"
   ]
  },
  {
   "cell_type": "code",
   "execution_count": 60,
   "id": "DjFcJbeGsTIg",
   "metadata": {
    "id": "DjFcJbeGsTIg"
   },
   "outputs": [],
   "source": [
    "participants = pd.read_csv('ab_test_participants.csv')\n",
    "events = pd.read_csv('ab_test_events.zip',\n",
    "                     parse_dates=['event_dt'], low_memory=False)"
   ]
  },
  {
   "cell_type": "code",
   "execution_count": 61,
   "id": "7bb32349",
   "metadata": {},
   "outputs": [
    {
     "data": {
      "text/html": [
       "<div>\n",
       "<style scoped>\n",
       "    .dataframe tbody tr th:only-of-type {\n",
       "        vertical-align: middle;\n",
       "    }\n",
       "\n",
       "    .dataframe tbody tr th {\n",
       "        vertical-align: top;\n",
       "    }\n",
       "\n",
       "    .dataframe thead th {\n",
       "        text-align: right;\n",
       "    }\n",
       "</style>\n",
       "<table border=\"1\" class=\"dataframe\">\n",
       "  <thead>\n",
       "    <tr style=\"text-align: right;\">\n",
       "      <th></th>\n",
       "      <th>user_id</th>\n",
       "      <th>group</th>\n",
       "      <th>ab_test</th>\n",
       "      <th>device</th>\n",
       "    </tr>\n",
       "  </thead>\n",
       "  <tbody>\n",
       "    <tr>\n",
       "      <th>0</th>\n",
       "      <td>0002CE61FF2C4011</td>\n",
       "      <td>B</td>\n",
       "      <td>interface_eu_test</td>\n",
       "      <td>Mac</td>\n",
       "    </tr>\n",
       "    <tr>\n",
       "      <th>1</th>\n",
       "      <td>001064FEAAB631A1</td>\n",
       "      <td>B</td>\n",
       "      <td>recommender_system_test</td>\n",
       "      <td>Android</td>\n",
       "    </tr>\n",
       "    <tr>\n",
       "      <th>2</th>\n",
       "      <td>001064FEAAB631A1</td>\n",
       "      <td>A</td>\n",
       "      <td>interface_eu_test</td>\n",
       "      <td>Android</td>\n",
       "    </tr>\n",
       "    <tr>\n",
       "      <th>3</th>\n",
       "      <td>0010A1C096941592</td>\n",
       "      <td>A</td>\n",
       "      <td>recommender_system_test</td>\n",
       "      <td>Android</td>\n",
       "    </tr>\n",
       "    <tr>\n",
       "      <th>4</th>\n",
       "      <td>001E72F50D1C48FA</td>\n",
       "      <td>A</td>\n",
       "      <td>interface_eu_test</td>\n",
       "      <td>Mac</td>\n",
       "    </tr>\n",
       "  </tbody>\n",
       "</table>\n",
       "</div>"
      ],
      "text/plain": [
       "            user_id group                  ab_test   device\n",
       "0  0002CE61FF2C4011     B        interface_eu_test      Mac\n",
       "1  001064FEAAB631A1     B  recommender_system_test  Android\n",
       "2  001064FEAAB631A1     A        interface_eu_test  Android\n",
       "3  0010A1C096941592     A  recommender_system_test  Android\n",
       "4  001E72F50D1C48FA     A        interface_eu_test      Mac"
      ]
     },
     "execution_count": 61,
     "metadata": {},
     "output_type": "execute_result"
    }
   ],
   "source": [
    "participants.head()"
   ]
  },
  {
   "cell_type": "code",
   "execution_count": 62,
   "id": "80acfcfc",
   "metadata": {},
   "outputs": [
    {
     "data": {
      "text/plain": [
       "group  ab_test                  device \n",
       "A      interface_eu_test        Android    2445\n",
       "B      interface_eu_test        Android    2414\n",
       "                                PC         1418\n",
       "A      interface_eu_test        PC         1346\n",
       "       recommender_system_test  Android    1197\n",
       "B      interface_eu_test        iPhone     1081\n",
       "A      interface_eu_test        iPhone     1026\n",
       "       recommender_system_test  PC          726\n",
       "       interface_eu_test        Mac         566\n",
       "       recommender_system_test  iPhone      554\n",
       "B      interface_eu_test        Mac         554\n",
       "       recommender_system_test  Android     428\n",
       "A      recommender_system_test  Mac         270\n",
       "B      recommender_system_test  PC          227\n",
       "                                iPhone      197\n",
       "                                Mac          76\n",
       "dtype: int64"
      ]
     },
     "execution_count": 62,
     "metadata": {},
     "output_type": "execute_result"
    }
   ],
   "source": [
    "# Проверим как распределяются значения в выборке по тестам, группам и устройствам\n",
    "participants[['group', 'ab_test', 'device']].value_counts()"
   ]
  },
  {
   "cell_type": "markdown",
   "id": "29e0c774",
   "metadata": {},
   "source": [
    "В выборке присутствуют два различных теста `interface_eu_test`,`recommender_system_test` при этом по каждому из проводится А/В-тестирование. Присутствуют 4 типа устройств - Android, PC, iPhone, Mac."
   ]
  },
  {
   "cell_type": "code",
   "execution_count": 63,
   "id": "67ad6056",
   "metadata": {},
   "outputs": [
    {
     "name": "stdout",
     "output_type": "stream",
     "text": [
      "<class 'pandas.core.frame.DataFrame'>\n",
      "RangeIndex: 14525 entries, 0 to 14524\n",
      "Data columns (total 4 columns):\n",
      " #   Column   Non-Null Count  Dtype \n",
      "---  ------   --------------  ----- \n",
      " 0   user_id  14525 non-null  object\n",
      " 1   group    14525 non-null  object\n",
      " 2   ab_test  14525 non-null  object\n",
      " 3   device   14525 non-null  object\n",
      "dtypes: object(4)\n",
      "memory usage: 454.0+ KB\n"
     ]
    }
   ],
   "source": [
    "# Проверим целостность данных\n",
    "participants.info()"
   ]
  },
  {
   "cell_type": "markdown",
   "id": "43c27924",
   "metadata": {},
   "source": [
    "Данные представлены 4 стобцами и 14525 строками. Пропусков в данных нет, все типы определены корректно."
   ]
  },
  {
   "cell_type": "code",
   "execution_count": 64,
   "id": "ccb4f09e",
   "metadata": {},
   "outputs": [
    {
     "data": {
      "text/html": [
       "<div>\n",
       "<style scoped>\n",
       "    .dataframe tbody tr th:only-of-type {\n",
       "        vertical-align: middle;\n",
       "    }\n",
       "\n",
       "    .dataframe tbody tr th {\n",
       "        vertical-align: top;\n",
       "    }\n",
       "\n",
       "    .dataframe thead th {\n",
       "        text-align: right;\n",
       "    }\n",
       "</style>\n",
       "<table border=\"1\" class=\"dataframe\">\n",
       "  <thead>\n",
       "    <tr style=\"text-align: right;\">\n",
       "      <th></th>\n",
       "      <th>user_id</th>\n",
       "      <th>event_dt</th>\n",
       "      <th>event_name</th>\n",
       "      <th>details</th>\n",
       "    </tr>\n",
       "  </thead>\n",
       "  <tbody>\n",
       "    <tr>\n",
       "      <th>0</th>\n",
       "      <td>GLOBAL</td>\n",
       "      <td>2020-12-01 00:00:00</td>\n",
       "      <td>End of Black Friday Ads Campaign</td>\n",
       "      <td>ZONE_CODE15</td>\n",
       "    </tr>\n",
       "    <tr>\n",
       "      <th>1</th>\n",
       "      <td>CCBE9E7E99F94A08</td>\n",
       "      <td>2020-12-01 00:00:11</td>\n",
       "      <td>registration</td>\n",
       "      <td>0.0</td>\n",
       "    </tr>\n",
       "    <tr>\n",
       "      <th>2</th>\n",
       "      <td>GLOBAL</td>\n",
       "      <td>2020-12-01 00:00:25</td>\n",
       "      <td>product_page</td>\n",
       "      <td>NaN</td>\n",
       "    </tr>\n",
       "    <tr>\n",
       "      <th>3</th>\n",
       "      <td>CCBE9E7E99F94A08</td>\n",
       "      <td>2020-12-01 00:00:33</td>\n",
       "      <td>login</td>\n",
       "      <td>NaN</td>\n",
       "    </tr>\n",
       "    <tr>\n",
       "      <th>4</th>\n",
       "      <td>CCBE9E7E99F94A08</td>\n",
       "      <td>2020-12-01 00:00:52</td>\n",
       "      <td>product_page</td>\n",
       "      <td>NaN</td>\n",
       "    </tr>\n",
       "  </tbody>\n",
       "</table>\n",
       "</div>"
      ],
      "text/plain": [
       "            user_id            event_dt                        event_name  \\\n",
       "0            GLOBAL 2020-12-01 00:00:00  End of Black Friday Ads Campaign   \n",
       "1  CCBE9E7E99F94A08 2020-12-01 00:00:11                      registration   \n",
       "2            GLOBAL 2020-12-01 00:00:25                      product_page   \n",
       "3  CCBE9E7E99F94A08 2020-12-01 00:00:33                             login   \n",
       "4  CCBE9E7E99F94A08 2020-12-01 00:00:52                      product_page   \n",
       "\n",
       "       details  \n",
       "0  ZONE_CODE15  \n",
       "1          0.0  \n",
       "2          NaN  \n",
       "3          NaN  \n",
       "4          NaN  "
      ]
     },
     "execution_count": 64,
     "metadata": {},
     "output_type": "execute_result"
    }
   ],
   "source": [
    "#Проверим данные другого датасета\n",
    "events.head()"
   ]
  },
  {
   "cell_type": "markdown",
   "id": "6f860002",
   "metadata": {},
   "source": [
    "В данных присутствует информаия о пользователях и их действиях. Следует изучить какие существует названия событий. КРоме того, существуют записи GLOBAL, которые вероятнее всего являются технической записью для всех пользователей - начало акции, конец акции, рассылка и т.д."
   ]
  },
  {
   "cell_type": "code",
   "execution_count": 65,
   "id": "1cbbc012",
   "metadata": {},
   "outputs": [
    {
     "data": {
      "text/plain": [
       "login                                 248285\n",
       "product_page                          195606\n",
       "registration                          144183\n",
       "purchase                              104836\n",
       "product_cart                           94373\n",
       "Start of Christmas&New Year Promo          1\n",
       "End of Black Friday Ads Campaign           1\n",
       "Start of CIS New Year Gift Lottery         1\n",
       "Name: event_name, dtype: int64"
      ]
     },
     "execution_count": 65,
     "metadata": {},
     "output_type": "execute_result"
    }
   ],
   "source": [
    "events['event_name'].value_counts()"
   ]
  },
  {
   "cell_type": "markdown",
   "id": "445a7eee",
   "metadata": {},
   "source": [
    "В логах присуствуют следующие варианты событий: регистрация, логин(вход)б открытие страницы продукта, покупка, открытие карточки продукта. Из первичного расмотрения данных заметно, что первостепенно происхоидт регистрация, а потом вход. Учитывая количество логов связанных с открытием карточки товара, возможно карточка товара открывается после покупки и хранит в себе дополнительную информацию о заказанном товаре, так как ее отрытие реже чем покупка."
   ]
  },
  {
   "cell_type": "code",
   "execution_count": 66,
   "id": "0ef6a788",
   "metadata": {},
   "outputs": [
    {
     "name": "stdout",
     "output_type": "stream",
     "text": [
      "<class 'pandas.core.frame.DataFrame'>\n",
      "RangeIndex: 787286 entries, 0 to 787285\n",
      "Data columns (total 4 columns):\n",
      " #   Column      Non-Null Count   Dtype         \n",
      "---  ------      --------------   -----         \n",
      " 0   user_id     787286 non-null  object        \n",
      " 1   event_dt    787286 non-null  datetime64[ns]\n",
      " 2   event_name  787286 non-null  object        \n",
      " 3   details     249022 non-null  object        \n",
      "dtypes: datetime64[ns](1), object(3)\n",
      "memory usage: 24.0+ MB\n"
     ]
    }
   ],
   "source": [
    "#Оценка целостности данных\n",
    "events.info()"
   ]
  },
  {
   "cell_type": "markdown",
   "id": "355be59d",
   "metadata": {},
   "source": [
    "Типы данных определены верно. Всего в данных присуствуют 4 столбца и 787286 строк. Пропуски есть только в поле details, в котором хранится дополнительная информация. Для анализа и выполнения задач она не представляет особый интерес, поэому пропуски можно оставить незаполненными."
   ]
  },
  {
   "cell_type": "markdown",
   "id": "121e2df5",
   "metadata": {},
   "source": [
    "В целом при рассмотрении данных можно сказать о том, что они целостны (исключение - поле details). Данные подходят для анализа и проведения А/В-тестирования."
   ]
  },
  {
   "cell_type": "code",
   "execution_count": 67,
   "id": "cb3b817c",
   "metadata": {
    "scrolled": true
   },
   "outputs": [
    {
     "data": {
      "text/plain": [
       "0"
      ]
     },
     "metadata": {},
     "output_type": "display_data"
    },
    {
     "data": {
      "text/plain": [
       "39510"
      ]
     },
     "metadata": {},
     "output_type": "display_data"
    }
   ],
   "source": [
    "display(participants.duplicated(subset = ['user_id', 'ab_test', 'group'], keep = 'first').sum())\n",
    "display(events.duplicated(subset = ['user_id', 'event_dt', 'event_name'],keep = 'first').sum())\n",
    "participants = participants.drop_duplicates(subset=['user_id', 'ab_test', 'group'])\n",
    "events = events.drop_duplicates(subset=['user_id', 'event_dt', 'event_name'])"
   ]
  },
  {
   "cell_type": "markdown",
   "id": "CnzA-efasUrk",
   "metadata": {
    "id": "CnzA-efasUrk"
   },
   "source": [
    "## 3. По таблице `ab_test_participants` оцените корректность проведения теста:\n",
    "\n",
    "   3\\.1 Выделите пользователей, участвующих в тесте, и проверьте:\n",
    "\n",
    "   - соответствие требованиям технического задания,\n",
    "\n",
    "   - равномерность распределения пользователей по группам теста,\n",
    "\n",
    "   - отсутствие пересечений с конкурирующим тестом (нет пользователей, участвующих одновременно в двух тестовых группах)."
   ]
  },
  {
   "cell_type": "markdown",
   "id": "4724c62d",
   "metadata": {
    "id": "aNa3zHrKslEN"
   },
   "source": [
    "Из технического задания известно: название теста: interface_eu_test;\n",
    "группы: А (контрольная), B (новый интерфейс)."
   ]
  },
  {
   "cell_type": "code",
   "execution_count": 68,
   "id": "acb4fe35",
   "metadata": {},
   "outputs": [
    {
     "data": {
      "text/plain": [
       "B    5467\n",
       "A    5383\n",
       "Name: group, dtype: int64"
      ]
     },
     "execution_count": 68,
     "metadata": {},
     "output_type": "execute_result"
    }
   ],
   "source": [
    "#Проверим присуствует ли такой тест и такие группы\n",
    "participants[participants['ab_test'] == 'interface_eu_test']['group'].value_counts()"
   ]
  },
  {
   "cell_type": "markdown",
   "id": "2a0faf4b",
   "metadata": {},
   "source": [
    "В соотвествии с требованием технического задания в данных присуствуют указаный тест и группы, других групп нет. При этом данные распределились следующим образом группа А (контрольная) - 5383 пользователя, группа В (новый интерфейс) - 5467. Разница в абсолютных значениях составляет 84 человека. Стоит оценить это в процентном соотношении."
   ]
  },
  {
   "cell_type": "markdown",
   "id": "068bef8a",
   "metadata": {},
   "source": [
    "Перед оценкой стоит также проверить что пользователи не попали случайно в разные группы и при этом не приняли участия в двух разных тестах."
   ]
  },
  {
   "cell_type": "markdown",
   "id": "42865051",
   "metadata": {},
   "source": [
    "Учитывая что мы знаем распределение по группам, можем оценить количество уникальных идентификаторов данных группах, если оно будет отличаться от суммы пользователей двух групп, значит присуствует те, кто попал в обе группы."
   ]
  },
  {
   "cell_type": "code",
   "execution_count": 69,
   "id": "2d18a7dd",
   "metadata": {},
   "outputs": [
    {
     "data": {
      "text/plain": [
       "10850"
      ]
     },
     "execution_count": 69,
     "metadata": {},
     "output_type": "execute_result"
    }
   ],
   "source": [
    "participants[participants['ab_test'] == 'interface_eu_test']['user_id'].nunique()"
   ]
  },
  {
   "cell_type": "markdown",
   "id": "fb447b48",
   "metadata": {},
   "source": [
    "В тесте приняло участие 10850 уникальных пользователей, при этом все они распределены либо в группу А либо в В. Таким образом нет пользователей, которые приняли участие в тесте в двух разных группах. Так как одновременно было проведена два различных теста, стоит проверить что пользователи не пересеклись в них."
   ]
  },
  {
   "cell_type": "code",
   "execution_count": 70,
   "id": "5c5c5e35",
   "metadata": {
    "scrolled": true
   },
   "outputs": [
    {
     "data": {
      "text/plain": [
       "['8D406B3B500671BD',\n",
       " '701B5B6292603C20',\n",
       " '963B1853B52C27E5',\n",
       " '6786C23A54D59DD4',\n",
       " '3B6ABE8E7872977E',\n",
       " '75013CAAF42E90A9',\n",
       " '21C2D41E1FDF1E70',\n",
       " '3B62EE83708770A5',\n",
       " '8C0361CB080810CA',\n",
       " '24553DD3FF973EE4',\n",
       " '9918D1C354A1383A',\n",
       " '02894A55BC14A70E',\n",
       " 'AFF3D30CC385F0E9',\n",
       " 'FF44696E39039D29',\n",
       " 'D7A2C421522E93A4',\n",
       " '3A6D88AB973BD99D',\n",
       " '51DA2C882D0D7508',\n",
       " '94464DF2E5398E26',\n",
       " 'B60B4563ADC259E3',\n",
       " 'C4D48357F1C18C76',\n",
       " '84DC74ED5E60BA6A',\n",
       " '902F92052587344F',\n",
       " '3F775ABC71333988',\n",
       " '95401934D6D6D4FC',\n",
       " 'CF849D6380A28CA9',\n",
       " 'C89E24F4C723CEF4',\n",
       " 'AA5A1803D3FA76B4',\n",
       " 'C4F3A9D7BB596E6E',\n",
       " 'AFFC4117AC279D49',\n",
       " 'A0BAE4190D41A285',\n",
       " 'A8C25A605F613665',\n",
       " 'E3780F6861A69868',\n",
       " '1A4A33FE1C0FDD90',\n",
       " '9431D6C9475CFD3A',\n",
       " '48BEDF1889241425',\n",
       " 'B3059CB4FD2DE0FA',\n",
       " '051D59BC38C3B3AA',\n",
       " 'C165E8C0C5DE19FF',\n",
       " '27802765D2458B2B',\n",
       " 'A71444B5BEB5CCC4',\n",
       " '50CF32FEE0C61DA9',\n",
       " '0CA93D3A4A1D8389',\n",
       " 'A980A65F42FB1BB4',\n",
       " 'E77F99BCF9D8AB96',\n",
       " 'DC41AFF8213BE01A',\n",
       " 'AEB9B39AE54D3598',\n",
       " 'BD31CABB6D5C6561',\n",
       " '6F70F06DD209676B',\n",
       " 'EFE533D29119526E',\n",
       " 'E253DCB9EC1C014E',\n",
       " 'C176364EF5C025EA',\n",
       " 'C26D3BB63817A267',\n",
       " '60E68A4F33951169',\n",
       " 'AB94ADBD1345E896',\n",
       " '0082295A41A867B5',\n",
       " 'E14805CD622EA211',\n",
       " '69E475C5708ABE56',\n",
       " 'BBE0583F0240AABB',\n",
       " '340D9C518D3CBB8D',\n",
       " '9270DB42112E3B14',\n",
       " '6E3E5F88B6A3B401',\n",
       " '814DF3DA9DD71B8A',\n",
       " 'EAF000D4CC7635B7',\n",
       " '8B2134D31A514E4E',\n",
       " '3FAA6AD64C3B47E8',\n",
       " 'EABF946459C4DA3A',\n",
       " '597F7FD5AA3524D3',\n",
       " 'EF449601C94D2496',\n",
       " '79BED20696125731',\n",
       " '8FBAEB717ABA3930',\n",
       " '7E4B0D11D179F4EC',\n",
       " '341E8DBCD6C8B223',\n",
       " 'D9BAC4C97F9C107F',\n",
       " 'B817F0C0928EDB27',\n",
       " 'E8BBE017F65D7CEA',\n",
       " 'DA4D24731C8CCEB8',\n",
       " '8F72F2114F2D5184',\n",
       " '4408C615880185FB',\n",
       " 'EDDF1CA5A0EB8586',\n",
       " '0DB417842D3B79A2',\n",
       " 'E7CC63BF20618321',\n",
       " '2A12B7DB3C6E84D6',\n",
       " 'B01BF1A169A42CE7',\n",
       " '505555B3CCA490C8',\n",
       " '4DAD6F609E7D7328',\n",
       " '0EF9EA17D205AB66',\n",
       " '1D831F7D0F539AFA',\n",
       " 'ED11170D5BB9D744',\n",
       " 'E391353FC3A4056D',\n",
       " '00E68F103C66C1F7',\n",
       " '207E61D6D4F44D97',\n",
       " 'DD9DDDB53DA30E40',\n",
       " 'B19324D874BEE1A5',\n",
       " '5B1F39B5D751B669',\n",
       " '7875B71ED824F8F2',\n",
       " '46999A8B46BC31A1',\n",
       " '98720595D29108E9',\n",
       " 'D2A9C2B69B9F4574',\n",
       " '6D3792154BB5A659',\n",
       " '430C998549E88DAE',\n",
       " 'A2DB18F90D9E3362',\n",
       " 'C27F677720E68EA4',\n",
       " 'FA8706D1E274805E',\n",
       " '41EDEEC440887B2C',\n",
       " '21AEB217BA764EAB',\n",
       " 'C45D1641140AB2BC',\n",
       " '9868DEF9E0B7E2C4',\n",
       " '8094961C0D414366',\n",
       " 'D1BB2F57BCD02BAE',\n",
       " 'CD668979C54E22F7',\n",
       " 'EB87A4B3C0008AFB',\n",
       " '8F98834C531143DA',\n",
       " '70CE04E185154AD7',\n",
       " 'FEA0C585A53E7027',\n",
       " 'F34D48681A35BD3B',\n",
       " '001064FEAAB631A1',\n",
       " '5EC32E17A02C2131',\n",
       " 'FE2AF0E94DBD470E',\n",
       " '0F2729666CE8EF33',\n",
       " '8A26EBC1BA92524B',\n",
       " '9FB7D7666F50835C',\n",
       " 'A76F046D8D47589E',\n",
       " '6D54D48C640D27D3',\n",
       " 'D0562837FBB58AC5',\n",
       " 'DABC08CC80316871',\n",
       " '0EE3092A08562765',\n",
       " 'EEFDF8577ED817C0',\n",
       " '1E8329A6915FB27E',\n",
       " 'C8BDDF5639850737',\n",
       " '00EFA157F7B6E1C4',\n",
       " '78745E80BA159887',\n",
       " '7AFFAFC4121EB5B2',\n",
       " 'E3FE22D7C70B05E6',\n",
       " '686549722B54A3E1',\n",
       " '7D8970118A695D48',\n",
       " '6C2C087CEF08A20E',\n",
       " '2EC08F2084FF3438',\n",
       " '38189578561F38CB',\n",
       " 'F68F7886D0BCE784',\n",
       " 'EF2E4FAF26951358',\n",
       " '4FE90CB247C78EC5',\n",
       " '72742C5F312A1FEC',\n",
       " '5650B53B91DC98BB',\n",
       " '5A47441C0AC5FAEE',\n",
       " 'B854154628803E46',\n",
       " '3E286601D309601C',\n",
       " '4949578BF1954CF5',\n",
       " '8C66932374EF8009',\n",
       " 'B06BF284879EED23',\n",
       " 'CB0B5021B1BE7403',\n",
       " 'A8533224E9384B16',\n",
       " 'C77D7125A7F73F33',\n",
       " 'A8C1429C2249A1C3',\n",
       " 'CE771EFC59ED44A5',\n",
       " 'EF058AAD0A56A298',\n",
       " 'A5B5775B0C7D0309',\n",
       " '9F15AB8A7F968248',\n",
       " '9E68AB5C5C7FEFF4',\n",
       " '04988C5DF189632E',\n",
       " 'EB215155BA578253',\n",
       " '7E26530508267F69',\n",
       " '067D05BD30F04F2E',\n",
       " 'A352755099619F01',\n",
       " '0BC7C730D40D19D3',\n",
       " '4CCE583A34A8362C',\n",
       " '5C7F53937B54D161',\n",
       " '213C96A57E70B18F',\n",
       " '90192F1A66D5A0AE',\n",
       " 'A8C57C0D4118F4D7',\n",
       " 'C7D588F1ABF3A91B',\n",
       " '220C8F0BE40515E5',\n",
       " 'FB158B12F907E8FB',\n",
       " '2AE10F8C21B66E8E',\n",
       " 'C9E32DE296F68008',\n",
       " '1D9020D7979F924A',\n",
       " '0C2FF828F063B7AD',\n",
       " 'ABFF0B9BAD11BB5D',\n",
       " 'F71DD44DAB783CEB',\n",
       " '19302754B5457163',\n",
       " '5392D9E8F58D9E5F',\n",
       " 'F07BB43BAEF2AB42',\n",
       " '2ED365A23D725DB0',\n",
       " 'AB88A0F609618A2A',\n",
       " '65F225074FEC2C03',\n",
       " 'D6924B9AB9903228',\n",
       " '40194A2E6C03B547',\n",
       " 'A12886FD7DA592AF',\n",
       " '6445624A3AE163E6',\n",
       " 'B6DBDDB2BD00352E',\n",
       " 'BEF16764A13AEC34',\n",
       " 'E32D4C0315D6BFBE',\n",
       " 'F5B4B562971760C6',\n",
       " '96749D41A2185B46',\n",
       " '70BF82527E6ED9C3',\n",
       " '0F13D8C2809AD613',\n",
       " '7963560AC5D4166E',\n",
       " '7FF05ACE1602142C',\n",
       " '5DECF6D0ECE58DF6',\n",
       " '8F5D7DE5A7B06249',\n",
       " '8A2FACABB19EDC70',\n",
       " '5424E9D321EC3567',\n",
       " '9E0A3633886C080E',\n",
       " 'DA8DABF19A0203FD',\n",
       " 'D45554BA350E10C4',\n",
       " '6DFDC639B8B85EF7',\n",
       " 'E3481D64A20DA394',\n",
       " 'B0244412983000C5',\n",
       " '79DF9D6EDC7A58CE',\n",
       " 'F424816C207F768D',\n",
       " 'A944D2BCDFD50619',\n",
       " 'C04E36E535A6F740',\n",
       " '0FF10274AC68852A',\n",
       " '0EA6AE1AB7BB8ACA',\n",
       " '8F1195B887A60121',\n",
       " '5A5D645876C5C692',\n",
       " '507ADD5337970C14',\n",
       " '1796009027406E06',\n",
       " '1D6A02B0987CD71A',\n",
       " '8FB9E95B030D25C5',\n",
       " '743EFA16F928E18B',\n",
       " 'C72752E18AD12854',\n",
       " 'DC24142B23D9FEDD',\n",
       " '2DC0C9E9D89D2352',\n",
       " '3C37EE92E7960750',\n",
       " 'AF72679D1CB8C3A5',\n",
       " 'C670F0DE6C790F3C',\n",
       " '535DC74493925CF8',\n",
       " '124B6B7F19141CCC',\n",
       " 'ECC76B90EB71C492',\n",
       " '1381632DA8AD52C0',\n",
       " '262C647D99621FF5',\n",
       " '57442DD4178AFE27',\n",
       " 'C5AE17CBD0B33628',\n",
       " '81AA83FBC31B6C0B',\n",
       " '44F7F21118841F2D',\n",
       " 'B3AEC82CC231D137',\n",
       " '1382E5D05428EBCD',\n",
       " '86172D2A196D7D03',\n",
       " 'A4312FFD172A4998',\n",
       " '10863662C3B5AB49',\n",
       " '13FBEB715F4AAE10',\n",
       " 'B2BB6F16652B21BF',\n",
       " 'D9C92EC5F9478381',\n",
       " 'A2212CF79158D340',\n",
       " '669F197DC7EB4FD9',\n",
       " '3BDE2B9FBC14F7A4',\n",
       " '96070D0B8FD4C5BF',\n",
       " 'ACDFC703CACAC820',\n",
       " '14E7C76B7AB8822A',\n",
       " '71D1FF7218FB3F1E',\n",
       " '53732758D90FB1E4',\n",
       " '0F1FF07B3788976D',\n",
       " 'A7957CDA89BDE94F',\n",
       " '954C980B4A9559FF',\n",
       " '107D9F8613EBF2AA',\n",
       " 'C93F18A3865E93D6',\n",
       " '13AE4DFAC67ACEB3',\n",
       " 'BE52857ABCAD4C9B',\n",
       " '0980BF24051C806A',\n",
       " '6A2064F288EF094F',\n",
       " '16BE66466549CD42',\n",
       " '4B45602B7DC37B62',\n",
       " 'CA6B3F85024FAF6B',\n",
       " '1B72B5CD89B93B68',\n",
       " '5F89649C6337CE7D',\n",
       " '1FA7A8399291885E',\n",
       " '82F72EC6CDC1BA8F',\n",
       " 'C1760622B65C9B84',\n",
       " 'C765194AB5550498',\n",
       " '61572514C5A56E3F',\n",
       " '4F26C1C82B9EA0B5',\n",
       " 'CCAF138D12385DF2',\n",
       " 'C615792E479BC0C8',\n",
       " 'EA6EA431FF84563B',\n",
       " '37094134968B2013',\n",
       " 'C2E79843ED511E13',\n",
       " '934134714E66295F',\n",
       " 'F8564F547AFFC0B9',\n",
       " '10F028FB8193F8C1',\n",
       " '2F52D15FF20EE730',\n",
       " 'BA98FD8F84C838C7',\n",
       " 'AA364AF6A253170F',\n",
       " 'C389958204955C98',\n",
       " 'C7D1A5A6F6BAD476',\n",
       " '04F2CF340B4F3822',\n",
       " 'BCF4888C3F7DE189',\n",
       " '0CC466ED84E0756D',\n",
       " '17DD74F263374528',\n",
       " 'B9AF175E0AAECD8C',\n",
       " '3279592816F7F6D2',\n",
       " '60A6101325BBA47E',\n",
       " '275A5125510426EB',\n",
       " 'FE8F9858BBE502D9',\n",
       " '36EDA624DB7B7F90',\n",
       " '48CFE37563932DC2',\n",
       " 'A791C2D62B213C96',\n",
       " '9266418A9D2FA813',\n",
       " '115ABCFDBDDB5950',\n",
       " '46A7B6A9C1C4E46B',\n",
       " 'CF03E97B314C5632',\n",
       " '624B51C834246D6E',\n",
       " 'AAE1914BDB419328',\n",
       " 'CA6F4DAED160E5B1',\n",
       " 'F19288FFDF6014FE',\n",
       " 'BD23AF6242CA944B',\n",
       " '9E656B4D34C68949',\n",
       " 'B83CF8CFD3575F8B',\n",
       " '609EBA439CB96E0D',\n",
       " '748DD5E33B6F98C3',\n",
       " '565EF59DDD36B95B',\n",
       " '13AA9B89A2885F8E',\n",
       " '2EC26EB640A1756D',\n",
       " '2139548144435929',\n",
       " 'F9FE888A3A2222E9',\n",
       " 'D2D8E67B7D0DE2D2',\n",
       " '24D3AAA91EFD597F',\n",
       " '055A4CD17A483B8E',\n",
       " '468A90E95D36CADB',\n",
       " 'A800CDEA85871EEF',\n",
       " '6ED57949BDA6D94E',\n",
       " '3A5B11DD76C2CA65',\n",
       " 'CD650095FD201699',\n",
       " 'E17D1ABC377C38CA',\n",
       " '4664BF4717549775',\n",
       " '75654D851F8C8F59',\n",
       " '1C711C65356BCFBF',\n",
       " 'DA2880E43566AF12',\n",
       " '10C2A2FB00BD9AE2',\n",
       " '0C2E77C6A381704A',\n",
       " 'C0924D3FF1BEAA05',\n",
       " 'A533C3D1BEAC8798',\n",
       " '5A7165E3831CBE75',\n",
       " '502902B3C32C72FF',\n",
       " '8683850A677DCC7A',\n",
       " '2A2A3F0E002F81B5',\n",
       " 'A6E6ECF8E4924633',\n",
       " '3382B624CF985A13',\n",
       " '06C6018D3CB3E903',\n",
       " 'E68002AA33773AD5',\n",
       " 'CE27C7943C1BB6ED',\n",
       " '967680A9D7C9AFD1',\n",
       " '48496344F079B793',\n",
       " '63F5FC15B31DB5A6',\n",
       " '0E6F91028486376D',\n",
       " '16F2DB656CC2F952',\n",
       " '08D42E112D1F4407',\n",
       " '102613D89170C020',\n",
       " 'B05232A00CE7DA9B',\n",
       " '23E633E92EDCD195',\n",
       " 'E0CCA0E17AD074DA',\n",
       " 'F10551276E3FDD53',\n",
       " '2B8243043C2CD72F',\n",
       " 'FA86D8DFAD3ADADE',\n",
       " '3981FFA649C17699',\n",
       " 'E0DF3060D454B5AF',\n",
       " '34A2E022930DFCA3',\n",
       " 'E594B711ADD81DD8',\n",
       " '1E8855206E49EFF8',\n",
       " '49C45D71BDCE2F69',\n",
       " '04C4D0F1A70300A5',\n",
       " 'A2614E5A9AC15FC8',\n",
       " '4B49F8A4F8D891BE',\n",
       " '59D9BD2A3172D3F4',\n",
       " '44EB15AD423DC31C',\n",
       " 'D7A8DFC1A19E65B5',\n",
       " '9A7D2A236FE09070',\n",
       " '3D89F6FEA1926F70',\n",
       " '544EE0E8D5E36FDA',\n",
       " '635CA54AA6058DAE',\n",
       " '54633A9BB233F1E6',\n",
       " '538F954F6B3AECE4',\n",
       " 'BF3665AB1DF86357',\n",
       " '28F165B39D160BC5',\n",
       " '6B1D0D8C4F8FBBEC',\n",
       " 'A1C3D3C6C3CADDC5',\n",
       " 'E7F87F9FBA3269B1',\n",
       " '13B7E3DA955377BA',\n",
       " 'A7EE379599B38AE0',\n",
       " '307C06C0E6F09B93',\n",
       " '7CEFBD3C6ABEF91A',\n",
       " 'BE0FDC8CC0D5455D',\n",
       " '0EA9AB1C2A159C77',\n",
       " '994D853A1F8D1771',\n",
       " '958426148AFA05C5',\n",
       " 'FAA7192A42F9F8DA',\n",
       " 'C9E2691EAD9EF4BB',\n",
       " '5B4EFE916AD19741',\n",
       " 'BF1EB8E6FA3F19B8',\n",
       " '14AEC962812EB706',\n",
       " 'EE25BC8FA059151D',\n",
       " '3340B98CBEAEE766',\n",
       " '3AE5E3EE2C8A8727',\n",
       " '4803D52DB8782CC2',\n",
       " 'C474F67E2204321C',\n",
       " 'AA0D36EF3DBFCC9F',\n",
       " 'DECA5C05A77980A1',\n",
       " '3AA908B2D4A96AC2',\n",
       " '5B04574502DEFDB3',\n",
       " '60D456E636F6C031',\n",
       " 'BBFD227B06D480C6',\n",
       " '12AD54E437AB3BF5',\n",
       " 'FB9FFB4BA8695C78',\n",
       " '8EB3AE898305A358',\n",
       " 'E65F1C4C712CDC41',\n",
       " '0A5E3BE3C51CB47A',\n",
       " 'D9128C07E09FF452',\n",
       " '329E3207708990E1',\n",
       " '0A0141A363E2E051',\n",
       " '10779B9305942526',\n",
       " '52667DF0F366C919',\n",
       " '3F52D53AB33C9FD6',\n",
       " '395461648C47B5E1',\n",
       " '091AC977394578DA',\n",
       " '74285DE881A72F4C',\n",
       " '64D18CAEAEE6150A',\n",
       " 'FFF28D02B1EACBE1',\n",
       " 'A383BFC91C909D0E',\n",
       " 'F507CB8030C885FB',\n",
       " '0DD2E54D87CFD4A4',\n",
       " '4122B8F30EB2271C',\n",
       " '8611C1CA3986E553',\n",
       " '6050D52AD58BC624',\n",
       " '4409E20FCD07CD14',\n",
       " '2DF9E85A613E0DD0',\n",
       " '75AC3DC6E14554D0',\n",
       " '8FF8F87305BB9A7D',\n",
       " 'F7E2CAFE32DB0B14',\n",
       " 'EE9E527A761299B2',\n",
       " '123C3AC236BE84F0',\n",
       " '80055F949A01DDAD',\n",
       " '8C711C385D747C84',\n",
       " '98D45D3A9D7E3911',\n",
       " '06D2B163CB560FAC',\n",
       " 'AEE24B6142A3C431',\n",
       " '8FC9D1BB3017BE66',\n",
       " 'FE82D7FC50D4155B',\n",
       " '4A61A28F35795FD1',\n",
       " '74EEC94A70685C1E',\n",
       " 'E18D25D68D9FCC60',\n",
       " '5D72D0AEF96C50FD',\n",
       " '7060BB1CBE3BAACC',\n",
       " 'ABB61823786179CC',\n",
       " 'D8DA1D568FCF46ED',\n",
       " '25826F4FE6832AF1',\n",
       " '7C91912332353320',\n",
       " '5D0240D20EA50D8C',\n",
       " '9657A8EEFB5E37E5',\n",
       " 'DF79393DADE71EF6',\n",
       " '2CBFC548B33C0259',\n",
       " 'F69BC50D9CC2A47B',\n",
       " '221AA0E38F37A7B7',\n",
       " 'A412E4B7C71C0D94',\n",
       " 'C26CED3FB9AFF742',\n",
       " 'D2F6FB926A64D196',\n",
       " '465CD5B78E1AA5B7',\n",
       " '8B83F28EB9DD639D',\n",
       " '3D264F3D953DBA67',\n",
       " 'B01CF7E5AC419DE0',\n",
       " 'AE49EDDFB9DABE03',\n",
       " 'DABC14FDDFADD29E',\n",
       " 'CA331DA5AECB1774',\n",
       " '7DF21AEB1AA231F9',\n",
       " 'BD5317D49443EA5E',\n",
       " '4F37FAAD74FB679C',\n",
       " '5B57E88DFE82FAD6',\n",
       " 'DD4352CDCF8C3D57',\n",
       " '97AD409895906A32',\n",
       " 'E0EEE04D9FDB4931',\n",
       " '4A55475E078F40DC',\n",
       " '79B52A43517478A4',\n",
       " '983E7021DDC7E0FA',\n",
       " '3C46C1264F52F92C',\n",
       " '68E1CED07444D6EC',\n",
       " 'D1D7C0CCE823D871',\n",
       " '2BDC4DBEBBA058B6',\n",
       " '6E8A538DFED17F64',\n",
       " 'CE264232AC9049B8',\n",
       " 'B06B45B7C3E5E721',\n",
       " 'E68B2613255FA585',\n",
       " '630A7B72AE3824BF',\n",
       " '891458DEF142C0A3',\n",
       " 'F33A89BD00CFDDF3',\n",
       " '83E9CFC64D61108E',\n",
       " 'EE8401B631ED63CE',\n",
       " '639050CCC2A6C4A1',\n",
       " '1C5874DE0D952A0D',\n",
       " '56F9D84470F97FF0',\n",
       " '2F6674627B916D5C',\n",
       " '32E13C1C0F6AC96E',\n",
       " '8E52B17EF9DCA68B',\n",
       " '7A4A6B4CC6FDB0FF',\n",
       " '947658F983871E74',\n",
       " '8BD80DB1522F7120',\n",
       " '5A26996E38367C70',\n",
       " '9BD9E79856D54059',\n",
       " 'DF72BA6A526F714F',\n",
       " '57E796E81DD60883',\n",
       " '08589AA89496453B',\n",
       " '66821339106C8891',\n",
       " 'FEC0BCA6C323872F',\n",
       " 'ED7297A4D3BFA953',\n",
       " '74C5CCDA7DF761EE',\n",
       " '90AC003E691D70D4',\n",
       " '37F7B4F29C5F6396',\n",
       " 'BAAEE6D68FB90D22',\n",
       " '2C662D285ED4136C',\n",
       " 'E1489CCA162BC2E6',\n",
       " 'FB1F9619F8C3CC75',\n",
       " '4B5225B3DCB853CE',\n",
       " '604F9F5DB1EB8997',\n",
       " '6A581C74EF4D5F44',\n",
       " '0EBE4BDE16D19DC0',\n",
       " '8C5E672BF19D5DEE',\n",
       " '46BDEF99D733A7B7',\n",
       " 'EAD7AC780F0CB611',\n",
       " '0D77D907C24CDAC1',\n",
       " '9429C337BF221E89',\n",
       " 'F4E16CAFB780CA34',\n",
       " 'C1FFA9A2B049B203',\n",
       " '037C3790C2C408BA',\n",
       " 'BA9906DF9975512E',\n",
       " '7F2C298110AA73B4',\n",
       " '4764F95CF4989E46',\n",
       " 'ADFE9F163DEA2EAE',\n",
       " 'A81BA2A7B5FD1862',\n",
       " '7BC59B90C9447C42',\n",
       " 'CDED0FACF20CA716',\n",
       " 'FABB6D49B11E673F',\n",
       " '1353B1C2F6E6AA4E',\n",
       " 'DE20AA504779785D',\n",
       " '8E2FDE8953DB6A48',\n",
       " '11970FE3A608F9EF',\n",
       " '676A58D41A3E0A47',\n",
       " '729F6099B1B31935',\n",
       " 'CBDA858CF7EEE1E0',\n",
       " '02313B9E82255F47',\n",
       " 'B150C94FFD64D8B0',\n",
       " '5BDF2A772826F42C',\n",
       " '1675B921AC721DBE',\n",
       " '549A5092FD1BD5D9',\n",
       " '6B72CFAE1935C789',\n",
       " '2FCC63EB9CB798BF',\n",
       " '3242BDDFA690A22B',\n",
       " '894A2506B3A50D03',\n",
       " '64CD9350DEEE01B6',\n",
       " 'D40A89E14F1C10BD',\n",
       " 'FB6F6BC119E1DBD5',\n",
       " '8CE0BDF8F59A752E',\n",
       " '1073D7DFF1BBE8BB',\n",
       " '18569C8DCB0771B6',\n",
       " '22092C653019E91C',\n",
       " 'DFE341550729F28E',\n",
       " 'B42748BA986E4163',\n",
       " 'DDCEDA0705FF68FB',\n",
       " '30DEB75B33B92DC8',\n",
       " '8B6B98D9A40E0A42',\n",
       " 'A09DFE27D4CFF8E8',\n",
       " 'D0CD9015FE1504CB',\n",
       " 'C5AD06762E628169',\n",
       " '8285135A01FF5488',\n",
       " 'C226A7A3002ED8BE',\n",
       " '91E39AA34D6D1173',\n",
       " '21E6AD81A122B126',\n",
       " '1AE6FF352875CA8C',\n",
       " '412F5C9F04EE8F69',\n",
       " '783A96FF14C40478',\n",
       " 'E123EF1A9A7332A4',\n",
       " '65A30CEC01FAB999',\n",
       " '526BA4A669CC6CC2',\n",
       " 'B8AC521CB28510E7',\n",
       " '94BE60EF959D177D',\n",
       " '12A77BCF101643B5',\n",
       " 'F9B39A46A299971D',\n",
       " 'FC2DA0D7EF375B27',\n",
       " '2170CB76798D36EE',\n",
       " 'F6D9C08D0E97DE88',\n",
       " '96BDD55846D1F7F6',\n",
       " '303063C7A89A39CA',\n",
       " 'C7750723906C925A',\n",
       " 'E1259EA0AC254490',\n",
       " 'F13CC3EF6739F4C0',\n",
       " 'FBF31896CD930197',\n",
       " '6B1DE4B46F1267CB',\n",
       " '993BDE69A0DE0391',\n",
       " 'F7BAFF2E0A04F11B',\n",
       " 'A9E0A8057A5F07D1',\n",
       " 'C41BBCA9DACE544D',\n",
       " 'B2795EB0A968DFB5',\n",
       " 'A731AAAEA9F5C533',\n",
       " '697F116B31D05FCF',\n",
       " '2A7E32FA8EF4DBA1',\n",
       " '886E52074D084B18',\n",
       " 'B997F98ED3AA6104',\n",
       " 'A4F18DF9C484EDC0',\n",
       " 'B27B9689064C54C4',\n",
       " '69B106F098CB640E',\n",
       " '52828376E649CA27',\n",
       " '0363BAFB478AA9EF',\n",
       " 'DC16020AF1E1177B',\n",
       " '7B5B4C6306A09430',\n",
       " '803230F1D8216380',\n",
       " 'BF6D4EF4B54B3E94',\n",
       " '2F28A3B279E5494A',\n",
       " '2F46396B6766CFDB',\n",
       " 'C8460FF8BEF553A4',\n",
       " '573EF5CB449265BE',\n",
       " '928364C4C9F13FA8',\n",
       " 'CCE74CB0FBDD3533',\n",
       " 'B37F427F93BCA1E3',\n",
       " '41FA2525E7869F35',\n",
       " '4B058B8F19045AC9',\n",
       " '7C9CA3F88B8755F1',\n",
       " 'A1EE4FBD37EA95B8',\n",
       " '47ADBF580CF107E1',\n",
       " 'B582D211C1BE1FFD',\n",
       " 'CBDE46A45FD5E6A4',\n",
       " '0ACD764342811460',\n",
       " '4CCFDC7BE9B6FE73',\n",
       " 'F4C8BB8D1622FE87',\n",
       " '49D69A4901413D82',\n",
       " 'A847CBD3730F6D41',\n",
       " '2828E6688DC580C4',\n",
       " '9C99E4676D6A8B44',\n",
       " 'E1EA339E17C0D568',\n",
       " 'FC37CBE8211E02A8',\n",
       " '64D39595B31D9ECE',\n",
       " 'F0B92123E5142CBB',\n",
       " 'D1DFCE26FF3C713F',\n",
       " 'F195464E8F2E0267',\n",
       " '24FB1A84E1C30291',\n",
       " 'DC4E5D8BD6ABF9BC',\n",
       " 'D737563A454A419E',\n",
       " 'F38941283A36C34B',\n",
       " '0ADFFFE9C0D60092',\n",
       " 'F03F667009F16326',\n",
       " '73CE2DE1253D58B4',\n",
       " '6B0B075EA63618BE',\n",
       " '802AE3764E188FC6',\n",
       " 'BE3C02D74A664180',\n",
       " '8C69C35FB5E142F8',\n",
       " 'FC3F3E4DA7C85F88',\n",
       " '8D4D2425F80F6A74',\n",
       " '3B3F68DC5779E517',\n",
       " '85D9DB7B0BC24D2A',\n",
       " 'A3BEB02A027BA3C4',\n",
       " 'BE600B10445D29C4',\n",
       " 'B3A2485649E4A012',\n",
       " '4E43940B0CF8D947',\n",
       " 'A3D5BA3E276CD84C',\n",
       " '9F3480BE97175137',\n",
       " 'E02247CEF572ACCA',\n",
       " '33CEAE52626CA99E',\n",
       " '2D7AF97EEB0056A5',\n",
       " '9BFFAFDAB999DF19',\n",
       " '1190EEE1FA160468',\n",
       " 'A8738C98EA4BB1A7',\n",
       " 'CBA33B9DE421A616',\n",
       " 'F1B93BAE75EE0FB2',\n",
       " '3656B8F3DEF02DA0',\n",
       " 'A48676A84719B3A7',\n",
       " '11A1350D1F8AD059',\n",
       " '18E7E50874577C8B',\n",
       " 'F97D8746923ABA37',\n",
       " '06D9C758220CBB01',\n",
       " '824E3C1D0F769FA3',\n",
       " 'E3048C1D75193226',\n",
       " '20285349F62230E9',\n",
       " '3DEA2F9B3EDA8B91',\n",
       " '25CE0629AC6B6971',\n",
       " '1CC27A00D4907AAB',\n",
       " '9F32866BD479E689',\n",
       " '3BB8C637AE50D857',\n",
       " '68B3C70F0C0B4550',\n",
       " 'EA8341F38EFFE04C',\n",
       " 'CBEFCA3BFDE4CC58',\n",
       " '9D1710D562537AA8',\n",
       " '224F9E7FA339E6A9',\n",
       " 'F0A1C31A7211AC16',\n",
       " '6CAA4AF4C12A22B9',\n",
       " '1AD9F88DA92AC4E5',\n",
       " '2CDFC246EAEEAB13',\n",
       " 'CFDED9167B27A57F',\n",
       " '4DBBBAA6705078D0',\n",
       " 'D5DD44281759F7C8',\n",
       " 'EC9E9E250559033B',\n",
       " '7415696C510E38FB',\n",
       " 'A8294E42CCC07445',\n",
       " '04BE4EFE4C457312',\n",
       " '147C62E5B82E2EA9',\n",
       " '0FBF679EA1340786',\n",
       " 'EAFB9027A27D510C',\n",
       " 'A3EC85E750F2AFC6',\n",
       " 'F4BEF7B9C8172E36',\n",
       " 'B2716998187D5D74',\n",
       " '3341349F0FD06C14',\n",
       " '198FEF39910DCF76',\n",
       " 'F85FD73AAF991283',\n",
       " '19AC976D25997BE9',\n",
       " '29FB97985AB0E005',\n",
       " 'EEF5EFB2D5915CF1',\n",
       " '23F10CDFF7372B06',\n",
       " '1C7C7C34158EB086',\n",
       " 'A2CBF9847DA60249',\n",
       " 'DD9FB2652AE4ACBA',\n",
       " '64E7466FBB579E9E',\n",
       " 'B7DBE079E5AB148E',\n",
       " 'D0ECAB9DA4FE2E00',\n",
       " 'D266B29CC73DD0F9',\n",
       " '5ECF8AD51FC8062E',\n",
       " 'DE078758B0515023',\n",
       " '11C52432A6F7FA6B',\n",
       " '770B5C9E0E546E44',\n",
       " 'B242B046BC32ADDA',\n",
       " '603C1A0FA47D1640',\n",
       " 'DBF9BDC859BC4459',\n",
       " '187343735EC71686',\n",
       " 'C74B6E95352ADE79',\n",
       " '23F551153080EBAB',\n",
       " '9D06341739D723D5',\n",
       " 'E0272BC86CC88DC7',\n",
       " '5D5E6EE92AF6E9E0',\n",
       " '8FA915CDB5994BDC',\n",
       " '5EBCE7B573FA0578',\n",
       " 'FF2174A1AA0EAD20',\n",
       " '71A21F6C17C665C6',\n",
       " '84AAB026310D49C4',\n",
       " '6610064A4B2303D1',\n",
       " 'CC705D51C74418AD',\n",
       " '4D269D6E438C6D22',\n",
       " '3D1A366EDDC82832',\n",
       " '41C7928F2ED27E66',\n",
       " '6655D192F953E7CE',\n",
       " 'E85E1F634E368569',\n",
       " 'D9F243D9F177689B',\n",
       " '4C3B9B6D59E98D59',\n",
       " 'DA7D4CF1CBBADE49',\n",
       " 'CA9D3DEA00836355',\n",
       " '24BE89E87E2368BF',\n",
       " '2CA426D092054330',\n",
       " '5461DD0AF191F581',\n",
       " '68373F4331DDD2E6',\n",
       " '4BDA6084191118DF',\n",
       " '79913E8816E3DA5D',\n",
       " '8D46D7EB5112DC9D',\n",
       " '3FD750E6566CE5E3',\n",
       " 'E7F4B5EBC0495D72',\n",
       " '9A5549A4A85FCF06',\n",
       " 'A35BD08F60AC00B8',\n",
       " '87A8BCBB07EBDACA',\n",
       " '65A33D1E2F637CE6',\n",
       " 'D82DD23742E57665',\n",
       " 'B931BC5D6FE1416C',\n",
       " '6DF6E1615D629BA8',\n",
       " '03FBDF999D5B81B8',\n",
       " '67AB39E76836E176',\n",
       " '14D84579BCBAD800',\n",
       " 'C6C4C814B7B202E7',\n",
       " '52EC082510DA513B',\n",
       " '975744C6B0C12D72',\n",
       " '3D960D56A0E4E0C7',\n",
       " '5E9E80BADEA372AB',\n",
       " '9F0571C70D4BD33B',\n",
       " 'C2025648F77BD80B',\n",
       " '0D6F5E157A56FB00',\n",
       " '649CE5D5A38BFA8B',\n",
       " '9C1EFF68BC2F16F3',\n",
       " '3B4FF434FA8193B6',\n",
       " '29DF5A79ECFED897',\n",
       " 'C0DDE3AA2A89024F',\n",
       " '6EFF2BB96F97768F',\n",
       " 'ACDCFF5D6EEDBEAC',\n",
       " '1E7B931452B2F965',\n",
       " '127DA1103176E88E',\n",
       " 'A0028F574B5E5DC6',\n",
       " '4566C623449592A7',\n",
       " '542FE442CF2BDA4B',\n",
       " 'D649423E43336656',\n",
       " '2787953F22AA5648',\n",
       " 'D0533ECF2A67B35C',\n",
       " 'D7933558E33BF7D5',\n",
       " '27736FDA67EF07CB',\n",
       " '86B91078B1F0BA1A',\n",
       " '4B34A5BD1D1AEF0D',\n",
       " '111E0B8A76E90532',\n",
       " '3FC3BE7BAA35F33F',\n",
       " 'DF0A6D48CBB3969F',\n",
       " '5438D422A6A53E0E',\n",
       " 'CD77B10F620BEABA',\n",
       " 'C1E43A9B1D675927',\n",
       " '01B9975CAE144B78',\n",
       " 'D18A013DBEEB0951',\n",
       " 'B7229F43B32B5593',\n",
       " '5813B74E3ED6094E',\n",
       " 'FCF70F6E1871BD78',\n",
       " '61D3434CE0D95AB7',\n",
       " 'C7CE76E3DBDC7533',\n",
       " 'E2E336528AB6202A',\n",
       " '1B52830A832D33F5',\n",
       " 'BF2613BE28381E56',\n",
       " '0D7E9E93CD497547',\n",
       " 'C57E6C4AFF4FF31A',\n",
       " '9FC882129DBDE625',\n",
       " '944C88D5DF108AED',\n",
       " '8C0E932FB144D00F',\n",
       " '9A8CD4B32D7511F1',\n",
       " 'E6FE73B8B903B31B',\n",
       " 'EF6DBFA129654B41',\n",
       " 'C79239C16E4E6694',\n",
       " '9CBD8387C8A1DDDF',\n",
       " '0DABE6F3956778ED',\n",
       " 'DF7F485FA44A60AF',\n",
       " '133F64DC5E24F047',\n",
       " '59390C0379937AB0',\n",
       " '43525009898D1143',\n",
       " '88FB1EDF3E249223',\n",
       " '5207E56E697027E9',\n",
       " 'CC9D23AA2AD67118',\n",
       " '09D429B94AE0DEC5',\n",
       " 'C573C24EF423143C',\n",
       " '739656E0D7B50B30',\n",
       " '4CF756542084F860',\n",
       " '2B8FD20CA8A2A616',\n",
       " '2D6A6472D7F46812',\n",
       " 'AF987F436A7EBD21',\n",
       " '5AD6C5CA55F10640',\n",
       " 'BC4A722DBC9D0784',\n",
       " '0B0D84A866817D84',\n",
       " 'DF40EF85F55A958D',\n",
       " 'C286A270CFB9925D',\n",
       " 'DAD6760631314417',\n",
       " '5AD2A85FFA7D7EBE',\n",
       " 'D1FA009C9B514DD7',\n",
       " 'D5F578A546F3E804',\n",
       " 'D3A4F3513CC0AA2F',\n",
       " 'F5BB0B36AA8DC1D4',\n",
       " '8A9B589AE60EA3C0',\n",
       " '84C13EFBE76DF52F',\n",
       " '6A698019769B0F16',\n",
       " '85521867220EB1E7',\n",
       " 'C86F0150DA3B10F2',\n",
       " '1D0FCBD767EE0874',\n",
       " '00341D8401F0F665',\n",
       " '4D921165CD2825D1',\n",
       " 'C33D8C1C81C7AA23',\n",
       " 'EC998D82E096033B',\n",
       " '5EF0009854428FB8',\n",
       " 'C3666DF0F2EE66A9',\n",
       " '788C61EDBDD38346',\n",
       " 'F098EC2120B5150C',\n",
       " 'ED61DF6AA1B81F5B',\n",
       " 'C422FD79606A0B4C',\n",
       " '8FF91E21E27A330D',\n",
       " 'B043E52A918CDD6E',\n",
       " 'D17646F57096613B',\n",
       " 'AA825CB62FB0EC0B',\n",
       " '823BE193CDC32ADF',\n",
       " '557A3001E88A209B',\n",
       " '88EEB8C6C37A0521',\n",
       " '732A1335A53C14D5',\n",
       " 'CE48F47093B03425',\n",
       " 'EEA592D3C6F5E5A4',\n",
       " 'AC7F4C4BDAD56C17',\n",
       " 'C21237DC47AE00C5',\n",
       " 'DD4731E5B4C9C4EB',\n",
       " 'E3BEB139D0839F91',\n",
       " 'D235BA1BB8DECBE9',\n",
       " '8FFA1D6F89AAEA40',\n",
       " '495E506B3D29645B',\n",
       " '54AAE35DB9DF5C19',\n",
       " '37E78FED858E7061',\n",
       " 'E40FA02A8A53F693',\n",
       " '84F840D269A65875',\n",
       " '7CBA351852B6F25C',\n",
       " '3F6CAEC76651E5AC',\n",
       " 'DF9C2411ADA62C66',\n",
       " 'D857FFFE7A6AC9A4',\n",
       " '65678C4C3E6AF563',\n",
       " '8DE56E6BDA5F54AC',\n",
       " '2B06EB547B7AAD08',\n",
       " 'F8151E51EA08F337',\n",
       " '020A95B66F363AFB',\n",
       " 'A4D5B31067614B05',\n",
       " 'B6E4E414699EFC1F',\n",
       " '83AB3C13B3972BAE',\n",
       " '2BEDCA2DF5D4679F',\n",
       " '79656F14758D76BA',\n",
       " '0BA00E790AA510C1']"
      ]
     },
     "metadata": {},
     "output_type": "display_data"
    },
    {
     "data": {
      "text/plain": [
       "887"
      ]
     },
     "metadata": {},
     "output_type": "display_data"
    }
   ],
   "source": [
    "interface_eu_test = participants[participants['ab_test'] == 'interface_eu_test']['user_id']\n",
    "recommender_system_test = participants[participants['ab_test'] == 'recommender_system_test']['user_id']\n",
    "intersection = list(set(interface_eu_test) & set(recommender_system_test ))\n",
    "display(intersection)\n",
    "display(len(intersection))"
   ]
  },
  {
   "cell_type": "markdown",
   "id": "ecab8842",
   "metadata": {},
   "source": [
    "При проверке пересечений между разными тестами найдено 887 пользователей, которые приняли участие одновременно в двух тестах. Следовательно выборки перестает быть независимой в данном случае, так как результаты другого теста также могли повлиять на результат. Для дальнейшей работы их необходимо исключить из выборки."
   ]
  },
  {
   "cell_type": "code",
   "execution_count": 71,
   "id": "ce663bf6",
   "metadata": {},
   "outputs": [],
   "source": [
    "participants = participants[~participants['user_id'].isin(intersection)]"
   ]
  },
  {
   "cell_type": "markdown",
   "id": "c71ac7f0",
   "metadata": {},
   "source": [
    "Так как результаты второго теста в задании не спрашиваются и необходимо оценить только тест с интерфейсом, оставим данные только  о нем."
   ]
  },
  {
   "cell_type": "code",
   "execution_count": 72,
   "id": "ec8836b5",
   "metadata": {},
   "outputs": [],
   "source": [
    "participants_ab = participants[participants['ab_test'] == 'interface_eu_test']"
   ]
  },
  {
   "cell_type": "markdown",
   "id": "9423c9c1",
   "metadata": {},
   "source": [
    "Теперь оценим процентное соотношение распределения количества пользователей между группами. "
   ]
  },
  {
   "cell_type": "code",
   "execution_count": 73,
   "id": "332ca5b2",
   "metadata": {},
   "outputs": [
    {
     "data": {
      "text/plain": [
       "(49.70390444645187, 50.29609555354813)"
      ]
     },
     "execution_count": 73,
     "metadata": {},
     "output_type": "execute_result"
    }
   ],
   "source": [
    "100 * participants_ab[participants_ab['group'] == 'A']['user_id'].nunique()/participants_ab['user_id'].nunique(), 100 * participants_ab[participants_ab['group'] == 'B']['user_id'].nunique()/participants_ab['user_id'].nunique()"
   ]
  },
  {
   "cell_type": "code",
   "execution_count": 74,
   "id": "6176c673",
   "metadata": {},
   "outputs": [
    {
     "data": {
      "text/plain": [
       "<AxesSubplot:ylabel='Количество пользователей'>"
      ]
     },
     "execution_count": 74,
     "metadata": {},
     "output_type": "execute_result"
    },
    {
     "data": {
      "image/png": "[encoded data removed]",
      "text/plain": [
       "<Figure size 432x288 with 1 Axes>"
      ]
     },
     "metadata": {},
     "output_type": "display_data"
    }
   ],
   "source": [
    "participants_ab.groupby('group')['user_id'].nunique().plot(kind = 'pie', ylabel = 'Количество пользователей', autopct='%1.0f%%')"
   ]
  },
  {
   "cell_type": "markdown",
   "id": "0c3fe96d",
   "metadata": {},
   "source": [
    "Результаты проверки распределения пользователе по группам демонстрирует, что разница не велика в группе А - 49,7% в группе В - 50,3%. Разницей можно принебречь, так как группы распределилсь почти одинаково."
   ]
  },
  {
   "cell_type": "markdown",
   "id": "GjulgSrlsqUU",
   "metadata": {
    "id": "GjulgSrlsqUU"
   },
   "source": [
    "3\\.2 Проанализируйте данные о пользовательской активности по таблице `ab_test_events`:\n",
    "\n",
    "- оставьте только события, связанные с участвующими в изучаемом тесте пользователями;"
   ]
  },
  {
   "cell_type": "code",
   "execution_count": 75,
   "id": "QMt0Ybo_swDK",
   "metadata": {
    "id": "QMt0Ybo_swDK"
   },
   "outputs": [],
   "source": [
    "ab_test_events = pd.merge(participants_ab, events, on = 'user_id', how = 'inner')"
   ]
  },
  {
   "cell_type": "code",
   "execution_count": 76,
   "id": "21da25ec",
   "metadata": {},
   "outputs": [
    {
     "name": "stdout",
     "output_type": "stream",
     "text": [
      "<class 'pandas.core.frame.DataFrame'>\n",
      "Int64Index: 67582 entries, 0 to 67581\n",
      "Data columns (total 7 columns):\n",
      " #   Column      Non-Null Count  Dtype         \n",
      "---  ------      --------------  -----         \n",
      " 0   user_id     67582 non-null  object        \n",
      " 1   group       67582 non-null  object        \n",
      " 2   ab_test     67582 non-null  object        \n",
      " 3   device      67582 non-null  object        \n",
      " 4   event_dt    67582 non-null  datetime64[ns]\n",
      " 5   event_name  67582 non-null  object        \n",
      " 6   details     18372 non-null  object        \n",
      "dtypes: datetime64[ns](1), object(6)\n",
      "memory usage: 4.1+ MB\n"
     ]
    }
   ],
   "source": [
    "ab_test_events.info()"
   ]
  },
  {
   "cell_type": "markdown",
   "id": "9ca3a7df",
   "metadata": {},
   "source": [
    "Полученный датасет представляет собой 7 столбцов и 73815 строк."
   ]
  },
  {
   "cell_type": "markdown",
   "id": "fBZ4DC2xswZJ",
   "metadata": {
    "id": "fBZ4DC2xswZJ"
   },
   "source": [
    "- определите горизонт анализа: рассчитайте время (лайфтайм) совершения события пользователем после регистрации и оставьте только те события, которые были выполнены в течение первых семи дней с момента регистрации;"
   ]
  },
  {
   "cell_type": "code",
   "execution_count": 77,
   "id": "sES4-dKts0Yb",
   "metadata": {
    "id": "sES4-dKts0Yb"
   },
   "outputs": [],
   "source": [
    "#Для начала создадим отдельный датасет с датами регистраций\n",
    "reg = ab_test_events[ab_test_events['event_name'] == 'registration'][['user_id','event_dt']]\n",
    "reg.columns = ['user_id', 'registration']"
   ]
  },
  {
   "cell_type": "code",
   "execution_count": 78,
   "id": "bf4f51ee",
   "metadata": {},
   "outputs": [
    {
     "name": "stdout",
     "output_type": "stream",
     "text": [
      "<class 'pandas.core.frame.DataFrame'>\n",
      "Int64Index: 67582 entries, 0 to 67581\n",
      "Data columns (total 8 columns):\n",
      " #   Column        Non-Null Count  Dtype         \n",
      "---  ------        --------------  -----         \n",
      " 0   user_id       67582 non-null  object        \n",
      " 1   registration  67582 non-null  datetime64[ns]\n",
      " 2   group         67582 non-null  object        \n",
      " 3   ab_test       67582 non-null  object        \n",
      " 4   device        67582 non-null  object        \n",
      " 5   event_dt      67582 non-null  datetime64[ns]\n",
      " 6   event_name    67582 non-null  object        \n",
      " 7   details       18372 non-null  object        \n",
      "dtypes: datetime64[ns](2), object(6)\n",
      "memory usage: 4.6+ MB\n"
     ]
    }
   ],
   "source": [
    "# Объединим датасеты для дальнейшей работы\n",
    "ab_test_event = pd.merge(reg, ab_test_events, on = 'user_id', how = 'inner')\n",
    "ab_test_event.info()"
   ]
  },
  {
   "cell_type": "code",
   "execution_count": 79,
   "id": "9446ce29",
   "metadata": {},
   "outputs": [
    {
     "data": {
      "text/plain": [
       "0     34407\n",
       "1      7512\n",
       "2      5146\n",
       "3      3809\n",
       "4      2969\n",
       "5      2526\n",
       "6      2042\n",
       "7      1760\n",
       "8      1461\n",
       "9      1164\n",
       "10     1033\n",
       "11      710\n",
       "12      625\n",
       "13      545\n",
       "14      469\n",
       "15      381\n",
       "16      296\n",
       "17      203\n",
       "19      174\n",
       "18      170\n",
       "20       83\n",
       "21       70\n",
       "22       27\n",
       "Name: lifetime, dtype: int64"
      ]
     },
     "execution_count": 79,
     "metadata": {},
     "output_type": "execute_result"
    }
   ],
   "source": [
    "#Добавим новое поле lifetime\n",
    "ab_test_event['lifetime'] = (ab_test_event['event_dt'] - ab_test_event['registration']).dt.days\n",
    "ab_test_event['lifetime'].value_counts()"
   ]
  },
  {
   "cell_type": "markdown",
   "id": "0b14d379",
   "metadata": {},
   "source": [
    "После добавления отдельного столбца видно, что в представленных данных максимальный лайфтайм равен 22 дням."
   ]
  },
  {
   "cell_type": "code",
   "execution_count": 80,
   "id": "09f5c0e9",
   "metadata": {},
   "outputs": [
    {
     "name": "stdout",
     "output_type": "stream",
     "text": [
      "<class 'pandas.core.frame.DataFrame'>\n",
      "Int64Index: 58411 entries, 0 to 67581\n",
      "Data columns (total 9 columns):\n",
      " #   Column        Non-Null Count  Dtype         \n",
      "---  ------        --------------  -----         \n",
      " 0   user_id       58411 non-null  object        \n",
      " 1   registration  58411 non-null  datetime64[ns]\n",
      " 2   group         58411 non-null  object        \n",
      " 3   ab_test       58411 non-null  object        \n",
      " 4   device        58411 non-null  object        \n",
      " 5   event_dt      58411 non-null  datetime64[ns]\n",
      " 6   event_name    58411 non-null  object        \n",
      " 7   details       15519 non-null  object        \n",
      " 8   lifetime      58411 non-null  int64         \n",
      "dtypes: datetime64[ns](2), int64(1), object(6)\n",
      "memory usage: 4.5+ MB\n"
     ]
    },
    {
     "data": {
      "text/plain": [
       "None"
      ]
     },
     "metadata": {},
     "output_type": "display_data"
    },
    {
     "data": {
      "text/plain": [
       "B    29682\n",
       "A    28729\n",
       "Name: group, dtype: int64"
      ]
     },
     "execution_count": 80,
     "metadata": {},
     "output_type": "execute_result"
    }
   ],
   "source": [
    "# По условиям задачи нужно выбрать только те события, которые присходили спустя 7 дней после регистрации\n",
    "ab_test_event_7days = ab_test_event[ab_test_event['lifetime'] < 7]\n",
    "display(ab_test_event_7days.info())\n",
    "ab_test_event_7days['group'].value_counts()"
   ]
  },
  {
   "cell_type": "markdown",
   "id": "e7688f86",
   "metadata": {},
   "source": [
    "В выборку 7 дней вошло 58411 записей о пользователях. При этом записи распределились также почти одинаково."
   ]
  },
  {
   "cell_type": "code",
   "execution_count": 81,
   "id": "f2e35dd2",
   "metadata": {},
   "outputs": [
    {
     "data": {
      "image/png": "[encoded data removed]",
      "text/plain": [
       "<Figure size 720x432 with 1 Axes>"
      ]
     },
     "metadata": {
      "needs_background": "light"
     },
     "output_type": "display_data"
    },
    {
     "data": {
      "image/png": "[encoded data removed]",
      "text/plain": [
       "<Figure size 720x432 with 1 Axes>"
      ]
     },
     "metadata": {},
     "output_type": "display_data"
    }
   ],
   "source": [
    "#Оценим как пользователи разделились по группам и используемым устройствам\n",
    "ab_test_event_7days[ab_test_event_7days['group'] == 'B'].groupby('device')['user_id'].nunique().plot(kind ='bar',\n",
    "                                                                                           color = 'lightblue',\n",
    "                                                                                           figsize = (10,6),\n",
    "                                                                                           xlabel = 'Тип устройства',\n",
    "                                                                                           ylabel = 'Количество пользователей',\n",
    "                                                                                           title = 'Распределение пользователей группы B по типу устройства')\n",
    "plt.grid(axis = 'y')\n",
    "plt.show()\n",
    "ab_test_event_7days[ab_test_event_7days['group'] == 'B'].groupby('device')['user_id'].nunique().plot(kind ='pie',\n",
    "                                                                                           figsize = (10,6),\n",
    "                                                                                           ylabel = 'Количество пользователей',\n",
    "                                                                                           title = 'Распределение пользователей группы B по типу устройства',\n",
    "                                                                                         autopct='%1.0f%%')\n",
    "plt.show()"
   ]
  },
  {
   "cell_type": "code",
   "execution_count": 82,
   "id": "8adb0e0a",
   "metadata": {
    "scrolled": false
   },
   "outputs": [
    {
     "data": {
      "image/png": "[encoded data removed]",
      "text/plain": [
       "<Figure size 720x432 with 1 Axes>"
      ]
     },
     "metadata": {
      "needs_background": "light"
     },
     "output_type": "display_data"
    },
    {
     "data": {
      "image/png": "[encoded data removed]",
      "text/plain": [
       "<Figure size 720x432 with 1 Axes>"
      ]
     },
     "metadata": {},
     "output_type": "display_data"
    }
   ],
   "source": [
    "#Оценим как пользователи разделились по группам и используемым устройствам\n",
    "ab_test_event_7days[ab_test_event_7days['group'] == 'A'].groupby('device')['user_id'].nunique().plot(kind ='bar',\n",
    "                                                                                           color = 'lightblue',\n",
    "                                                                                           figsize = (10,6),\n",
    "                                                                                           xlabel = 'Тип устройства',\n",
    "                                                                                           ylabel = 'Количество пользователей',\n",
    "                                                                                           title = 'Распределение пользователей группы B по типу устройства')\n",
    "plt.grid(axis = 'y')\n",
    "plt.show()\n",
    "ab_test_event_7days[ab_test_event_7days['group'] == 'A'].groupby('device')['user_id'].nunique().plot(kind ='pie',\n",
    "                                                                                           figsize = (10,6),\n",
    "                                                                                           ylabel = 'Количество пользователей',\n",
    "                                                                                           title = 'Распределение пользователей группы B по типу устройства',\n",
    "                                                                                         autopct='%1.0f%%')\n",
    "plt.show()"
   ]
  },
  {
   "cell_type": "markdown",
   "id": "8cc4d7a2",
   "metadata": {},
   "source": [
    "По результатам изучения данных распределение почти одинаково. Следовательно выборки репрезентабельны."
   ]
  },
  {
   "cell_type": "markdown",
   "id": "7cf1df48",
   "metadata": {},
   "source": [
    "Оцените достаточность выборки для получения статистически значимых результатов A/B-теста. Заданные параметры:\n",
    "\n",
    "- базовый показатель конверсии — 30%,\n",
    "\n",
    "- мощность теста — 80%,\n",
    "\n",
    "- достоверность теста — 95%."
   ]
  },
  {
   "cell_type": "code",
   "execution_count": 83,
   "id": "7d97b466",
   "metadata": {
    "scrolled": true
   },
   "outputs": [
    {
     "name": "stdout",
     "output_type": "stream",
     "text": [
      "Необходимый размер выборки для каждой группы: 3761\n",
      "Суммарный объем выборки равен: 7522\n"
     ]
    }
   ],
   "source": [
    "from statsmodels.stats.power import NormalIndPower\n",
    "from statsmodels.stats.proportion import proportion_effectsize\n",
    "\n",
    "# Задаём параметры\n",
    "base_CR = 0.3\n",
    "alpha = 0.05  # Уровень значимости\n",
    "beta = 0.2  # Ошибка второго рода, часто 1 - мощность\n",
    "power = 1 - 0.2  # Мощность теста\n",
    "mde = 0.1  # Минимальный детектируемый эффект\n",
    "new_CR = base_CR * (1+mde)\n",
    "effect_size = proportion_effectsize(base_CR, new_CR)\n",
    "# Инициализируем класс NormalIndPower\n",
    "power_analysis = NormalIndPower()\n",
    "\n",
    "# Рассчитываем размер выборки\n",
    "sample_size = power_analysis.solve_power(\n",
    "    effect_size = effect_size,\n",
    "    power = power,\n",
    "    alpha = alpha,\n",
    "    ratio = 1 # Равномерное распределение выборок\n",
    ")\n",
    "\n",
    "print(f\"Необходимый размер выборки для каждой группы: {int(sample_size)}\")\n",
    "print(f\"Суммарный объем выборки равен: {int(sample_size)*2}\")"
   ]
  },
  {
   "cell_type": "code",
   "execution_count": 84,
   "id": "796aff3f",
   "metadata": {
    "scrolled": true
   },
   "outputs": [
    {
     "data": {
      "text/plain": [
       "group\n",
       "A    4952\n",
       "B    5011\n",
       "Name: user_id, dtype: int64"
      ]
     },
     "execution_count": 84,
     "metadata": {},
     "output_type": "execute_result"
    }
   ],
   "source": [
    "ab_test_event_7days.groupby('group')['user_id'].nunique()"
   ]
  },
  {
   "cell_type": "markdown",
   "id": "649ea408",
   "metadata": {},
   "source": [
    "Полученные выборки достаточны для оценки результата."
   ]
  },
  {
   "cell_type": "markdown",
   "id": "SadyUDgZs0t3",
   "metadata": {
    "id": "SadyUDgZs0t3"
   },
   "source": [
    "- рассчитайте для каждой группы количество посетителей, сделавших покупку, и общее количество посетителей."
   ]
  },
  {
   "cell_type": "code",
   "execution_count": 85,
   "id": "7ph853Xks4sy",
   "metadata": {
    "id": "7ph853Xks4sy"
   },
   "outputs": [],
   "source": [
    "# Вернемся к датусету покупателей и проверим кто хотя бы раз совершил покупку\n",
    "purchasers = ab_test_event_7days[ab_test_event_7days['event_name'] == 'purchase']['user_id'].unique()\n"
   ]
  },
  {
   "cell_type": "code",
   "execution_count": 86,
   "id": "1be2aae9",
   "metadata": {},
   "outputs": [
    {
     "data": {
      "text/html": [
       "<div>\n",
       "<style scoped>\n",
       "    .dataframe tbody tr th:only-of-type {\n",
       "        vertical-align: middle;\n",
       "    }\n",
       "\n",
       "    .dataframe tbody tr th {\n",
       "        vertical-align: top;\n",
       "    }\n",
       "\n",
       "    .dataframe thead th {\n",
       "        text-align: right;\n",
       "    }\n",
       "</style>\n",
       "<table border=\"1\" class=\"dataframe\">\n",
       "  <thead>\n",
       "    <tr style=\"text-align: right;\">\n",
       "      <th></th>\n",
       "      <th>user_id</th>\n",
       "      <th>ispur?</th>\n",
       "      <th>CR</th>\n",
       "    </tr>\n",
       "    <tr>\n",
       "      <th>group</th>\n",
       "      <th></th>\n",
       "      <th></th>\n",
       "      <th></th>\n",
       "    </tr>\n",
       "  </thead>\n",
       "  <tbody>\n",
       "    <tr>\n",
       "      <th>A</th>\n",
       "      <td>4952</td>\n",
       "      <td>1377</td>\n",
       "      <td>27.806947</td>\n",
       "    </tr>\n",
       "    <tr>\n",
       "      <th>B</th>\n",
       "      <td>5011</td>\n",
       "      <td>1480</td>\n",
       "      <td>29.535023</td>\n",
       "    </tr>\n",
       "  </tbody>\n",
       "</table>\n",
       "</div>"
      ],
      "text/plain": [
       "       user_id  ispur?         CR\n",
       "group                            \n",
       "A         4952    1377  27.806947\n",
       "B         5011    1480  29.535023"
      ]
     },
     "execution_count": 86,
     "metadata": {},
     "output_type": "execute_result"
    }
   ],
   "source": [
    "purchasers = ab_test_event_7days[ab_test_event_7days['event_name'] == 'purchase']['user_id'].unique()\n",
    "user_pur = participants_ab.copy()\n",
    "user_pur ['ispur?'] = user_pur['user_id'].isin(purchasers)\n",
    "metrics = user_pur.groupby('group').agg({'user_id':'nunique', 'ispur?':'sum'})\n",
    "metrics['CR'] = metrics['ispur?'] / metrics['user_id']  * 100\n",
    "metrics"
   ]
  },
  {
   "cell_type": "markdown",
   "id": "4897dde5",
   "metadata": {},
   "source": [
    "В контрольной группе конверсия составила 27,8%, в тестовой - 29,5%. Разница в процентном соотношении составила 1,7%, в абсолютном - 103 человека. В данном случае приведена информация о первой неделе использования онлайн-магазина после реагистрации. Относительно контрольной группы, конверсия тестовой увеличилась на 6,11%."
   ]
  },
  {
   "cell_type": "markdown",
   "id": "sh1JpGvAs5E3",
   "metadata": {
    "id": "sh1JpGvAs5E3"
   },
   "source": [
    "- сделайте предварительный общий вывод об изменении пользовательской активности в тестовой группе по сравнению с контрольной."
   ]
  },
  {
   "cell_type": "markdown",
   "id": "928cdc91",
   "metadata": {
    "id": "hHTHPkJYs8mE"
   },
   "source": [
    "Предварительный вывод: Новый интерфейс положительно влияет на конверсию, однако стоит его оценить насколько он статистически значим. На данный момент улучшение демонстрируется в 6.11% по сравнению с предыдущим вариантом"
   ]
  },
  {
   "cell_type": "markdown",
   "id": "IKZ1Oo3Ws919",
   "metadata": {
    "id": "IKZ1Oo3Ws919"
   },
   "source": [
    "## 4. Проведите оценку результатов A/B-тестирования:"
   ]
  },
  {
   "cell_type": "markdown",
   "id": "dcUdBSmvtC-E",
   "metadata": {
    "id": "dcUdBSmvtC-E"
   },
   "source": [
    "- Проверьте изменение конверсии подходящим статистическим тестом, учитывая все этапы проверки гипотез."
   ]
  },
  {
   "cell_type": "markdown",
   "id": "691eb746",
   "metadata": {},
   "source": [
    "Гипотеза:  \n",
    "Н0: Новый интерфейс не повлиял на конверсию в покупку (CR_A = CR_B)  \n",
    "Н1: Новый интерфейс увеличил конверсию в покупку (CR_A < CR_B)"
   ]
  },
  {
   "cell_type": "code",
   "execution_count": 87,
   "id": "l_KOziBQtL3t",
   "metadata": {
    "id": "l_KOziBQtL3t"
   },
   "outputs": [
    {
     "name": "stdout",
     "output_type": "stream",
     "text": [
      "Z-test: 1.91\n",
      "pvalue: 0.0283\n",
      "Отклоняем нулевую гипотезу, различия статистчисеки значимы\n"
     ]
    }
   ],
   "source": [
    "from statsmodels.stats.proportion import proportions_ztest\n",
    "successes = [1480, 1377]  \n",
    "total_users = [5011, 4952] \n",
    "z_stat, p_value = proportions_ztest(successes, total_users, alternative = 'larger')\n",
    "print(f\"Z-test: {z_stat:.2f}\")\n",
    "print(f\"pvalue: {p_value:.4f}\")\n",
    "if p_value < 0.05:\n",
    "    print(\"Отклоняем нулевую гипотезу, различия статистчисеки значимы\")\n",
    "else:\n",
    "    print(\"Различия незначимы, нет причин отклонить нулевую гипотезу.\")"
   ]
  },
  {
   "cell_type": "markdown",
   "id": "9jkyKOjgtGoc",
   "metadata": {
    "id": "9jkyKOjgtGoc"
   },
   "source": [
    "- Опишите выводы по проведённой оценке результатов A/B-тестирования. Что можно сказать про результаты A/B-тестирования? Был ли достигнут ожидаемый эффект в изменении конверсии?"
   ]
  },
  {
   "cell_type": "markdown",
   "id": "b341cbec",
   "metadata": {},
   "source": [
    "В ходе изучения различий замечено что новый интерфейс положительно влияет на показатель конверсии (увеличение в 6,11% от старых показателей). При проведении теста для проверки значимости отличий получены следующие результаты:\n",
    "- Z-test: 1.91\n",
    "- pvalue: 0.0283\n",
    "\n",
    "Нулевая гипотеза о равенстве показателей отклонена, так как значение pvalue больше чем значение уровня значимости (ошибки первого рода). При этом Z-test демострирует положительное значение, что говорит о большем значение показателя в группе В, чем в А. \n",
    "\n",
    "Внедрение нового интерфейса положительно сказывает на показателях, следует развернуть новый интерфейс для всех пользователей."
   ]
  }
 ],
 "metadata": {
  "ExecuteTimeLog": [
   {
    "duration": 112,
    "start_time": "2025-04-28T17:02:06.345Z"
   },
   {
    "duration": 417,
    "start_time": "2025-04-28T17:02:08.990Z"
   },
   {
    "duration": 48,
    "start_time": "2025-04-28T17:02:29.482Z"
   },
   {
    "duration": 13,
    "start_time": "2025-04-28T17:02:35.962Z"
   },
   {
    "duration": 51,
    "start_time": "2025-04-28T20:34:07.042Z"
   },
   {
    "duration": 422,
    "start_time": "2025-04-28T20:34:11.657Z"
   },
   {
    "duration": 104,
    "start_time": "2025-04-28T20:34:12.082Z"
   },
   {
    "duration": 12,
    "start_time": "2025-04-28T20:34:12.187Z"
   },
   {
    "duration": 14,
    "start_time": "2025-04-28T20:34:12.200Z"
   },
   {
    "duration": 1457,
    "start_time": "2025-04-28T20:34:12.216Z"
   },
   {
    "duration": 7,
    "start_time": "2025-04-28T20:37:01.385Z"
   },
   {
    "duration": 26,
    "start_time": "2025-04-28T20:42:56.059Z"
   },
   {
    "duration": 7,
    "start_time": "2025-04-28T20:44:13.685Z"
   },
   {
    "duration": 10,
    "start_time": "2025-04-28T20:44:30.671Z"
   },
   {
    "duration": 6,
    "start_time": "2025-04-28T20:44:33.746Z"
   },
   {
    "duration": 83,
    "start_time": "2025-04-28T20:46:29.506Z"
   },
   {
    "duration": 10,
    "start_time": "2025-04-28T20:47:11.894Z"
   },
   {
    "duration": 18,
    "start_time": "2025-04-28T20:47:21.859Z"
   },
   {
    "duration": 113,
    "start_time": "2025-04-28T20:48:01.189Z"
   },
   {
    "duration": 73,
    "start_time": "2025-04-28T20:48:05.179Z"
   },
   {
    "duration": 88,
    "start_time": "2025-04-28T20:48:07.988Z"
   },
   {
    "duration": 15,
    "start_time": "2025-04-28T20:48:11.650Z"
   },
   {
    "duration": 480,
    "start_time": "2025-04-28T20:53:36.862Z"
   },
   {
    "duration": 98,
    "start_time": "2025-04-28T20:54:58.688Z"
   },
   {
    "duration": 955,
    "start_time": "2025-04-28T20:55:04.638Z"
   },
   {
    "duration": 280,
    "start_time": "2025-04-28T20:55:31.613Z"
   },
   {
    "duration": 386,
    "start_time": "2025-04-28T20:55:51.815Z"
   },
   {
    "duration": 304,
    "start_time": "2025-04-28T20:58:20.185Z"
   },
   {
    "duration": 516,
    "start_time": "2025-04-28T20:59:17.414Z"
   },
   {
    "duration": 408,
    "start_time": "2025-04-28T21:00:36.632Z"
   },
   {
    "duration": 18,
    "start_time": "2025-04-28T21:02:01.039Z"
   },
   {
    "duration": 27,
    "start_time": "2025-04-28T21:02:13.946Z"
   },
   {
    "duration": 18,
    "start_time": "2025-04-28T21:02:17.291Z"
   },
   {
    "duration": 4,
    "start_time": "2025-04-28T21:13:44.834Z"
   },
   {
    "duration": 414,
    "start_time": "2025-04-28T21:13:54.399Z"
   },
   {
    "duration": 414,
    "start_time": "2025-04-28T21:14:22.123Z"
   },
   {
    "duration": 531,
    "start_time": "2025-04-28T21:14:37.723Z"
   },
   {
    "duration": 377,
    "start_time": "2025-04-28T21:17:45.702Z"
   },
   {
    "duration": 12,
    "start_time": "2025-04-28T21:25:08.208Z"
   },
   {
    "duration": 8,
    "start_time": "2025-04-28T21:25:19.784Z"
   },
   {
    "duration": 12,
    "start_time": "2025-04-28T21:25:41.690Z"
   },
   {
    "duration": 11,
    "start_time": "2025-04-28T21:25:53.983Z"
   },
   {
    "duration": 9,
    "start_time": "2025-04-28T21:26:05.773Z"
   },
   {
    "duration": 22,
    "start_time": "2025-04-28T21:26:09.051Z"
   },
   {
    "duration": 10,
    "start_time": "2025-04-28T21:26:38.375Z"
   },
   {
    "duration": 22,
    "start_time": "2025-04-28T21:27:21.354Z"
   },
   {
    "duration": 10,
    "start_time": "2025-04-28T21:27:33.695Z"
   },
   {
    "duration": 6,
    "start_time": "2025-04-28T21:28:05.819Z"
   },
   {
    "duration": 37,
    "start_time": "2025-04-28T21:28:10.471Z"
   },
   {
    "duration": 6,
    "start_time": "2025-04-28T21:28:12.720Z"
   },
   {
    "duration": 6,
    "start_time": "2025-04-28T21:28:18.821Z"
   },
   {
    "duration": 18,
    "start_time": "2025-04-28T21:28:23.259Z"
   },
   {
    "duration": 10,
    "start_time": "2025-04-28T21:33:40.402Z"
   },
   {
    "duration": 1668,
    "start_time": "2025-04-28T21:56:27.567Z"
   },
   {
    "duration": 1492,
    "start_time": "2025-04-29T07:19:38.218Z"
   },
   {
    "duration": 72,
    "start_time": "2025-04-29T07:19:39.713Z"
   },
   {
    "duration": 15,
    "start_time": "2025-04-29T07:19:39.787Z"
   },
   {
    "duration": 12,
    "start_time": "2025-04-29T07:19:39.805Z"
   },
   {
    "duration": 19,
    "start_time": "2025-04-29T07:19:39.818Z"
   },
   {
    "duration": 5,
    "start_time": "2025-04-29T07:19:39.839Z"
   },
   {
    "duration": 14,
    "start_time": "2025-04-29T07:19:39.845Z"
   },
   {
    "duration": 475,
    "start_time": "2025-04-29T07:19:39.860Z"
   },
   {
    "duration": 21,
    "start_time": "2025-04-29T07:19:40.337Z"
   },
   {
    "duration": 19,
    "start_time": "2025-04-29T07:19:40.360Z"
   },
   {
    "duration": 448,
    "start_time": "2025-04-29T07:19:40.381Z"
   },
   {
    "duration": 9,
    "start_time": "2025-04-29T07:19:40.830Z"
   },
   {
    "duration": 11,
    "start_time": "2025-04-29T07:19:40.841Z"
   },
   {
    "duration": 1682,
    "start_time": "2025-04-29T07:19:40.854Z"
   },
   {
    "duration": 112,
    "start_time": "2025-04-29T07:19:42.537Z"
   },
   {
    "duration": 9,
    "start_time": "2025-04-29T07:19:55.625Z"
   },
   {
    "duration": 3,
    "start_time": "2025-04-29T07:20:29.382Z"
   },
   {
    "duration": 11,
    "start_time": "2025-04-29T07:21:42.147Z"
   },
   {
    "duration": 12,
    "start_time": "2025-04-29T07:21:51.153Z"
   },
   {
    "duration": 12,
    "start_time": "2025-04-29T07:26:08.089Z"
   },
   {
    "duration": 9,
    "start_time": "2025-04-29T07:28:45.546Z"
   },
   {
    "duration": 70,
    "start_time": "2025-04-29T07:32:13.530Z"
   },
   {
    "duration": 119,
    "start_time": "2025-04-29T07:46:07.021Z"
   },
   {
    "duration": 3,
    "start_time": "2025-04-29T07:53:36.151Z"
   },
   {
    "duration": 79,
    "start_time": "2025-04-29T07:53:36.156Z"
   },
   {
    "duration": 12,
    "start_time": "2025-04-29T07:53:36.236Z"
   },
   {
    "duration": 35,
    "start_time": "2025-04-29T07:53:36.250Z"
   },
   {
    "duration": 36,
    "start_time": "2025-04-29T07:53:36.287Z"
   },
   {
    "duration": 30,
    "start_time": "2025-04-29T07:53:36.324Z"
   },
   {
    "duration": 52,
    "start_time": "2025-04-29T07:53:36.355Z"
   },
   {
    "duration": 35,
    "start_time": "2025-04-29T07:53:36.408Z"
   },
   {
    "duration": 426,
    "start_time": "2025-04-29T07:53:36.445Z"
   },
   {
    "duration": 32,
    "start_time": "2025-04-29T07:53:36.873Z"
   },
   {
    "duration": 19,
    "start_time": "2025-04-29T07:53:36.907Z"
   },
   {
    "duration": 536,
    "start_time": "2025-04-29T07:53:36.927Z"
   },
   {
    "duration": 7,
    "start_time": "2025-04-29T07:53:37.466Z"
   },
   {
    "duration": 48,
    "start_time": "2025-04-29T07:53:37.475Z"
   },
   {
    "duration": 1576,
    "start_time": "2025-04-29T07:53:37.525Z"
   },
   {
    "duration": 8,
    "start_time": "2025-04-29T07:53:39.103Z"
   },
   {
    "duration": 13,
    "start_time": "2025-04-29T07:53:39.113Z"
   },
   {
    "duration": 13,
    "start_time": "2025-04-29T07:53:39.127Z"
   },
   {
    "duration": 12,
    "start_time": "2025-04-29T07:53:39.142Z"
   },
   {
    "duration": 98,
    "start_time": "2025-04-29T07:53:39.156Z"
   },
   {
    "duration": 130,
    "start_time": "2025-04-29T07:53:39.256Z"
   },
   {
    "duration": 2,
    "start_time": "2025-04-29T07:54:18.041Z"
   },
   {
    "duration": 75,
    "start_time": "2025-04-29T07:54:18.053Z"
   },
   {
    "duration": 12,
    "start_time": "2025-04-29T07:54:18.130Z"
   },
   {
    "duration": 8,
    "start_time": "2025-04-29T07:54:18.143Z"
   },
   {
    "duration": 20,
    "start_time": "2025-04-29T07:54:18.153Z"
   },
   {
    "duration": 23,
    "start_time": "2025-04-29T07:54:18.174Z"
   },
   {
    "duration": 9,
    "start_time": "2025-04-29T07:54:18.198Z"
   },
   {
    "duration": 32,
    "start_time": "2025-04-29T07:54:18.209Z"
   },
   {
    "duration": 425,
    "start_time": "2025-04-29T07:54:18.243Z"
   },
   {
    "duration": 18,
    "start_time": "2025-04-29T07:54:18.670Z"
   },
   {
    "duration": 31,
    "start_time": "2025-04-29T07:54:18.691Z"
   },
   {
    "duration": 438,
    "start_time": "2025-04-29T07:54:18.724Z"
   },
   {
    "duration": 7,
    "start_time": "2025-04-29T07:54:19.163Z"
   },
   {
    "duration": 16,
    "start_time": "2025-04-29T07:54:19.171Z"
   },
   {
    "duration": 1659,
    "start_time": "2025-04-29T07:54:19.189Z"
   },
   {
    "duration": 9,
    "start_time": "2025-04-29T07:54:20.850Z"
   },
   {
    "duration": 40,
    "start_time": "2025-04-29T07:54:20.861Z"
   },
   {
    "duration": 25,
    "start_time": "2025-04-29T07:54:20.903Z"
   },
   {
    "duration": 33,
    "start_time": "2025-04-29T07:54:20.930Z"
   },
   {
    "duration": 88,
    "start_time": "2025-04-29T07:54:20.964Z"
   },
   {
    "duration": 125,
    "start_time": "2025-04-29T07:54:21.054Z"
   },
   {
    "duration": 2,
    "start_time": "2025-04-29T07:56:56.353Z"
   },
   {
    "duration": 9,
    "start_time": "2025-04-29T07:57:58.183Z"
   },
   {
    "duration": 9,
    "start_time": "2025-04-29T07:58:02.199Z"
   },
   {
    "duration": 9,
    "start_time": "2025-04-29T08:13:34.654Z"
   },
   {
    "duration": 10,
    "start_time": "2025-04-29T08:22:08.861Z"
   },
   {
    "duration": 20,
    "start_time": "2025-04-29T08:22:18.685Z"
   },
   {
    "duration": 109,
    "start_time": "2025-04-29T08:22:46.182Z"
   },
   {
    "duration": 23,
    "start_time": "2025-04-29T08:22:48.105Z"
   },
   {
    "duration": 6,
    "start_time": "2025-04-29T08:26:54.509Z"
   },
   {
    "duration": 9,
    "start_time": "2025-04-29T08:28:16.880Z"
   },
   {
    "duration": 5,
    "start_time": "2025-04-29T08:28:22.523Z"
   },
   {
    "duration": 14,
    "start_time": "2025-04-29T08:29:51.662Z"
   },
   {
    "duration": 19,
    "start_time": "2025-04-29T08:30:02.386Z"
   },
   {
    "duration": 16,
    "start_time": "2025-04-29T08:30:36.955Z"
   },
   {
    "duration": 81,
    "start_time": "2025-04-29T08:31:20.642Z"
   },
   {
    "duration": 182,
    "start_time": "2025-04-29T09:26:38.347Z"
   },
   {
    "duration": 30,
    "start_time": "2025-04-29T09:26:58.415Z"
   },
   {
    "duration": 58,
    "start_time": "2025-04-29T10:28:31.296Z"
   },
   {
    "duration": 16,
    "start_time": "2025-04-29T10:28:42.976Z"
   },
   {
    "duration": 19,
    "start_time": "2025-04-29T10:29:59.881Z"
   },
   {
    "duration": 27,
    "start_time": "2025-04-29T10:30:47.191Z"
   },
   {
    "duration": 18,
    "start_time": "2025-04-29T10:51:29.370Z"
   },
   {
    "duration": 18,
    "start_time": "2025-04-29T10:51:40.197Z"
   },
   {
    "duration": 3,
    "start_time": "2025-04-29T10:51:46.553Z"
   },
   {
    "duration": 171,
    "start_time": "2025-04-29T10:51:46.570Z"
   },
   {
    "duration": 11,
    "start_time": "2025-04-29T10:51:46.743Z"
   },
   {
    "duration": 54,
    "start_time": "2025-04-29T10:51:46.756Z"
   },
   {
    "duration": 15,
    "start_time": "2025-04-29T10:51:46.811Z"
   },
   {
    "duration": 40,
    "start_time": "2025-04-29T10:51:46.828Z"
   },
   {
    "duration": 5,
    "start_time": "2025-04-29T10:51:46.870Z"
   },
   {
    "duration": 24,
    "start_time": "2025-04-29T10:51:46.877Z"
   },
   {
    "duration": 602,
    "start_time": "2025-04-29T10:51:46.903Z"
   },
   {
    "duration": 20,
    "start_time": "2025-04-29T10:51:47.507Z"
   },
   {
    "duration": 20,
    "start_time": "2025-04-29T10:51:47.529Z"
   },
   {
    "duration": 450,
    "start_time": "2025-04-29T10:51:47.551Z"
   },
   {
    "duration": 7,
    "start_time": "2025-04-29T10:51:48.007Z"
   },
   {
    "duration": 14,
    "start_time": "2025-04-29T10:51:48.016Z"
   },
   {
    "duration": 1676,
    "start_time": "2025-04-29T10:51:48.031Z"
   },
   {
    "duration": 8,
    "start_time": "2025-04-29T10:51:49.709Z"
   },
   {
    "duration": 18,
    "start_time": "2025-04-29T10:51:49.719Z"
   },
   {
    "duration": 27,
    "start_time": "2025-04-29T10:51:49.738Z"
   },
   {
    "duration": 34,
    "start_time": "2025-04-29T10:51:49.766Z"
   },
   {
    "duration": 103,
    "start_time": "2025-04-29T10:51:49.801Z"
   },
   {
    "duration": 144,
    "start_time": "2025-04-29T10:51:49.906Z"
   },
   {
    "duration": 10,
    "start_time": "2025-04-29T10:51:50.052Z"
   },
   {
    "duration": 39,
    "start_time": "2025-04-29T10:51:50.064Z"
   },
   {
    "duration": 34,
    "start_time": "2025-04-29T10:51:50.105Z"
   },
   {
    "duration": 6,
    "start_time": "2025-04-29T10:51:50.142Z"
   },
   {
    "duration": 24,
    "start_time": "2025-04-29T10:51:50.150Z"
   },
   {
    "duration": 22,
    "start_time": "2025-04-29T10:51:50.176Z"
   },
   {
    "duration": 84,
    "start_time": "2025-04-29T10:51:50.200Z"
   },
   {
    "duration": 244,
    "start_time": "2025-04-29T10:51:50.286Z"
   },
   {
    "duration": 32,
    "start_time": "2025-04-29T10:51:50.532Z"
   },
   {
    "duration": 92,
    "start_time": "2025-04-29T10:51:50.566Z"
   },
   {
    "duration": 29,
    "start_time": "2025-04-29T10:53:05.209Z"
   },
   {
    "duration": 69,
    "start_time": "2025-04-29T10:53:14.157Z"
   },
   {
    "duration": 11,
    "start_time": "2025-04-29T10:53:47.737Z"
   },
   {
    "duration": 61,
    "start_time": "2025-04-29T10:53:49.353Z"
   },
   {
    "duration": 36,
    "start_time": "2025-04-29T10:54:53.891Z"
   },
   {
    "duration": 34,
    "start_time": "2025-04-29T10:55:31.918Z"
   },
   {
    "duration": 11,
    "start_time": "2025-04-29T10:56:15.593Z"
   },
   {
    "duration": 49,
    "start_time": "2025-04-29T11:03:02.323Z"
   },
   {
    "duration": 58,
    "start_time": "2025-04-29T11:03:35.882Z"
   },
   {
    "duration": 52,
    "start_time": "2025-04-29T11:04:32.459Z"
   },
   {
    "duration": 45,
    "start_time": "2025-04-29T11:04:36.652Z"
   },
   {
    "duration": 308,
    "start_time": "2025-04-29T11:10:34.843Z"
   },
   {
    "duration": 281,
    "start_time": "2025-04-29T11:10:49.619Z"
   },
   {
    "duration": 382,
    "start_time": "2025-04-29T11:11:03.251Z"
   },
   {
    "duration": 272,
    "start_time": "2025-04-29T11:11:23.227Z"
   },
   {
    "duration": 23,
    "start_time": "2025-04-29T11:17:47.982Z"
   },
   {
    "duration": 16,
    "start_time": "2025-04-29T11:18:41.695Z"
   },
   {
    "duration": 11,
    "start_time": "2025-04-29T11:20:25.829Z"
   },
   {
    "duration": 17,
    "start_time": "2025-04-29T11:22:09.706Z"
   },
   {
    "duration": 16,
    "start_time": "2025-04-29T11:25:37.835Z"
   },
   {
    "duration": 10,
    "start_time": "2025-04-29T11:27:29.787Z"
   },
   {
    "duration": 12,
    "start_time": "2025-04-29T11:27:52.637Z"
   },
   {
    "duration": 21,
    "start_time": "2025-04-29T11:30:52.799Z"
   },
   {
    "duration": 15,
    "start_time": "2025-04-29T11:31:45.246Z"
   },
   {
    "duration": 19,
    "start_time": "2025-04-29T11:31:49.999Z"
   },
   {
    "duration": 18,
    "start_time": "2025-04-29T11:31:53.447Z"
   },
   {
    "duration": 10,
    "start_time": "2025-04-29T11:32:21.244Z"
   },
   {
    "duration": 40,
    "start_time": "2025-04-29T11:33:50.471Z"
   },
   {
    "duration": 2,
    "start_time": "2025-04-29T11:35:06.279Z"
   },
   {
    "duration": 9,
    "start_time": "2025-04-29T11:36:34.831Z"
   },
   {
    "duration": 16,
    "start_time": "2025-04-29T11:36:51.279Z"
   },
   {
    "duration": 985,
    "start_time": "2025-04-29T11:46:23.254Z"
   },
   {
    "duration": 24,
    "start_time": "2025-04-29T11:46:34.174Z"
   },
   {
    "duration": 30,
    "start_time": "2025-04-29T11:46:41.782Z"
   },
   {
    "duration": 23,
    "start_time": "2025-04-29T11:47:01.075Z"
   },
   {
    "duration": 22,
    "start_time": "2025-04-29T11:47:54.885Z"
   },
   {
    "duration": 23,
    "start_time": "2025-04-29T11:48:00.219Z"
   },
   {
    "duration": 5,
    "start_time": "2025-04-29T11:57:19.135Z"
   },
   {
    "duration": 6,
    "start_time": "2025-04-29T11:57:36.892Z"
   },
   {
    "duration": 5,
    "start_time": "2025-04-29T11:58:45.833Z"
   },
   {
    "duration": 5,
    "start_time": "2025-04-29T11:59:35.014Z"
   },
   {
    "duration": 3,
    "start_time": "2025-04-29T12:03:39.728Z"
   },
   {
    "duration": 102,
    "start_time": "2025-04-29T12:03:39.733Z"
   },
   {
    "duration": 11,
    "start_time": "2025-04-29T12:03:39.837Z"
   },
   {
    "duration": 13,
    "start_time": "2025-04-29T12:03:39.849Z"
   },
   {
    "duration": 36,
    "start_time": "2025-04-29T12:03:39.865Z"
   },
   {
    "duration": 9,
    "start_time": "2025-04-29T12:03:39.903Z"
   },
   {
    "duration": 6,
    "start_time": "2025-04-29T12:03:39.914Z"
   },
   {
    "duration": 13,
    "start_time": "2025-04-29T12:03:39.921Z"
   },
   {
    "duration": 462,
    "start_time": "2025-04-29T12:03:39.936Z"
   },
   {
    "duration": 23,
    "start_time": "2025-04-29T12:03:40.400Z"
   },
   {
    "duration": 18,
    "start_time": "2025-04-29T12:03:40.425Z"
   },
   {
    "duration": 456,
    "start_time": "2025-04-29T12:03:40.445Z"
   },
   {
    "duration": 7,
    "start_time": "2025-04-29T12:03:40.905Z"
   },
   {
    "duration": 24,
    "start_time": "2025-04-29T12:03:40.915Z"
   },
   {
    "duration": 1710,
    "start_time": "2025-04-29T12:03:40.941Z"
   },
   {
    "duration": 10,
    "start_time": "2025-04-29T12:03:42.653Z"
   },
   {
    "duration": 20,
    "start_time": "2025-04-29T12:03:42.665Z"
   },
   {
    "duration": 26,
    "start_time": "2025-04-29T12:03:42.687Z"
   },
   {
    "duration": 9,
    "start_time": "2025-04-29T12:03:42.715Z"
   },
   {
    "duration": 86,
    "start_time": "2025-04-29T12:03:42.726Z"
   },
   {
    "duration": 134,
    "start_time": "2025-04-29T12:03:42.814Z"
   },
   {
    "duration": 9,
    "start_time": "2025-04-29T12:03:42.951Z"
   },
   {
    "duration": 30,
    "start_time": "2025-04-29T12:03:42.961Z"
   },
   {
    "duration": 133,
    "start_time": "2025-04-29T12:03:42.993Z"
   },
   {
    "duration": 6,
    "start_time": "2025-04-29T12:03:43.127Z"
   },
   {
    "duration": 10,
    "start_time": "2025-04-29T12:03:43.134Z"
   },
   {
    "duration": 38,
    "start_time": "2025-04-29T12:03:43.145Z"
   },
   {
    "duration": 130,
    "start_time": "2025-04-29T12:03:43.185Z"
   },
   {
    "duration": 197,
    "start_time": "2025-04-29T12:03:43.317Z"
   },
   {
    "duration": 32,
    "start_time": "2025-04-29T12:03:43.516Z"
   },
   {
    "duration": 16,
    "start_time": "2025-04-29T12:03:43.550Z"
   },
   {
    "duration": 81,
    "start_time": "2025-04-29T12:03:43.568Z"
   },
   {
    "duration": 11,
    "start_time": "2025-04-29T12:03:43.651Z"
   },
   {
    "duration": 65,
    "start_time": "2025-04-29T12:03:43.664Z"
   },
   {
    "duration": 409,
    "start_time": "2025-04-29T12:03:43.731Z"
   },
   {
    "duration": 292,
    "start_time": "2025-04-29T12:03:44.142Z"
   },
   {
    "duration": 19,
    "start_time": "2025-04-29T12:03:44.436Z"
   },
   {
    "duration": 35,
    "start_time": "2025-04-29T12:03:44.457Z"
   },
   {
    "duration": 20,
    "start_time": "2025-04-29T12:03:44.494Z"
   },
   {
    "duration": 0,
    "start_time": "2025-04-29T12:03:44.516Z"
   },
   {
    "duration": 0,
    "start_time": "2025-04-29T12:03:44.517Z"
   },
   {
    "duration": 10,
    "start_time": "2025-04-29T12:04:07.258Z"
   },
   {
    "duration": 26,
    "start_time": "2025-04-29T12:04:14.737Z"
   },
   {
    "duration": 6,
    "start_time": "2025-04-29T12:04:18.706Z"
   },
   {
    "duration": 3,
    "start_time": "2025-04-29T14:45:28.504Z"
   },
   {
    "duration": 51,
    "start_time": "2025-04-29T14:45:28.509Z"
   },
   {
    "duration": 10,
    "start_time": "2025-04-29T14:45:28.561Z"
   },
   {
    "duration": 21,
    "start_time": "2025-04-29T14:45:28.573Z"
   },
   {
    "duration": 24,
    "start_time": "2025-04-29T14:45:28.596Z"
   },
   {
    "duration": 20,
    "start_time": "2025-04-29T14:45:28.621Z"
   },
   {
    "duration": 5,
    "start_time": "2025-04-29T14:45:28.642Z"
   },
   {
    "duration": 11,
    "start_time": "2025-04-29T14:45:28.648Z"
   },
   {
    "duration": 408,
    "start_time": "2025-04-29T14:45:28.660Z"
   },
   {
    "duration": 19,
    "start_time": "2025-04-29T14:45:29.070Z"
   },
   {
    "duration": 17,
    "start_time": "2025-04-29T14:45:29.090Z"
   },
   {
    "duration": 410,
    "start_time": "2025-04-29T14:45:29.109Z"
   },
   {
    "duration": 19,
    "start_time": "2025-04-29T14:45:29.521Z"
   },
   {
    "duration": 11,
    "start_time": "2025-04-29T14:45:29.543Z"
   },
   {
    "duration": 1438,
    "start_time": "2025-04-29T14:45:29.556Z"
   },
   {
    "duration": 8,
    "start_time": "2025-04-29T14:45:30.996Z"
   },
   {
    "duration": 32,
    "start_time": "2025-04-29T14:45:31.006Z"
   },
   {
    "duration": 12,
    "start_time": "2025-04-29T14:45:31.040Z"
   },
   {
    "duration": 18,
    "start_time": "2025-04-29T14:45:31.053Z"
   },
   {
    "duration": 84,
    "start_time": "2025-04-29T14:45:31.073Z"
   },
   {
    "duration": 120,
    "start_time": "2025-04-29T14:45:31.159Z"
   },
   {
    "duration": 8,
    "start_time": "2025-04-29T14:45:31.281Z"
   },
   {
    "duration": 8,
    "start_time": "2025-04-29T14:45:31.290Z"
   },
   {
    "duration": 52,
    "start_time": "2025-04-29T14:45:31.300Z"
   },
   {
    "duration": 5,
    "start_time": "2025-04-29T14:45:31.354Z"
   },
   {
    "duration": 9,
    "start_time": "2025-04-29T14:45:31.360Z"
   },
   {
    "duration": 28,
    "start_time": "2025-04-29T14:45:31.370Z"
   },
   {
    "duration": 89,
    "start_time": "2025-04-29T14:45:31.399Z"
   },
   {
    "duration": 189,
    "start_time": "2025-04-29T14:45:31.490Z"
   },
   {
    "duration": 27,
    "start_time": "2025-04-29T14:45:31.680Z"
   },
   {
    "duration": 31,
    "start_time": "2025-04-29T14:45:31.708Z"
   },
   {
    "duration": 65,
    "start_time": "2025-04-29T14:45:31.741Z"
   },
   {
    "duration": 8,
    "start_time": "2025-04-29T14:45:31.807Z"
   },
   {
    "duration": 53,
    "start_time": "2025-04-29T14:45:31.817Z"
   },
   {
    "duration": 268,
    "start_time": "2025-04-29T14:45:31.871Z"
   },
   {
    "duration": 354,
    "start_time": "2025-04-29T14:45:32.141Z"
   },
   {
    "duration": 14,
    "start_time": "2025-04-29T14:45:32.497Z"
   },
   {
    "duration": 33,
    "start_time": "2025-04-29T14:45:32.513Z"
   },
   {
    "duration": 9,
    "start_time": "2025-04-29T14:45:32.548Z"
   },
   {
    "duration": 57,
    "start_time": "2025-04-29T14:45:32.559Z"
   },
   {
    "duration": 25,
    "start_time": "2025-04-29T14:45:32.620Z"
   },
   {
    "duration": 115,
    "start_time": "2025-04-29T14:45:32.646Z"
   },
   {
    "duration": 52,
    "start_time": "2025-04-29T15:13:33.277Z"
   },
   {
    "duration": 1406,
    "start_time": "2025-04-29T15:13:40.975Z"
   },
   {
    "duration": 53,
    "start_time": "2025-04-29T15:13:42.383Z"
   },
   {
    "duration": 13,
    "start_time": "2025-04-29T15:13:42.439Z"
   },
   {
    "duration": 38,
    "start_time": "2025-04-29T15:13:42.453Z"
   },
   {
    "duration": 30,
    "start_time": "2025-04-29T15:13:42.493Z"
   },
   {
    "duration": 29,
    "start_time": "2025-04-29T15:13:42.524Z"
   },
   {
    "duration": 10,
    "start_time": "2025-04-29T15:13:42.555Z"
   },
   {
    "duration": 25,
    "start_time": "2025-04-29T15:13:42.567Z"
   },
   {
    "duration": 457,
    "start_time": "2025-04-29T15:13:42.593Z"
   },
   {
    "duration": 25,
    "start_time": "2025-04-29T15:13:43.052Z"
   },
   {
    "duration": 187,
    "start_time": "2025-04-29T15:13:43.079Z"
   },
   {
    "duration": 428,
    "start_time": "2025-04-29T15:13:43.268Z"
   },
   {
    "duration": 7,
    "start_time": "2025-04-29T15:13:43.698Z"
   },
   {
    "duration": 13,
    "start_time": "2025-04-29T15:13:43.708Z"
   },
   {
    "duration": 1745,
    "start_time": "2025-04-29T15:13:43.723Z"
   },
   {
    "duration": 10,
    "start_time": "2025-04-29T15:13:45.470Z"
   },
   {
    "duration": 61,
    "start_time": "2025-04-29T15:13:45.481Z"
   },
   {
    "duration": 39,
    "start_time": "2025-04-29T15:13:45.545Z"
   },
   {
    "duration": 25,
    "start_time": "2025-04-29T15:13:45.586Z"
   },
   {
    "duration": 74,
    "start_time": "2025-04-29T15:13:45.613Z"
   },
   {
    "duration": 130,
    "start_time": "2025-04-29T15:13:45.689Z"
   },
   {
    "duration": 82,
    "start_time": "2025-04-29T15:13:45.822Z"
   },
   {
    "duration": 0,
    "start_time": "2025-04-29T15:13:45.906Z"
   },
   {
    "duration": 0,
    "start_time": "2025-04-29T15:13:45.908Z"
   },
   {
    "duration": 0,
    "start_time": "2025-04-29T15:13:45.909Z"
   },
   {
    "duration": 0,
    "start_time": "2025-04-29T15:13:45.911Z"
   },
   {
    "duration": 0,
    "start_time": "2025-04-29T15:13:45.912Z"
   },
   {
    "duration": 0,
    "start_time": "2025-04-29T15:13:45.914Z"
   },
   {
    "duration": 0,
    "start_time": "2025-04-29T15:13:45.915Z"
   },
   {
    "duration": 0,
    "start_time": "2025-04-29T15:13:45.917Z"
   },
   {
    "duration": 0,
    "start_time": "2025-04-29T15:13:45.919Z"
   },
   {
    "duration": 0,
    "start_time": "2025-04-29T15:13:45.921Z"
   },
   {
    "duration": 0,
    "start_time": "2025-04-29T15:13:45.922Z"
   },
   {
    "duration": 0,
    "start_time": "2025-04-29T15:13:45.924Z"
   },
   {
    "duration": 0,
    "start_time": "2025-04-29T15:13:45.926Z"
   },
   {
    "duration": 0,
    "start_time": "2025-04-29T15:13:45.962Z"
   },
   {
    "duration": 0,
    "start_time": "2025-04-29T15:13:45.964Z"
   },
   {
    "duration": 0,
    "start_time": "2025-04-29T15:13:45.966Z"
   },
   {
    "duration": 0,
    "start_time": "2025-04-29T15:13:45.968Z"
   },
   {
    "duration": 0,
    "start_time": "2025-04-29T15:13:45.969Z"
   },
   {
    "duration": 0,
    "start_time": "2025-04-29T15:13:45.971Z"
   },
   {
    "duration": 0,
    "start_time": "2025-04-29T15:13:45.973Z"
   },
   {
    "duration": 3,
    "start_time": "2025-04-29T15:14:09.486Z"
   },
   {
    "duration": 44,
    "start_time": "2025-04-29T15:14:09.493Z"
   },
   {
    "duration": 15,
    "start_time": "2025-04-29T15:14:09.539Z"
   },
   {
    "duration": 17,
    "start_time": "2025-04-29T15:14:09.556Z"
   },
   {
    "duration": 17,
    "start_time": "2025-04-29T15:14:09.576Z"
   },
   {
    "duration": 46,
    "start_time": "2025-04-29T15:14:09.595Z"
   },
   {
    "duration": 38,
    "start_time": "2025-04-29T15:14:09.643Z"
   },
   {
    "duration": 32,
    "start_time": "2025-04-29T15:14:09.683Z"
   },
   {
    "duration": 437,
    "start_time": "2025-04-29T15:14:09.717Z"
   },
   {
    "duration": 23,
    "start_time": "2025-04-29T15:14:10.156Z"
   },
   {
    "duration": 46,
    "start_time": "2025-04-29T15:14:10.184Z"
   },
   {
    "duration": 518,
    "start_time": "2025-04-29T15:14:10.232Z"
   },
   {
    "duration": 12,
    "start_time": "2025-04-29T15:14:10.752Z"
   },
   {
    "duration": 14,
    "start_time": "2025-04-29T15:14:10.766Z"
   },
   {
    "duration": 1594,
    "start_time": "2025-04-29T15:14:10.782Z"
   },
   {
    "duration": 10,
    "start_time": "2025-04-29T15:14:12.377Z"
   },
   {
    "duration": 19,
    "start_time": "2025-04-29T15:14:12.390Z"
   },
   {
    "duration": 14,
    "start_time": "2025-04-29T15:14:12.411Z"
   },
   {
    "duration": 34,
    "start_time": "2025-04-29T15:14:12.427Z"
   },
   {
    "duration": 71,
    "start_time": "2025-04-29T15:14:12.463Z"
   },
   {
    "duration": 140,
    "start_time": "2025-04-29T15:14:12.536Z"
   },
   {
    "duration": 299,
    "start_time": "2025-04-29T15:14:12.678Z"
   },
   {
    "duration": 0,
    "start_time": "2025-04-29T15:14:12.979Z"
   },
   {
    "duration": 0,
    "start_time": "2025-04-29T15:14:12.980Z"
   },
   {
    "duration": 0,
    "start_time": "2025-04-29T15:14:12.981Z"
   },
   {
    "duration": 0,
    "start_time": "2025-04-29T15:14:12.982Z"
   },
   {
    "duration": 0,
    "start_time": "2025-04-29T15:14:12.983Z"
   },
   {
    "duration": 0,
    "start_time": "2025-04-29T15:14:12.984Z"
   },
   {
    "duration": 0,
    "start_time": "2025-04-29T15:14:12.985Z"
   },
   {
    "duration": 0,
    "start_time": "2025-04-29T15:14:12.986Z"
   },
   {
    "duration": 0,
    "start_time": "2025-04-29T15:14:12.987Z"
   },
   {
    "duration": 0,
    "start_time": "2025-04-29T15:14:12.988Z"
   },
   {
    "duration": 0,
    "start_time": "2025-04-29T15:14:12.989Z"
   },
   {
    "duration": 0,
    "start_time": "2025-04-29T15:14:12.990Z"
   },
   {
    "duration": 0,
    "start_time": "2025-04-29T15:14:12.991Z"
   },
   {
    "duration": 0,
    "start_time": "2025-04-29T15:14:12.993Z"
   },
   {
    "duration": 0,
    "start_time": "2025-04-29T15:14:12.994Z"
   },
   {
    "duration": 0,
    "start_time": "2025-04-29T15:14:12.995Z"
   },
   {
    "duration": 0,
    "start_time": "2025-04-29T15:14:12.996Z"
   },
   {
    "duration": 0,
    "start_time": "2025-04-29T15:14:12.997Z"
   },
   {
    "duration": 0,
    "start_time": "2025-04-29T15:14:12.998Z"
   },
   {
    "duration": 0,
    "start_time": "2025-04-29T15:14:12.999Z"
   },
   {
    "duration": 3,
    "start_time": "2025-04-29T15:14:34.591Z"
   },
   {
    "duration": 66,
    "start_time": "2025-04-29T15:14:34.596Z"
   },
   {
    "duration": 13,
    "start_time": "2025-04-29T15:14:34.664Z"
   },
   {
    "duration": 26,
    "start_time": "2025-04-29T15:14:34.678Z"
   },
   {
    "duration": 27,
    "start_time": "2025-04-29T15:14:34.707Z"
   },
   {
    "duration": 45,
    "start_time": "2025-04-29T15:14:34.736Z"
   },
   {
    "duration": 32,
    "start_time": "2025-04-29T15:14:34.782Z"
   },
   {
    "duration": 34,
    "start_time": "2025-04-29T15:14:34.817Z"
   },
   {
    "duration": 461,
    "start_time": "2025-04-29T15:14:34.852Z"
   },
   {
    "duration": 21,
    "start_time": "2025-04-29T15:14:35.315Z"
   },
   {
    "duration": 38,
    "start_time": "2025-04-29T15:14:35.338Z"
   },
   {
    "duration": 432,
    "start_time": "2025-04-29T15:14:35.378Z"
   },
   {
    "duration": 7,
    "start_time": "2025-04-29T15:14:35.812Z"
   },
   {
    "duration": 46,
    "start_time": "2025-04-29T15:14:35.821Z"
   },
   {
    "duration": 1564,
    "start_time": "2025-04-29T15:14:35.869Z"
   },
   {
    "duration": 9,
    "start_time": "2025-04-29T15:14:37.435Z"
   },
   {
    "duration": 29,
    "start_time": "2025-04-29T15:14:37.446Z"
   },
   {
    "duration": 24,
    "start_time": "2025-04-29T15:14:37.476Z"
   },
   {
    "duration": 113,
    "start_time": "2025-04-29T15:14:37.503Z"
   },
   {
    "duration": 133,
    "start_time": "2025-04-29T15:14:37.618Z"
   },
   {
    "duration": 158,
    "start_time": "2025-04-29T15:14:37.753Z"
   },
   {
    "duration": 635,
    "start_time": "2025-04-29T15:14:37.913Z"
   },
   {
    "duration": 15,
    "start_time": "2025-04-29T15:14:38.549Z"
   },
   {
    "duration": 60,
    "start_time": "2025-04-29T15:14:38.566Z"
   },
   {
    "duration": 42,
    "start_time": "2025-04-29T15:14:38.628Z"
   },
   {
    "duration": 11,
    "start_time": "2025-04-29T15:14:38.671Z"
   },
   {
    "duration": 10,
    "start_time": "2025-04-29T15:14:38.684Z"
   },
   {
    "duration": 17,
    "start_time": "2025-04-29T15:14:38.696Z"
   },
   {
    "duration": 94,
    "start_time": "2025-04-29T15:14:38.717Z"
   },
   {
    "duration": 239,
    "start_time": "2025-04-29T15:14:38.813Z"
   },
   {
    "duration": 34,
    "start_time": "2025-04-29T15:14:39.054Z"
   },
   {
    "duration": 222,
    "start_time": "2025-04-29T15:14:39.090Z"
   },
   {
    "duration": 55,
    "start_time": "2025-04-29T15:14:39.313Z"
   },
   {
    "duration": 10,
    "start_time": "2025-04-29T15:14:39.370Z"
   },
   {
    "duration": 51,
    "start_time": "2025-04-29T15:14:39.381Z"
   },
   {
    "duration": 414,
    "start_time": "2025-04-29T15:14:39.434Z"
   },
   {
    "duration": 276,
    "start_time": "2025-04-29T15:14:39.850Z"
   },
   {
    "duration": 35,
    "start_time": "2025-04-29T15:14:40.128Z"
   },
   {
    "duration": 23,
    "start_time": "2025-04-29T15:14:40.164Z"
   },
   {
    "duration": 17,
    "start_time": "2025-04-29T15:14:40.189Z"
   },
   {
    "duration": 26,
    "start_time": "2025-04-29T15:14:40.207Z"
   },
   {
    "duration": 6,
    "start_time": "2025-04-29T15:14:40.235Z"
   },
   {
    "duration": 47,
    "start_time": "2025-06-07T17:26:56.145Z"
   }
  ],
  "colab": {
   "provenance": [],
   "toc_visible": true
  },
  "kernelspec": {
   "display_name": "Python 3 (ipykernel)",
   "language": "python",
   "name": "python3"
  },
  "language_info": {
   "codemirror_mode": {
    "name": "ipython",
    "version": 3
   },
   "file_extension": ".py",
   "mimetype": "text/x-python",
   "name": "python",
   "nbconvert_exporter": "python",
   "pygments_lexer": "ipython3",
   "version": "3.9.5"
  },
  "toc": {
   "base_numbering": 1,
   "nav_menu": {},
   "number_sections": true,
   "sideBar": true,
   "skip_h1_title": true,
   "title_cell": "Table of Contents",
   "title_sidebar": "Contents",
   "toc_cell": false,
   "toc_position": {
    "height": "calc(100% - 180px)",
    "left": "10px",
    "top": "150px",
    "width": "274px"
   },
   "toc_section_display": true,
   "toc_window_display": true
  }
 },
 "nbformat": 4,
 "nbformat_minor": 5
}
