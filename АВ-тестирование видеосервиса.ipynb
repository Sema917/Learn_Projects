{
 "cells": [
  {
   "cell_type": "markdown",
   "metadata": {
    "id": "u98L9TgH0eMk"
   },
   "source": [
    "# Разработка A/B-тестирования и анализ результатов\n",
    "\n",
    "Вы работаете продуктовым аналитиком в компании, которая разрабатывает развлекательное приложение с функцией «бесконечной» ленты, как, например, в приложениях с короткими видео. В вашем приложении существует две модели монетизации: первая — ежемесячная платная подписка, которая позволяет пользователям смотреть ленту без рекламы, вторая — демонстрация рекламы для пользователей, которые ещё не оформили подписку.\n",
    "\n",
    "Команда разработчиков рекомендательных систем создала новый алгоритм рекомендаций, который, по их мнению, будет показывать более интересный контент для каждого пользователя. Вас, как аналитика, просят помочь рассчитать параметры A/B-теста, который позволит проверить эту гипотезу, и проанализировать его результаты."
   ]
  },
  {
   "cell_type": "markdown",
   "metadata": {},
   "source": [
    "**Гипотеза:**\n",
    "\n",
    "**Нулевая:** После внедрения рекомендаций доля успешных сессий не изменилась (H0 : µA = µB) \n",
    "\n",
    "**Альтернативная:** После внедрения рекомендаций доля успешных сессий изменилась (H1 : µA ≠ µB) \n",
    "\n",
    "**Основная метрика для проверки равенства выборок**: среднее количество страниц просмотренных пользователями в рамках сессии."
   ]
  },
  {
   "cell_type": "markdown",
   "metadata": {
    "id": "LJBRALHs0eMf"
   },
   "source": [
    "## Описание данных\n",
    "\n",
    "Вы будете работать с тремя таблицами:\n",
    "\n",
    "- `sessions_project_history.csv` — таблица с историческими данными по сессиям пользователей на период с 2025-08-15 по 2025-09-23. Путь к файлу: `/datasets/sessions_project_history.csv`.\n",
    "\n",
    "- `sessions_project_test_part.csv` — таблица с данными за первый день проведения A/B-теста, то есть за 2025-10-14. Путь к файлу: `/datasets/sessions_project_test_part.csv`.\n",
    "\n",
    "- `sessions_project_test.csv` — таблица с данными за весь период проведения A/B-теста, то есть с 2025-10-14 по 2025-11-02. Путь к файлу: `/datasets/sessions_project_test.csv`.\n",
    "\n",
    "У этих таблиц почти совпадает структура и содержание колонок, различаются лишь периоды наблюдения.\n",
    "\n",
    "Поля таблиц `sessions_project_history.csv`, `sessions_project_test.csv`, `sessions_project_test_part.csv`:\n",
    "\n",
    "- `user_id` — идентификатор пользователя;\n",
    "\n",
    "- `session_id` — идентификатор сессии в приложении;\n",
    "\n",
    "- `session_date` — дата сессии;\n",
    "\n",
    "- `session_start_ts` — дата и время начала сессии;\n",
    "\n",
    "- `install_date` — дата установки приложения;\n",
    "\n",
    "- `session_number` — порядковый номер сессии для конкретного пользователя;\n",
    "\n",
    "- `registration_flag` — является ли пользователь зарегистрированным;\n",
    "\n",
    "- `page_counter` — количество просмотренных страниц во время сессии;\n",
    "\n",
    "- `region` — регион пользователя;\n",
    "\n",
    "- `device` — тип устройства пользователя;\n",
    "\n",
    "- `test_group` — тестовая группа (в таблице с историческими данными этого столбца нет).\n",
    "\n",
    "\n",
    "## Что нужно сделать\n",
    "Ваши задачи: рассчитать параметры теста, оценить корректность его проведения и проанализировать результаты эксперимента."
   ]
  },
  {
   "cell_type": "markdown",
   "metadata": {
    "id": "UpOucjID0eMl"
   },
   "source": [
    "### 1. Работа с историческими данными (EDA)"
   ]
  },
  {
   "cell_type": "markdown",
   "metadata": {
    "id": "8iJMtL-30eMl"
   },
   "source": [
    "#### 1.1. Загрузка исторических данных\n",
    "На первом этапе поработайте с историческими данными приложения:\n",
    "\n",
    "- Импортируйте библиотеку pandas.\n",
    "\n",
    "- Считайте и сохраните в датафрейм `sessions_history` CSV-файл с историческими данными о сессиях пользователей `sessions_project_history.csv`.\n",
    "\n",
    "Выведите на экран первые пять строк полученного датафрейма."
   ]
  },
  {
   "cell_type": "code",
   "execution_count": 1,
   "metadata": {
    "id": "6TPR2-1RPboT"
   },
   "outputs": [],
   "source": [
    "import pandas as pd"
   ]
  },
  {
   "cell_type": "code",
   "execution_count": 2,
   "metadata": {},
   "outputs": [
    {
     "data": {
      "text/html": [
       "<div>\n",
       "<style scoped>\n",
       "    .dataframe tbody tr th:only-of-type {\n",
       "        vertical-align: middle;\n",
       "    }\n",
       "\n",
       "    .dataframe tbody tr th {\n",
       "        vertical-align: top;\n",
       "    }\n",
       "\n",
       "    .dataframe thead th {\n",
       "        text-align: right;\n",
       "    }\n",
       "</style>\n",
       "<table border=\"1\" class=\"dataframe\">\n",
       "  <thead>\n",
       "    <tr style=\"text-align: right;\">\n",
       "      <th></th>\n",
       "      <th>user_id</th>\n",
       "      <th>session_id</th>\n",
       "      <th>session_date</th>\n",
       "      <th>session_start_ts</th>\n",
       "      <th>install_date</th>\n",
       "      <th>session_number</th>\n",
       "      <th>registration_flag</th>\n",
       "      <th>page_counter</th>\n",
       "      <th>region</th>\n",
       "      <th>device</th>\n",
       "    </tr>\n",
       "  </thead>\n",
       "  <tbody>\n",
       "    <tr>\n",
       "      <th>0</th>\n",
       "      <td>E302123B7000BFE4</td>\n",
       "      <td>F9AF61A0C2023832</td>\n",
       "      <td>2025-08-15</td>\n",
       "      <td>2025-08-15 17:47:35</td>\n",
       "      <td>2025-08-15</td>\n",
       "      <td>1</td>\n",
       "      <td>0</td>\n",
       "      <td>3</td>\n",
       "      <td>CIS</td>\n",
       "      <td>iPhone</td>\n",
       "    </tr>\n",
       "    <tr>\n",
       "      <th>1</th>\n",
       "      <td>2530F72E221829FB</td>\n",
       "      <td>85003A206CBDAC6F</td>\n",
       "      <td>2025-08-15</td>\n",
       "      <td>2025-08-15 16:42:14</td>\n",
       "      <td>2025-08-15</td>\n",
       "      <td>1</td>\n",
       "      <td>0</td>\n",
       "      <td>4</td>\n",
       "      <td>MENA</td>\n",
       "      <td>Android</td>\n",
       "    </tr>\n",
       "    <tr>\n",
       "      <th>2</th>\n",
       "      <td>876E020A4FC512F5</td>\n",
       "      <td>3677423E49D72DEE</td>\n",
       "      <td>2025-08-15</td>\n",
       "      <td>2025-08-15 12:30:00</td>\n",
       "      <td>2025-08-15</td>\n",
       "      <td>1</td>\n",
       "      <td>0</td>\n",
       "      <td>4</td>\n",
       "      <td>EU</td>\n",
       "      <td>PC</td>\n",
       "    </tr>\n",
       "    <tr>\n",
       "      <th>3</th>\n",
       "      <td>2640B349E1D81584</td>\n",
       "      <td>956B45F5915CA225</td>\n",
       "      <td>2025-08-15</td>\n",
       "      <td>2025-08-15 15:31:31</td>\n",
       "      <td>2025-08-15</td>\n",
       "      <td>1</td>\n",
       "      <td>0</td>\n",
       "      <td>4</td>\n",
       "      <td>CIS</td>\n",
       "      <td>Android</td>\n",
       "    </tr>\n",
       "    <tr>\n",
       "      <th>4</th>\n",
       "      <td>94E1CBFAEF1F5EE9</td>\n",
       "      <td>83BF0DA35F9F1F40</td>\n",
       "      <td>2025-08-15</td>\n",
       "      <td>2025-08-15 21:33:53</td>\n",
       "      <td>2025-08-15</td>\n",
       "      <td>1</td>\n",
       "      <td>0</td>\n",
       "      <td>3</td>\n",
       "      <td>CIS</td>\n",
       "      <td>Android</td>\n",
       "    </tr>\n",
       "  </tbody>\n",
       "</table>\n",
       "</div>"
      ],
      "text/plain": [
       "            user_id        session_id session_date     session_start_ts  \\\n",
       "0  E302123B7000BFE4  F9AF61A0C2023832   2025-08-15  2025-08-15 17:47:35   \n",
       "1  2530F72E221829FB  85003A206CBDAC6F   2025-08-15  2025-08-15 16:42:14   \n",
       "2  876E020A4FC512F5  3677423E49D72DEE   2025-08-15  2025-08-15 12:30:00   \n",
       "3  2640B349E1D81584  956B45F5915CA225   2025-08-15  2025-08-15 15:31:31   \n",
       "4  94E1CBFAEF1F5EE9  83BF0DA35F9F1F40   2025-08-15  2025-08-15 21:33:53   \n",
       "\n",
       "  install_date  session_number  registration_flag  page_counter region  \\\n",
       "0   2025-08-15               1                  0             3    CIS   \n",
       "1   2025-08-15               1                  0             4   MENA   \n",
       "2   2025-08-15               1                  0             4     EU   \n",
       "3   2025-08-15               1                  0             4    CIS   \n",
       "4   2025-08-15               1                  0             3    CIS   \n",
       "\n",
       "    device  \n",
       "0   iPhone  \n",
       "1  Android  \n",
       "2       PC  \n",
       "3  Android  \n",
       "4  Android  "
      ]
     },
     "execution_count": 2,
     "metadata": {},
     "output_type": "execute_result"
    }
   ],
   "source": [
    "sessions_history = pd.read_csv('sessions_project_history.csv')\n",
    "sessions_history.head()"
   ]
  },
  {
   "cell_type": "code",
   "execution_count": 3,
   "metadata": {},
   "outputs": [
    {
     "name": "stdout",
     "output_type": "stream",
     "text": [
      "<class 'pandas.core.frame.DataFrame'>\n",
      "RangeIndex: 435924 entries, 0 to 435923\n",
      "Data columns (total 10 columns):\n",
      " #   Column             Non-Null Count   Dtype \n",
      "---  ------             --------------   ----- \n",
      " 0   user_id            435924 non-null  object\n",
      " 1   session_id         435924 non-null  object\n",
      " 2   session_date       435924 non-null  object\n",
      " 3   session_start_ts   435924 non-null  object\n",
      " 4   install_date       435924 non-null  object\n",
      " 5   session_number     435924 non-null  int64 \n",
      " 6   registration_flag  435924 non-null  int64 \n",
      " 7   page_counter       435924 non-null  int64 \n",
      " 8   region             435924 non-null  object\n",
      " 9   device             435924 non-null  object\n",
      "dtypes: int64(3), object(7)\n",
      "memory usage: 33.3+ MB\n"
     ]
    }
   ],
   "source": [
    "sessions_history.info()"
   ]
  },
  {
   "cell_type": "markdown",
   "metadata": {},
   "source": [
    "В данных нет пропусков, в дальнейшем шаг их обработки можно пропустить.  \n",
    "Некоторые поля содержат информацию, для которой необходимо сменить тип данных, например: данные о дате и времени (`session_date`, `session_start_ts`, `install_date`) и др."
   ]
  },
  {
   "cell_type": "markdown",
   "metadata": {
    "id": "qTDoiODz0eMo"
   },
   "source": [
    "#### 1.2. Знакомство с данными\n",
    "- Для каждого уникального пользователя `user_id` рассчитайте количество уникальных сессий `session_id`.\n",
    "\n",
    "- Выведите на экран все данные из таблицы `sessions_history` для одного пользователя с наибольшим количеством сессий. Если таких пользователей несколько, выберите любого из них.\n",
    "\n",
    "- Изучите таблицу для одного пользователя, чтобы лучше понять логику формирования каждого столбца данных.\n",
    "\n"
   ]
  },
  {
   "cell_type": "code",
   "execution_count": 4,
   "metadata": {
    "id": "PWZO9vTIPbPN"
   },
   "outputs": [
    {
     "data": {
      "text/plain": [
       "user_id\n",
       "10E0DEFC1ABDBBE0    10\n",
       "6A73CB5566BB494D    10\n",
       "8A60431A825D035B     9\n",
       "D11541BAC141FB94     9\n",
       "5BCFE7C4DCC148E9     9\n",
       "                    ..\n",
       "1DF13BB1953B3497     1\n",
       "628502A3CE7E0A3C     1\n",
       "1DEEF40DEFBD0C65     1\n",
       "AC08479B7472C628     1\n",
       "8A0882B6715D9EE5     1\n",
       "Name: session_id, Length: 134039, dtype: int64"
      ]
     },
     "execution_count": 4,
     "metadata": {},
     "output_type": "execute_result"
    }
   ],
   "source": [
    "sessions_history.groupby('user_id')['session_id'].count().sort_values(ascending = False)"
   ]
  },
  {
   "cell_type": "markdown",
   "metadata": {},
   "source": [
    "Результат демонстрирует, что у всех пользователей количество сессий варируется  от 1 до 10"
   ]
  },
  {
   "cell_type": "code",
   "execution_count": 5,
   "metadata": {},
   "outputs": [
    {
     "data": {
      "text/html": [
       "<div>\n",
       "<style scoped>\n",
       "    .dataframe tbody tr th:only-of-type {\n",
       "        vertical-align: middle;\n",
       "    }\n",
       "\n",
       "    .dataframe tbody tr th {\n",
       "        vertical-align: top;\n",
       "    }\n",
       "\n",
       "    .dataframe thead th {\n",
       "        text-align: right;\n",
       "    }\n",
       "</style>\n",
       "<table border=\"1\" class=\"dataframe\">\n",
       "  <thead>\n",
       "    <tr style=\"text-align: right;\">\n",
       "      <th></th>\n",
       "      <th>user_id</th>\n",
       "      <th>session_id</th>\n",
       "      <th>session_date</th>\n",
       "      <th>session_start_ts</th>\n",
       "      <th>install_date</th>\n",
       "      <th>session_number</th>\n",
       "      <th>registration_flag</th>\n",
       "      <th>page_counter</th>\n",
       "      <th>region</th>\n",
       "      <th>device</th>\n",
       "    </tr>\n",
       "  </thead>\n",
       "  <tbody>\n",
       "    <tr>\n",
       "      <th>115558</th>\n",
       "      <td>10E0DEFC1ABDBBE0</td>\n",
       "      <td>B8F0423BBFFCF5DC</td>\n",
       "      <td>2025-08-14</td>\n",
       "      <td>2025-08-14 13:57:39</td>\n",
       "      <td>2025-08-14</td>\n",
       "      <td>1</td>\n",
       "      <td>0</td>\n",
       "      <td>4</td>\n",
       "      <td>CIS</td>\n",
       "      <td>Android</td>\n",
       "    </tr>\n",
       "    <tr>\n",
       "      <th>191751</th>\n",
       "      <td>10E0DEFC1ABDBBE0</td>\n",
       "      <td>87CA2FA549473837</td>\n",
       "      <td>2025-08-15</td>\n",
       "      <td>2025-08-15 16:42:10</td>\n",
       "      <td>2025-08-14</td>\n",
       "      <td>2</td>\n",
       "      <td>0</td>\n",
       "      <td>3</td>\n",
       "      <td>CIS</td>\n",
       "      <td>Android</td>\n",
       "    </tr>\n",
       "    <tr>\n",
       "      <th>239370</th>\n",
       "      <td>10E0DEFC1ABDBBE0</td>\n",
       "      <td>4ADD8011DCDCE318</td>\n",
       "      <td>2025-08-16</td>\n",
       "      <td>2025-08-16 19:53:21</td>\n",
       "      <td>2025-08-14</td>\n",
       "      <td>3</td>\n",
       "      <td>0</td>\n",
       "      <td>3</td>\n",
       "      <td>CIS</td>\n",
       "      <td>Android</td>\n",
       "    </tr>\n",
       "    <tr>\n",
       "      <th>274629</th>\n",
       "      <td>10E0DEFC1ABDBBE0</td>\n",
       "      <td>DF0FD0E09BF1F3D7</td>\n",
       "      <td>2025-08-17</td>\n",
       "      <td>2025-08-17 15:03:43</td>\n",
       "      <td>2025-08-14</td>\n",
       "      <td>4</td>\n",
       "      <td>0</td>\n",
       "      <td>1</td>\n",
       "      <td>CIS</td>\n",
       "      <td>Android</td>\n",
       "    </tr>\n",
       "    <tr>\n",
       "      <th>302501</th>\n",
       "      <td>10E0DEFC1ABDBBE0</td>\n",
       "      <td>3C221774B4DE6885</td>\n",
       "      <td>2025-08-18</td>\n",
       "      <td>2025-08-18 17:29:14</td>\n",
       "      <td>2025-08-14</td>\n",
       "      <td>5</td>\n",
       "      <td>0</td>\n",
       "      <td>4</td>\n",
       "      <td>CIS</td>\n",
       "      <td>Android</td>\n",
       "    </tr>\n",
       "    <tr>\n",
       "      <th>325557</th>\n",
       "      <td>10E0DEFC1ABDBBE0</td>\n",
       "      <td>031BD7A67048105B</td>\n",
       "      <td>2025-08-19</td>\n",
       "      <td>2025-08-19 13:23:55</td>\n",
       "      <td>2025-08-14</td>\n",
       "      <td>6</td>\n",
       "      <td>0</td>\n",
       "      <td>2</td>\n",
       "      <td>CIS</td>\n",
       "      <td>Android</td>\n",
       "    </tr>\n",
       "    <tr>\n",
       "      <th>345336</th>\n",
       "      <td>10E0DEFC1ABDBBE0</td>\n",
       "      <td>FF4315CF4AD4B100</td>\n",
       "      <td>2025-08-20</td>\n",
       "      <td>2025-08-20 19:31:54</td>\n",
       "      <td>2025-08-14</td>\n",
       "      <td>7</td>\n",
       "      <td>0</td>\n",
       "      <td>2</td>\n",
       "      <td>CIS</td>\n",
       "      <td>Android</td>\n",
       "    </tr>\n",
       "    <tr>\n",
       "      <th>377532</th>\n",
       "      <td>10E0DEFC1ABDBBE0</td>\n",
       "      <td>4045FEA0747203B4</td>\n",
       "      <td>2025-08-22</td>\n",
       "      <td>2025-08-22 17:54:13</td>\n",
       "      <td>2025-08-14</td>\n",
       "      <td>8</td>\n",
       "      <td>0</td>\n",
       "      <td>2</td>\n",
       "      <td>CIS</td>\n",
       "      <td>Android</td>\n",
       "    </tr>\n",
       "    <tr>\n",
       "      <th>403538</th>\n",
       "      <td>10E0DEFC1ABDBBE0</td>\n",
       "      <td>344B086C421C7F37</td>\n",
       "      <td>2025-08-24</td>\n",
       "      <td>2025-08-24 14:46:13</td>\n",
       "      <td>2025-08-14</td>\n",
       "      <td>9</td>\n",
       "      <td>0</td>\n",
       "      <td>2</td>\n",
       "      <td>CIS</td>\n",
       "      <td>Android</td>\n",
       "    </tr>\n",
       "    <tr>\n",
       "      <th>414743</th>\n",
       "      <td>10E0DEFC1ABDBBE0</td>\n",
       "      <td>054F20BA371E4C9D</td>\n",
       "      <td>2025-08-25</td>\n",
       "      <td>2025-08-25 18:36:41</td>\n",
       "      <td>2025-08-14</td>\n",
       "      <td>10</td>\n",
       "      <td>0</td>\n",
       "      <td>3</td>\n",
       "      <td>CIS</td>\n",
       "      <td>Android</td>\n",
       "    </tr>\n",
       "  </tbody>\n",
       "</table>\n",
       "</div>"
      ],
      "text/plain": [
       "                 user_id        session_id session_date     session_start_ts  \\\n",
       "115558  10E0DEFC1ABDBBE0  B8F0423BBFFCF5DC   2025-08-14  2025-08-14 13:57:39   \n",
       "191751  10E0DEFC1ABDBBE0  87CA2FA549473837   2025-08-15  2025-08-15 16:42:10   \n",
       "239370  10E0DEFC1ABDBBE0  4ADD8011DCDCE318   2025-08-16  2025-08-16 19:53:21   \n",
       "274629  10E0DEFC1ABDBBE0  DF0FD0E09BF1F3D7   2025-08-17  2025-08-17 15:03:43   \n",
       "302501  10E0DEFC1ABDBBE0  3C221774B4DE6885   2025-08-18  2025-08-18 17:29:14   \n",
       "325557  10E0DEFC1ABDBBE0  031BD7A67048105B   2025-08-19  2025-08-19 13:23:55   \n",
       "345336  10E0DEFC1ABDBBE0  FF4315CF4AD4B100   2025-08-20  2025-08-20 19:31:54   \n",
       "377532  10E0DEFC1ABDBBE0  4045FEA0747203B4   2025-08-22  2025-08-22 17:54:13   \n",
       "403538  10E0DEFC1ABDBBE0  344B086C421C7F37   2025-08-24  2025-08-24 14:46:13   \n",
       "414743  10E0DEFC1ABDBBE0  054F20BA371E4C9D   2025-08-25  2025-08-25 18:36:41   \n",
       "\n",
       "       install_date  session_number  registration_flag  page_counter region  \\\n",
       "115558   2025-08-14               1                  0             4    CIS   \n",
       "191751   2025-08-14               2                  0             3    CIS   \n",
       "239370   2025-08-14               3                  0             3    CIS   \n",
       "274629   2025-08-14               4                  0             1    CIS   \n",
       "302501   2025-08-14               5                  0             4    CIS   \n",
       "325557   2025-08-14               6                  0             2    CIS   \n",
       "345336   2025-08-14               7                  0             2    CIS   \n",
       "377532   2025-08-14               8                  0             2    CIS   \n",
       "403538   2025-08-14               9                  0             2    CIS   \n",
       "414743   2025-08-14              10                  0             3    CIS   \n",
       "\n",
       "         device  \n",
       "115558  Android  \n",
       "191751  Android  \n",
       "239370  Android  \n",
       "274629  Android  \n",
       "302501  Android  \n",
       "325557  Android  \n",
       "345336  Android  \n",
       "377532  Android  \n",
       "403538  Android  \n",
       "414743  Android  "
      ]
     },
     "execution_count": 5,
     "metadata": {},
     "output_type": "execute_result"
    }
   ],
   "source": [
    "sessions_history[sessions_history['user_id'] == '10E0DEFC1ABDBBE0']"
   ]
  },
  {
   "cell_type": "markdown",
   "metadata": {},
   "source": [
    "В разрезе одного пользователя с большим количеством сессий заметно как именно формируютсяя данные в рамках таблицы. Неизменныными в рамках всех записей остается id пользователя, дата установки, регион и тип устройства. Также неизменно и поле регистрации, вероятнее всего при регистрации в поле буде указана единица. Поле `session_number` автоматически заполняется упорядочено в зависимости от ее очередности для данного пользователя отсортированной по дате. Дата сессии также заполняется автоматически от поле дата и время старта сессии."
   ]
  },
  {
   "cell_type": "markdown",
   "metadata": {
    "id": "CmcGpJTP0eMq"
   },
   "source": [
    "#### 1.3. Анализ числа регистраций\n",
    "Одна из важнейших метрик продукта — число зарегистрированных пользователей. Используя исторические данные, визуализируйте, как менялось число регистраций в приложении за время его существования.\n",
    "\n",
    "- Агрегируйте исторические данные и рассчитайте число уникальных пользователей и число зарегистрированных пользователей для каждого дня наблюдения. Для простоты считайте, что у пользователя в течение дня бывает одна сессия максимум и статус регистрации в течение одного дня не может измениться.\n",
    "\n",
    "- Постройте линейные графики общего числа пользователей и общего числа зарегистрированных пользователей по дням. Отобразите их на одном графике.\n",
    "\n",
    "- Постройте отдельный линейный график доли зарегистрированных пользователей от всех пользователей по дням.\n",
    "\n",
    "- На обоих графиках должны быть заголовок, подписанные оси X и Y, сетка и легенда."
   ]
  },
  {
   "cell_type": "code",
   "execution_count": 6,
   "metadata": {
    "id": "tN_6Ml3EPatS"
   },
   "outputs": [],
   "source": [
    "#Преобразем поле с датами и временем, перед началом работы в этом разделе\n",
    "sessions_history['session_date'] = pd.to_datetime(sessions_history['session_date'])\n",
    "sessions_history['session_start_ts'] = pd.to_datetime(sessions_history['session_start_ts'])\n",
    "sessions_history['install_date'] = pd.to_datetime(sessions_history['install_date'])"
   ]
  },
  {
   "cell_type": "code",
   "execution_count": 7,
   "metadata": {
    "scrolled": true
   },
   "outputs": [
    {
     "data": {
      "text/html": [
       "<div>\n",
       "<style scoped>\n",
       "    .dataframe tbody tr th:only-of-type {\n",
       "        vertical-align: middle;\n",
       "    }\n",
       "\n",
       "    .dataframe tbody tr th {\n",
       "        vertical-align: top;\n",
       "    }\n",
       "\n",
       "    .dataframe thead th {\n",
       "        text-align: right;\n",
       "    }\n",
       "</style>\n",
       "<table border=\"1\" class=\"dataframe\">\n",
       "  <thead>\n",
       "    <tr style=\"text-align: right;\">\n",
       "      <th></th>\n",
       "      <th>session_date</th>\n",
       "      <th>user_id</th>\n",
       "      <th>registration_flag</th>\n",
       "    </tr>\n",
       "  </thead>\n",
       "  <tbody>\n",
       "    <tr>\n",
       "      <th>0</th>\n",
       "      <td>2025-08-11</td>\n",
       "      <td>3919</td>\n",
       "      <td>169</td>\n",
       "    </tr>\n",
       "    <tr>\n",
       "      <th>1</th>\n",
       "      <td>2025-08-12</td>\n",
       "      <td>6056</td>\n",
       "      <td>336</td>\n",
       "    </tr>\n",
       "    <tr>\n",
       "      <th>2</th>\n",
       "      <td>2025-08-13</td>\n",
       "      <td>8489</td>\n",
       "      <td>464</td>\n",
       "    </tr>\n",
       "    <tr>\n",
       "      <th>3</th>\n",
       "      <td>2025-08-14</td>\n",
       "      <td>10321</td>\n",
       "      <td>625</td>\n",
       "    </tr>\n",
       "    <tr>\n",
       "      <th>4</th>\n",
       "      <td>2025-08-15</td>\n",
       "      <td>14065</td>\n",
       "      <td>840</td>\n",
       "    </tr>\n",
       "    <tr>\n",
       "      <th>5</th>\n",
       "      <td>2025-08-16</td>\n",
       "      <td>12205</td>\n",
       "      <td>916</td>\n",
       "    </tr>\n",
       "    <tr>\n",
       "      <th>6</th>\n",
       "      <td>2025-08-17</td>\n",
       "      <td>11200</td>\n",
       "      <td>833</td>\n",
       "    </tr>\n",
       "    <tr>\n",
       "      <th>7</th>\n",
       "      <td>2025-08-18</td>\n",
       "      <td>10839</td>\n",
       "      <td>860</td>\n",
       "    </tr>\n",
       "    <tr>\n",
       "      <th>8</th>\n",
       "      <td>2025-08-19</td>\n",
       "      <td>12118</td>\n",
       "      <td>831</td>\n",
       "    </tr>\n",
       "    <tr>\n",
       "      <th>9</th>\n",
       "      <td>2025-08-20</td>\n",
       "      <td>13514</td>\n",
       "      <td>1008</td>\n",
       "    </tr>\n",
       "    <tr>\n",
       "      <th>10</th>\n",
       "      <td>2025-08-21</td>\n",
       "      <td>15051</td>\n",
       "      <td>1063</td>\n",
       "    </tr>\n",
       "    <tr>\n",
       "      <th>11</th>\n",
       "      <td>2025-08-22</td>\n",
       "      <td>17563</td>\n",
       "      <td>1251</td>\n",
       "    </tr>\n",
       "    <tr>\n",
       "      <th>12</th>\n",
       "      <td>2025-08-23</td>\n",
       "      <td>16082</td>\n",
       "      <td>1253</td>\n",
       "    </tr>\n",
       "    <tr>\n",
       "      <th>13</th>\n",
       "      <td>2025-08-24</td>\n",
       "      <td>13683</td>\n",
       "      <td>1181</td>\n",
       "    </tr>\n",
       "    <tr>\n",
       "      <th>14</th>\n",
       "      <td>2025-08-25</td>\n",
       "      <td>13635</td>\n",
       "      <td>1060</td>\n",
       "    </tr>\n",
       "    <tr>\n",
       "      <th>15</th>\n",
       "      <td>2025-08-26</td>\n",
       "      <td>13289</td>\n",
       "      <td>1050</td>\n",
       "    </tr>\n",
       "    <tr>\n",
       "      <th>16</th>\n",
       "      <td>2025-08-27</td>\n",
       "      <td>14766</td>\n",
       "      <td>1076</td>\n",
       "    </tr>\n",
       "    <tr>\n",
       "      <th>17</th>\n",
       "      <td>2025-08-28</td>\n",
       "      <td>15388</td>\n",
       "      <td>1175</td>\n",
       "    </tr>\n",
       "    <tr>\n",
       "      <th>18</th>\n",
       "      <td>2025-08-29</td>\n",
       "      <td>16873</td>\n",
       "      <td>1174</td>\n",
       "    </tr>\n",
       "    <tr>\n",
       "      <th>19</th>\n",
       "      <td>2025-08-30</td>\n",
       "      <td>14891</td>\n",
       "      <td>1165</td>\n",
       "    </tr>\n",
       "    <tr>\n",
       "      <th>20</th>\n",
       "      <td>2025-08-31</td>\n",
       "      <td>13266</td>\n",
       "      <td>1105</td>\n",
       "    </tr>\n",
       "    <tr>\n",
       "      <th>21</th>\n",
       "      <td>2025-09-01</td>\n",
       "      <td>12685</td>\n",
       "      <td>1028</td>\n",
       "    </tr>\n",
       "    <tr>\n",
       "      <th>22</th>\n",
       "      <td>2025-09-02</td>\n",
       "      <td>12672</td>\n",
       "      <td>1039</td>\n",
       "    </tr>\n",
       "    <tr>\n",
       "      <th>23</th>\n",
       "      <td>2025-09-03</td>\n",
       "      <td>12777</td>\n",
       "      <td>1035</td>\n",
       "    </tr>\n",
       "    <tr>\n",
       "      <th>24</th>\n",
       "      <td>2025-09-04</td>\n",
       "      <td>13683</td>\n",
       "      <td>1007</td>\n",
       "    </tr>\n",
       "    <tr>\n",
       "      <th>25</th>\n",
       "      <td>2025-09-05</td>\n",
       "      <td>15324</td>\n",
       "      <td>1030</td>\n",
       "    </tr>\n",
       "    <tr>\n",
       "      <th>26</th>\n",
       "      <td>2025-09-06</td>\n",
       "      <td>13078</td>\n",
       "      <td>1023</td>\n",
       "    </tr>\n",
       "    <tr>\n",
       "      <th>27</th>\n",
       "      <td>2025-09-07</td>\n",
       "      <td>12367</td>\n",
       "      <td>1069</td>\n",
       "    </tr>\n",
       "    <tr>\n",
       "      <th>28</th>\n",
       "      <td>2025-09-08</td>\n",
       "      <td>11826</td>\n",
       "      <td>1009</td>\n",
       "    </tr>\n",
       "    <tr>\n",
       "      <th>29</th>\n",
       "      <td>2025-09-09</td>\n",
       "      <td>11780</td>\n",
       "      <td>980</td>\n",
       "    </tr>\n",
       "    <tr>\n",
       "      <th>30</th>\n",
       "      <td>2025-09-10</td>\n",
       "      <td>12526</td>\n",
       "      <td>1015</td>\n",
       "    </tr>\n",
       "    <tr>\n",
       "      <th>31</th>\n",
       "      <td>2025-09-11</td>\n",
       "      <td>8623</td>\n",
       "      <td>824</td>\n",
       "    </tr>\n",
       "    <tr>\n",
       "      <th>32</th>\n",
       "      <td>2025-09-12</td>\n",
       "      <td>6436</td>\n",
       "      <td>669</td>\n",
       "    </tr>\n",
       "    <tr>\n",
       "      <th>33</th>\n",
       "      <td>2025-09-13</td>\n",
       "      <td>5183</td>\n",
       "      <td>537</td>\n",
       "    </tr>\n",
       "    <tr>\n",
       "      <th>34</th>\n",
       "      <td>2025-09-14</td>\n",
       "      <td>4364</td>\n",
       "      <td>440</td>\n",
       "    </tr>\n",
       "    <tr>\n",
       "      <th>35</th>\n",
       "      <td>2025-09-15</td>\n",
       "      <td>3698</td>\n",
       "      <td>383</td>\n",
       "    </tr>\n",
       "    <tr>\n",
       "      <th>36</th>\n",
       "      <td>2025-09-16</td>\n",
       "      <td>3032</td>\n",
       "      <td>286</td>\n",
       "    </tr>\n",
       "    <tr>\n",
       "      <th>37</th>\n",
       "      <td>2025-09-17</td>\n",
       "      <td>2548</td>\n",
       "      <td>272</td>\n",
       "    </tr>\n",
       "    <tr>\n",
       "      <th>38</th>\n",
       "      <td>2025-09-18</td>\n",
       "      <td>1952</td>\n",
       "      <td>201</td>\n",
       "    </tr>\n",
       "    <tr>\n",
       "      <th>39</th>\n",
       "      <td>2025-09-19</td>\n",
       "      <td>1418</td>\n",
       "      <td>132</td>\n",
       "    </tr>\n",
       "    <tr>\n",
       "      <th>40</th>\n",
       "      <td>2025-09-20</td>\n",
       "      <td>1100</td>\n",
       "      <td>107</td>\n",
       "    </tr>\n",
       "    <tr>\n",
       "      <th>41</th>\n",
       "      <td>2025-09-21</td>\n",
       "      <td>776</td>\n",
       "      <td>87</td>\n",
       "    </tr>\n",
       "    <tr>\n",
       "      <th>42</th>\n",
       "      <td>2025-09-22</td>\n",
       "      <td>546</td>\n",
       "      <td>68</td>\n",
       "    </tr>\n",
       "    <tr>\n",
       "      <th>43</th>\n",
       "      <td>2025-09-23</td>\n",
       "      <td>317</td>\n",
       "      <td>32</td>\n",
       "    </tr>\n",
       "  </tbody>\n",
       "</table>\n",
       "</div>"
      ],
      "text/plain": [
       "   session_date  user_id  registration_flag\n",
       "0    2025-08-11     3919                169\n",
       "1    2025-08-12     6056                336\n",
       "2    2025-08-13     8489                464\n",
       "3    2025-08-14    10321                625\n",
       "4    2025-08-15    14065                840\n",
       "5    2025-08-16    12205                916\n",
       "6    2025-08-17    11200                833\n",
       "7    2025-08-18    10839                860\n",
       "8    2025-08-19    12118                831\n",
       "9    2025-08-20    13514               1008\n",
       "10   2025-08-21    15051               1063\n",
       "11   2025-08-22    17563               1251\n",
       "12   2025-08-23    16082               1253\n",
       "13   2025-08-24    13683               1181\n",
       "14   2025-08-25    13635               1060\n",
       "15   2025-08-26    13289               1050\n",
       "16   2025-08-27    14766               1076\n",
       "17   2025-08-28    15388               1175\n",
       "18   2025-08-29    16873               1174\n",
       "19   2025-08-30    14891               1165\n",
       "20   2025-08-31    13266               1105\n",
       "21   2025-09-01    12685               1028\n",
       "22   2025-09-02    12672               1039\n",
       "23   2025-09-03    12777               1035\n",
       "24   2025-09-04    13683               1007\n",
       "25   2025-09-05    15324               1030\n",
       "26   2025-09-06    13078               1023\n",
       "27   2025-09-07    12367               1069\n",
       "28   2025-09-08    11826               1009\n",
       "29   2025-09-09    11780                980\n",
       "30   2025-09-10    12526               1015\n",
       "31   2025-09-11     8623                824\n",
       "32   2025-09-12     6436                669\n",
       "33   2025-09-13     5183                537\n",
       "34   2025-09-14     4364                440\n",
       "35   2025-09-15     3698                383\n",
       "36   2025-09-16     3032                286\n",
       "37   2025-09-17     2548                272\n",
       "38   2025-09-18     1952                201\n",
       "39   2025-09-19     1418                132\n",
       "40   2025-09-20     1100                107\n",
       "41   2025-09-21      776                 87\n",
       "42   2025-09-22      546                 68\n",
       "43   2025-09-23      317                 32"
      ]
     },
     "metadata": {},
     "output_type": "display_data"
    }
   ],
   "source": [
    "sessions_history_agg = sessions_history.groupby('session_date').agg({'user_id':'count', 'registration_flag':'sum'}).reset_index()\n",
    "display(sessions_history_agg)"
   ]
  },
  {
   "cell_type": "code",
   "execution_count": 8,
   "metadata": {},
   "outputs": [],
   "source": [
    "#Подключим библиотеку для визуализации графиков\n",
    "import matplotlib.pyplot as plt"
   ]
  },
  {
   "cell_type": "code",
   "execution_count": 9,
   "metadata": {},
   "outputs": [
    {
     "data": {
      "image/png": "[encoded data removed]",
      "text/plain": [
       "<Figure size 1440x720 with 1 Axes>"
      ]
     },
     "metadata": {
      "needs_background": "light"
     },
     "output_type": "display_data"
    }
   ],
   "source": [
    "x = sessions_history_agg.session_date.unique()\n",
    "y_a = sessions_history_agg.user_id\n",
    "y_b = sessions_history_agg.registration_flag\n",
    "\n",
    "plt.figure(figsize=(20, 10))\n",
    "plt.plot(x, y_a, label ='Общее количество пользователей')\n",
    "plt.plot(x, y_b, label ='Зарегистрированные пользователи')\n",
    "\n",
    "plt.xlabel(\"Дата\")\n",
    "plt.ylabel(\"Количество уникальных юзеров\")\n",
    "plt.legend()\n",
    "plt.grid()\n",
    "plt.title('Сравнение количества пользователей по дням')\n",
    "plt.show()"
   ]
  },
  {
   "cell_type": "code",
   "execution_count": 10,
   "metadata": {},
   "outputs": [
    {
     "data": {
      "image/png": "[encoded data removed]",
      "text/plain": [
       "<Figure size 1440x720 with 1 Axes>"
      ]
     },
     "metadata": {
      "needs_background": "light"
     },
     "output_type": "display_data"
    }
   ],
   "source": [
    "x = sessions_history_agg.session_date.unique()\n",
    "y = sessions_history_agg.registration_flag / sessions_history_agg.user_id * 100 \n",
    "\n",
    "plt.figure(figsize=(20, 10))\n",
    "plt.plot(x, y, label ='Доля зарегистрированных пользователей')\n",
    "\n",
    "\n",
    "plt.xlabel(\"Дата\")\n",
    "plt.ylabel(\"Доля, %\")\n",
    "plt.legend()\n",
    "plt.grid()\n",
    "plt.title('Доля зарегистрированных пользователей от всех пользователей')\n",
    "plt.show()"
   ]
  },
  {
   "cell_type": "markdown",
   "metadata": {},
   "source": [
    "На графиках видно, что количество зарегистрированных пользователей составляет малую часть от общего количества пользователей приложения. Однако, **доля зарегистрированных пользователей имеет тенденцию на увеличение**. В целом в данных заметно наличие пиковых дней, когда количество пользователей максмально в период, возможно в данных присуствует сезонность (например: на выходных просмотров может быть больше). Также с 10 сентября количество пользоваетелей ежедневно уменьшалось, возможно с приложением что-то произошло (например: произошло обновление, из-за которого стало неудобно им пользоваеться)."
   ]
  },
  {
   "cell_type": "markdown",
   "metadata": {
    "id": "UR7D7RhF0eMr"
   },
   "source": [
    "#### 1.4. Анализ числа просмотренных страниц\n",
    "Другая важная метрика продукта — число просмотренных страниц в приложении. Чем больше страниц просмотрено, тем сильнее пользователь увлечён контентом, а значит, выше шансы на то, что он зарегистрируется и оплатит подписку.\n",
    "\n",
    "- Найдите количество сессий для каждого значения количества просмотренных страниц. Например: одну страницу просмотрели в 29160 сессиях, две страницы в 105536 сессиях и так далее.\n",
    "\n",
    "- Постройте столбчатую диаграмму, где по оси X будет число просмотренных страниц, по оси Y — количество сессий.\n",
    "\n",
    "- На диаграмме должны быть заголовок, подписанные оси X и Y."
   ]
  },
  {
   "cell_type": "code",
   "execution_count": 11,
   "metadata": {
    "id": "cb6hPlVzPaSf"
   },
   "outputs": [
    {
     "data": {
      "text/html": [
       "<div>\n",
       "<style scoped>\n",
       "    .dataframe tbody tr th:only-of-type {\n",
       "        vertical-align: middle;\n",
       "    }\n",
       "\n",
       "    .dataframe tbody tr th {\n",
       "        vertical-align: top;\n",
       "    }\n",
       "\n",
       "    .dataframe thead th {\n",
       "        text-align: right;\n",
       "    }\n",
       "</style>\n",
       "<table border=\"1\" class=\"dataframe\">\n",
       "  <thead>\n",
       "    <tr style=\"text-align: right;\">\n",
       "      <th></th>\n",
       "      <th>index</th>\n",
       "      <th>page_counter</th>\n",
       "    </tr>\n",
       "  </thead>\n",
       "  <tbody>\n",
       "    <tr>\n",
       "      <th>3</th>\n",
       "      <td>1</td>\n",
       "      <td>29160</td>\n",
       "    </tr>\n",
       "    <tr>\n",
       "      <th>2</th>\n",
       "      <td>2</td>\n",
       "      <td>105536</td>\n",
       "    </tr>\n",
       "    <tr>\n",
       "      <th>0</th>\n",
       "      <td>3</td>\n",
       "      <td>166690</td>\n",
       "    </tr>\n",
       "    <tr>\n",
       "      <th>1</th>\n",
       "      <td>4</td>\n",
       "      <td>105569</td>\n",
       "    </tr>\n",
       "    <tr>\n",
       "      <th>4</th>\n",
       "      <td>5</td>\n",
       "      <td>26288</td>\n",
       "    </tr>\n",
       "    <tr>\n",
       "      <th>5</th>\n",
       "      <td>6</td>\n",
       "      <td>2589</td>\n",
       "    </tr>\n",
       "    <tr>\n",
       "      <th>6</th>\n",
       "      <td>7</td>\n",
       "      <td>92</td>\n",
       "    </tr>\n",
       "  </tbody>\n",
       "</table>\n",
       "</div>"
      ],
      "text/plain": [
       "   index  page_counter\n",
       "3      1         29160\n",
       "2      2        105536\n",
       "0      3        166690\n",
       "1      4        105569\n",
       "4      5         26288\n",
       "5      6          2589\n",
       "6      7            92"
      ]
     },
     "metadata": {},
     "output_type": "display_data"
    }
   ],
   "source": [
    "# Для начала рассмотрим как респределились данные по количеству просмотренных страниц в рамках одной сессии\n",
    "sessions_history_pc = sessions_history['page_counter'].value_counts().reset_index().sort_values(by = 'index')\n",
    "display(sessions_history_pc)"
   ]
  },
  {
   "cell_type": "code",
   "execution_count": 12,
   "metadata": {},
   "outputs": [
    {
     "data": {
      "image/png": "[encoded data removed]",
      "text/plain": [
       "<Figure size 432x288 with 1 Axes>"
      ]
     },
     "metadata": {
      "needs_background": "light"
     },
     "output_type": "display_data"
    }
   ],
   "source": [
    "# Построим столбчатую диаграмму распределения количества просмотренных страниц в рамках одной сесссии\n",
    "sessions_history_pc.plot(kind = 'bar', x = 'index', y = 'page_counter',color = 'lightblue')\n",
    "plt.grid (axis = 'y')\n",
    "plt.title('Рапсределение количества сессий по просмотренным страницам')\n",
    "plt.xlabel('Количество просмотренных страниц')\n",
    "plt.ylabel('Количество сессий')\n",
    "plt.show()"
   ]
  },
  {
   "cell_type": "markdown",
   "metadata": {},
   "source": [
    "Распределение по количеству просмотренных страниц похоже на нормальное, в среднем пользователи просматривают около трех страниц, при этом разброс от 1 до 7."
   ]
  },
  {
   "cell_type": "markdown",
   "metadata": {
    "id": "xDltSpVP0eMr"
   },
   "source": [
    "#### 1.5. Доля пользователей, просмотревших более четырёх страниц\n",
    "Продуктовая команда продукта считает, что сессии, в рамках которых пользователь просмотрел 4 и более страниц, говорят об удовлетворённости контентом и алгоритмами рекомендаций. Этот показатель является важной прокси-метрикой для продукта.\n",
    "\n",
    "- В датафрейме `sessions_history` создайте дополнительный столбец `good_session`. В него войдёт значение `1`, если за одну сессию было просмотрено 4 и более страниц, и значение `0`, если было просмотрено меньше.\n",
    "\n",
    "- Постройте график со средним значением доли успешных сессий ко всем сессиям по дням за весь период наблюдения."
   ]
  },
  {
   "cell_type": "code",
   "execution_count": 13,
   "metadata": {
    "id": "iygaPfixPYMW"
   },
   "outputs": [],
   "source": [
    "# Создадим новый столбец `good_session` в столбец `sessions_history`\n",
    "def good_sessions (row):\n",
    "    if row['page_counter'] >= 4:\n",
    "        return 1\n",
    "    else:\n",
    "        return 0\n",
    "    \n",
    "sessions_history['good_session'] = sessions_history.apply(good_sessions, axis = 1)"
   ]
  },
  {
   "cell_type": "code",
   "execution_count": 14,
   "metadata": {},
   "outputs": [
    {
     "data": {
      "image/png": "[encoded data removed]",
      "text/plain": [
       "<Figure size 1080x576 with 1 Axes>"
      ]
     },
     "metadata": {
      "needs_background": "light"
     },
     "output_type": "display_data"
    }
   ],
   "source": [
    "# Построим график со средним значением доли успешных сессий\n",
    "sessions_history.groupby('session_date')['good_session'].mean().plot(kind = 'line', figsize = (15,8),\n",
    "                                                                    xlabel = 'Дата', ylabel = 'Доля успешных сессий',\n",
    "                                                                    title = 'Доля успешных сессий ко всем сессиям по дням')\n",
    "mean_value = sessions_history.groupby('session_date')['good_session'].mean().mean()\n",
    "plt.axhline(mean_value, color = 'red', linestyle = '--',\n",
    "               linewidth = 1, label = f'Значение по всем данным {round(mean_value,3)}')\n",
    "plt.grid(axis = 'y')\n",
    "plt.legend(loc='lower right')\n",
    "plt.show()"
   ]
  },
  {
   "cell_type": "markdown",
   "metadata": {},
   "source": [
    "Из графика видно, что данные о доли успешных просмотров в разрезе каждого дня нестабильны и имеют разброс, однако при этом в большинстве случаев концентрируется у среднего значения 0.308 (приблизительно 31%) успешных просмотров от всех просмотров за указанный период."
   ]
  },
  {
   "cell_type": "markdown",
   "metadata": {
    "id": "21JcG77Y0eMt"
   },
   "source": [
    "### 2. Подготовка к тесту\n",
    "При планировании теста необходимо проделать несколько важных шагов:\n",
    "\n",
    "- Определиться с целевой метрикой.\n",
    "\n",
    "- Рассчитать необходимый размер выборки.\n",
    "\n",
    "- Исходя из текущих значений трафика, рассчитать необходимую длительность проведения теста."
   ]
  },
  {
   "cell_type": "markdown",
   "metadata": {
    "id": "uzaeln270eMt"
   },
   "source": [
    "#### 2.1. Расчёт размера выборки\n",
    "В рамках курса вам уже приходилось рассчитывать размеры выборки, используя онлайн-калькуляторы. В этом задании предлагаем воспользоваться готовым кодом и рассчитать необходимое для вашего дизайна эксперимента количество пользователей.\n",
    "\n",
    "Для этого установите в коде ниже следующие параметры:\n",
    "\n",
    "- Уровень значимости — 0.05.\n",
    "\n",
    "- Вероятность ошибки второго рода — 0.2.\n",
    "\n",
    "- Мощность теста.\n",
    "\n",
    "- Минимальный детектируемый эффект, или MDE, — 3%. Обратите внимание, что здесь нужно указать десятичную дробь, а не процент.\n",
    "\n",
    "При расчёте размера выборки мы будем использовать метод `solve_power()` из класса `power.NormalIndPower` модуля `statsmodels.stats`.\n",
    "\n",
    "Запустите ячейку и изучите полученное значение."
   ]
  },
  {
   "cell_type": "code",
   "execution_count": 15,
   "metadata": {
    "id": "zSxJyPGPNdaI"
   },
   "outputs": [
    {
     "name": "stdout",
     "output_type": "stream",
     "text": [
      "Необходимый размер выборки для каждой группы: 17441\n"
     ]
    }
   ],
   "source": [
    "from statsmodels.stats.power import NormalIndPower\n",
    "\n",
    "# Задаём параметры\n",
    "alpha = 0.05  # Уровень значимости\n",
    "beta = 0.2  # Ошибка второго рода, часто 1 - мощность\n",
    "power = 1 - 0.2  # Мощность теста\n",
    "mde = 0.03  # Минимальный детектируемый эффект\n",
    "\n",
    "# Инициализируем класс NormalIndPower\n",
    "power_analysis = NormalIndPower()\n",
    "\n",
    "# Рассчитываем размер выборки\n",
    "sample_size = power_analysis.solve_power(\n",
    "    effect_size = mde,\n",
    "    power = power,\n",
    "    alpha = alpha,\n",
    "    ratio = 1 # Равномерное распределение выборок\n",
    ")\n",
    "\n",
    "print(f\"Необходимый размер выборки для каждой группы: {int(sample_size)}\")"
   ]
  },
  {
   "cell_type": "markdown",
   "metadata": {
    "id": "qLEv4RoV0eMu"
   },
   "source": [
    "#### 2.1. Расчёт длительности A/B-теста\n",
    "\n",
    "Используйте данные о количестве пользователей в каждой выборке и среднем количестве пользователей приложения. Рассчитайте длительность теста, разделив одно на другое.\n",
    "\n",
    "- Рассчитайте среднее количество уникальных пользователей приложения в день.\n",
    "\n",
    "- Определите длительность теста, исходя из рассчитанного значения размера выборок и среднего дневного трафика приложения. Количество дней округлите в большую сторону."
   ]
  },
  {
   "cell_type": "code",
   "execution_count": 16,
   "metadata": {
    "id": "KZDRbryDOGHa"
   },
   "outputs": [
    {
     "name": "stdout",
     "output_type": "stream",
     "text": [
      "Рассчитанная длительность A/B-теста при текущем уровене трафика в 9907.363636363636 пользователей в день составит 4 дня\n"
     ]
    }
   ],
   "source": [
    "from math import ceil\n",
    "\n",
    "# Среднее количество пользователей приложения в день по историческим данным\n",
    "avg_daily_users = sessions_history.groupby('session_date')['user_id'].count().mean()\n",
    "\n",
    "# Рассчитываем длительность теста в днях как отношение размера выборки к среднему числу пользователей\n",
    "test_duration = ceil(sample_size * 2 / avg_daily_users)\n",
    "\n",
    "print(f\"Рассчитанная длительность A/B-теста при текущем уровене трафика в {avg_daily_users} пользователей в день составит {test_duration} дня\")"
   ]
  },
  {
   "cell_type": "markdown",
   "metadata": {
    "id": "ZuvtAdha0eMv"
   },
   "source": [
    "### 3. Мониторинг А/В-теста"
   ]
  },
  {
   "cell_type": "markdown",
   "metadata": {
    "id": "jq5sE3Ya0eMv"
   },
   "source": [
    "#### 3.1. Проверка распределения пользователей\n",
    "\n",
    "A/B-тест успешно запущен, и уже доступны данные за первые три дня. На этом этапе нужно убедиться, что всё идёт хорошо: пользователи разделены правильным образом, а интересующие вас метрики корректно считаются.\n",
    "\n",
    "- Считайте и сохраните в датафрейм `sessions_test_part` CSV-файл с историческими данными о сессиях пользователей `sessions_project_test_part.csv`.\n",
    "\n",
    "- Рассчитайте количество уникальных пользователей в каждой из экспериментальных групп для одного дня наблюдения.\n",
    "\n",
    "- Рассчитайте и выведите на экран процентную разницу в количестве пользователей в группах A и B. Постройте любую удобную визуализацию, на которой можно было бы увидеть возможное различие двух групп.\n",
    "\n",
    "Для расчёта процентной разницы воспользуйтесь формулой:\n",
    "$$P = 100 \\cdot  \\frac{|A − B|}{A}$$"
   ]
  },
  {
   "cell_type": "code",
   "execution_count": 17,
   "metadata": {
    "id": "G1bqIzDJOUiz"
   },
   "outputs": [
    {
     "data": {
      "text/html": [
       "<div>\n",
       "<style scoped>\n",
       "    .dataframe tbody tr th:only-of-type {\n",
       "        vertical-align: middle;\n",
       "    }\n",
       "\n",
       "    .dataframe tbody tr th {\n",
       "        vertical-align: top;\n",
       "    }\n",
       "\n",
       "    .dataframe thead th {\n",
       "        text-align: right;\n",
       "    }\n",
       "</style>\n",
       "<table border=\"1\" class=\"dataframe\">\n",
       "  <thead>\n",
       "    <tr style=\"text-align: right;\">\n",
       "      <th></th>\n",
       "      <th>user_id</th>\n",
       "      <th>session_id</th>\n",
       "      <th>session_date</th>\n",
       "      <th>session_start_ts</th>\n",
       "      <th>install_date</th>\n",
       "      <th>session_number</th>\n",
       "      <th>registration_flag</th>\n",
       "      <th>page_counter</th>\n",
       "      <th>region</th>\n",
       "      <th>device</th>\n",
       "      <th>test_group</th>\n",
       "    </tr>\n",
       "  </thead>\n",
       "  <tbody>\n",
       "    <tr>\n",
       "      <th>0</th>\n",
       "      <td>3404844B53442747</td>\n",
       "      <td>B4901323BD537E45</td>\n",
       "      <td>2025-10-14</td>\n",
       "      <td>2025-10-14 19:28:49</td>\n",
       "      <td>2025-10-14</td>\n",
       "      <td>1</td>\n",
       "      <td>0</td>\n",
       "      <td>3</td>\n",
       "      <td>CIS</td>\n",
       "      <td>Android</td>\n",
       "      <td>B</td>\n",
       "    </tr>\n",
       "    <tr>\n",
       "      <th>1</th>\n",
       "      <td>3A2BF4D364E62D89</td>\n",
       "      <td>216FC619308F8788</td>\n",
       "      <td>2025-10-14</td>\n",
       "      <td>2025-10-14 21:11:04</td>\n",
       "      <td>2025-10-14</td>\n",
       "      <td>1</td>\n",
       "      <td>0</td>\n",
       "      <td>3</td>\n",
       "      <td>MENA</td>\n",
       "      <td>iPhone</td>\n",
       "      <td>A</td>\n",
       "    </tr>\n",
       "    <tr>\n",
       "      <th>2</th>\n",
       "      <td>79CDAE11E32B1597</td>\n",
       "      <td>EDFCE4AC1A504074</td>\n",
       "      <td>2025-10-14</td>\n",
       "      <td>2025-10-14 21:44:03</td>\n",
       "      <td>2025-10-14</td>\n",
       "      <td>1</td>\n",
       "      <td>0</td>\n",
       "      <td>3</td>\n",
       "      <td>CIS</td>\n",
       "      <td>iPhone</td>\n",
       "      <td>A</td>\n",
       "    </tr>\n",
       "    <tr>\n",
       "      <th>3</th>\n",
       "      <td>D6AF8D78297A931F</td>\n",
       "      <td>CF0AC0EEDE92C690</td>\n",
       "      <td>2025-10-14</td>\n",
       "      <td>2025-10-14 19:07:55</td>\n",
       "      <td>2025-10-14</td>\n",
       "      <td>1</td>\n",
       "      <td>0</td>\n",
       "      <td>4</td>\n",
       "      <td>CIS</td>\n",
       "      <td>PC</td>\n",
       "      <td>A</td>\n",
       "    </tr>\n",
       "    <tr>\n",
       "      <th>4</th>\n",
       "      <td>37E0CE723AE568E0</td>\n",
       "      <td>2E6ED45E8C86C4E9</td>\n",
       "      <td>2025-10-14</td>\n",
       "      <td>2025-10-14 15:39:44</td>\n",
       "      <td>2025-10-14</td>\n",
       "      <td>1</td>\n",
       "      <td>0</td>\n",
       "      <td>3</td>\n",
       "      <td>CIS</td>\n",
       "      <td>Mac</td>\n",
       "      <td>B</td>\n",
       "    </tr>\n",
       "  </tbody>\n",
       "</table>\n",
       "</div>"
      ],
      "text/plain": [
       "            user_id        session_id session_date     session_start_ts  \\\n",
       "0  3404844B53442747  B4901323BD537E45   2025-10-14  2025-10-14 19:28:49   \n",
       "1  3A2BF4D364E62D89  216FC619308F8788   2025-10-14  2025-10-14 21:11:04   \n",
       "2  79CDAE11E32B1597  EDFCE4AC1A504074   2025-10-14  2025-10-14 21:44:03   \n",
       "3  D6AF8D78297A931F  CF0AC0EEDE92C690   2025-10-14  2025-10-14 19:07:55   \n",
       "4  37E0CE723AE568E0  2E6ED45E8C86C4E9   2025-10-14  2025-10-14 15:39:44   \n",
       "\n",
       "  install_date  session_number  registration_flag  page_counter region  \\\n",
       "0   2025-10-14               1                  0             3    CIS   \n",
       "1   2025-10-14               1                  0             3   MENA   \n",
       "2   2025-10-14               1                  0             3    CIS   \n",
       "3   2025-10-14               1                  0             4    CIS   \n",
       "4   2025-10-14               1                  0             3    CIS   \n",
       "\n",
       "    device test_group  \n",
       "0  Android          B  \n",
       "1   iPhone          A  \n",
       "2   iPhone          A  \n",
       "3       PC          A  \n",
       "4      Mac          B  "
      ]
     },
     "execution_count": 17,
     "metadata": {},
     "output_type": "execute_result"
    }
   ],
   "source": [
    "# Создадим новый датасет для работы\n",
    "sessions_test_part = pd.read_csv('https://code.s3.yandex.net//datasets/sessions_project_test_part.csv')\n",
    "sessions_test_part.head()"
   ]
  },
  {
   "cell_type": "markdown",
   "metadata": {},
   "source": [
    "В таблице появился новый столбец `test_group`, в котором хранятся значения **A** или **B**.\n"
   ]
  },
  {
   "cell_type": "code",
   "execution_count": 18,
   "metadata": {},
   "outputs": [
    {
     "data": {
      "text/plain": [
       "test_group\n",
       "A    1477\n",
       "B    1466\n",
       "Name: user_id, dtype: int64"
      ]
     },
     "execution_count": 18,
     "metadata": {},
     "output_type": "execute_result"
    }
   ],
   "source": [
    "sessions_test_part[sessions_test_part['session_date'] == '2025-10-14'].groupby('test_group')['user_id'].nunique()"
   ]
  },
  {
   "cell_type": "markdown",
   "metadata": {},
   "source": [
    "За 14 октября 2025 года количество уникальных пользователей, вошешдших на платформу составило 2943 человек, из них: 1466 - экспериментальная группа, 1477 - контрольная группа."
   ]
  },
  {
   "cell_type": "code",
   "execution_count": 19,
   "metadata": {},
   "outputs": [
    {
     "data": {
      "text/plain": [
       "0.7447528774542993"
      ]
     },
     "execution_count": 19,
     "metadata": {},
     "output_type": "execute_result"
    }
   ],
   "source": [
    "abs(sessions_test_part[sessions_test_part['test_group'] == 'A']['user_id'].nunique() - sessions_test_part[sessions_test_part['test_group'] == 'B']['user_id'].nunique()) * 100 / sessions_test_part[sessions_test_part['test_group'] == 'A']['user_id'].nunique()"
   ]
  },
  {
   "cell_type": "markdown",
   "metadata": {},
   "source": [
    "Процентная разница между группами составила 8.39%"
   ]
  },
  {
   "cell_type": "code",
   "execution_count": 20,
   "metadata": {},
   "outputs": [
    {
     "data": {
      "text/plain": [
       "(50.18688413183826, 49.81311586816174)"
      ]
     },
     "execution_count": 20,
     "metadata": {},
     "output_type": "execute_result"
    }
   ],
   "source": [
    "100 * sessions_test_part[sessions_test_part['test_group'] == 'A']['user_id'].nunique()/sessions_test_part['user_id'].nunique(), 100 * sessions_test_part[sessions_test_part['test_group'] == 'B']['user_id'].nunique()/sessions_test_part['user_id'].nunique()"
   ]
  },
  {
   "cell_type": "markdown",
   "metadata": {},
   "source": [
    "При этом процентное соотношение групп за один день составило 49,81% - контрольная группа, и 50,19% - тестовая группа."
   ]
  },
  {
   "cell_type": "code",
   "execution_count": 21,
   "metadata": {},
   "outputs": [
    {
     "data": {
      "text/plain": [
       "<AxesSubplot:ylabel='Количество сессий'>"
      ]
     },
     "execution_count": 21,
     "metadata": {},
     "output_type": "execute_result"
    },
    {
     "data": {
      "image/png": "[encoded data removed]",
      "text/plain": [
       "<Figure size 432x288 with 1 Axes>"
      ]
     },
     "metadata": {},
     "output_type": "display_data"
    }
   ],
   "source": [
    "sessions_test_part.groupby('test_group')['user_id'].nunique().plot(kind = 'pie', ylabel = 'Количество сессий', autopct='%1.0f%%')"
   ]
  },
  {
   "cell_type": "markdown",
   "metadata": {
    "id": "sgpNY5bv0eM0"
   },
   "source": [
    "#### 3.2. Проверка пересечений пользователей\n",
    "Помимо проверки равенства количества пользователей в группах полезно убедиться в том, что группы независимы. Для этого нужно убедиться, что никто из пользователей случайно не попал в обе группы одновременно.\n",
    "\n",
    "- Рассчитайте количество пользователей, которые встречаются одновременно в группах A и B, или убедитесь, что таких нет."
   ]
  },
  {
   "cell_type": "code",
   "execution_count": 22,
   "metadata": {
    "id": "E72ozN9FOX1u"
   },
   "outputs": [
    {
     "data": {
      "text/plain": [
       "[]"
      ]
     },
     "metadata": {},
     "output_type": "display_data"
    }
   ],
   "source": [
    "group_a = sessions_test_part[sessions_test_part['test_group']=='A']['user_id']\n",
    "group_b = sessions_test_part[sessions_test_part['test_group']=='B']['user_id']\n",
    "intersection = list(set(group_a)&set(group_b))\n",
    "display(intersection)"
   ]
  },
  {
   "cell_type": "markdown",
   "metadata": {},
   "source": [
    "В данных не обнаружено пересечения пользователей."
   ]
  },
  {
   "cell_type": "markdown",
   "metadata": {
    "id": "6RvkNLrg0eM1"
   },
   "source": [
    "#### 3.3. Равномерность разделения пользователей по устройствам\n",
    "Полезно также убедиться в том, что пользователи равномерно распределены по всем доступным категориальным переменным — типам устройства и регионам.\n",
    "\n",
    "Постройте две диаграммы:\n",
    "\n",
    "- доля каждого типа устройства для пользователей из группы A,\n",
    "\n",
    "- доля каждого типа устройства для пользователей из группы B.\n",
    "\n",
    "Постарайтесь добавить на диаграммы все необходимые подписи, пояснения и заголовки, которые позволят сделать вывод о том, совпадает ли распределение устройств в группах A и B.\n"
   ]
  },
  {
   "cell_type": "code",
   "execution_count": 23,
   "metadata": {
    "id": "x_IP6PUNPWHC"
   },
   "outputs": [
    {
     "data": {
      "text/plain": [
       "test_group  device \n",
       "A           Android    656\n",
       "            Mac        160\n",
       "            PC         379\n",
       "            iPhone     307\n",
       "B           Android    723\n",
       "            Mac        197\n",
       "            PC         402\n",
       "            iPhone     306\n",
       "Name: user_id, dtype: int64"
      ]
     },
     "execution_count": 23,
     "metadata": {},
     "output_type": "execute_result"
    }
   ],
   "source": [
    "# Для начала выведем общий список с информацией о количестве пользователей \n",
    "# по группам теста и типу устройства\n",
    "sessions_test_part.groupby(['test_group','device'])['user_id'].count()"
   ]
  },
  {
   "cell_type": "markdown",
   "metadata": {},
   "source": [
    "Учитывая что данные в файле представлены за один день и пользователь может войти один раз в день (по условию), то можно взглянуть на распределение втаком виде. Группы пользователей в рамках тестовых групп варируется по следующим типам устройств: Android - 723 и 656, Mac - 197 и 160, PC - 402 и 379, iPhone - 306 и 307 для групп B и A соотвественно."
   ]
  },
  {
   "cell_type": "code",
   "execution_count": 24,
   "metadata": {},
   "outputs": [
    {
     "data": {
      "image/png": "[encoded data removed]",
      "text/plain": [
       "<Figure size 720x432 with 1 Axes>"
      ]
     },
     "metadata": {
      "needs_background": "light"
     },
     "output_type": "display_data"
    },
    {
     "data": {
      "image/png": "[encoded data removed]",
      "text/plain": [
       "<Figure size 720x432 with 1 Axes>"
      ]
     },
     "metadata": {},
     "output_type": "display_data"
    }
   ],
   "source": [
    "sessions_test_part[sessions_test_part['test_group'] == 'A'].groupby('device')['user_id'].nunique().plot(kind ='bar',\n",
    "                                                                                           color = 'lightblue',\n",
    "                                                                                           figsize = (10,6),\n",
    "                                                                                           xlabel = 'Тип устройства',\n",
    "                                                                                           ylabel = 'Количество пользователей',\n",
    "                                                                                           title = 'Распределение пользователей группы А по типу устройства')\n",
    "plt.grid(axis = 'y')\n",
    "plt.show()\n",
    "sessions_test_part[sessions_test_part['test_group'] == 'A'].groupby('device')['user_id'].nunique().plot(kind ='pie',\n",
    "                                                                                           figsize = (10,6),\n",
    "                                                                                           ylabel = 'Количество пользователей',\n",
    "                                                                                           title = 'Распределение пользователей группы А по типу устройства',\n",
    "                                                                                         autopct='%1.0f%%')\n",
    "plt.show()"
   ]
  },
  {
   "cell_type": "code",
   "execution_count": 25,
   "metadata": {},
   "outputs": [
    {
     "data": {
      "image/png": "[encoded data removed]",
      "text/plain": [
       "<Figure size 720x432 with 1 Axes>"
      ]
     },
     "metadata": {
      "needs_background": "light"
     },
     "output_type": "display_data"
    },
    {
     "data": {
      "image/png": "[encoded data removed]",
      "text/plain": [
       "<Figure size 720x432 with 1 Axes>"
      ]
     },
     "metadata": {},
     "output_type": "display_data"
    }
   ],
   "source": [
    "sessions_test_part[sessions_test_part['test_group'] == 'B'].groupby('device')['user_id'].nunique().plot(kind ='bar',\n",
    "                                                                                           color = 'lightblue',\n",
    "                                                                                           figsize = (10,6),\n",
    "                                                                                           xlabel = 'Тип устройства',\n",
    "                                                                                           ylabel = 'Количество пользователей',\n",
    "                                                                                           title = 'Распределение пользователей группы B по типу устройства')\n",
    "plt.grid(axis = 'y')\n",
    "plt.show()\n",
    "sessions_test_part[sessions_test_part['test_group'] == 'B'].groupby('device')['user_id'].nunique().plot(kind ='pie',\n",
    "                                                                                           figsize = (10,6),\n",
    "                                                                                           ylabel = 'Количество пользователей',\n",
    "                                                                                           title = 'Распределение пользователей группы B по типу устройства',\n",
    "                                                                                         autopct='%1.0f%%')\n",
    "plt.show()"
   ]
  },
  {
   "cell_type": "markdown",
   "metadata": {},
   "source": [
    "Данные распределились почти одинаково, по данным в группе В пользователей больше чем в А, однако в количестве пользователей с iPhone есть различия (их в группе А больше), но они небольшие и допустимые. В долевом соотношении резутаты также почти одинаковы."
   ]
  },
  {
   "cell_type": "markdown",
   "metadata": {
    "id": "gAgmP6vo0eM1"
   },
   "source": [
    "#### 3.4. Равномерность распределения пользователей по регионам\n",
    "Теперь убедитесь, что пользователи равномерно распределены по регионам.\n",
    "\n",
    "Постройте две диаграммы:\n",
    "\n",
    "- доля каждого региона для пользователей из группы A,\n",
    "\n",
    "- доля каждого региона для пользователей из группы B.\n",
    "\n",
    "Постарайтесь добавить на диаграммы все необходимые подписи, пояснения и заголовки, которые позволят сделать вывод о том, совпадает ли распределение регионов в группах A и B. Постарайтесь использовать другой тип диаграммы, не тот, что в прошлом задании.\n"
   ]
  },
  {
   "cell_type": "code",
   "execution_count": 26,
   "metadata": {
    "id": "3hAq-FG4OdYM"
   },
   "outputs": [
    {
     "data": {
      "text/plain": [
       "test_group  region\n",
       "A           CIS       656\n",
       "            EU        233\n",
       "            MENA      613\n",
       "B           CIS       645\n",
       "            EU        220\n",
       "            MENA      763\n",
       "Name: user_id, dtype: int64"
      ]
     },
     "execution_count": 26,
     "metadata": {},
     "output_type": "execute_result"
    }
   ],
   "source": [
    "# Выведем общий список с информацией о количестве пользователей \n",
    "# по группам теста и типу устройства\n",
    "sessions_test_part.groupby(['test_group','region'])['user_id'].count()"
   ]
  },
  {
   "cell_type": "markdown",
   "metadata": {},
   "source": [
    "При изучении данных заметно, что данные поделены не равномерно. Меньше всего данных из EU, при этом распределение в двух группах  получилось приблизительно равным, искл.: в тестовой группе количество пользователей из региона MENA больше чем в контрольной, при этом в осталных регионах меньше."
   ]
  },
  {
   "cell_type": "code",
   "execution_count": 27,
   "metadata": {},
   "outputs": [
    {
     "data": {
      "image/png": "[encoded data removed]",
      "text/plain": [
       "<Figure size 720x432 with 1 Axes>"
      ]
     },
     "metadata": {
      "needs_background": "light"
     },
     "output_type": "display_data"
    },
    {
     "data": {
      "image/png": "[encoded data removed]",
      "text/plain": [
       "<Figure size 720x432 with 1 Axes>"
      ]
     },
     "metadata": {},
     "output_type": "display_data"
    }
   ],
   "source": [
    "sessions_test_part[sessions_test_part['test_group'] == 'A'].groupby('region')['user_id'].nunique().plot(kind ='bar',\n",
    "                                                                                           color = 'lightblue',\n",
    "                                                                                           figsize = (10,6),\n",
    "                                                                                           xlabel = 'Тип устройства',\n",
    "                                                                                           ylabel = 'Количество пользователей',\n",
    "                                                                                           title = 'Распределение пользователей группы А по типу устройства')\n",
    "plt.grid(axis = 'y')\n",
    "plt.show()\n",
    "sessions_test_part[sessions_test_part['test_group'] == 'A'].groupby('region')['user_id'].nunique().plot(kind ='pie',\n",
    "                                                                                           figsize = (10,6),\n",
    "                                                                                           ylabel = 'Количество пользователей',\n",
    "                                                                                           title = 'Распределение пользователей группы А по типу устройства',\n",
    "                                                                                         autopct='%1.0f%%')\n",
    "plt.show()"
   ]
  },
  {
   "cell_type": "code",
   "execution_count": 28,
   "metadata": {},
   "outputs": [
    {
     "data": {
      "image/png": "[encoded data removed]",
      "text/plain": [
       "<Figure size 720x432 with 1 Axes>"
      ]
     },
     "metadata": {
      "needs_background": "light"
     },
     "output_type": "display_data"
    },
    {
     "data": {
      "image/png": "[encoded data removed]",
      "text/plain": [
       "<Figure size 720x432 with 1 Axes>"
      ]
     },
     "metadata": {},
     "output_type": "display_data"
    }
   ],
   "source": [
    "sessions_test_part[sessions_test_part['test_group'] == 'B'].groupby('region')['user_id'].nunique().plot(kind ='bar',\n",
    "                                                                                           color = 'lightblue',\n",
    "                                                                                           figsize = (10,6),\n",
    "                                                                                           xlabel = 'Тип устройства',\n",
    "                                                                                           ylabel = 'Количество пользователей',\n",
    "                                                                                           title = 'Распределение пользователей группы B по типу устройства')\n",
    "plt.grid(axis = 'y')\n",
    "plt.show()\n",
    "sessions_test_part[sessions_test_part['test_group'] == 'B'].groupby('region')['user_id'].nunique().plot(kind ='pie',\n",
    "                                                                                           figsize = (10,6),\n",
    "                                                                                           ylabel = 'Количество пользователей',\n",
    "                                                                                           title = 'Распределение пользователей группы B по типу устройства',\n",
    "                                                                                         autopct='%1.0f%%')\n",
    "plt.show()"
   ]
  },
  {
   "cell_type": "markdown",
   "metadata": {},
   "source": [
    "Данные распределились почти одинаково, но с небольшими различиями в процентном соотношении. Учитывая, что данные представлены за один день, а тестирование длиться 4 дня, то говорить о различиях между группами слишком рано, ведь отчилия минимальны."
   ]
  },
  {
   "cell_type": "markdown",
   "metadata": {
    "id": "X2WSZ-sDrSUi"
   },
   "source": [
    "#### 3.5. Вывод после проверки A/B-теста\n",
    "\n",
    "На основе проведённого анализа A/B-теста сформулируйте и запишите свои выводы. В выводе обязательно укажите:\n",
    "\n",
    "- Были ли обнаружено различие в количестве пользователей в двух группах.\n",
    "\n",
    "- Являются ли выборки независимыми. Было ли обнаружено пересечение пользователей из тестовой и контрольной групп.\n",
    "\n",
    "- Сохраняется ли равномерное распределение пользователей тестовой и контрольной групп по категориальным переменным: устройствам и регионам.\n",
    "\n",
    "Сделайте заключение о том, корректно ли проходит A/B-тест или наблюдаются какие-либо нарушения."
   ]
  },
  {
   "cell_type": "markdown",
   "metadata": {},
   "source": [
    "На основе полученных результатов можно сделать следующие выводы:\n",
    "- присутсвует разница в сформированости групп (группа И больше чем группа А 50.19% и 49.81% соотвественно)\n",
    "- выборки независимы, пересечений в пользователях в двух группах нет;\n",
    "- при рассмотрении распределения пользователей по группам в зависимости от устройств и региона замечено, что в контрольной и тестовой группе есть различия, однако они не велики и на данном этапе ими можно принебречь.\n",
    "\n",
    "Стоит наблюдать за распределением данных далее, чтобы успеть вовремя остановить тест."
   ]
  },
  {
   "cell_type": "markdown",
   "metadata": {
    "id": "nudRr_BQ0eM2"
   },
   "source": [
    "### 4. Проверка результатов A/B-теста\n",
    "\n",
    "A/B-тест завершён, и у вас есть результаты за все дни проведения эксперимента. Необходимо убедиться в корректности теста и верно интерпретировать результаты."
   ]
  },
  {
   "cell_type": "markdown",
   "metadata": {
    "id": "JVve-YBB0eM2"
   },
   "source": [
    "#### 4.1. Получение результатов теста и подсчёт основной метрики\n",
    "\n",
    "- Считайте и сохраните в датафрейм `sessions_test` CSV-файл с историческими данными о сессиях пользователей `sessions_project_test.csv`.\n",
    "\n",
    "- В датафрейме `sessions_test` создайте дополнительный столбец `good_session`. В него войдёт значение `1`, если за одну сессию было просмотрено 4 и более страниц, и значение `0`, если просмотрено меньше."
   ]
  },
  {
   "cell_type": "code",
   "execution_count": 29,
   "metadata": {
    "id": "EqRlwMtKPTir"
   },
   "outputs": [
    {
     "data": {
      "text/html": [
       "<div>\n",
       "<style scoped>\n",
       "    .dataframe tbody tr th:only-of-type {\n",
       "        vertical-align: middle;\n",
       "    }\n",
       "\n",
       "    .dataframe tbody tr th {\n",
       "        vertical-align: top;\n",
       "    }\n",
       "\n",
       "    .dataframe thead th {\n",
       "        text-align: right;\n",
       "    }\n",
       "</style>\n",
       "<table border=\"1\" class=\"dataframe\">\n",
       "  <thead>\n",
       "    <tr style=\"text-align: right;\">\n",
       "      <th></th>\n",
       "      <th>user_id</th>\n",
       "      <th>session_id</th>\n",
       "      <th>session_date</th>\n",
       "      <th>session_start_ts</th>\n",
       "      <th>install_date</th>\n",
       "      <th>session_number</th>\n",
       "      <th>registration_flag</th>\n",
       "      <th>page_counter</th>\n",
       "      <th>region</th>\n",
       "      <th>device</th>\n",
       "      <th>test_group</th>\n",
       "    </tr>\n",
       "  </thead>\n",
       "  <tbody>\n",
       "    <tr>\n",
       "      <th>0</th>\n",
       "      <td>3404844B53442747</td>\n",
       "      <td>B4901323BD537E45</td>\n",
       "      <td>2025-10-14</td>\n",
       "      <td>2025-10-14 19:28:49</td>\n",
       "      <td>2025-10-14</td>\n",
       "      <td>1</td>\n",
       "      <td>0</td>\n",
       "      <td>3</td>\n",
       "      <td>CIS</td>\n",
       "      <td>Android</td>\n",
       "      <td>B</td>\n",
       "    </tr>\n",
       "    <tr>\n",
       "      <th>1</th>\n",
       "      <td>3A2BF4D364E62D89</td>\n",
       "      <td>216FC619308F8788</td>\n",
       "      <td>2025-10-14</td>\n",
       "      <td>2025-10-14 21:11:04</td>\n",
       "      <td>2025-10-14</td>\n",
       "      <td>1</td>\n",
       "      <td>0</td>\n",
       "      <td>3</td>\n",
       "      <td>MENA</td>\n",
       "      <td>iPhone</td>\n",
       "      <td>A</td>\n",
       "    </tr>\n",
       "    <tr>\n",
       "      <th>2</th>\n",
       "      <td>79CDAE11E32B1597</td>\n",
       "      <td>EDFCE4AC1A504074</td>\n",
       "      <td>2025-10-14</td>\n",
       "      <td>2025-10-14 21:44:03</td>\n",
       "      <td>2025-10-14</td>\n",
       "      <td>1</td>\n",
       "      <td>0</td>\n",
       "      <td>3</td>\n",
       "      <td>CIS</td>\n",
       "      <td>iPhone</td>\n",
       "      <td>A</td>\n",
       "    </tr>\n",
       "    <tr>\n",
       "      <th>3</th>\n",
       "      <td>D6AF8D78297A931F</td>\n",
       "      <td>CF0AC0EEDE92C690</td>\n",
       "      <td>2025-10-14</td>\n",
       "      <td>2025-10-14 19:07:55</td>\n",
       "      <td>2025-10-14</td>\n",
       "      <td>1</td>\n",
       "      <td>0</td>\n",
       "      <td>4</td>\n",
       "      <td>CIS</td>\n",
       "      <td>PC</td>\n",
       "      <td>A</td>\n",
       "    </tr>\n",
       "    <tr>\n",
       "      <th>4</th>\n",
       "      <td>37E0CE723AE568E0</td>\n",
       "      <td>2E6ED45E8C86C4E9</td>\n",
       "      <td>2025-10-14</td>\n",
       "      <td>2025-10-14 15:39:44</td>\n",
       "      <td>2025-10-14</td>\n",
       "      <td>1</td>\n",
       "      <td>0</td>\n",
       "      <td>3</td>\n",
       "      <td>CIS</td>\n",
       "      <td>Mac</td>\n",
       "      <td>B</td>\n",
       "    </tr>\n",
       "  </tbody>\n",
       "</table>\n",
       "</div>"
      ],
      "text/plain": [
       "            user_id        session_id session_date     session_start_ts  \\\n",
       "0  3404844B53442747  B4901323BD537E45   2025-10-14  2025-10-14 19:28:49   \n",
       "1  3A2BF4D364E62D89  216FC619308F8788   2025-10-14  2025-10-14 21:11:04   \n",
       "2  79CDAE11E32B1597  EDFCE4AC1A504074   2025-10-14  2025-10-14 21:44:03   \n",
       "3  D6AF8D78297A931F  CF0AC0EEDE92C690   2025-10-14  2025-10-14 19:07:55   \n",
       "4  37E0CE723AE568E0  2E6ED45E8C86C4E9   2025-10-14  2025-10-14 15:39:44   \n",
       "\n",
       "  install_date  session_number  registration_flag  page_counter region  \\\n",
       "0   2025-10-14               1                  0             3    CIS   \n",
       "1   2025-10-14               1                  0             3   MENA   \n",
       "2   2025-10-14               1                  0             3    CIS   \n",
       "3   2025-10-14               1                  0             4    CIS   \n",
       "4   2025-10-14               1                  0             3    CIS   \n",
       "\n",
       "    device test_group  \n",
       "0  Android          B  \n",
       "1   iPhone          A  \n",
       "2   iPhone          A  \n",
       "3       PC          A  \n",
       "4      Mac          B  "
      ]
     },
     "execution_count": 29,
     "metadata": {},
     "output_type": "execute_result"
    }
   ],
   "source": [
    "sessions_test = pd.read_csv('https://code.s3.yandex.net//datasets/sessions_project_test.csv')\n",
    "sessions_test_part.head()"
   ]
  },
  {
   "cell_type": "code",
   "execution_count": 30,
   "metadata": {
    "scrolled": true
   },
   "outputs": [
    {
     "data": {
      "text/html": [
       "<div>\n",
       "<style scoped>\n",
       "    .dataframe tbody tr th:only-of-type {\n",
       "        vertical-align: middle;\n",
       "    }\n",
       "\n",
       "    .dataframe tbody tr th {\n",
       "        vertical-align: top;\n",
       "    }\n",
       "\n",
       "    .dataframe thead th {\n",
       "        text-align: right;\n",
       "    }\n",
       "</style>\n",
       "<table border=\"1\" class=\"dataframe\">\n",
       "  <thead>\n",
       "    <tr style=\"text-align: right;\">\n",
       "      <th></th>\n",
       "      <th>user_id</th>\n",
       "      <th>session_id</th>\n",
       "      <th>session_date</th>\n",
       "      <th>session_start_ts</th>\n",
       "      <th>install_date</th>\n",
       "      <th>session_number</th>\n",
       "      <th>registration_flag</th>\n",
       "      <th>page_counter</th>\n",
       "      <th>region</th>\n",
       "      <th>device</th>\n",
       "      <th>test_group</th>\n",
       "      <th>good_session</th>\n",
       "    </tr>\n",
       "  </thead>\n",
       "  <tbody>\n",
       "    <tr>\n",
       "      <th>0</th>\n",
       "      <td>6DAE3B3654DA738E</td>\n",
       "      <td>C69249E26E58F6E2</td>\n",
       "      <td>2025-10-26</td>\n",
       "      <td>2025-10-26 18:15:05</td>\n",
       "      <td>2025-10-16</td>\n",
       "      <td>3</td>\n",
       "      <td>0</td>\n",
       "      <td>3</td>\n",
       "      <td>MENA</td>\n",
       "      <td>Android</td>\n",
       "      <td>A</td>\n",
       "      <td>0</td>\n",
       "    </tr>\n",
       "    <tr>\n",
       "      <th>1</th>\n",
       "      <td>0A3FE5D1DD59110A</td>\n",
       "      <td>66D66D7C9F5181B7</td>\n",
       "      <td>2025-10-21</td>\n",
       "      <td>2025-10-21 17:04:53</td>\n",
       "      <td>2025-10-15</td>\n",
       "      <td>2</td>\n",
       "      <td>1</td>\n",
       "      <td>2</td>\n",
       "      <td>CIS</td>\n",
       "      <td>Android</td>\n",
       "      <td>B</td>\n",
       "      <td>0</td>\n",
       "    </tr>\n",
       "    <tr>\n",
       "      <th>2</th>\n",
       "      <td>2041F1D7AA740B88</td>\n",
       "      <td>50DE51D42215E74C</td>\n",
       "      <td>2025-10-23</td>\n",
       "      <td>2025-10-23 17:39:29</td>\n",
       "      <td>2025-10-19</td>\n",
       "      <td>3</td>\n",
       "      <td>0</td>\n",
       "      <td>2</td>\n",
       "      <td>MENA</td>\n",
       "      <td>Android</td>\n",
       "      <td>A</td>\n",
       "      <td>0</td>\n",
       "    </tr>\n",
       "    <tr>\n",
       "      <th>3</th>\n",
       "      <td>43D7585009168086</td>\n",
       "      <td>5763C0C353C22263</td>\n",
       "      <td>2025-10-24</td>\n",
       "      <td>2025-10-24 15:01:57</td>\n",
       "      <td>2025-10-18</td>\n",
       "      <td>4</td>\n",
       "      <td>0</td>\n",
       "      <td>1</td>\n",
       "      <td>CIS</td>\n",
       "      <td>iPhone</td>\n",
       "      <td>B</td>\n",
       "      <td>0</td>\n",
       "    </tr>\n",
       "    <tr>\n",
       "      <th>4</th>\n",
       "      <td>15AD68B14D62D88C</td>\n",
       "      <td>B1AD09F93C1053BC</td>\n",
       "      <td>2025-10-17</td>\n",
       "      <td>2025-10-17 17:34:39</td>\n",
       "      <td>2025-10-17</td>\n",
       "      <td>1</td>\n",
       "      <td>0</td>\n",
       "      <td>2</td>\n",
       "      <td>MENA</td>\n",
       "      <td>Android</td>\n",
       "      <td>B</td>\n",
       "      <td>0</td>\n",
       "    </tr>\n",
       "  </tbody>\n",
       "</table>\n",
       "</div>"
      ],
      "text/plain": [
       "            user_id        session_id session_date     session_start_ts  \\\n",
       "0  6DAE3B3654DA738E  C69249E26E58F6E2   2025-10-26  2025-10-26 18:15:05   \n",
       "1  0A3FE5D1DD59110A  66D66D7C9F5181B7   2025-10-21  2025-10-21 17:04:53   \n",
       "2  2041F1D7AA740B88  50DE51D42215E74C   2025-10-23  2025-10-23 17:39:29   \n",
       "3  43D7585009168086  5763C0C353C22263   2025-10-24  2025-10-24 15:01:57   \n",
       "4  15AD68B14D62D88C  B1AD09F93C1053BC   2025-10-17  2025-10-17 17:34:39   \n",
       "\n",
       "  install_date  session_number  registration_flag  page_counter region  \\\n",
       "0   2025-10-16               3                  0             3   MENA   \n",
       "1   2025-10-15               2                  1             2    CIS   \n",
       "2   2025-10-19               3                  0             2   MENA   \n",
       "3   2025-10-18               4                  0             1    CIS   \n",
       "4   2025-10-17               1                  0             2   MENA   \n",
       "\n",
       "    device test_group  good_session  \n",
       "0  Android          A             0  \n",
       "1  Android          B             0  \n",
       "2  Android          A             0  \n",
       "3   iPhone          B             0  \n",
       "4  Android          B             0  "
      ]
     },
     "execution_count": 30,
     "metadata": {},
     "output_type": "execute_result"
    }
   ],
   "source": [
    "sessions_test['good_session'] = sessions_test.apply(good_sessions, axis = 1)\n",
    "sessions_test.head()"
   ]
  },
  {
   "cell_type": "code",
   "execution_count": 31,
   "metadata": {},
   "outputs": [
    {
     "data": {
      "text/plain": [
       "30579"
      ]
     },
     "execution_count": 31,
     "metadata": {},
     "output_type": "execute_result"
    }
   ],
   "source": [
    "sessions_test['user_id'].nunique()"
   ]
  },
  {
   "cell_type": "markdown",
   "metadata": {},
   "source": [
    "В тесте приняло участие 30579 пользователей."
   ]
  },
  {
   "cell_type": "markdown",
   "metadata": {
    "id": "aeYhrMYy0eM2"
   },
   "source": [
    "#### 4.2. Проверка корректности результатов теста\n",
    "\n",
    "Прежде чем приступать к анализу ключевых продуктовых метрик, необходимо убедиться, что тест проведён корректно и вы будете сравнивать две сопоставимые группы.\n",
    "\n",
    "- Рассчитайте количество уникальных сессий для каждого дня и обеих тестовых групп, используя группировку.\n",
    "\n",
    "- Проверьте, что количество уникальных дневных сессий в двух выборках не различается или различия не статистически значимы. Используйте статистический тест, который позволит сделать вывод о равенстве средних двух выборок.\n",
    "\n",
    "- В качестве ответа выведите на экран полученное значение p-value и интерпретируйте его."
   ]
  },
  {
   "cell_type": "code",
   "execution_count": 32,
   "metadata": {
    "id": "5NUlcltkTTSU",
    "scrolled": true
   },
   "outputs": [
    {
     "data": {
      "text/plain": [
       "session_date  test_group\n",
       "2025-10-14    A             1502\n",
       "              B             1628\n",
       "2025-10-15    A             2235\n",
       "              B             2283\n",
       "2025-10-16    A             3280\n",
       "              B             3241\n",
       "2025-10-17    A             4089\n",
       "              B             4054\n",
       "2025-10-18    A             5013\n",
       "              B             5059\n",
       "2025-10-19    A             6535\n",
       "              B             6779\n",
       "2025-10-20    A             5837\n",
       "              B             6089\n",
       "2025-10-21    A             3927\n",
       "              B             3981\n",
       "2025-10-22    A             3083\n",
       "              B             3111\n",
       "2025-10-23    A             2470\n",
       "              B             2548\n",
       "2025-10-24    A             2090\n",
       "              B             2068\n",
       "2025-10-25    A             1897\n",
       "              B             1814\n",
       "2025-10-26    A             1669\n",
       "              B             1692\n",
       "2025-10-27    A             1454\n",
       "              B             1517\n",
       "2025-10-28    A             1279\n",
       "              B             1289\n",
       "2025-10-29    A             1068\n",
       "              B             1131\n",
       "2025-10-30    A              887\n",
       "              B              876\n",
       "2025-10-31    A              644\n",
       "              B              669\n",
       "2025-11-01    A              434\n",
       "              B              465\n",
       "2025-11-02    A              158\n",
       "              B              160\n",
       "Name: session_id, dtype: int64"
      ]
     },
     "execution_count": 32,
     "metadata": {},
     "output_type": "execute_result"
    }
   ],
   "source": [
    "sessions_test.groupby(['session_date', 'test_group'])['session_id'].count()"
   ]
  },
  {
   "cell_type": "code",
   "execution_count": 33,
   "metadata": {},
   "outputs": [
    {
     "data": {
      "text/plain": [
       "test_group\n",
       "A    49551\n",
       "B    50454\n",
       "Name: session_id, dtype: int64"
      ]
     },
     "execution_count": 33,
     "metadata": {},
     "output_type": "execute_result"
    }
   ],
   "source": [
    "sessions_test.groupby('test_group')['session_id'].count()"
   ]
  },
  {
   "cell_type": "code",
   "execution_count": 34,
   "metadata": {},
   "outputs": [
    {
     "data": {
      "text/plain": [
       "(49.54852257387131, 50.45147742612869)"
      ]
     },
     "execution_count": 34,
     "metadata": {},
     "output_type": "execute_result"
    }
   ],
   "source": [
    "100 * sessions_test[sessions_test['test_group'] == 'A']['session_id'].nunique()/sessions_test['session_id'].nunique(), 100 * sessions_test[sessions_test['test_group'] == 'B']['session_id'].nunique()/sessions_test['session_id'].nunique()"
   ]
  },
  {
   "cell_type": "markdown",
   "metadata": {},
   "source": [
    "Процентное соотношение демонстрирует почти одинаковое распределенеие по группам: 49.55% для группы А и 50.45 для группы В. Разницей можно принебречь."
   ]
  },
  {
   "cell_type": "code",
   "execution_count": 35,
   "metadata": {},
   "outputs": [
    {
     "data": {
      "text/plain": [
       "[]"
      ]
     },
     "metadata": {},
     "output_type": "display_data"
    }
   ],
   "source": [
    "group_a = sessions_test[sessions_test['test_group']=='A']['user_id']\n",
    "group_b = sessions_test[sessions_test['test_group']=='B']['user_id']\n",
    "intersection = list(set(group_a)&set(group_b))\n",
    "display(intersection)"
   ]
  },
  {
   "cell_type": "markdown",
   "metadata": {},
   "source": [
    "Пересечений пользователей в выборках не обнаружено. Приступаем к проверке равенства двух выборок на основе статистического теста.\n",
    "\n",
    "Выдвинем дополнительную гипотезу: Нулевая - Средние двух метрик равны (H0 : µA = µB), Альтернативная - Средние двух метрик не равны (H0 : µA != µB)\n",
    "\n"
   ]
  },
  {
   "cell_type": "code",
   "execution_count": 36,
   "metadata": {},
   "outputs": [
    {
     "data": {
      "text/plain": [
       "0.9382195854082714"
      ]
     },
     "metadata": {},
     "output_type": "display_data"
    },
    {
     "data": {
      "text/plain": [
       "'Нулевая гипотеза находит подтверждение! Распределения метрики в группах A и B равны'"
      ]
     },
     "metadata": {},
     "output_type": "display_data"
    }
   ],
   "source": [
    "from scipy.stats import ttest_ind\n",
    "a = sessions_test[sessions_test['test_group']=='A'].groupby('session_date')['session_id'].nunique()\n",
    "b = sessions_test[sessions_test['test_group']=='B'].groupby('session_date')['session_id'].nunique()\n",
    "\n",
    "alpha = 0.05\n",
    "stat_ttest, p_value_ttest = ttest_ind(a,b, alternative = 'two-sided', equal_var=False)\n",
    "if p_value_ttest > alpha:\n",
    "   display(p_value_ttest)\n",
    "   display('Нулевая гипотеза находит подтверждение! Распределения метрики в группах A и B равны')\n",
    "else:\n",
    "   display(p_value_ttest)\n",
    "   display('Нулевая гипотеза не находит подтверждения! Распределения метрики в группах A и B различаются')"
   ]
  },
  {
   "cell_type": "markdown",
   "metadata": {},
   "source": [
    "Полученное значение p_value демонстрирует что различия в полученных группах статистически не значимы."
   ]
  },
  {
   "cell_type": "markdown",
   "metadata": {
    "id": "7kwRxzg70eM3"
   },
   "source": [
    "#### 4.3. Сравнение доли успешных сессий\n",
    "\n",
    "Когда вы убедились, что количество сессий в обеих выборках не различалось, можно переходить к анализу ключевой метрики — доли успешных сессий.\n",
    "\n",
    "Используйте созданный на первом шаге задания столбец `good_session` и рассчитайте долю успешных сессий для выборок A и B, а также разницу в этом показателе. Полученный вывод отобразите на экране."
   ]
  },
  {
   "cell_type": "code",
   "execution_count": 37,
   "metadata": {
    "id": "Uku-V1CpPRCz"
   },
   "outputs": [
    {
     "data": {
      "text/plain": [
       "0.3077233557344958"
      ]
     },
     "metadata": {},
     "output_type": "display_data"
    },
    {
     "data": {
      "text/plain": [
       "0.31828992745867524"
      ]
     },
     "metadata": {},
     "output_type": "display_data"
    },
    {
     "data": {
      "text/plain": [
       "1.0566571724179463"
      ]
     },
     "metadata": {},
     "output_type": "display_data"
    }
   ],
   "source": [
    "display(sessions_test[sessions_test['test_group']=='A']['good_session'].mean())\n",
    "display(sessions_test[sessions_test['test_group']=='B']['good_session'].mean())\n",
    "display(abs(sessions_test[sessions_test['test_group']=='A']['good_session'].mean() - sessions_test[sessions_test['test_group']=='B']['good_session'].mean()) * 100)"
   ]
  },
  {
   "cell_type": "markdown",
   "metadata": {},
   "source": [
    "Разница между долями успешных сессий составляет 1,06%. Однако, необходимо проверить насколько данный результат статистически значим."
   ]
  },
  {
   "cell_type": "markdown",
   "metadata": {
    "id": "9fMFuja10eM4"
   },
   "source": [
    "#### 4.4. Насколько статистически значимо изменение ключевой метрики\n",
    "\n",
    "На предыдущем шаге вы убедились, что количество успешных сессий в тестовой выборке примерно на 1.1% выше, чем в контрольной, но делать выводы только на основе этого значения будет некорректно. Для принятия решения всегда необходимо отвечать на вопрос: является ли это изменение статистически значимым.\n",
    "\n",
    "- Используя статистический тест, рассчитайте, является ли изменение в метрике доли успешных сессий статистически значимым.\n",
    "\n",
    "- Выведите на экран полученное значение p-value и свои выводы о статистической значимости. Напомним, что уровень значимости в эксперименте был выбран на уровне 0.05."
   ]
  },
  {
   "cell_type": "markdown",
   "metadata": {
    "id": "gFvhRGwlPLS0"
   },
   "source": [
    "Для оценки статистической значимости доли успешных сессий необходимо провести z-тест, однако для начала следует оценить предпосылку о достаточном размере выборки для его оценки."
   ]
  },
  {
   "cell_type": "code",
   "execution_count": 38,
   "metadata": {},
   "outputs": [
    {
     "data": {
      "text/plain": [
       "'n_a=49551, n_b=50454'"
      ]
     },
     "metadata": {},
     "output_type": "display_data"
    },
    {
     "data": {
      "text/plain": [
       "'m_a=15248, m_b=16059'"
      ]
     },
     "metadata": {},
     "output_type": "display_data"
    },
    {
     "data": {
      "text/plain": [
       "'p_a=0.3077233557344958, n_b=0.31828992745867524'"
      ]
     },
     "metadata": {},
     "output_type": "display_data"
    },
    {
     "name": "stdout",
     "output_type": "stream",
     "text": [
      "Предпосылка о достаточном количестве данных выполняется!\n"
     ]
    }
   ],
   "source": [
    "n_a, n_b = sessions_test[sessions_test['test_group'] == 'A'].shape[0] , sessions_test[sessions_test['test_group'] == 'B'].shape[0]\n",
    "m_a, m_b = sessions_test[(sessions_test['test_group'] == 'A')&(sessions_test['good_session'] == 1)].shape[0], sessions_test[(sessions_test['test_group'] == 'B')&(sessions_test['good_session'] == 1)].shape[0]\n",
    "p_a, p_b = m_a/n_a, m_b/n_b\n",
    "display(f'n_a={n_a}, n_b={n_b}')\n",
    "display(f'm_a={m_a}, m_b={m_b}')\n",
    "display(f'p_a={p_a}, n_b={p_b}')\n",
    "if (p_a*n_a > 10)and((1-p_a)*n_a > 10)and(p_b*n_b > 10)and((1-p_b)*n_b > 10):\n",
    "    print('Предпосылка о достаточном количестве данных выполняется!')\n",
    "else:\n",
    "    print('Предпосылка о достаточном количестве данных НЕ выполняется!')"
   ]
  },
  {
   "cell_type": "markdown",
   "metadata": {},
   "source": [
    "**Гипотеза:**\n",
    "\n",
    "**Нулевая:** После внедрения рекомендаций доля успешных сессий не изменилась (H0 : µA = µB) \n",
    "\n",
    "**Альтернативная:** После внедрения рекомендаций доля успешных сессий изменилась (H1 : µA ≠ µB) \n",
    "\n",
    "**Основная метрика для проверки равенства выборок**: среднее количество страниц просмотренных пользователями в рамках сессии."
   ]
  },
  {
   "cell_type": "code",
   "execution_count": 39,
   "metadata": {},
   "outputs": [
    {
     "data": {
      "text/plain": [
       "'z-статистика = -3.602684259949491'"
      ]
     },
     "metadata": {},
     "output_type": "display_data"
    },
    {
     "name": "stdout",
     "output_type": "stream",
     "text": [
      "pvalue=0.0003149479976072246\n",
      "Нулевая гипотеза не находит подтверждения!\n"
     ]
    }
   ],
   "source": [
    "# Проведем z-тест\n",
    "from statsmodels.stats.proportion import proportions_ztest\n",
    "stat_ztest, p_value_ztest = proportions_ztest([m_a, m_b], [n_a,n_b], alternative = 'two-sided')\n",
    "display(f'z-статистика = {stat_ztest}')\n",
    "if p_value_ztest > alpha:\n",
    "    print(f'pvalue={p_value_ztest}')\n",
    "    print('Нулевая гипотеза находит подтверждение!')\n",
    "else:\n",
    "    print(f'pvalue={p_value_ztest}')\n",
    "    print('Нулевая гипотеза не находит подтверждения!')"
   ]
  },
  {
   "cell_type": "markdown",
   "metadata": {},
   "source": [
    "Значение pvalue оказалось меньше уровня значимости, что говорит о значимости расхождений и подветрждении первончальной гипотезы о влияние нового алгоритма на количество на долю успешных сессий."
   ]
  },
  {
   "cell_type": "markdown",
   "metadata": {
    "id": "GnJrkY9Q63zS"
   },
   "source": [
    "#### 4.5. Вывод по результатам A/B-эксперимента\n",
    "\n",
    "На основе проведённого анализа результатов теста сформулируйте и запишите свои выводы для команды разработки приложения. В выводе обязательно укажите:\n",
    "\n",
    "- Характеристики проведённого эксперимента, количество задействованных пользователей и длительность эксперимента.\n",
    "\n",
    "- Повлияло ли внедрение нового алгоритма рекомендаций на рост ключевой метрики и как.\n",
    "\n",
    "- Каким получилось значение p-value для оценки статистической значимости выявленного эффекта.\n",
    "\n",
    "- Стоит ли внедрять новоовведение в приложение."
   ]
  },
  {
   "cell_type": "markdown",
   "metadata": {},
   "source": [
    "В ходе эксперимента было проведено А/В-тестирование, направленное на проверку нового алгоритма подбора более интересного контента для пользователей. В начале эксперимента была выдвинута гипотеза о том, что новый алгоритм полвияет на долю успешных сессий (сессии с просмотром 4 и более страниц).\n",
    "\n",
    "В тестирование приняли участие 30579 пользователей системы, а само тестирование длилось 20 дней (тестирование для оценки результата можно было закончить раньше, по предварительным расчетом срок проведения теста для получения необходимой выборки составлял 4 дня).\n",
    "\n",
    "Внедрение нового алгоритма повлияло на рост ключевой метрики, доля успешных сессий в группе В выше на 1,1%. Об этом свидетельствует и z-статистика, которая имеет отрицательное значение, что говорит доля упешных сессий в группе В больше.\n",
    "\n",
    "Значение pvalue составило 0.0003149479976072246 что ниже вероятности ошибки первого рода. Таким образом альтернативную гипотезу можно смело подтвердить и значения метрики в группе В больше и статистически значимы.\n",
    "\n",
    "Стоит расскатить фичу на всех пользователей приложения."
   ]
  }
 ],
 "metadata": {
  "ExecuteTimeLog": [
   {
    "duration": 477,
    "start_time": "2025-04-21T06:00:25.911Z"
   },
   {
    "duration": 2368,
    "start_time": "2025-04-21T06:01:18.548Z"
   },
   {
    "duration": 150,
    "start_time": "2025-04-21T06:02:04.741Z"
   },
   {
    "duration": 447,
    "start_time": "2025-04-21T06:07:54.865Z"
   },
   {
    "duration": 383,
    "start_time": "2025-04-21T06:08:04.418Z"
   },
   {
    "duration": 393,
    "start_time": "2025-04-21T06:08:15.863Z"
   },
   {
    "duration": 40,
    "start_time": "2025-04-21T06:12:32.777Z"
   },
   {
    "duration": 347,
    "start_time": "2025-04-21T06:38:11.154Z"
   },
   {
    "duration": 45,
    "start_time": "2025-04-21T06:42:12.426Z"
   },
   {
    "duration": 443,
    "start_time": "2025-04-21T07:14:21.434Z"
   },
   {
    "duration": 1441,
    "start_time": "2025-04-21T07:21:18.177Z"
   },
   {
    "duration": 1678,
    "start_time": "2025-04-21T07:21:39.955Z"
   },
   {
    "duration": 1345,
    "start_time": "2025-04-21T07:21:55.182Z"
   },
   {
    "duration": 1553,
    "start_time": "2025-04-21T07:31:58.153Z"
   },
   {
    "duration": 1232,
    "start_time": "2025-04-21T07:32:25.694Z"
   },
   {
    "duration": 1803,
    "start_time": "2025-04-21T07:33:15.353Z"
   },
   {
    "duration": 1599,
    "start_time": "2025-04-21T07:33:56.735Z"
   },
   {
    "duration": 4,
    "start_time": "2025-04-21T07:34:51.533Z"
   },
   {
    "duration": 394,
    "start_time": "2025-04-21T07:34:57.051Z"
   },
   {
    "duration": 285,
    "start_time": "2025-04-21T07:35:35.001Z"
   },
   {
    "duration": 150,
    "start_time": "2025-04-21T07:36:47.512Z"
   },
   {
    "duration": 44,
    "start_time": "2025-04-21T07:36:54.713Z"
   },
   {
    "duration": 43,
    "start_time": "2025-04-21T07:36:58.007Z"
   },
   {
    "duration": 52,
    "start_time": "2025-04-21T07:37:17.031Z"
   },
   {
    "duration": 256,
    "start_time": "2025-04-21T07:38:03.311Z"
   },
   {
    "duration": 359,
    "start_time": "2025-04-21T07:38:44.591Z"
   },
   {
    "duration": 13,
    "start_time": "2025-04-21T07:43:43.226Z"
   },
   {
    "duration": 0,
    "start_time": "2025-04-21T07:47:36.397Z"
   },
   {
    "duration": 0,
    "start_time": "2025-04-21T07:47:36.398Z"
   },
   {
    "duration": 0,
    "start_time": "2025-04-21T07:47:36.400Z"
   },
   {
    "duration": 0,
    "start_time": "2025-04-21T07:47:36.402Z"
   },
   {
    "duration": 0,
    "start_time": "2025-04-21T07:47:36.403Z"
   },
   {
    "duration": 0,
    "start_time": "2025-04-21T07:47:36.405Z"
   },
   {
    "duration": 0,
    "start_time": "2025-04-21T07:47:36.406Z"
   },
   {
    "duration": 0,
    "start_time": "2025-04-21T07:47:36.407Z"
   },
   {
    "duration": 0,
    "start_time": "2025-04-21T07:47:36.409Z"
   },
   {
    "duration": 0,
    "start_time": "2025-04-21T07:47:36.410Z"
   },
   {
    "duration": 0,
    "start_time": "2025-04-21T07:47:36.412Z"
   },
   {
    "duration": 4,
    "start_time": "2025-04-21T07:48:15.450Z"
   },
   {
    "duration": 2408,
    "start_time": "2025-04-21T07:48:19.838Z"
   },
   {
    "duration": 157,
    "start_time": "2025-04-21T07:48:24.909Z"
   },
   {
    "duration": 399,
    "start_time": "2025-04-21T07:48:27.852Z"
   },
   {
    "duration": 40,
    "start_time": "2025-04-21T07:48:30.296Z"
   },
   {
    "duration": 299,
    "start_time": "2025-04-21T07:48:32.265Z"
   },
   {
    "duration": 42,
    "start_time": "2025-04-21T07:48:34.489Z"
   },
   {
    "duration": 2,
    "start_time": "2025-04-21T07:48:39.969Z"
   },
   {
    "duration": 278,
    "start_time": "2025-04-21T07:48:42.308Z"
   },
   {
    "duration": 312,
    "start_time": "2025-04-21T07:57:15.860Z"
   },
   {
    "duration": 281,
    "start_time": "2025-04-21T08:05:19.220Z"
   },
   {
    "duration": 290,
    "start_time": "2025-04-21T08:06:28.983Z"
   },
   {
    "duration": 269,
    "start_time": "2025-04-21T08:06:44.517Z"
   },
   {
    "duration": 264,
    "start_time": "2025-04-21T08:06:52.122Z"
   },
   {
    "duration": 266,
    "start_time": "2025-04-21T08:07:03.478Z"
   },
   {
    "duration": 9,
    "start_time": "2025-04-21T08:17:39.865Z"
   },
   {
    "duration": 11,
    "start_time": "2025-04-21T08:17:57.576Z"
   },
   {
    "duration": 75,
    "start_time": "2025-04-21T08:18:21.843Z"
   },
   {
    "duration": 13,
    "start_time": "2025-04-21T08:20:05.560Z"
   },
   {
    "duration": 13,
    "start_time": "2025-04-21T08:20:24.553Z"
   },
   {
    "duration": 10,
    "start_time": "2025-04-21T08:21:14.164Z"
   },
   {
    "duration": 193,
    "start_time": "2025-04-21T08:21:20.123Z"
   },
   {
    "duration": 176,
    "start_time": "2025-04-21T08:21:44.046Z"
   },
   {
    "duration": 182,
    "start_time": "2025-04-21T08:22:03.577Z"
   },
   {
    "duration": 202,
    "start_time": "2025-04-21T08:22:10.236Z"
   },
   {
    "duration": 229,
    "start_time": "2025-04-21T08:22:24.799Z"
   },
   {
    "duration": 202,
    "start_time": "2025-04-21T08:22:37.170Z"
   },
   {
    "duration": 181,
    "start_time": "2025-04-21T08:23:26.499Z"
   },
   {
    "duration": 193,
    "start_time": "2025-04-21T08:24:55.954Z"
   },
   {
    "duration": 196,
    "start_time": "2025-04-21T08:25:11.390Z"
   },
   {
    "duration": 188,
    "start_time": "2025-04-21T08:25:30.625Z"
   },
   {
    "duration": 3,
    "start_time": "2025-04-21T08:28:04.944Z"
   },
   {
    "duration": 272,
    "start_time": "2025-04-21T08:31:19.857Z"
   },
   {
    "duration": 11949,
    "start_time": "2025-04-21T08:32:11.169Z"
   },
   {
    "duration": 10,
    "start_time": "2025-04-21T08:41:44.942Z"
   },
   {
    "duration": 17,
    "start_time": "2025-04-21T08:41:52.572Z"
   },
   {
    "duration": 18,
    "start_time": "2025-04-21T08:42:07.540Z"
   },
   {
    "duration": 170,
    "start_time": "2025-04-21T08:42:29.750Z"
   },
   {
    "duration": 61,
    "start_time": "2025-04-21T08:42:42.619Z"
   },
   {
    "duration": 248,
    "start_time": "2025-04-21T08:42:46.664Z"
   },
   {
    "duration": 297,
    "start_time": "2025-04-21T08:43:05.516Z"
   },
   {
    "duration": 105,
    "start_time": "2025-04-21T08:50:02.159Z"
   },
   {
    "duration": 368,
    "start_time": "2025-04-21T08:50:06.090Z"
   },
   {
    "duration": 97,
    "start_time": "2025-04-21T08:52:40.972Z"
   },
   {
    "duration": 323,
    "start_time": "2025-04-21T08:52:46.516Z"
   },
   {
    "duration": 391,
    "start_time": "2025-04-21T08:56:28.753Z"
   },
   {
    "duration": 415,
    "start_time": "2025-04-21T08:57:17.261Z"
   },
   {
    "duration": 452,
    "start_time": "2025-04-21T08:57:34.596Z"
   },
   {
    "duration": 944,
    "start_time": "2025-04-21T12:24:52.766Z"
   },
   {
    "duration": 99,
    "start_time": "2025-04-21T12:27:46.690Z"
   },
   {
    "duration": 3,
    "start_time": "2025-04-21T12:28:00.705Z"
   },
   {
    "duration": 1952,
    "start_time": "2025-04-21T12:28:00.709Z"
   },
   {
    "duration": 151,
    "start_time": "2025-04-21T12:28:02.663Z"
   },
   {
    "duration": 403,
    "start_time": "2025-04-21T12:28:02.816Z"
   },
   {
    "duration": 40,
    "start_time": "2025-04-21T12:28:03.221Z"
   },
   {
    "duration": 342,
    "start_time": "2025-04-21T12:28:03.262Z"
   },
   {
    "duration": 45,
    "start_time": "2025-04-21T12:28:03.605Z"
   },
   {
    "duration": 509,
    "start_time": "2025-04-21T12:28:03.652Z"
   },
   {
    "duration": 397,
    "start_time": "2025-04-21T12:28:04.163Z"
   },
   {
    "duration": 271,
    "start_time": "2025-04-21T12:28:04.562Z"
   },
   {
    "duration": 14,
    "start_time": "2025-04-21T12:28:04.836Z"
   },
   {
    "duration": 221,
    "start_time": "2025-04-21T12:28:04.851Z"
   },
   {
    "duration": 6818,
    "start_time": "2025-04-21T12:28:05.074Z"
   },
   {
    "duration": 557,
    "start_time": "2025-04-21T12:28:11.893Z"
   },
   {
    "duration": 19,
    "start_time": "2025-04-21T12:28:12.452Z"
   },
   {
    "duration": 54,
    "start_time": "2025-04-21T12:28:12.473Z"
   },
   {
    "duration": 30,
    "start_time": "2025-04-21T12:29:15.167Z"
   },
   {
    "duration": 31,
    "start_time": "2025-04-21T12:29:29.118Z"
   },
   {
    "duration": 103,
    "start_time": "2025-04-21T12:43:17.700Z"
   },
   {
    "duration": 85,
    "start_time": "2025-04-21T12:44:08.671Z"
   },
   {
    "duration": 8,
    "start_time": "2025-04-21T13:03:23.836Z"
   },
   {
    "duration": 16,
    "start_time": "2025-04-21T13:10:08.199Z"
   },
   {
    "duration": 10,
    "start_time": "2025-04-21T13:10:40.109Z"
   },
   {
    "duration": 12,
    "start_time": "2025-04-21T13:12:52.647Z"
   },
   {
    "duration": 11,
    "start_time": "2025-04-21T13:14:33.412Z"
   },
   {
    "duration": 25,
    "start_time": "2025-04-21T13:16:39.845Z"
   },
   {
    "duration": 69,
    "start_time": "2025-04-21T13:16:49.797Z"
   },
   {
    "duration": 64,
    "start_time": "2025-04-21T13:17:41.896Z"
   },
   {
    "duration": 66,
    "start_time": "2025-04-21T13:17:55.964Z"
   },
   {
    "duration": 73,
    "start_time": "2025-04-21T13:18:00.106Z"
   },
   {
    "duration": 77,
    "start_time": "2025-04-21T13:18:15.477Z"
   },
   {
    "duration": 80,
    "start_time": "2025-04-21T13:18:48.708Z"
   },
   {
    "duration": 75,
    "start_time": "2025-04-21T13:19:03.513Z"
   },
   {
    "duration": 8,
    "start_time": "2025-04-21T13:21:04.650Z"
   },
   {
    "duration": 14,
    "start_time": "2025-04-21T13:33:47.043Z"
   },
   {
    "duration": 11,
    "start_time": "2025-04-21T13:33:58.068Z"
   },
   {
    "duration": 9,
    "start_time": "2025-04-21T13:34:14.177Z"
   },
   {
    "duration": 1281,
    "start_time": "2025-04-21T13:43:33.500Z"
   },
   {
    "duration": 26641,
    "start_time": "2025-04-21T13:43:46.034Z"
   },
   {
    "duration": 1530,
    "start_time": "2025-04-21T13:44:29.444Z"
   },
   {
    "duration": 163,
    "start_time": "2025-04-21T13:44:32.236Z"
   },
   {
    "duration": 152,
    "start_time": "2025-04-21T13:46:55.273Z"
   },
   {
    "duration": 63,
    "start_time": "2025-04-21T14:06:12.424Z"
   },
   {
    "duration": 136,
    "start_time": "2025-04-21T14:06:32.763Z"
   },
   {
    "duration": 158,
    "start_time": "2025-04-21T14:06:43.925Z"
   },
   {
    "duration": 273,
    "start_time": "2025-04-21T14:07:49.342Z"
   },
   {
    "duration": 281,
    "start_time": "2025-04-21T14:08:38.640Z"
   },
   {
    "duration": 270,
    "start_time": "2025-04-21T14:08:54.312Z"
   },
   {
    "duration": 8,
    "start_time": "2025-04-21T14:24:30.161Z"
   },
   {
    "duration": 271,
    "start_time": "2025-04-21T14:28:36.062Z"
   },
   {
    "duration": 297,
    "start_time": "2025-04-21T14:29:00.861Z"
   },
   {
    "duration": 542,
    "start_time": "2025-04-21T15:41:46.169Z"
   },
   {
    "duration": 10,
    "start_time": "2025-04-21T15:43:21.536Z"
   },
   {
    "duration": 8,
    "start_time": "2025-04-21T15:43:35.015Z"
   },
   {
    "duration": 10,
    "start_time": "2025-04-21T15:43:39.729Z"
   },
   {
    "duration": 632,
    "start_time": "2025-04-21T15:43:43.414Z"
   },
   {
    "duration": 679,
    "start_time": "2025-04-21T16:35:11.422Z"
   },
   {
    "duration": 26,
    "start_time": "2025-04-21T16:45:10.398Z"
   },
   {
    "duration": 16,
    "start_time": "2025-04-21T16:48:12.095Z"
   },
   {
    "duration": 51,
    "start_time": "2025-04-21T20:05:28.857Z"
   },
   {
    "duration": 467,
    "start_time": "2025-04-21T20:05:39.359Z"
   },
   {
    "duration": 1899,
    "start_time": "2025-04-21T20:05:39.828Z"
   },
   {
    "duration": 154,
    "start_time": "2025-04-21T20:05:41.729Z"
   },
   {
    "duration": 471,
    "start_time": "2025-04-21T20:05:41.885Z"
   },
   {
    "duration": 55,
    "start_time": "2025-04-21T20:05:42.362Z"
   },
   {
    "duration": 492,
    "start_time": "2025-04-21T20:05:42.418Z"
   },
   {
    "duration": 55,
    "start_time": "2025-04-21T20:05:42.911Z"
   },
   {
    "duration": 466,
    "start_time": "2025-04-21T20:05:42.968Z"
   },
   {
    "duration": 392,
    "start_time": "2025-04-21T20:05:43.437Z"
   },
   {
    "duration": 276,
    "start_time": "2025-04-21T20:05:43.831Z"
   },
   {
    "duration": 13,
    "start_time": "2025-04-21T20:05:44.109Z"
   },
   {
    "duration": 200,
    "start_time": "2025-04-21T20:05:44.124Z"
   },
   {
    "duration": 7025,
    "start_time": "2025-04-21T20:05:44.326Z"
   },
   {
    "duration": 527,
    "start_time": "2025-04-21T20:05:51.354Z"
   },
   {
    "duration": 445,
    "start_time": "2025-04-21T20:05:51.882Z"
   },
   {
    "duration": 35,
    "start_time": "2025-04-21T20:05:52.329Z"
   },
   {
    "duration": 99,
    "start_time": "2025-04-21T20:05:52.366Z"
   },
   {
    "duration": 12,
    "start_time": "2025-04-21T20:05:52.467Z"
   },
   {
    "duration": 19,
    "start_time": "2025-04-21T20:05:52.482Z"
   },
   {
    "duration": 15,
    "start_time": "2025-04-21T20:05:52.504Z"
   },
   {
    "duration": 108,
    "start_time": "2025-04-21T20:05:52.521Z"
   },
   {
    "duration": 10,
    "start_time": "2025-04-21T20:05:52.631Z"
   },
   {
    "duration": 25,
    "start_time": "2025-04-21T20:05:52.643Z"
   },
   {
    "duration": 292,
    "start_time": "2025-04-21T20:05:52.669Z"
   },
   {
    "duration": 286,
    "start_time": "2025-04-21T20:05:52.963Z"
   },
   {
    "duration": 15,
    "start_time": "2025-04-21T20:05:53.251Z"
   },
   {
    "duration": 271,
    "start_time": "2025-04-21T20:05:53.268Z"
   },
   {
    "duration": 274,
    "start_time": "2025-04-21T20:05:53.542Z"
   },
   {
    "duration": 488,
    "start_time": "2025-04-21T20:05:53.818Z"
   },
   {
    "duration": 649,
    "start_time": "2025-04-21T20:05:54.308Z"
   },
   {
    "duration": 28,
    "start_time": "2025-04-21T20:05:54.961Z"
   },
   {
    "duration": 17,
    "start_time": "2025-04-21T20:05:54.990Z"
   },
   {
    "duration": 139,
    "start_time": "2025-04-21T20:05:55.009Z"
   },
   {
    "duration": 51,
    "start_time": "2025-04-21T20:07:45.414Z"
   },
   {
    "duration": 1301,
    "start_time": "2025-04-21T20:25:44.827Z"
   },
   {
    "duration": 44,
    "start_time": "2025-04-21T20:26:14.665Z"
   },
   {
    "duration": 92,
    "start_time": "2025-04-21T20:26:20.367Z"
   },
   {
    "duration": 37,
    "start_time": "2025-04-21T20:29:13.818Z"
   },
   {
    "duration": 36,
    "start_time": "2025-04-21T20:29:19.469Z"
   },
   {
    "duration": 43,
    "start_time": "2025-04-21T20:30:18.574Z"
   },
   {
    "duration": 9,
    "start_time": "2025-04-21T20:35:30.197Z"
   },
   {
    "duration": 16,
    "start_time": "2025-04-21T20:35:39.916Z"
   },
   {
    "duration": 67,
    "start_time": "2025-04-21T20:37:34.813Z"
   },
   {
    "duration": 61,
    "start_time": "2025-04-21T20:37:53.766Z"
   },
   {
    "duration": 64,
    "start_time": "2025-04-21T20:39:27.380Z"
   },
   {
    "duration": 70,
    "start_time": "2025-04-21T20:39:39.526Z"
   },
   {
    "duration": 68,
    "start_time": "2025-04-21T20:40:45.594Z"
   },
   {
    "duration": 65,
    "start_time": "2025-04-21T20:48:53.078Z"
   },
   {
    "duration": 87,
    "start_time": "2025-04-21T20:49:24.923Z"
   },
   {
    "duration": 69,
    "start_time": "2025-04-21T20:49:36.462Z"
   },
   {
    "duration": 71,
    "start_time": "2025-04-21T20:49:53.127Z"
   },
   {
    "duration": 69,
    "start_time": "2025-04-21T20:50:06.609Z"
   },
   {
    "duration": 12,
    "start_time": "2025-04-21T21:02:20.920Z"
   },
   {
    "duration": 50,
    "start_time": "2025-04-21T21:03:13.191Z"
   },
   {
    "duration": 51,
    "start_time": "2025-04-21T21:03:22.623Z"
   },
   {
    "duration": 50,
    "start_time": "2025-04-21T21:03:28.197Z"
   },
   {
    "duration": 54,
    "start_time": "2025-04-21T21:03:33.724Z"
   },
   {
    "duration": 63,
    "start_time": "2025-04-21T21:04:53.477Z"
   },
   {
    "duration": 14,
    "start_time": "2025-04-21T21:07:49.725Z"
   },
   {
    "duration": 5,
    "start_time": "2025-04-21T21:08:11.791Z"
   },
   {
    "duration": 23,
    "start_time": "2025-04-21T21:13:49.623Z"
   },
   {
    "duration": 8,
    "start_time": "2025-04-21T21:17:35.641Z"
   },
   {
    "duration": 7,
    "start_time": "2025-04-21T21:20:10.006Z"
   },
   {
    "duration": 3,
    "start_time": "2025-04-21T21:22:34.790Z"
   },
   {
    "duration": 2260,
    "start_time": "2025-04-21T21:22:34.795Z"
   },
   {
    "duration": 150,
    "start_time": "2025-04-21T21:22:37.060Z"
   },
   {
    "duration": 418,
    "start_time": "2025-04-21T21:22:37.212Z"
   },
   {
    "duration": 42,
    "start_time": "2025-04-21T21:22:37.632Z"
   },
   {
    "duration": 286,
    "start_time": "2025-04-21T21:22:37.676Z"
   },
   {
    "duration": 41,
    "start_time": "2025-04-21T21:22:37.964Z"
   },
   {
    "duration": 65,
    "start_time": "2025-04-21T21:22:38.007Z"
   },
   {
    "duration": 290,
    "start_time": "2025-04-21T21:22:38.074Z"
   },
   {
    "duration": 270,
    "start_time": "2025-04-21T21:22:38.365Z"
   },
   {
    "duration": 25,
    "start_time": "2025-04-21T21:22:38.637Z"
   },
   {
    "duration": 182,
    "start_time": "2025-04-21T21:22:38.664Z"
   },
   {
    "duration": 6676,
    "start_time": "2025-04-21T21:22:38.848Z"
   },
   {
    "duration": 429,
    "start_time": "2025-04-21T21:22:45.525Z"
   },
   {
    "duration": 17,
    "start_time": "2025-04-21T21:22:45.956Z"
   },
   {
    "duration": 104,
    "start_time": "2025-04-21T21:22:45.974Z"
   },
   {
    "duration": 56,
    "start_time": "2025-04-21T21:22:46.079Z"
   },
   {
    "duration": 45,
    "start_time": "2025-04-21T21:22:46.136Z"
   },
   {
    "duration": 24,
    "start_time": "2025-04-21T21:22:46.183Z"
   },
   {
    "duration": 16,
    "start_time": "2025-04-21T21:22:46.209Z"
   },
   {
    "duration": 74,
    "start_time": "2025-04-21T21:22:46.227Z"
   },
   {
    "duration": 13,
    "start_time": "2025-04-21T21:22:46.303Z"
   },
   {
    "duration": 9,
    "start_time": "2025-04-21T21:22:46.317Z"
   },
   {
    "duration": 285,
    "start_time": "2025-04-21T21:22:46.327Z"
   },
   {
    "duration": 299,
    "start_time": "2025-04-21T21:22:46.614Z"
   },
   {
    "duration": 9,
    "start_time": "2025-04-21T21:22:46.914Z"
   },
   {
    "duration": 252,
    "start_time": "2025-04-21T21:22:46.924Z"
   },
   {
    "duration": 257,
    "start_time": "2025-04-21T21:22:47.178Z"
   },
   {
    "duration": 653,
    "start_time": "2025-04-21T21:22:47.438Z"
   },
   {
    "duration": 621,
    "start_time": "2025-04-21T21:22:48.093Z"
   },
   {
    "duration": 23,
    "start_time": "2025-04-21T21:22:48.716Z"
   },
   {
    "duration": 73,
    "start_time": "2025-04-21T21:22:48.741Z"
   },
   {
    "duration": 15,
    "start_time": "2025-04-21T21:22:48.816Z"
   },
   {
    "duration": 107,
    "start_time": "2025-04-21T21:22:48.832Z"
   },
   {
    "duration": 51,
    "start_time": "2025-04-21T21:22:48.941Z"
   },
   {
    "duration": 81,
    "start_time": "2025-04-21T21:22:48.994Z"
   },
   {
    "duration": 67,
    "start_time": "2025-04-21T21:22:49.076Z"
   },
   {
    "duration": 60,
    "start_time": "2025-04-21T21:22:49.161Z"
   },
   {
    "duration": 7,
    "start_time": "2025-04-21T21:22:49.222Z"
   },
   {
    "duration": 411,
    "start_time": "2025-04-22T06:45:34.395Z"
   },
   {
    "duration": 2067,
    "start_time": "2025-04-22T06:45:34.808Z"
   },
   {
    "duration": 152,
    "start_time": "2025-04-22T06:45:36.877Z"
   },
   {
    "duration": 415,
    "start_time": "2025-04-22T06:45:37.031Z"
   },
   {
    "duration": 57,
    "start_time": "2025-04-22T06:45:37.449Z"
   },
   {
    "duration": 352,
    "start_time": "2025-04-22T06:45:37.508Z"
   },
   {
    "duration": 43,
    "start_time": "2025-04-22T06:45:37.875Z"
   },
   {
    "duration": 254,
    "start_time": "2025-04-22T06:45:37.920Z"
   },
   {
    "duration": 381,
    "start_time": "2025-04-22T06:45:38.176Z"
   },
   {
    "duration": 274,
    "start_time": "2025-04-22T06:45:38.560Z"
   },
   {
    "duration": 32,
    "start_time": "2025-04-22T06:45:38.837Z"
   },
   {
    "duration": 185,
    "start_time": "2025-04-22T06:45:38.871Z"
   },
   {
    "duration": 7848,
    "start_time": "2025-04-22T06:45:39.058Z"
   },
   {
    "duration": 480,
    "start_time": "2025-04-22T06:45:46.909Z"
   },
   {
    "duration": 422,
    "start_time": "2025-04-22T06:45:47.390Z"
   },
   {
    "duration": 30,
    "start_time": "2025-04-22T06:45:47.813Z"
   },
   {
    "duration": 138,
    "start_time": "2025-04-22T06:45:47.845Z"
   },
   {
    "duration": 7,
    "start_time": "2025-04-22T06:45:47.985Z"
   },
   {
    "duration": 28,
    "start_time": "2025-04-22T06:45:47.993Z"
   },
   {
    "duration": 20,
    "start_time": "2025-04-22T06:45:48.023Z"
   },
   {
    "duration": 103,
    "start_time": "2025-04-22T06:45:48.045Z"
   },
   {
    "duration": 8,
    "start_time": "2025-04-22T06:45:48.150Z"
   },
   {
    "duration": 16,
    "start_time": "2025-04-22T06:45:48.159Z"
   },
   {
    "duration": 292,
    "start_time": "2025-04-22T06:45:48.177Z"
   },
   {
    "duration": 270,
    "start_time": "2025-04-22T06:45:48.476Z"
   },
   {
    "duration": 28,
    "start_time": "2025-04-22T06:45:48.747Z"
   },
   {
    "duration": 251,
    "start_time": "2025-04-22T06:45:48.777Z"
   },
   {
    "duration": 273,
    "start_time": "2025-04-22T06:45:49.030Z"
   },
   {
    "duration": 491,
    "start_time": "2025-04-22T06:45:49.305Z"
   },
   {
    "duration": 684,
    "start_time": "2025-04-22T06:45:49.798Z"
   },
   {
    "duration": 25,
    "start_time": "2025-04-22T06:45:50.485Z"
   },
   {
    "duration": 26,
    "start_time": "2025-04-22T06:45:50.512Z"
   },
   {
    "duration": 47,
    "start_time": "2025-04-22T06:45:50.540Z"
   },
   {
    "duration": 106,
    "start_time": "2025-04-22T06:45:50.589Z"
   },
   {
    "duration": 41,
    "start_time": "2025-04-22T06:45:50.697Z"
   },
   {
    "duration": 85,
    "start_time": "2025-04-22T06:45:50.739Z"
   },
   {
    "duration": 74,
    "start_time": "2025-04-22T06:45:50.826Z"
   },
   {
    "duration": 76,
    "start_time": "2025-04-22T06:45:50.902Z"
   },
   {
    "duration": 10,
    "start_time": "2025-04-22T06:45:50.979Z"
   },
   {
    "duration": 76,
    "start_time": "2025-04-22T06:46:49.807Z"
   },
   {
    "duration": 80,
    "start_time": "2025-04-22T06:50:21.476Z"
   },
   {
    "duration": 48,
    "start_time": "2025-04-22T12:08:52.480Z"
   },
   {
    "duration": 389,
    "start_time": "2025-04-22T12:10:03.270Z"
   },
   {
    "duration": 2080,
    "start_time": "2025-04-22T12:10:03.662Z"
   },
   {
    "duration": 152,
    "start_time": "2025-04-22T12:10:05.743Z"
   },
   {
    "duration": 349,
    "start_time": "2025-04-22T12:10:05.897Z"
   },
   {
    "duration": 41,
    "start_time": "2025-04-22T12:10:06.248Z"
   },
   {
    "duration": 345,
    "start_time": "2025-04-22T12:10:06.291Z"
   },
   {
    "duration": 52,
    "start_time": "2025-04-22T12:10:06.639Z"
   },
   {
    "duration": 699,
    "start_time": "2025-04-22T12:10:06.693Z"
   },
   {
    "duration": 390,
    "start_time": "2025-04-22T12:10:07.395Z"
   },
   {
    "duration": 255,
    "start_time": "2025-04-22T12:10:07.787Z"
   },
   {
    "duration": 14,
    "start_time": "2025-04-22T12:10:08.044Z"
   },
   {
    "duration": 196,
    "start_time": "2025-04-22T12:10:08.059Z"
   },
   {
    "duration": 6371,
    "start_time": "2025-04-22T12:10:08.257Z"
   },
   {
    "duration": 506,
    "start_time": "2025-04-22T12:10:14.630Z"
   },
   {
    "duration": 444,
    "start_time": "2025-04-22T12:10:15.139Z"
   },
   {
    "duration": 31,
    "start_time": "2025-04-22T12:10:15.585Z"
   },
   {
    "duration": 74,
    "start_time": "2025-04-22T12:10:15.618Z"
   },
   {
    "duration": 8,
    "start_time": "2025-04-22T12:10:15.697Z"
   },
   {
    "duration": 16,
    "start_time": "2025-04-22T12:10:15.707Z"
   },
   {
    "duration": 9,
    "start_time": "2025-04-22T12:10:15.725Z"
   },
   {
    "duration": 73,
    "start_time": "2025-04-22T12:10:15.735Z"
   },
   {
    "duration": 8,
    "start_time": "2025-04-22T12:10:15.810Z"
   },
   {
    "duration": 8,
    "start_time": "2025-04-22T12:10:15.836Z"
   },
   {
    "duration": 260,
    "start_time": "2025-04-22T12:10:15.846Z"
   },
   {
    "duration": 257,
    "start_time": "2025-04-22T12:10:16.108Z"
   },
   {
    "duration": 8,
    "start_time": "2025-04-22T12:10:16.366Z"
   },
   {
    "duration": 246,
    "start_time": "2025-04-22T12:10:16.375Z"
   },
   {
    "duration": 255,
    "start_time": "2025-04-22T12:10:16.623Z"
   },
   {
    "duration": 858,
    "start_time": "2025-04-22T12:10:16.880Z"
   },
   {
    "duration": 765,
    "start_time": "2025-04-22T12:10:17.740Z"
   },
   {
    "duration": 31,
    "start_time": "2025-04-22T12:10:18.506Z"
   },
   {
    "duration": 23,
    "start_time": "2025-04-22T12:10:18.539Z"
   },
   {
    "duration": 14,
    "start_time": "2025-04-22T12:10:18.564Z"
   },
   {
    "duration": 116,
    "start_time": "2025-04-22T12:10:18.580Z"
   },
   {
    "duration": 49,
    "start_time": "2025-04-22T12:10:18.698Z"
   },
   {
    "duration": 62,
    "start_time": "2025-04-22T12:10:18.749Z"
   },
   {
    "duration": 73,
    "start_time": "2025-04-22T12:10:18.812Z"
   },
   {
    "duration": 78,
    "start_time": "2025-04-22T12:10:18.887Z"
   },
   {
    "duration": 10,
    "start_time": "2025-04-22T12:10:18.967Z"
   },
   {
    "duration": 8,
    "start_time": "2025-04-22T12:26:46.885Z"
   },
   {
    "duration": 67,
    "start_time": "2025-04-22T12:29:00.800Z"
   },
   {
    "duration": 244,
    "start_time": "2025-04-22T12:29:34.665Z"
   },
   {
    "duration": 256,
    "start_time": "2025-04-22T12:30:26.668Z"
   },
   {
    "duration": 264,
    "start_time": "2025-04-22T12:30:46.932Z"
   },
   {
    "duration": 17,
    "start_time": "2025-04-22T12:32:21.746Z"
   },
   {
    "duration": 226,
    "start_time": "2025-04-22T12:32:46.458Z"
   },
   {
    "duration": 61,
    "start_time": "2025-04-22T12:32:57.826Z"
   },
   {
    "duration": 227,
    "start_time": "2025-04-22T12:33:04.909Z"
   },
   {
    "duration": 13,
    "start_time": "2025-04-22T12:38:48.536Z"
   },
   {
    "duration": 7,
    "start_time": "2025-04-22T12:39:19.164Z"
   },
   {
    "duration": 438,
    "start_time": "2025-04-22T17:44:08.323Z"
   },
   {
    "duration": 1946,
    "start_time": "2025-04-22T17:44:08.763Z"
   },
   {
    "duration": 146,
    "start_time": "2025-04-22T17:44:10.710Z"
   },
   {
    "duration": 374,
    "start_time": "2025-04-22T17:44:10.858Z"
   },
   {
    "duration": 41,
    "start_time": "2025-04-22T17:44:11.237Z"
   },
   {
    "duration": 561,
    "start_time": "2025-04-22T17:44:11.279Z"
   },
   {
    "duration": 97,
    "start_time": "2025-04-22T17:44:11.842Z"
   },
   {
    "duration": 429,
    "start_time": "2025-04-22T17:44:11.941Z"
   },
   {
    "duration": 595,
    "start_time": "2025-04-22T17:44:12.372Z"
   },
   {
    "duration": 281,
    "start_time": "2025-04-22T17:44:12.969Z"
   },
   {
    "duration": 12,
    "start_time": "2025-04-22T17:44:13.252Z"
   },
   {
    "duration": 191,
    "start_time": "2025-04-22T17:44:13.265Z"
   },
   {
    "duration": 6479,
    "start_time": "2025-04-22T17:44:13.458Z"
   },
   {
    "duration": 420,
    "start_time": "2025-04-22T17:44:19.939Z"
   },
   {
    "duration": 424,
    "start_time": "2025-04-22T17:44:20.361Z"
   },
   {
    "duration": 30,
    "start_time": "2025-04-22T17:44:20.787Z"
   },
   {
    "duration": 58,
    "start_time": "2025-04-22T17:44:20.819Z"
   },
   {
    "duration": 9,
    "start_time": "2025-04-22T17:44:20.879Z"
   },
   {
    "duration": 11,
    "start_time": "2025-04-22T17:44:20.890Z"
   },
   {
    "duration": 9,
    "start_time": "2025-04-22T17:44:20.903Z"
   },
   {
    "duration": 146,
    "start_time": "2025-04-22T17:44:20.914Z"
   },
   {
    "duration": 8,
    "start_time": "2025-04-22T17:44:21.062Z"
   },
   {
    "duration": 8,
    "start_time": "2025-04-22T17:44:21.072Z"
   },
   {
    "duration": 266,
    "start_time": "2025-04-22T17:44:21.081Z"
   },
   {
    "duration": 259,
    "start_time": "2025-04-22T17:44:21.349Z"
   },
   {
    "duration": 8,
    "start_time": "2025-04-22T17:44:21.610Z"
   },
   {
    "duration": 250,
    "start_time": "2025-04-22T17:44:21.620Z"
   },
   {
    "duration": 253,
    "start_time": "2025-04-22T17:44:21.875Z"
   },
   {
    "duration": 520,
    "start_time": "2025-04-22T17:44:22.130Z"
   },
   {
    "duration": 610,
    "start_time": "2025-04-22T17:44:22.652Z"
   },
   {
    "duration": 23,
    "start_time": "2025-04-22T17:44:23.263Z"
   },
   {
    "duration": 23,
    "start_time": "2025-04-22T17:44:23.288Z"
   },
   {
    "duration": 37,
    "start_time": "2025-04-22T17:44:23.313Z"
   },
   {
    "duration": 113,
    "start_time": "2025-04-22T17:44:23.351Z"
   },
   {
    "duration": 42,
    "start_time": "2025-04-22T17:44:23.466Z"
   },
   {
    "duration": 107,
    "start_time": "2025-04-22T17:44:23.510Z"
   },
   {
    "duration": 65,
    "start_time": "2025-04-22T17:44:23.618Z"
   },
   {
    "duration": 68,
    "start_time": "2025-04-22T17:44:23.685Z"
   },
   {
    "duration": 10,
    "start_time": "2025-04-22T17:44:23.754Z"
   }
  ],
  "colab": {
   "provenance": []
  },
  "kernelspec": {
   "display_name": "Python 3 (ipykernel)",
   "language": "python",
   "name": "python3"
  },
  "language_info": {
   "codemirror_mode": {
    "name": "ipython",
    "version": 3
   },
   "file_extension": ".py",
   "mimetype": "text/x-python",
   "name": "python",
   "nbconvert_exporter": "python",
   "pygments_lexer": "ipython3",
   "version": "3.9.5"
  },
  "toc": {
   "base_numbering": 1,
   "nav_menu": {},
   "number_sections": true,
   "sideBar": true,
   "skip_h1_title": true,
   "title_cell": "Table of Contents",
   "title_sidebar": "Contents",
   "toc_cell": false,
   "toc_position": {},
   "toc_section_display": true,
   "toc_window_display": true
  }
 },
 "nbformat": 4,
 "nbformat_minor": 1
}
