{
 "cells": [
  {
   "cell_type": "markdown",
   "metadata": {
    "id": "4mJbK1knrJgz"
   },
   "source": [
    "# Проект: Исследование стартапов"
   ]
  },
  {
   "cell_type": "markdown",
   "metadata": {},
   "source": [
    "**Автор:** Семин Андрей Геннадьевич  \n",
    "**Дата подготовки отчета:**  20.02.2025г."
   ]
  },
  {
   "cell_type": "markdown",
   "metadata": {
    "id": "P6j0r3worJg0"
   },
   "source": [
    "## Введение"
   ]
  },
  {
   "cell_type": "markdown",
   "metadata": {
    "id": "8lQtbsIUyFG6"
   },
   "source": [
    "### Цель проекта:  \n",
    "Подготовить датасет и проверить, что данные в нём соответствуют здравому смыслу, а также ответить на вопросы заказчика как о предобработке, так и о значении данных для бизнеса."
   ]
  },
  {
   "cell_type": "markdown",
   "metadata": {},
   "source": [
    "### Описание проекта:  \n",
    "Финансовая компания, которая предоставляет льготные займы стартапам, хочет войти на инвестиционный рынок с прицелом на покупку, развитие и последующую перепродажу перспективных стартапов. Для разработки модели бизнеса нужна информация. Чтобы выработать общее понимание, какие данные могут быть полезны, проводится исследование на исторических данных.  \n",
    "Исследование на этом наборе датасетов уже пытались проводить внутренними силами, но собственных аналитиков у компании нет и для решения задачи пригласили аутсорс-специалистов. Данные неполны, поэтому заказчик, кроме ответа на некоторые интересующие его вопросы, просит аккуратно относиться к получаемым в процессе исследования значениям показателей и выводам и стараться оценивать их на возможные искажения."
   ]
  },
  {
   "cell_type": "markdown",
   "metadata": {},
   "source": [
    "### Описание данных:   \n",
    "Таблица **`acquisition`**. Содержит информацию о покупках одними компаниями других компаний:  \n",
    "`id` — идентификатор покупки;  \n",
    "`acquiring_company_id` — идентификатор покупающей компании;  \n",
    "`acquired_company_id` — идентификатор покупаемой компании;  \n",
    "`term_code` — варианты расчёта;  \n",
    "`price_amount` — сумма сделки;  \n",
    "`acquired_at` — дата сделки.    \n",
    "  \n",
    "Таблица **`company_and_rounds`**. Содержит информацию о компаниях и раундах финансирования:  \n",
    "`company ID` — идентификатор компании;  \n",
    "`name` — название компании;  \n",
    "`category code` — категория области деятельности компании;  \n",
    "`status` — статус компании;  \n",
    "`founded at` — дата инвестирования;  \n",
    "`closed at` — дата закрытия компании;  \n",
    "`domain` — официальный сайт компании;  \n",
    "`network username` — ник компании в сети;  \n",
    "`country code` — код страны компании;  \n",
    "`investment rounds` — число инвестиционных раундов;  \n",
    "`funding rounds` — число раундов финансирования;  \n",
    "`funding total` — сумма финансирования;  \n",
    "`milestones` — вехи финансирования;  \n",
    "`funding round id` — идентификатор этапа финансирования;  \n",
    "`company id` — идентификатор компании;  \n",
    "`funded at` — дата финансирования;  \n",
    "`funding round type` — тип финансирования;  \n",
    "`raised amount` — сумма финансирования;  \n",
    "`pre money valuation` — предварительная денежная оценка;  \n",
    "`participants` — число участников;  \n",
    "`is first round` — является ли раунд первым;  \n",
    "`is last round` — является раунд последним.    \n",
    "  \n",
    "Таблица **`education`**. Содержит информацию об образовании сотрудника:  \n",
    "`id` — идентификатор записи об образовании;  \n",
    "`person_id` — идентификатор работника;  \n",
    "`instituition` — название учебного заведения;  \n",
    "`graduated_at` — дата получения образования.    \n",
    "  \n",
    "Таблица **`people`**. Содержит информацию о сотрудниках:  \n",
    "`id` — идентификатор сотрудника;  \n",
    "`first_name` — имя сотрудника;  \n",
    "`last_name` — фамилия сотрудника;  \n",
    "`company_id` — идентификатор компании;  \n",
    "`network_username` — ник в социальных сетях.    \n",
    "  \n",
    "Таблица **`degrees`**. Содержит информацию о типе образования сотрудника:  \n",
    "`id` — идентификатор записи;  \n",
    "`object_id` — идентификатор сотрудника;  \n",
    "`degree_type` — тип образования;  \n",
    "`subject` — специальность.    \n",
    "  \n",
    "Таблица **`fund`**. Содержит информацию о фондах:  \n",
    "`id` — идентификатор фонда;  \n",
    "`name` — название фонда;  \n",
    "`category_code` — категория области деятельности компании;  \n",
    "`founded_at` — дата создания фонда;  \n",
    "`domain` — сайт фонда;  \n",
    "`network_username` — ник фонда в сети;  \n",
    "`country_code` — код страны фонда;  \n",
    "`investment_rounds` — число инвестиционных раундов;  \n",
    "`invested_companies` — число профинансированных компаний;  \n",
    "`milestones` — вехи финансирования. \n",
    "  \n",
    "Таблица **`investment`**. Содержит информацию о раундах инвестирования:  \n",
    "`id` — идентификатор этапа инвестирования;  \n",
    "`funding_round_id` — идентификатор раунда инвестирования;  \n",
    "`company_id` — индентификатор компании;  \n",
    "`funding_round_type` — тип финансирования;  \n",
    "`fund_id` — идентификатор фонда."
   ]
  },
  {
   "cell_type": "markdown",
   "metadata": {},
   "source": [
    "### Задачи:  \n",
    "1. Знакомоство с данным: загрузка и первичная предобработка:  \n",
    "    - Вывод общей информации, исправление названия столбцов;\n",
    "    - Смена типов и анализ пропусков;\n",
    "2. Предобработка данных, предобработка данных, предварительное исследование.\n",
    "    - Раунды финансирования по годам;\n",
    "    - Люди и их образование;\n",
    "    - Выбор данных для объединения;\n",
    "    - Проверка пропусков и оценка причин их возникновения;\n",
    "3. Исследовательский анализ объединенных таблиц: \n",
    "    - Объединение данных;\n",
    "    - Анализ выбросов;\n",
    "    - Исследование бесплатных компаний;\n",
    "    - Цены стартапов по категориям;\n",
    "    - Сколько раундов продержится стартап перед покупкой.\n",
    "4. Итоговый вывод."
   ]
  },
  {
   "cell_type": "markdown",
   "metadata": {
    "id": "xqr6uttCrJg0"
   },
   "source": [
    "\n",
    "## Шаг 1. Знакомство с данными: загрузка и первичная предобработка\n",
    "\n",
    "Названия файлов:\n",
    "* acquisition.csv\n",
    "* company_and_rounds.csv\n",
    "* degrees.csv\n",
    "* education.csv\n",
    "* fund.csv\n",
    "* investment.csv\n",
    "* people.csv\n",
    "\n",
    "Они находятся в папке datasets, если вы выполняете работу на платформе. В случае, если вы делаете работу локально, доступ к файлам в папке можно получить по адресу `https://code.s3.yandex.net/datasets/` + имя файла.\n",
    "\n",
    "### 1.1. Вывод общей информации, исправление названия столбцов"
   ]
  },
  {
   "cell_type": "code",
   "execution_count": 152,
   "metadata": {
    "scrolled": true
   },
   "outputs": [
    {
     "name": "stdout",
     "output_type": "stream",
     "text": [
      "Requirement already satisfied: phik in /opt/conda/lib/python3.9/site-packages (0.12.4)\n",
      "Requirement already satisfied: joblib>=0.14.1 in /opt/conda/lib/python3.9/site-packages (from phik) (1.1.0)\n",
      "Requirement already satisfied: scipy>=1.5.2 in /opt/conda/lib/python3.9/site-packages (from phik) (1.9.1)\n",
      "Requirement already satisfied: numpy>=1.18.0 in /opt/conda/lib/python3.9/site-packages (from phik) (1.21.1)\n",
      "Requirement already satisfied: pandas>=0.25.1 in /opt/conda/lib/python3.9/site-packages (from phik) (1.2.4)\n",
      "Requirement already satisfied: matplotlib>=2.2.3 in /opt/conda/lib/python3.9/site-packages (from phik) (3.3.4)\n",
      "Requirement already satisfied: pillow>=6.2.0 in /opt/conda/lib/python3.9/site-packages (from matplotlib>=2.2.3->phik) (8.4.0)\n",
      "Requirement already satisfied: pyparsing!=2.0.4,!=2.1.2,!=2.1.6,>=2.0.3 in /opt/conda/lib/python3.9/site-packages (from matplotlib>=2.2.3->phik) (2.4.7)\n",
      "Requirement already satisfied: kiwisolver>=1.0.1 in /opt/conda/lib/python3.9/site-packages (from matplotlib>=2.2.3->phik) (1.4.4)\n",
      "Requirement already satisfied: cycler>=0.10 in /opt/conda/lib/python3.9/site-packages (from matplotlib>=2.2.3->phik) (0.11.0)\n",
      "Requirement already satisfied: python-dateutil>=2.1 in /opt/conda/lib/python3.9/site-packages (from matplotlib>=2.2.3->phik) (2.8.1)\n",
      "Requirement already satisfied: pytz>=2017.3 in /opt/conda/lib/python3.9/site-packages (from pandas>=0.25.1->phik) (2021.1)\n",
      "Requirement already satisfied: six>=1.5 in /opt/conda/lib/python3.9/site-packages (from python-dateutil>=2.1->matplotlib>=2.2.3->phik) (1.16.0)\n"
     ]
    }
   ],
   "source": [
    "!pip install phik"
   ]
  },
  {
   "cell_type": "code",
   "execution_count": 153,
   "metadata": {},
   "outputs": [],
   "source": [
    "# Импортируем библиотеку для дальнейшей работы с датафреймами\n",
    "import pandas as pd\n",
    "\n",
    "# Импортируем библиотеку для визуализации данных\n",
    "import matplotlib.pyplot as plt\n",
    "import seaborn as sns\n",
    "\n",
    "# Импортируем библиотек для расчета коэффициента корреляции\n",
    "from phik import phik_matrix"
   ]
  },
  {
   "cell_type": "code",
   "execution_count": 154,
   "metadata": {},
   "outputs": [],
   "source": [
    "# Загрузим все датасеты, которые необходимы для работы\n",
    "acquisition  = pd.read_csv('acquisition.csv')\n",
    "company_and_rounds = pd.read_csv('company_and_rounds.csv')\n",
    "people = pd.read_csv('people.csv')\n",
    "education = pd.read_csv('education.csv')\n",
    "degrees = pd.read_csv('degrees.csv')\n",
    "fund = pd.read_csv('fund.csv')\n",
    "investement = pd.read_csv('investment.csv')"
   ]
  },
  {
   "cell_type": "markdown",
   "metadata": {},
   "source": [
    "Рассмотрим данные, которые представлены в датафреймах по отдельности."
   ]
  },
  {
   "cell_type": "code",
   "execution_count": 155,
   "metadata": {},
   "outputs": [
    {
     "data": {
      "text/html": [
       "<div>\n",
       "<style scoped>\n",
       "    .dataframe tbody tr th:only-of-type {\n",
       "        vertical-align: middle;\n",
       "    }\n",
       "\n",
       "    .dataframe tbody tr th {\n",
       "        vertical-align: top;\n",
       "    }\n",
       "\n",
       "    .dataframe thead th {\n",
       "        text-align: right;\n",
       "    }\n",
       "</style>\n",
       "<table border=\"1\" class=\"dataframe\">\n",
       "  <thead>\n",
       "    <tr style=\"text-align: right;\">\n",
       "      <th></th>\n",
       "      <th>id</th>\n",
       "      <th>acquiring_company_id</th>\n",
       "      <th>acquired_company_id</th>\n",
       "      <th>term_code</th>\n",
       "      <th>price_amount</th>\n",
       "      <th>acquired_at</th>\n",
       "    </tr>\n",
       "  </thead>\n",
       "  <tbody>\n",
       "    <tr>\n",
       "      <th>0</th>\n",
       "      <td>1</td>\n",
       "      <td>11</td>\n",
       "      <td>10</td>\n",
       "      <td>NaN</td>\n",
       "      <td>20000000</td>\n",
       "      <td>2007-05-30</td>\n",
       "    </tr>\n",
       "    <tr>\n",
       "      <th>1</th>\n",
       "      <td>7</td>\n",
       "      <td>59</td>\n",
       "      <td>72</td>\n",
       "      <td>cash</td>\n",
       "      <td>60000000</td>\n",
       "      <td>2007-07-01</td>\n",
       "    </tr>\n",
       "    <tr>\n",
       "      <th>2</th>\n",
       "      <td>8</td>\n",
       "      <td>24</td>\n",
       "      <td>132</td>\n",
       "      <td>cash</td>\n",
       "      <td>280000000</td>\n",
       "      <td>2007-05-01</td>\n",
       "    </tr>\n",
       "    <tr>\n",
       "      <th>3</th>\n",
       "      <td>9</td>\n",
       "      <td>59</td>\n",
       "      <td>155</td>\n",
       "      <td>cash</td>\n",
       "      <td>100000000</td>\n",
       "      <td>2007-06-01</td>\n",
       "    </tr>\n",
       "    <tr>\n",
       "      <th>4</th>\n",
       "      <td>10</td>\n",
       "      <td>212</td>\n",
       "      <td>215</td>\n",
       "      <td>cash</td>\n",
       "      <td>25000000</td>\n",
       "      <td>2007-07-01</td>\n",
       "    </tr>\n",
       "  </tbody>\n",
       "</table>\n",
       "</div>"
      ],
      "text/plain": [
       "   id  acquiring_company_id  acquired_company_id term_code  price_amount  \\\n",
       "0   1                    11                   10       NaN      20000000   \n",
       "1   7                    59                   72      cash      60000000   \n",
       "2   8                    24                  132      cash     280000000   \n",
       "3   9                    59                  155      cash     100000000   \n",
       "4  10                   212                  215      cash      25000000   \n",
       "\n",
       "  acquired_at  \n",
       "0  2007-05-30  \n",
       "1  2007-07-01  \n",
       "2  2007-05-01  \n",
       "3  2007-06-01  \n",
       "4  2007-07-01  "
      ]
     },
     "metadata": {},
     "output_type": "display_data"
    },
    {
     "name": "stdout",
     "output_type": "stream",
     "text": [
      "<class 'pandas.core.frame.DataFrame'>\n",
      "RangeIndex: 9407 entries, 0 to 9406\n",
      "Data columns (total 6 columns):\n",
      " #   Column                Non-Null Count  Dtype \n",
      "---  ------                --------------  ----- \n",
      " 0   id                    9407 non-null   int64 \n",
      " 1   acquiring_company_id  9407 non-null   int64 \n",
      " 2   acquired_company_id   9407 non-null   int64 \n",
      " 3   term_code             1831 non-null   object\n",
      " 4   price_amount          9407 non-null   int64 \n",
      " 5   acquired_at           9378 non-null   object\n",
      "dtypes: int64(4), object(2)\n",
      "memory usage: 441.1+ KB\n"
     ]
    },
    {
     "data": {
      "text/plain": [
       "None"
      ]
     },
     "metadata": {},
     "output_type": "display_data"
    }
   ],
   "source": [
    "# Выведем первые 5 строк данных\n",
    "display(acquisition.head(5))\n",
    "\n",
    "# Выведем общую информацию о датафрейме\n",
    "display(acquisition.info())"
   ]
  },
  {
   "cell_type": "markdown",
   "metadata": {},
   "source": [
    "На основе первичного знакомства с данными из датафрейма `acquisition` можно сделать следующие заключения о данных:\n",
    "- Размер датафрейма составляет 6 столбцов и 9407 строк;\n",
    "- Название столбцов корректны для дальнейшего использования;\n",
    "- Содержимое данных соответствует описанию;\n",
    "- в данных присуствубт следующие типы: `int64` - 4 поля, `object` - 2 поля;\n",
    "- Не все типы данных были установлены корректоно (например `acquired_at` содержит информацию о дате сделки, но при этом имеет тип object;\n",
    "- В данных присуствуют пропуски по двум полям: term_code, acquired_at - следует оценить долю пропусков относительно всех данных, а также рассмотреть значения, которые присутствуют в столбцах."
   ]
  },
  {
   "cell_type": "code",
   "execution_count": 156,
   "metadata": {},
   "outputs": [
    {
     "data": {
      "text/plain": [
       "count    9.407000e+03\n",
       "mean     3.932965e+08\n",
       "std      2.682198e+10\n",
       "min      0.000000e+00\n",
       "25%      0.000000e+00\n",
       "50%      0.000000e+00\n",
       "75%      2.343200e+04\n",
       "max      2.600000e+12\n",
       "Name: price_amount, dtype: float64"
      ]
     },
     "execution_count": 156,
     "metadata": {},
     "output_type": "execute_result"
    }
   ],
   "source": [
    "# Выведем статистические показатели по числовым полям\n",
    "acquisition['price_amount'].describe()"
   ]
  },
  {
   "cell_type": "markdown",
   "metadata": {},
   "source": [
    "Из статистических показателей заметно, что сумма сделки в среднем равна 3,93*10^8, но при этом медианное значение равно 0, что говорит о наличии выбросов. Учитывая специфику поля, то значение \"0\" должно являться таким выбросом, однако при условии что половина данных равна 0, то стоит более детально изучить информацию."
   ]
  },
  {
   "cell_type": "code",
   "execution_count": 157,
   "metadata": {},
   "outputs": [
    {
     "data": {
      "text/plain": [
       "id                       0.000000\n",
       "acquiring_company_id     0.000000\n",
       "acquired_company_id      0.000000\n",
       "term_code               80.535771\n",
       "price_amount             0.000000\n",
       "acquired_at              0.308281\n",
       "dtype: float64"
      ]
     },
     "execution_count": 157,
     "metadata": {},
     "output_type": "execute_result"
    }
   ],
   "source": [
    "# Проверим долю содержания пропусков в таблице\n",
    "acquisition.isna().sum() / acquisition.shape[0] * 100"
   ]
  },
  {
   "cell_type": "markdown",
   "metadata": {},
   "source": [
    "Пропуски в поле `acquired_at` составляют 0.3% - маленькое значение, в случае необходимости обработки таких пропусков и дальнейшего анализа, данными можно пренебречь и удалить записи без них. В свою очередь в поле term_code содержится свыше 80% пропущенных значений. Необходимо проверить уникальные значения поля для предварительного решения о методе обработки пропусков."
   ]
  },
  {
   "cell_type": "code",
   "execution_count": 158,
   "metadata": {},
   "outputs": [
    {
     "data": {
      "text/plain": [
       "cash              1195\n",
       "cash_and_stock     427\n",
       "stock              209\n",
       "Name: term_code, dtype: int64"
      ]
     },
     "execution_count": 158,
     "metadata": {},
     "output_type": "execute_result"
    }
   ],
   "source": [
    "acquisition['term_code'].value_counts()"
   ]
  },
  {
   "cell_type": "markdown",
   "metadata": {},
   "source": [
    "В поле присутсвуют только три варианта: cash, cash_and_stock и stock. Вероятнее всего они обазначат: денеги, деньги и акции, акции (соответственно). Остальные значения пусты. Предположить какие значения в них соддержится почти невозможно, поскольку пропуски в этих данных на первый взгляд не связаны с каким-то являнием или значением в переменных."
   ]
  },
  {
   "cell_type": "markdown",
   "metadata": {},
   "source": [
    "Перейдем к следующему датафрейму `company_and_rounds`."
   ]
  },
  {
   "cell_type": "code",
   "execution_count": 159,
   "metadata": {},
   "outputs": [
    {
     "data": {
      "text/html": [
       "<div>\n",
       "<style scoped>\n",
       "    .dataframe tbody tr th:only-of-type {\n",
       "        vertical-align: middle;\n",
       "    }\n",
       "\n",
       "    .dataframe tbody tr th {\n",
       "        vertical-align: top;\n",
       "    }\n",
       "\n",
       "    .dataframe thead th {\n",
       "        text-align: right;\n",
       "    }\n",
       "</style>\n",
       "<table border=\"1\" class=\"dataframe\">\n",
       "  <thead>\n",
       "    <tr style=\"text-align: right;\">\n",
       "      <th></th>\n",
       "      <th>company  ID</th>\n",
       "      <th>name</th>\n",
       "      <th>category  code</th>\n",
       "      <th>status</th>\n",
       "      <th>founded  at</th>\n",
       "      <th>closed  at</th>\n",
       "      <th>domain</th>\n",
       "      <th>network  username</th>\n",
       "      <th>country  code</th>\n",
       "      <th>investment  rounds</th>\n",
       "      <th>...</th>\n",
       "      <th>milestones</th>\n",
       "      <th>funding  round  id</th>\n",
       "      <th>company  id</th>\n",
       "      <th>funded  at</th>\n",
       "      <th>funding  round  type</th>\n",
       "      <th>raised  amount</th>\n",
       "      <th>pre  money  valuation</th>\n",
       "      <th>participants</th>\n",
       "      <th>is  first  round</th>\n",
       "      <th>is  last  round</th>\n",
       "    </tr>\n",
       "  </thead>\n",
       "  <tbody>\n",
       "    <tr>\n",
       "      <th>0</th>\n",
       "      <td>1.0</td>\n",
       "      <td>Wetpaint</td>\n",
       "      <td>web</td>\n",
       "      <td>operating</td>\n",
       "      <td>2005-10-17</td>\n",
       "      <td>NaN</td>\n",
       "      <td>wetpaint-inc.com</td>\n",
       "      <td>BachelrWetpaint</td>\n",
       "      <td>USA</td>\n",
       "      <td>0.0</td>\n",
       "      <td>...</td>\n",
       "      <td>5.0</td>\n",
       "      <td>888.0</td>\n",
       "      <td>1.0</td>\n",
       "      <td>2005-10-01</td>\n",
       "      <td>series-a</td>\n",
       "      <td>5250000.0</td>\n",
       "      <td>0.0</td>\n",
       "      <td>2.0</td>\n",
       "      <td>0.0</td>\n",
       "      <td>1.0</td>\n",
       "    </tr>\n",
       "    <tr>\n",
       "      <th>1</th>\n",
       "      <td>1.0</td>\n",
       "      <td>Wetpaint</td>\n",
       "      <td>web</td>\n",
       "      <td>operating</td>\n",
       "      <td>2005-10-17</td>\n",
       "      <td>NaN</td>\n",
       "      <td>wetpaint-inc.com</td>\n",
       "      <td>BachelrWetpaint</td>\n",
       "      <td>USA</td>\n",
       "      <td>0.0</td>\n",
       "      <td>...</td>\n",
       "      <td>5.0</td>\n",
       "      <td>889.0</td>\n",
       "      <td>1.0</td>\n",
       "      <td>2007-01-01</td>\n",
       "      <td>series-b</td>\n",
       "      <td>9500000.0</td>\n",
       "      <td>0.0</td>\n",
       "      <td>3.0</td>\n",
       "      <td>0.0</td>\n",
       "      <td>0.0</td>\n",
       "    </tr>\n",
       "    <tr>\n",
       "      <th>2</th>\n",
       "      <td>1.0</td>\n",
       "      <td>Wetpaint</td>\n",
       "      <td>web</td>\n",
       "      <td>operating</td>\n",
       "      <td>2005-10-17</td>\n",
       "      <td>NaN</td>\n",
       "      <td>wetpaint-inc.com</td>\n",
       "      <td>BachelrWetpaint</td>\n",
       "      <td>USA</td>\n",
       "      <td>0.0</td>\n",
       "      <td>...</td>\n",
       "      <td>5.0</td>\n",
       "      <td>2312.0</td>\n",
       "      <td>1.0</td>\n",
       "      <td>2008-05-19</td>\n",
       "      <td>series-c+</td>\n",
       "      <td>25000000.0</td>\n",
       "      <td>0.0</td>\n",
       "      <td>4.0</td>\n",
       "      <td>1.0</td>\n",
       "      <td>0.0</td>\n",
       "    </tr>\n",
       "    <tr>\n",
       "      <th>3</th>\n",
       "      <td>10.0</td>\n",
       "      <td>Flektor</td>\n",
       "      <td>games_video</td>\n",
       "      <td>acquired</td>\n",
       "      <td>NaN</td>\n",
       "      <td>NaN</td>\n",
       "      <td>flektor.com</td>\n",
       "      <td>NaN</td>\n",
       "      <td>USA</td>\n",
       "      <td>0.0</td>\n",
       "      <td>...</td>\n",
       "      <td>0.0</td>\n",
       "      <td>NaN</td>\n",
       "      <td>NaN</td>\n",
       "      <td>NaN</td>\n",
       "      <td>NaN</td>\n",
       "      <td>NaN</td>\n",
       "      <td>NaN</td>\n",
       "      <td>NaN</td>\n",
       "      <td>NaN</td>\n",
       "      <td>NaN</td>\n",
       "    </tr>\n",
       "    <tr>\n",
       "      <th>4</th>\n",
       "      <td>100.0</td>\n",
       "      <td>There</td>\n",
       "      <td>games_video</td>\n",
       "      <td>acquired</td>\n",
       "      <td>NaN</td>\n",
       "      <td>NaN</td>\n",
       "      <td>there.com</td>\n",
       "      <td>NaN</td>\n",
       "      <td>USA</td>\n",
       "      <td>0.0</td>\n",
       "      <td>...</td>\n",
       "      <td>4.0</td>\n",
       "      <td>NaN</td>\n",
       "      <td>NaN</td>\n",
       "      <td>NaN</td>\n",
       "      <td>NaN</td>\n",
       "      <td>NaN</td>\n",
       "      <td>NaN</td>\n",
       "      <td>NaN</td>\n",
       "      <td>NaN</td>\n",
       "      <td>NaN</td>\n",
       "    </tr>\n",
       "  </tbody>\n",
       "</table>\n",
       "<p>5 rows × 22 columns</p>\n",
       "</div>"
      ],
      "text/plain": [
       "   company  ID      name category  code     status founded  at closed  at  \\\n",
       "0          1.0  Wetpaint            web  operating  2005-10-17        NaN   \n",
       "1          1.0  Wetpaint            web  operating  2005-10-17        NaN   \n",
       "2          1.0  Wetpaint            web  operating  2005-10-17        NaN   \n",
       "3         10.0   Flektor    games_video   acquired         NaN        NaN   \n",
       "4        100.0     There    games_video   acquired         NaN        NaN   \n",
       "\n",
       "             domain network  username country  code  investment  rounds  ...  \\\n",
       "0  wetpaint-inc.com   BachelrWetpaint           USA                 0.0  ...   \n",
       "1  wetpaint-inc.com   BachelrWetpaint           USA                 0.0  ...   \n",
       "2  wetpaint-inc.com   BachelrWetpaint           USA                 0.0  ...   \n",
       "3       flektor.com               NaN           USA                 0.0  ...   \n",
       "4         there.com               NaN           USA                 0.0  ...   \n",
       "\n",
       "   milestones  funding  round  id  company  id  funded  at  \\\n",
       "0         5.0               888.0          1.0  2005-10-01   \n",
       "1         5.0               889.0          1.0  2007-01-01   \n",
       "2         5.0              2312.0          1.0  2008-05-19   \n",
       "3         0.0                 NaN          NaN         NaN   \n",
       "4         4.0                 NaN          NaN         NaN   \n",
       "\n",
       "   funding  round  type raised  amount pre  money  valuation  participants  \\\n",
       "0              series-a      5250000.0                   0.0           2.0   \n",
       "1              series-b      9500000.0                   0.0           3.0   \n",
       "2             series-c+     25000000.0                   0.0           4.0   \n",
       "3                   NaN            NaN                   NaN           NaN   \n",
       "4                   NaN            NaN                   NaN           NaN   \n",
       "\n",
       "   is  first  round  is  last  round  \n",
       "0               0.0              1.0  \n",
       "1               0.0              0.0  \n",
       "2               1.0              0.0  \n",
       "3               NaN              NaN  \n",
       "4               NaN              NaN  \n",
       "\n",
       "[5 rows x 22 columns]"
      ]
     },
     "metadata": {},
     "output_type": "display_data"
    },
    {
     "name": "stdout",
     "output_type": "stream",
     "text": [
      "<class 'pandas.core.frame.DataFrame'>\n",
      "RangeIndex: 217774 entries, 0 to 217773\n",
      "Data columns (total 22 columns):\n",
      " #   Column                 Non-Null Count   Dtype  \n",
      "---  ------                 --------------   -----  \n",
      " 0   company  ID            217472 non-null  float64\n",
      " 1   name                   217472 non-null  object \n",
      " 2   category  code         143886 non-null  object \n",
      " 3   status                 217472 non-null  object \n",
      " 4   founded  at            109956 non-null  object \n",
      " 5   closed  at             3449 non-null    object \n",
      " 6   domain                 147159 non-null  object \n",
      " 7   network  username      95534 non-null   object \n",
      " 8   country  code          108607 non-null  object \n",
      " 9   investment  rounds     217472 non-null  float64\n",
      " 10  funding  rounds        217472 non-null  float64\n",
      " 11  funding  total         217472 non-null  float64\n",
      " 12  milestones             217472 non-null  float64\n",
      " 13  funding  round  id     52928 non-null   float64\n",
      " 14  company  id            52928 non-null   float64\n",
      " 15  funded  at             52680 non-null   object \n",
      " 16  funding  round  type   52928 non-null   object \n",
      " 17  raised  amount         52928 non-null   float64\n",
      " 18  pre  money  valuation  52928 non-null   float64\n",
      " 19  participants           52928 non-null   float64\n",
      " 20  is  first  round       52928 non-null   float64\n",
      " 21  is  last  round        52928 non-null   float64\n",
      "dtypes: float64(12), object(10)\n",
      "memory usage: 36.6+ MB\n"
     ]
    }
   ],
   "source": [
    "# Выведем первые 5 строк данных\n",
    "display(company_and_rounds.head(5))\n",
    "\n",
    "# Выведем общую информацию о датафрейме\n",
    "company_and_rounds.info()"
   ]
  },
  {
   "cell_type": "markdown",
   "metadata": {},
   "source": [
    "На основе первичного знакомства с данными из датафрейма `company_and_rounds` можно сделать следующие заключения о данных:\n",
    "- Размер датафрейма составляет 22 столбца и 217774 строки;\n",
    "- Название столбцов некорректны для дальнейшего использования и их следует заменить на название в стиле snake_case;\n",
    "- Содержимое данных соответствует описанию;\n",
    "- в данных присуствубт следующие типы: `float64` - 12 полей, `object` - 10 полей;\n",
    "- Не все типы данных были установлены корректоно (например `copmany  ID` содержит информацию о ID компании, который представлен целым числом, но при этом имеет тип float64;\n",
    "- В данных присуствуют пропуски по всем полям. Следует оценить долю пропусков относительно всех данных.\n",
    "\n",
    "Также стоит рассмотреть уникальные значения в некоторых категориях, для оценки дубликатов в дальнейшем.\n",
    "\n",
    "В первом приближении есть подозрение, что некторые столбцы дублируют данные (содержат одинаковые значения), причиной может быть объединение разных датасетов.\n"
   ]
  },
  {
   "cell_type": "code",
   "execution_count": 160,
   "metadata": {},
   "outputs": [
    {
     "data": {
      "text/html": [
       "<div>\n",
       "<style scoped>\n",
       "    .dataframe tbody tr th:only-of-type {\n",
       "        vertical-align: middle;\n",
       "    }\n",
       "\n",
       "    .dataframe tbody tr th {\n",
       "        vertical-align: top;\n",
       "    }\n",
       "\n",
       "    .dataframe thead th {\n",
       "        text-align: right;\n",
       "    }\n",
       "</style>\n",
       "<table border=\"1\" class=\"dataframe\">\n",
       "  <thead>\n",
       "    <tr style=\"text-align: right;\">\n",
       "      <th></th>\n",
       "      <th>company  ID</th>\n",
       "      <th>company  id</th>\n",
       "      <th>investment  rounds</th>\n",
       "      <th>funding  rounds</th>\n",
       "      <th>funding  total</th>\n",
       "      <th>raised  amount</th>\n",
       "    </tr>\n",
       "  </thead>\n",
       "  <tbody>\n",
       "    <tr>\n",
       "      <th>0</th>\n",
       "      <td>1.0</td>\n",
       "      <td>1.0</td>\n",
       "      <td>0.0</td>\n",
       "      <td>3.0</td>\n",
       "      <td>39750000.0</td>\n",
       "      <td>5250000.0</td>\n",
       "    </tr>\n",
       "    <tr>\n",
       "      <th>1</th>\n",
       "      <td>1.0</td>\n",
       "      <td>1.0</td>\n",
       "      <td>0.0</td>\n",
       "      <td>3.0</td>\n",
       "      <td>39750000.0</td>\n",
       "      <td>9500000.0</td>\n",
       "    </tr>\n",
       "    <tr>\n",
       "      <th>2</th>\n",
       "      <td>1.0</td>\n",
       "      <td>1.0</td>\n",
       "      <td>0.0</td>\n",
       "      <td>3.0</td>\n",
       "      <td>39750000.0</td>\n",
       "      <td>25000000.0</td>\n",
       "    </tr>\n",
       "    <tr>\n",
       "      <th>3</th>\n",
       "      <td>10.0</td>\n",
       "      <td>NaN</td>\n",
       "      <td>0.0</td>\n",
       "      <td>0.0</td>\n",
       "      <td>0.0</td>\n",
       "      <td>NaN</td>\n",
       "    </tr>\n",
       "    <tr>\n",
       "      <th>4</th>\n",
       "      <td>100.0</td>\n",
       "      <td>NaN</td>\n",
       "      <td>0.0</td>\n",
       "      <td>0.0</td>\n",
       "      <td>0.0</td>\n",
       "      <td>NaN</td>\n",
       "    </tr>\n",
       "    <tr>\n",
       "      <th>5</th>\n",
       "      <td>10000.0</td>\n",
       "      <td>NaN</td>\n",
       "      <td>0.0</td>\n",
       "      <td>0.0</td>\n",
       "      <td>0.0</td>\n",
       "      <td>NaN</td>\n",
       "    </tr>\n",
       "    <tr>\n",
       "      <th>6</th>\n",
       "      <td>10001.0</td>\n",
       "      <td>NaN</td>\n",
       "      <td>0.0</td>\n",
       "      <td>0.0</td>\n",
       "      <td>0.0</td>\n",
       "      <td>NaN</td>\n",
       "    </tr>\n",
       "    <tr>\n",
       "      <th>7</th>\n",
       "      <td>10002.0</td>\n",
       "      <td>NaN</td>\n",
       "      <td>0.0</td>\n",
       "      <td>0.0</td>\n",
       "      <td>0.0</td>\n",
       "      <td>NaN</td>\n",
       "    </tr>\n",
       "    <tr>\n",
       "      <th>8</th>\n",
       "      <td>10003.0</td>\n",
       "      <td>NaN</td>\n",
       "      <td>0.0</td>\n",
       "      <td>0.0</td>\n",
       "      <td>0.0</td>\n",
       "      <td>NaN</td>\n",
       "    </tr>\n",
       "    <tr>\n",
       "      <th>9</th>\n",
       "      <td>100042.0</td>\n",
       "      <td>NaN</td>\n",
       "      <td>0.0</td>\n",
       "      <td>0.0</td>\n",
       "      <td>0.0</td>\n",
       "      <td>NaN</td>\n",
       "    </tr>\n",
       "    <tr>\n",
       "      <th>10</th>\n",
       "      <td>10005.0</td>\n",
       "      <td>NaN</td>\n",
       "      <td>0.0</td>\n",
       "      <td>0.0</td>\n",
       "      <td>0.0</td>\n",
       "      <td>NaN</td>\n",
       "    </tr>\n",
       "    <tr>\n",
       "      <th>11</th>\n",
       "      <td>100062.0</td>\n",
       "      <td>NaN</td>\n",
       "      <td>0.0</td>\n",
       "      <td>0.0</td>\n",
       "      <td>0.0</td>\n",
       "      <td>NaN</td>\n",
       "    </tr>\n",
       "    <tr>\n",
       "      <th>12</th>\n",
       "      <td>100068.0</td>\n",
       "      <td>NaN</td>\n",
       "      <td>0.0</td>\n",
       "      <td>0.0</td>\n",
       "      <td>0.0</td>\n",
       "      <td>NaN</td>\n",
       "    </tr>\n",
       "    <tr>\n",
       "      <th>13</th>\n",
       "      <td>10008.0</td>\n",
       "      <td>NaN</td>\n",
       "      <td>0.0</td>\n",
       "      <td>0.0</td>\n",
       "      <td>0.0</td>\n",
       "      <td>NaN</td>\n",
       "    </tr>\n",
       "    <tr>\n",
       "      <th>14</th>\n",
       "      <td>10009.0</td>\n",
       "      <td>NaN</td>\n",
       "      <td>0.0</td>\n",
       "      <td>0.0</td>\n",
       "      <td>0.0</td>\n",
       "      <td>NaN</td>\n",
       "    </tr>\n",
       "  </tbody>\n",
       "</table>\n",
       "</div>"
      ],
      "text/plain": [
       "    company  ID  company  id  investment  rounds  funding  rounds  \\\n",
       "0           1.0          1.0                 0.0              3.0   \n",
       "1           1.0          1.0                 0.0              3.0   \n",
       "2           1.0          1.0                 0.0              3.0   \n",
       "3          10.0          NaN                 0.0              0.0   \n",
       "4         100.0          NaN                 0.0              0.0   \n",
       "5       10000.0          NaN                 0.0              0.0   \n",
       "6       10001.0          NaN                 0.0              0.0   \n",
       "7       10002.0          NaN                 0.0              0.0   \n",
       "8       10003.0          NaN                 0.0              0.0   \n",
       "9      100042.0          NaN                 0.0              0.0   \n",
       "10      10005.0          NaN                 0.0              0.0   \n",
       "11     100062.0          NaN                 0.0              0.0   \n",
       "12     100068.0          NaN                 0.0              0.0   \n",
       "13      10008.0          NaN                 0.0              0.0   \n",
       "14      10009.0          NaN                 0.0              0.0   \n",
       "\n",
       "    funding  total  raised  amount  \n",
       "0       39750000.0       5250000.0  \n",
       "1       39750000.0       9500000.0  \n",
       "2       39750000.0      25000000.0  \n",
       "3              0.0             NaN  \n",
       "4              0.0             NaN  \n",
       "5              0.0             NaN  \n",
       "6              0.0             NaN  \n",
       "7              0.0             NaN  \n",
       "8              0.0             NaN  \n",
       "9              0.0             NaN  \n",
       "10             0.0             NaN  \n",
       "11             0.0             NaN  \n",
       "12             0.0             NaN  \n",
       "13             0.0             NaN  \n",
       "14             0.0             NaN  "
      ]
     },
     "execution_count": 160,
     "metadata": {},
     "output_type": "execute_result"
    }
   ],
   "source": [
    "# Проверим предположение о том, что некоторые столбцы содержат одинаковые значения\n",
    "df = company_and_rounds[['company  ID', 'company  id', 'investment  rounds', 'funding  rounds', 'funding  total', 'raised  amount']]\n",
    "df.head(15)"
   ]
  },
  {
   "cell_type": "code",
   "execution_count": 161,
   "metadata": {},
   "outputs": [
    {
     "data": {
      "text/html": [
       "<div>\n",
       "<style scoped>\n",
       "    .dataframe tbody tr th:only-of-type {\n",
       "        vertical-align: middle;\n",
       "    }\n",
       "\n",
       "    .dataframe tbody tr th {\n",
       "        vertical-align: top;\n",
       "    }\n",
       "\n",
       "    .dataframe thead th {\n",
       "        text-align: right;\n",
       "    }\n",
       "</style>\n",
       "<table border=\"1\" class=\"dataframe\">\n",
       "  <thead>\n",
       "    <tr style=\"text-align: right;\">\n",
       "      <th></th>\n",
       "      <th>company  ID</th>\n",
       "      <th>company  id</th>\n",
       "      <th>investment  rounds</th>\n",
       "      <th>funding  rounds</th>\n",
       "      <th>funding  total</th>\n",
       "      <th>raised  amount</th>\n",
       "    </tr>\n",
       "  </thead>\n",
       "  <tbody>\n",
       "    <tr>\n",
       "      <th>217759</th>\n",
       "      <td>NaN</td>\n",
       "      <td>277672.0</td>\n",
       "      <td>NaN</td>\n",
       "      <td>NaN</td>\n",
       "      <td>NaN</td>\n",
       "      <td>20000000.0</td>\n",
       "    </tr>\n",
       "    <tr>\n",
       "      <th>217760</th>\n",
       "      <td>NaN</td>\n",
       "      <td>276706.0</td>\n",
       "      <td>NaN</td>\n",
       "      <td>NaN</td>\n",
       "      <td>NaN</td>\n",
       "      <td>1500000.0</td>\n",
       "    </tr>\n",
       "    <tr>\n",
       "      <th>217761</th>\n",
       "      <td>NaN</td>\n",
       "      <td>278776.0</td>\n",
       "      <td>NaN</td>\n",
       "      <td>NaN</td>\n",
       "      <td>NaN</td>\n",
       "      <td>100000.0</td>\n",
       "    </tr>\n",
       "    <tr>\n",
       "      <th>217762</th>\n",
       "      <td>NaN</td>\n",
       "      <td>279804.0</td>\n",
       "      <td>NaN</td>\n",
       "      <td>NaN</td>\n",
       "      <td>NaN</td>\n",
       "      <td>0.0</td>\n",
       "    </tr>\n",
       "    <tr>\n",
       "      <th>217763</th>\n",
       "      <td>NaN</td>\n",
       "      <td>193962.0</td>\n",
       "      <td>NaN</td>\n",
       "      <td>NaN</td>\n",
       "      <td>NaN</td>\n",
       "      <td>2700000.0</td>\n",
       "    </tr>\n",
       "    <tr>\n",
       "      <th>217764</th>\n",
       "      <td>NaN</td>\n",
       "      <td>269728.0</td>\n",
       "      <td>NaN</td>\n",
       "      <td>NaN</td>\n",
       "      <td>NaN</td>\n",
       "      <td>5600000.0</td>\n",
       "    </tr>\n",
       "    <tr>\n",
       "      <th>217765</th>\n",
       "      <td>NaN</td>\n",
       "      <td>78698.0</td>\n",
       "      <td>NaN</td>\n",
       "      <td>NaN</td>\n",
       "      <td>NaN</td>\n",
       "      <td>15000000.0</td>\n",
       "    </tr>\n",
       "    <tr>\n",
       "      <th>217766</th>\n",
       "      <td>NaN</td>\n",
       "      <td>196289.0</td>\n",
       "      <td>NaN</td>\n",
       "      <td>NaN</td>\n",
       "      <td>NaN</td>\n",
       "      <td>925000.0</td>\n",
       "    </tr>\n",
       "    <tr>\n",
       "      <th>217767</th>\n",
       "      <td>NaN</td>\n",
       "      <td>282450.0</td>\n",
       "      <td>NaN</td>\n",
       "      <td>NaN</td>\n",
       "      <td>NaN</td>\n",
       "      <td>2600000.0</td>\n",
       "    </tr>\n",
       "    <tr>\n",
       "      <th>217768</th>\n",
       "      <td>NaN</td>\n",
       "      <td>146919.0</td>\n",
       "      <td>NaN</td>\n",
       "      <td>NaN</td>\n",
       "      <td>NaN</td>\n",
       "      <td>4900000.0</td>\n",
       "    </tr>\n",
       "    <tr>\n",
       "      <th>217769</th>\n",
       "      <td>NaN</td>\n",
       "      <td>282847.0</td>\n",
       "      <td>NaN</td>\n",
       "      <td>NaN</td>\n",
       "      <td>NaN</td>\n",
       "      <td>5500000.0</td>\n",
       "    </tr>\n",
       "    <tr>\n",
       "      <th>217770</th>\n",
       "      <td>NaN</td>\n",
       "      <td>55477.0</td>\n",
       "      <td>NaN</td>\n",
       "      <td>NaN</td>\n",
       "      <td>NaN</td>\n",
       "      <td>10633300.0</td>\n",
       "    </tr>\n",
       "    <tr>\n",
       "      <th>217771</th>\n",
       "      <td>NaN</td>\n",
       "      <td>55477.0</td>\n",
       "      <td>NaN</td>\n",
       "      <td>NaN</td>\n",
       "      <td>NaN</td>\n",
       "      <td>2125720.0</td>\n",
       "    </tr>\n",
       "    <tr>\n",
       "      <th>217772</th>\n",
       "      <td>NaN</td>\n",
       "      <td>283492.0</td>\n",
       "      <td>NaN</td>\n",
       "      <td>NaN</td>\n",
       "      <td>NaN</td>\n",
       "      <td>3602480.0</td>\n",
       "    </tr>\n",
       "    <tr>\n",
       "      <th>217773</th>\n",
       "      <td>NaN</td>\n",
       "      <td>284191.0</td>\n",
       "      <td>NaN</td>\n",
       "      <td>NaN</td>\n",
       "      <td>NaN</td>\n",
       "      <td>7000000.0</td>\n",
       "    </tr>\n",
       "  </tbody>\n",
       "</table>\n",
       "</div>"
      ],
      "text/plain": [
       "        company  ID  company  id  investment  rounds  funding  rounds  \\\n",
       "217759          NaN     277672.0                 NaN              NaN   \n",
       "217760          NaN     276706.0                 NaN              NaN   \n",
       "217761          NaN     278776.0                 NaN              NaN   \n",
       "217762          NaN     279804.0                 NaN              NaN   \n",
       "217763          NaN     193962.0                 NaN              NaN   \n",
       "217764          NaN     269728.0                 NaN              NaN   \n",
       "217765          NaN      78698.0                 NaN              NaN   \n",
       "217766          NaN     196289.0                 NaN              NaN   \n",
       "217767          NaN     282450.0                 NaN              NaN   \n",
       "217768          NaN     146919.0                 NaN              NaN   \n",
       "217769          NaN     282847.0                 NaN              NaN   \n",
       "217770          NaN      55477.0                 NaN              NaN   \n",
       "217771          NaN      55477.0                 NaN              NaN   \n",
       "217772          NaN     283492.0                 NaN              NaN   \n",
       "217773          NaN     284191.0                 NaN              NaN   \n",
       "\n",
       "        funding  total  raised  amount  \n",
       "217759             NaN      20000000.0  \n",
       "217760             NaN       1500000.0  \n",
       "217761             NaN        100000.0  \n",
       "217762             NaN             0.0  \n",
       "217763             NaN       2700000.0  \n",
       "217764             NaN       5600000.0  \n",
       "217765             NaN      15000000.0  \n",
       "217766             NaN        925000.0  \n",
       "217767             NaN       2600000.0  \n",
       "217768             NaN       4900000.0  \n",
       "217769             NaN       5500000.0  \n",
       "217770             NaN      10633300.0  \n",
       "217771             NaN       2125720.0  \n",
       "217772             NaN       3602480.0  \n",
       "217773             NaN       7000000.0  "
      ]
     },
     "execution_count": 161,
     "metadata": {},
     "output_type": "execute_result"
    }
   ],
   "source": [
    "# Теперь выведем конечный хвост датафрейма\n",
    "df.tail(15)"
   ]
  },
  {
   "cell_type": "markdown",
   "metadata": {},
   "source": [
    "На основе рассмотрения информации можно заметить, что предположение оказалось ошибочным, однако. Остался вопрос по полям `company  ID` и `company  id`. Проверим именно их значения путем создания датасета, в который войдут все записи, где присутствует значение в одном из полей."
   ]
  },
  {
   "cell_type": "code",
   "execution_count": 162,
   "metadata": {},
   "outputs": [
    {
     "data": {
      "text/plain": [
       "217774"
      ]
     },
     "execution_count": 162,
     "metadata": {},
     "output_type": "execute_result"
    }
   ],
   "source": [
    "df = company_and_rounds[(company_and_rounds['company  ID'] > 0) |\n",
    "                       (company_and_rounds['company  id'] > 0)]\n",
    "df.shape[0]"
   ]
  },
  {
   "cell_type": "markdown",
   "metadata": {},
   "source": [
    "Получили, что во всех записях присутствует либо одни из столбцов либо оба (учитывая количество непустых значений). Таким образом, это доказывает, что производилось объединение датасетов, в которых присутсовало несколько пустых значений. Теперь отследим долю пропусков во всех столбцах."
   ]
  },
  {
   "cell_type": "code",
   "execution_count": 163,
   "metadata": {},
   "outputs": [
    {
     "data": {
      "text/plain": [
       "company  ID               0.138676\n",
       "name                      0.138676\n",
       "category  code           33.928752\n",
       "status                    0.138676\n",
       "founded  at              49.509124\n",
       "closed  at               98.416248\n",
       "domain                   32.425818\n",
       "network  username        56.131586\n",
       "country  code            50.128574\n",
       "investment  rounds        0.138676\n",
       "funding  rounds           0.138676\n",
       "funding  total            0.138676\n",
       "milestones                0.138676\n",
       "funding  round  id       75.695905\n",
       "company  id              75.695905\n",
       "funded  at               75.809784\n",
       "funding  round  type     75.695905\n",
       "raised  amount           75.695905\n",
       "pre  money  valuation    75.695905\n",
       "participants             75.695905\n",
       "is  first  round         75.695905\n",
       "is  last  round          75.695905\n",
       "dtype: float64"
      ]
     },
     "execution_count": 163,
     "metadata": {},
     "output_type": "execute_result"
    }
   ],
   "source": [
    "company_and_rounds.isna().sum() / company_and_rounds.shape[0] * 100"
   ]
  },
  {
   "cell_type": "markdown",
   "metadata": {},
   "source": [
    "Есть ряд полей, в которых процент пропуска не является большим и составляет всего 0.14%. К этим полям относятся `company  ID` `name`, `status`, `investment  rounds`, `funding  rounds`, `funding  total`, `milestones`. В других данных пропусков намного больше: `category  code`, `founded  at`, `closed  at`, `domain`, `network  username`, `country  code` - количество пропусков варируется от 32,43% до 98,42%. Отдельно стоит отметить поля `unding  round  id`, `company  id`, `funded  at`, `funding  round  type`, `raised  amount`, `pre  money  valuation`, `participants`, `is  first  round`, `is  last  round` - процент пропусков в них одинаков и составляет 75,7%, что также подтверждает теорию о том, что раньше это были разные датасеты и впоследствии их объединили в один.  Также рассмотрим статистические показатели по числовым полям."
   ]
  },
  {
   "cell_type": "code",
   "execution_count": 164,
   "metadata": {},
   "outputs": [
    {
     "data": {
      "text/html": [
       "<div>\n",
       "<style scoped>\n",
       "    .dataframe tbody tr th:only-of-type {\n",
       "        vertical-align: middle;\n",
       "    }\n",
       "\n",
       "    .dataframe tbody tr th {\n",
       "        vertical-align: top;\n",
       "    }\n",
       "\n",
       "    .dataframe thead th {\n",
       "        text-align: right;\n",
       "    }\n",
       "</style>\n",
       "<table border=\"1\" class=\"dataframe\">\n",
       "  <thead>\n",
       "    <tr style=\"text-align: right;\">\n",
       "      <th></th>\n",
       "      <th>company  ID</th>\n",
       "      <th>investment  rounds</th>\n",
       "      <th>funding  rounds</th>\n",
       "      <th>funding  total</th>\n",
       "      <th>milestones</th>\n",
       "      <th>funding  round  id</th>\n",
       "      <th>company  id</th>\n",
       "      <th>raised  amount</th>\n",
       "      <th>pre  money  valuation</th>\n",
       "      <th>participants</th>\n",
       "      <th>is  first  round</th>\n",
       "      <th>is  last  round</th>\n",
       "    </tr>\n",
       "  </thead>\n",
       "  <tbody>\n",
       "    <tr>\n",
       "      <th>count</th>\n",
       "      <td>217472.000000</td>\n",
       "      <td>217472.000000</td>\n",
       "      <td>217472.000000</td>\n",
       "      <td>2.174720e+05</td>\n",
       "      <td>217472.000000</td>\n",
       "      <td>52928.000000</td>\n",
       "      <td>52928.000000</td>\n",
       "      <td>5.292800e+04</td>\n",
       "      <td>5.292800e+04</td>\n",
       "      <td>52928.000000</td>\n",
       "      <td>52928.000000</td>\n",
       "      <td>52928.000000</td>\n",
       "    </tr>\n",
       "    <tr>\n",
       "      <th>mean</th>\n",
       "      <td>145287.383723</td>\n",
       "      <td>0.037711</td>\n",
       "      <td>0.612171</td>\n",
       "      <td>5.996191e+06</td>\n",
       "      <td>0.650442</td>\n",
       "      <td>28962.894536</td>\n",
       "      <td>98490.888433</td>\n",
       "      <td>7.946092e+06</td>\n",
       "      <td>3.294525e+05</td>\n",
       "      <td>1.528567</td>\n",
       "      <td>0.604576</td>\n",
       "      <td>0.604538</td>\n",
       "    </tr>\n",
       "    <tr>\n",
       "      <th>std</th>\n",
       "      <td>91998.156087</td>\n",
       "      <td>1.962712</td>\n",
       "      <td>1.433500</td>\n",
       "      <td>4.893160e+07</td>\n",
       "      <td>0.826408</td>\n",
       "      <td>16821.871803</td>\n",
       "      <td>88429.084864</td>\n",
       "      <td>4.216821e+07</td>\n",
       "      <td>6.531803e+07</td>\n",
       "      <td>2.060192</td>\n",
       "      <td>0.488946</td>\n",
       "      <td>0.488954</td>\n",
       "    </tr>\n",
       "    <tr>\n",
       "      <th>min</th>\n",
       "      <td>1.000000</td>\n",
       "      <td>0.000000</td>\n",
       "      <td>0.000000</td>\n",
       "      <td>0.000000e+00</td>\n",
       "      <td>0.000000</td>\n",
       "      <td>1.000000</td>\n",
       "      <td>1.000000</td>\n",
       "      <td>0.000000e+00</td>\n",
       "      <td>0.000000e+00</td>\n",
       "      <td>0.000000</td>\n",
       "      <td>0.000000</td>\n",
       "      <td>0.000000</td>\n",
       "    </tr>\n",
       "    <tr>\n",
       "      <th>25%</th>\n",
       "      <td>51960.750000</td>\n",
       "      <td>0.000000</td>\n",
       "      <td>0.000000</td>\n",
       "      <td>0.000000e+00</td>\n",
       "      <td>0.000000</td>\n",
       "      <td>14343.750000</td>\n",
       "      <td>26598.000000</td>\n",
       "      <td>2.463300e+05</td>\n",
       "      <td>0.000000e+00</td>\n",
       "      <td>0.000000</td>\n",
       "      <td>0.000000</td>\n",
       "      <td>0.000000</td>\n",
       "    </tr>\n",
       "    <tr>\n",
       "      <th>50%</th>\n",
       "      <td>165262.500000</td>\n",
       "      <td>0.000000</td>\n",
       "      <td>0.000000</td>\n",
       "      <td>0.000000e+00</td>\n",
       "      <td>0.000000</td>\n",
       "      <td>28885.500000</td>\n",
       "      <td>58080.000000</td>\n",
       "      <td>1.600000e+06</td>\n",
       "      <td>0.000000e+00</td>\n",
       "      <td>1.000000</td>\n",
       "      <td>1.000000</td>\n",
       "      <td>1.000000</td>\n",
       "    </tr>\n",
       "    <tr>\n",
       "      <th>75%</th>\n",
       "      <td>228199.250000</td>\n",
       "      <td>0.000000</td>\n",
       "      <td>0.000000</td>\n",
       "      <td>0.000000e+00</td>\n",
       "      <td>1.000000</td>\n",
       "      <td>43561.250000</td>\n",
       "      <td>171610.750000</td>\n",
       "      <td>6.700000e+06</td>\n",
       "      <td>0.000000e+00</td>\n",
       "      <td>2.000000</td>\n",
       "      <td>1.000000</td>\n",
       "      <td>1.000000</td>\n",
       "    </tr>\n",
       "    <tr>\n",
       "      <th>max</th>\n",
       "      <td>286215.000000</td>\n",
       "      <td>478.000000</td>\n",
       "      <td>15.000000</td>\n",
       "      <td>5.700000e+09</td>\n",
       "      <td>9.000000</td>\n",
       "      <td>57952.000000</td>\n",
       "      <td>286215.000000</td>\n",
       "      <td>3.835050e+09</td>\n",
       "      <td>1.500000e+10</td>\n",
       "      <td>36.000000</td>\n",
       "      <td>1.000000</td>\n",
       "      <td>1.000000</td>\n",
       "    </tr>\n",
       "  </tbody>\n",
       "</table>\n",
       "</div>"
      ],
      "text/plain": [
       "         company  ID  investment  rounds  funding  rounds  funding  total  \\\n",
       "count  217472.000000       217472.000000    217472.000000    2.174720e+05   \n",
       "mean   145287.383723            0.037711         0.612171    5.996191e+06   \n",
       "std     91998.156087            1.962712         1.433500    4.893160e+07   \n",
       "min         1.000000            0.000000         0.000000    0.000000e+00   \n",
       "25%     51960.750000            0.000000         0.000000    0.000000e+00   \n",
       "50%    165262.500000            0.000000         0.000000    0.000000e+00   \n",
       "75%    228199.250000            0.000000         0.000000    0.000000e+00   \n",
       "max    286215.000000          478.000000        15.000000    5.700000e+09   \n",
       "\n",
       "          milestones  funding  round  id    company  id  raised  amount  \\\n",
       "count  217472.000000        52928.000000   52928.000000    5.292800e+04   \n",
       "mean        0.650442        28962.894536   98490.888433    7.946092e+06   \n",
       "std         0.826408        16821.871803   88429.084864    4.216821e+07   \n",
       "min         0.000000            1.000000       1.000000    0.000000e+00   \n",
       "25%         0.000000        14343.750000   26598.000000    2.463300e+05   \n",
       "50%         0.000000        28885.500000   58080.000000    1.600000e+06   \n",
       "75%         1.000000        43561.250000  171610.750000    6.700000e+06   \n",
       "max         9.000000        57952.000000  286215.000000    3.835050e+09   \n",
       "\n",
       "       pre  money  valuation  participants  is  first  round  is  last  round  \n",
       "count           5.292800e+04  52928.000000      52928.000000     52928.000000  \n",
       "mean            3.294525e+05      1.528567          0.604576         0.604538  \n",
       "std             6.531803e+07      2.060192          0.488946         0.488954  \n",
       "min             0.000000e+00      0.000000          0.000000         0.000000  \n",
       "25%             0.000000e+00      0.000000          0.000000         0.000000  \n",
       "50%             0.000000e+00      1.000000          1.000000         1.000000  \n",
       "75%             0.000000e+00      2.000000          1.000000         1.000000  \n",
       "max             1.500000e+10     36.000000          1.000000         1.000000  "
      ]
     },
     "metadata": {},
     "output_type": "display_data"
    }
   ],
   "source": [
    "display(company_and_rounds.describe())"
   ]
  },
  {
   "cell_type": "markdown",
   "metadata": {},
   "source": [
    "Рассмотрим каждое поле по отдельности:\n",
    "- `company  ID` - поля индентификатора, информация о его статистических показателях не так важна, поскольку содержит просто уникальный номер компании в датасете;\n",
    "- `investment  rounds` - среднее значение поля составляет 0.038, при этом в основном большинстве данных информация о раундах инвестирования представлена 0 (медиана и 75-процентиль), зафикисировано большое максимальное значение 478, которое можно расценить как выброс повлиявший на среднее;\n",
    "- `finding  rounds` - среднее значение поля составляет 0.61, при этом в основном большинстве данных информация о раундах инвестирования представлена 0 (медиана и 75-процентиль), зафикисировано большое максимальное значение 15, которое можно расценить как выброс повлиявший на среднее;\n",
    "- аналогичная ситуация складывается и в поле `funding  total` - среднее значение составляет 5966191, при медиане и 75-процентилем равным 0,  максимлаьное значение равно 5,7 млрд.;\n",
    "- `milestones` - среднее значение составляет 0.65%, при медиане 0, в данном случае 75-процентиль составляет 1, что говорит о большем количестве проектом (стартапов), которые имеют хотя бы одну веху финансирования по сравнению с предыдущими полями, максимальное значение - 9;\n",
    "- поля `funding  round  id`, `company  id` - индентификаторы, информация о их статистических показателях не так важна, поскольку содержит просто уникальный номер компании или финансовой операции в датасете;\n",
    "- `raise  amount` - среднее значение составляет 7.946 млн., при значении медианаы 1.6 млн., это говорит о наличии выбросов или аномально больших значений, которые подтверждаются максимальным значением в поле 3.84 млрд, однако есть и значения равные 0;\n",
    "- `participants` - среднее значение составляет 1.53, при медиане - 1, максимальное количество равно 36, среднее отклонение составляет 2.06, что говорит о большоим разбросе данных и наличии аномальных значений (учитывая что поле связано с количеством участников, то аномальные значения вполне нормальны, ведь стартапы в большинстве случаев реализуется малым коллективом или вовсе могут быть проданы сразу);\n",
    "- поля `is  first  round`, `is  last  round` - бинарны и указывают на то, является ли раунд первым или последним, они не требует изучения статистчиеских показателей, однако можно заметить, что разница между ними есть, что говорит о том, что записей с указание последнего раунда в таблице на данный момент чуть больше."
   ]
  },
  {
   "cell_type": "code",
   "execution_count": 165,
   "metadata": {},
   "outputs": [
    {
     "data": {
      "text/html": [
       "<div>\n",
       "<style scoped>\n",
       "    .dataframe tbody tr th:only-of-type {\n",
       "        vertical-align: middle;\n",
       "    }\n",
       "\n",
       "    .dataframe tbody tr th {\n",
       "        vertical-align: top;\n",
       "    }\n",
       "\n",
       "    .dataframe thead th {\n",
       "        text-align: right;\n",
       "    }\n",
       "</style>\n",
       "<table border=\"1\" class=\"dataframe\">\n",
       "  <thead>\n",
       "    <tr style=\"text-align: right;\">\n",
       "      <th></th>\n",
       "      <th>id</th>\n",
       "      <th>person_id</th>\n",
       "      <th>instituition</th>\n",
       "      <th>graduated_at</th>\n",
       "    </tr>\n",
       "  </thead>\n",
       "  <tbody>\n",
       "    <tr>\n",
       "      <th>0</th>\n",
       "      <td>1</td>\n",
       "      <td>6117</td>\n",
       "      <td>NaN</td>\n",
       "      <td>NaN</td>\n",
       "    </tr>\n",
       "    <tr>\n",
       "      <th>1</th>\n",
       "      <td>2</td>\n",
       "      <td>6136</td>\n",
       "      <td>Washington University, St. Louis</td>\n",
       "      <td>1990-01-01</td>\n",
       "    </tr>\n",
       "    <tr>\n",
       "      <th>2</th>\n",
       "      <td>3</td>\n",
       "      <td>6136</td>\n",
       "      <td>Boston University</td>\n",
       "      <td>1992-01-01</td>\n",
       "    </tr>\n",
       "    <tr>\n",
       "      <th>3</th>\n",
       "      <td>4</td>\n",
       "      <td>6005</td>\n",
       "      <td>University of Greenwich</td>\n",
       "      <td>2006-01-01</td>\n",
       "    </tr>\n",
       "    <tr>\n",
       "      <th>4</th>\n",
       "      <td>5</td>\n",
       "      <td>5832</td>\n",
       "      <td>Rice University</td>\n",
       "      <td>NaN</td>\n",
       "    </tr>\n",
       "  </tbody>\n",
       "</table>\n",
       "</div>"
      ],
      "text/plain": [
       "   id  person_id                      instituition graduated_at\n",
       "0   1       6117                               NaN          NaN\n",
       "1   2       6136  Washington University, St. Louis   1990-01-01\n",
       "2   3       6136                 Boston University   1992-01-01\n",
       "3   4       6005           University of Greenwich   2006-01-01\n",
       "4   5       5832                   Rice University          NaN"
      ]
     },
     "metadata": {},
     "output_type": "display_data"
    },
    {
     "name": "stdout",
     "output_type": "stream",
     "text": [
      "<class 'pandas.core.frame.DataFrame'>\n",
      "RangeIndex: 109610 entries, 0 to 109609\n",
      "Data columns (total 4 columns):\n",
      " #   Column        Non-Null Count   Dtype \n",
      "---  ------        --------------   ----- \n",
      " 0   id            109610 non-null  int64 \n",
      " 1   person_id     109610 non-null  int64 \n",
      " 2   instituition  109555 non-null  object\n",
      " 3   graduated_at  58054 non-null   object\n",
      "dtypes: int64(2), object(2)\n",
      "memory usage: 3.3+ MB\n"
     ]
    }
   ],
   "source": [
    "# Рассмотрим датасет education\n",
    "display(education.head())\n",
    "education.info()"
   ]
  },
  {
   "cell_type": "markdown",
   "metadata": {},
   "source": [
    "На основе первичного знакомства с данными из датафрейма `education` можно сделать следующие заключения о данных:\n",
    "- Размер датафрейма составляет 4 столбца и 109610 строк;\n",
    "- Название столбцов корректны для дальнейшего использования;\n",
    "- Содержимое данных соответствует описанию;\n",
    "- в данных присуствубт следующие типы: `int64` - 2 поля, `object` - 2 поля;\n",
    "- Не все типы данных были установлены корректоно (например `graduated_at` содержит информацию о дате получения образования, который представлен датой, но при этом имеет тип object;\n",
    "- В данных присуствуют пропуски по полям `instituition`, `graduated_at`. Следует оценить долю пропусков относительно всех данных."
   ]
  },
  {
   "cell_type": "code",
   "execution_count": 166,
   "metadata": {},
   "outputs": [
    {
     "data": {
      "text/plain": [
       "id               0.000000\n",
       "person_id        0.000000\n",
       "instituition     0.050178\n",
       "graduated_at    47.035854\n",
       "dtype: float64"
      ]
     },
     "execution_count": 166,
     "metadata": {},
     "output_type": "execute_result"
    }
   ],
   "source": [
    "education.isna().sum() / education.shape[0] * 100"
   ]
  },
  {
   "cell_type": "markdown",
   "metadata": {},
   "source": [
    "Пропуски в поле `instituition` составляют всего 0.05%, данными можно принебречь, но следует проверить есть ли в строках информация о людях, которые вообще не получали образование (возможно пропуски - отсуствие образование).\n",
    "\n",
    "В свою очередь, пропусков в поле `graduated_at` составляют 47%, так как после связано с датами, то причина возникновения пропусков может быть различна и никак не связано с данными в датафрейме. Возможные причина пропусков: сотрудник мог не закончить образование, в документах об образовании не было установлено даты. Стоит проверить количество уникальных значений сотрудников, возможно на одного человека приходится несколько образований."
   ]
  },
  {
   "cell_type": "code",
   "execution_count": 167,
   "metadata": {},
   "outputs": [
    {
     "data": {
      "text/plain": [
       "68451"
      ]
     },
     "execution_count": 167,
     "metadata": {},
     "output_type": "execute_result"
    }
   ],
   "source": [
    "education['person_id'].nunique()"
   ]
  },
  {
   "cell_type": "markdown",
   "metadata": {},
   "source": [
    "Препдположение о том, что человек мог внести в систему несколько документвов об образовании оказалось верным, так как в данных содержится информация о 68451 сотруднике, при этом записей в датасете намного больше."
   ]
  },
  {
   "cell_type": "code",
   "execution_count": 168,
   "metadata": {},
   "outputs": [
    {
     "data": {
      "text/plain": [
       "Stanford University                                     2990\n",
       "Harvard Business School                                 1899\n",
       "Harvard University                                      1581\n",
       "University of California, Berkeley                      1476\n",
       "Cornell University                                      1042\n",
       "                                                        ... \n",
       "McMaster University in Ontario                             1\n",
       "Stanford University Graduate School of Business  r         1\n",
       "Bath University, England                                   1\n",
       "Wymondham College                                          1\n",
       "Certified Public Accountant in the state of Michigan       1\n",
       "Name: instituition, Length: 21067, dtype: int64"
      ]
     },
     "execution_count": 168,
     "metadata": {},
     "output_type": "execute_result"
    }
   ],
   "source": [
    "# Проверим уникальные значения по полю instituition\n",
    "education['instituition'].value_counts()"
   ]
  },
  {
   "cell_type": "markdown",
   "metadata": {},
   "source": [
    "Теория о том, что пропуски могут означать отсутсвие образования не опровергнута, так как в выведенем списке не присутствует записи, означающие отсутствие образования. Для дальнейшего анализа проверим другой датасет."
   ]
  },
  {
   "cell_type": "code",
   "execution_count": 169,
   "metadata": {},
   "outputs": [
    {
     "data": {
      "text/html": [
       "<div>\n",
       "<style scoped>\n",
       "    .dataframe tbody tr th:only-of-type {\n",
       "        vertical-align: middle;\n",
       "    }\n",
       "\n",
       "    .dataframe tbody tr th {\n",
       "        vertical-align: top;\n",
       "    }\n",
       "\n",
       "    .dataframe thead th {\n",
       "        text-align: right;\n",
       "    }\n",
       "</style>\n",
       "<table border=\"1\" class=\"dataframe\">\n",
       "  <thead>\n",
       "    <tr style=\"text-align: right;\">\n",
       "      <th></th>\n",
       "      <th>id</th>\n",
       "      <th>object_id</th>\n",
       "      <th>degree_type</th>\n",
       "      <th>subject</th>\n",
       "    </tr>\n",
       "  </thead>\n",
       "  <tbody>\n",
       "    <tr>\n",
       "      <th>0</th>\n",
       "      <td>1</td>\n",
       "      <td>p:6117</td>\n",
       "      <td>MBA</td>\n",
       "      <td>NaN</td>\n",
       "    </tr>\n",
       "    <tr>\n",
       "      <th>1</th>\n",
       "      <td>2</td>\n",
       "      <td>p:6136</td>\n",
       "      <td>BA</td>\n",
       "      <td>English, French</td>\n",
       "    </tr>\n",
       "    <tr>\n",
       "      <th>2</th>\n",
       "      <td>3</td>\n",
       "      <td>p:6136</td>\n",
       "      <td>MS</td>\n",
       "      <td>Mass Communication</td>\n",
       "    </tr>\n",
       "    <tr>\n",
       "      <th>3</th>\n",
       "      <td>4</td>\n",
       "      <td>p:6005</td>\n",
       "      <td>MS</td>\n",
       "      <td>Internet Technology</td>\n",
       "    </tr>\n",
       "    <tr>\n",
       "      <th>4</th>\n",
       "      <td>5</td>\n",
       "      <td>p:5832</td>\n",
       "      <td>BCS</td>\n",
       "      <td>Computer Science, Psychology</td>\n",
       "    </tr>\n",
       "  </tbody>\n",
       "</table>\n",
       "</div>"
      ],
      "text/plain": [
       "   id object_id degree_type                       subject\n",
       "0   1    p:6117         MBA                           NaN\n",
       "1   2    p:6136          BA               English, French\n",
       "2   3    p:6136          MS            Mass Communication\n",
       "3   4    p:6005          MS           Internet Technology\n",
       "4   5    p:5832         BCS  Computer Science, Psychology"
      ]
     },
     "metadata": {},
     "output_type": "display_data"
    },
    {
     "name": "stdout",
     "output_type": "stream",
     "text": [
      "<class 'pandas.core.frame.DataFrame'>\n",
      "RangeIndex: 109610 entries, 0 to 109609\n",
      "Data columns (total 4 columns):\n",
      " #   Column       Non-Null Count   Dtype \n",
      "---  ------       --------------   ----- \n",
      " 0   id           109610 non-null  int64 \n",
      " 1   object_id    109610 non-null  object\n",
      " 2   degree_type  98392 non-null   object\n",
      " 3   subject      81298 non-null   object\n",
      "dtypes: int64(1), object(3)\n",
      "memory usage: 3.3+ MB\n"
     ]
    }
   ],
   "source": [
    "display(degrees.head())\n",
    "degrees.info()"
   ]
  },
  {
   "cell_type": "markdown",
   "metadata": {},
   "source": [
    "На основе первичного знакомства с данными из датафрейма `degrees` можно сделать следующие заключения о данных:\n",
    "- Размер датафрейма составляет 4 столбца и 109610 строк;\n",
    "- Название столбцов корректны для дальнейшего использования;\n",
    "- Содержимое данных соответствует описанию;\n",
    "- в данных присуствубт следующие типы: `int64` - 1 поле, `object` - 3 поля;\n",
    "- Все типы данных были установлены корректоно, однако в поле `object_id` запись начинается с `p:`, поэтому определен тип данных object, для дальнейшей работы необходимо избавиться  от начала и привести данные к единообразию.;\n",
    "- В данных присуствуют пропуски по полям `degree_type`, `subject`. Следует оценить долю пропусков относительно всех данных."
   ]
  },
  {
   "cell_type": "code",
   "execution_count": 170,
   "metadata": {},
   "outputs": [
    {
     "data": {
      "text/plain": [
       "id              0.000000\n",
       "object_id       0.000000\n",
       "degree_type    10.234468\n",
       "subject        25.829760\n",
       "dtype: float64"
      ]
     },
     "execution_count": 170,
     "metadata": {},
     "output_type": "execute_result"
    }
   ],
   "source": [
    "degrees.isna().sum() / degrees.shape[0] * 100"
   ]
  },
  {
   "cell_type": "markdown",
   "metadata": {},
   "source": [
    "Пропуски по полю `degree_type` составляют 10.23%, а пропуски по полю `subject` - 25.83%. Также следует оценить уникальные значения по полю `degree_type` т.к., данные можно отнести к категориальным."
   ]
  },
  {
   "cell_type": "code",
   "execution_count": 171,
   "metadata": {},
   "outputs": [
    {
     "data": {
      "text/plain": [
       "BS                            23425\n",
       "MBA                           15342\n",
       "BA                            15342\n",
       "MS                            11715\n",
       "PhD                            4056\n",
       "                              ...  \n",
       "PgDip                             1\n",
       "12th                              1\n",
       "Dipl.-Eng.                        1\n",
       "Hospitality Administration        1\n",
       "MSC(CS)                           1\n",
       "Name: degree_type, Length: 7148, dtype: int64"
      ]
     },
     "execution_count": 171,
     "metadata": {},
     "output_type": "execute_result"
    }
   ],
   "source": [
    "degrees['degree_type'].value_counts()"
   ]
  },
  {
   "cell_type": "markdown",
   "metadata": {},
   "source": [
    "Количество уникальных записей в поле слишком велико для отнесения к категориальным и составляет 7148 записей. При этом, можно заметить, что в уникальных значения присуствуют не типичные категории образования, которые вероятнее всего можно отнести к сертификатам."
   ]
  },
  {
   "cell_type": "code",
   "execution_count": 172,
   "metadata": {},
   "outputs": [
    {
     "data": {
      "text/html": [
       "<div>\n",
       "<style scoped>\n",
       "    .dataframe tbody tr th:only-of-type {\n",
       "        vertical-align: middle;\n",
       "    }\n",
       "\n",
       "    .dataframe tbody tr th {\n",
       "        vertical-align: top;\n",
       "    }\n",
       "\n",
       "    .dataframe thead th {\n",
       "        text-align: right;\n",
       "    }\n",
       "</style>\n",
       "<table border=\"1\" class=\"dataframe\">\n",
       "  <thead>\n",
       "    <tr style=\"text-align: right;\">\n",
       "      <th></th>\n",
       "      <th>id</th>\n",
       "      <th>first_name</th>\n",
       "      <th>last_name</th>\n",
       "      <th>company_id</th>\n",
       "      <th>network_username</th>\n",
       "    </tr>\n",
       "  </thead>\n",
       "  <tbody>\n",
       "    <tr>\n",
       "      <th>0</th>\n",
       "      <td>10</td>\n",
       "      <td>Mark</td>\n",
       "      <td>Zuckerberg</td>\n",
       "      <td>5.0</td>\n",
       "      <td>NaN</td>\n",
       "    </tr>\n",
       "    <tr>\n",
       "      <th>1</th>\n",
       "      <td>100</td>\n",
       "      <td>Peter</td>\n",
       "      <td>Lester</td>\n",
       "      <td>27.0</td>\n",
       "      <td>NaN</td>\n",
       "    </tr>\n",
       "    <tr>\n",
       "      <th>2</th>\n",
       "      <td>1000</td>\n",
       "      <td>Dr. Steven</td>\n",
       "      <td>E. Saunders</td>\n",
       "      <td>292.0</td>\n",
       "      <td>NaN</td>\n",
       "    </tr>\n",
       "    <tr>\n",
       "      <th>3</th>\n",
       "      <td>10000</td>\n",
       "      <td>Neil</td>\n",
       "      <td>Capel</td>\n",
       "      <td>2526.0</td>\n",
       "      <td>NaN</td>\n",
       "    </tr>\n",
       "    <tr>\n",
       "      <th>4</th>\n",
       "      <td>100000</td>\n",
       "      <td>Sue</td>\n",
       "      <td>Pilsch</td>\n",
       "      <td>NaN</td>\n",
       "      <td>NaN</td>\n",
       "    </tr>\n",
       "  </tbody>\n",
       "</table>\n",
       "</div>"
      ],
      "text/plain": [
       "       id  first_name    last_name  company_id network_username\n",
       "0      10        Mark   Zuckerberg         5.0              NaN\n",
       "1     100       Peter       Lester        27.0              NaN\n",
       "2    1000  Dr. Steven  E. Saunders       292.0              NaN\n",
       "3   10000        Neil        Capel      2526.0              NaN\n",
       "4  100000         Sue       Pilsch         NaN              NaN"
      ]
     },
     "metadata": {},
     "output_type": "display_data"
    },
    {
     "name": "stdout",
     "output_type": "stream",
     "text": [
      "<class 'pandas.core.frame.DataFrame'>\n",
      "RangeIndex: 226709 entries, 0 to 226708\n",
      "Data columns (total 5 columns):\n",
      " #   Column            Non-Null Count   Dtype  \n",
      "---  ------            --------------   -----  \n",
      " 0   id                226709 non-null  int64  \n",
      " 1   first_name        226704 non-null  object \n",
      " 2   last_name         226708 non-null  object \n",
      " 3   company_id        34615 non-null   float64\n",
      " 4   network_username  38867 non-null   object \n",
      "dtypes: float64(1), int64(1), object(3)\n",
      "memory usage: 8.6+ MB\n"
     ]
    }
   ],
   "source": [
    "display(people.head())\n",
    "people.info()"
   ]
  },
  {
   "cell_type": "markdown",
   "metadata": {},
   "source": [
    "На основе первичного знакомства с данными из датафрейма `people` можно сделать следующие заключения о данных:\n",
    "- Размер датафрейма составляет 5 столбца и 226708 строк;\n",
    "- Название столбцов корректны для дальнейшего использования;\n",
    "- Содержимое данных соответствует описанию;\n",
    "- в данных присуствуют следующие типы: `int64` - 1 поле, `object` - 3 поля, `float64` - 1 поле;\n",
    "- Все типы данных были установлены корректно;\n",
    "- В данных присуствуют пропуски почти по всем полям, кроме `id`. Следует оценить долю пропусков относительно всех данных."
   ]
  },
  {
   "cell_type": "code",
   "execution_count": 173,
   "metadata": {},
   "outputs": [
    {
     "data": {
      "text/plain": [
       "id                   0.000000\n",
       "first_name           0.002205\n",
       "last_name            0.000441\n",
       "company_id          84.731528\n",
       "network_username    82.855996\n",
       "dtype: float64"
      ]
     },
     "execution_count": 173,
     "metadata": {},
     "output_type": "execute_result"
    }
   ],
   "source": [
    "people.isna().sum() / people.shape[0] * 100"
   ]
  },
  {
   "cell_type": "markdown",
   "metadata": {},
   "source": [
    "Количество пропусков по полям `first_name`, `last_name` небольшое и составляет от 0.0004% до 0.002%. В полях `company_id`, `network_username` количество пропусков значительно больше и составляет от 82.86% до 84.73% от всех значений. Возможно пропуски в этих значениях говорят о том, что не все люди, которые перечилены в датасете работают в компаниях-стартапах. Для этого стоит просмотреть информацию о суммарном количестве сотрудников в компаниях, однако в представленных датасетах нет четкости в количестве людей, трудоустроенных в компаниях. Кроме того, стоит рассмотреть данные по именнам и фамилиям пользавателей, возможно присутвует люди \"No name\"."
   ]
  },
  {
   "cell_type": "code",
   "execution_count": 174,
   "metadata": {},
   "outputs": [
    {
     "data": {
      "text/html": [
       "<div>\n",
       "<style scoped>\n",
       "    .dataframe tbody tr th:only-of-type {\n",
       "        vertical-align: middle;\n",
       "    }\n",
       "\n",
       "    .dataframe tbody tr th {\n",
       "        vertical-align: top;\n",
       "    }\n",
       "\n",
       "    .dataframe thead th {\n",
       "        text-align: right;\n",
       "    }\n",
       "</style>\n",
       "<table border=\"1\" class=\"dataframe\">\n",
       "  <thead>\n",
       "    <tr style=\"text-align: right;\">\n",
       "      <th></th>\n",
       "      <th>id</th>\n",
       "      <th>first_name</th>\n",
       "      <th>last_name</th>\n",
       "      <th>company_id</th>\n",
       "      <th>network_username</th>\n",
       "    </tr>\n",
       "  </thead>\n",
       "  <tbody>\n",
       "    <tr>\n",
       "      <th>207997</th>\n",
       "      <td>78517</td>\n",
       "      <td>NaN</td>\n",
       "      <td>NaN</td>\n",
       "      <td>29.0</td>\n",
       "      <td>NaN</td>\n",
       "    </tr>\n",
       "  </tbody>\n",
       "</table>\n",
       "</div>"
      ],
      "text/plain": [
       "           id first_name last_name  company_id network_username\n",
       "207997  78517        NaN       NaN        29.0              NaN"
      ]
     },
     "execution_count": 174,
     "metadata": {},
     "output_type": "execute_result"
    }
   ],
   "source": [
    "people[(people['first_name'].isna()) & (people['last_name'].isna())]"
   ]
  },
  {
   "cell_type": "markdown",
   "metadata": {},
   "source": [
    "Действительно в данных присуствует человек без имени и фамилии, однако он закреплен за компанией с ID 29, тем самым его не стоит убирать из датасета, так как будет потеряна часть информации, которая скажетя на анализе."
   ]
  },
  {
   "cell_type": "markdown",
   "metadata": {},
   "source": [
    "### Промежуточный вывод о качестве данных\n",
    "\n",
    "В представленных данных содержится большое количество пропусков. Данные требует предобработки в разрезе названия столбцов, оптимизации типов данных (по возможности), удаления лишних данных (лишних столбцов), удаления дубликатов (при наличии), работы с пропусками (выбор методов обработки). \n",
    "\n",
    "Данные дополнительных датасетов не рассматривались и будут рассмотрены ситуационно при необходимости.\n",
    "\n",
    "***P.S. Не данные а сказка, я бы даже сказал сказка в стиле хоррор...🙃***"
   ]
  },
  {
   "cell_type": "markdown",
   "metadata": {
    "id": "mg2gEwh0rJg0"
   },
   "source": [
    "### 1.2. Смена типов и анализ пропусков\n"
   ]
  },
  {
   "cell_type": "code",
   "execution_count": 175,
   "metadata": {
    "id": "FsL0A8RBrJg1"
   },
   "outputs": [
    {
     "data": {
      "text/plain": [
       "id                              10529\n",
       "acquiring_company_id           285984\n",
       "acquired_company_id            286176\n",
       "price_amount            2600000000000\n",
       "dtype: int64"
      ]
     },
     "execution_count": 175,
     "metadata": {},
     "output_type": "execute_result"
    }
   ],
   "source": [
    "# Приступим к обработке и оптимизации данных в датасете acquisition\n",
    "# Повторно выведем информацию о максимальных значениях полей в датасете\n",
    "acquisition.max()"
   ]
  },
  {
   "cell_type": "markdown",
   "metadata": {
    "id": "5Sg2O8zNnzKc"
   },
   "source": [
    "Можно произвести оптимизацию поля `id`. А также замнеить тип данных поля `acquired_at` на datetime."
   ]
  },
  {
   "cell_type": "code",
   "execution_count": 176,
   "metadata": {},
   "outputs": [],
   "source": [
    "acquisition['id'] = pd.to_numeric(acquisition['id'], downcast = 'integer')\n",
    "acquisition['acquired_at'] = pd.to_datetime(acquisition['acquired_at'])"
   ]
  },
  {
   "cell_type": "code",
   "execution_count": 177,
   "metadata": {},
   "outputs": [
    {
     "data": {
      "text/html": [
       "<div>\n",
       "<style scoped>\n",
       "    .dataframe tbody tr th:only-of-type {\n",
       "        vertical-align: middle;\n",
       "    }\n",
       "\n",
       "    .dataframe tbody tr th {\n",
       "        vertical-align: top;\n",
       "    }\n",
       "\n",
       "    .dataframe thead th {\n",
       "        text-align: right;\n",
       "    }\n",
       "</style>\n",
       "<table border=\"1\" class=\"dataframe\">\n",
       "  <thead>\n",
       "    <tr style=\"text-align: right;\">\n",
       "      <th></th>\n",
       "      <th>id</th>\n",
       "      <th>acquiring_company_id</th>\n",
       "      <th>acquired_company_id</th>\n",
       "      <th>term_code</th>\n",
       "      <th>price_amount</th>\n",
       "      <th>acquired_at</th>\n",
       "    </tr>\n",
       "  </thead>\n",
       "  <tbody>\n",
       "    <tr>\n",
       "      <th>0</th>\n",
       "      <td>1</td>\n",
       "      <td>11</td>\n",
       "      <td>10</td>\n",
       "      <td>NaN</td>\n",
       "      <td>20000000</td>\n",
       "      <td>2007-05-30</td>\n",
       "    </tr>\n",
       "    <tr>\n",
       "      <th>1</th>\n",
       "      <td>7</td>\n",
       "      <td>59</td>\n",
       "      <td>72</td>\n",
       "      <td>cash</td>\n",
       "      <td>60000000</td>\n",
       "      <td>2007-07-01</td>\n",
       "    </tr>\n",
       "    <tr>\n",
       "      <th>2</th>\n",
       "      <td>8</td>\n",
       "      <td>24</td>\n",
       "      <td>132</td>\n",
       "      <td>cash</td>\n",
       "      <td>280000000</td>\n",
       "      <td>2007-05-01</td>\n",
       "    </tr>\n",
       "    <tr>\n",
       "      <th>3</th>\n",
       "      <td>9</td>\n",
       "      <td>59</td>\n",
       "      <td>155</td>\n",
       "      <td>cash</td>\n",
       "      <td>100000000</td>\n",
       "      <td>2007-06-01</td>\n",
       "    </tr>\n",
       "    <tr>\n",
       "      <th>4</th>\n",
       "      <td>10</td>\n",
       "      <td>212</td>\n",
       "      <td>215</td>\n",
       "      <td>cash</td>\n",
       "      <td>25000000</td>\n",
       "      <td>2007-07-01</td>\n",
       "    </tr>\n",
       "  </tbody>\n",
       "</table>\n",
       "</div>"
      ],
      "text/plain": [
       "   id  acquiring_company_id  acquired_company_id term_code  price_amount  \\\n",
       "0   1                    11                   10       NaN      20000000   \n",
       "1   7                    59                   72      cash      60000000   \n",
       "2   8                    24                  132      cash     280000000   \n",
       "3   9                    59                  155      cash     100000000   \n",
       "4  10                   212                  215      cash      25000000   \n",
       "\n",
       "  acquired_at  \n",
       "0  2007-05-30  \n",
       "1  2007-07-01  \n",
       "2  2007-05-01  \n",
       "3  2007-06-01  \n",
       "4  2007-07-01  "
      ]
     },
     "metadata": {},
     "output_type": "display_data"
    },
    {
     "name": "stdout",
     "output_type": "stream",
     "text": [
      "<class 'pandas.core.frame.DataFrame'>\n",
      "RangeIndex: 9407 entries, 0 to 9406\n",
      "Data columns (total 6 columns):\n",
      " #   Column                Non-Null Count  Dtype         \n",
      "---  ------                --------------  -----         \n",
      " 0   id                    9407 non-null   int16         \n",
      " 1   acquiring_company_id  9407 non-null   int64         \n",
      " 2   acquired_company_id   9407 non-null   int64         \n",
      " 3   term_code             1831 non-null   object        \n",
      " 4   price_amount          9407 non-null   int64         \n",
      " 5   acquired_at           9378 non-null   datetime64[ns]\n",
      "dtypes: datetime64[ns](1), int16(1), int64(3), object(1)\n",
      "memory usage: 386.0+ KB\n"
     ]
    }
   ],
   "source": [
    "display(acquisition.head())\n",
    "acquisition.info()"
   ]
  },
  {
   "cell_type": "markdown",
   "metadata": {},
   "source": [
    "Данные датасета были оптимизированы и изменен тип данных, содержимое осталось неизменным. Присутствуют несколько записей, в которых дата сделки неизвестна, тем самым в дальнейшем их будет невозможно проанализировать в разрезе даты соверешния. Очистка данных будет произведена при необходимости. Количество пропусков небольшое и заполнить их невозможно, поэтому они будут удалены в случае необходимости. Также оценим наличие дубликатов по полям покупающей и покупаемой компании."
   ]
  },
  {
   "cell_type": "code",
   "execution_count": 178,
   "metadata": {},
   "outputs": [
    {
     "data": {
      "text/plain": [
       "25"
      ]
     },
     "execution_count": 178,
     "metadata": {},
     "output_type": "execute_result"
    }
   ],
   "source": [
    "acquisition.duplicated(subset=['acquiring_company_id', 'acquired_company_id']).sum()"
   ]
  },
  {
   "cell_type": "markdown",
   "metadata": {},
   "source": [
    "В данных присуствуют 25 дублирующих записей о покупке одной компании другой. Возможно компания продавалась частично, стоит также оценить количество дубликатов по дате."
   ]
  },
  {
   "cell_type": "code",
   "execution_count": 179,
   "metadata": {},
   "outputs": [
    {
     "data": {
      "text/plain": [
       "12"
      ]
     },
     "execution_count": 179,
     "metadata": {},
     "output_type": "execute_result"
    }
   ],
   "source": [
    "acquisition.duplicated(subset=['acquiring_company_id', 'acquired_company_id','acquired_at']).sum()"
   ]
  },
  {
   "cell_type": "markdown",
   "metadata": {},
   "source": [
    "Количество дубликатов с учетом даты составило 12, вероятнее всего это истинные дубликаты, от которых необходимо будет избавиться. Задумаемся об этом позже после полноценной проверки всех датасетов."
   ]
  },
  {
   "cell_type": "code",
   "execution_count": 180,
   "metadata": {},
   "outputs": [
    {
     "name": "stdout",
     "output_type": "stream",
     "text": [
      "<class 'pandas.core.frame.DataFrame'>\n",
      "RangeIndex: 217774 entries, 0 to 217773\n",
      "Data columns (total 22 columns):\n",
      " #   Column                 Non-Null Count   Dtype  \n",
      "---  ------                 --------------   -----  \n",
      " 0   company  ID            217472 non-null  float64\n",
      " 1   name                   217472 non-null  object \n",
      " 2   category  code         143886 non-null  object \n",
      " 3   status                 217472 non-null  object \n",
      " 4   founded  at            109956 non-null  object \n",
      " 5   closed  at             3449 non-null    object \n",
      " 6   domain                 147159 non-null  object \n",
      " 7   network  username      95534 non-null   object \n",
      " 8   country  code          108607 non-null  object \n",
      " 9   investment  rounds     217472 non-null  float64\n",
      " 10  funding  rounds        217472 non-null  float64\n",
      " 11  funding  total         217472 non-null  float64\n",
      " 12  milestones             217472 non-null  float64\n",
      " 13  funding  round  id     52928 non-null   float64\n",
      " 14  company  id            52928 non-null   float64\n",
      " 15  funded  at             52680 non-null   object \n",
      " 16  funding  round  type   52928 non-null   object \n",
      " 17  raised  amount         52928 non-null   float64\n",
      " 18  pre  money  valuation  52928 non-null   float64\n",
      " 19  participants           52928 non-null   float64\n",
      " 20  is  first  round       52928 non-null   float64\n",
      " 21  is  last  round        52928 non-null   float64\n",
      "dtypes: float64(12), object(10)\n",
      "memory usage: 36.6+ MB\n"
     ]
    }
   ],
   "source": [
    "# Вновь выведем информацию по датасету company_and_rounds\n",
    "company_and_rounds.info()"
   ]
  },
  {
   "cell_type": "code",
   "execution_count": 181,
   "metadata": {},
   "outputs": [
    {
     "data": {
      "text/plain": [
       "company  ID              2.862150e+05\n",
       "investment  rounds       4.780000e+02\n",
       "funding  rounds          1.500000e+01\n",
       "funding  total           5.700000e+09\n",
       "milestones               9.000000e+00\n",
       "funding  round  id       5.795200e+04\n",
       "company  id              2.862150e+05\n",
       "raised  amount           3.835050e+09\n",
       "pre  money  valuation    1.500000e+10\n",
       "participants             3.600000e+01\n",
       "is  first  round         1.000000e+00\n",
       "is  last  round          1.000000e+00\n",
       "dtype: float64"
      ]
     },
     "execution_count": 181,
     "metadata": {},
     "output_type": "execute_result"
    }
   ],
   "source": [
    "# Дополнительно выведем информацию о максимальных значениях в столбцах\n",
    "company_and_rounds.max()"
   ]
  },
  {
   "cell_type": "markdown",
   "metadata": {},
   "source": [
    "Учитывая специфику данных к сожалению в данный момент оптимизацию данных произвести невозможно, поскольку все поля содержат пропуски и преобразовать значения в целочисленный тип данных нельзя.\n",
    "\n",
    "Таким образом получится преобразовать только даты из типа `object` в тип `datetime64`.\n",
    "\n",
    "Однако, для начала, следует переименовать столбцы с данными для удобства дальнейшей работы с ними."
   ]
  },
  {
   "cell_type": "code",
   "execution_count": 182,
   "metadata": {},
   "outputs": [
    {
     "name": "stdout",
     "output_type": "stream",
     "text": [
      "<class 'pandas.core.frame.DataFrame'>\n",
      "RangeIndex: 217774 entries, 0 to 217773\n",
      "Data columns (total 22 columns):\n",
      " #   Column               Non-Null Count   Dtype  \n",
      "---  ------               --------------   -----  \n",
      " 0   company_ID           217472 non-null  float64\n",
      " 1   name                 217472 non-null  object \n",
      " 2   category_code        143886 non-null  object \n",
      " 3   status               217472 non-null  object \n",
      " 4   founded_at           109956 non-null  object \n",
      " 5   closed_at            3449 non-null    object \n",
      " 6   domain               147159 non-null  object \n",
      " 7   network_username     95534 non-null   object \n",
      " 8   country_code         108607 non-null  object \n",
      " 9   investment_rounds    217472 non-null  float64\n",
      " 10  funding_rounds       217472 non-null  float64\n",
      " 11  funding_total        217472 non-null  float64\n",
      " 12  milestones           217472 non-null  float64\n",
      " 13  funding_round_id     52928 non-null   float64\n",
      " 14  company_id           52928 non-null   float64\n",
      " 15  funded_at            52680 non-null   object \n",
      " 16  funding_round_type   52928 non-null   object \n",
      " 17  raised_amount        52928 non-null   float64\n",
      " 18  pre_money_valuation  52928 non-null   float64\n",
      " 19  participants         52928 non-null   float64\n",
      " 20  is_first_round       52928 non-null   float64\n",
      " 21  is_last_round        52928 non-null   float64\n",
      "dtypes: float64(12), object(10)\n",
      "memory usage: 36.6+ MB\n"
     ]
    }
   ],
   "source": [
    "# Заменим \"  \" на \"_\"\n",
    "company_and_rounds.columns = company_and_rounds.columns.str.replace('  ','_')\n",
    "company_and_rounds.info()"
   ]
  },
  {
   "cell_type": "markdown",
   "metadata": {},
   "source": [
    "Все названия столбцов датасета были заменены на аналогичные путем замены двух пробелов на нижнее подчеркивание. Теперь преобразуем типы данных для полей, содержащих информацию о дате."
   ]
  },
  {
   "cell_type": "code",
   "execution_count": 183,
   "metadata": {},
   "outputs": [],
   "source": [
    "company_and_rounds['founded_at'] = pd.to_datetime(company_and_rounds['founded_at'])\n",
    "company_and_rounds['closed_at'] = pd.to_datetime(company_and_rounds['closed_at'])\n",
    "company_and_rounds['funded_at'] = pd.to_datetime(company_and_rounds['funded_at'])"
   ]
  },
  {
   "cell_type": "code",
   "execution_count": 184,
   "metadata": {},
   "outputs": [
    {
     "name": "stdout",
     "output_type": "stream",
     "text": [
      "<class 'pandas.core.frame.DataFrame'>\n",
      "RangeIndex: 217774 entries, 0 to 217773\n",
      "Data columns (total 22 columns):\n",
      " #   Column               Non-Null Count   Dtype         \n",
      "---  ------               --------------   -----         \n",
      " 0   company_ID           217472 non-null  float64       \n",
      " 1   name                 217472 non-null  object        \n",
      " 2   category_code        143886 non-null  object        \n",
      " 3   status               217472 non-null  object        \n",
      " 4   founded_at           109956 non-null  datetime64[ns]\n",
      " 5   closed_at            3449 non-null    datetime64[ns]\n",
      " 6   domain               147159 non-null  object        \n",
      " 7   network_username     95534 non-null   object        \n",
      " 8   country_code         108607 non-null  object        \n",
      " 9   investment_rounds    217472 non-null  float64       \n",
      " 10  funding_rounds       217472 non-null  float64       \n",
      " 11  funding_total        217472 non-null  float64       \n",
      " 12  milestones           217472 non-null  float64       \n",
      " 13  funding_round_id     52928 non-null   float64       \n",
      " 14  company_id           52928 non-null   float64       \n",
      " 15  funded_at            52680 non-null   datetime64[ns]\n",
      " 16  funding_round_type   52928 non-null   object        \n",
      " 17  raised_amount        52928 non-null   float64       \n",
      " 18  pre_money_valuation  52928 non-null   float64       \n",
      " 19  participants         52928 non-null   float64       \n",
      " 20  is_first_round       52928 non-null   float64       \n",
      " 21  is_last_round        52928 non-null   float64       \n",
      "dtypes: datetime64[ns](3), float64(12), object(7)\n",
      "memory usage: 36.6+ MB\n"
     ]
    }
   ],
   "source": [
    "company_and_rounds.info()"
   ]
  },
  {
   "cell_type": "markdown",
   "metadata": {},
   "source": [
    "Как уже отмечалось ранее в данных присуствуют дубликаты из-за возможного раннего объединения предыдущих датасетов, в которых содержались данные. Однако, учитывая специфику заданий заказчика, чистка данных будет произведена позднее."
   ]
  },
  {
   "cell_type": "markdown",
   "metadata": {},
   "source": [
    "Рассмотрим максимальные значения в датасете `education` для анализа возможно ли оптимизировать типы данных."
   ]
  },
  {
   "cell_type": "code",
   "execution_count": 185,
   "metadata": {},
   "outputs": [
    {
     "data": {
      "text/plain": [
       "id           109610\n",
       "person_id    268589\n",
       "dtype: int64"
      ]
     },
     "execution_count": 185,
     "metadata": {},
     "output_type": "execute_result"
    }
   ],
   "source": [
    "education.max()"
   ]
  },
  {
   "cell_type": "markdown",
   "metadata": {},
   "source": [
    "Максимальное значение идентификатора составляет 109610, таким образом это поле можно изменить с `int64` на `int32`, чего не скажешь о поле индентификатора пользователя. Также, учитывая разницу между количеством уникальных записей об образовании сотрудников и количеством сотрудников, можно сделать вывод о том, что ранее сформированная гипотеза о пропусках в поле `instituition` связана с отсуствием образования не подтверждается поскольку количество уникальных сотрудников намного больше, что говорит о наличии сотрудников, незаполневших поля с образованием. Стоит взглянуть как сопоставляются данные в полях `instituition` и `gratuated_at` и  есть ли в них одновременные пропуски, тогда такие данные следует убрать."
   ]
  },
  {
   "cell_type": "code",
   "execution_count": 186,
   "metadata": {
    "id": "4u9np9gSnyqT"
   },
   "outputs": [
    {
     "name": "stdout",
     "output_type": "stream",
     "text": [
      "<class 'pandas.core.frame.DataFrame'>\n",
      "RangeIndex: 109610 entries, 0 to 109609\n",
      "Data columns (total 4 columns):\n",
      " #   Column        Non-Null Count   Dtype         \n",
      "---  ------        --------------   -----         \n",
      " 0   id            109610 non-null  int32         \n",
      " 1   person_id     109610 non-null  int64         \n",
      " 2   instituition  109555 non-null  object        \n",
      " 3   graduated_at  58054 non-null   datetime64[ns]\n",
      "dtypes: datetime64[ns](1), int32(1), int64(1), object(1)\n",
      "memory usage: 2.9+ MB\n"
     ]
    }
   ],
   "source": [
    "# Первично преобразуем данные\n",
    "education['id'] = pd.to_numeric(education['id'], downcast = 'integer')\n",
    "education['graduated_at'] = pd.to_datetime(education['graduated_at'])\n",
    "education.info()"
   ]
  },
  {
   "cell_type": "markdown",
   "metadata": {},
   "source": [
    "Тип данных преобразован, объем датасета изменился приблизительно на 0.4МВ."
   ]
  },
  {
   "cell_type": "code",
   "execution_count": 187,
   "metadata": {},
   "outputs": [
    {
     "data": {
      "text/html": [
       "<div>\n",
       "<style scoped>\n",
       "    .dataframe tbody tr th:only-of-type {\n",
       "        vertical-align: middle;\n",
       "    }\n",
       "\n",
       "    .dataframe tbody tr th {\n",
       "        vertical-align: top;\n",
       "    }\n",
       "\n",
       "    .dataframe thead th {\n",
       "        text-align: right;\n",
       "    }\n",
       "</style>\n",
       "<table border=\"1\" class=\"dataframe\">\n",
       "  <thead>\n",
       "    <tr style=\"text-align: right;\">\n",
       "      <th></th>\n",
       "      <th>id</th>\n",
       "      <th>person_id</th>\n",
       "      <th>instituition</th>\n",
       "      <th>graduated_at</th>\n",
       "    </tr>\n",
       "  </thead>\n",
       "  <tbody>\n",
       "    <tr>\n",
       "      <th>0</th>\n",
       "      <td>1</td>\n",
       "      <td>6117</td>\n",
       "      <td>NaN</td>\n",
       "      <td>NaT</td>\n",
       "    </tr>\n",
       "    <tr>\n",
       "      <th>160</th>\n",
       "      <td>161</td>\n",
       "      <td>7304</td>\n",
       "      <td>NaN</td>\n",
       "      <td>NaT</td>\n",
       "    </tr>\n",
       "    <tr>\n",
       "      <th>162</th>\n",
       "      <td>163</td>\n",
       "      <td>7306</td>\n",
       "      <td>NaN</td>\n",
       "      <td>NaT</td>\n",
       "    </tr>\n",
       "    <tr>\n",
       "      <th>271</th>\n",
       "      <td>272</td>\n",
       "      <td>7724</td>\n",
       "      <td>NaN</td>\n",
       "      <td>NaT</td>\n",
       "    </tr>\n",
       "    <tr>\n",
       "      <th>330</th>\n",
       "      <td>331</td>\n",
       "      <td>7914</td>\n",
       "      <td>NaN</td>\n",
       "      <td>NaT</td>\n",
       "    </tr>\n",
       "    <tr>\n",
       "      <th>603</th>\n",
       "      <td>604</td>\n",
       "      <td>9742</td>\n",
       "      <td>NaN</td>\n",
       "      <td>NaT</td>\n",
       "    </tr>\n",
       "    <tr>\n",
       "      <th>4424</th>\n",
       "      <td>4423</td>\n",
       "      <td>42511</td>\n",
       "      <td>NaN</td>\n",
       "      <td>NaT</td>\n",
       "    </tr>\n",
       "    <tr>\n",
       "      <th>9095</th>\n",
       "      <td>9087</td>\n",
       "      <td>69000</td>\n",
       "      <td>NaN</td>\n",
       "      <td>NaT</td>\n",
       "    </tr>\n",
       "    <tr>\n",
       "      <th>19198</th>\n",
       "      <td>19193</td>\n",
       "      <td>132950</td>\n",
       "      <td>NaN</td>\n",
       "      <td>NaT</td>\n",
       "    </tr>\n",
       "    <tr>\n",
       "      <th>23269</th>\n",
       "      <td>23265</td>\n",
       "      <td>160570</td>\n",
       "      <td>NaN</td>\n",
       "      <td>NaT</td>\n",
       "    </tr>\n",
       "    <tr>\n",
       "      <th>26541</th>\n",
       "      <td>26537</td>\n",
       "      <td>174988</td>\n",
       "      <td>NaN</td>\n",
       "      <td>NaT</td>\n",
       "    </tr>\n",
       "    <tr>\n",
       "      <th>30780</th>\n",
       "      <td>30778</td>\n",
       "      <td>64691</td>\n",
       "      <td>NaN</td>\n",
       "      <td>NaT</td>\n",
       "    </tr>\n",
       "    <tr>\n",
       "      <th>30967</th>\n",
       "      <td>30965</td>\n",
       "      <td>185249</td>\n",
       "      <td>NaN</td>\n",
       "      <td>NaT</td>\n",
       "    </tr>\n",
       "    <tr>\n",
       "      <th>31386</th>\n",
       "      <td>31383</td>\n",
       "      <td>185729</td>\n",
       "      <td>NaN</td>\n",
       "      <td>NaT</td>\n",
       "    </tr>\n",
       "    <tr>\n",
       "      <th>34572</th>\n",
       "      <td>34570</td>\n",
       "      <td>188869</td>\n",
       "      <td>NaN</td>\n",
       "      <td>NaT</td>\n",
       "    </tr>\n",
       "    <tr>\n",
       "      <th>36648</th>\n",
       "      <td>36644</td>\n",
       "      <td>190893</td>\n",
       "      <td>NaN</td>\n",
       "      <td>NaT</td>\n",
       "    </tr>\n",
       "    <tr>\n",
       "      <th>38966</th>\n",
       "      <td>38962</td>\n",
       "      <td>27306</td>\n",
       "      <td>NaN</td>\n",
       "      <td>NaT</td>\n",
       "    </tr>\n",
       "    <tr>\n",
       "      <th>38968</th>\n",
       "      <td>38964</td>\n",
       "      <td>27306</td>\n",
       "      <td>NaN</td>\n",
       "      <td>NaT</td>\n",
       "    </tr>\n",
       "    <tr>\n",
       "      <th>39240</th>\n",
       "      <td>39236</td>\n",
       "      <td>26218</td>\n",
       "      <td>NaN</td>\n",
       "      <td>NaT</td>\n",
       "    </tr>\n",
       "  </tbody>\n",
       "</table>\n",
       "</div>"
      ],
      "text/plain": [
       "          id  person_id instituition graduated_at\n",
       "0          1       6117          NaN          NaT\n",
       "160      161       7304          NaN          NaT\n",
       "162      163       7306          NaN          NaT\n",
       "271      272       7724          NaN          NaT\n",
       "330      331       7914          NaN          NaT\n",
       "603      604       9742          NaN          NaT\n",
       "4424    4423      42511          NaN          NaT\n",
       "9095    9087      69000          NaN          NaT\n",
       "19198  19193     132950          NaN          NaT\n",
       "23269  23265     160570          NaN          NaT\n",
       "26541  26537     174988          NaN          NaT\n",
       "30780  30778      64691          NaN          NaT\n",
       "30967  30965     185249          NaN          NaT\n",
       "31386  31383     185729          NaN          NaT\n",
       "34572  34570     188869          NaN          NaT\n",
       "36648  36644     190893          NaN          NaT\n",
       "38966  38962      27306          NaN          NaT\n",
       "38968  38964      27306          NaN          NaT\n",
       "39240  39236      26218          NaN          NaT"
      ]
     },
     "execution_count": 187,
     "metadata": {},
     "output_type": "execute_result"
    }
   ],
   "source": [
    "# Проверим полнотсью пустые значения\n",
    "education[(education['instituition'].isna()) & (education['graduated_at'].isna())]"
   ]
  },
  {
   "cell_type": "markdown",
   "metadata": {},
   "source": [
    "19 записей среди всего датафрейма не содержат информации о названии учебного заведения и дате, учитывая специфику данных стоит избавиться от этих данных, однако в дальнейшем по просьбе заказчика следует оценить полный датасет, поэтому его содержимое будет изменяться ситуационно."
   ]
  },
  {
   "cell_type": "markdown",
   "metadata": {},
   "source": [
    "Раннее знакомство с датасетом `people` показало, что работать с ним с точки зрения преобразования и оптимизации типов данных нет необходимости, все определенно корректно. В названии столбцов также все хорошо."
   ]
  },
  {
   "cell_type": "markdown",
   "metadata": {},
   "source": [
    "В датасете `degrees` присутсовало поле, которое требовало изменение содержимого ввиду хранения информации о идентификаторе пользователя в формате `p:номер id`, следует избавиться от конструкции и оставить только номера."
   ]
  },
  {
   "cell_type": "code",
   "execution_count": 188,
   "metadata": {},
   "outputs": [],
   "source": [
    "# Воспользуемся функцией srtip()\n",
    "degrees['object_id'] = degrees['object_id'].str.strip(to_strip = 'p:')"
   ]
  },
  {
   "cell_type": "code",
   "execution_count": 189,
   "metadata": {
    "scrolled": true
   },
   "outputs": [
    {
     "data": {
      "text/html": [
       "<div>\n",
       "<style scoped>\n",
       "    .dataframe tbody tr th:only-of-type {\n",
       "        vertical-align: middle;\n",
       "    }\n",
       "\n",
       "    .dataframe tbody tr th {\n",
       "        vertical-align: top;\n",
       "    }\n",
       "\n",
       "    .dataframe thead th {\n",
       "        text-align: right;\n",
       "    }\n",
       "</style>\n",
       "<table border=\"1\" class=\"dataframe\">\n",
       "  <thead>\n",
       "    <tr style=\"text-align: right;\">\n",
       "      <th></th>\n",
       "      <th>id</th>\n",
       "      <th>object_id</th>\n",
       "      <th>degree_type</th>\n",
       "      <th>subject</th>\n",
       "    </tr>\n",
       "  </thead>\n",
       "  <tbody>\n",
       "    <tr>\n",
       "      <th>0</th>\n",
       "      <td>1</td>\n",
       "      <td>6117</td>\n",
       "      <td>MBA</td>\n",
       "      <td>NaN</td>\n",
       "    </tr>\n",
       "    <tr>\n",
       "      <th>1</th>\n",
       "      <td>2</td>\n",
       "      <td>6136</td>\n",
       "      <td>BA</td>\n",
       "      <td>English, French</td>\n",
       "    </tr>\n",
       "    <tr>\n",
       "      <th>2</th>\n",
       "      <td>3</td>\n",
       "      <td>6136</td>\n",
       "      <td>MS</td>\n",
       "      <td>Mass Communication</td>\n",
       "    </tr>\n",
       "    <tr>\n",
       "      <th>3</th>\n",
       "      <td>4</td>\n",
       "      <td>6005</td>\n",
       "      <td>MS</td>\n",
       "      <td>Internet Technology</td>\n",
       "    </tr>\n",
       "    <tr>\n",
       "      <th>4</th>\n",
       "      <td>5</td>\n",
       "      <td>5832</td>\n",
       "      <td>BCS</td>\n",
       "      <td>Computer Science, Psychology</td>\n",
       "    </tr>\n",
       "  </tbody>\n",
       "</table>\n",
       "</div>"
      ],
      "text/plain": [
       "   id object_id degree_type                       subject\n",
       "0   1      6117         MBA                           NaN\n",
       "1   2      6136          BA               English, French\n",
       "2   3      6136          MS            Mass Communication\n",
       "3   4      6005          MS           Internet Technology\n",
       "4   5      5832         BCS  Computer Science, Psychology"
      ]
     },
     "execution_count": 189,
     "metadata": {},
     "output_type": "execute_result"
    }
   ],
   "source": [
    "# Проперим содержимое\n",
    "degrees.head()"
   ]
  },
  {
   "cell_type": "markdown",
   "metadata": {},
   "source": [
    "Теперь можно приступить к смене типа данных в поле `object_id`."
   ]
  },
  {
   "cell_type": "code",
   "execution_count": 190,
   "metadata": {},
   "outputs": [],
   "source": [
    "degrees['object_id'] = pd.to_numeric(degrees['object_id'])"
   ]
  },
  {
   "cell_type": "code",
   "execution_count": 191,
   "metadata": {},
   "outputs": [
    {
     "name": "stdout",
     "output_type": "stream",
     "text": [
      "<class 'pandas.core.frame.DataFrame'>\n",
      "RangeIndex: 109610 entries, 0 to 109609\n",
      "Data columns (total 4 columns):\n",
      " #   Column       Non-Null Count   Dtype \n",
      "---  ------       --------------   ----- \n",
      " 0   id           109610 non-null  int64 \n",
      " 1   object_id    109610 non-null  int64 \n",
      " 2   degree_type  98392 non-null   object\n",
      " 3   subject      81298 non-null   object\n",
      "dtypes: int64(2), object(2)\n",
      "memory usage: 3.3+ MB\n"
     ]
    }
   ],
   "source": [
    "degrees.info()"
   ]
  },
  {
   "cell_type": "markdown",
   "metadata": {},
   "source": [
    "Тип данных в столбце был успешно изменен с `object_id` на `int64`."
   ]
  },
  {
   "cell_type": "markdown",
   "metadata": {},
   "source": [
    "Таким образом были преобразованы все возможные типы данных столбцов на подходящие как с точки зрения дальнейшей работы с ними, так и с тчоки зрения оптимизации данных. Также были переименованы названия столбцов в датасете `company_and_rounds`. Кроме того, в столбце `object_id` датасета `degrees` были изменены значения с целью дальнейшей работы с данными."
   ]
  },
  {
   "cell_type": "markdown",
   "metadata": {},
   "source": [
    "Ранее уже рассматривалось количество пропусков в данных, однак повторим изучение по всем описанным выше датасетом для возобновления информации."
   ]
  },
  {
   "cell_type": "code",
   "execution_count": 192,
   "metadata": {},
   "outputs": [
    {
     "data": {
      "text/plain": [
       "id                       0.000000\n",
       "acquiring_company_id     0.000000\n",
       "acquired_company_id      0.000000\n",
       "term_code               80.535771\n",
       "price_amount             0.000000\n",
       "acquired_at              0.308281\n",
       "dtype: float64"
      ]
     },
     "metadata": {},
     "output_type": "display_data"
    },
    {
     "data": {
      "text/plain": [
       "company_ID              0.138676\n",
       "name                    0.138676\n",
       "category_code          33.928752\n",
       "status                  0.138676\n",
       "founded_at             49.509124\n",
       "closed_at              98.416248\n",
       "domain                 32.425818\n",
       "network_username       56.131586\n",
       "country_code           50.128574\n",
       "investment_rounds       0.138676\n",
       "funding_rounds          0.138676\n",
       "funding_total           0.138676\n",
       "milestones              0.138676\n",
       "funding_round_id       75.695905\n",
       "company_id             75.695905\n",
       "funded_at              75.809784\n",
       "funding_round_type     75.695905\n",
       "raised_amount          75.695905\n",
       "pre_money_valuation    75.695905\n",
       "participants           75.695905\n",
       "is_first_round         75.695905\n",
       "is_last_round          75.695905\n",
       "dtype: float64"
      ]
     },
     "metadata": {},
     "output_type": "display_data"
    },
    {
     "data": {
      "text/plain": [
       "id                   0.000000\n",
       "first_name           0.002205\n",
       "last_name            0.000441\n",
       "company_id          84.731528\n",
       "network_username    82.855996\n",
       "dtype: float64"
      ]
     },
     "metadata": {},
     "output_type": "display_data"
    },
    {
     "data": {
      "text/plain": [
       "id               0.000000\n",
       "person_id        0.000000\n",
       "instituition     0.050178\n",
       "graduated_at    47.035854\n",
       "dtype: float64"
      ]
     },
     "metadata": {},
     "output_type": "display_data"
    },
    {
     "data": {
      "text/plain": [
       "id              0.000000\n",
       "object_id       0.000000\n",
       "degree_type    10.234468\n",
       "subject        25.829760\n",
       "dtype: float64"
      ]
     },
     "metadata": {},
     "output_type": "display_data"
    }
   ],
   "source": [
    "display(acquisition.isna().sum() / acquisition.shape[0] * 100)\n",
    "display(company_and_rounds.isna().sum() / company_and_rounds.shape[0] * 100)\n",
    "display(people.isna().sum() / people.shape[0] * 100)\n",
    "display(education.isna().sum() / education.shape[0] * 100)\n",
    "display(degrees.isna().sum() / degrees.shape[0] * 100)"
   ]
  },
  {
   "cell_type": "markdown",
   "metadata": {},
   "source": [
    "По порядку:\n",
    "- `acquisition` - количество пропусков в датасете небольшое, за исключением поля `term_code` (содержит информацию о способах расчета), учитывая задачи со стороны заказчика эти данные не потребуются для исследовательского анализа;\n",
    "- `company_and_rounds` - больше половины столбцов имеют большое количество  пропущенных данных, предположения об их появлении были сделаны при рассмотрении и первичном изуучении данных, стоит учесть что из-за большого количества записей, данными все равно возможно пользоваться для проведения исследований заказчика (потребуется сформировать методику предобработки и реализовать ее). Самое большое количество пропусков представлено в поле `closed_at` (дата закрытия компании), однако наличие пропусков может быть объяснено тем, что еще не были закрыты (проверим и подумаем об этом чуть позже).\n",
    "- `people` - датасет состоит из 5 полей, при этом 2 содержат минимальные пропуски и ими можно принебречь (причиной появления пропусков может являтся процесс заполнения данных: возможно поля были необязательны к заполнению или пропущены (потеряны) в процессе внесения данных). Другие два поля содержат колосальное количество пропусков, стоит отметить что значения количества не равны, поэтому здесь также трудно оценить причину их появления. Однако, можно предположить что не все сотрудники закреплены за компаниями, также как и в предыдущем случае ошибка может быть в том, что поля необязательны к заполнению. Так как мы не знаем процесса заполнения информации, сложно сделать более точныее выводы. Это может стать критической проблемой при проведении исследования.\n",
    "- `education` - в целом данные почти полные, однако присуствуют пропуски в дате получения образования, возможно это поле по аналогии с другими датасетами было необязательно к заполнению и поэтому его пропускали (ведь важно не когда получили, а как хорошо используют знания и откуда такие ценные кадры появились) или же в документе об образовании не указано четкой даты получения и трудно сказать когда именно он сотрудник его получил.\n",
    "- `degrees` - присутствуют пропуски в двух основных полях датасета (исключение идентификатор сотрудника), при этом данные также не сопоставимы по количеству (пропусков в типе образования меньше чем в специальности), аналогично предыдущим датасетам нам неизвестно как происходит заполнение данных, поэтому вероятнее всего появление пропусков заключается именно в нем. По задачам от заказчика данные из датасета не сильно важны, тем более учитывая количество уникальных значений в типе образования их сложно оценить и изучить по отдельности даже в случае среза. "
   ]
  },
  {
   "cell_type": "markdown",
   "metadata": {},
   "source": [
    "### Промежуточный вывод по разделу:\n",
    "\n",
    "В ходе работы в рамках раздела были выполнены следующие задачи:\n",
    "- изученины данные и проведена их первичная предобработка (замена типов данных, содержимого и названия столбцов);\n",
    "- рассмотрены пропуски и их количество, выдвинуты гипотезы о их появлении;\n",
    "- выдвинуты гипотезы о дубликатах и дублирующихся данных.\n",
    "\n",
    "\n",
    "Отдельно обратим внимание на пропуски, не смотря на наличие большого количества пропусков в важных таблицах, возможность их дальнейшей обработки и анализа присутсвует, так как даже при отсуствии некоторых обязательных данных сохраняется большая выборка значений. Исключением является датасет `people`, большое количество пропущенных значений о идентификаторе компаний, к которой относится сотрудник, может привести к неправильным аналитическим выводам."
   ]
  },
  {
   "cell_type": "markdown",
   "metadata": {
    "id": "u60cHsn6rJg1"
   },
   "source": [
    "## Шаг 2. Предобработка данных, предварительное исследование"
   ]
  },
  {
   "cell_type": "markdown",
   "metadata": {
    "id": "g2bHIIjcrJg1"
   },
   "source": [
    "\n",
    "### 2.1. Раунды финансирования по годам\n",
    "\n",
    "Задание необходимо выполнить без объединения и дополнительной предобработки на основе датасета `company_and_rounds.csv`.\n",
    "\n",
    "* Составьте сводную таблицу по годам, в которой на основании столбца `raised_amount` для каждого года указан:\n",
    "\n",
    "  * типичный размер средств, выделяемый в рамках одного раунда;\n",
    "  * общее количество раундов финансирования за этот год.\n",
    "\n",
    "* Оставьте в таблице информацию только для тех лет, для которых есть информация о более чем 50 раундах финансирования.\n",
    "\n",
    "* На основе получившейся таблицы постройте график, который будет отражать динамику типичного размера средств, которые стартапы получали в рамках одного раунда финансирования.\n",
    "\n",
    "На основе полученных данных ответьте на вопросы:\n",
    "\n",
    "* В каком году типичный размер собранных в рамках одного раунда средств был максимален?\n",
    "\n",
    "* Какая тенденция по количеству раундов и выделяемых в рамках каждого раунда средств наблюдалась в 2013 году?"
   ]
  },
  {
   "cell_type": "markdown",
   "metadata": {
    "id": "ovyDibxNrJg1"
   },
   "source": [
    "Создадим сводную таблицу, в которой отразим год, типичный размер средств (медиану т.к., на основе рассмотрения данных было замечено, что среднее сильно отличается, тем самым говоря о выбросах и аномальных значения в данных, что исказит общую картину), а также количество раундов финансирования."
   ]
  },
  {
   "cell_type": "code",
   "execution_count": 193,
   "metadata": {},
   "outputs": [
    {
     "data": {
      "text/html": [
       "<div>\n",
       "<style scoped>\n",
       "    .dataframe tbody tr th:only-of-type {\n",
       "        vertical-align: middle;\n",
       "    }\n",
       "\n",
       "    .dataframe tbody tr th {\n",
       "        vertical-align: top;\n",
       "    }\n",
       "\n",
       "    .dataframe thead tr th {\n",
       "        text-align: left;\n",
       "    }\n",
       "\n",
       "    .dataframe thead tr:last-of-type th {\n",
       "        text-align: right;\n",
       "    }\n",
       "</style>\n",
       "<table border=\"1\" class=\"dataframe\">\n",
       "  <thead>\n",
       "    <tr>\n",
       "      <th></th>\n",
       "      <th>median</th>\n",
       "      <th>count</th>\n",
       "    </tr>\n",
       "    <tr>\n",
       "      <th></th>\n",
       "      <th>raised_amount</th>\n",
       "      <th>raised_amount</th>\n",
       "    </tr>\n",
       "    <tr>\n",
       "      <th>year_funded</th>\n",
       "      <th></th>\n",
       "      <th></th>\n",
       "    </tr>\n",
       "  </thead>\n",
       "  <tbody>\n",
       "    <tr>\n",
       "      <th>1960</th>\n",
       "      <td>0</td>\n",
       "      <td>9</td>\n",
       "    </tr>\n",
       "    <tr>\n",
       "      <th>1973</th>\n",
       "      <td>0</td>\n",
       "      <td>1</td>\n",
       "    </tr>\n",
       "    <tr>\n",
       "      <th>1974</th>\n",
       "      <td>0</td>\n",
       "      <td>2</td>\n",
       "    </tr>\n",
       "    <tr>\n",
       "      <th>1984</th>\n",
       "      <td>41000</td>\n",
       "      <td>3</td>\n",
       "    </tr>\n",
       "    <tr>\n",
       "      <th>1985</th>\n",
       "      <td>0</td>\n",
       "      <td>1</td>\n",
       "    </tr>\n",
       "    <tr>\n",
       "      <th>1987</th>\n",
       "      <td>1250000</td>\n",
       "      <td>2</td>\n",
       "    </tr>\n",
       "    <tr>\n",
       "      <th>1989</th>\n",
       "      <td>15000</td>\n",
       "      <td>1</td>\n",
       "    </tr>\n",
       "    <tr>\n",
       "      <th>1990</th>\n",
       "      <td>1000000</td>\n",
       "      <td>1</td>\n",
       "    </tr>\n",
       "    <tr>\n",
       "      <th>1992</th>\n",
       "      <td>2000000</td>\n",
       "      <td>1</td>\n",
       "    </tr>\n",
       "    <tr>\n",
       "      <th>1993</th>\n",
       "      <td>62500</td>\n",
       "      <td>2</td>\n",
       "    </tr>\n",
       "    <tr>\n",
       "      <th>1994</th>\n",
       "      <td>6700000</td>\n",
       "      <td>2</td>\n",
       "    </tr>\n",
       "    <tr>\n",
       "      <th>1995</th>\n",
       "      <td>2000000</td>\n",
       "      <td>7</td>\n",
       "    </tr>\n",
       "    <tr>\n",
       "      <th>1996</th>\n",
       "      <td>12500</td>\n",
       "      <td>7</td>\n",
       "    </tr>\n",
       "    <tr>\n",
       "      <th>1997</th>\n",
       "      <td>3300000</td>\n",
       "      <td>9</td>\n",
       "    </tr>\n",
       "    <tr>\n",
       "      <th>1998</th>\n",
       "      <td>100000</td>\n",
       "      <td>29</td>\n",
       "    </tr>\n",
       "    <tr>\n",
       "      <th>1999</th>\n",
       "      <td>2000000</td>\n",
       "      <td>76</td>\n",
       "    </tr>\n",
       "    <tr>\n",
       "      <th>2000</th>\n",
       "      <td>4200000</td>\n",
       "      <td>125</td>\n",
       "    </tr>\n",
       "    <tr>\n",
       "      <th>2001</th>\n",
       "      <td>3000000</td>\n",
       "      <td>96</td>\n",
       "    </tr>\n",
       "    <tr>\n",
       "      <th>2002</th>\n",
       "      <td>4200000</td>\n",
       "      <td>116</td>\n",
       "    </tr>\n",
       "    <tr>\n",
       "      <th>2003</th>\n",
       "      <td>3000000</td>\n",
       "      <td>159</td>\n",
       "    </tr>\n",
       "    <tr>\n",
       "      <th>2004</th>\n",
       "      <td>5000000</td>\n",
       "      <td>291</td>\n",
       "    </tr>\n",
       "    <tr>\n",
       "      <th>2005</th>\n",
       "      <td>5500000</td>\n",
       "      <td>1633</td>\n",
       "    </tr>\n",
       "    <tr>\n",
       "      <th>2006</th>\n",
       "      <td>5000000</td>\n",
       "      <td>2436</td>\n",
       "    </tr>\n",
       "    <tr>\n",
       "      <th>2007</th>\n",
       "      <td>3973320</td>\n",
       "      <td>3279</td>\n",
       "    </tr>\n",
       "    <tr>\n",
       "      <th>2008</th>\n",
       "      <td>3110000</td>\n",
       "      <td>3774</td>\n",
       "    </tr>\n",
       "    <tr>\n",
       "      <th>2009</th>\n",
       "      <td>2000000</td>\n",
       "      <td>4151</td>\n",
       "    </tr>\n",
       "    <tr>\n",
       "      <th>2010</th>\n",
       "      <td>1602500</td>\n",
       "      <td>6221</td>\n",
       "    </tr>\n",
       "    <tr>\n",
       "      <th>2011</th>\n",
       "      <td>1200000</td>\n",
       "      <td>9204</td>\n",
       "    </tr>\n",
       "    <tr>\n",
       "      <th>2012</th>\n",
       "      <td>1000000</td>\n",
       "      <td>9970</td>\n",
       "    </tr>\n",
       "    <tr>\n",
       "      <th>2013</th>\n",
       "      <td>1200000</td>\n",
       "      <td>11072</td>\n",
       "    </tr>\n",
       "  </tbody>\n",
       "</table>\n",
       "</div>"
      ],
      "text/plain": [
       "                   median         count\n",
       "            raised_amount raised_amount\n",
       "year_funded                            \n",
       "1960                    0             9\n",
       "1973                    0             1\n",
       "1974                    0             2\n",
       "1984                41000             3\n",
       "1985                    0             1\n",
       "1987              1250000             2\n",
       "1989                15000             1\n",
       "1990              1000000             1\n",
       "1992              2000000             1\n",
       "1993                62500             2\n",
       "1994              6700000             2\n",
       "1995              2000000             7\n",
       "1996                12500             7\n",
       "1997              3300000             9\n",
       "1998               100000            29\n",
       "1999              2000000            76\n",
       "2000              4200000           125\n",
       "2001              3000000            96\n",
       "2002              4200000           116\n",
       "2003              3000000           159\n",
       "2004              5000000           291\n",
       "2005              5500000          1633\n",
       "2006              5000000          2436\n",
       "2007              3973320          3279\n",
       "2008              3110000          3774\n",
       "2009              2000000          4151\n",
       "2010              1602500          6221\n",
       "2011              1200000          9204\n",
       "2012              1000000          9970\n",
       "2013              1200000         11072"
      ]
     },
     "metadata": {},
     "output_type": "display_data"
    }
   ],
   "source": [
    "# Изначально построим сводную таблицу по всем данным\n",
    "\n",
    "# Для этого потребуется создать поле с информацией о годе\n",
    "company_and_rounds['year_funded'] =  pd.to_numeric(company_and_rounds['funded_at'].dt.year)\n",
    "\n",
    "pivot_table = pd.pivot_table(company_and_rounds, index = 'year_funded', \n",
    "                            values = 'raised_amount',\n",
    "                            aggfunc = ['median','count'],\n",
    "                            fill_value = 0)\n",
    "pivot_table.index = pd.to_numeric(pivot_table.index, downcast = 'integer')\n",
    "display(pivot_table)"
   ]
  },
  {
   "cell_type": "markdown",
   "metadata": {},
   "source": [
    "Полученная сводная таблица демонстирует информацию о годах с 1960 по 2013 год (есть пропуски). Поле median raised_amount демострирует медианные финансирования в указанном году, поле median raised_amount количество найденных записей. Опираясь на содержимое данных и их количество создание сводной таблицы с информацией о типичных значениях и количество возможно. К сожалению в сводной таблице не отображена часть данных, в которой не удалось установить год по причине отсутствия значениц в поле, однако их количество не велико по сравнению с общим объемом данных о финансировании.\n",
    "\n",
    "Суммарно мы получили записи по 30 годам, теперь перейдем к следующему словию, отобрать года, в которых значение количество финансовых раундов было больше 50."
   ]
  },
  {
   "cell_type": "code",
   "execution_count": 194,
   "metadata": {},
   "outputs": [
    {
     "data": {
      "text/html": [
       "<div>\n",
       "<style scoped>\n",
       "    .dataframe tbody tr th:only-of-type {\n",
       "        vertical-align: middle;\n",
       "    }\n",
       "\n",
       "    .dataframe tbody tr th {\n",
       "        vertical-align: top;\n",
       "    }\n",
       "\n",
       "    .dataframe thead tr th {\n",
       "        text-align: left;\n",
       "    }\n",
       "\n",
       "    .dataframe thead tr:last-of-type th {\n",
       "        text-align: right;\n",
       "    }\n",
       "</style>\n",
       "<table border=\"1\" class=\"dataframe\">\n",
       "  <thead>\n",
       "    <tr>\n",
       "      <th></th>\n",
       "      <th>median</th>\n",
       "      <th>count</th>\n",
       "    </tr>\n",
       "    <tr>\n",
       "      <th></th>\n",
       "      <th>raised_amount</th>\n",
       "      <th>raised_amount</th>\n",
       "    </tr>\n",
       "    <tr>\n",
       "      <th>year_funded</th>\n",
       "      <th></th>\n",
       "      <th></th>\n",
       "    </tr>\n",
       "  </thead>\n",
       "  <tbody>\n",
       "    <tr>\n",
       "      <th>1999</th>\n",
       "      <td>2000000</td>\n",
       "      <td>76</td>\n",
       "    </tr>\n",
       "    <tr>\n",
       "      <th>2000</th>\n",
       "      <td>4200000</td>\n",
       "      <td>125</td>\n",
       "    </tr>\n",
       "    <tr>\n",
       "      <th>2001</th>\n",
       "      <td>3000000</td>\n",
       "      <td>96</td>\n",
       "    </tr>\n",
       "    <tr>\n",
       "      <th>2002</th>\n",
       "      <td>4200000</td>\n",
       "      <td>116</td>\n",
       "    </tr>\n",
       "    <tr>\n",
       "      <th>2003</th>\n",
       "      <td>3000000</td>\n",
       "      <td>159</td>\n",
       "    </tr>\n",
       "    <tr>\n",
       "      <th>2004</th>\n",
       "      <td>5000000</td>\n",
       "      <td>291</td>\n",
       "    </tr>\n",
       "    <tr>\n",
       "      <th>2005</th>\n",
       "      <td>5500000</td>\n",
       "      <td>1633</td>\n",
       "    </tr>\n",
       "    <tr>\n",
       "      <th>2006</th>\n",
       "      <td>5000000</td>\n",
       "      <td>2436</td>\n",
       "    </tr>\n",
       "    <tr>\n",
       "      <th>2007</th>\n",
       "      <td>3973320</td>\n",
       "      <td>3279</td>\n",
       "    </tr>\n",
       "    <tr>\n",
       "      <th>2008</th>\n",
       "      <td>3110000</td>\n",
       "      <td>3774</td>\n",
       "    </tr>\n",
       "    <tr>\n",
       "      <th>2009</th>\n",
       "      <td>2000000</td>\n",
       "      <td>4151</td>\n",
       "    </tr>\n",
       "    <tr>\n",
       "      <th>2010</th>\n",
       "      <td>1602500</td>\n",
       "      <td>6221</td>\n",
       "    </tr>\n",
       "    <tr>\n",
       "      <th>2011</th>\n",
       "      <td>1200000</td>\n",
       "      <td>9204</td>\n",
       "    </tr>\n",
       "    <tr>\n",
       "      <th>2012</th>\n",
       "      <td>1000000</td>\n",
       "      <td>9970</td>\n",
       "    </tr>\n",
       "    <tr>\n",
       "      <th>2013</th>\n",
       "      <td>1200000</td>\n",
       "      <td>11072</td>\n",
       "    </tr>\n",
       "  </tbody>\n",
       "</table>\n",
       "</div>"
      ],
      "text/plain": [
       "                   median         count\n",
       "            raised_amount raised_amount\n",
       "year_funded                            \n",
       "1999              2000000            76\n",
       "2000              4200000           125\n",
       "2001              3000000            96\n",
       "2002              4200000           116\n",
       "2003              3000000           159\n",
       "2004              5000000           291\n",
       "2005              5500000          1633\n",
       "2006              5000000          2436\n",
       "2007              3973320          3279\n",
       "2008              3110000          3774\n",
       "2009              2000000          4151\n",
       "2010              1602500          6221\n",
       "2011              1200000          9204\n",
       "2012              1000000          9970\n",
       "2013              1200000         11072"
      ]
     },
     "execution_count": 194,
     "metadata": {},
     "output_type": "execute_result"
    }
   ],
   "source": [
    "pivot_table = pivot_table[pivot_table.iloc[:, 1]>50]\n",
    "pivot_table"
   ]
  },
  {
   "cell_type": "markdown",
   "metadata": {},
   "source": [
    "В полученной сводной таблице (датафрейме) остались лишь данные о годах, в которых зафиксировано более 50 раундов финансирования. Теперь построим график."
   ]
  },
  {
   "cell_type": "code",
   "execution_count": 195,
   "metadata": {},
   "outputs": [
    {
     "data": {
      "image/png": "[encoded data removed]",
      "text/plain": [
       "<Figure size 720x576 with 1 Axes>"
      ]
     },
     "metadata": {
      "needs_background": "light"
     },
     "output_type": "display_data"
    }
   ],
   "source": [
    "plt.figure(figsize = (10,8))\n",
    "pivot_table.iloc[:,0].plot(kind = 'bar', rot = 0, color = 'lightblue', xlabel = 'Годы',\n",
    "                          ylabel = 'Объем финансирования, e6',\n",
    "                          title = 'Объем финансирования в рамках одного раунда по годам')\n",
    "plt.grid(axis = 'y')\n",
    "plt.show()\n"
   ]
  },
  {
   "cell_type": "code",
   "execution_count": 196,
   "metadata": {
    "id": "HB81GTA9n04M"
   },
   "outputs": [
    {
     "data": {
      "image/png": "[encoded data removed]",
      "text/plain": [
       "<Figure size 720x576 with 1 Axes>"
      ]
     },
     "metadata": {
      "needs_background": "light"
     },
     "output_type": "display_data"
    }
   ],
   "source": [
    "plt.figure(figsize = (10,8))\n",
    "pivot_table.iloc[:,1].plot(kind = 'bar', rot = 0, color = 'lightblue', xlabel = 'Годы',\n",
    "                          ylabel = 'Количество раундов финансирования',\n",
    "                          title = 'Количество раунов финансирования по годам')\n",
    "plt.grid(axis = 'y')\n",
    "plt.show()\n"
   ]
  },
  {
   "cell_type": "markdown",
   "metadata": {},
   "source": [
    "**P.S. Не знаю как объединить их на одном графике, пробовал разные способы но не выходит. Спасите!!!**"
   ]
  },
  {
   "cell_type": "code",
   "execution_count": 197,
   "metadata": {},
   "outputs": [
    {
     "data": {
      "image/png": "[encoded data removed]",
      "text/plain": [
       "<Figure size 720x576 with 2 Axes>"
      ]
     },
     "metadata": {},
     "output_type": "display_data"
    }
   ],
   "source": [
    "# Код ревьюера\n",
    "\n",
    "# Создаю фигуру и две оси каждая из которых будет отвечать за свой график из-за очень разного размера величины\n",
    "fig, ax1 = plt.subplots(figsize=(10, 8))\n",
    "\n",
    "#  Объем финансирования\n",
    "ax1.plot(pivot_table.index, pivot_table.iloc[:, 0], marker='o', color='red', label='Объем финансирования')\n",
    "ax1.set_xlabel('Годы')\n",
    "ax1.set_ylabel('Объем финансирования', color='red')\n",
    "ax1.tick_params(axis='y', labelcolor='red')\n",
    "\n",
    "# Количество раундов финансирования\n",
    "ax2 = ax1.twinx()  \n",
    "ax2.plot(pivot_table.index, pivot_table.iloc[:, 1], marker='o', color='orange', label='Количество раундов финансирования')\n",
    "ax2.set_ylabel('Количество раундов финансирования', color='orange')\n",
    "ax2.tick_params(axis='y', labelcolor='orange')\n",
    "\n",
    "# Приятные визуальные бонусы\n",
    "ax1.legend(loc='upper left')\n",
    "ax2.legend(loc='upper right')\n",
    "plt.tight_layout()\n",
    "plt.show()\n"
   ]
  },
  {
   "cell_type": "markdown",
   "metadata": {},
   "source": [
    "На основе полученной сводной таблицы были созданы графики, демонстрирущие типичное количество средств в рамках одного финансирования и количество финансирований в разрезе по годам.\n",
    "\n",
    "Теперь ответим на вопросы заказчика:\n",
    "- В каком году типичный размер собранных в рамках одного раунда средств был максимален? Типичный размер собранных средств в рамках одного раунда финансирования продемонстрировал максимальные значения в 2005 году и составил 5.5 млн.\n",
    "\n",
    "- Какая тенденция по количеству раундов и выделяемых в рамках каждого раунда средств наблюдалась в 2013 году? Начиная с 2003 года тенденция на количество раундов финансирования врмках одного года увеличивалась, в 2013 году количество раундов составило 11072, что превышает значение предыдущего года на 1202 (почти 12% по отношению к предыдущему году). В вопросе тенденции на размер финансирования в рамках одного ранда можно заметить спад, котрый начался с 2005 года. Вероятнее всего эти два значения связаны между собой, однако стоит обратить внимание, что при увеличении раундов финансирования 2013 году по сравнению с 2012, объем финансирования также увеличился на 200 тыс. соотвественно. Это также может быть связано с появлением новых источников финансирования.\n"
   ]
  },
  {
   "cell_type": "markdown",
   "metadata": {
    "id": "45if1en1rJg2"
   },
   "source": [
    "\n",
    "### 2.2. Люди и их образование\n",
    "\n",
    "Заказчик хочет понять, зависит ли полнота сведений о сотрудниках (например, об их образовании) от размера компаний.\n",
    "\n",
    "* Оцените, насколько информация об образовании сотрудников полна. Используя датасеты `people.csv` и `education.csv`, разделите все компании на несколько групп по количеству сотрудников и оцените среднюю долю сотрудников без информации об образовании в каждой из групп. Обоснуйте выбранные границы групп.\n",
    "\n",
    "* Оцените, возможно ли для выполнения задания присоединить к этим таблицам ещё и таблицу `degrees.csv`."
   ]
  },
  {
   "cell_type": "code",
   "execution_count": 198,
   "metadata": {
    "id": "psPO7C4MrJg2"
   },
   "outputs": [],
   "source": [
    "# Для начала объединим датасеты people и education\n",
    "people_education = pd.merge(people, education, left_on = 'id', right_on = 'person_id', how = 'left',\n",
    "                           suffixes = ('_people','_education'))"
   ]
  },
  {
   "cell_type": "code",
   "execution_count": 199,
   "metadata": {
    "scrolled": true
   },
   "outputs": [
    {
     "name": "stdout",
     "output_type": "stream",
     "text": [
      "<class 'pandas.core.frame.DataFrame'>\n",
      "Int64Index: 267694 entries, 0 to 267693\n",
      "Data columns (total 9 columns):\n",
      " #   Column            Non-Null Count   Dtype         \n",
      "---  ------            --------------   -----         \n",
      " 0   id_people         267694 non-null  int64         \n",
      " 1   first_name        267689 non-null  object        \n",
      " 2   last_name         267693 non-null  object        \n",
      " 3   company_id        44789 non-null   float64       \n",
      " 4   network_username  50775 non-null   object        \n",
      " 5   id_education      109056 non-null  float64       \n",
      " 6   person_id         109056 non-null  float64       \n",
      " 7   instituition      109002 non-null  object        \n",
      " 8   graduated_at      57691 non-null   datetime64[ns]\n",
      "dtypes: datetime64[ns](1), float64(3), int64(1), object(4)\n",
      "memory usage: 20.4+ MB\n"
     ]
    }
   ],
   "source": [
    "# Оценим объем полученного датафрейма\n",
    "\n",
    "people_education.info()"
   ]
  },
  {
   "cell_type": "markdown",
   "metadata": {},
   "source": [
    "В ходе создания объединенного датафрейм возник дубликаты в данных так как есть сотрудники, у которых несколько записей об образовании."
   ]
  },
  {
   "cell_type": "code",
   "execution_count": 200,
   "metadata": {},
   "outputs": [],
   "source": [
    "# Удалим дубликаты по полю id_people\n",
    "people_education.drop_duplicates(subset = 'id_people', keep='first', inplace = True)"
   ]
  },
  {
   "cell_type": "code",
   "execution_count": 201,
   "metadata": {},
   "outputs": [
    {
     "data": {
      "text/plain": [
       "company_id\n",
       "1.0          2\n",
       "2.0          1\n",
       "3.0          3\n",
       "4.0         13\n",
       "5.0         61\n",
       "            ..\n",
       "285897.0     2\n",
       "285953.0     1\n",
       "285972.0     2\n",
       "285996.0     1\n",
       "286091.0     6\n",
       "Name: id_people, Length: 22921, dtype: int64"
      ]
     },
     "metadata": {},
     "output_type": "display_data"
    }
   ],
   "source": [
    "pe = people_education.groupby('company_id')['id_people'].count()\n",
    "display(pe)"
   ]
  },
  {
   "cell_type": "code",
   "execution_count": 202,
   "metadata": {},
   "outputs": [
    {
     "data": {
      "text/plain": [
       "244"
      ]
     },
     "execution_count": 202,
     "metadata": {},
     "output_type": "execute_result"
    }
   ],
   "source": [
    "pe.max()"
   ]
  },
  {
   "cell_type": "code",
   "execution_count": 203,
   "metadata": {
    "scrolled": true
   },
   "outputs": [
    {
     "data": {
      "text/plain": [
       "1"
      ]
     },
     "execution_count": 203,
     "metadata": {},
     "output_type": "execute_result"
    }
   ],
   "source": [
    "pe.min()"
   ]
  },
  {
   "cell_type": "code",
   "execution_count": 204,
   "metadata": {},
   "outputs": [
    {
     "data": {
      "text/plain": [
       "count    22921.000000\n",
       "mean         1.510144\n",
       "std          2.764379\n",
       "min          1.000000\n",
       "25%          1.000000\n",
       "50%          1.000000\n",
       "75%          1.000000\n",
       "max        244.000000\n",
       "Name: id_people, dtype: float64"
      ]
     },
     "execution_count": 204,
     "metadata": {},
     "output_type": "execute_result"
    }
   ],
   "source": [
    "# Учтем статистические показатели\n",
    "pe.describe()"
   ]
  },
  {
   "cell_type": "markdown",
   "metadata": {
    "id": "xdQ6H5ZSn1ZM"
   },
   "source": [
    "В полученный список вошла информации о 22921 компаниях. Максимальное количество сотрудников в компании составляет 244 человек, а минимальное - 1.\n",
    "\n",
    "В экономике принято разделять предприятия, в зависимости от количества сотрудников, на 4 группы:\n",
    "- микропредприятия;\n",
    "- малые предприятия;\n",
    "- средние предприятия;\n",
    "- крупные предприятия.\n",
    "\n",
    "Каждая из групп имеет свои границы, например от 1 до 15 в микропредприятиях и свыше 500 в крупных. Учитывая, что в данном случае рассматриваются стартапы, а также размах и статистчиеские показатели процентилей, изменим эти границы, однако группы оставим такими же. \n",
    "\n",
    "Список групп компаний по количеству сотрудников (учитывая правые границы диапозонов):\n",
    "- микростартапы - от 0 до 1 человек;\n",
    "- малые стартапы  - от 1 до 10;\n",
    "- средние стартапы - от 10 до 30;\n",
    "- крупные стартапы - свыше 30.\n",
    "\n",
    "Границы групп определены исходя из значений процентилей (25-процентиль и 75 процентиль), а также максимального значения. При выводе информации также заметно, что встречаются значения попадюущие в каждый из заявленных промежутков."
   ]
  },
  {
   "cell_type": "markdown",
   "metadata": {},
   "source": [
    "Для удобства работы с данными об образовании добавим поле, которое будет хранить значение-индикатор (о - образования нет, 1 - образование есть), заполнение произведем на основе наличия данных в стобце `instituition` и `graduated_at`. В данном случае мы отбросим только тех сотрудников, у которых нет данных об образовании. "
   ]
  },
  {
   "cell_type": "code",
   "execution_count": 205,
   "metadata": {},
   "outputs": [],
   "source": [
    "def education_isna(row):\n",
    "    if pd.isna(row.instituition) & pd.isna(row.graduated_at):\n",
    "        return 0\n",
    "    else:\n",
    "        return 1\n",
    "\n",
    "people_education['education'] = people_education.apply(education_isna, axis = 1)"
   ]
  },
  {
   "cell_type": "code",
   "execution_count": 206,
   "metadata": {},
   "outputs": [
    {
     "name": "stdout",
     "output_type": "stream",
     "text": [
      "<class 'pandas.core.frame.DataFrame'>\n",
      "Int64Index: 226708 entries, 0 to 267693\n",
      "Data columns (total 10 columns):\n",
      " #   Column            Non-Null Count   Dtype         \n",
      "---  ------            --------------   -----         \n",
      " 0   id_people         226708 non-null  int64         \n",
      " 1   first_name        226703 non-null  object        \n",
      " 2   last_name         226707 non-null  object        \n",
      " 3   company_id        34614 non-null   float64       \n",
      " 4   network_username  38867 non-null   object        \n",
      " 5   id_education      68071 non-null   float64       \n",
      " 6   person_id         68071 non-null   float64       \n",
      " 7   instituition      68031 non-null   object        \n",
      " 8   graduated_at      36387 non-null   datetime64[ns]\n",
      " 9   education         226708 non-null  int64         \n",
      "dtypes: datetime64[ns](1), float64(3), int64(2), object(4)\n",
      "memory usage: 19.0+ MB\n"
     ]
    }
   ],
   "source": [
    "people_education.info()"
   ]
  },
  {
   "cell_type": "markdown",
   "metadata": {},
   "source": [
    "Данные были заполнены значениями 0 и 1, поэтому пропусков по столбцу не возникло."
   ]
  },
  {
   "cell_type": "markdown",
   "metadata": {},
   "source": [
    "Создадим сводную таблицу, в которую включим информацию о идентификатор компании, количество сотрудников и среднее значение по полю `education`."
   ]
  },
  {
   "cell_type": "code",
   "execution_count": 207,
   "metadata": {},
   "outputs": [
    {
     "data": {
      "text/html": [
       "<div>\n",
       "<style scoped>\n",
       "    .dataframe tbody tr th:only-of-type {\n",
       "        vertical-align: middle;\n",
       "    }\n",
       "\n",
       "    .dataframe tbody tr th {\n",
       "        vertical-align: top;\n",
       "    }\n",
       "\n",
       "    .dataframe thead th {\n",
       "        text-align: right;\n",
       "    }\n",
       "</style>\n",
       "<table border=\"1\" class=\"dataframe\">\n",
       "  <thead>\n",
       "    <tr style=\"text-align: right;\">\n",
       "      <th></th>\n",
       "      <th>company_id</th>\n",
       "      <th>id_people</th>\n",
       "      <th>education</th>\n",
       "    </tr>\n",
       "  </thead>\n",
       "  <tbody>\n",
       "    <tr>\n",
       "      <th>0</th>\n",
       "      <td>1.0</td>\n",
       "      <td>2</td>\n",
       "      <td>0.500000</td>\n",
       "    </tr>\n",
       "    <tr>\n",
       "      <th>1</th>\n",
       "      <td>2.0</td>\n",
       "      <td>1</td>\n",
       "      <td>1.000000</td>\n",
       "    </tr>\n",
       "    <tr>\n",
       "      <th>2</th>\n",
       "      <td>3.0</td>\n",
       "      <td>3</td>\n",
       "      <td>0.666667</td>\n",
       "    </tr>\n",
       "    <tr>\n",
       "      <th>3</th>\n",
       "      <td>4.0</td>\n",
       "      <td>13</td>\n",
       "      <td>0.923077</td>\n",
       "    </tr>\n",
       "    <tr>\n",
       "      <th>4</th>\n",
       "      <td>5.0</td>\n",
       "      <td>61</td>\n",
       "      <td>0.737705</td>\n",
       "    </tr>\n",
       "    <tr>\n",
       "      <th>...</th>\n",
       "      <td>...</td>\n",
       "      <td>...</td>\n",
       "      <td>...</td>\n",
       "    </tr>\n",
       "    <tr>\n",
       "      <th>22916</th>\n",
       "      <td>285897.0</td>\n",
       "      <td>2</td>\n",
       "      <td>1.000000</td>\n",
       "    </tr>\n",
       "    <tr>\n",
       "      <th>22917</th>\n",
       "      <td>285953.0</td>\n",
       "      <td>1</td>\n",
       "      <td>0.000000</td>\n",
       "    </tr>\n",
       "    <tr>\n",
       "      <th>22918</th>\n",
       "      <td>285972.0</td>\n",
       "      <td>2</td>\n",
       "      <td>0.500000</td>\n",
       "    </tr>\n",
       "    <tr>\n",
       "      <th>22919</th>\n",
       "      <td>285996.0</td>\n",
       "      <td>1</td>\n",
       "      <td>1.000000</td>\n",
       "    </tr>\n",
       "    <tr>\n",
       "      <th>22920</th>\n",
       "      <td>286091.0</td>\n",
       "      <td>6</td>\n",
       "      <td>0.666667</td>\n",
       "    </tr>\n",
       "  </tbody>\n",
       "</table>\n",
       "<p>22921 rows × 3 columns</p>\n",
       "</div>"
      ],
      "text/plain": [
       "       company_id  id_people  education\n",
       "0             1.0          2   0.500000\n",
       "1             2.0          1   1.000000\n",
       "2             3.0          3   0.666667\n",
       "3             4.0         13   0.923077\n",
       "4             5.0         61   0.737705\n",
       "...           ...        ...        ...\n",
       "22916    285897.0          2   1.000000\n",
       "22917    285953.0          1   0.000000\n",
       "22918    285972.0          2   0.500000\n",
       "22919    285996.0          1   1.000000\n",
       "22920    286091.0          6   0.666667\n",
       "\n",
       "[22921 rows x 3 columns]"
      ]
     },
     "metadata": {},
     "output_type": "display_data"
    }
   ],
   "source": [
    "pe_table = people_education.groupby('company_id').agg({'id_people' : 'count',\n",
    "                                                              'education' : 'mean'}).reset_index()\n",
    "display(pe_table)"
   ]
  },
  {
   "cell_type": "markdown",
   "metadata": {},
   "source": [
    "Теперь добавим категорию компании."
   ]
  },
  {
   "cell_type": "code",
   "execution_count": 208,
   "metadata": {},
   "outputs": [
    {
     "data": {
      "text/html": [
       "<div>\n",
       "<style scoped>\n",
       "    .dataframe tbody tr th:only-of-type {\n",
       "        vertical-align: middle;\n",
       "    }\n",
       "\n",
       "    .dataframe tbody tr th {\n",
       "        vertical-align: top;\n",
       "    }\n",
       "\n",
       "    .dataframe thead th {\n",
       "        text-align: right;\n",
       "    }\n",
       "</style>\n",
       "<table border=\"1\" class=\"dataframe\">\n",
       "  <thead>\n",
       "    <tr style=\"text-align: right;\">\n",
       "      <th></th>\n",
       "      <th>company_id</th>\n",
       "      <th>id_people</th>\n",
       "      <th>education</th>\n",
       "      <th>category</th>\n",
       "    </tr>\n",
       "  </thead>\n",
       "  <tbody>\n",
       "    <tr>\n",
       "      <th>0</th>\n",
       "      <td>1.0</td>\n",
       "      <td>2</td>\n",
       "      <td>0.500000</td>\n",
       "      <td>Малый стартап</td>\n",
       "    </tr>\n",
       "    <tr>\n",
       "      <th>1</th>\n",
       "      <td>2.0</td>\n",
       "      <td>1</td>\n",
       "      <td>1.000000</td>\n",
       "      <td>Микростартап</td>\n",
       "    </tr>\n",
       "    <tr>\n",
       "      <th>2</th>\n",
       "      <td>3.0</td>\n",
       "      <td>3</td>\n",
       "      <td>0.666667</td>\n",
       "      <td>Малый стартап</td>\n",
       "    </tr>\n",
       "    <tr>\n",
       "      <th>3</th>\n",
       "      <td>4.0</td>\n",
       "      <td>13</td>\n",
       "      <td>0.923077</td>\n",
       "      <td>Средний стартап</td>\n",
       "    </tr>\n",
       "    <tr>\n",
       "      <th>4</th>\n",
       "      <td>5.0</td>\n",
       "      <td>61</td>\n",
       "      <td>0.737705</td>\n",
       "      <td>Крупный стартап</td>\n",
       "    </tr>\n",
       "    <tr>\n",
       "      <th>...</th>\n",
       "      <td>...</td>\n",
       "      <td>...</td>\n",
       "      <td>...</td>\n",
       "      <td>...</td>\n",
       "    </tr>\n",
       "    <tr>\n",
       "      <th>22916</th>\n",
       "      <td>285897.0</td>\n",
       "      <td>2</td>\n",
       "      <td>1.000000</td>\n",
       "      <td>Малый стартап</td>\n",
       "    </tr>\n",
       "    <tr>\n",
       "      <th>22917</th>\n",
       "      <td>285953.0</td>\n",
       "      <td>1</td>\n",
       "      <td>0.000000</td>\n",
       "      <td>Микростартап</td>\n",
       "    </tr>\n",
       "    <tr>\n",
       "      <th>22918</th>\n",
       "      <td>285972.0</td>\n",
       "      <td>2</td>\n",
       "      <td>0.500000</td>\n",
       "      <td>Малый стартап</td>\n",
       "    </tr>\n",
       "    <tr>\n",
       "      <th>22919</th>\n",
       "      <td>285996.0</td>\n",
       "      <td>1</td>\n",
       "      <td>1.000000</td>\n",
       "      <td>Микростартап</td>\n",
       "    </tr>\n",
       "    <tr>\n",
       "      <th>22920</th>\n",
       "      <td>286091.0</td>\n",
       "      <td>6</td>\n",
       "      <td>0.666667</td>\n",
       "      <td>Малый стартап</td>\n",
       "    </tr>\n",
       "  </tbody>\n",
       "</table>\n",
       "<p>22921 rows × 4 columns</p>\n",
       "</div>"
      ],
      "text/plain": [
       "       company_id  id_people  education         category\n",
       "0             1.0          2   0.500000    Малый стартап\n",
       "1             2.0          1   1.000000     Микростартап\n",
       "2             3.0          3   0.666667    Малый стартап\n",
       "3             4.0         13   0.923077  Средний стартап\n",
       "4             5.0         61   0.737705  Крупный стартап\n",
       "...           ...        ...        ...              ...\n",
       "22916    285897.0          2   1.000000    Малый стартап\n",
       "22917    285953.0          1   0.000000     Микростартап\n",
       "22918    285972.0          2   0.500000    Малый стартап\n",
       "22919    285996.0          1   1.000000     Микростартап\n",
       "22920    286091.0          6   0.666667    Малый стартап\n",
       "\n",
       "[22921 rows x 4 columns]"
      ]
     },
     "metadata": {},
     "output_type": "display_data"
    }
   ],
   "source": [
    "def company_category(row):\n",
    "    if 0 < row['id_people'] <= 1:\n",
    "        return 'Микростартап'\n",
    "    elif 1 < row['id_people'] <= 10:\n",
    "        return 'Малый стартап'\n",
    "    elif 10 < row['id_people'] <= 30:\n",
    "        return 'Средний стартап'\n",
    "    else:\n",
    "        return 'Крупный стартап'\n",
    "\n",
    "pe_table['category'] = pe_table.apply(company_category, axis = 1)\n",
    "display(pe_table)"
   ]
  },
  {
   "cell_type": "code",
   "execution_count": 209,
   "metadata": {},
   "outputs": [
    {
     "data": {
      "text/html": [
       "<div>\n",
       "<style scoped>\n",
       "    .dataframe tbody tr th:only-of-type {\n",
       "        vertical-align: middle;\n",
       "    }\n",
       "\n",
       "    .dataframe tbody tr th {\n",
       "        vertical-align: top;\n",
       "    }\n",
       "\n",
       "    .dataframe thead th {\n",
       "        text-align: right;\n",
       "    }\n",
       "</style>\n",
       "<table border=\"1\" class=\"dataframe\">\n",
       "  <thead>\n",
       "    <tr style=\"text-align: right;\">\n",
       "      <th></th>\n",
       "      <th>category</th>\n",
       "      <th>education</th>\n",
       "      <th>not_education</th>\n",
       "    </tr>\n",
       "  </thead>\n",
       "  <tbody>\n",
       "    <tr>\n",
       "      <th>0</th>\n",
       "      <td>Крупный стартап</td>\n",
       "      <td>0.759946</td>\n",
       "      <td>0.240054</td>\n",
       "    </tr>\n",
       "    <tr>\n",
       "      <th>1</th>\n",
       "      <td>Малый стартап</td>\n",
       "      <td>0.519951</td>\n",
       "      <td>0.480049</td>\n",
       "    </tr>\n",
       "    <tr>\n",
       "      <th>2</th>\n",
       "      <td>Микростартап</td>\n",
       "      <td>0.537370</td>\n",
       "      <td>0.462630</td>\n",
       "    </tr>\n",
       "    <tr>\n",
       "      <th>3</th>\n",
       "      <td>Средний стартап</td>\n",
       "      <td>0.541765</td>\n",
       "      <td>0.458235</td>\n",
       "    </tr>\n",
       "  </tbody>\n",
       "</table>\n",
       "</div>"
      ],
      "text/plain": [
       "          category  education  not_education\n",
       "0  Крупный стартап   0.759946       0.240054\n",
       "1    Малый стартап   0.519951       0.480049\n",
       "2     Микростартап   0.537370       0.462630\n",
       "3  Средний стартап   0.541765       0.458235"
      ]
     },
     "execution_count": 209,
     "metadata": {},
     "output_type": "execute_result"
    }
   ],
   "source": [
    "pe_table_plot = pe_table.groupby('category')['education'].mean().reset_index()\n",
    "pe_table_plot['not_education'] = 1 - pe_table_plot['education']\n",
    "pe_table_plot"
   ]
  },
  {
   "cell_type": "code",
   "execution_count": 210,
   "metadata": {},
   "outputs": [
    {
     "data": {
      "text/plain": [
       "<Figure size 720x432 with 0 Axes>"
      ]
     },
     "metadata": {},
     "output_type": "display_data"
    },
    {
     "data": {
      "image/png": "[encoded data removed]",
      "text/plain": [
       "<Figure size 432x288 with 1 Axes>"
      ]
     },
     "metadata": {
      "needs_background": "light"
     },
     "output_type": "display_data"
    }
   ],
   "source": [
    "plt.figure(figsize = (10,6))\n",
    "pe_table_plot.plot(kind = 'barh', x = 'category', stacked = True, title = 'Отношение доли сотрудников с образованием к сотрудника без образования',\n",
    "                  xlabel = 'Категория')\n",
    "plt.grid(axis = 'x')\n",
    "plt.legend(loc=\"upper left\", bbox_to_anchor=(1,1))\n",
    "plt.show()"
   ]
  },
  {
   "cell_type": "markdown",
   "metadata": {},
   "source": [
    "На основе полученных данных и визуализации заметно, что самая большая доля сотрудников без образования находится в компания категории \"Малый стартап\". На втром месте микростартапы. Больше всего доля сотрудников с указанным образованием представлят закреплены к компаниях из категории \"Крупный стартап\"."
   ]
  },
  {
   "cell_type": "markdown",
   "metadata": {},
   "source": [
    "К отработанным выше датасетом, также можно добавить датасет `degrees`. Ранее датасет уже был подвержен небольшой преобработки связанный с заменой значений и преобразованием типа данных по столбцу идентификатора пользователя. Учитывая, что данные датасета также относятся к ообразованию, то также можем проанализировать данные уже с тремя датасетами."
   ]
  },
  {
   "cell_type": "code",
   "execution_count": 211,
   "metadata": {},
   "outputs": [
    {
     "name": "stdout",
     "output_type": "stream",
     "text": [
      "<class 'pandas.core.frame.DataFrame'>\n",
      "Int64Index: 267693 entries, 0 to 267692\n",
      "Data columns (total 14 columns):\n",
      " #   Column            Non-Null Count   Dtype         \n",
      "---  ------            --------------   -----         \n",
      " 0   id_people         267693 non-null  int64         \n",
      " 1   first_name        267688 non-null  object        \n",
      " 2   last_name         267692 non-null  object        \n",
      " 3   company_id        44788 non-null   float64       \n",
      " 4   network_username  50775 non-null   object        \n",
      " 5   id_education      109056 non-null  float64       \n",
      " 6   person_id         109056 non-null  float64       \n",
      " 7   instituition      109006 non-null  object        \n",
      " 8   graduated_at      58783 non-null   datetime64[ns]\n",
      " 9   education         267693 non-null  int64         \n",
      " 10  id                109056 non-null  float64       \n",
      " 11  object_id         109056 non-null  float64       \n",
      " 12  degree_type       97886 non-null   object        \n",
      " 13  subject           80890 non-null   object        \n",
      "dtypes: datetime64[ns](1), float64(5), int64(2), object(6)\n",
      "memory usage: 30.6+ MB\n"
     ]
    }
   ],
   "source": [
    "all_about = pd.merge(people_education, degrees, left_on = 'id_people', right_on = 'object_id', how = 'left')\n",
    "all_about.info()"
   ]
  },
  {
   "cell_type": "markdown",
   "metadata": {},
   "source": [
    "После объединения вновь появились дубликаты, это можно заметить по количеству записей в поле `id_people`. Вновь избавимся от них."
   ]
  },
  {
   "cell_type": "code",
   "execution_count": 212,
   "metadata": {},
   "outputs": [],
   "source": [
    "# Удалим дубликаты по полю id_people\n",
    "all_about.drop_duplicates(subset = 'id_people', keep='first', inplace = True)"
   ]
  },
  {
   "cell_type": "code",
   "execution_count": 213,
   "metadata": {},
   "outputs": [
    {
     "name": "stdout",
     "output_type": "stream",
     "text": [
      "<class 'pandas.core.frame.DataFrame'>\n",
      "Int64Index: 226708 entries, 0 to 267692\n",
      "Data columns (total 14 columns):\n",
      " #   Column            Non-Null Count   Dtype         \n",
      "---  ------            --------------   -----         \n",
      " 0   id_people         226708 non-null  int64         \n",
      " 1   first_name        226703 non-null  object        \n",
      " 2   last_name         226707 non-null  object        \n",
      " 3   company_id        34614 non-null   float64       \n",
      " 4   network_username  38867 non-null   object        \n",
      " 5   id_education      68071 non-null   float64       \n",
      " 6   person_id         68071 non-null   float64       \n",
      " 7   instituition      68031 non-null   object        \n",
      " 8   graduated_at      36387 non-null   datetime64[ns]\n",
      " 9   education         226708 non-null  int64         \n",
      " 10  id                68071 non-null   float64       \n",
      " 11  object_id         68071 non-null   float64       \n",
      " 12  degree_type       61401 non-null   object        \n",
      " 13  subject           50808 non-null   object        \n",
      "dtypes: datetime64[ns](1), float64(5), int64(2), object(6)\n",
      "memory usage: 25.9+ MB\n"
     ]
    }
   ],
   "source": [
    "all_about.info()"
   ]
  },
  {
   "cell_type": "markdown",
   "metadata": {},
   "source": [
    "Учитывая что данные о типе образования не содержат информации о компаниях, то распределение можно отсавить не имзменным, однако стоит переработать заполнение поля `education`, которое было создано как индикатор."
   ]
  },
  {
   "cell_type": "code",
   "execution_count": 214,
   "metadata": {},
   "outputs": [],
   "source": [
    "def education_all_isna(row):\n",
    "    if pd.isna(row.instituition) & pd.isna(row.graduated_at) & pd.isna(row.degree_type) & pd.isna(row.subject):\n",
    "        return 0\n",
    "    else:\n",
    "        return 1\n",
    "\n",
    "all_about['education'] = all_about.apply(education_all_isna, axis = 1)"
   ]
  },
  {
   "cell_type": "code",
   "execution_count": 215,
   "metadata": {},
   "outputs": [
    {
     "data": {
      "text/html": [
       "<div>\n",
       "<style scoped>\n",
       "    .dataframe tbody tr th:only-of-type {\n",
       "        vertical-align: middle;\n",
       "    }\n",
       "\n",
       "    .dataframe tbody tr th {\n",
       "        vertical-align: top;\n",
       "    }\n",
       "\n",
       "    .dataframe thead th {\n",
       "        text-align: right;\n",
       "    }\n",
       "</style>\n",
       "<table border=\"1\" class=\"dataframe\">\n",
       "  <thead>\n",
       "    <tr style=\"text-align: right;\">\n",
       "      <th></th>\n",
       "      <th>company_id</th>\n",
       "      <th>id_people</th>\n",
       "      <th>education</th>\n",
       "    </tr>\n",
       "  </thead>\n",
       "  <tbody>\n",
       "    <tr>\n",
       "      <th>0</th>\n",
       "      <td>1.0</td>\n",
       "      <td>2</td>\n",
       "      <td>0.500000</td>\n",
       "    </tr>\n",
       "    <tr>\n",
       "      <th>1</th>\n",
       "      <td>2.0</td>\n",
       "      <td>1</td>\n",
       "      <td>1.000000</td>\n",
       "    </tr>\n",
       "    <tr>\n",
       "      <th>2</th>\n",
       "      <td>3.0</td>\n",
       "      <td>3</td>\n",
       "      <td>0.666667</td>\n",
       "    </tr>\n",
       "    <tr>\n",
       "      <th>3</th>\n",
       "      <td>4.0</td>\n",
       "      <td>13</td>\n",
       "      <td>0.923077</td>\n",
       "    </tr>\n",
       "    <tr>\n",
       "      <th>4</th>\n",
       "      <td>5.0</td>\n",
       "      <td>61</td>\n",
       "      <td>0.737705</td>\n",
       "    </tr>\n",
       "    <tr>\n",
       "      <th>...</th>\n",
       "      <td>...</td>\n",
       "      <td>...</td>\n",
       "      <td>...</td>\n",
       "    </tr>\n",
       "    <tr>\n",
       "      <th>22916</th>\n",
       "      <td>285897.0</td>\n",
       "      <td>2</td>\n",
       "      <td>1.000000</td>\n",
       "    </tr>\n",
       "    <tr>\n",
       "      <th>22917</th>\n",
       "      <td>285953.0</td>\n",
       "      <td>1</td>\n",
       "      <td>0.000000</td>\n",
       "    </tr>\n",
       "    <tr>\n",
       "      <th>22918</th>\n",
       "      <td>285972.0</td>\n",
       "      <td>2</td>\n",
       "      <td>0.500000</td>\n",
       "    </tr>\n",
       "    <tr>\n",
       "      <th>22919</th>\n",
       "      <td>285996.0</td>\n",
       "      <td>1</td>\n",
       "      <td>1.000000</td>\n",
       "    </tr>\n",
       "    <tr>\n",
       "      <th>22920</th>\n",
       "      <td>286091.0</td>\n",
       "      <td>6</td>\n",
       "      <td>0.666667</td>\n",
       "    </tr>\n",
       "  </tbody>\n",
       "</table>\n",
       "<p>22921 rows × 3 columns</p>\n",
       "</div>"
      ],
      "text/plain": [
       "       company_id  id_people  education\n",
       "0             1.0          2   0.500000\n",
       "1             2.0          1   1.000000\n",
       "2             3.0          3   0.666667\n",
       "3             4.0         13   0.923077\n",
       "4             5.0         61   0.737705\n",
       "...           ...        ...        ...\n",
       "22916    285897.0          2   1.000000\n",
       "22917    285953.0          1   0.000000\n",
       "22918    285972.0          2   0.500000\n",
       "22919    285996.0          1   1.000000\n",
       "22920    286091.0          6   0.666667\n",
       "\n",
       "[22921 rows x 3 columns]"
      ]
     },
     "metadata": {},
     "output_type": "display_data"
    }
   ],
   "source": [
    "# Оценим значения в разрезе по компаниям\n",
    "ped_table = all_about.groupby('company_id').agg({'id_people' : 'count',\n",
    "                                                              'education' : 'mean'}).reset_index()\n",
    "display(ped_table)"
   ]
  },
  {
   "cell_type": "code",
   "execution_count": 216,
   "metadata": {},
   "outputs": [
    {
     "data": {
      "text/html": [
       "<div>\n",
       "<style scoped>\n",
       "    .dataframe tbody tr th:only-of-type {\n",
       "        vertical-align: middle;\n",
       "    }\n",
       "\n",
       "    .dataframe tbody tr th {\n",
       "        vertical-align: top;\n",
       "    }\n",
       "\n",
       "    .dataframe thead th {\n",
       "        text-align: right;\n",
       "    }\n",
       "</style>\n",
       "<table border=\"1\" class=\"dataframe\">\n",
       "  <thead>\n",
       "    <tr style=\"text-align: right;\">\n",
       "      <th></th>\n",
       "      <th>company_id</th>\n",
       "      <th>id_people</th>\n",
       "      <th>education</th>\n",
       "      <th>category</th>\n",
       "    </tr>\n",
       "  </thead>\n",
       "  <tbody>\n",
       "    <tr>\n",
       "      <th>0</th>\n",
       "      <td>1.0</td>\n",
       "      <td>2</td>\n",
       "      <td>0.500000</td>\n",
       "      <td>Малый стартап</td>\n",
       "    </tr>\n",
       "    <tr>\n",
       "      <th>1</th>\n",
       "      <td>2.0</td>\n",
       "      <td>1</td>\n",
       "      <td>1.000000</td>\n",
       "      <td>Микростартап</td>\n",
       "    </tr>\n",
       "    <tr>\n",
       "      <th>2</th>\n",
       "      <td>3.0</td>\n",
       "      <td>3</td>\n",
       "      <td>0.666667</td>\n",
       "      <td>Малый стартап</td>\n",
       "    </tr>\n",
       "    <tr>\n",
       "      <th>3</th>\n",
       "      <td>4.0</td>\n",
       "      <td>13</td>\n",
       "      <td>0.923077</td>\n",
       "      <td>Средний стартап</td>\n",
       "    </tr>\n",
       "    <tr>\n",
       "      <th>4</th>\n",
       "      <td>5.0</td>\n",
       "      <td>61</td>\n",
       "      <td>0.737705</td>\n",
       "      <td>Крупный стартап</td>\n",
       "    </tr>\n",
       "    <tr>\n",
       "      <th>...</th>\n",
       "      <td>...</td>\n",
       "      <td>...</td>\n",
       "      <td>...</td>\n",
       "      <td>...</td>\n",
       "    </tr>\n",
       "    <tr>\n",
       "      <th>22916</th>\n",
       "      <td>285897.0</td>\n",
       "      <td>2</td>\n",
       "      <td>1.000000</td>\n",
       "      <td>Малый стартап</td>\n",
       "    </tr>\n",
       "    <tr>\n",
       "      <th>22917</th>\n",
       "      <td>285953.0</td>\n",
       "      <td>1</td>\n",
       "      <td>0.000000</td>\n",
       "      <td>Микростартап</td>\n",
       "    </tr>\n",
       "    <tr>\n",
       "      <th>22918</th>\n",
       "      <td>285972.0</td>\n",
       "      <td>2</td>\n",
       "      <td>0.500000</td>\n",
       "      <td>Малый стартап</td>\n",
       "    </tr>\n",
       "    <tr>\n",
       "      <th>22919</th>\n",
       "      <td>285996.0</td>\n",
       "      <td>1</td>\n",
       "      <td>1.000000</td>\n",
       "      <td>Микростартап</td>\n",
       "    </tr>\n",
       "    <tr>\n",
       "      <th>22920</th>\n",
       "      <td>286091.0</td>\n",
       "      <td>6</td>\n",
       "      <td>0.666667</td>\n",
       "      <td>Малый стартап</td>\n",
       "    </tr>\n",
       "  </tbody>\n",
       "</table>\n",
       "<p>22921 rows × 4 columns</p>\n",
       "</div>"
      ],
      "text/plain": [
       "       company_id  id_people  education         category\n",
       "0             1.0          2   0.500000    Малый стартап\n",
       "1             2.0          1   1.000000     Микростартап\n",
       "2             3.0          3   0.666667    Малый стартап\n",
       "3             4.0         13   0.923077  Средний стартап\n",
       "4             5.0         61   0.737705  Крупный стартап\n",
       "...           ...        ...        ...              ...\n",
       "22916    285897.0          2   1.000000    Малый стартап\n",
       "22917    285953.0          1   0.000000     Микростартап\n",
       "22918    285972.0          2   0.500000    Малый стартап\n",
       "22919    285996.0          1   1.000000     Микростартап\n",
       "22920    286091.0          6   0.666667    Малый стартап\n",
       "\n",
       "[22921 rows x 4 columns]"
      ]
     },
     "metadata": {},
     "output_type": "display_data"
    }
   ],
   "source": [
    "# Так как границы групп не менялись, то вновь обратимся к той же функции, функции\n",
    "ped_table['category'] = ped_table.apply(company_category, axis = 1)\n",
    "display(ped_table)"
   ]
  },
  {
   "cell_type": "code",
   "execution_count": 217,
   "metadata": {},
   "outputs": [
    {
     "data": {
      "text/html": [
       "<div>\n",
       "<style scoped>\n",
       "    .dataframe tbody tr th:only-of-type {\n",
       "        vertical-align: middle;\n",
       "    }\n",
       "\n",
       "    .dataframe tbody tr th {\n",
       "        vertical-align: top;\n",
       "    }\n",
       "\n",
       "    .dataframe thead th {\n",
       "        text-align: right;\n",
       "    }\n",
       "</style>\n",
       "<table border=\"1\" class=\"dataframe\">\n",
       "  <thead>\n",
       "    <tr style=\"text-align: right;\">\n",
       "      <th></th>\n",
       "      <th>category</th>\n",
       "      <th>education</th>\n",
       "      <th>not_education</th>\n",
       "    </tr>\n",
       "  </thead>\n",
       "  <tbody>\n",
       "    <tr>\n",
       "      <th>0</th>\n",
       "      <td>Крупный стартап</td>\n",
       "      <td>0.761682</td>\n",
       "      <td>0.238318</td>\n",
       "    </tr>\n",
       "    <tr>\n",
       "      <th>1</th>\n",
       "      <td>Малый стартап</td>\n",
       "      <td>0.520129</td>\n",
       "      <td>0.479871</td>\n",
       "    </tr>\n",
       "    <tr>\n",
       "      <th>2</th>\n",
       "      <td>Микростартап</td>\n",
       "      <td>0.537425</td>\n",
       "      <td>0.462575</td>\n",
       "    </tr>\n",
       "    <tr>\n",
       "      <th>3</th>\n",
       "      <td>Средний стартап</td>\n",
       "      <td>0.542639</td>\n",
       "      <td>0.457361</td>\n",
       "    </tr>\n",
       "  </tbody>\n",
       "</table>\n",
       "</div>"
      ],
      "text/plain": [
       "          category  education  not_education\n",
       "0  Крупный стартап   0.761682       0.238318\n",
       "1    Малый стартап   0.520129       0.479871\n",
       "2     Микростартап   0.537425       0.462575\n",
       "3  Средний стартап   0.542639       0.457361"
      ]
     },
     "execution_count": 217,
     "metadata": {},
     "output_type": "execute_result"
    }
   ],
   "source": [
    "ped_table_plot = ped_table.groupby('category')['education'].mean().reset_index()\n",
    "ped_table_plot['not_education'] = 1 - ped_table_plot['education']\n",
    "ped_table_plot"
   ]
  },
  {
   "cell_type": "code",
   "execution_count": 218,
   "metadata": {},
   "outputs": [
    {
     "data": {
      "text/plain": [
       "<Figure size 720x432 with 0 Axes>"
      ]
     },
     "metadata": {},
     "output_type": "display_data"
    },
    {
     "data": {
      "image/png": "[encoded data removed]",
      "text/plain": [
       "<Figure size 432x288 with 1 Axes>"
      ]
     },
     "metadata": {
      "needs_background": "light"
     },
     "output_type": "display_data"
    }
   ],
   "source": [
    "plt.figure(figsize = (10,6))\n",
    "ped_table_plot.plot(kind = 'barh', x = 'category', stacked = True, title = 'Отношение доли сотрудников с образованием к сотрудника без образования',\n",
    "                  xlabel = 'Категория')\n",
    "plt.grid(axis = 'x')\n",
    "plt.legend(loc=\"upper left\", bbox_to_anchor=(1,1))\n",
    "plt.show()"
   ]
  },
  {
   "cell_type": "markdown",
   "metadata": {},
   "source": [
    "Данные действительно изменились, однако совсем немного, что подтвержает возможность использования degrees как дополнительно датафрейма для объединения. При этом малейшие изменения никак не отразились на тенденции. \n"
   ]
  },
  {
   "cell_type": "markdown",
   "metadata": {},
   "source": [
    "Рассмотрим дополнительно интересный факт: как распределились компании по категориям."
   ]
  },
  {
   "cell_type": "code",
   "execution_count": 219,
   "metadata": {},
   "outputs": [
    {
     "data": {
      "text/html": [
       "<div>\n",
       "<style scoped>\n",
       "    .dataframe tbody tr th:only-of-type {\n",
       "        vertical-align: middle;\n",
       "    }\n",
       "\n",
       "    .dataframe tbody tr th {\n",
       "        vertical-align: top;\n",
       "    }\n",
       "\n",
       "    .dataframe thead th {\n",
       "        text-align: right;\n",
       "    }\n",
       "</style>\n",
       "<table border=\"1\" class=\"dataframe\">\n",
       "  <thead>\n",
       "    <tr style=\"text-align: right;\">\n",
       "      <th></th>\n",
       "      <th>category</th>\n",
       "      <th>company_id</th>\n",
       "    </tr>\n",
       "  </thead>\n",
       "  <tbody>\n",
       "    <tr>\n",
       "      <th>0</th>\n",
       "      <td>Крупный стартап</td>\n",
       "      <td>16</td>\n",
       "    </tr>\n",
       "    <tr>\n",
       "      <th>1</th>\n",
       "      <td>Малый стартап</td>\n",
       "      <td>4685</td>\n",
       "    </tr>\n",
       "    <tr>\n",
       "      <th>2</th>\n",
       "      <td>Микростартап</td>\n",
       "      <td>18116</td>\n",
       "    </tr>\n",
       "    <tr>\n",
       "      <th>3</th>\n",
       "      <td>Средний стартап</td>\n",
       "      <td>104</td>\n",
       "    </tr>\n",
       "  </tbody>\n",
       "</table>\n",
       "</div>"
      ],
      "text/plain": [
       "          category  company_id\n",
       "0  Крупный стартап          16\n",
       "1    Малый стартап        4685\n",
       "2     Микростартап       18116\n",
       "3  Средний стартап         104"
      ]
     },
     "execution_count": 219,
     "metadata": {},
     "output_type": "execute_result"
    }
   ],
   "source": [
    "table_category = ped_table.groupby('category')['company_id'].count().reset_index()\n",
    "table_category"
   ]
  },
  {
   "cell_type": "markdown",
   "metadata": {},
   "source": [
    "Компании распределились по категориям очень неравнозначно: больше всего компаний из числа микростартапов, в которых трудоустроен только 1 человек - 18116 компаний, малых стартапов меньше - 4685 компаний. Самые маленькие количество компаний вошло в крупный стартап - 16 компаний."
   ]
  },
  {
   "cell_type": "markdown",
   "metadata": {},
   "source": [
    "### 2.3. Объединять или не объединять — вот в чём вопрос\n",
    "\n",
    "Некоторые названия столбцов встречаются в датасетах чаще других. И, например, в результате предварительной проверки датасетов было выяснено, что столбец `company_id` подходит для объединения данных, так как большая часть значений встречается в разных датасетах не один, а несколько раз. Этот столбец может быть использован для объединения данных.\n",
    "\n",
    "* Установите, подходит ли для объединения данных столбец `network_username`, который встречается в нескольких датасетах. Нам необходимо понимать, дублируется ли для разных датасетов информация в столбцах с таким названием, и если да — то насколько часто.\n",
    "\n",
    "* Оцените, можно ли использовать столбцы с именем `network_username` для объединения данных."
   ]
  },
  {
   "cell_type": "markdown",
   "metadata": {},
   "source": [
    "Столбец `network_username`встречается в двух датасетах: `company_and_rounds`, `people`. Первый датасет хранит информцию о компаниях и раундах финансирования, другой о сотрудниках. Поробуем для начала сравнить уникальные значения в данных столбцах."
   ]
  },
  {
   "cell_type": "code",
   "execution_count": 220,
   "metadata": {},
   "outputs": [],
   "source": [
    "company_unique = company_and_rounds['network_username'].unique()"
   ]
  },
  {
   "cell_type": "code",
   "execution_count": 221,
   "metadata": {},
   "outputs": [],
   "source": [
    "people_unique = people['network_username']"
   ]
  },
  {
   "cell_type": "code",
   "execution_count": 222,
   "metadata": {},
   "outputs": [
    {
     "data": {
      "text/plain": [
       "2270"
      ]
     },
     "metadata": {},
     "output_type": "display_data"
    }
   ],
   "source": [
    "count = 0\n",
    "for network_username in people_unique:\n",
    "    if network_username in company_unique:\n",
    "        count += 1\n",
    "display(count)"
   ]
  },
  {
   "cell_type": "markdown",
   "metadata": {},
   "source": [
    "Совпадение в данных действительно присутсвует. Оговоримся сразу, учитывая что в компании может быть несколько сотрудников, были взяты все значения столбца имени в сети из датасета сотрудников. Затем посчитано количество присутсвия этих значений в уникальных именах компании в сети. Полученное значение составило 2270. Это значит, что между указанными столбцами именно столько дубликатов нашлось. Учитывая информацию полученную в прошлом задании, мы знаем что по идентикатору компании 34614 сотрудников закреплены за различными компаниями."
   ]
  },
  {
   "cell_type": "markdown",
   "metadata": {},
   "source": [
    "Отдельно проверим уникальность имени в сети."
   ]
  },
  {
   "cell_type": "code",
   "execution_count": 223,
   "metadata": {},
   "outputs": [
    {
     "data": {
      "text/plain": [
       "38421"
      ]
     },
     "metadata": {},
     "output_type": "display_data"
    },
    {
     "data": {
      "text/plain": [
       "iWatchLife         6\n",
       "chrislogan         5\n",
       "firstscribe        4\n",
       "ConnectAndSell     4\n",
       "bubblehubdotcom    3\n",
       "                  ..\n",
       "davebryand         1\n",
       "BillBurnett1       1\n",
       "EricLarch          1\n",
       "jeremister         1\n",
       "danielha           1\n",
       "Name: network_username, Length: 38421, dtype: int64"
      ]
     },
     "execution_count": 223,
     "metadata": {},
     "output_type": "execute_result"
    }
   ],
   "source": [
    "display(people['network_username'].nunique())\n",
    "people['network_username'].value_counts()"
   ]
  },
  {
   "cell_type": "markdown",
   "metadata": {},
   "source": [
    "Количество ункиальных значений почти равно общему количеству записей, это говорит о том, что дубликаты в именах действительно присутствуют. Но в соотношении с данными о идентификаторе компании в этом же датасете, оно ничтожно мало, таким образом будут отброшены данные о крупных компания где много сотрудников. Кроме того, оценивая полноту данных в датасете компании, в поле имени в сети присуствуют пропуски, в отличии от идентификаторе."
   ]
  },
  {
   "cell_type": "markdown",
   "metadata": {},
   "source": [
    "На основе вышеизложенного делаем вывод о том, что данные несопоставимы и объединять датасеты на осове поля `network_username` невозможно!"
   ]
  },
  {
   "cell_type": "markdown",
   "metadata": {
    "id": "EHcODomVrJg1"
   },
   "source": [
    "\n",
    "### 2.4. Проблемный датасет и причина возникновения пропусков\n",
    "\n",
    "Во время собственного анализа данных у заказчика больше всего вопросов возникло к датасету `company_and_rounds.csv`. В нём много пропусков как раз в информации о раундах, которая заказчику важна. Хотя информация об общем объёме финансирования по раундам присутствует в других датасетах, заказчик считает данные `company_and_rounds.csv` о размере средств наиболее верными.\n",
    "\n",
    "* Любым удобным способом приведите данные в вид, который позволяет проводить анализ в разрезе отдельных компаний. Можно изменять форму данных, порядок их хранения. Обратите внимание на структуру датасета, порядок и названия столбцов, проанализируйте значения.\n",
    "\n",
    "По гипотезе заказчика данные по компаниям из этой таблицы раньше хранились иначе, более удобным для исследования образом.\n",
    "\n",
    "* Максимальным образом сохраняя данные, сохранив их связность и исключив возможные возникающие при этом ошибки, подготовьте данные так, чтобы удобно было отобрать компании по параметрам и рассчитать показатели из расчёта на одну компанию."
   ]
  },
  {
   "cell_type": "markdown",
   "metadata": {
    "id": "tJ6Sl6MKrJg1"
   },
   "source": [
    "Ранее, при изучении данных, была выдвинута гипотеза о том, что данные в датасете `company_and_rounds` выглядят так, будто их собрали из разных таблиц. Это совпадает с гипотезой заказчиков, о том, что данные раньше хранились иначе. \n",
    "\n",
    "Вытекает следующее предложение: \n",
    "- обработать датасет таким образом, чтобы оставить в нем все поля, но при этом удалить значения имеющие пропуски по важным полям о суммах финасирования, в тех случах если компания его получала, поскольку это исказит анализ;\n",
    "- разделить датасет на два разных, в одном оставить всю ифномрацию о компаниях, а в другом о ранудах."
   ]
  },
  {
   "cell_type": "code",
   "execution_count": 224,
   "metadata": {
    "id": "SFfUmzron0Tc"
   },
   "outputs": [],
   "source": [
    "# Для начала создадим копию\n",
    "company_and_rounds_copy = company_and_rounds.copy()"
   ]
  },
  {
   "cell_type": "code",
   "execution_count": 225,
   "metadata": {},
   "outputs": [
    {
     "name": "stdout",
     "output_type": "stream",
     "text": [
      "<class 'pandas.core.frame.DataFrame'>\n",
      "RangeIndex: 217774 entries, 0 to 217773\n",
      "Data columns (total 23 columns):\n",
      " #   Column               Non-Null Count   Dtype         \n",
      "---  ------               --------------   -----         \n",
      " 0   company_ID           217472 non-null  float64       \n",
      " 1   name                 217472 non-null  object        \n",
      " 2   category_code        143886 non-null  object        \n",
      " 3   status               217472 non-null  object        \n",
      " 4   founded_at           109956 non-null  datetime64[ns]\n",
      " 5   closed_at            3449 non-null    datetime64[ns]\n",
      " 6   domain               147159 non-null  object        \n",
      " 7   network_username     95534 non-null   object        \n",
      " 8   country_code         108607 non-null  object        \n",
      " 9   investment_rounds    217472 non-null  float64       \n",
      " 10  funding_rounds       217472 non-null  float64       \n",
      " 11  funding_total        217472 non-null  float64       \n",
      " 12  milestones           217472 non-null  float64       \n",
      " 13  funding_round_id     52928 non-null   float64       \n",
      " 14  company_id           52928 non-null   float64       \n",
      " 15  funded_at            52680 non-null   datetime64[ns]\n",
      " 16  funding_round_type   52928 non-null   object        \n",
      " 17  raised_amount        52928 non-null   float64       \n",
      " 18  pre_money_valuation  52928 non-null   float64       \n",
      " 19  participants         52928 non-null   float64       \n",
      " 20  is_first_round       52928 non-null   float64       \n",
      " 21  is_last_round        52928 non-null   float64       \n",
      " 22  year_funded          52680 non-null   float64       \n",
      "dtypes: datetime64[ns](3), float64(13), object(7)\n",
      "memory usage: 38.2+ MB\n"
     ]
    }
   ],
   "source": [
    "# Повторно вывеведем информацию о датасете\n",
    "company_and_rounds_copy.info()"
   ]
  },
  {
   "cell_type": "code",
   "execution_count": 226,
   "metadata": {},
   "outputs": [],
   "source": [
    "# Первоначально выберем записи в, которые удовлетворяют условию наличия финансовых и инвестиционных раундов \n",
    "#  и при этом записи о финансировании была\n",
    "\n",
    "carc_1 = company_and_rounds_copy[((company_and_rounds_copy['investment_rounds'] > 0) | (company_and_rounds_copy['funding_rounds'] > 0)) & (company_and_rounds_copy['company_id'])]"
   ]
  },
  {
   "cell_type": "code",
   "execution_count": 227,
   "metadata": {},
   "outputs": [
    {
     "name": "stdout",
     "output_type": "stream",
     "text": [
      "<class 'pandas.core.frame.DataFrame'>\n",
      "Int64Index: 52626 entries, 0 to 217471\n",
      "Data columns (total 23 columns):\n",
      " #   Column               Non-Null Count  Dtype         \n",
      "---  ------               --------------  -----         \n",
      " 0   company_ID           52626 non-null  float64       \n",
      " 1   name                 52626 non-null  object        \n",
      " 2   category_code        51163 non-null  object        \n",
      " 3   status               52626 non-null  object        \n",
      " 4   founded_at           43196 non-null  datetime64[ns]\n",
      " 5   closed_at            2943 non-null   datetime64[ns]\n",
      " 6   domain               50785 non-null  object        \n",
      " 7   network_username     34013 non-null  object        \n",
      " 8   country_code         50182 non-null  object        \n",
      " 9   investment_rounds    52626 non-null  float64       \n",
      " 10  funding_rounds       52626 non-null  float64       \n",
      " 11  funding_total        52626 non-null  float64       \n",
      " 12  milestones           52626 non-null  float64       \n",
      " 13  funding_round_id     52626 non-null  float64       \n",
      " 14  company_id           52626 non-null  float64       \n",
      " 15  funded_at            52382 non-null  datetime64[ns]\n",
      " 16  funding_round_type   52626 non-null  object        \n",
      " 17  raised_amount        52626 non-null  float64       \n",
      " 18  pre_money_valuation  52626 non-null  float64       \n",
      " 19  participants         52626 non-null  float64       \n",
      " 20  is_first_round       52626 non-null  float64       \n",
      " 21  is_last_round        52626 non-null  float64       \n",
      " 22  year_funded          52382 non-null  float64       \n",
      "dtypes: datetime64[ns](3), float64(13), object(7)\n",
      "memory usage: 9.6+ MB\n"
     ]
    }
   ],
   "source": [
    "carc_1.info()"
   ]
  },
  {
   "cell_type": "markdown",
   "metadata": {},
   "source": [
    "Суммарно вышло 52626 записией, в которых присуствует большинство данных необходимых для анализа.\n",
    "\n",
    "Теперь добавим к этим данным значения, в которых присутсвует информация о раундах инвестированния, но финансирование равно нулю. В описание данных заметно, что указываются только финансовые раунды. Дополнительно проверим это выведя значения о компания, у которых были инвестиционные раунды, не был финасовых и при этом есть информация о финансировании."
   ]
  },
  {
   "cell_type": "code",
   "execution_count": 228,
   "metadata": {},
   "outputs": [
    {
     "data": {
      "text/html": [
       "<div>\n",
       "<style scoped>\n",
       "    .dataframe tbody tr th:only-of-type {\n",
       "        vertical-align: middle;\n",
       "    }\n",
       "\n",
       "    .dataframe tbody tr th {\n",
       "        vertical-align: top;\n",
       "    }\n",
       "\n",
       "    .dataframe thead th {\n",
       "        text-align: right;\n",
       "    }\n",
       "</style>\n",
       "<table border=\"1\" class=\"dataframe\">\n",
       "  <thead>\n",
       "    <tr style=\"text-align: right;\">\n",
       "      <th></th>\n",
       "      <th>company_ID</th>\n",
       "      <th>name</th>\n",
       "      <th>category_code</th>\n",
       "      <th>status</th>\n",
       "      <th>founded_at</th>\n",
       "      <th>closed_at</th>\n",
       "      <th>domain</th>\n",
       "      <th>network_username</th>\n",
       "      <th>country_code</th>\n",
       "      <th>investment_rounds</th>\n",
       "      <th>...</th>\n",
       "      <th>funding_round_id</th>\n",
       "      <th>company_id</th>\n",
       "      <th>funded_at</th>\n",
       "      <th>funding_round_type</th>\n",
       "      <th>raised_amount</th>\n",
       "      <th>pre_money_valuation</th>\n",
       "      <th>participants</th>\n",
       "      <th>is_first_round</th>\n",
       "      <th>is_last_round</th>\n",
       "      <th>year_funded</th>\n",
       "    </tr>\n",
       "  </thead>\n",
       "  <tbody>\n",
       "  </tbody>\n",
       "</table>\n",
       "<p>0 rows × 23 columns</p>\n",
       "</div>"
      ],
      "text/plain": [
       "Empty DataFrame\n",
       "Columns: [company_ID, name, category_code, status, founded_at, closed_at, domain, network_username, country_code, investment_rounds, funding_rounds, funding_total, milestones, funding_round_id, company_id, funded_at, funding_round_type, raised_amount, pre_money_valuation, participants, is_first_round, is_last_round, year_funded]\n",
       "Index: []\n",
       "\n",
       "[0 rows x 23 columns]"
      ]
     },
     "execution_count": 228,
     "metadata": {},
     "output_type": "execute_result"
    }
   ],
   "source": [
    "company_and_rounds_copy[((company_and_rounds_copy['investment_rounds'] > 0) & (company_and_rounds_copy['funding_rounds'] == 0)) & (company_and_rounds_copy['company_id'])]"
   ]
  },
  {
   "cell_type": "markdown",
   "metadata": {},
   "source": [
    "Результат показал, что таких записей нет, значит предположение о том, что указаны только финансовые раунды - верное."
   ]
  },
  {
   "cell_type": "code",
   "execution_count": 229,
   "metadata": {},
   "outputs": [],
   "source": [
    "# Продолжим составлять выборки данных по условиям\n",
    "# не было инвестиционных и финансовых раундов \n",
    "\n",
    "\n",
    "carc_2 = company_and_rounds_copy[((company_and_rounds_copy['investment_rounds'] == 0) & (company_and_rounds_copy['funding_rounds'] == 0)) & (company_and_rounds_copy['company_id'].isna())]"
   ]
  },
  {
   "cell_type": "code",
   "execution_count": 230,
   "metadata": {},
   "outputs": [],
   "source": [
    "# Теперь выведем компании в которых были инвестиционные раунды и не было финансовых \n",
    "\n",
    "\n",
    "carc_3 = company_and_rounds_copy[((company_and_rounds_copy['investment_rounds'] > 0) & (company_and_rounds_copy['funding_rounds'] == 0)) & (company_and_rounds_copy['company_id'].isna())]"
   ]
  },
  {
   "cell_type": "code",
   "execution_count": 231,
   "metadata": {},
   "outputs": [
    {
     "name": "stdout",
     "output_type": "stream",
     "text": [
      "<class 'pandas.core.frame.DataFrame'>\n",
      "Int64Index: 217472 entries, 0 to 217457\n",
      "Data columns (total 23 columns):\n",
      " #   Column               Non-Null Count   Dtype         \n",
      "---  ------               --------------   -----         \n",
      " 0   company_ID           217472 non-null  float64       \n",
      " 1   name                 217472 non-null  object        \n",
      " 2   category_code        143886 non-null  object        \n",
      " 3   status               217472 non-null  object        \n",
      " 4   founded_at           109956 non-null  datetime64[ns]\n",
      " 5   closed_at            3449 non-null    datetime64[ns]\n",
      " 6   domain               147159 non-null  object        \n",
      " 7   network_username     95534 non-null   object        \n",
      " 8   country_code         108607 non-null  object        \n",
      " 9   investment_rounds    217472 non-null  float64       \n",
      " 10  funding_rounds       217472 non-null  float64       \n",
      " 11  funding_total        217472 non-null  float64       \n",
      " 12  milestones           217472 non-null  float64       \n",
      " 13  funding_round_id     52626 non-null   float64       \n",
      " 14  company_id           52626 non-null   float64       \n",
      " 15  funded_at            52382 non-null   datetime64[ns]\n",
      " 16  funding_round_type   52626 non-null   object        \n",
      " 17  raised_amount        52626 non-null   float64       \n",
      " 18  pre_money_valuation  52626 non-null   float64       \n",
      " 19  participants         52626 non-null   float64       \n",
      " 20  is_first_round       52626 non-null   float64       \n",
      " 21  is_last_round        52626 non-null   float64       \n",
      " 22  year_funded          52382 non-null   float64       \n",
      "dtypes: datetime64[ns](3), float64(13), object(7)\n",
      "memory usage: 39.8+ MB\n"
     ]
    }
   ],
   "source": [
    "# Объединим датасеты в единый датафрейм\n",
    "\n",
    "carc = pd.concat([carc_1, carc_2, carc_3])\n",
    "carc.info()"
   ]
  },
  {
   "cell_type": "markdown",
   "metadata": {},
   "source": [
    "Количество данных по сравнению с первичном датасетом почти не изменилось, однако были отброшены значения о финансирование, которое не закреплено за компанией. Теперь проверим поля на явные дубликаты.\n",
    "\n",
    "Дубликаты будем считать полное совпадение по id компании, названию, дате появления, дате финансирования и объему финансовых средств. Таким образом мы сможем избавиться от данных, которые могли задублироваться."
   ]
  },
  {
   "cell_type": "code",
   "execution_count": 232,
   "metadata": {},
   "outputs": [
    {
     "data": {
      "text/plain": [
       "110"
      ]
     },
     "execution_count": 232,
     "metadata": {},
     "output_type": "execute_result"
    }
   ],
   "source": [
    "carc.duplicated(subset = ['company_ID', 'name', 'founded_at', 'funded_at', 'funding_round_type', 'raised_amount']).sum()"
   ]
  },
  {
   "cell_type": "markdown",
   "metadata": {},
   "source": [
    "Найдено 110 дублирующих данных. Удалим их, оставив только первые значения."
   ]
  },
  {
   "cell_type": "code",
   "execution_count": 233,
   "metadata": {},
   "outputs": [],
   "source": [
    "carc.drop_duplicates(subset = ['company_ID', 'name', 'founded_at', 'funded_at', 'funding_round_type', 'raised_amount'], keep = 'first', inplace = True)"
   ]
  },
  {
   "cell_type": "markdown",
   "metadata": {},
   "source": [
    "Осталось 217362 записи. Теперь приступим к неявным дубликатам. Провести поиск неявных дубликатов в таких больших данных проблематично. Приведем все ранее проверяемые поля к нижнему регистру и снова проверим."
   ]
  },
  {
   "cell_type": "code",
   "execution_count": 234,
   "metadata": {},
   "outputs": [],
   "source": [
    "carc['name'] = carc['name'].str.lower()\n",
    "carc['funding_round_type'] = carc['funding_round_type'].str.lower()"
   ]
  },
  {
   "cell_type": "code",
   "execution_count": 235,
   "metadata": {},
   "outputs": [
    {
     "data": {
      "text/plain": [
       "0"
      ]
     },
     "execution_count": 235,
     "metadata": {},
     "output_type": "execute_result"
    }
   ],
   "source": [
    "# Вновь проверим дубликаты\n",
    "carc.duplicated(subset = ['company_ID', 'name', 'founded_at', 'funded_at', 'funding_round_type', 'raised_amount']).sum()"
   ]
  },
  {
   "cell_type": "markdown",
   "metadata": {},
   "source": [
    "После приведения строчных данных к единому регистру дубликатов не было найдено. Теперь избавимся от лишних столбцов, которые дублируют информацию. В данном случае такой столбец только один - это  `company_id`, данные в нем дублируются с одноименным столбцом."
   ]
  },
  {
   "cell_type": "code",
   "execution_count": 236,
   "metadata": {},
   "outputs": [
    {
     "name": "stdout",
     "output_type": "stream",
     "text": [
      "<class 'pandas.core.frame.DataFrame'>\n",
      "Int64Index: 217362 entries, 0 to 217457\n",
      "Data columns (total 22 columns):\n",
      " #   Column               Non-Null Count   Dtype         \n",
      "---  ------               --------------   -----         \n",
      " 0   company_ID           217362 non-null  float64       \n",
      " 1   name                 217362 non-null  object        \n",
      " 2   category_code        143778 non-null  object        \n",
      " 3   status               217362 non-null  object        \n",
      " 4   founded_at           109856 non-null  datetime64[ns]\n",
      " 5   closed_at            3445 non-null    datetime64[ns]\n",
      " 6   domain               147052 non-null  object        \n",
      " 7   network_username     95445 non-null   object        \n",
      " 8   country_code         108505 non-null  object        \n",
      " 9   investment_rounds    217362 non-null  float64       \n",
      " 10  funding_rounds       217362 non-null  float64       \n",
      " 11  funding_total        217362 non-null  float64       \n",
      " 12  milestones           217362 non-null  float64       \n",
      " 13  funding_round_id     52516 non-null   float64       \n",
      " 14  funded_at            52274 non-null   datetime64[ns]\n",
      " 15  funding_round_type   52516 non-null   object        \n",
      " 16  raised_amount        52516 non-null   float64       \n",
      " 17  pre_money_valuation  52516 non-null   float64       \n",
      " 18  participants         52516 non-null   float64       \n",
      " 19  is_first_round       52516 non-null   float64       \n",
      " 20  is_last_round        52516 non-null   float64       \n",
      " 21  year_funded          52274 non-null   float64       \n",
      "dtypes: datetime64[ns](3), float64(12), object(7)\n",
      "memory usage: 38.1+ MB\n"
     ]
    }
   ],
   "source": [
    "carc.drop(labels = 'company_id', axis = 1, inplace = True)\n",
    "carc.info()"
   ]
  },
  {
   "cell_type": "markdown",
   "metadata": {},
   "source": [
    "Столбец был удален!"
   ]
  },
  {
   "cell_type": "markdown",
   "metadata": {},
   "source": [
    "Теперь вернемся ко второму предложению, разделить датасет `company_and_rounds` на два разных: `company`, `rounds`. Раньше мы уже предположили как именно они были соединенны. Вероятнее всего, все поля до `funding_round_id` относились к компаниям, а остальные к раундам. Именно так и разделим."
   ]
  },
  {
   "cell_type": "code",
   "execution_count": 237,
   "metadata": {},
   "outputs": [
    {
     "name": "stdout",
     "output_type": "stream",
     "text": [
      "<class 'pandas.core.frame.DataFrame'>\n",
      "RangeIndex: 217774 entries, 0 to 217773\n",
      "Data columns (total 13 columns):\n",
      " #   Column             Non-Null Count   Dtype         \n",
      "---  ------             --------------   -----         \n",
      " 0   company_ID         217472 non-null  float64       \n",
      " 1   name               217472 non-null  object        \n",
      " 2   category_code      143886 non-null  object        \n",
      " 3   status             217472 non-null  object        \n",
      " 4   founded_at         109956 non-null  datetime64[ns]\n",
      " 5   closed_at          3449 non-null    datetime64[ns]\n",
      " 6   domain             147159 non-null  object        \n",
      " 7   network_username   95534 non-null   object        \n",
      " 8   country_code       108607 non-null  object        \n",
      " 9   investment_rounds  217472 non-null  float64       \n",
      " 10  funding_rounds     217472 non-null  float64       \n",
      " 11  funding_total      217472 non-null  float64       \n",
      " 12  milestones         217472 non-null  float64       \n",
      "dtypes: datetime64[ns](2), float64(5), object(6)\n",
      "memory usage: 21.6+ MB\n"
     ]
    }
   ],
   "source": [
    "company = company_and_rounds[company_and_rounds.columns[0:13]].copy()\n",
    "company.info()"
   ]
  },
  {
   "cell_type": "code",
   "execution_count": 238,
   "metadata": {},
   "outputs": [
    {
     "name": "stdout",
     "output_type": "stream",
     "text": [
      "<class 'pandas.core.frame.DataFrame'>\n",
      "RangeIndex: 217774 entries, 0 to 217773\n",
      "Data columns (total 10 columns):\n",
      " #   Column               Non-Null Count  Dtype         \n",
      "---  ------               --------------  -----         \n",
      " 0   funding_round_id     52928 non-null  float64       \n",
      " 1   company_id           52928 non-null  float64       \n",
      " 2   funded_at            52680 non-null  datetime64[ns]\n",
      " 3   funding_round_type   52928 non-null  object        \n",
      " 4   raised_amount        52928 non-null  float64       \n",
      " 5   pre_money_valuation  52928 non-null  float64       \n",
      " 6   participants         52928 non-null  float64       \n",
      " 7   is_first_round       52928 non-null  float64       \n",
      " 8   is_last_round        52928 non-null  float64       \n",
      " 9   year_funded          52680 non-null  float64       \n",
      "dtypes: datetime64[ns](1), float64(8), object(1)\n",
      "memory usage: 16.6+ MB\n"
     ]
    }
   ],
   "source": [
    "rounds = company_and_rounds[company_and_rounds.columns[13:]].copy()\n",
    "rounds.info()"
   ]
  },
  {
   "cell_type": "markdown",
   "metadata": {},
   "source": [
    "Таким образом было получена два различных датасета. Теперь отфильтруем их от пропусков и дубликатов в записях."
   ]
  },
  {
   "cell_type": "code",
   "execution_count": 239,
   "metadata": {},
   "outputs": [
    {
     "name": "stdout",
     "output_type": "stream",
     "text": [
      "<class 'pandas.core.frame.DataFrame'>\n",
      "Int64Index: 217472 entries, 0 to 217471\n",
      "Data columns (total 13 columns):\n",
      " #   Column             Non-Null Count   Dtype         \n",
      "---  ------             --------------   -----         \n",
      " 0   company_id         217472 non-null  float64       \n",
      " 1   name               217472 non-null  object        \n",
      " 2   category_code      143886 non-null  object        \n",
      " 3   status             217472 non-null  object        \n",
      " 4   founded_at         109956 non-null  datetime64[ns]\n",
      " 5   closed_at          3449 non-null    datetime64[ns]\n",
      " 6   domain             147159 non-null  object        \n",
      " 7   network_username   95534 non-null   object        \n",
      " 8   country_code       108607 non-null  object        \n",
      " 9   investment_rounds  217472 non-null  float64       \n",
      " 10  funding_rounds     217472 non-null  float64       \n",
      " 11  funding_total      217472 non-null  float64       \n",
      " 12  milestones         217472 non-null  float64       \n",
      "dtypes: datetime64[ns](2), float64(5), object(6)\n",
      "memory usage: 23.2+ MB\n"
     ]
    }
   ],
   "source": [
    "# Так как датасеты разделены приведем названия столбцов к единому стилю\n",
    "company = company.rename (columns = {'company_ID' : 'company_id'})\n",
    "\n",
    "company.dropna(subset = ['company_id'], inplace = True)\n",
    "company.info()"
   ]
  },
  {
   "cell_type": "markdown",
   "metadata": {},
   "source": [
    "Поля с пропуском в id были удалены. Теперь аналогично поступим со вторым датасетом."
   ]
  },
  {
   "cell_type": "code",
   "execution_count": 240,
   "metadata": {},
   "outputs": [
    {
     "name": "stdout",
     "output_type": "stream",
     "text": [
      "<class 'pandas.core.frame.DataFrame'>\n",
      "Int64Index: 52928 entries, 0 to 217773\n",
      "Data columns (total 10 columns):\n",
      " #   Column               Non-Null Count  Dtype         \n",
      "---  ------               --------------  -----         \n",
      " 0   funding_round_id     52928 non-null  float64       \n",
      " 1   company_id           52928 non-null  float64       \n",
      " 2   funded_at            52680 non-null  datetime64[ns]\n",
      " 3   funding_round_type   52928 non-null  object        \n",
      " 4   raised_amount        52928 non-null  float64       \n",
      " 5   pre_money_valuation  52928 non-null  float64       \n",
      " 6   participants         52928 non-null  float64       \n",
      " 7   is_first_round       52928 non-null  float64       \n",
      " 8   is_last_round        52928 non-null  float64       \n",
      " 9   year_funded          52680 non-null  float64       \n",
      "dtypes: datetime64[ns](1), float64(8), object(1)\n",
      "memory usage: 4.4+ MB\n"
     ]
    }
   ],
   "source": [
    "rounds.dropna(subset = ['funding_round_id'], inplace = True)\n",
    "rounds.info()"
   ]
  },
  {
   "cell_type": "markdown",
   "metadata": {},
   "source": [
    "Теперь избавимся от дубликатов."
   ]
  },
  {
   "cell_type": "code",
   "execution_count": 241,
   "metadata": {},
   "outputs": [
    {
     "data": {
      "text/plain": [
       "20919"
      ]
     },
     "execution_count": 241,
     "metadata": {},
     "output_type": "execute_result"
    }
   ],
   "source": [
    "# Для начала приведем все к единому стилю\n",
    "company['name'] = company['name'].str.lower()\n",
    "\n",
    "# Теперь проверим количество явных дубликатов\n",
    "company.duplicated(subset = ['company_id', 'name', 'founded_at']).sum()"
   ]
  },
  {
   "cell_type": "markdown",
   "metadata": {},
   "source": [
    "Количество дубликатов составило 20919 записей, удалим их."
   ]
  },
  {
   "cell_type": "code",
   "execution_count": 242,
   "metadata": {},
   "outputs": [],
   "source": [
    "company.drop_duplicates(subset = ['company_id', 'name', 'founded_at'], inplace= True)"
   ]
  },
  {
   "cell_type": "code",
   "execution_count": 243,
   "metadata": {},
   "outputs": [
    {
     "data": {
      "text/plain": [
       "111"
      ]
     },
     "execution_count": 243,
     "metadata": {},
     "output_type": "execute_result"
    }
   ],
   "source": [
    "# Совершим аналогичные действия для датасета rounds\n",
    "# Для начала приведем все к единому стилю\n",
    "rounds['funding_round_type'] = rounds['funding_round_type'].str.lower()\n",
    "\n",
    "# Теперь проверим количество явных дубликатов\n",
    "rounds.duplicated(subset = ['company_id', 'funding_round_type', 'funded_at', 'raised_amount']).sum()"
   ]
  },
  {
   "cell_type": "code",
   "execution_count": 244,
   "metadata": {},
   "outputs": [],
   "source": [
    "rounds.drop_duplicates(subset = ['company_id', 'funding_round_type', 'funded_at', 'raised_amount'], inplace = True)"
   ]
  },
  {
   "cell_type": "code",
   "execution_count": 245,
   "metadata": {},
   "outputs": [
    {
     "name": "stdout",
     "output_type": "stream",
     "text": [
      "<class 'pandas.core.frame.DataFrame'>\n",
      "Int64Index: 196553 entries, 0 to 217469\n",
      "Data columns (total 13 columns):\n",
      " #   Column             Non-Null Count   Dtype         \n",
      "---  ------             --------------   -----         \n",
      " 0   company_id         196553 non-null  float64       \n",
      " 1   name               196553 non-null  object        \n",
      " 2   category_code      123186 non-null  object        \n",
      " 3   status             196553 non-null  object        \n",
      " 4   founded_at         91227 non-null   datetime64[ns]\n",
      " 5   closed_at          2620 non-null    datetime64[ns]\n",
      " 6   domain             126545 non-null  object        \n",
      " 7   network_username   80591 non-null   object        \n",
      " 8   country_code       87990 non-null   object        \n",
      " 9   investment_rounds  196553 non-null  float64       \n",
      " 10  funding_rounds     196553 non-null  float64       \n",
      " 11  funding_total      196553 non-null  float64       \n",
      " 12  milestones         196553 non-null  float64       \n",
      "dtypes: datetime64[ns](2), float64(5), object(6)\n",
      "memory usage: 21.0+ MB\n"
     ]
    },
    {
     "data": {
      "text/plain": [
       "None"
      ]
     },
     "metadata": {},
     "output_type": "display_data"
    },
    {
     "name": "stdout",
     "output_type": "stream",
     "text": [
      "<class 'pandas.core.frame.DataFrame'>\n",
      "Int64Index: 52817 entries, 0 to 217773\n",
      "Data columns (total 10 columns):\n",
      " #   Column               Non-Null Count  Dtype         \n",
      "---  ------               --------------  -----         \n",
      " 0   funding_round_id     52817 non-null  float64       \n",
      " 1   company_id           52817 non-null  float64       \n",
      " 2   funded_at            52571 non-null  datetime64[ns]\n",
      " 3   funding_round_type   52817 non-null  object        \n",
      " 4   raised_amount        52817 non-null  float64       \n",
      " 5   pre_money_valuation  52817 non-null  float64       \n",
      " 6   participants         52817 non-null  float64       \n",
      " 7   is_first_round       52817 non-null  float64       \n",
      " 8   is_last_round        52817 non-null  float64       \n",
      " 9   year_funded          52571 non-null  float64       \n",
      "dtypes: datetime64[ns](1), float64(8), object(1)\n",
      "memory usage: 4.4+ MB\n"
     ]
    }
   ],
   "source": [
    "# Выведем информацию о полученных датасетах\n",
    "display(company.info())\n",
    "rounds.info()"
   ]
  },
  {
   "cell_type": "markdown",
   "metadata": {},
   "source": [
    "Получили два датасета с информацией о компаниях и раундах финансирования соотвествено. Размеры датасетов составили:\n",
    "- `company` - 13 столбцов и 196553 строки;\n",
    "- `rounds` - 10 столбцов и 52817 строк (с учетом ранее введенного столбца с информацией о годе финансирования)."
   ]
  },
  {
   "cell_type": "markdown",
   "metadata": {},
   "source": [
    "### Общий вывод по разделу:\n",
    "\n",
    "В ходе работы над задачами в рамках раздела были выполнены следующие задачи:\n",
    "- изучены тенденции финансовых раундов (их количества и типичные размеры в разрезе по годам);\n",
    "- оценена доля сотрудников с образованием и без него в разичных категориях компаний (микростартапы - крупные стартапы);\n",
    "- изучена возможность использования других полей для объединения датасетов;\n",
    "- предобработан самый крупный из представленных датасетов.\n",
    "\n",
    "Кратике результаты:\n",
    "- Тендеция финансовых раундов ежегодно склонна к увеличению их количества, однако типичные суммы финансирования начиная с 2005 года демострируют спад (от 5,5 млн, до 1 млн. в 2012). В 2013 гоу типичные суммы возросли на 200 тыс. по сравнению с предыдущим годом.\n",
    "- В среднем доля сотрудников указывающих образование выше в крупных стартапах (количество сотрудников в данных стартапах свыше 30), меньше всего в малых стартапах (от 2 до 10 сотрудников). 2 и 3 места разделили микростартапы (1 сотрудник) и средние стартапы (от 11 до 30 сотрудников) соответственно. Рассматривая с обратной стороны (средняя доля сотрудников в компаниях не указавыших образование) топ переворачивается зеркально.\n",
    "- Было замечено, что в двух представленных датасетах есть поле `network_username`, которое может стать еще одним связующим звеном при объединении данных. Рассматривая значения полей подробнее было выяснено, что данные в этих столбцах датасетов почти не сочетаются (сочетания носит случайный неповторяющийся характер выраженный в совпадении имени компании и сотрудника в сети). Решение: **использовать столбец для объединения датасетов нельязя**;\n",
    "- в ходе изучения датасета `company_and_rounds` была выдвинута гипотеза о возможном объединении двух различных датасетов, которая согласуется с гипотезой заказчика о том, что раньше данные хранились иначе. В результате был получен один общий датасет, из которого исключены пустые значения и дубликаты (в том числе дублирующиеся столбцы), что позволит провести оценку каждой компании по отдельности. Также созданы два датасета, в которых была разделена информация о компаниях и раундах соотвественно. Учитывая будущие задачи заказчика все столбцы были сохраненны."
   ]
  },
  {
   "cell_type": "markdown",
   "metadata": {
    "id": "bmVYhphNrJg2"
   },
   "source": [
    "\n",
    "## Шаг 3. Исследовательский анализ объединённых таблиц\n",
    "\n",
    "<big>Приступите к шагу 3 после проверки ревьюера.</big>"
   ]
  },
  {
   "cell_type": "markdown",
   "metadata": {
    "id": "3Di6tCT3rJg2"
   },
   "source": [
    "\n",
    "### 3.1. Объединение данных\n",
    "\n",
    "Объедините данные для ответа на вопросы заказчика, которые касаются интересующих его компаний.\n",
    "\n",
    "В качестве основы для объединённой таблицы возьмите данные из обработанного датасета `company_and_rounds.csv` — выберите только те компании, у которых указаны значения `funding_rounds` или `investment_rounds` больше нуля, или те, у которых в колонке `status` указано `acquired`.\n",
    "\n",
    "Далее работайте только с этими данными."
   ]
  },
  {
   "cell_type": "markdown",
   "metadata": {
    "id": "mGYqoHS7rJg2"
   },
   "source": [
    "Опираясь на исследовательские задачи, полученные от заказчика, можно следующий вывод: для ответа  на вопросы заказчика достаточно объединить две таблицы: полученный в процессе переработки датасета `company_and_rounds` датасет `company` и датасет `acquisition`. В них содержится достаточное количество данных для проведения исследований и ответов на вопросы заказчика."
   ]
  },
  {
   "cell_type": "code",
   "execution_count": 246,
   "metadata": {
    "id": "vJZ4mO2Un1yt"
   },
   "outputs": [],
   "source": [
    "# Для начала выберем только те компании, у которых указаны значения\n",
    "# funding_rounds или investment_rounds больше нуля,\n",
    "# или те, у которых в колонке status указано acquired. \n",
    "companyes = company[(company['funding_rounds'] > 0) | (company['investment_rounds'] > 0) | (company['status'] == 'acquired')]"
   ]
  },
  {
   "cell_type": "code",
   "execution_count": 247,
   "metadata": {
    "scrolled": true
   },
   "outputs": [
    {
     "name": "stdout",
     "output_type": "stream",
     "text": [
      "<class 'pandas.core.frame.DataFrame'>\n",
      "Int64Index: 40747 entries, 0 to 217469\n",
      "Data columns (total 13 columns):\n",
      " #   Column             Non-Null Count  Dtype         \n",
      "---  ------             --------------  -----         \n",
      " 0   company_id         40747 non-null  float64       \n",
      " 1   name               40747 non-null  object        \n",
      " 2   category_code      35315 non-null  object        \n",
      " 3   status             40747 non-null  object        \n",
      " 4   founded_at         27807 non-null  datetime64[ns]\n",
      " 5   closed_at          2128 non-null   datetime64[ns]\n",
      " 6   domain             35754 non-null  object        \n",
      " 7   network_username   20850 non-null  object        \n",
      " 8   country_code       34742 non-null  object        \n",
      " 9   investment_rounds  40747 non-null  float64       \n",
      " 10  funding_rounds     40747 non-null  float64       \n",
      " 11  funding_total      40747 non-null  float64       \n",
      " 12  milestones         40747 non-null  float64       \n",
      "dtypes: datetime64[ns](2), float64(5), object(6)\n",
      "memory usage: 4.4+ MB\n"
     ]
    }
   ],
   "source": [
    "companyes.info()"
   ]
  },
  {
   "cell_type": "markdown",
   "metadata": {},
   "source": [
    "Теперь объединим данные полученного датасета с датасетом acquisition."
   ]
  },
  {
   "cell_type": "code",
   "execution_count": 248,
   "metadata": {},
   "outputs": [
    {
     "name": "stdout",
     "output_type": "stream",
     "text": [
      "<class 'pandas.core.frame.DataFrame'>\n",
      "Int64Index: 40890 entries, 0 to 40889\n",
      "Data columns (total 19 columns):\n",
      " #   Column                Non-Null Count  Dtype         \n",
      "---  ------                --------------  -----         \n",
      " 0   company_id            40890 non-null  float64       \n",
      " 1   name                  40890 non-null  object        \n",
      " 2   category_code         35436 non-null  object        \n",
      " 3   status                40890 non-null  object        \n",
      " 4   founded_at            27911 non-null  datetime64[ns]\n",
      " 5   closed_at             2128 non-null   datetime64[ns]\n",
      " 6   domain                35883 non-null  object        \n",
      " 7   network_username      20938 non-null  object        \n",
      " 8   country_code          34858 non-null  object        \n",
      " 9   investment_rounds     40890 non-null  float64       \n",
      " 10  funding_rounds        40890 non-null  float64       \n",
      " 11  funding_total         40890 non-null  float64       \n",
      " 12  milestones            40890 non-null  float64       \n",
      " 13  id                    9390 non-null   float64       \n",
      " 14  acquiring_company_id  9390 non-null   float64       \n",
      " 15  acquired_company_id   9390 non-null   float64       \n",
      " 16  term_code             1830 non-null   object        \n",
      " 17  price_amount          9390 non-null   float64       \n",
      " 18  acquired_at           9361 non-null   datetime64[ns]\n",
      "dtypes: datetime64[ns](3), float64(9), object(7)\n",
      "memory usage: 6.2+ MB\n"
     ]
    }
   ],
   "source": [
    "company_and_acquier = companyes.merge(acquisition, left_on = 'company_id', right_on = 'acquired_company_id', how = 'left')\n",
    "company_and_acquier.info()"
   ]
  },
  {
   "cell_type": "markdown",
   "metadata": {},
   "source": [
    "Получили единый датафрейм с размерами 19 столбцов и 40890 строк. Количество строк увеичислось, что может говорить либо о дубликатах во втором датасете, либо наличии нескольких записях о покупке."
   ]
  },
  {
   "cell_type": "markdown",
   "metadata": {
    "id": "DFHINkV3rJg2"
   },
   "source": [
    "\n",
    "### 3.2. Анализ выбросов\n",
    "\n",
    "Заказчика интересует обычный для рассматриваемого периода размер средств, который предоставлялся компаниям.\n",
    "\n",
    "* По предобработанному столбцу `funding_total` графическим способом оцените, какой размер общего финансирования для одной компании будет типичным, а какой — выбивающимся.\n",
    "\n",
    "* В процессе расчёта значений обратите внимание, например, на показатели, возвращаемые методом `.describe()`, — объясните их. Применимы ли к таким данным обычные способы нахождения типичных значений?"
   ]
  },
  {
   "cell_type": "code",
   "execution_count": 249,
   "metadata": {
    "id": "8jm75fKXrJg2"
   },
   "outputs": [
    {
     "data": {
      "text/plain": [
       "count    4.074700e+04\n",
       "mean     1.013561e+07\n",
       "std      5.646436e+07\n",
       "min      0.000000e+00\n",
       "25%      0.000000e+00\n",
       "50%      6.000000e+05\n",
       "75%      5.650650e+06\n",
       "max      5.700000e+09\n",
       "Name: funding_total, dtype: float64"
      ]
     },
     "execution_count": 249,
     "metadata": {},
     "output_type": "execute_result"
    }
   ],
   "source": [
    "# Проверим статистические данные по столбцу funding_total\n",
    "companyes['funding_total'].describe()"
   ]
  },
  {
   "cell_type": "markdown",
   "metadata": {},
   "source": [
    "По полученной статистической информации, заметно что среднее значени и медаина сильно отличаются, при этом среднее выше чем медиана, что говорит о неравномерном распределении данных и наличии вытянутого правового хвоста в распределении. При этом, 25-процентиль показывает что чертверть значений равны нулю, подтвержая высокие значения в правом хвосте (вероятнее всего именно это влияет на разницу среднего и медианы). Среднеквадратичное отклонение также велико, тем самым демонстрируя высокий разброс в значениях данных. \n"
   ]
  },
  {
   "cell_type": "code",
   "execution_count": 250,
   "metadata": {},
   "outputs": [
    {
     "data": {
      "text/plain": [
       "12873"
      ]
     },
     "execution_count": 250,
     "metadata": {},
     "output_type": "execute_result"
    }
   ],
   "source": [
    "companyes[companyes['funding_total'] == 0]['funding_total'].count()"
   ]
  },
  {
   "cell_type": "markdown",
   "metadata": {},
   "source": [
    "Больше 25% компаний не получили никакого финансирования и вероятнее всего были выкуплены сразу."
   ]
  },
  {
   "cell_type": "markdown",
   "metadata": {},
   "source": [
    "\n",
    "Построим график с усами. "
   ]
  },
  {
   "cell_type": "code",
   "execution_count": 251,
   "metadata": {},
   "outputs": [
    {
     "data": {
      "image/png": "[encoded data removed]",
      "text/plain": [
       "<Figure size 864x432 with 1 Axes>"
      ]
     },
     "metadata": {
      "needs_background": "light"
     },
     "output_type": "display_data"
    }
   ],
   "source": [
    "plt.figure(figsize = (12,6))\n",
    "sns.boxplot(y = 'funding_total', data = companyes, color = 'lightblue',\n",
    "           flierprops = dict(markerfacecolor = 'red', marker = '^'))\n",
    "plt.title('Количество средств в рамках финансирования')\n",
    "plt.ylabel('Объем средств e9')\n",
    "plt.show()"
   ]
  },
  {
   "cell_type": "markdown",
   "metadata": {},
   "source": [
    "Из полученного графика ничего не понятно, оценим данные без выбросов."
   ]
  },
  {
   "cell_type": "code",
   "execution_count": 252,
   "metadata": {},
   "outputs": [
    {
     "data": {
      "image/png": "[encoded data removed]",
      "text/plain": [
       "<Figure size 864x432 with 1 Axes>"
      ]
     },
     "metadata": {
      "needs_background": "light"
     },
     "output_type": "display_data"
    }
   ],
   "source": [
    "plt.figure(figsize = (12,6))\n",
    "sns.boxplot(y = 'funding_total', data = companyes, color = 'lightblue',\n",
    "           showfliers = False)\n",
    "plt.title('Количество средств в рамках финансирования')\n",
    "plt.ylabel('Объем средств e7')\n",
    "plt.show()"
   ]
  },
  {
   "cell_type": "markdown",
   "metadata": {
    "id": "dIWqyEomn2MU"
   },
   "source": [
    "Заметно, что большинство данных расположены в промежутке от 0 до 0,57 * е7. При этом допустимы также значения суммы финансирования до 1,4 * е7, оне не относятся к выбросам. \n",
    "\n",
    "Чтобы детальнее изучить также рассмотрим гистограмму распределения цен."
   ]
  },
  {
   "cell_type": "code",
   "execution_count": 253,
   "metadata": {
    "scrolled": true
   },
   "outputs": [
    {
     "data": {
      "image/png": "[encoded data removed]",
      "text/plain": [
       "<Figure size 864x432 with 1 Axes>"
      ]
     },
     "metadata": {
      "needs_background": "light"
     },
     "output_type": "display_data"
    }
   ],
   "source": [
    "plt.figure(figsize = (12,6))\n",
    "companyes['funding_total'].plot(kind = 'hist', bins = 15,\n",
    "                                title = 'Рспределение объемов финансирования',\n",
    "                               xlabel = 'Объем финансирования',\n",
    "                               ylabel = 'Количество наблюдений')\n",
    "plt.show()"
   ]
  },
  {
   "cell_type": "markdown",
   "metadata": {},
   "source": [
    "Вновь стало заметно, как аномальные значения финансирования влияют на картину. Избавимся от них."
   ]
  },
  {
   "cell_type": "code",
   "execution_count": 254,
   "metadata": {},
   "outputs": [
    {
     "data": {
      "image/png": "[encoded data removed]",
      "text/plain": [
       "<Figure size 432x288 with 1 Axes>"
      ]
     },
     "metadata": {
      "needs_background": "light"
     },
     "output_type": "display_data"
    },
    {
     "data": {
      "text/plain": [
       "count    2.201600e+04\n",
       "mean     2.964868e+06\n",
       "std      3.527162e+06\n",
       "min      2.910000e+02\n",
       "25%      3.357500e+05\n",
       "50%      1.400000e+06\n",
       "75%      4.500000e+06\n",
       "max      1.412100e+07\n",
       "Name: funding_total, dtype: float64"
      ]
     },
     "metadata": {},
     "output_type": "display_data"
    },
    {
     "data": {
      "text/plain": [
       "5858"
      ]
     },
     "execution_count": 254,
     "metadata": {},
     "output_type": "execute_result"
    }
   ],
   "source": [
    "Q1 = companyes['funding_total'].quantile(0.25)\n",
    "Q3 = companyes['funding_total'].quantile(0.75)\n",
    "IQR = Q3 - Q1\n",
    "companyes[(companyes['funding_total'] > max(0,Q1 - 1.5*IQR)) & \n",
    "          (companyes['funding_total'] < Q3 + 1.5*IQR)]['funding_total'].plot(kind = 'hist', bins = 15,\n",
    "                                title = 'Рспределение объемов финансирования',\n",
    "                                xlabel = 'Объем финансирования',\n",
    "                                ylabel = 'Количество наблюдений')\n",
    "plt.show()\n",
    "display(companyes[(companyes['funding_total'] > max(0,Q1 - 1.5*IQR)) & \n",
    "          (companyes['funding_total'] < Q3 + 1.5*IQR)]['funding_total'].describe())\n",
    "companyes[companyes['funding_total'] > Q3 + 1.5*IQR]['funding_total'].count()"
   ]
  },
  {
   "cell_type": "markdown",
   "metadata": {},
   "source": [
    "Гистограмма распределения объемов финансирования компаний демонстрирует неравномерность в распределении. Многие значения сконцентрированы в промежутке от 0 до 0,57 * е7. Это доказывает, что эти значения наиболее типичные в рамках финансирования,  однако, в данном случае, значения большие 1,4 * е7 нельзя отнести к выбросам в данных, поскольку таких значений достаточно много (свыше 5858 значений).\n",
    "\n",
    "Описание таких данных и поиск типичных значений методом `describe()` мало применимы, поскольку не отражают всей полноты картины. Однако, если исключить из списка компании, которые не получили финансирования, то можно найти типичные объемы финансирования. Проверим это ради интереса."
   ]
  },
  {
   "cell_type": "code",
   "execution_count": 255,
   "metadata": {},
   "outputs": [
    {
     "data": {
      "image/png": "[encoded data removed]",
      "text/plain": [
       "<Figure size 864x432 with 1 Axes>"
      ]
     },
     "metadata": {
      "needs_background": "light"
     },
     "output_type": "display_data"
    },
    {
     "data": {
      "text/plain": [
       "count    2.787400e+04\n",
       "mean     1.481652e+07\n",
       "std      6.775936e+07\n",
       "min      2.910000e+02\n",
       "25%      5.000000e+05\n",
       "50%      2.564500e+06\n",
       "75%      1.100000e+07\n",
       "max      5.700000e+09\n",
       "Name: funding_total, dtype: float64"
      ]
     },
     "execution_count": 255,
     "metadata": {},
     "output_type": "execute_result"
    }
   ],
   "source": [
    "plt.figure(figsize = (12,6))\n",
    "sns.boxplot(y = 'funding_total', data = companyes[companyes['funding_total'] > 0], color = 'lightblue',\n",
    "           showfliers = False)\n",
    "plt.title('Количество средств в рамках финансирования')\n",
    "plt.ylabel('Объем средств e7')\n",
    "plt.show()\n",
    "companyes[companyes['funding_total'] > 0]['funding_total'].describe()"
   ]
  },
  {
   "cell_type": "markdown",
   "metadata": {},
   "source": [
    "Убирая из расчета компании, которые вовсе не получили никакого финансирования можно определить типичные значения финансирования: от 500 000 до 11 000 000 (медиана составляет 2 564 500)."
   ]
  },
  {
   "cell_type": "markdown",
   "metadata": {
    "id": "JqkRAQrIrJg2"
   },
   "source": [
    "\n",
    "### 3.3. Куплены забесплатно?\n",
    "\n",
    "* Исследуйте компании, которые были проданы за ноль или за один доллар, и при этом известно, что у них был ненулевой общий объём финансирования.\n",
    "\n",
    "* Рассчитайте аналитически верхнюю и нижнюю границу выбросов для столбца `funding_total` и укажите, каким процентилям границы соответствуют. Учитывая озвученные выше предпосылки и собственные соображения, сделайте выводы о корректности планируемой заказчиком замены нижней и верхней границы выбросов на значения, рассчитанные по процентилям."
   ]
  },
  {
   "cell_type": "code",
   "execution_count": 256,
   "metadata": {
    "id": "wJHXCBwwrJg2",
    "scrolled": true
   },
   "outputs": [
    {
     "name": "stdout",
     "output_type": "stream",
     "text": [
      "<class 'pandas.core.frame.DataFrame'>\n",
      "Int64Index: 1618 entries, 25 to 40872\n",
      "Data columns (total 19 columns):\n",
      " #   Column                Non-Null Count  Dtype         \n",
      "---  ------                --------------  -----         \n",
      " 0   company_id            1618 non-null   float64       \n",
      " 1   name                  1618 non-null   object        \n",
      " 2   category_code         1553 non-null   object        \n",
      " 3   status                1618 non-null   object        \n",
      " 4   founded_at            1285 non-null   datetime64[ns]\n",
      " 5   closed_at             13 non-null     datetime64[ns]\n",
      " 6   domain                1546 non-null   object        \n",
      " 7   network_username      812 non-null    object        \n",
      " 8   country_code          1536 non-null   object        \n",
      " 9   investment_rounds     1618 non-null   float64       \n",
      " 10  funding_rounds        1618 non-null   float64       \n",
      " 11  funding_total         1618 non-null   float64       \n",
      " 12  milestones            1618 non-null   float64       \n",
      " 13  id                    1618 non-null   float64       \n",
      " 14  acquiring_company_id  1618 non-null   float64       \n",
      " 15  acquired_company_id   1618 non-null   float64       \n",
      " 16  term_code             121 non-null    object        \n",
      " 17  price_amount          1618 non-null   float64       \n",
      " 18  acquired_at           1614 non-null   datetime64[ns]\n",
      "dtypes: datetime64[ns](3), float64(9), object(7)\n",
      "memory usage: 252.8+ KB\n"
     ]
    }
   ],
   "source": [
    "# Выберем данные из датасета по условия funding_totel > 0 и price_amount = 0 или 1\n",
    "caa_0_1 = company_and_acquier[(company_and_acquier['funding_total'] > 0) & \n",
    "                              ((company_and_acquier['price_amount'] == 0) | \n",
    "                              (company_and_acquier['price_amount'] == 1))]\n",
    "caa_0_1.info()"
   ]
  },
  {
   "cell_type": "markdown",
   "metadata": {},
   "source": [
    "По указанным условиям получена выборка из 1618 компаний.\n",
    "\n",
    "Опишем полученные данные методом `describe()`."
   ]
  },
  {
   "cell_type": "code",
   "execution_count": 257,
   "metadata": {},
   "outputs": [
    {
     "data": {
      "text/plain": [
       "count    1.618000e+03\n",
       "mean     1.815296e+07\n",
       "std      1.445030e+08\n",
       "min      3.750000e+03\n",
       "25%      2.000000e+06\n",
       "50%      6.000000e+06\n",
       "75%      1.550000e+07\n",
       "max      5.700000e+09\n",
       "Name: funding_total, dtype: float64"
      ]
     },
     "execution_count": 257,
     "metadata": {},
     "output_type": "execute_result"
    }
   ],
   "source": [
    "caa_0_1['funding_total'].describe()"
   ]
  },
  {
   "cell_type": "markdown",
   "metadata": {},
   "source": [
    "На данный момент 25 и 75 -процентиль полученных данных о суммарном объеме средств финансирования компаний равны 2 * е6 и 1.55 * е7. \n",
    "\n",
    "Рассчитаем границы выбросов аналитическим способом."
   ]
  },
  {
   "cell_type": "code",
   "execution_count": 258,
   "metadata": {},
   "outputs": [
    {
     "data": {
      "text/plain": [
       "'Нижняя граница равна: 0'"
      ]
     },
     "metadata": {},
     "output_type": "display_data"
    },
    {
     "data": {
      "text/plain": [
       "'Верхняя граница равна: 35750000.0'"
      ]
     },
     "metadata": {},
     "output_type": "display_data"
    }
   ],
   "source": [
    "Q1 = caa_0_1['funding_total'].quantile(0.25)\n",
    "Q3 = caa_0_1['funding_total'].quantile(0.75)\n",
    "IQR = Q3 - Q1\n",
    "display(f'Нижняя граница равна: {max(0,Q1 - 1.5*IQR)}')\n",
    "display(f'Верхняя граница равна: {Q3 + 1.5*IQR}')"
   ]
  },
  {
   "cell_type": "code",
   "execution_count": 259,
   "metadata": {
    "id": "-kA4CO27n2ql"
   },
   "outputs": [
    {
     "data": {
      "text/plain": [
       "0.0"
      ]
     },
     "metadata": {},
     "output_type": "display_data"
    },
    {
     "data": {
      "text/plain": [
       "90.91470951792337"
      ]
     },
     "execution_count": 259,
     "metadata": {},
     "output_type": "execute_result"
    }
   ],
   "source": [
    "# Воспользуемся функцией le(), которая показывает отмечает числа меньшие указанного 1, а большие 0\n",
    "# в сочетании с функцией mean() найдем долю чисел серии, которые меньше указанного значения.\n",
    "low = caa_0_1['funding_total'].le(0).mean() * 100\n",
    "high = caa_0_1['funding_total'].le(Q3 + 1.5*IQR).mean() * 100\n",
    "display(low)\n",
    "high"
   ]
  },
  {
   "cell_type": "markdown",
   "metadata": {},
   "source": [
    "Таким образом, границы выбросов по столбцу `funding_total` соотвествуют 0- и 91- процентилю.\n",
    "\n",
    "Теперь выведем значения этих процентилей."
   ]
  },
  {
   "cell_type": "code",
   "execution_count": 260,
   "metadata": {},
   "outputs": [
    {
     "data": {
      "text/plain": [
       "3750.0"
      ]
     },
     "metadata": {},
     "output_type": "display_data"
    },
    {
     "data": {
      "text/plain": [
       "35894000.00000001"
      ]
     },
     "execution_count": 260,
     "metadata": {},
     "output_type": "execute_result"
    }
   ],
   "source": [
    "display(caa_0_1['funding_total'].quantile(0))\n",
    "caa_0_1['funding_total'].quantile(0.91)"
   ]
  },
  {
   "cell_type": "markdown",
   "metadata": {},
   "source": [
    "Получиили следующие значения - нижний процентиль (0-процентиль) составил 3750, а верхний (0.91-процентиль) - 35894000.\n",
    "\n",
    "Учитывая своебразность данных, а также большое количество аномальных значений, замена имеет место быть и будет корректна. При этом, значения процентилей, для этих компаний,не сильно отличаются от границ выбросов, так как все анализируемые компании имеют финансирование отличное от 0."
   ]
  },
  {
   "cell_type": "markdown",
   "metadata": {
    "id": "mEiWpROjrJg2"
   },
   "source": [
    "\n",
    "### 3.4. Цены стартапов по категориям\n",
    "\n",
    "Категории стартапов с наибольшими ценами и значительным разбросом цен могут быть наиболее привлекательными для крупных инвесторов, которые готовы к высоким рискам ради потенциально больших доходов. Среди категорий стартапов выделите категории стартапов, характеризующиеся:\n",
    "\n",
    "* наибольшими ценами;\n",
    "* и наибольшим разбросом цен за стартап.\n",
    "\n",
    "Объясните, почему решили составить топ именно из такого числа категорий и почему рассчитывали именно так."
   ]
  },
  {
   "cell_type": "code",
   "execution_count": 261,
   "metadata": {
    "id": "jQ09dYUWrJg2",
    "scrolled": true
   },
   "outputs": [
    {
     "data": {
      "text/plain": [
       "category_code\n",
       "semiconductor      8100000.0\n",
       "cleantech          6000000.0\n",
       "medical            5400000.0\n",
       "nanotech           5115960.0\n",
       "biotech            4000000.0\n",
       "security           2024640.0\n",
       "analytics          2000000.0\n",
       "network_hosting    2000000.0\n",
       "manufacturing      1895040.0\n",
       "enterprise         1617100.0\n",
       "hardware           1408400.0\n",
       "finance            1350000.0\n",
       "automotive         1300000.0\n",
       "fashion            1200000.0\n",
       "transportation     1100000.0\n",
       "Name: funding_total, dtype: float64"
      ]
     },
     "execution_count": 261,
     "metadata": {},
     "output_type": "execute_result"
    }
   ],
   "source": [
    "# Сгруппируем данные по категории компании и проверим медианное значение общего финансирования\n",
    "companyes_median_top = companyes.groupby('category_code')['funding_total'].median().sort_values(ascending = False).head(15)\n",
    "companyes_median_top"
   ]
  },
  {
   "cell_type": "markdown",
   "metadata": {},
   "source": [
    "Получили Топ-15 категорий компаний, которые характеризуются наибольшими значениями типичного объема финансирования. Визуализируем эти данные для удобства восприятия."
   ]
  },
  {
   "cell_type": "code",
   "execution_count": 262,
   "metadata": {},
   "outputs": [
    {
     "data": {
      "image/png": "[encoded data removed]",
      "text/plain": [
       "<Figure size 432x288 with 1 Axes>"
      ]
     },
     "metadata": {
      "needs_background": "light"
     },
     "output_type": "display_data"
    }
   ],
   "source": [
    "companyes_median_top.sort_values().plot(kind='barh', color = 'lightblue', title = 'Топ-15 компаний по типичным объемам финансирования',\n",
    "                         xlabel = 'Категория')\n",
    "plt.grid(axis = 'x')\n",
    "plt.show()"
   ]
  },
  {
   "cell_type": "markdown",
   "metadata": {},
   "source": [
    "Из полученных данных и диаграммы видно, что самыми большими типичными значениями объема финансирования обладают компании технического направления деятельности (полупроводники, чистое производство/чистые технлологии,), также встречаются междицисциплинарные (нанотехнологии и биотехнологии), медицина, транспорт, финансы и мода."
   ]
  },
  {
   "cell_type": "code",
   "execution_count": 263,
   "metadata": {},
   "outputs": [
    {
     "data": {
      "text/plain": [
       "category_code\n",
       "automotive          1.832047e+08\n",
       "mobile              1.459792e+08\n",
       "social              1.114758e+08\n",
       "health              1.050341e+08\n",
       "nanotech            9.596109e+07\n",
       "manufacturing       9.304530e+07\n",
       "cleantech           9.215550e+07\n",
       "network_hosting     6.288838e+07\n",
       "public_relations    5.840271e+07\n",
       "biotech             5.465791e+07\n",
       "transportation      5.372778e+07\n",
       "hardware            5.078738e+07\n",
       "news                5.054718e+07\n",
       "government          4.865810e+07\n",
       "travel              4.806784e+07\n",
       "Name: funding_total, dtype: float64"
      ]
     },
     "execution_count": 263,
     "metadata": {},
     "output_type": "execute_result"
    }
   ],
   "source": [
    "# Сгруппируем данные по категории компании и проверим среднее отклонение значение общего фина\n",
    "companyes_std_top = companyes.groupby('category_code')['funding_total'].std().sort_values(ascending = False).head(15)\n",
    "companyes_std_top"
   ]
  },
  {
   "cell_type": "markdown",
   "metadata": {},
   "source": [
    "Теперь рассмотрим распределение компаний по размаха в объемах финансирования."
   ]
  },
  {
   "cell_type": "code",
   "execution_count": 264,
   "metadata": {},
   "outputs": [
    {
     "data": {
      "image/png": "[encoded data removed]",
      "text/plain": [
       "<Figure size 432x288 with 1 Axes>"
      ]
     },
     "metadata": {
      "needs_background": "light"
     },
     "output_type": "display_data"
    }
   ],
   "source": [
    "companyes_std_top.sort_values().plot(kind='barh', color = 'lightblue', title = 'Топ-15 компаний по размаху объема финансирования',\n",
    "                         xlabel = 'Категория')\n",
    "plt.grid(axis = 'x')\n",
    "plt.show()"
   ]
  },
  {
   "cell_type": "markdown",
   "metadata": {},
   "source": [
    "Список категорий, вошедший в Топ-15 по размаху объема финансирования отличается от Топ-15 по типичному финансированию. В нем, в отличии от предыдущего, присуствуют социальные и государственные направления (социальная категория, связ ис общественность, новости, государственные компаниий, туристические)."
   ]
  },
  {
   "cell_type": "markdown",
   "metadata": {
    "id": "MFONscXPn29F"
   },
   "source": [
    "Принимая во внимание большой размах в общем финансировании компаний использование среднего значения для оценки категорий с наибольшим объемом финансирования невозможно, потому что оно подвержено большим аномальным значениям, присуствующим в таблице. В связи с этим для определениях типичных объемов финансирования в рамках категории применина медиана. В свою очередь разброс цен изучен за счет среднеквадратичного отклонения, котоое как раз указывает на стпень разброса - чем больше значение, тем больше разброс. Сформировав Топ-15 значений по каждому из показателей можно заметить, какие компании интереснее всего для инвесторов.  \n",
    "К таким компаниям можно отнести:\n",
    "- Нанотехнологии;\n",
    "- Чистые технологи;\n",
    "- Мануфактуру;\n",
    "- Интернет-хостинг;\n",
    "- Биотехнологии;\n",
    "- Разработку ПО;\n",
    "- Автоматизацию;\n",
    "- Транспорт.\n",
    "\n",
    "При этом, инвестором также стоит обратить внимание на полупроводниковые компании, они не характеризуются большим разбросов в объеме, но демострируют высокий объем финансирования по сравнению с остальными."
   ]
  },
  {
   "cell_type": "markdown",
   "metadata": {
    "id": "ADOfyVY_rJg3"
   },
   "source": [
    "\n",
    "### 3.5. Сколько раундов продержится стартап перед покупкой\n",
    "\n",
    "* Необходимо проанализировать столбец `funding_rounds`. Исследуйте значения столбца. Заказчика интересует типичное значение количества раундов для каждого возможного статуса стартапа.\n",
    "\n",
    "* Постройте график, который отображает, сколько в среднем раундов финансирования проходило для стартапов из каждой группы. Сделайте выводы."
   ]
  },
  {
   "cell_type": "code",
   "execution_count": 265,
   "metadata": {
    "id": "hgXMPC4WrJg3"
   },
   "outputs": [
    {
     "data": {
      "text/plain": [
       "count    40747.000000\n",
       "mean         1.291531\n",
       "std          1.264604\n",
       "min          0.000000\n",
       "25%          1.000000\n",
       "50%          1.000000\n",
       "75%          2.000000\n",
       "max         15.000000\n",
       "Name: funding_rounds, dtype: float64"
      ]
     },
     "execution_count": 265,
     "metadata": {},
     "output_type": "execute_result"
    }
   ],
   "source": [
    "# Для начала изучим статистические показатели столбца и оценим их\n",
    "companyes['funding_rounds'].describe()"
   ]
  },
  {
   "cell_type": "markdown",
   "metadata": {},
   "source": [
    "Среднее значение и медиана приблизительно равны и составляют 1,3 и 1 соотвественно. Хотя разница и небольшая, но учитывая мнимальное и максимальное значение (0 и 15 соответственно) размах в представленных значениях небольшой, что говорит о том, что среднее в данном случае подвержено аномальным значениям. Также об этом говорит среднеквадратичное отклонение, которое почти равно среднему. 25- и 75-процентиль равно 1 и 2 раундам."
   ]
  },
  {
   "cell_type": "code",
   "execution_count": 266,
   "metadata": {},
   "outputs": [
    {
     "data": {
      "text/plain": [
       "status\n",
       "acquired     0.0\n",
       "closed       1.0\n",
       "ipo          1.0\n",
       "operating    1.0\n",
       "Name: funding_rounds, dtype: float64"
      ]
     },
     "execution_count": 266,
     "metadata": {},
     "output_type": "execute_result"
    }
   ],
   "source": [
    "# Найдем типичные значения раундов в зависимости от статуса компании, для этого вопспользуемся median\n",
    "cfrm = companyes.groupby('status')['funding_rounds'].median()\n",
    "cfrm"
   ]
  },
  {
   "cell_type": "markdown",
   "metadata": {},
   "source": [
    "Среди всех групп компаний, распределенных по статусу, типичным количеством раундов финансирования является 1. Исклчючением являются выкупеленные стартапы, у них нет раундов финансирования, что может говорить о том, что данные стартапы были весьма потенциальны и интересны инвесторам, так как сразу выкупались.\n",
    "\n",
    "Теперь оценим средние значения количество раундов для каждой группы стартапов и сопоставим их с общим средним значением."
   ]
  },
  {
   "cell_type": "code",
   "execution_count": 267,
   "metadata": {},
   "outputs": [
    {
     "data": {
      "image/png": "[encoded data removed]",
      "text/plain": [
       "<Figure size 864x432 with 1 Axes>"
      ]
     },
     "metadata": {
      "needs_background": "light"
     },
     "output_type": "display_data"
    },
    {
     "data": {
      "text/plain": [
       "status\n",
       "acquired     0.523526\n",
       "closed       1.381453\n",
       "ipo          1.934375\n",
       "operating    1.522658\n",
       "Name: funding_rounds, dtype: float64"
      ]
     },
     "execution_count": 267,
     "metadata": {},
     "output_type": "execute_result"
    }
   ],
   "source": [
    "plt.figure(figsize=(12,6))\n",
    "companyes.groupby('status')['funding_rounds'].mean().plot (kind = 'bar',\n",
    "                                                          title = 'Среднее количество раундов для каждой группы компании',\n",
    "                                                          xlabel = 'Группа компаний',\n",
    "                                                          ylabel = 'Количество раундов',\n",
    "                                                          rot = 0,\n",
    "                                                          color = 'lightblue')\n",
    "mean = companyes['funding_rounds'].mean()\n",
    "plt.axhline(mean, color = 'red', linestyle = '--', linewidth = 1)\n",
    "plt.grid(axis = 'y')\n",
    "plt.show()\n",
    "companyes.groupby('status')['funding_rounds'].mean()"
   ]
  },
  {
   "cell_type": "markdown",
   "metadata": {},
   "source": [
    "Из графика видно, что меньше всего среднее значение раундов для выкупленных стартапов, оно составляет свыше 0,5 раунда на компанию. Во всех остальных случаях групп среднее количество раундов выше общего среднего значения по всем компаниям. При этом, больше всего раундов финансирования в компания, которые занялись первичным размещением акций (1,93 раунда на компнаию). Закрытые компании чаще всего проходят лишь один раунд финансирования, В свою очередь действующие - 1,52 раунда на компанию."
   ]
  },
  {
   "cell_type": "markdown",
   "metadata": {},
   "source": [
    "### Промежуточный вывод по разделу:\n",
    "\n",
    "В ходе работы над разделом было выполнено 4 задачи от заказчика:\n",
    "- Анализ выбросов. Рассмотрены знанчения общего финансирования компаний, которые удовлетворяли условию что они имеют хотя бы один инвестиционный или финансовый раунд или были выкуплены;\n",
    "- Куплены забесплатно? Именно такой вопрос был задан заказчиком для изучения компаний, которые при наличии финасирования были проданы за 0 ил 1 доллар. В ходе анализа таких компаний (1618 позиций в датафрейме) были получены данные о типичных объемах финансирования;\n",
    "- Цены стартапов по категориям. По запросу был выведен Топ-15 категорий, которые получают большое типичное финансирование, и   Топ-15 категорий стартапов, которые имеют наибольший разброс финансирования;\n",
    "- Сколько раундов продержится стартап перед покупкой. В среднем все стартапы имеют хотя бы один раунд финасирования это демострируют и медиана и среднее значение (больше чем медиана)."
   ]
  },
  {
   "cell_type": "markdown",
   "metadata": {
    "id": "VAFEZ2HBrJg3"
   },
   "source": [
    "\n",
    "## Шаг 4. Итоговый вывод и рекомендации\n",
    "\n",
    "Опишите, что было сделано в проекте, какие были сделаны выводы, подкрепляют ли они друг друга или заставляют сомневаться в полученных результатах."
   ]
  },
  {
   "cell_type": "markdown",
   "metadata": {},
   "source": [
    "### Вывод по проделнной работе\n",
    "\n",
    "В работе были выполенны все задания заказчика. \n",
    "\n",
    "**На первом этапе** произведено **знакомство с данными** и изучена их структура. **Выдвинуты первичные гипотезы** о хранении данных, причинах появления пропусков, а также **тонких (пробмленых) местах в данных, которые могут нести риск** в проведении анализа и исследования.  \n",
    "\n",
    "**На втором этапе** осуществлена предобработка данных и даны ответы на первые вопросы заказчика, связанные с анализом данных.  \n",
    "- **Определена тенденция в количестве и объемах финансирования стартапов**. **Объемы финансирования с 2005 года ежегодно уменьшались**, однако **в 2013 году показатели увелчились по сравнению с 2012 годом**. **Количество раундов** финансирования ежегодно **увеличивалось**. Таким образом, пусть и объемы становились меньше, но **ежегодно** (с 2005 по 2013) в рамках финансирования стартапы получали **почти одинаковые суммы**.\n",
    "- Рассмотрено как образование сотрудников влияло на размер (в зависимсоти от численности сотрудников) стартапа. **Больше всего сотрудников указали образование в стартапах отнесенных к категории крупных**. **В осталных категориях** среднее количество сотрудников указавших образование **почти одинаково** и отличается лишь на пару процентов (меньше всего в малых компаниях). Также оценена возможность **использования датасета `degrees`**. Данные при его добавлении изменяются не сильно, что **доказыет возможность его присоединения для осуществления анализа**.\n",
    "- Изучена возможность замены столбца с идентифкатором компании на **`network_username`**, который также встречается в нескольких датасетах. По результатам проверки, столбцы в разных таблицах не соотносятся друг с другом, что говорит о **недопустимости использования данного поля для объединения датасетов**.\n",
    "- Проверен проблемный **датасет `company_and_rounds`**. На первом этапе была выдвинута гипотеза о том, что данные содержат большое количество пропусков из-за объединения двух датасетов, которые имели разные размеры и разные данные. При детальном рассмотрении датасета, учитывая гипотезу заказчика о том, что данные раньше хранились иначе, более удобным способом для анализа, было выяснено что данные хранили в двух разных датасетах, которые содержали информацию только общую информацию о компаниях, общее количество раундов финансирования/инвестирования, а также суммарные объемы финансирования, и информацию о каждом раунде финансирования соотвественно. В ходе работы **данные были разделены на два разных датасета** для удосбтва дальнейшей работы с ним.  \n",
    "\n",
    "На третьем этапе проведен исследовательский анализ данных, о результатах которого будет написано ниже."
   ]
  },
  {
   "cell_type": "markdown",
   "metadata": {},
   "source": [
    "### Общие выводы по блоку исследования данных\n",
    "\n",
    "В ходе работы над разделом было выполнено 4 задачи от заказчика:\n",
    "- Анализ выбросов. Рассмотрены знанчения общего финансирования компаний, которые удовлетворяли условию что они имеют хотя бы один инвестиционный или финансовый раунд или были выкуплены. В результате было получено, что **больше 25% стартапов были выкуплены сразу и не получили никакого финансирования**, при этом **типичными** можно назвать **рамки от 0 до 5  650 000** (предельное значение 14 000 000 - остальное аномальные значения для указанной выборки компаний). \n",
    "- Куплены забесплатно? Именно такой вопрос был задан заказчиком для изучения компаний, которые при наличии финасирования были проданы за 0 ил 1 доллар. В ходе анализа таких компаний (1618 позиций в датафрейме) были получены данные **о типичных объемах финансирования**: большая часть значений находится в пределах **от 2 000 000 до 15 500 000, медиана составила 6 000 000**. Пожелания заказчика **заменить аналитически рассчитанные границы выбросов на ближайшие процентили**, к которым они подходят **может быть** вполне **корректным** учитывая специфику данных. Для анализа причин стоит детальнее оценить данные о купленных компаниях **(есть предположение, что фирмы могли создаваться сотрудниками организаций, которые их впоследствии выкупали и внедряли как новое направление деятельности)**.\n",
    "- Цены стартапов по категориям. По запросу был выведен Топ-15 категорий, которые получают большое типичное финансирование, и   Топ-15 категорий стартапов, которые имеют наибольший разброс финансирования. Выяснены категории, которые относятся можно отнести к особенно интересным для инвесторов: **Нанотехнологии; Чистые технологи; Мануфактуру; Интернет-хостинг; Биотехнологии; Разработку ПО; Автоматизацию; Транспорт**.\n",
    "- Сколько раундов продержится стартап перед покупкой. В среднем **все стартапы в среднем имеют хотя бы один раунд финансирования** это демострируют и медиана и среднее значение (больше чем медиана). **Выкупленные реже всего проходят хотя бы один раунд финансирования**, среди всех групп категорий разделенных по их статусу, а **большинство и вовсе выкупаются не пройдя даже одного раунда**. **Больше всего раундов финансирования** проходят **компании, которые занялись первичным размещением акций**, и действующие компании, которые не размещали акций (1,93 раунда на компанию и  1,52 раунда соответственно)."
   ]
  },
  {
   "cell_type": "markdown",
   "metadata": {},
   "source": [
    "### Рекомендации заказчику:\n",
    "\n",
    "Выводы и результаты полученные в ходе исследования **сложно назвать релевантными** из-за большого количества пропусков и наличию аномальных значений, которые сильно отражаются на исследовательском анализе. **Особенно это заметно в статистических показателях** при изучении выборок компаний по определенным условиям. Всего, **в первоначальном датасете было свыше 196 тысяч записей**, которые **после обработки** условий превратились в выборку из **40 тысяч**. При изучении **компаний купленных за 0 или 1 доллар** данных для совершения анализа **катострафически мало - 1618 записей**. На данном этапе **однозначно можно довериться Топу категорий стартапов**, в которых будут заинтересованы заказчику.\n",
    "\n",
    "**Для получения более точных результатов стоит собрат еще больше данных.**"
   ]
  }
 ],
 "metadata": {
  "ExecuteTimeLog": [
   {
    "duration": 1362,
    "start_time": "2025-02-17T10:53:33.489Z"
   },
   {
    "duration": 9942,
    "start_time": "2025-02-17T10:54:01.215Z"
   },
   {
    "duration": 66,
    "start_time": "2025-02-17T10:54:17.647Z"
   },
   {
    "duration": 255,
    "start_time": "2025-02-17T11:01:30.665Z"
   },
   {
    "duration": 2521,
    "start_time": "2025-02-17T11:01:53.416Z"
   },
   {
    "duration": 34,
    "start_time": "2025-02-17T13:03:21.128Z"
   },
   {
    "duration": 34,
    "start_time": "2025-02-17T13:03:27.040Z"
   },
   {
    "duration": 32,
    "start_time": "2025-02-17T13:03:55.665Z"
   },
   {
    "duration": 17,
    "start_time": "2025-02-17T13:09:14.924Z"
   },
   {
    "duration": 10,
    "start_time": "2025-02-17T13:09:39.428Z"
   },
   {
    "duration": 9,
    "start_time": "2025-02-17T13:09:45.543Z"
   },
   {
    "duration": 8,
    "start_time": "2025-02-17T13:09:56.882Z"
   },
   {
    "duration": 12,
    "start_time": "2025-02-17T15:06:28.225Z"
   },
   {
    "duration": 12,
    "start_time": "2025-02-17T15:29:41.841Z"
   },
   {
    "duration": 1704,
    "start_time": "2025-02-17T15:35:38.143Z"
   },
   {
    "duration": 7,
    "start_time": "2025-02-17T15:35:57.842Z"
   },
   {
    "duration": 129,
    "start_time": "2025-02-17T16:44:11.753Z"
   },
   {
    "duration": 9,
    "start_time": "2025-02-18T06:38:54.961Z"
   },
   {
    "duration": 47,
    "start_time": "2025-02-18T06:39:04.459Z"
   },
   {
    "duration": 3874,
    "start_time": "2025-02-18T06:39:10.346Z"
   },
   {
    "duration": 1535,
    "start_time": "2025-02-18T06:39:14.223Z"
   },
   {
    "duration": 3090,
    "start_time": "2025-02-18T06:39:15.760Z"
   },
   {
    "duration": 25,
    "start_time": "2025-02-18T06:39:18.852Z"
   },
   {
    "duration": 44,
    "start_time": "2025-02-18T06:39:18.879Z"
   },
   {
    "duration": 38,
    "start_time": "2025-02-18T06:39:18.925Z"
   },
   {
    "duration": 94,
    "start_time": "2025-02-18T06:39:18.965Z"
   },
   {
    "duration": 138,
    "start_time": "2025-02-18T06:39:19.061Z"
   },
   {
    "duration": 2009,
    "start_time": "2025-02-18T06:39:19.201Z"
   },
   {
    "duration": 13,
    "start_time": "2025-02-18T06:40:01.785Z"
   },
   {
    "duration": 1931,
    "start_time": "2025-02-18T06:40:15.945Z"
   },
   {
    "duration": 1969,
    "start_time": "2025-02-18T06:40:45.015Z"
   },
   {
    "duration": 1883,
    "start_time": "2025-02-18T06:41:23.545Z"
   },
   {
    "duration": 1904,
    "start_time": "2025-02-18T06:42:13.507Z"
   },
   {
    "duration": 26,
    "start_time": "2025-02-18T06:42:23.843Z"
   },
   {
    "duration": 5,
    "start_time": "2025-02-18T06:42:37.872Z"
   },
   {
    "duration": 1833,
    "start_time": "2025-02-18T06:42:48.761Z"
   },
   {
    "duration": 26,
    "start_time": "2025-02-18T06:43:12.721Z"
   },
   {
    "duration": 2049,
    "start_time": "2025-02-18T06:44:30.820Z"
   },
   {
    "duration": 28192,
    "start_time": "2025-02-18T09:46:55.412Z"
   },
   {
    "duration": 1477,
    "start_time": "2025-02-18T09:47:23.606Z"
   },
   {
    "duration": 2116,
    "start_time": "2025-02-18T09:47:25.085Z"
   },
   {
    "duration": 22,
    "start_time": "2025-02-18T09:47:27.202Z"
   },
   {
    "duration": 7,
    "start_time": "2025-02-18T09:47:27.227Z"
   },
   {
    "duration": 11,
    "start_time": "2025-02-18T09:47:27.235Z"
   },
   {
    "duration": 41,
    "start_time": "2025-02-18T09:47:27.248Z"
   },
   {
    "duration": 114,
    "start_time": "2025-02-18T09:47:27.290Z"
   },
   {
    "duration": 12,
    "start_time": "2025-02-18T09:47:27.406Z"
   },
   {
    "duration": 12,
    "start_time": "2025-02-18T09:49:14.430Z"
   },
   {
    "duration": 10,
    "start_time": "2025-02-18T09:49:19.620Z"
   },
   {
    "duration": 100,
    "start_time": "2025-02-18T09:49:36.180Z"
   },
   {
    "duration": 10,
    "start_time": "2025-02-18T09:50:02.570Z"
   },
   {
    "duration": 14,
    "start_time": "2025-02-18T09:51:43.240Z"
   },
   {
    "duration": 17,
    "start_time": "2025-02-18T09:51:50.751Z"
   },
   {
    "duration": 14,
    "start_time": "2025-02-18T09:53:42.160Z"
   },
   {
    "duration": 9,
    "start_time": "2025-02-18T09:53:51.281Z"
   },
   {
    "duration": 22,
    "start_time": "2025-02-18T09:54:03.588Z"
   },
   {
    "duration": 12,
    "start_time": "2025-02-18T09:57:33.405Z"
   },
   {
    "duration": 41,
    "start_time": "2025-02-18T10:01:08.120Z"
   },
   {
    "duration": 95,
    "start_time": "2025-02-18T10:05:43.719Z"
   },
   {
    "duration": 164,
    "start_time": "2025-02-18T10:26:29.132Z"
   },
   {
    "duration": 30,
    "start_time": "2025-02-18T11:22:07.247Z"
   },
   {
    "duration": 26,
    "start_time": "2025-02-18T11:23:36.868Z"
   },
   {
    "duration": 16,
    "start_time": "2025-02-18T11:30:59.429Z"
   },
   {
    "duration": 8,
    "start_time": "2025-02-18T11:36:42.678Z"
   },
   {
    "duration": 2072,
    "start_time": "2025-02-18T11:38:38.458Z"
   },
   {
    "duration": 25,
    "start_time": "2025-02-18T11:38:49.988Z"
   },
   {
    "duration": 13,
    "start_time": "2025-02-18T11:40:05.719Z"
   },
   {
    "duration": 22,
    "start_time": "2025-02-18T11:40:30.777Z"
   },
   {
    "duration": 26,
    "start_time": "2025-02-18T11:41:07.415Z"
   },
   {
    "duration": 31,
    "start_time": "2025-02-18T11:43:43.467Z"
   },
   {
    "duration": 20,
    "start_time": "2025-02-18T11:49:22.476Z"
   },
   {
    "duration": 18,
    "start_time": "2025-02-18T11:52:17.191Z"
   },
   {
    "duration": 15,
    "start_time": "2025-02-18T11:58:21.670Z"
   },
   {
    "duration": 61,
    "start_time": "2025-02-18T11:58:33.527Z"
   },
   {
    "duration": 37,
    "start_time": "2025-02-18T12:12:11.335Z"
   },
   {
    "duration": 32,
    "start_time": "2025-02-18T12:40:24.255Z"
   },
   {
    "duration": 11,
    "start_time": "2025-02-18T12:58:47.666Z"
   },
   {
    "duration": 7,
    "start_time": "2025-02-18T12:59:20.862Z"
   },
   {
    "duration": 6,
    "start_time": "2025-02-18T13:05:00.965Z"
   },
   {
    "duration": 2240,
    "start_time": "2025-02-18T13:05:55.714Z"
   },
   {
    "duration": 8,
    "start_time": "2025-02-18T13:06:05.326Z"
   },
   {
    "duration": 11,
    "start_time": "2025-02-18T13:06:15.526Z"
   },
   {
    "duration": 19,
    "start_time": "2025-02-18T13:06:42.297Z"
   },
   {
    "duration": 6,
    "start_time": "2025-02-18T13:12:40.669Z"
   },
   {
    "duration": 6,
    "start_time": "2025-02-18T13:13:11.070Z"
   },
   {
    "duration": 7,
    "start_time": "2025-02-18T13:13:30.969Z"
   },
   {
    "duration": 7,
    "start_time": "2025-02-18T13:13:50.577Z"
   },
   {
    "duration": 7,
    "start_time": "2025-02-18T13:15:06.391Z"
   },
   {
    "duration": 105,
    "start_time": "2025-02-18T13:30:41.451Z"
   },
   {
    "duration": 159,
    "start_time": "2025-02-18T13:31:26.121Z"
   },
   {
    "duration": 117,
    "start_time": "2025-02-18T13:46:40.904Z"
   },
   {
    "duration": 54,
    "start_time": "2025-02-18T13:51:02.568Z"
   },
   {
    "duration": 108,
    "start_time": "2025-02-18T13:51:49.086Z"
   },
   {
    "duration": 81,
    "start_time": "2025-02-18T13:52:06.638Z"
   },
   {
    "duration": 16,
    "start_time": "2025-02-18T14:02:47.803Z"
   },
   {
    "duration": 8,
    "start_time": "2025-02-18T14:54:28.833Z"
   },
   {
    "duration": 24,
    "start_time": "2025-02-18T14:54:45.539Z"
   },
   {
    "duration": 19,
    "start_time": "2025-02-18T14:57:50.602Z"
   },
   {
    "duration": 18,
    "start_time": "2025-02-18T14:58:33.789Z"
   },
   {
    "duration": 22,
    "start_time": "2025-02-18T14:58:42.113Z"
   },
   {
    "duration": 54,
    "start_time": "2025-02-18T19:48:01.942Z"
   },
   {
    "duration": 3924,
    "start_time": "2025-02-18T19:48:08.320Z"
   },
   {
    "duration": 1520,
    "start_time": "2025-02-18T19:48:12.247Z"
   },
   {
    "duration": 2151,
    "start_time": "2025-02-18T19:48:13.769Z"
   },
   {
    "duration": 25,
    "start_time": "2025-02-18T19:48:15.922Z"
   },
   {
    "duration": 10,
    "start_time": "2025-02-18T19:48:15.949Z"
   },
   {
    "duration": 9,
    "start_time": "2025-02-18T19:48:15.960Z"
   },
   {
    "duration": 6,
    "start_time": "2025-02-18T19:48:15.971Z"
   },
   {
    "duration": 172,
    "start_time": "2025-02-18T19:48:15.979Z"
   },
   {
    "duration": 22,
    "start_time": "2025-02-18T19:48:16.152Z"
   },
   {
    "duration": 16,
    "start_time": "2025-02-18T19:48:16.176Z"
   },
   {
    "duration": 62,
    "start_time": "2025-02-18T19:48:16.194Z"
   },
   {
    "duration": 107,
    "start_time": "2025-02-18T19:48:16.258Z"
   },
   {
    "duration": 196,
    "start_time": "2025-02-18T19:48:16.366Z"
   },
   {
    "duration": 26,
    "start_time": "2025-02-18T19:48:16.565Z"
   },
   {
    "duration": 17,
    "start_time": "2025-02-18T19:48:16.592Z"
   },
   {
    "duration": 29,
    "start_time": "2025-02-18T19:48:16.611Z"
   },
   {
    "duration": 26,
    "start_time": "2025-02-18T19:48:16.642Z"
   },
   {
    "duration": 34,
    "start_time": "2025-02-18T19:48:16.669Z"
   },
   {
    "duration": 24,
    "start_time": "2025-02-18T19:48:16.733Z"
   },
   {
    "duration": 20,
    "start_time": "2025-02-18T19:48:16.759Z"
   },
   {
    "duration": 78,
    "start_time": "2025-02-18T19:48:16.781Z"
   },
   {
    "duration": 40,
    "start_time": "2025-02-18T19:48:16.861Z"
   },
   {
    "duration": 50,
    "start_time": "2025-02-18T19:48:16.903Z"
   },
   {
    "duration": 33,
    "start_time": "2025-02-18T19:48:16.955Z"
   },
   {
    "duration": 12,
    "start_time": "2025-02-18T19:48:16.990Z"
   },
   {
    "duration": 19,
    "start_time": "2025-02-18T19:48:17.003Z"
   },
   {
    "duration": 11,
    "start_time": "2025-02-18T19:48:17.024Z"
   },
   {
    "duration": 8,
    "start_time": "2025-02-18T19:48:17.037Z"
   },
   {
    "duration": 119,
    "start_time": "2025-02-18T19:48:17.047Z"
   },
   {
    "duration": 165,
    "start_time": "2025-02-18T19:48:17.168Z"
   },
   {
    "duration": 118,
    "start_time": "2025-02-18T19:48:17.335Z"
   },
   {
    "duration": 188,
    "start_time": "2025-02-18T19:48:17.455Z"
   },
   {
    "duration": 105,
    "start_time": "2025-02-18T19:48:17.645Z"
   },
   {
    "duration": 23,
    "start_time": "2025-02-18T19:48:17.752Z"
   },
   {
    "duration": 33,
    "start_time": "2025-02-18T19:48:17.777Z"
   },
   {
    "duration": 21,
    "start_time": "2025-02-18T19:48:17.833Z"
   },
   {
    "duration": 54,
    "start_time": "2025-02-18T19:48:17.856Z"
   },
   {
    "duration": 26,
    "start_time": "2025-02-18T19:50:14.677Z"
   },
   {
    "duration": 9,
    "start_time": "2025-02-18T19:50:20.971Z"
   },
   {
    "duration": 70,
    "start_time": "2025-02-18T19:51:18.122Z"
   },
   {
    "duration": 55,
    "start_time": "2025-02-18T19:51:23.629Z"
   },
   {
    "duration": 21,
    "start_time": "2025-02-18T19:51:32.832Z"
   },
   {
    "duration": 148,
    "start_time": "2025-02-18T21:19:53.012Z"
   },
   {
    "duration": 8,
    "start_time": "2025-02-18T22:00:20.389Z"
   },
   {
    "duration": 79,
    "start_time": "2025-02-18T22:15:47.057Z"
   },
   {
    "duration": 25,
    "start_time": "2025-02-18T22:15:56.317Z"
   },
   {
    "duration": 533,
    "start_time": "2025-02-18T22:16:10.292Z"
   },
   {
    "duration": 19,
    "start_time": "2025-02-18T22:18:45.158Z"
   },
   {
    "duration": 59,
    "start_time": "2025-02-18T22:18:52.804Z"
   },
   {
    "duration": 41,
    "start_time": "2025-02-18T22:19:04.057Z"
   },
   {
    "duration": 13,
    "start_time": "2025-02-18T22:28:07.109Z"
   },
   {
    "duration": 18,
    "start_time": "2025-02-18T22:32:07.307Z"
   },
   {
    "duration": 15,
    "start_time": "2025-02-18T22:32:57.135Z"
   },
   {
    "duration": 14,
    "start_time": "2025-02-18T22:33:52.900Z"
   },
   {
    "duration": 13,
    "start_time": "2025-02-18T22:34:01.738Z"
   },
   {
    "duration": 12,
    "start_time": "2025-02-18T22:34:13.748Z"
   },
   {
    "duration": 13,
    "start_time": "2025-02-18T22:34:22.388Z"
   },
   {
    "duration": 14,
    "start_time": "2025-02-18T22:34:36.747Z"
   },
   {
    "duration": 5,
    "start_time": "2025-02-18T22:34:47.055Z"
   },
   {
    "duration": 5,
    "start_time": "2025-02-18T22:34:55.251Z"
   },
   {
    "duration": 21,
    "start_time": "2025-02-18T22:35:07.563Z"
   },
   {
    "duration": 13,
    "start_time": "2025-02-18T22:36:23.058Z"
   },
   {
    "duration": 20,
    "start_time": "2025-02-18T22:36:41.334Z"
   },
   {
    "duration": 17,
    "start_time": "2025-02-18T22:36:46.074Z"
   },
   {
    "duration": 41,
    "start_time": "2025-02-18T22:36:58.014Z"
   },
   {
    "duration": 14,
    "start_time": "2025-02-18T22:37:00.314Z"
   },
   {
    "duration": 362,
    "start_time": "2025-02-18T22:38:23.135Z"
   },
   {
    "duration": 7,
    "start_time": "2025-02-18T22:38:38.757Z"
   },
   {
    "duration": 17,
    "start_time": "2025-02-18T22:38:46.813Z"
   },
   {
    "duration": 17,
    "start_time": "2025-02-18T22:38:56.172Z"
   },
   {
    "duration": 15,
    "start_time": "2025-02-18T22:39:04.176Z"
   },
   {
    "duration": 15,
    "start_time": "2025-02-18T22:39:08.363Z"
   },
   {
    "duration": 16,
    "start_time": "2025-02-18T22:40:07.867Z"
   },
   {
    "duration": 9,
    "start_time": "2025-02-18T22:40:18.806Z"
   },
   {
    "duration": 11,
    "start_time": "2025-02-18T22:40:23.192Z"
   },
   {
    "duration": 44,
    "start_time": "2025-02-18T22:40:28.712Z"
   },
   {
    "duration": 20,
    "start_time": "2025-02-18T22:40:33.965Z"
   },
   {
    "duration": 16,
    "start_time": "2025-02-18T22:40:36.497Z"
   },
   {
    "duration": 77,
    "start_time": "2025-02-18T22:49:43.253Z"
   },
   {
    "duration": 283,
    "start_time": "2025-02-18T22:49:48.756Z"
   },
   {
    "duration": 273,
    "start_time": "2025-02-18T22:50:15.832Z"
   },
   {
    "duration": 277,
    "start_time": "2025-02-18T22:50:25.523Z"
   },
   {
    "duration": 183,
    "start_time": "2025-02-18T22:50:55.571Z"
   },
   {
    "duration": 78,
    "start_time": "2025-02-18T22:51:42.383Z"
   },
   {
    "duration": 270,
    "start_time": "2025-02-18T22:51:47.775Z"
   },
   {
    "duration": 188,
    "start_time": "2025-02-18T22:52:03.228Z"
   },
   {
    "duration": 41,
    "start_time": "2025-02-18T22:52:15.297Z"
   },
   {
    "duration": 275,
    "start_time": "2025-02-18T22:52:19.145Z"
   },
   {
    "duration": 16,
    "start_time": "2025-02-18T22:52:25.707Z"
   },
   {
    "duration": 12,
    "start_time": "2025-02-18T22:52:41.654Z"
   },
   {
    "duration": 215,
    "start_time": "2025-02-18T22:52:46.134Z"
   },
   {
    "duration": 195,
    "start_time": "2025-02-18T22:53:12.106Z"
   },
   {
    "duration": 44,
    "start_time": "2025-02-18T22:57:48.348Z"
   },
   {
    "duration": 44,
    "start_time": "2025-02-18T22:58:11.543Z"
   },
   {
    "duration": 41,
    "start_time": "2025-02-18T22:58:47.377Z"
   },
   {
    "duration": 39,
    "start_time": "2025-02-18T22:58:53.925Z"
   },
   {
    "duration": 13,
    "start_time": "2025-02-18T22:58:57.260Z"
   },
   {
    "duration": 12,
    "start_time": "2025-02-18T22:58:59.578Z"
   },
   {
    "duration": 262,
    "start_time": "2025-02-18T22:59:04.159Z"
   },
   {
    "duration": 12,
    "start_time": "2025-02-18T22:59:47.036Z"
   },
   {
    "duration": 40,
    "start_time": "2025-02-18T22:59:50.611Z"
   },
   {
    "duration": 11,
    "start_time": "2025-02-18T22:59:53.214Z"
   },
   {
    "duration": 195,
    "start_time": "2025-02-18T22:59:55.786Z"
   },
   {
    "duration": 113,
    "start_time": "2025-02-18T23:02:17.979Z"
   },
   {
    "duration": 238,
    "start_time": "2025-02-18T23:02:31.820Z"
   },
   {
    "duration": 214,
    "start_time": "2025-02-18T23:02:50.177Z"
   },
   {
    "duration": 205,
    "start_time": "2025-02-18T23:02:53.387Z"
   },
   {
    "duration": 299,
    "start_time": "2025-02-18T23:03:13.912Z"
   },
   {
    "duration": 285,
    "start_time": "2025-02-18T23:04:30.599Z"
   },
   {
    "duration": 211,
    "start_time": "2025-02-18T23:04:39.525Z"
   },
   {
    "duration": 284,
    "start_time": "2025-02-18T23:04:42.325Z"
   },
   {
    "duration": 265,
    "start_time": "2025-02-18T23:07:23.768Z"
   },
   {
    "duration": 280,
    "start_time": "2025-02-18T23:09:56.630Z"
   },
   {
    "duration": 296,
    "start_time": "2025-02-18T23:11:13.028Z"
   },
   {
    "duration": 277,
    "start_time": "2025-02-18T23:11:41.841Z"
   },
   {
    "duration": 415,
    "start_time": "2025-02-18T23:12:02.542Z"
   },
   {
    "duration": 141,
    "start_time": "2025-02-18T23:13:19.465Z"
   },
   {
    "duration": 201,
    "start_time": "2025-02-18T23:13:27.229Z"
   },
   {
    "duration": 198,
    "start_time": "2025-02-18T23:13:41.191Z"
   },
   {
    "duration": 56,
    "start_time": "2025-02-19T10:09:36.398Z"
   },
   {
    "duration": 27556,
    "start_time": "2025-02-19T10:09:43.513Z"
   },
   {
    "duration": 1536,
    "start_time": "2025-02-19T10:10:11.072Z"
   },
   {
    "duration": 2903,
    "start_time": "2025-02-19T10:10:12.610Z"
   },
   {
    "duration": 30,
    "start_time": "2025-02-19T10:10:15.515Z"
   },
   {
    "duration": 12,
    "start_time": "2025-02-19T10:10:15.548Z"
   },
   {
    "duration": 84,
    "start_time": "2025-02-19T10:10:15.562Z"
   },
   {
    "duration": 48,
    "start_time": "2025-02-19T10:10:15.647Z"
   },
   {
    "duration": 147,
    "start_time": "2025-02-19T10:10:15.697Z"
   },
   {
    "duration": 21,
    "start_time": "2025-02-19T10:10:15.846Z"
   },
   {
    "duration": 37,
    "start_time": "2025-02-19T10:10:15.869Z"
   },
   {
    "duration": 54,
    "start_time": "2025-02-19T10:10:15.908Z"
   },
   {
    "duration": 114,
    "start_time": "2025-02-19T10:10:15.963Z"
   },
   {
    "duration": 200,
    "start_time": "2025-02-19T10:10:16.078Z"
   },
   {
    "duration": 24,
    "start_time": "2025-02-19T10:10:16.281Z"
   },
   {
    "duration": 41,
    "start_time": "2025-02-19T10:10:16.306Z"
   },
   {
    "duration": 42,
    "start_time": "2025-02-19T10:10:16.349Z"
   },
   {
    "duration": 61,
    "start_time": "2025-02-19T10:10:16.392Z"
   },
   {
    "duration": 59,
    "start_time": "2025-02-19T10:10:16.454Z"
   },
   {
    "duration": 25,
    "start_time": "2025-02-19T10:10:16.515Z"
   },
   {
    "duration": 37,
    "start_time": "2025-02-19T10:10:16.541Z"
   },
   {
    "duration": 68,
    "start_time": "2025-02-19T10:10:16.580Z"
   },
   {
    "duration": 38,
    "start_time": "2025-02-19T10:10:16.650Z"
   },
   {
    "duration": 57,
    "start_time": "2025-02-19T10:10:16.690Z"
   },
   {
    "duration": 8,
    "start_time": "2025-02-19T10:10:16.749Z"
   },
   {
    "duration": 12,
    "start_time": "2025-02-19T10:10:16.758Z"
   },
   {
    "duration": 18,
    "start_time": "2025-02-19T10:10:16.772Z"
   },
   {
    "duration": 8,
    "start_time": "2025-02-19T10:10:16.791Z"
   },
   {
    "duration": 12,
    "start_time": "2025-02-19T10:10:16.801Z"
   },
   {
    "duration": 115,
    "start_time": "2025-02-19T10:10:16.834Z"
   },
   {
    "duration": 169,
    "start_time": "2025-02-19T10:10:16.951Z"
   },
   {
    "duration": 133,
    "start_time": "2025-02-19T10:10:17.122Z"
   },
   {
    "duration": 160,
    "start_time": "2025-02-19T10:10:17.258Z"
   },
   {
    "duration": 95,
    "start_time": "2025-02-19T10:10:17.420Z"
   },
   {
    "duration": 38,
    "start_time": "2025-02-19T10:10:17.517Z"
   },
   {
    "duration": 39,
    "start_time": "2025-02-19T10:10:17.558Z"
   },
   {
    "duration": 46,
    "start_time": "2025-02-19T10:10:17.600Z"
   },
   {
    "duration": 94,
    "start_time": "2025-02-19T10:10:17.647Z"
   },
   {
    "duration": 12,
    "start_time": "2025-02-19T10:10:17.749Z"
   },
   {
    "duration": 63,
    "start_time": "2025-02-19T10:10:17.763Z"
   },
   {
    "duration": 32,
    "start_time": "2025-02-19T10:10:17.828Z"
   },
   {
    "duration": 186,
    "start_time": "2025-02-19T10:10:17.864Z"
   },
   {
    "duration": 62,
    "start_time": "2025-02-19T10:10:18.051Z"
   },
   {
    "duration": 31,
    "start_time": "2025-02-19T10:10:18.116Z"
   },
   {
    "duration": 222,
    "start_time": "2025-02-19T10:10:18.149Z"
   },
   {
    "duration": 212,
    "start_time": "2025-02-19T10:10:18.373Z"
   },
   {
    "duration": 83,
    "start_time": "2025-02-19T10:10:18.587Z"
   },
   {
    "duration": 41,
    "start_time": "2025-02-19T10:16:57.971Z"
   },
   {
    "duration": 97,
    "start_time": "2025-02-19T10:17:46.336Z"
   },
   {
    "duration": 73,
    "start_time": "2025-02-19T10:17:48.100Z"
   },
   {
    "duration": 87,
    "start_time": "2025-02-19T10:27:40.285Z"
   },
   {
    "duration": 10,
    "start_time": "2025-02-19T10:27:49.816Z"
   },
   {
    "duration": 76,
    "start_time": "2025-02-19T10:28:52.634Z"
   },
   {
    "duration": 84,
    "start_time": "2025-02-19T10:29:19.216Z"
   },
   {
    "duration": 108,
    "start_time": "2025-02-19T10:29:45.095Z"
   },
   {
    "duration": 75,
    "start_time": "2025-02-19T10:29:47.106Z"
   },
   {
    "duration": 16,
    "start_time": "2025-02-19T10:30:39.164Z"
   },
   {
    "duration": 13,
    "start_time": "2025-02-19T10:31:10.183Z"
   },
   {
    "duration": 5,
    "start_time": "2025-02-19T10:31:19.288Z"
   },
   {
    "duration": 13,
    "start_time": "2025-02-19T10:31:35.408Z"
   },
   {
    "duration": 71,
    "start_time": "2025-02-19T10:31:44.241Z"
   },
   {
    "duration": 12,
    "start_time": "2025-02-19T10:31:48.017Z"
   },
   {
    "duration": 16,
    "start_time": "2025-02-19T10:32:04.384Z"
   },
   {
    "duration": 4,
    "start_time": "2025-02-19T10:32:11.415Z"
   },
   {
    "duration": 9,
    "start_time": "2025-02-19T10:38:07.110Z"
   },
   {
    "duration": 398,
    "start_time": "2025-02-19T10:55:04.975Z"
   },
   {
    "duration": 367,
    "start_time": "2025-02-19T10:55:27.627Z"
   },
   {
    "duration": 369,
    "start_time": "2025-02-19T10:56:37.586Z"
   },
   {
    "duration": 358,
    "start_time": "2025-02-19T10:56:56.698Z"
   },
   {
    "duration": 151,
    "start_time": "2025-02-19T10:58:10.988Z"
   },
   {
    "duration": 98,
    "start_time": "2025-02-19T10:59:29.675Z"
   },
   {
    "duration": 100,
    "start_time": "2025-02-19T11:00:26.483Z"
   },
   {
    "duration": 100,
    "start_time": "2025-02-19T11:01:06.099Z"
   },
   {
    "duration": 104,
    "start_time": "2025-02-19T11:03:14.713Z"
   },
   {
    "duration": 102,
    "start_time": "2025-02-19T11:19:47.141Z"
   },
   {
    "duration": 105,
    "start_time": "2025-02-19T11:20:49.638Z"
   },
   {
    "duration": 101,
    "start_time": "2025-02-19T11:22:04.746Z"
   },
   {
    "duration": 106,
    "start_time": "2025-02-19T11:22:25.630Z"
   },
   {
    "duration": 97,
    "start_time": "2025-02-19T11:22:47.211Z"
   },
   {
    "duration": 98,
    "start_time": "2025-02-19T11:25:18.191Z"
   },
   {
    "duration": 102,
    "start_time": "2025-02-19T11:26:25.582Z"
   },
   {
    "duration": 1823,
    "start_time": "2025-02-19T11:29:36.351Z"
   },
   {
    "duration": 287,
    "start_time": "2025-02-19T11:29:52.923Z"
   },
   {
    "duration": 87,
    "start_time": "2025-02-19T11:30:17.803Z"
   },
   {
    "duration": 1745,
    "start_time": "2025-02-19T11:30:31.278Z"
   },
   {
    "duration": 1739,
    "start_time": "2025-02-19T11:32:01.631Z"
   },
   {
    "duration": 1670,
    "start_time": "2025-02-19T11:32:40.952Z"
   },
   {
    "duration": 2493,
    "start_time": "2025-02-19T11:33:15.716Z"
   },
   {
    "duration": 70,
    "start_time": "2025-02-19T11:33:45.706Z"
   },
   {
    "duration": 4,
    "start_time": "2025-02-19T11:47:34.944Z"
   },
   {
    "duration": 23,
    "start_time": "2025-02-19T11:47:44.033Z"
   },
   {
    "duration": 2487,
    "start_time": "2025-02-19T11:48:08.129Z"
   },
   {
    "duration": 74,
    "start_time": "2025-02-19T11:48:10.618Z"
   },
   {
    "duration": 23,
    "start_time": "2025-02-19T11:48:12.895Z"
   },
   {
    "duration": 25,
    "start_time": "2025-02-19T11:50:44.530Z"
   },
   {
    "duration": 1488,
    "start_time": "2025-02-19T11:55:28.416Z"
   },
   {
    "duration": 26,
    "start_time": "2025-02-19T12:00:12.539Z"
   },
   {
    "duration": 1440,
    "start_time": "2025-02-19T12:00:14.502Z"
   },
   {
    "duration": 178,
    "start_time": "2025-02-19T12:00:56.101Z"
   },
   {
    "duration": 175,
    "start_time": "2025-02-19T12:01:09.173Z"
   },
   {
    "duration": 27,
    "start_time": "2025-02-19T12:01:46.156Z"
   },
   {
    "duration": 176,
    "start_time": "2025-02-19T12:02:01.450Z"
   },
   {
    "duration": 8,
    "start_time": "2025-02-19T12:03:33.494Z"
   },
   {
    "duration": 2636,
    "start_time": "2025-02-19T12:03:53.677Z"
   },
   {
    "duration": 71,
    "start_time": "2025-02-19T12:03:58.045Z"
   },
   {
    "duration": 24,
    "start_time": "2025-02-19T12:04:00.389Z"
   },
   {
    "duration": 84,
    "start_time": "2025-02-19T12:06:05.550Z"
   },
   {
    "duration": 4017,
    "start_time": "2025-02-19T12:15:45.388Z"
   },
   {
    "duration": 71,
    "start_time": "2025-02-19T12:15:52.251Z"
   },
   {
    "duration": 26,
    "start_time": "2025-02-19T12:15:56.754Z"
   },
   {
    "duration": 177,
    "start_time": "2025-02-19T12:16:01.602Z"
   },
   {
    "duration": 9,
    "start_time": "2025-02-19T12:16:05.458Z"
   },
   {
    "duration": 8,
    "start_time": "2025-02-19T12:48:44.760Z"
   },
   {
    "duration": 261,
    "start_time": "2025-02-19T12:52:46.482Z"
   },
   {
    "duration": 211,
    "start_time": "2025-02-19T12:53:43.614Z"
   },
   {
    "duration": 11,
    "start_time": "2025-02-19T12:58:00.317Z"
   },
   {
    "duration": 12,
    "start_time": "2025-02-19T12:58:39.621Z"
   },
   {
    "duration": 163,
    "start_time": "2025-02-19T13:02:49.745Z"
   },
   {
    "duration": 163,
    "start_time": "2025-02-19T13:03:06.243Z"
   },
   {
    "duration": 163,
    "start_time": "2025-02-19T13:03:18.627Z"
   },
   {
    "duration": 283,
    "start_time": "2025-02-19T13:04:29.529Z"
   },
   {
    "duration": 184,
    "start_time": "2025-02-19T13:04:57.864Z"
   },
   {
    "duration": 187,
    "start_time": "2025-02-19T13:05:05.845Z"
   },
   {
    "duration": 177,
    "start_time": "2025-02-19T13:05:11.885Z"
   },
   {
    "duration": 188,
    "start_time": "2025-02-19T13:05:30.324Z"
   },
   {
    "duration": 168,
    "start_time": "2025-02-19T13:05:36.890Z"
   },
   {
    "duration": 191,
    "start_time": "2025-02-19T13:23:42.483Z"
   },
   {
    "duration": 4146,
    "start_time": "2025-02-19T13:26:50.853Z"
   },
   {
    "duration": 72,
    "start_time": "2025-02-19T13:27:01.763Z"
   },
   {
    "duration": 35,
    "start_time": "2025-02-19T13:27:03.814Z"
   },
   {
    "duration": 195,
    "start_time": "2025-02-19T13:27:07.924Z"
   },
   {
    "duration": 13,
    "start_time": "2025-02-19T13:27:10.394Z"
   },
   {
    "duration": 171,
    "start_time": "2025-02-19T13:27:13.586Z"
   },
   {
    "duration": 68,
    "start_time": "2025-02-19T13:28:43.864Z"
   },
   {
    "duration": 10534,
    "start_time": "2025-02-19T13:29:11.567Z"
   },
   {
    "duration": 129,
    "start_time": "2025-02-19T13:29:44.642Z"
   },
   {
    "duration": 2831,
    "start_time": "2025-02-19T13:30:20.892Z"
   },
   {
    "duration": 4,
    "start_time": "2025-02-19T13:30:23.725Z"
   },
   {
    "duration": 2029,
    "start_time": "2025-02-19T13:30:23.730Z"
   },
   {
    "duration": 21,
    "start_time": "2025-02-19T13:30:25.763Z"
   },
   {
    "duration": 16,
    "start_time": "2025-02-19T13:30:25.785Z"
   },
   {
    "duration": 7,
    "start_time": "2025-02-19T13:30:25.803Z"
   },
   {
    "duration": 23,
    "start_time": "2025-02-19T13:30:25.812Z"
   },
   {
    "duration": 166,
    "start_time": "2025-02-19T13:30:25.838Z"
   },
   {
    "duration": 49,
    "start_time": "2025-02-19T13:30:26.005Z"
   },
   {
    "duration": 13,
    "start_time": "2025-02-19T13:30:26.059Z"
   },
   {
    "duration": 38,
    "start_time": "2025-02-19T13:30:26.074Z"
   },
   {
    "duration": 137,
    "start_time": "2025-02-19T13:30:26.114Z"
   },
   {
    "duration": 223,
    "start_time": "2025-02-19T13:30:26.254Z"
   },
   {
    "duration": 26,
    "start_time": "2025-02-19T13:30:26.478Z"
   },
   {
    "duration": 39,
    "start_time": "2025-02-19T13:30:26.506Z"
   },
   {
    "duration": 17,
    "start_time": "2025-02-19T13:30:26.548Z"
   },
   {
    "duration": 45,
    "start_time": "2025-02-19T13:30:26.567Z"
   },
   {
    "duration": 53,
    "start_time": "2025-02-19T13:30:26.614Z"
   },
   {
    "duration": 22,
    "start_time": "2025-02-19T13:30:26.669Z"
   },
   {
    "duration": 25,
    "start_time": "2025-02-19T13:30:26.693Z"
   },
   {
    "duration": 73,
    "start_time": "2025-02-19T13:30:26.720Z"
   },
   {
    "duration": 67,
    "start_time": "2025-02-19T13:30:26.795Z"
   },
   {
    "duration": 39,
    "start_time": "2025-02-19T13:30:26.864Z"
   },
   {
    "duration": 10,
    "start_time": "2025-02-19T13:30:26.905Z"
   },
   {
    "duration": 19,
    "start_time": "2025-02-19T13:30:26.917Z"
   },
   {
    "duration": 21,
    "start_time": "2025-02-19T13:30:26.938Z"
   },
   {
    "duration": 7,
    "start_time": "2025-02-19T13:30:26.961Z"
   },
   {
    "duration": 7,
    "start_time": "2025-02-19T13:30:26.971Z"
   },
   {
    "duration": 153,
    "start_time": "2025-02-19T13:30:26.980Z"
   },
   {
    "duration": 184,
    "start_time": "2025-02-19T13:30:27.135Z"
   },
   {
    "duration": 120,
    "start_time": "2025-02-19T13:30:27.320Z"
   },
   {
    "duration": 184,
    "start_time": "2025-02-19T13:30:27.442Z"
   },
   {
    "duration": 120,
    "start_time": "2025-02-19T13:30:27.628Z"
   },
   {
    "duration": 28,
    "start_time": "2025-02-19T13:30:27.757Z"
   },
   {
    "duration": 36,
    "start_time": "2025-02-19T13:30:27.787Z"
   },
   {
    "duration": 34,
    "start_time": "2025-02-19T13:30:27.833Z"
   },
   {
    "duration": 49,
    "start_time": "2025-02-19T13:30:27.869Z"
   },
   {
    "duration": 24,
    "start_time": "2025-02-19T13:30:27.920Z"
   },
   {
    "duration": 60,
    "start_time": "2025-02-19T13:30:27.947Z"
   },
   {
    "duration": 52,
    "start_time": "2025-02-19T13:30:28.009Z"
   },
   {
    "duration": 191,
    "start_time": "2025-02-19T13:30:28.063Z"
   },
   {
    "duration": 75,
    "start_time": "2025-02-19T13:30:28.259Z"
   },
   {
    "duration": 14,
    "start_time": "2025-02-19T13:30:28.337Z"
   },
   {
    "duration": 244,
    "start_time": "2025-02-19T13:30:28.354Z"
   },
   {
    "duration": 233,
    "start_time": "2025-02-19T13:30:28.599Z"
   },
   {
    "duration": 110,
    "start_time": "2025-02-19T13:30:28.835Z"
   },
   {
    "duration": 85,
    "start_time": "2025-02-19T13:30:28.948Z"
   },
   {
    "duration": 19,
    "start_time": "2025-02-19T13:30:29.034Z"
   },
   {
    "duration": 5,
    "start_time": "2025-02-19T13:30:29.055Z"
   },
   {
    "duration": 16,
    "start_time": "2025-02-19T13:30:29.062Z"
   },
   {
    "duration": 39,
    "start_time": "2025-02-19T13:30:29.080Z"
   },
   {
    "duration": 4088,
    "start_time": "2025-02-19T13:30:29.121Z"
   },
   {
    "duration": 78,
    "start_time": "2025-02-19T13:30:33.211Z"
   },
   {
    "duration": 26,
    "start_time": "2025-02-19T13:30:33.290Z"
   },
   {
    "duration": 195,
    "start_time": "2025-02-19T13:30:33.318Z"
   },
   {
    "duration": 27,
    "start_time": "2025-02-19T13:30:33.514Z"
   },
   {
    "duration": 200,
    "start_time": "2025-02-19T13:30:33.543Z"
   },
   {
    "duration": 205,
    "start_time": "2025-02-19T13:30:33.747Z"
   },
   {
    "duration": 10125,
    "start_time": "2025-02-19T13:30:33.954Z"
   },
   {
    "duration": 135,
    "start_time": "2025-02-19T13:30:44.081Z"
   },
   {
    "duration": 339,
    "start_time": "2025-02-19T13:31:58.752Z"
   },
   {
    "duration": 270,
    "start_time": "2025-02-19T13:35:10.099Z"
   },
   {
    "duration": 74,
    "start_time": "2025-02-19T14:18:15.050Z"
   },
   {
    "duration": 7,
    "start_time": "2025-02-19T14:18:43.829Z"
   },
   {
    "duration": 259,
    "start_time": "2025-02-19T14:25:44.276Z"
   },
   {
    "duration": 16,
    "start_time": "2025-02-19T14:26:06.113Z"
   },
   {
    "duration": 16,
    "start_time": "2025-02-19T14:26:52.414Z"
   },
   {
    "duration": 1447,
    "start_time": "2025-02-19T14:32:56.050Z"
   },
   {
    "duration": 69,
    "start_time": "2025-02-19T14:33:14.222Z"
   },
   {
    "duration": 71,
    "start_time": "2025-02-19T14:33:22.493Z"
   },
   {
    "duration": 14,
    "start_time": "2025-02-19T14:33:29.690Z"
   },
   {
    "duration": 49,
    "start_time": "2025-02-19T14:33:36.910Z"
   },
   {
    "duration": 74,
    "start_time": "2025-02-19T14:34:45.847Z"
   },
   {
    "duration": 169,
    "start_time": "2025-02-19T14:34:57.411Z"
   },
   {
    "duration": 162,
    "start_time": "2025-02-19T14:43:39.158Z"
   },
   {
    "duration": 73,
    "start_time": "2025-02-19T14:46:21.400Z"
   },
   {
    "duration": 79,
    "start_time": "2025-02-19T14:47:16.431Z"
   },
   {
    "duration": 9,
    "start_time": "2025-02-19T14:47:21.839Z"
   },
   {
    "duration": 10,
    "start_time": "2025-02-19T14:48:14.478Z"
   },
   {
    "duration": 25,
    "start_time": "2025-02-19T14:48:31.714Z"
   },
   {
    "duration": 9,
    "start_time": "2025-02-19T14:49:01.337Z"
   },
   {
    "duration": 2686,
    "start_time": "2025-02-19T14:49:13.585Z"
   },
   {
    "duration": 21,
    "start_time": "2025-02-19T14:49:16.274Z"
   },
   {
    "duration": 2191,
    "start_time": "2025-02-19T14:49:16.297Z"
   },
   {
    "duration": 22,
    "start_time": "2025-02-19T14:49:18.491Z"
   },
   {
    "duration": 9,
    "start_time": "2025-02-19T14:49:18.516Z"
   },
   {
    "duration": 15,
    "start_time": "2025-02-19T14:49:18.527Z"
   },
   {
    "duration": 8,
    "start_time": "2025-02-19T14:49:18.544Z"
   },
   {
    "duration": 143,
    "start_time": "2025-02-19T14:49:18.554Z"
   },
   {
    "duration": 45,
    "start_time": "2025-02-19T14:49:18.699Z"
   },
   {
    "duration": 13,
    "start_time": "2025-02-19T14:49:18.746Z"
   },
   {
    "duration": 40,
    "start_time": "2025-02-19T14:49:18.760Z"
   },
   {
    "duration": 123,
    "start_time": "2025-02-19T14:49:18.802Z"
   },
   {
    "duration": 197,
    "start_time": "2025-02-19T14:49:18.926Z"
   },
   {
    "duration": 31,
    "start_time": "2025-02-19T14:49:19.125Z"
   },
   {
    "duration": 17,
    "start_time": "2025-02-19T14:49:19.157Z"
   },
   {
    "duration": 15,
    "start_time": "2025-02-19T14:49:19.176Z"
   },
   {
    "duration": 52,
    "start_time": "2025-02-19T14:49:19.192Z"
   },
   {
    "duration": 35,
    "start_time": "2025-02-19T14:49:19.246Z"
   },
   {
    "duration": 23,
    "start_time": "2025-02-19T14:49:19.283Z"
   },
   {
    "duration": 39,
    "start_time": "2025-02-19T14:49:19.308Z"
   },
   {
    "duration": 49,
    "start_time": "2025-02-19T14:49:19.349Z"
   },
   {
    "duration": 56,
    "start_time": "2025-02-19T14:49:19.399Z"
   },
   {
    "duration": 34,
    "start_time": "2025-02-19T14:49:19.456Z"
   },
   {
    "duration": 12,
    "start_time": "2025-02-19T14:49:19.492Z"
   },
   {
    "duration": 31,
    "start_time": "2025-02-19T14:49:19.506Z"
   },
   {
    "duration": 19,
    "start_time": "2025-02-19T14:49:19.539Z"
   },
   {
    "duration": 7,
    "start_time": "2025-02-19T14:49:19.559Z"
   },
   {
    "duration": 10,
    "start_time": "2025-02-19T14:49:19.570Z"
   },
   {
    "duration": 128,
    "start_time": "2025-02-19T14:49:19.582Z"
   },
   {
    "duration": 160,
    "start_time": "2025-02-19T14:49:19.712Z"
   },
   {
    "duration": 115,
    "start_time": "2025-02-19T14:49:19.873Z"
   },
   {
    "duration": 160,
    "start_time": "2025-02-19T14:49:19.990Z"
   },
   {
    "duration": 87,
    "start_time": "2025-02-19T14:49:20.152Z"
   },
   {
    "duration": 29,
    "start_time": "2025-02-19T14:49:20.241Z"
   },
   {
    "duration": 26,
    "start_time": "2025-02-19T14:49:20.273Z"
   },
   {
    "duration": 42,
    "start_time": "2025-02-19T14:49:20.301Z"
   },
   {
    "duration": 48,
    "start_time": "2025-02-19T14:49:20.345Z"
   },
   {
    "duration": 8,
    "start_time": "2025-02-19T14:49:20.396Z"
   },
   {
    "duration": 82,
    "start_time": "2025-02-19T14:49:20.406Z"
   },
   {
    "duration": 39,
    "start_time": "2025-02-19T14:49:20.490Z"
   },
   {
    "duration": 168,
    "start_time": "2025-02-19T14:49:20.530Z"
   },
   {
    "duration": 71,
    "start_time": "2025-02-19T14:49:20.700Z"
   },
   {
    "duration": 10,
    "start_time": "2025-02-19T14:49:20.773Z"
   },
   {
    "duration": 229,
    "start_time": "2025-02-19T14:49:20.785Z"
   },
   {
    "duration": 372,
    "start_time": "2025-02-19T14:49:21.016Z"
   },
   {
    "duration": 103,
    "start_time": "2025-02-19T14:49:21.390Z"
   },
   {
    "duration": 78,
    "start_time": "2025-02-19T14:49:21.494Z"
   },
   {
    "duration": 17,
    "start_time": "2025-02-19T14:49:21.575Z"
   },
   {
    "duration": 17,
    "start_time": "2025-02-19T14:49:21.594Z"
   },
   {
    "duration": 21,
    "start_time": "2025-02-19T14:49:21.613Z"
   },
   {
    "duration": 19,
    "start_time": "2025-02-19T14:49:21.636Z"
   },
   {
    "duration": 3956,
    "start_time": "2025-02-19T14:49:21.657Z"
   },
   {
    "duration": 83,
    "start_time": "2025-02-19T14:49:25.615Z"
   },
   {
    "duration": 40,
    "start_time": "2025-02-19T14:49:25.700Z"
   },
   {
    "duration": 185,
    "start_time": "2025-02-19T14:49:25.742Z"
   },
   {
    "duration": 14,
    "start_time": "2025-02-19T14:49:25.929Z"
   },
   {
    "duration": 206,
    "start_time": "2025-02-19T14:49:25.945Z"
   },
   {
    "duration": 15,
    "start_time": "2025-02-19T14:49:26.153Z"
   },
   {
    "duration": 186,
    "start_time": "2025-02-19T14:49:26.170Z"
   },
   {
    "duration": 190,
    "start_time": "2025-02-19T14:49:26.357Z"
   },
   {
    "duration": 12,
    "start_time": "2025-02-19T14:49:26.549Z"
   },
   {
    "duration": 0,
    "start_time": "2025-02-19T14:49:26.563Z"
   },
   {
    "duration": 14,
    "start_time": "2025-02-19T14:50:28.622Z"
   },
   {
    "duration": 24,
    "start_time": "2025-02-19T14:50:34.153Z"
   },
   {
    "duration": 10,
    "start_time": "2025-02-19T14:50:45.822Z"
   },
   {
    "duration": 10,
    "start_time": "2025-02-19T14:51:33.013Z"
   },
   {
    "duration": 2691,
    "start_time": "2025-02-19T14:51:38.153Z"
   },
   {
    "duration": 4,
    "start_time": "2025-02-19T14:51:40.846Z"
   },
   {
    "duration": 2148,
    "start_time": "2025-02-19T14:51:40.851Z"
   },
   {
    "duration": 20,
    "start_time": "2025-02-19T14:51:43.000Z"
   },
   {
    "duration": 11,
    "start_time": "2025-02-19T14:51:43.023Z"
   },
   {
    "duration": 8,
    "start_time": "2025-02-19T14:51:43.036Z"
   },
   {
    "duration": 17,
    "start_time": "2025-02-19T14:51:43.045Z"
   },
   {
    "duration": 156,
    "start_time": "2025-02-19T14:51:43.064Z"
   },
   {
    "duration": 35,
    "start_time": "2025-02-19T14:51:43.221Z"
   },
   {
    "duration": 13,
    "start_time": "2025-02-19T14:51:43.257Z"
   },
   {
    "duration": 38,
    "start_time": "2025-02-19T14:51:43.272Z"
   },
   {
    "duration": 128,
    "start_time": "2025-02-19T14:51:43.311Z"
   },
   {
    "duration": 194,
    "start_time": "2025-02-19T14:51:43.440Z"
   },
   {
    "duration": 26,
    "start_time": "2025-02-19T14:51:43.637Z"
   },
   {
    "duration": 17,
    "start_time": "2025-02-19T14:51:43.665Z"
   },
   {
    "duration": 8,
    "start_time": "2025-02-19T14:51:43.684Z"
   },
   {
    "duration": 58,
    "start_time": "2025-02-19T14:51:43.693Z"
   },
   {
    "duration": 31,
    "start_time": "2025-02-19T14:51:43.753Z"
   },
   {
    "duration": 61,
    "start_time": "2025-02-19T14:51:43.786Z"
   },
   {
    "duration": 41,
    "start_time": "2025-02-19T14:51:43.848Z"
   },
   {
    "duration": 53,
    "start_time": "2025-02-19T14:51:43.891Z"
   },
   {
    "duration": 38,
    "start_time": "2025-02-19T14:51:43.945Z"
   },
   {
    "duration": 48,
    "start_time": "2025-02-19T14:51:43.985Z"
   },
   {
    "duration": 8,
    "start_time": "2025-02-19T14:51:44.034Z"
   },
   {
    "duration": 23,
    "start_time": "2025-02-19T14:51:44.043Z"
   },
   {
    "duration": 40,
    "start_time": "2025-02-19T14:51:44.068Z"
   },
   {
    "duration": 22,
    "start_time": "2025-02-19T14:51:44.110Z"
   },
   {
    "duration": 10,
    "start_time": "2025-02-19T14:51:44.134Z"
   },
   {
    "duration": 113,
    "start_time": "2025-02-19T14:51:44.146Z"
   },
   {
    "duration": 163,
    "start_time": "2025-02-19T14:51:44.261Z"
   },
   {
    "duration": 118,
    "start_time": "2025-02-19T14:51:44.426Z"
   },
   {
    "duration": 164,
    "start_time": "2025-02-19T14:51:44.545Z"
   },
   {
    "duration": 90,
    "start_time": "2025-02-19T14:51:44.711Z"
   },
   {
    "duration": 32,
    "start_time": "2025-02-19T14:51:44.803Z"
   },
   {
    "duration": 26,
    "start_time": "2025-02-19T14:51:44.837Z"
   },
   {
    "duration": 23,
    "start_time": "2025-02-19T14:51:44.865Z"
   },
   {
    "duration": 67,
    "start_time": "2025-02-19T14:51:44.891Z"
   },
   {
    "duration": 10,
    "start_time": "2025-02-19T14:51:44.960Z"
   },
   {
    "duration": 75,
    "start_time": "2025-02-19T14:51:44.972Z"
   },
   {
    "duration": 76,
    "start_time": "2025-02-19T14:51:45.050Z"
   },
   {
    "duration": 153,
    "start_time": "2025-02-19T14:51:45.130Z"
   },
   {
    "duration": 63,
    "start_time": "2025-02-19T14:51:45.285Z"
   },
   {
    "duration": 21,
    "start_time": "2025-02-19T14:51:45.350Z"
   },
   {
    "duration": 248,
    "start_time": "2025-02-19T14:51:45.373Z"
   },
   {
    "duration": 220,
    "start_time": "2025-02-19T14:51:45.623Z"
   },
   {
    "duration": 108,
    "start_time": "2025-02-19T14:51:45.845Z"
   },
   {
    "duration": 82,
    "start_time": "2025-02-19T14:51:45.955Z"
   },
   {
    "duration": 17,
    "start_time": "2025-02-19T14:51:46.039Z"
   },
   {
    "duration": 4,
    "start_time": "2025-02-19T14:51:46.058Z"
   },
   {
    "duration": 34,
    "start_time": "2025-02-19T14:51:46.064Z"
   },
   {
    "duration": 33,
    "start_time": "2025-02-19T14:51:46.099Z"
   },
   {
    "duration": 4045,
    "start_time": "2025-02-19T14:51:46.134Z"
   },
   {
    "duration": 87,
    "start_time": "2025-02-19T14:51:50.181Z"
   },
   {
    "duration": 38,
    "start_time": "2025-02-19T14:51:50.270Z"
   },
   {
    "duration": 192,
    "start_time": "2025-02-19T14:51:50.310Z"
   },
   {
    "duration": 14,
    "start_time": "2025-02-19T14:51:50.504Z"
   },
   {
    "duration": 185,
    "start_time": "2025-02-19T14:51:50.532Z"
   },
   {
    "duration": 25,
    "start_time": "2025-02-19T14:51:50.720Z"
   },
   {
    "duration": 203,
    "start_time": "2025-02-19T14:51:50.747Z"
   },
   {
    "duration": 173,
    "start_time": "2025-02-19T14:51:50.952Z"
   },
   {
    "duration": 18,
    "start_time": "2025-02-19T14:51:51.127Z"
   },
   {
    "duration": 0,
    "start_time": "2025-02-19T14:51:51.147Z"
   },
   {
    "duration": 0,
    "start_time": "2025-02-19T14:51:51.149Z"
   },
   {
    "duration": 12,
    "start_time": "2025-02-19T14:55:13.663Z"
   },
   {
    "duration": 2755,
    "start_time": "2025-02-19T14:55:56.080Z"
   },
   {
    "duration": 4,
    "start_time": "2025-02-19T14:55:58.838Z"
   },
   {
    "duration": 2246,
    "start_time": "2025-02-19T14:55:58.844Z"
   },
   {
    "duration": 20,
    "start_time": "2025-02-19T14:56:01.092Z"
   },
   {
    "duration": 8,
    "start_time": "2025-02-19T14:56:01.115Z"
   },
   {
    "duration": 20,
    "start_time": "2025-02-19T14:56:01.124Z"
   },
   {
    "duration": 32,
    "start_time": "2025-02-19T14:56:01.146Z"
   },
   {
    "duration": 143,
    "start_time": "2025-02-19T14:56:01.179Z"
   },
   {
    "duration": 34,
    "start_time": "2025-02-19T14:56:01.324Z"
   },
   {
    "duration": 30,
    "start_time": "2025-02-19T14:56:01.360Z"
   },
   {
    "duration": 68,
    "start_time": "2025-02-19T14:56:01.391Z"
   },
   {
    "duration": 102,
    "start_time": "2025-02-19T14:56:01.461Z"
   },
   {
    "duration": 190,
    "start_time": "2025-02-19T14:56:01.565Z"
   },
   {
    "duration": 28,
    "start_time": "2025-02-19T14:56:01.759Z"
   },
   {
    "duration": 56,
    "start_time": "2025-02-19T14:56:01.789Z"
   },
   {
    "duration": 69,
    "start_time": "2025-02-19T14:56:01.847Z"
   },
   {
    "duration": 66,
    "start_time": "2025-02-19T14:56:01.918Z"
   },
   {
    "duration": 54,
    "start_time": "2025-02-19T14:56:01.986Z"
   },
   {
    "duration": 22,
    "start_time": "2025-02-19T14:56:02.042Z"
   },
   {
    "duration": 25,
    "start_time": "2025-02-19T14:56:02.066Z"
   },
   {
    "duration": 84,
    "start_time": "2025-02-19T14:56:02.092Z"
   },
   {
    "duration": 55,
    "start_time": "2025-02-19T14:56:02.178Z"
   },
   {
    "duration": 33,
    "start_time": "2025-02-19T14:56:02.234Z"
   },
   {
    "duration": 15,
    "start_time": "2025-02-19T14:56:02.269Z"
   },
   {
    "duration": 27,
    "start_time": "2025-02-19T14:56:02.286Z"
   },
   {
    "duration": 56,
    "start_time": "2025-02-19T14:56:02.315Z"
   },
   {
    "duration": 6,
    "start_time": "2025-02-19T14:56:02.373Z"
   },
   {
    "duration": 27,
    "start_time": "2025-02-19T14:56:02.380Z"
   },
   {
    "duration": 142,
    "start_time": "2025-02-19T14:56:02.409Z"
   },
   {
    "duration": 156,
    "start_time": "2025-02-19T14:56:02.553Z"
   },
   {
    "duration": 113,
    "start_time": "2025-02-19T14:56:02.711Z"
   },
   {
    "duration": 154,
    "start_time": "2025-02-19T14:56:02.826Z"
   },
   {
    "duration": 86,
    "start_time": "2025-02-19T14:56:02.981Z"
   },
   {
    "duration": 19,
    "start_time": "2025-02-19T14:56:03.068Z"
   },
   {
    "duration": 56,
    "start_time": "2025-02-19T14:56:03.089Z"
   },
   {
    "duration": 19,
    "start_time": "2025-02-19T14:56:03.147Z"
   },
   {
    "duration": 55,
    "start_time": "2025-02-19T14:56:03.167Z"
   },
   {
    "duration": 9,
    "start_time": "2025-02-19T14:56:03.233Z"
   },
   {
    "duration": 69,
    "start_time": "2025-02-19T14:56:03.244Z"
   },
   {
    "duration": 43,
    "start_time": "2025-02-19T14:56:03.315Z"
   },
   {
    "duration": 162,
    "start_time": "2025-02-19T14:56:03.362Z"
   },
   {
    "duration": 58,
    "start_time": "2025-02-19T14:56:03.532Z"
   },
   {
    "duration": 11,
    "start_time": "2025-02-19T14:56:03.591Z"
   },
   {
    "duration": 250,
    "start_time": "2025-02-19T14:56:03.604Z"
   },
   {
    "duration": 223,
    "start_time": "2025-02-19T14:56:03.856Z"
   },
   {
    "duration": 101,
    "start_time": "2025-02-19T14:56:04.081Z"
   },
   {
    "duration": 82,
    "start_time": "2025-02-19T14:56:04.183Z"
   },
   {
    "duration": 16,
    "start_time": "2025-02-19T14:56:04.266Z"
   },
   {
    "duration": 6,
    "start_time": "2025-02-19T14:56:04.284Z"
   },
   {
    "duration": 30,
    "start_time": "2025-02-19T14:56:04.292Z"
   },
   {
    "duration": 12,
    "start_time": "2025-02-19T14:56:04.324Z"
   },
   {
    "duration": 4123,
    "start_time": "2025-02-19T14:56:04.337Z"
   },
   {
    "duration": 81,
    "start_time": "2025-02-19T14:56:08.462Z"
   },
   {
    "duration": 26,
    "start_time": "2025-02-19T14:56:08.544Z"
   },
   {
    "duration": 198,
    "start_time": "2025-02-19T14:56:08.572Z"
   },
   {
    "duration": 12,
    "start_time": "2025-02-19T14:56:08.772Z"
   },
   {
    "duration": 203,
    "start_time": "2025-02-19T14:56:08.786Z"
   },
   {
    "duration": 14,
    "start_time": "2025-02-19T14:56:08.991Z"
   },
   {
    "duration": 130,
    "start_time": "2025-02-19T14:56:09.007Z"
   },
   {
    "duration": 170,
    "start_time": "2025-02-19T14:56:09.139Z"
   },
   {
    "duration": 22,
    "start_time": "2025-02-19T14:56:09.311Z"
   },
   {
    "duration": 0,
    "start_time": "2025-02-19T14:56:09.335Z"
   },
   {
    "duration": 0,
    "start_time": "2025-02-19T14:56:09.337Z"
   },
   {
    "duration": 17,
    "start_time": "2025-02-19T14:57:46.952Z"
   },
   {
    "duration": 11,
    "start_time": "2025-02-19T14:59:17.519Z"
   },
   {
    "duration": 10,
    "start_time": "2025-02-19T14:59:46.249Z"
   },
   {
    "duration": 11,
    "start_time": "2025-02-19T15:00:15.094Z"
   },
   {
    "duration": 12,
    "start_time": "2025-02-19T15:00:21.422Z"
   },
   {
    "duration": 11,
    "start_time": "2025-02-19T15:03:20.444Z"
   },
   {
    "duration": 2761,
    "start_time": "2025-02-19T15:03:42.047Z"
   },
   {
    "duration": 1429,
    "start_time": "2025-02-19T15:03:44.810Z"
   },
   {
    "duration": 2769,
    "start_time": "2025-02-19T15:03:46.241Z"
   },
   {
    "duration": 24,
    "start_time": "2025-02-19T15:03:49.013Z"
   },
   {
    "duration": 10,
    "start_time": "2025-02-19T15:03:49.038Z"
   },
   {
    "duration": 53,
    "start_time": "2025-02-19T15:03:49.049Z"
   },
   {
    "duration": 16,
    "start_time": "2025-02-19T15:03:49.104Z"
   },
   {
    "duration": 158,
    "start_time": "2025-02-19T15:03:49.122Z"
   },
   {
    "duration": 22,
    "start_time": "2025-02-19T15:03:49.282Z"
   },
   {
    "duration": 32,
    "start_time": "2025-02-19T15:03:49.307Z"
   },
   {
    "duration": 54,
    "start_time": "2025-02-19T15:03:49.340Z"
   },
   {
    "duration": 104,
    "start_time": "2025-02-19T15:03:49.395Z"
   },
   {
    "duration": 191,
    "start_time": "2025-02-19T15:03:49.501Z"
   },
   {
    "duration": 39,
    "start_time": "2025-02-19T15:03:49.694Z"
   },
   {
    "duration": 17,
    "start_time": "2025-02-19T15:03:49.734Z"
   },
   {
    "duration": 25,
    "start_time": "2025-02-19T15:03:49.753Z"
   },
   {
    "duration": 43,
    "start_time": "2025-02-19T15:03:49.779Z"
   },
   {
    "duration": 31,
    "start_time": "2025-02-19T15:03:49.824Z"
   },
   {
    "duration": 22,
    "start_time": "2025-02-19T15:03:49.856Z"
   },
   {
    "duration": 31,
    "start_time": "2025-02-19T15:03:49.880Z"
   },
   {
    "duration": 63,
    "start_time": "2025-02-19T15:03:49.913Z"
   },
   {
    "duration": 40,
    "start_time": "2025-02-19T15:03:49.978Z"
   },
   {
    "duration": 69,
    "start_time": "2025-02-19T15:03:50.019Z"
   },
   {
    "duration": 7,
    "start_time": "2025-02-19T15:03:50.090Z"
   },
   {
    "duration": 21,
    "start_time": "2025-02-19T15:03:50.099Z"
   },
   {
    "duration": 17,
    "start_time": "2025-02-19T15:03:50.122Z"
   },
   {
    "duration": 6,
    "start_time": "2025-02-19T15:03:50.140Z"
   },
   {
    "duration": 19,
    "start_time": "2025-02-19T15:03:50.150Z"
   },
   {
    "duration": 115,
    "start_time": "2025-02-19T15:03:50.171Z"
   },
   {
    "duration": 155,
    "start_time": "2025-02-19T15:03:50.288Z"
   },
   {
    "duration": 120,
    "start_time": "2025-02-19T15:03:50.445Z"
   },
   {
    "duration": 161,
    "start_time": "2025-02-19T15:03:50.567Z"
   },
   {
    "duration": 84,
    "start_time": "2025-02-19T15:03:50.730Z"
   },
   {
    "duration": 33,
    "start_time": "2025-02-19T15:03:50.815Z"
   },
   {
    "duration": 45,
    "start_time": "2025-02-19T15:03:50.849Z"
   },
   {
    "duration": 22,
    "start_time": "2025-02-19T15:03:50.896Z"
   },
   {
    "duration": 57,
    "start_time": "2025-02-19T15:03:50.919Z"
   },
   {
    "duration": 9,
    "start_time": "2025-02-19T15:03:50.978Z"
   },
   {
    "duration": 78,
    "start_time": "2025-02-19T15:03:50.989Z"
   },
   {
    "duration": 51,
    "start_time": "2025-02-19T15:03:51.069Z"
   },
   {
    "duration": 165,
    "start_time": "2025-02-19T15:03:51.122Z"
   },
   {
    "duration": 72,
    "start_time": "2025-02-19T15:03:51.289Z"
   },
   {
    "duration": 11,
    "start_time": "2025-02-19T15:03:51.363Z"
   },
   {
    "duration": 241,
    "start_time": "2025-02-19T15:03:51.376Z"
   },
   {
    "duration": 221,
    "start_time": "2025-02-19T15:03:51.619Z"
   },
   {
    "duration": 109,
    "start_time": "2025-02-19T15:03:51.842Z"
   },
   {
    "duration": 80,
    "start_time": "2025-02-19T15:03:51.953Z"
   },
   {
    "duration": 17,
    "start_time": "2025-02-19T15:03:52.035Z"
   },
   {
    "duration": 4,
    "start_time": "2025-02-19T15:03:52.054Z"
   },
   {
    "duration": 11,
    "start_time": "2025-02-19T15:03:52.060Z"
   },
   {
    "duration": 12,
    "start_time": "2025-02-19T15:03:52.073Z"
   },
   {
    "duration": 4017,
    "start_time": "2025-02-19T15:03:52.087Z"
   },
   {
    "duration": 86,
    "start_time": "2025-02-19T15:03:56.107Z"
   },
   {
    "duration": 41,
    "start_time": "2025-02-19T15:03:56.195Z"
   },
   {
    "duration": 181,
    "start_time": "2025-02-19T15:03:56.238Z"
   },
   {
    "duration": 21,
    "start_time": "2025-02-19T15:03:56.421Z"
   },
   {
    "duration": 191,
    "start_time": "2025-02-19T15:03:56.444Z"
   },
   {
    "duration": 33,
    "start_time": "2025-02-19T15:03:56.637Z"
   },
   {
    "duration": 121,
    "start_time": "2025-02-19T15:04:14.712Z"
   },
   {
    "duration": 117,
    "start_time": "2025-02-19T15:04:55.402Z"
   },
   {
    "duration": 114,
    "start_time": "2025-02-19T15:05:01.457Z"
   },
   {
    "duration": 116,
    "start_time": "2025-02-19T15:05:09.021Z"
   },
   {
    "duration": 398,
    "start_time": "2025-02-19T15:08:58.048Z"
   },
   {
    "duration": 130,
    "start_time": "2025-02-19T15:09:55.633Z"
   },
   {
    "duration": 124,
    "start_time": "2025-02-19T15:11:43.322Z"
   },
   {
    "duration": 109,
    "start_time": "2025-02-19T15:14:17.904Z"
   },
   {
    "duration": 1239,
    "start_time": "2025-02-19T15:14:22.795Z"
   },
   {
    "duration": 16,
    "start_time": "2025-02-19T15:14:32.393Z"
   },
   {
    "duration": 14,
    "start_time": "2025-02-19T15:14:40.899Z"
   },
   {
    "duration": 16,
    "start_time": "2025-02-19T15:14:45.948Z"
   },
   {
    "duration": 26,
    "start_time": "2025-02-19T15:15:16.106Z"
   },
   {
    "duration": 109,
    "start_time": "2025-02-19T15:15:17.698Z"
   },
   {
    "duration": 32,
    "start_time": "2025-02-19T15:48:32.044Z"
   },
   {
    "duration": 36,
    "start_time": "2025-02-19T15:48:43.291Z"
   },
   {
    "duration": 53,
    "start_time": "2025-02-19T15:48:46.574Z"
   },
   {
    "duration": 62,
    "start_time": "2025-02-19T15:48:48.973Z"
   },
   {
    "duration": 103,
    "start_time": "2025-02-19T15:49:45.185Z"
   },
   {
    "duration": 111,
    "start_time": "2025-02-19T15:49:53.224Z"
   },
   {
    "duration": 11,
    "start_time": "2025-02-19T15:50:08.892Z"
   },
   {
    "duration": 97,
    "start_time": "2025-02-19T15:50:12.591Z"
   },
   {
    "duration": 75,
    "start_time": "2025-02-19T15:50:14.345Z"
   },
   {
    "duration": 88,
    "start_time": "2025-02-19T15:57:14.797Z"
   },
   {
    "duration": 14,
    "start_time": "2025-02-19T15:57:16.634Z"
   },
   {
    "duration": 5,
    "start_time": "2025-02-19T15:57:20.307Z"
   },
   {
    "duration": 5,
    "start_time": "2025-02-19T15:57:21.785Z"
   },
   {
    "duration": 9,
    "start_time": "2025-02-19T15:57:23.688Z"
   },
   {
    "duration": 3442,
    "start_time": "2025-02-19T15:58:05.251Z"
   },
   {
    "duration": 62,
    "start_time": "2025-02-19T15:58:15.928Z"
   },
   {
    "duration": 27,
    "start_time": "2025-02-19T15:58:22.556Z"
   },
   {
    "duration": 192,
    "start_time": "2025-02-19T15:58:34.076Z"
   },
   {
    "duration": 13,
    "start_time": "2025-02-19T15:58:39.667Z"
   },
   {
    "duration": 177,
    "start_time": "2025-02-19T15:58:48.040Z"
   },
   {
    "duration": 144,
    "start_time": "2025-02-19T16:02:09.396Z"
   },
   {
    "duration": 223,
    "start_time": "2025-02-19T16:02:26.378Z"
   },
   {
    "duration": 110,
    "start_time": "2025-02-19T16:03:48.743Z"
   },
   {
    "duration": 82,
    "start_time": "2025-02-19T16:03:56.735Z"
   },
   {
    "duration": 5859,
    "start_time": "2025-02-19T16:06:18.920Z"
   },
   {
    "duration": 26,
    "start_time": "2025-02-19T16:07:21.893Z"
   },
   {
    "duration": 176,
    "start_time": "2025-02-19T16:09:18.294Z"
   },
   {
    "duration": 14,
    "start_time": "2025-02-19T16:09:49.151Z"
   },
   {
    "duration": 177,
    "start_time": "2025-02-19T16:10:15.838Z"
   },
   {
    "duration": 7,
    "start_time": "2025-02-19T16:15:12.588Z"
   },
   {
    "duration": 12,
    "start_time": "2025-02-19T16:15:21.798Z"
   },
   {
    "duration": 29,
    "start_time": "2025-02-19T16:22:43.003Z"
   },
   {
    "duration": 23,
    "start_time": "2025-02-19T16:24:14.512Z"
   },
   {
    "duration": 21,
    "start_time": "2025-02-19T16:24:57.281Z"
   },
   {
    "duration": 10,
    "start_time": "2025-02-19T16:30:59.080Z"
   },
   {
    "duration": 10,
    "start_time": "2025-02-19T16:31:35.335Z"
   },
   {
    "duration": 9,
    "start_time": "2025-02-19T16:32:11.959Z"
   },
   {
    "duration": 10,
    "start_time": "2025-02-19T16:35:15.654Z"
   },
   {
    "duration": 62,
    "start_time": "2025-02-19T16:35:23.131Z"
   },
   {
    "duration": 10,
    "start_time": "2025-02-19T16:37:42.194Z"
   },
   {
    "duration": 28,
    "start_time": "2025-02-19T16:38:00.422Z"
   },
   {
    "duration": 18,
    "start_time": "2025-02-19T16:38:07.767Z"
   },
   {
    "duration": 50196,
    "start_time": "2025-02-19T16:38:16.713Z"
   },
   {
    "duration": 21,
    "start_time": "2025-02-19T16:40:15.729Z"
   },
   {
    "duration": 50228,
    "start_time": "2025-02-19T16:40:18.875Z"
   },
   {
    "duration": 22,
    "start_time": "2025-02-19T16:41:54.068Z"
   },
   {
    "duration": 50744,
    "start_time": "2025-02-19T16:41:56.191Z"
   },
   {
    "duration": 4,
    "start_time": "2025-02-19T16:44:06.480Z"
   },
   {
    "duration": 414464,
    "start_time": "2025-02-19T16:44:08.152Z"
   },
   {
    "duration": 37,
    "start_time": "2025-02-19T16:53:28.582Z"
   },
   {
    "duration": 21,
    "start_time": "2025-02-19T16:53:40.311Z"
   },
   {
    "duration": 29,
    "start_time": "2025-02-19T16:56:29.765Z"
   },
   {
    "duration": 53,
    "start_time": "2025-02-19T16:56:33.036Z"
   },
   {
    "duration": 37062,
    "start_time": "2025-02-19T19:41:53.051Z"
   },
   {
    "duration": 1322,
    "start_time": "2025-02-19T19:42:30.115Z"
   },
   {
    "duration": 1989,
    "start_time": "2025-02-19T19:42:31.439Z"
   },
   {
    "duration": 21,
    "start_time": "2025-02-19T19:42:33.431Z"
   },
   {
    "duration": 8,
    "start_time": "2025-02-19T19:42:33.454Z"
   },
   {
    "duration": 8,
    "start_time": "2025-02-19T19:42:33.463Z"
   },
   {
    "duration": 5,
    "start_time": "2025-02-19T19:42:33.472Z"
   },
   {
    "duration": 137,
    "start_time": "2025-02-19T19:42:33.479Z"
   },
   {
    "duration": 20,
    "start_time": "2025-02-19T19:42:33.618Z"
   },
   {
    "duration": 30,
    "start_time": "2025-02-19T19:42:33.640Z"
   },
   {
    "duration": 38,
    "start_time": "2025-02-19T19:42:33.672Z"
   },
   {
    "duration": 105,
    "start_time": "2025-02-19T19:42:33.712Z"
   },
   {
    "duration": 173,
    "start_time": "2025-02-19T19:42:33.818Z"
   },
   {
    "duration": 23,
    "start_time": "2025-02-19T19:42:33.993Z"
   },
   {
    "duration": 16,
    "start_time": "2025-02-19T19:42:34.018Z"
   },
   {
    "duration": 29,
    "start_time": "2025-02-19T19:42:34.035Z"
   },
   {
    "duration": 25,
    "start_time": "2025-02-19T19:42:34.066Z"
   },
   {
    "duration": 28,
    "start_time": "2025-02-19T19:42:34.093Z"
   },
   {
    "duration": 67,
    "start_time": "2025-02-19T19:42:34.122Z"
   },
   {
    "duration": 19,
    "start_time": "2025-02-19T19:42:34.191Z"
   },
   {
    "duration": 44,
    "start_time": "2025-02-19T19:42:34.211Z"
   },
   {
    "duration": 36,
    "start_time": "2025-02-19T19:42:34.257Z"
   },
   {
    "duration": 36,
    "start_time": "2025-02-19T19:42:34.295Z"
   },
   {
    "duration": 12,
    "start_time": "2025-02-19T19:42:34.333Z"
   },
   {
    "duration": 19,
    "start_time": "2025-02-19T19:42:34.346Z"
   },
   {
    "duration": 16,
    "start_time": "2025-02-19T19:42:34.366Z"
   },
   {
    "duration": 12,
    "start_time": "2025-02-19T19:42:34.383Z"
   },
   {
    "duration": 6,
    "start_time": "2025-02-19T19:42:34.398Z"
   },
   {
    "duration": 113,
    "start_time": "2025-02-19T19:42:34.406Z"
   },
   {
    "duration": 145,
    "start_time": "2025-02-19T19:42:34.521Z"
   },
   {
    "duration": 105,
    "start_time": "2025-02-19T19:42:34.667Z"
   },
   {
    "duration": 138,
    "start_time": "2025-02-19T19:42:34.773Z"
   },
   {
    "duration": 83,
    "start_time": "2025-02-19T19:42:34.913Z"
   },
   {
    "duration": 15,
    "start_time": "2025-02-19T19:42:34.998Z"
   },
   {
    "duration": 29,
    "start_time": "2025-02-19T19:42:35.015Z"
   },
   {
    "duration": 19,
    "start_time": "2025-02-19T19:42:35.057Z"
   },
   {
    "duration": 56,
    "start_time": "2025-02-19T19:42:35.078Z"
   },
   {
    "duration": 12,
    "start_time": "2025-02-19T19:42:35.136Z"
   },
   {
    "duration": 116,
    "start_time": "2025-02-19T19:42:35.150Z"
   },
   {
    "duration": 19,
    "start_time": "2025-02-19T19:42:35.268Z"
   },
   {
    "duration": 148,
    "start_time": "2025-02-19T19:42:35.289Z"
   },
   {
    "duration": 68,
    "start_time": "2025-02-19T19:42:35.439Z"
   },
   {
    "duration": 11,
    "start_time": "2025-02-19T19:42:35.509Z"
   },
   {
    "duration": 237,
    "start_time": "2025-02-19T19:42:35.522Z"
   },
   {
    "duration": 207,
    "start_time": "2025-02-19T19:42:35.761Z"
   },
   {
    "duration": 91,
    "start_time": "2025-02-19T19:42:35.969Z"
   },
   {
    "duration": 66,
    "start_time": "2025-02-19T19:42:36.062Z"
   },
   {
    "duration": 141,
    "start_time": "2025-02-19T19:42:36.129Z"
   },
   {
    "duration": 14,
    "start_time": "2025-02-19T19:42:36.272Z"
   },
   {
    "duration": 11,
    "start_time": "2025-02-19T19:42:36.287Z"
   },
   {
    "duration": 4,
    "start_time": "2025-02-19T19:42:36.299Z"
   },
   {
    "duration": 8,
    "start_time": "2025-02-19T19:42:36.304Z"
   },
   {
    "duration": 3179,
    "start_time": "2025-02-19T19:42:36.313Z"
   },
   {
    "duration": 66,
    "start_time": "2025-02-19T19:42:39.493Z"
   },
   {
    "duration": 23,
    "start_time": "2025-02-19T19:42:39.560Z"
   },
   {
    "duration": 216,
    "start_time": "2025-02-19T19:42:39.584Z"
   },
   {
    "duration": 11,
    "start_time": "2025-02-19T19:42:39.802Z"
   },
   {
    "duration": 177,
    "start_time": "2025-02-19T19:42:39.814Z"
   },
   {
    "duration": 216,
    "start_time": "2025-02-19T19:42:39.993Z"
   },
   {
    "duration": 129,
    "start_time": "2025-02-19T19:42:40.211Z"
   },
   {
    "duration": 80,
    "start_time": "2025-02-19T19:42:40.341Z"
   },
   {
    "duration": 5767,
    "start_time": "2025-02-19T19:42:40.423Z"
   },
   {
    "duration": 23,
    "start_time": "2025-02-19T19:42:46.192Z"
   },
   {
    "duration": 178,
    "start_time": "2025-02-19T19:42:46.217Z"
   },
   {
    "duration": 12,
    "start_time": "2025-02-19T19:42:46.396Z"
   },
   {
    "duration": 177,
    "start_time": "2025-02-19T19:42:46.409Z"
   },
   {
    "duration": 9,
    "start_time": "2025-02-19T19:42:46.588Z"
   },
   {
    "duration": 29,
    "start_time": "2025-02-19T19:42:46.598Z"
   },
   {
    "duration": 3,
    "start_time": "2025-02-19T19:42:46.628Z"
   },
   {
    "duration": 381118,
    "start_time": "2025-02-19T19:42:46.632Z"
   },
   {
    "duration": 48,
    "start_time": "2025-02-19T19:49:07.752Z"
   },
   {
    "duration": 20,
    "start_time": "2025-02-19T20:45:28.262Z"
   },
   {
    "duration": 16,
    "start_time": "2025-02-19T20:45:49.827Z"
   },
   {
    "duration": 78,
    "start_time": "2025-02-19T20:47:00.903Z"
   },
   {
    "duration": 56,
    "start_time": "2025-02-19T20:49:15.251Z"
   },
   {
    "duration": 6,
    "start_time": "2025-02-19T20:54:56.899Z"
   },
   {
    "duration": 9,
    "start_time": "2025-02-19T20:55:05.726Z"
   },
   {
    "duration": 9,
    "start_time": "2025-02-19T20:55:56.288Z"
   },
   {
    "duration": 77,
    "start_time": "2025-02-19T20:55:58.310Z"
   },
   {
    "duration": 13,
    "start_time": "2025-02-19T20:56:01.018Z"
   },
   {
    "duration": 34,
    "start_time": "2025-02-19T20:56:58.144Z"
   },
   {
    "duration": 86,
    "start_time": "2025-02-19T20:58:18.166Z"
   },
   {
    "duration": 54,
    "start_time": "2025-02-19T20:59:35.610Z"
   },
   {
    "duration": 39,
    "start_time": "2025-02-19T21:00:33.748Z"
   },
   {
    "duration": 32,
    "start_time": "2025-02-19T21:00:46.560Z"
   },
   {
    "duration": 57,
    "start_time": "2025-02-19T21:01:29.396Z"
   },
   {
    "duration": 100,
    "start_time": "2025-02-19T21:01:42.559Z"
   },
   {
    "duration": 32,
    "start_time": "2025-02-19T21:03:57.132Z"
   },
   {
    "duration": 32,
    "start_time": "2025-02-19T21:04:01.278Z"
   },
   {
    "duration": 32,
    "start_time": "2025-02-19T21:08:58.044Z"
   },
   {
    "duration": 23,
    "start_time": "2025-02-19T21:11:09.670Z"
   },
   {
    "duration": 35,
    "start_time": "2025-02-19T21:11:13.919Z"
   },
   {
    "duration": 30,
    "start_time": "2025-02-19T21:11:23.730Z"
   },
   {
    "duration": 182,
    "start_time": "2025-02-19T21:11:28.534Z"
   },
   {
    "duration": 40,
    "start_time": "2025-02-19T21:12:57.259Z"
   },
   {
    "duration": 35,
    "start_time": "2025-02-19T21:13:01.528Z"
   },
   {
    "duration": 28,
    "start_time": "2025-02-19T21:13:13.698Z"
   },
   {
    "duration": 37,
    "start_time": "2025-02-19T21:14:09.174Z"
   },
   {
    "duration": 8,
    "start_time": "2025-02-19T21:16:53.005Z"
   },
   {
    "duration": 152,
    "start_time": "2025-02-19T21:17:49.688Z"
   },
   {
    "duration": 106,
    "start_time": "2025-02-19T21:22:43.697Z"
   },
   {
    "duration": 9,
    "start_time": "2025-02-19T21:22:52.061Z"
   },
   {
    "duration": 105,
    "start_time": "2025-02-19T21:23:10.228Z"
   },
   {
    "duration": 9,
    "start_time": "2025-02-19T21:29:29.502Z"
   },
   {
    "duration": 306,
    "start_time": "2025-02-19T21:29:36.655Z"
   },
   {
    "duration": 113,
    "start_time": "2025-02-19T21:33:56.137Z"
   },
   {
    "duration": 106,
    "start_time": "2025-02-19T21:34:16.919Z"
   },
   {
    "duration": 128,
    "start_time": "2025-02-19T21:35:52.847Z"
   },
   {
    "duration": 113,
    "start_time": "2025-02-19T21:35:58.575Z"
   },
   {
    "duration": 106,
    "start_time": "2025-02-19T21:35:59.888Z"
   },
   {
    "duration": 8,
    "start_time": "2025-02-19T21:39:29.897Z"
   },
   {
    "duration": 94,
    "start_time": "2025-02-19T21:39:40.334Z"
   },
   {
    "duration": 77,
    "start_time": "2025-02-19T21:46:29.795Z"
   },
   {
    "duration": 112,
    "start_time": "2025-02-19T21:46:52.216Z"
   },
   {
    "duration": 46,
    "start_time": "2025-02-19T21:47:25.555Z"
   },
   {
    "duration": 26,
    "start_time": "2025-02-19T21:53:33.975Z"
   },
   {
    "duration": 32,
    "start_time": "2025-02-19T21:54:21.659Z"
   },
   {
    "duration": 96,
    "start_time": "2025-02-19T21:54:29.401Z"
   },
   {
    "duration": 15,
    "start_time": "2025-02-19T21:55:54.765Z"
   },
   {
    "duration": 13,
    "start_time": "2025-02-19T21:55:59.173Z"
   },
   {
    "duration": 17,
    "start_time": "2025-02-19T21:56:02.461Z"
   },
   {
    "duration": 137,
    "start_time": "2025-02-19T21:58:51.730Z"
   },
   {
    "duration": 74,
    "start_time": "2025-02-19T22:00:23.030Z"
   },
   {
    "duration": 134,
    "start_time": "2025-02-19T22:01:46.024Z"
   },
   {
    "duration": 78,
    "start_time": "2025-02-19T22:01:56.296Z"
   },
   {
    "duration": 25,
    "start_time": "2025-02-19T22:03:59.787Z"
   },
   {
    "duration": 34,
    "start_time": "2025-02-19T22:04:04.763Z"
   },
   {
    "duration": 17,
    "start_time": "2025-02-19T22:04:33.578Z"
   },
   {
    "duration": 70,
    "start_time": "2025-02-19T22:05:19.881Z"
   },
   {
    "duration": 4066,
    "start_time": "2025-02-20T06:42:34.768Z"
   },
   {
    "duration": 1393,
    "start_time": "2025-02-20T06:42:38.836Z"
   },
   {
    "duration": 2361,
    "start_time": "2025-02-20T06:42:40.230Z"
   },
   {
    "duration": 23,
    "start_time": "2025-02-20T06:42:42.594Z"
   },
   {
    "duration": 52,
    "start_time": "2025-02-20T06:42:42.619Z"
   },
   {
    "duration": 8,
    "start_time": "2025-02-20T06:42:42.672Z"
   },
   {
    "duration": 6,
    "start_time": "2025-02-20T06:42:42.681Z"
   },
   {
    "duration": 126,
    "start_time": "2025-02-20T06:42:42.688Z"
   },
   {
    "duration": 18,
    "start_time": "2025-02-20T06:42:42.815Z"
   },
   {
    "duration": 29,
    "start_time": "2025-02-20T06:42:42.836Z"
   },
   {
    "duration": 39,
    "start_time": "2025-02-20T06:42:42.866Z"
   },
   {
    "duration": 101,
    "start_time": "2025-02-20T06:42:42.913Z"
   },
   {
    "duration": 184,
    "start_time": "2025-02-20T06:42:43.016Z"
   },
   {
    "duration": 33,
    "start_time": "2025-02-20T06:42:43.201Z"
   },
   {
    "duration": 16,
    "start_time": "2025-02-20T06:42:43.236Z"
   },
   {
    "duration": 8,
    "start_time": "2025-02-20T06:42:43.253Z"
   },
   {
    "duration": 51,
    "start_time": "2025-02-20T06:42:43.263Z"
   },
   {
    "duration": 30,
    "start_time": "2025-02-20T06:42:43.316Z"
   },
   {
    "duration": 21,
    "start_time": "2025-02-20T06:42:43.347Z"
   },
   {
    "duration": 18,
    "start_time": "2025-02-20T06:42:43.369Z"
   },
   {
    "duration": 46,
    "start_time": "2025-02-20T06:42:43.413Z"
   },
   {
    "duration": 54,
    "start_time": "2025-02-20T06:42:43.461Z"
   },
   {
    "duration": 30,
    "start_time": "2025-02-20T06:42:43.516Z"
   },
   {
    "duration": 89,
    "start_time": "2025-02-20T06:42:43.547Z"
   },
   {
    "duration": 8,
    "start_time": "2025-02-20T06:42:43.638Z"
   },
   {
    "duration": 15,
    "start_time": "2025-02-20T06:42:43.648Z"
   },
   {
    "duration": 5,
    "start_time": "2025-02-20T06:42:43.665Z"
   },
   {
    "duration": 8,
    "start_time": "2025-02-20T06:42:43.675Z"
   },
   {
    "duration": 110,
    "start_time": "2025-02-20T06:42:43.684Z"
   },
   {
    "duration": 154,
    "start_time": "2025-02-20T06:42:43.796Z"
   },
   {
    "duration": 109,
    "start_time": "2025-02-20T06:42:43.952Z"
   },
   {
    "duration": 150,
    "start_time": "2025-02-20T06:42:44.063Z"
   },
   {
    "duration": 77,
    "start_time": "2025-02-20T06:42:44.215Z"
   },
   {
    "duration": 24,
    "start_time": "2025-02-20T06:42:44.293Z"
   },
   {
    "duration": 22,
    "start_time": "2025-02-20T06:42:44.319Z"
   },
   {
    "duration": 17,
    "start_time": "2025-02-20T06:42:44.343Z"
   },
   {
    "duration": 69,
    "start_time": "2025-02-20T06:42:44.362Z"
   },
   {
    "duration": 8,
    "start_time": "2025-02-20T06:42:44.433Z"
   },
   {
    "duration": 73,
    "start_time": "2025-02-20T06:42:44.442Z"
   },
   {
    "duration": 20,
    "start_time": "2025-02-20T06:42:44.517Z"
   },
   {
    "duration": 157,
    "start_time": "2025-02-20T06:42:44.538Z"
   },
   {
    "duration": 67,
    "start_time": "2025-02-20T06:42:44.696Z"
   },
   {
    "duration": 9,
    "start_time": "2025-02-20T06:42:44.765Z"
   },
   {
    "duration": 228,
    "start_time": "2025-02-20T06:42:44.775Z"
   },
   {
    "duration": 222,
    "start_time": "2025-02-20T06:42:45.005Z"
   },
   {
    "duration": 92,
    "start_time": "2025-02-20T06:42:45.229Z"
   },
   {
    "duration": 70,
    "start_time": "2025-02-20T06:42:45.322Z"
   },
   {
    "duration": 101,
    "start_time": "2025-02-20T06:42:45.394Z"
   },
   {
    "duration": 27,
    "start_time": "2025-02-20T06:42:45.497Z"
   },
   {
    "duration": 5,
    "start_time": "2025-02-20T06:42:45.525Z"
   },
   {
    "duration": 5,
    "start_time": "2025-02-20T06:42:45.531Z"
   },
   {
    "duration": 7,
    "start_time": "2025-02-20T06:42:45.537Z"
   },
   {
    "duration": 3279,
    "start_time": "2025-02-20T06:42:45.546Z"
   },
   {
    "duration": 59,
    "start_time": "2025-02-20T06:42:48.826Z"
   },
   {
    "duration": 35,
    "start_time": "2025-02-20T06:42:48.887Z"
   },
   {
    "duration": 191,
    "start_time": "2025-02-20T06:42:48.924Z"
   },
   {
    "duration": 13,
    "start_time": "2025-02-20T06:42:49.117Z"
   },
   {
    "duration": 196,
    "start_time": "2025-02-20T06:42:49.131Z"
   },
   {
    "duration": 221,
    "start_time": "2025-02-20T06:42:49.329Z"
   },
   {
    "duration": 125,
    "start_time": "2025-02-20T06:42:49.552Z"
   },
   {
    "duration": 84,
    "start_time": "2025-02-20T06:42:49.679Z"
   },
   {
    "duration": 5820,
    "start_time": "2025-02-20T06:42:49.765Z"
   },
   {
    "duration": 31,
    "start_time": "2025-02-20T06:42:55.587Z"
   },
   {
    "duration": 195,
    "start_time": "2025-02-20T06:42:55.619Z"
   },
   {
    "duration": 12,
    "start_time": "2025-02-20T06:42:55.815Z"
   },
   {
    "duration": 233,
    "start_time": "2025-02-20T06:42:55.828Z"
   },
   {
    "duration": 10,
    "start_time": "2025-02-20T06:42:56.063Z"
   },
   {
    "duration": 103,
    "start_time": "2025-02-20T06:42:56.075Z"
   },
   {
    "duration": 27,
    "start_time": "2025-02-20T06:42:56.180Z"
   },
   {
    "duration": 407166,
    "start_time": "2025-02-20T06:42:56.208Z"
   },
   {
    "duration": 65,
    "start_time": "2025-02-20T06:49:43.376Z"
   },
   {
    "duration": 17,
    "start_time": "2025-02-20T06:49:43.443Z"
   },
   {
    "duration": 101,
    "start_time": "2025-02-20T06:49:43.462Z"
   },
   {
    "duration": 35,
    "start_time": "2025-02-20T06:49:43.565Z"
   },
   {
    "duration": 39,
    "start_time": "2025-02-20T06:49:43.602Z"
   },
   {
    "duration": 36,
    "start_time": "2025-02-20T06:49:43.643Z"
   },
   {
    "duration": 55,
    "start_time": "2025-02-20T06:49:43.681Z"
   },
   {
    "duration": 9,
    "start_time": "2025-02-20T06:49:43.738Z"
   },
   {
    "duration": 173,
    "start_time": "2025-02-20T06:49:43.749Z"
   },
   {
    "duration": 150,
    "start_time": "2025-02-20T06:49:43.923Z"
   },
   {
    "duration": 219,
    "start_time": "2025-02-20T06:49:44.075Z"
   },
   {
    "duration": 136,
    "start_time": "2025-02-20T06:49:44.300Z"
   },
   {
    "duration": 127,
    "start_time": "2025-02-20T06:49:44.438Z"
   },
   {
    "duration": 107,
    "start_time": "2025-02-20T06:49:44.566Z"
   },
   {
    "duration": 113,
    "start_time": "2025-02-20T06:49:44.674Z"
   },
   {
    "duration": 41,
    "start_time": "2025-02-20T06:49:44.788Z"
   },
   {
    "duration": 113,
    "start_time": "2025-02-20T06:49:44.831Z"
   },
   {
    "duration": 22,
    "start_time": "2025-02-20T06:49:44.946Z"
   },
   {
    "duration": 173,
    "start_time": "2025-02-20T06:49:44.970Z"
   },
   {
    "duration": 102,
    "start_time": "2025-02-20T06:49:45.145Z"
   },
   {
    "duration": 35,
    "start_time": "2025-02-20T06:49:45.249Z"
   },
   {
    "duration": 35,
    "start_time": "2025-02-20T06:49:45.286Z"
   },
   {
    "duration": 76,
    "start_time": "2025-02-20T06:49:45.323Z"
   },
   {
    "duration": 2640,
    "start_time": "2025-02-20T08:35:08.066Z"
   },
   {
    "duration": 4,
    "start_time": "2025-02-20T08:35:10.709Z"
   },
   {
    "duration": 2773,
    "start_time": "2025-02-20T08:35:10.714Z"
   },
   {
    "duration": 20,
    "start_time": "2025-02-20T08:35:13.490Z"
   },
   {
    "duration": 9,
    "start_time": "2025-02-20T08:35:13.512Z"
   },
   {
    "duration": 10,
    "start_time": "2025-02-20T08:35:13.522Z"
   },
   {
    "duration": 6,
    "start_time": "2025-02-20T08:35:13.534Z"
   },
   {
    "duration": 171,
    "start_time": "2025-02-20T08:35:13.542Z"
   },
   {
    "duration": 25,
    "start_time": "2025-02-20T08:35:13.715Z"
   },
   {
    "duration": 12,
    "start_time": "2025-02-20T08:35:13.743Z"
   },
   {
    "duration": 39,
    "start_time": "2025-02-20T08:35:13.757Z"
   },
   {
    "duration": 120,
    "start_time": "2025-02-20T08:35:13.798Z"
   },
   {
    "duration": 187,
    "start_time": "2025-02-20T08:35:13.920Z"
   },
   {
    "duration": 25,
    "start_time": "2025-02-20T08:35:14.113Z"
   },
   {
    "duration": 17,
    "start_time": "2025-02-20T08:35:14.140Z"
   },
   {
    "duration": 50,
    "start_time": "2025-02-20T08:35:14.158Z"
   },
   {
    "duration": 28,
    "start_time": "2025-02-20T08:35:14.209Z"
   },
   {
    "duration": 31,
    "start_time": "2025-02-20T08:35:14.239Z"
   },
   {
    "duration": 43,
    "start_time": "2025-02-20T08:35:14.271Z"
   },
   {
    "duration": 18,
    "start_time": "2025-02-20T08:35:14.316Z"
   },
   {
    "duration": 49,
    "start_time": "2025-02-20T08:35:14.335Z"
   },
   {
    "duration": 69,
    "start_time": "2025-02-20T08:35:14.386Z"
   },
   {
    "duration": 60,
    "start_time": "2025-02-20T08:35:14.457Z"
   },
   {
    "duration": 8,
    "start_time": "2025-02-20T08:35:14.518Z"
   },
   {
    "duration": 9,
    "start_time": "2025-02-20T08:35:14.527Z"
   },
   {
    "duration": 16,
    "start_time": "2025-02-20T08:35:14.537Z"
   },
   {
    "duration": 5,
    "start_time": "2025-02-20T08:35:14.555Z"
   },
   {
    "duration": 6,
    "start_time": "2025-02-20T08:35:14.565Z"
   },
   {
    "duration": 141,
    "start_time": "2025-02-20T08:35:14.573Z"
   },
   {
    "duration": 158,
    "start_time": "2025-02-20T08:35:14.715Z"
   },
   {
    "duration": 116,
    "start_time": "2025-02-20T08:35:14.875Z"
   },
   {
    "duration": 142,
    "start_time": "2025-02-20T08:35:14.992Z"
   },
   {
    "duration": 89,
    "start_time": "2025-02-20T08:35:15.136Z"
   },
   {
    "duration": 17,
    "start_time": "2025-02-20T08:35:15.226Z"
   },
   {
    "duration": 30,
    "start_time": "2025-02-20T08:35:15.245Z"
   },
   {
    "duration": 36,
    "start_time": "2025-02-20T08:35:15.277Z"
   },
   {
    "duration": 50,
    "start_time": "2025-02-20T08:35:15.315Z"
   },
   {
    "duration": 8,
    "start_time": "2025-02-20T08:35:15.366Z"
   },
   {
    "duration": 82,
    "start_time": "2025-02-20T08:35:15.376Z"
   },
   {
    "duration": 66,
    "start_time": "2025-02-20T08:35:15.459Z"
   },
   {
    "duration": 153,
    "start_time": "2025-02-20T08:35:15.527Z"
   },
   {
    "duration": 67,
    "start_time": "2025-02-20T08:35:15.682Z"
   },
   {
    "duration": 10,
    "start_time": "2025-02-20T08:35:15.750Z"
   },
   {
    "duration": 217,
    "start_time": "2025-02-20T08:35:15.761Z"
   },
   {
    "duration": 299,
    "start_time": "2025-02-20T08:35:15.979Z"
   },
   {
    "duration": 100,
    "start_time": "2025-02-20T08:35:16.280Z"
   },
   {
    "duration": 72,
    "start_time": "2025-02-20T08:35:16.382Z"
   },
   {
    "duration": 112,
    "start_time": "2025-02-20T08:35:16.456Z"
   },
   {
    "duration": 14,
    "start_time": "2025-02-20T08:35:16.570Z"
   },
   {
    "duration": 4,
    "start_time": "2025-02-20T08:35:16.586Z"
   },
   {
    "duration": 40,
    "start_time": "2025-02-20T08:35:16.592Z"
   },
   {
    "duration": 72,
    "start_time": "2025-02-20T08:35:16.633Z"
   },
   {
    "duration": 3185,
    "start_time": "2025-02-20T08:35:16.707Z"
   },
   {
    "duration": 69,
    "start_time": "2025-02-20T08:35:19.894Z"
   },
   {
    "duration": 24,
    "start_time": "2025-02-20T08:35:19.965Z"
   },
   {
    "duration": 194,
    "start_time": "2025-02-20T08:35:19.991Z"
   },
   {
    "duration": 11,
    "start_time": "2025-02-20T08:35:20.186Z"
   },
   {
    "duration": 194,
    "start_time": "2025-02-20T08:35:20.199Z"
   },
   {
    "duration": 221,
    "start_time": "2025-02-20T08:35:20.395Z"
   },
   {
    "duration": 121,
    "start_time": "2025-02-20T08:35:20.618Z"
   },
   {
    "duration": 83,
    "start_time": "2025-02-20T08:35:20.741Z"
   },
   {
    "duration": 5780,
    "start_time": "2025-02-20T08:35:20.826Z"
   },
   {
    "duration": 28,
    "start_time": "2025-02-20T08:35:26.608Z"
   },
   {
    "duration": 237,
    "start_time": "2025-02-20T08:35:26.638Z"
   },
   {
    "duration": 11,
    "start_time": "2025-02-20T08:35:26.877Z"
   },
   {
    "duration": 200,
    "start_time": "2025-02-20T08:35:26.890Z"
   },
   {
    "duration": 10,
    "start_time": "2025-02-20T08:35:27.091Z"
   },
   {
    "duration": 25,
    "start_time": "2025-02-20T08:35:27.114Z"
   },
   {
    "duration": 10,
    "start_time": "2025-02-20T08:35:27.140Z"
   },
   {
    "duration": 407973,
    "start_time": "2025-02-20T08:35:27.152Z"
   },
   {
    "duration": 53,
    "start_time": "2025-02-20T08:42:15.126Z"
   },
   {
    "duration": 43,
    "start_time": "2025-02-20T08:42:15.180Z"
   },
   {
    "duration": 89,
    "start_time": "2025-02-20T08:42:15.224Z"
   },
   {
    "duration": 33,
    "start_time": "2025-02-20T08:42:15.315Z"
   },
   {
    "duration": 32,
    "start_time": "2025-02-20T08:42:15.349Z"
   },
   {
    "duration": 52,
    "start_time": "2025-02-20T08:42:15.383Z"
   },
   {
    "duration": 30,
    "start_time": "2025-02-20T08:42:15.436Z"
   },
   {
    "duration": 63,
    "start_time": "2025-02-20T08:42:15.468Z"
   },
   {
    "duration": 143,
    "start_time": "2025-02-20T08:42:15.533Z"
   },
   {
    "duration": 125,
    "start_time": "2025-02-20T08:42:15.678Z"
   },
   {
    "duration": 184,
    "start_time": "2025-02-20T08:42:15.805Z"
   },
   {
    "duration": 120,
    "start_time": "2025-02-20T08:42:15.995Z"
   },
   {
    "duration": 121,
    "start_time": "2025-02-20T08:42:16.117Z"
   },
   {
    "duration": 109,
    "start_time": "2025-02-20T08:42:16.239Z"
   },
   {
    "duration": 112,
    "start_time": "2025-02-20T08:42:16.350Z"
   },
   {
    "duration": 40,
    "start_time": "2025-02-20T08:42:16.464Z"
   },
   {
    "duration": 122,
    "start_time": "2025-02-20T08:42:16.507Z"
   },
   {
    "duration": 20,
    "start_time": "2025-02-20T08:42:16.630Z"
   },
   {
    "duration": 222,
    "start_time": "2025-02-20T08:42:16.652Z"
   },
   {
    "duration": 90,
    "start_time": "2025-02-20T08:42:16.876Z"
   },
   {
    "duration": 31,
    "start_time": "2025-02-20T08:42:16.968Z"
   },
   {
    "duration": 28,
    "start_time": "2025-02-20T08:42:17.000Z"
   },
   {
    "duration": 98,
    "start_time": "2025-02-20T08:42:17.030Z"
   },
   {
    "duration": 3603,
    "start_time": "2025-02-20T10:34:50.079Z"
   },
   {
    "duration": 5473,
    "start_time": "2025-02-20T10:34:53.685Z"
   },
   {
    "duration": 1988,
    "start_time": "2025-02-20T10:34:59.160Z"
   },
   {
    "duration": 24,
    "start_time": "2025-02-20T10:35:01.149Z"
   },
   {
    "duration": 9,
    "start_time": "2025-02-20T10:35:01.175Z"
   },
   {
    "duration": 14,
    "start_time": "2025-02-20T10:35:01.185Z"
   },
   {
    "duration": 15,
    "start_time": "2025-02-20T10:35:01.201Z"
   },
   {
    "duration": 148,
    "start_time": "2025-02-20T10:35:01.217Z"
   },
   {
    "duration": 22,
    "start_time": "2025-02-20T10:35:01.367Z"
   },
   {
    "duration": 45,
    "start_time": "2025-02-20T10:35:01.392Z"
   },
   {
    "duration": 83,
    "start_time": "2025-02-20T10:35:01.439Z"
   },
   {
    "duration": 92,
    "start_time": "2025-02-20T10:35:01.524Z"
   },
   {
    "duration": 180,
    "start_time": "2025-02-20T10:35:01.617Z"
   },
   {
    "duration": 25,
    "start_time": "2025-02-20T10:35:01.800Z"
   },
   {
    "duration": 34,
    "start_time": "2025-02-20T10:35:01.826Z"
   },
   {
    "duration": 142,
    "start_time": "2025-02-20T10:35:01.862Z"
   },
   {
    "duration": 50,
    "start_time": "2025-02-20T10:35:02.005Z"
   },
   {
    "duration": 59,
    "start_time": "2025-02-20T10:35:02.058Z"
   },
   {
    "duration": 22,
    "start_time": "2025-02-20T10:35:02.118Z"
   },
   {
    "duration": 40,
    "start_time": "2025-02-20T10:35:02.143Z"
   },
   {
    "duration": 78,
    "start_time": "2025-02-20T10:35:02.185Z"
   },
   {
    "duration": 35,
    "start_time": "2025-02-20T10:35:02.264Z"
   },
   {
    "duration": 102,
    "start_time": "2025-02-20T10:35:02.301Z"
   },
   {
    "duration": 24,
    "start_time": "2025-02-20T10:35:02.404Z"
   },
   {
    "duration": 87,
    "start_time": "2025-02-20T10:35:02.430Z"
   },
   {
    "duration": 109,
    "start_time": "2025-02-20T10:35:02.519Z"
   },
   {
    "duration": 247,
    "start_time": "2025-02-20T10:35:02.630Z"
   },
   {
    "duration": 47,
    "start_time": "2025-02-20T10:35:02.879Z"
   },
   {
    "duration": 131,
    "start_time": "2025-02-20T10:35:02.928Z"
   },
   {
    "duration": 148,
    "start_time": "2025-02-20T10:35:03.061Z"
   },
   {
    "duration": 106,
    "start_time": "2025-02-20T10:35:03.211Z"
   },
   {
    "duration": 156,
    "start_time": "2025-02-20T10:35:03.319Z"
   },
   {
    "duration": 84,
    "start_time": "2025-02-20T10:35:03.476Z"
   },
   {
    "duration": 19,
    "start_time": "2025-02-20T10:35:03.562Z"
   },
   {
    "duration": 27,
    "start_time": "2025-02-20T10:35:03.582Z"
   },
   {
    "duration": 41,
    "start_time": "2025-02-20T10:35:03.611Z"
   },
   {
    "duration": 87,
    "start_time": "2025-02-20T10:35:03.653Z"
   },
   {
    "duration": 29,
    "start_time": "2025-02-20T10:35:03.743Z"
   },
   {
    "duration": 80,
    "start_time": "2025-02-20T10:35:03.774Z"
   },
   {
    "duration": 111,
    "start_time": "2025-02-20T10:35:03.855Z"
   },
   {
    "duration": 145,
    "start_time": "2025-02-20T10:35:03.971Z"
   },
   {
    "duration": 79,
    "start_time": "2025-02-20T10:35:04.118Z"
   },
   {
    "duration": 11,
    "start_time": "2025-02-20T10:35:04.199Z"
   },
   {
    "duration": 223,
    "start_time": "2025-02-20T10:35:04.212Z"
   },
   {
    "duration": 213,
    "start_time": "2025-02-20T10:35:04.437Z"
   },
   {
    "duration": 106,
    "start_time": "2025-02-20T10:35:04.653Z"
   },
   {
    "duration": 126,
    "start_time": "2025-02-20T10:35:04.761Z"
   },
   {
    "duration": 104,
    "start_time": "2025-02-20T10:35:04.889Z"
   },
   {
    "duration": 15,
    "start_time": "2025-02-20T10:35:04.995Z"
   },
   {
    "duration": 5,
    "start_time": "2025-02-20T10:35:05.012Z"
   },
   {
    "duration": 32,
    "start_time": "2025-02-20T10:35:05.019Z"
   },
   {
    "duration": 39,
    "start_time": "2025-02-20T10:35:05.053Z"
   },
   {
    "duration": 3196,
    "start_time": "2025-02-20T10:35:05.094Z"
   },
   {
    "duration": 66,
    "start_time": "2025-02-20T10:35:08.292Z"
   },
   {
    "duration": 77,
    "start_time": "2025-02-20T10:35:08.360Z"
   },
   {
    "duration": 168,
    "start_time": "2025-02-20T10:35:08.439Z"
   },
   {
    "duration": 12,
    "start_time": "2025-02-20T10:35:08.609Z"
   },
   {
    "duration": 268,
    "start_time": "2025-02-20T10:35:08.622Z"
   },
   {
    "duration": 228,
    "start_time": "2025-02-20T10:35:08.892Z"
   },
   {
    "duration": 138,
    "start_time": "2025-02-20T10:35:09.122Z"
   },
   {
    "duration": 88,
    "start_time": "2025-02-20T10:35:09.262Z"
   },
   {
    "duration": 5467,
    "start_time": "2025-02-20T10:35:09.352Z"
   },
   {
    "duration": 30,
    "start_time": "2025-02-20T10:35:14.821Z"
   },
   {
    "duration": 167,
    "start_time": "2025-02-20T10:35:14.852Z"
   },
   {
    "duration": 12,
    "start_time": "2025-02-20T10:35:15.021Z"
   },
   {
    "duration": 186,
    "start_time": "2025-02-20T10:35:15.034Z"
   },
   {
    "duration": 10,
    "start_time": "2025-02-20T10:35:15.221Z"
   },
   {
    "duration": 114,
    "start_time": "2025-02-20T10:35:15.233Z"
   },
   {
    "duration": 15,
    "start_time": "2025-02-20T10:35:15.348Z"
   },
   {
    "duration": 174666,
    "start_time": "2025-02-20T10:35:15.364Z"
   },
   {
    "duration": 0,
    "start_time": "2025-02-20T10:38:10.032Z"
   },
   {
    "duration": 0,
    "start_time": "2025-02-20T10:38:10.033Z"
   },
   {
    "duration": 0,
    "start_time": "2025-02-20T10:38:10.035Z"
   },
   {
    "duration": 0,
    "start_time": "2025-02-20T10:38:10.048Z"
   },
   {
    "duration": 0,
    "start_time": "2025-02-20T10:38:10.049Z"
   },
   {
    "duration": 0,
    "start_time": "2025-02-20T10:38:10.051Z"
   },
   {
    "duration": 0,
    "start_time": "2025-02-20T10:38:10.052Z"
   },
   {
    "duration": 0,
    "start_time": "2025-02-20T10:38:10.053Z"
   },
   {
    "duration": 0,
    "start_time": "2025-02-20T10:38:10.054Z"
   },
   {
    "duration": 0,
    "start_time": "2025-02-20T10:38:10.055Z"
   },
   {
    "duration": 0,
    "start_time": "2025-02-20T10:38:10.057Z"
   },
   {
    "duration": 0,
    "start_time": "2025-02-20T10:38:10.057Z"
   },
   {
    "duration": 0,
    "start_time": "2025-02-20T10:38:10.059Z"
   },
   {
    "duration": 0,
    "start_time": "2025-02-20T10:38:10.060Z"
   },
   {
    "duration": 0,
    "start_time": "2025-02-20T10:38:10.061Z"
   },
   {
    "duration": 0,
    "start_time": "2025-02-20T10:38:10.062Z"
   },
   {
    "duration": 0,
    "start_time": "2025-02-20T10:38:10.063Z"
   },
   {
    "duration": 0,
    "start_time": "2025-02-20T10:38:10.065Z"
   },
   {
    "duration": 0,
    "start_time": "2025-02-20T10:38:10.066Z"
   },
   {
    "duration": 0,
    "start_time": "2025-02-20T10:38:10.067Z"
   },
   {
    "duration": 0,
    "start_time": "2025-02-20T10:38:10.068Z"
   },
   {
    "duration": 0,
    "start_time": "2025-02-20T10:38:10.069Z"
   },
   {
    "duration": 0,
    "start_time": "2025-02-20T10:38:10.070Z"
   },
   {
    "duration": 0,
    "start_time": "2025-02-20T10:38:10.071Z"
   },
   {
    "duration": 0,
    "start_time": "2025-02-20T10:38:10.072Z"
   },
   {
    "duration": 207,
    "start_time": "2025-02-20T10:38:14.643Z"
   },
   {
    "duration": 498,
    "start_time": "2025-02-20T10:38:16.885Z"
   },
   {
    "duration": 426,
    "start_time": "2025-02-20T10:39:12.603Z"
   },
   {
    "duration": 394,
    "start_time": "2025-02-20T10:39:50.141Z"
   },
   {
    "duration": 377,
    "start_time": "2025-02-20T10:40:14.105Z"
   },
   {
    "duration": 408,
    "start_time": "2025-02-20T10:40:24.795Z"
   },
   {
    "duration": 412,
    "start_time": "2025-02-20T10:43:12.671Z"
   },
   {
    "duration": 2651,
    "start_time": "2025-02-20T10:44:15.336Z"
   },
   {
    "duration": 11,
    "start_time": "2025-02-20T10:44:17.991Z"
   },
   {
    "duration": 2384,
    "start_time": "2025-02-20T10:44:18.004Z"
   },
   {
    "duration": 19,
    "start_time": "2025-02-20T10:44:20.390Z"
   },
   {
    "duration": 61,
    "start_time": "2025-02-20T10:44:20.411Z"
   },
   {
    "duration": 7,
    "start_time": "2025-02-20T10:44:20.473Z"
   },
   {
    "duration": 122,
    "start_time": "2025-02-20T10:44:20.482Z"
   },
   {
    "duration": 121,
    "start_time": "2025-02-20T10:44:20.606Z"
   },
   {
    "duration": 29,
    "start_time": "2025-02-20T10:44:20.729Z"
   },
   {
    "duration": 124,
    "start_time": "2025-02-20T10:44:20.760Z"
   },
   {
    "duration": 47,
    "start_time": "2025-02-20T10:44:20.885Z"
   },
   {
    "duration": 91,
    "start_time": "2025-02-20T10:44:20.934Z"
   },
   {
    "duration": 181,
    "start_time": "2025-02-20T10:44:21.027Z"
   },
   {
    "duration": 25,
    "start_time": "2025-02-20T10:44:21.209Z"
   },
   {
    "duration": 16,
    "start_time": "2025-02-20T10:44:21.248Z"
   },
   {
    "duration": 70,
    "start_time": "2025-02-20T10:44:21.266Z"
   },
   {
    "duration": 43,
    "start_time": "2025-02-20T10:44:21.338Z"
   },
   {
    "duration": 58,
    "start_time": "2025-02-20T10:44:21.383Z"
   },
   {
    "duration": 20,
    "start_time": "2025-02-20T10:44:21.443Z"
   },
   {
    "duration": 75,
    "start_time": "2025-02-20T10:44:21.465Z"
   },
   {
    "duration": 45,
    "start_time": "2025-02-20T10:44:21.542Z"
   },
   {
    "duration": 36,
    "start_time": "2025-02-20T10:44:21.588Z"
   },
   {
    "duration": 57,
    "start_time": "2025-02-20T10:44:21.625Z"
   },
   {
    "duration": 67,
    "start_time": "2025-02-20T10:44:21.684Z"
   },
   {
    "duration": 39,
    "start_time": "2025-02-20T10:44:21.753Z"
   },
   {
    "duration": 21,
    "start_time": "2025-02-20T10:44:21.793Z"
   },
   {
    "duration": 11,
    "start_time": "2025-02-20T10:44:21.816Z"
   },
   {
    "duration": 7,
    "start_time": "2025-02-20T10:44:21.831Z"
   },
   {
    "duration": 94,
    "start_time": "2025-02-20T10:44:21.839Z"
   },
   {
    "duration": 149,
    "start_time": "2025-02-20T10:44:21.935Z"
   },
   {
    "duration": 111,
    "start_time": "2025-02-20T10:44:22.085Z"
   },
   {
    "duration": 141,
    "start_time": "2025-02-20T10:44:22.197Z"
   },
   {
    "duration": 80,
    "start_time": "2025-02-20T10:44:22.340Z"
   },
   {
    "duration": 28,
    "start_time": "2025-02-20T10:44:22.422Z"
   },
   {
    "duration": 23,
    "start_time": "2025-02-20T10:44:22.452Z"
   },
   {
    "duration": 18,
    "start_time": "2025-02-20T10:44:22.477Z"
   },
   {
    "duration": 128,
    "start_time": "2025-02-20T10:44:22.497Z"
   },
   {
    "duration": 8,
    "start_time": "2025-02-20T10:44:22.627Z"
   },
   {
    "duration": 57,
    "start_time": "2025-02-20T10:44:22.637Z"
   },
   {
    "duration": 78,
    "start_time": "2025-02-20T10:44:22.696Z"
   },
   {
    "duration": 144,
    "start_time": "2025-02-20T10:44:22.777Z"
   },
   {
    "duration": 77,
    "start_time": "2025-02-20T10:44:22.923Z"
   },
   {
    "duration": 10,
    "start_time": "2025-02-20T10:44:23.002Z"
   },
   {
    "duration": 224,
    "start_time": "2025-02-20T10:44:23.014Z"
   },
   {
    "duration": 197,
    "start_time": "2025-02-20T10:44:23.247Z"
   },
   {
    "duration": 491,
    "start_time": "2025-02-20T10:44:23.445Z"
   },
   {
    "duration": 103,
    "start_time": "2025-02-20T10:44:23.937Z"
   },
   {
    "duration": 86,
    "start_time": "2025-02-20T10:44:24.042Z"
   },
   {
    "duration": 77,
    "start_time": "2025-02-20T10:44:24.129Z"
   },
   {
    "duration": 15,
    "start_time": "2025-02-20T10:44:24.207Z"
   },
   {
    "duration": 5,
    "start_time": "2025-02-20T10:44:24.223Z"
   },
   {
    "duration": 19,
    "start_time": "2025-02-20T10:44:24.229Z"
   },
   {
    "duration": 8,
    "start_time": "2025-02-20T10:44:24.250Z"
   },
   {
    "duration": 3099,
    "start_time": "2025-02-20T10:44:24.259Z"
   },
   {
    "duration": 60,
    "start_time": "2025-02-20T10:44:27.359Z"
   },
   {
    "duration": 40,
    "start_time": "2025-02-20T10:44:27.421Z"
   },
   {
    "duration": 173,
    "start_time": "2025-02-20T10:44:27.463Z"
   },
   {
    "duration": 21,
    "start_time": "2025-02-20T10:44:27.637Z"
   },
   {
    "duration": 178,
    "start_time": "2025-02-20T10:44:27.659Z"
   },
   {
    "duration": 228,
    "start_time": "2025-02-20T10:44:27.839Z"
   },
   {
    "duration": 98,
    "start_time": "2025-02-20T10:44:28.068Z"
   },
   {
    "duration": 115,
    "start_time": "2025-02-20T10:44:28.168Z"
   },
   {
    "duration": 5591,
    "start_time": "2025-02-20T10:44:28.285Z"
   },
   {
    "duration": 24,
    "start_time": "2025-02-20T10:44:33.877Z"
   },
   {
    "duration": 258,
    "start_time": "2025-02-20T10:44:33.903Z"
   },
   {
    "duration": 12,
    "start_time": "2025-02-20T10:44:34.162Z"
   },
   {
    "duration": 171,
    "start_time": "2025-02-20T10:44:34.176Z"
   },
   {
    "duration": 10,
    "start_time": "2025-02-20T10:44:34.349Z"
   },
   {
    "duration": 125,
    "start_time": "2025-02-20T10:44:34.360Z"
   },
   {
    "duration": 116,
    "start_time": "2025-02-20T10:44:34.486Z"
   },
   {
    "duration": 4018,
    "start_time": "2025-02-20T11:00:58.592Z"
   },
   {
    "duration": 1535,
    "start_time": "2025-02-20T11:01:02.613Z"
   },
   {
    "duration": 2278,
    "start_time": "2025-02-20T11:01:04.150Z"
   },
   {
    "duration": 22,
    "start_time": "2025-02-20T11:01:06.430Z"
   },
   {
    "duration": 8,
    "start_time": "2025-02-20T11:01:06.455Z"
   },
   {
    "duration": 89,
    "start_time": "2025-02-20T11:01:06.464Z"
   },
   {
    "duration": 106,
    "start_time": "2025-02-20T11:01:06.555Z"
   },
   {
    "duration": 170,
    "start_time": "2025-02-20T11:01:06.662Z"
   },
   {
    "duration": 22,
    "start_time": "2025-02-20T11:01:06.833Z"
   },
   {
    "duration": 140,
    "start_time": "2025-02-20T11:01:06.857Z"
   },
   {
    "duration": 72,
    "start_time": "2025-02-20T11:01:06.999Z"
   },
   {
    "duration": 99,
    "start_time": "2025-02-20T11:01:07.073Z"
   },
   {
    "duration": 186,
    "start_time": "2025-02-20T11:01:07.173Z"
   },
   {
    "duration": 24,
    "start_time": "2025-02-20T11:01:07.362Z"
   },
   {
    "duration": 17,
    "start_time": "2025-02-20T11:01:07.402Z"
   },
   {
    "duration": 18,
    "start_time": "2025-02-20T11:01:07.421Z"
   },
   {
    "duration": 40,
    "start_time": "2025-02-20T11:01:07.440Z"
   },
   {
    "duration": 38,
    "start_time": "2025-02-20T11:01:07.481Z"
   },
   {
    "duration": 33,
    "start_time": "2025-02-20T11:01:07.520Z"
   },
   {
    "duration": 24,
    "start_time": "2025-02-20T11:01:07.555Z"
   },
   {
    "duration": 72,
    "start_time": "2025-02-20T11:01:07.581Z"
   },
   {
    "duration": 37,
    "start_time": "2025-02-20T11:01:07.655Z"
   },
   {
    "duration": 67,
    "start_time": "2025-02-20T11:01:07.701Z"
   },
   {
    "duration": 122,
    "start_time": "2025-02-20T11:01:07.770Z"
   },
   {
    "duration": 39,
    "start_time": "2025-02-20T11:01:07.894Z"
   },
   {
    "duration": 41,
    "start_time": "2025-02-20T11:01:07.935Z"
   },
   {
    "duration": 7,
    "start_time": "2025-02-20T11:01:07.977Z"
   },
   {
    "duration": 160,
    "start_time": "2025-02-20T11:01:07.985Z"
   },
   {
    "duration": 119,
    "start_time": "2025-02-20T11:01:08.147Z"
   },
   {
    "duration": 144,
    "start_time": "2025-02-20T11:01:08.268Z"
   },
   {
    "duration": 110,
    "start_time": "2025-02-20T11:01:08.414Z"
   },
   {
    "duration": 150,
    "start_time": "2025-02-20T11:01:08.525Z"
   },
   {
    "duration": 110,
    "start_time": "2025-02-20T11:01:08.677Z"
   },
   {
    "duration": 19,
    "start_time": "2025-02-20T11:01:08.788Z"
   },
   {
    "duration": 35,
    "start_time": "2025-02-20T11:01:20.084Z"
   },
   {
    "duration": 118,
    "start_time": "2025-02-20T11:02:33.099Z"
   },
   {
    "duration": 61,
    "start_time": "2025-02-20T11:03:19.754Z"
   },
   {
    "duration": 42,
    "start_time": "2025-02-20T11:04:19.972Z"
   },
   {
    "duration": 42,
    "start_time": "2025-02-20T11:04:32.103Z"
   },
   {
    "duration": 10,
    "start_time": "2025-02-20T11:04:37.524Z"
   },
   {
    "duration": 215,
    "start_time": "2025-02-20T11:04:50.874Z"
   },
   {
    "duration": 4641,
    "start_time": "2025-02-20T14:14:30.932Z"
   },
   {
    "duration": 1348,
    "start_time": "2025-02-20T14:14:35.575Z"
   },
   {
    "duration": 2171,
    "start_time": "2025-02-20T14:14:36.924Z"
   },
   {
    "duration": 21,
    "start_time": "2025-02-20T14:14:39.097Z"
   },
   {
    "duration": 22,
    "start_time": "2025-02-20T14:14:39.119Z"
   },
   {
    "duration": 9,
    "start_time": "2025-02-20T14:14:39.143Z"
   },
   {
    "duration": 34,
    "start_time": "2025-02-20T14:14:39.153Z"
   },
   {
    "duration": 140,
    "start_time": "2025-02-20T14:14:39.188Z"
   },
   {
    "duration": 20,
    "start_time": "2025-02-20T14:14:39.330Z"
   },
   {
    "duration": 18,
    "start_time": "2025-02-20T14:14:39.352Z"
   },
   {
    "duration": 55,
    "start_time": "2025-02-20T14:14:39.371Z"
   },
   {
    "duration": 104,
    "start_time": "2025-02-20T14:14:39.428Z"
   },
   {
    "duration": 163,
    "start_time": "2025-02-20T14:14:39.533Z"
   },
   {
    "duration": 32,
    "start_time": "2025-02-20T14:14:39.698Z"
   },
   {
    "duration": 15,
    "start_time": "2025-02-20T14:14:39.732Z"
   },
   {
    "duration": 8,
    "start_time": "2025-02-20T14:14:39.748Z"
   },
   {
    "duration": 24,
    "start_time": "2025-02-20T14:14:39.758Z"
   },
   {
    "duration": 53,
    "start_time": "2025-02-20T14:14:39.784Z"
   },
   {
    "duration": 22,
    "start_time": "2025-02-20T14:14:39.839Z"
   },
   {
    "duration": 32,
    "start_time": "2025-02-20T14:14:39.862Z"
   },
   {
    "duration": 60,
    "start_time": "2025-02-20T14:14:39.896Z"
   },
   {
    "duration": 36,
    "start_time": "2025-02-20T14:14:39.958Z"
   },
   {
    "duration": 44,
    "start_time": "2025-02-20T14:14:39.995Z"
   },
   {
    "duration": 9,
    "start_time": "2025-02-20T14:14:40.041Z"
   },
   {
    "duration": 10,
    "start_time": "2025-02-20T14:14:40.052Z"
   },
   {
    "duration": 32,
    "start_time": "2025-02-20T14:14:40.064Z"
   },
   {
    "duration": 15,
    "start_time": "2025-02-20T14:14:40.098Z"
   },
   {
    "duration": 20,
    "start_time": "2025-02-20T14:14:40.117Z"
   },
   {
    "duration": 156,
    "start_time": "2025-02-20T14:14:40.139Z"
   },
   {
    "duration": 142,
    "start_time": "2025-02-20T14:14:40.296Z"
   },
   {
    "duration": 106,
    "start_time": "2025-02-20T14:14:40.440Z"
   },
   {
    "duration": 152,
    "start_time": "2025-02-20T14:14:40.548Z"
   },
   {
    "duration": 77,
    "start_time": "2025-02-20T14:14:40.701Z"
   },
   {
    "duration": 29,
    "start_time": "2025-02-20T14:14:40.780Z"
   },
   {
    "duration": 33,
    "start_time": "2025-02-20T14:14:40.811Z"
   },
   {
    "duration": 15,
    "start_time": "2025-02-20T14:14:40.846Z"
   },
   {
    "duration": 62,
    "start_time": "2025-02-20T14:14:40.863Z"
   },
   {
    "duration": 8,
    "start_time": "2025-02-20T14:14:40.927Z"
   },
   {
    "duration": 59,
    "start_time": "2025-02-20T14:14:40.936Z"
   },
   {
    "duration": 29,
    "start_time": "2025-02-20T14:14:40.997Z"
   },
   {
    "duration": 139,
    "start_time": "2025-02-20T14:14:41.027Z"
   },
   {
    "duration": 69,
    "start_time": "2025-02-20T14:14:41.167Z"
   },
   {
    "duration": 8,
    "start_time": "2025-02-20T14:14:41.238Z"
   },
   {
    "duration": 215,
    "start_time": "2025-02-20T14:14:41.247Z"
   },
   {
    "duration": 202,
    "start_time": "2025-02-20T14:14:41.463Z"
   },
   {
    "duration": 426,
    "start_time": "2025-02-20T14:14:41.667Z"
   },
   {
    "duration": 89,
    "start_time": "2025-02-20T14:14:42.094Z"
   },
   {
    "duration": 64,
    "start_time": "2025-02-20T14:14:42.185Z"
   },
   {
    "duration": 110,
    "start_time": "2025-02-20T14:14:42.251Z"
   },
   {
    "duration": 14,
    "start_time": "2025-02-20T14:14:42.362Z"
   },
   {
    "duration": 31,
    "start_time": "2025-02-20T14:14:42.378Z"
   },
   {
    "duration": 4,
    "start_time": "2025-02-20T14:14:42.411Z"
   },
   {
    "duration": 9,
    "start_time": "2025-02-20T14:14:42.417Z"
   },
   {
    "duration": 3475,
    "start_time": "2025-02-20T14:14:42.428Z"
   },
   {
    "duration": 52,
    "start_time": "2025-02-20T14:14:45.904Z"
   },
   {
    "duration": 26,
    "start_time": "2025-02-20T14:14:45.958Z"
   },
   {
    "duration": 179,
    "start_time": "2025-02-20T14:14:45.985Z"
   },
   {
    "duration": 10,
    "start_time": "2025-02-20T14:14:46.166Z"
   },
   {
    "duration": 216,
    "start_time": "2025-02-20T14:14:46.177Z"
   },
   {
    "duration": 190,
    "start_time": "2025-02-20T14:14:46.394Z"
   },
   {
    "duration": 113,
    "start_time": "2025-02-20T14:14:46.586Z"
   },
   {
    "duration": 67,
    "start_time": "2025-02-20T14:14:46.701Z"
   },
   {
    "duration": 5751,
    "start_time": "2025-02-20T14:14:46.770Z"
   },
   {
    "duration": 23,
    "start_time": "2025-02-20T14:14:52.523Z"
   },
   {
    "duration": 178,
    "start_time": "2025-02-20T14:14:52.548Z"
   },
   {
    "duration": 12,
    "start_time": "2025-02-20T14:14:52.727Z"
   },
   {
    "duration": 179,
    "start_time": "2025-02-20T14:14:52.740Z"
   },
   {
    "duration": 10,
    "start_time": "2025-02-20T14:14:52.920Z"
   },
   {
    "duration": 33,
    "start_time": "2025-02-20T14:14:52.932Z"
   },
   {
    "duration": 8,
    "start_time": "2025-02-20T14:14:52.966Z"
   },
   {
    "duration": 382742,
    "start_time": "2025-02-20T14:14:52.976Z"
   },
   {
    "duration": 47,
    "start_time": "2025-02-20T14:21:15.720Z"
   },
   {
    "duration": 20,
    "start_time": "2025-02-20T14:21:15.768Z"
   },
   {
    "duration": 81,
    "start_time": "2025-02-20T14:21:15.809Z"
   },
   {
    "duration": 52,
    "start_time": "2025-02-20T14:21:15.893Z"
   },
   {
    "duration": 42,
    "start_time": "2025-02-20T14:21:15.947Z"
   },
   {
    "duration": 48,
    "start_time": "2025-02-20T14:21:15.990Z"
   },
   {
    "duration": 25,
    "start_time": "2025-02-20T14:21:16.039Z"
   },
   {
    "duration": 8,
    "start_time": "2025-02-20T14:21:16.066Z"
   },
   {
    "duration": 181,
    "start_time": "2025-02-20T14:21:16.076Z"
   },
   {
    "duration": 134,
    "start_time": "2025-02-20T14:21:16.259Z"
   },
   {
    "duration": 202,
    "start_time": "2025-02-20T14:21:16.398Z"
   },
   {
    "duration": 131,
    "start_time": "2025-02-20T14:21:16.602Z"
   },
   {
    "duration": 116,
    "start_time": "2025-02-20T14:21:16.735Z"
   },
   {
    "duration": 112,
    "start_time": "2025-02-20T14:21:16.853Z"
   },
   {
    "duration": 97,
    "start_time": "2025-02-20T14:21:16.968Z"
   },
   {
    "duration": 50,
    "start_time": "2025-02-20T14:21:17.067Z"
   },
   {
    "duration": 106,
    "start_time": "2025-02-20T14:21:17.119Z"
   },
   {
    "duration": 21,
    "start_time": "2025-02-20T14:21:17.227Z"
   },
   {
    "duration": 172,
    "start_time": "2025-02-20T14:21:17.250Z"
   },
   {
    "duration": 88,
    "start_time": "2025-02-20T14:21:17.423Z"
   },
   {
    "duration": 32,
    "start_time": "2025-02-20T14:21:17.513Z"
   },
   {
    "duration": 16,
    "start_time": "2025-02-20T14:21:17.547Z"
   },
   {
    "duration": 87,
    "start_time": "2025-02-20T14:21:17.564Z"
   },
   {
    "duration": 3685,
    "start_time": "2025-02-21T07:06:37.793Z"
   },
   {
    "duration": 1399,
    "start_time": "2025-02-21T07:06:41.480Z"
   },
   {
    "duration": 2183,
    "start_time": "2025-02-21T07:06:42.881Z"
   },
   {
    "duration": 22,
    "start_time": "2025-02-21T07:06:45.066Z"
   },
   {
    "duration": 10,
    "start_time": "2025-02-21T07:06:45.090Z"
   },
   {
    "duration": 9,
    "start_time": "2025-02-21T07:06:45.102Z"
   },
   {
    "duration": 16,
    "start_time": "2025-02-21T07:06:45.113Z"
   },
   {
    "duration": 128,
    "start_time": "2025-02-21T07:06:45.131Z"
   },
   {
    "duration": 18,
    "start_time": "2025-02-21T07:06:45.261Z"
   },
   {
    "duration": 39,
    "start_time": "2025-02-21T07:06:45.281Z"
   },
   {
    "duration": 44,
    "start_time": "2025-02-21T07:06:45.322Z"
   },
   {
    "duration": 105,
    "start_time": "2025-02-21T07:06:45.369Z"
   },
   {
    "duration": 179,
    "start_time": "2025-02-21T07:06:45.476Z"
   },
   {
    "duration": 25,
    "start_time": "2025-02-21T07:06:45.657Z"
   },
   {
    "duration": 30,
    "start_time": "2025-02-21T07:06:45.683Z"
   },
   {
    "duration": 6,
    "start_time": "2025-02-21T07:06:45.715Z"
   },
   {
    "duration": 26,
    "start_time": "2025-02-21T07:06:45.723Z"
   },
   {
    "duration": 28,
    "start_time": "2025-02-21T07:06:45.750Z"
   },
   {
    "duration": 41,
    "start_time": "2025-02-21T07:06:45.779Z"
   },
   {
    "duration": 16,
    "start_time": "2025-02-21T07:06:45.822Z"
   },
   {
    "duration": 49,
    "start_time": "2025-02-21T07:06:45.840Z"
   },
   {
    "duration": 35,
    "start_time": "2025-02-21T07:06:45.909Z"
   },
   {
    "duration": 102,
    "start_time": "2025-02-21T07:06:45.946Z"
   },
   {
    "duration": 5,
    "start_time": "2025-02-21T07:06:46.050Z"
   },
   {
    "duration": 8,
    "start_time": "2025-02-21T07:06:46.057Z"
   },
   {
    "duration": 15,
    "start_time": "2025-02-21T07:06:46.066Z"
   },
   {
    "duration": 5,
    "start_time": "2025-02-21T07:06:46.083Z"
   },
   {
    "duration": 6,
    "start_time": "2025-02-21T07:06:46.109Z"
   },
   {
    "duration": 99,
    "start_time": "2025-02-21T07:06:46.116Z"
   },
   {
    "duration": 144,
    "start_time": "2025-02-21T07:06:46.217Z"
   },
   {
    "duration": 103,
    "start_time": "2025-02-21T07:06:46.363Z"
   },
   {
    "duration": 147,
    "start_time": "2025-02-21T07:06:46.468Z"
   },
   {
    "duration": 74,
    "start_time": "2025-02-21T07:06:46.617Z"
   },
   {
    "duration": 29,
    "start_time": "2025-02-21T07:06:46.693Z"
   },
   {
    "duration": 35,
    "start_time": "2025-02-21T07:06:46.723Z"
   },
   {
    "duration": 14,
    "start_time": "2025-02-21T07:06:46.760Z"
   },
   {
    "duration": 66,
    "start_time": "2025-02-21T07:06:46.775Z"
   },
   {
    "duration": 7,
    "start_time": "2025-02-21T07:06:46.843Z"
   },
   {
    "duration": 67,
    "start_time": "2025-02-21T07:06:46.852Z"
   },
   {
    "duration": 43,
    "start_time": "2025-02-21T07:06:46.921Z"
   },
   {
    "duration": 129,
    "start_time": "2025-02-21T07:06:46.965Z"
   },
   {
    "duration": 69,
    "start_time": "2025-02-21T07:06:47.095Z"
   },
   {
    "duration": 9,
    "start_time": "2025-02-21T07:06:47.166Z"
   },
   {
    "duration": 219,
    "start_time": "2025-02-21T07:06:47.176Z"
   },
   {
    "duration": 199,
    "start_time": "2025-02-21T07:06:47.396Z"
   },
   {
    "duration": 480,
    "start_time": "2025-02-21T07:06:47.597Z"
   },
   {
    "duration": 93,
    "start_time": "2025-02-21T07:06:48.079Z"
   },
   {
    "duration": 65,
    "start_time": "2025-02-21T07:06:48.174Z"
   },
   {
    "duration": 93,
    "start_time": "2025-02-21T07:06:48.241Z"
   },
   {
    "duration": 13,
    "start_time": "2025-02-21T07:06:48.335Z"
   },
   {
    "duration": 3,
    "start_time": "2025-02-21T07:06:48.350Z"
   },
   {
    "duration": 13,
    "start_time": "2025-02-21T07:06:48.354Z"
   },
   {
    "duration": 13,
    "start_time": "2025-02-21T07:06:48.369Z"
   },
   {
    "duration": 3434,
    "start_time": "2025-02-21T07:06:48.383Z"
   },
   {
    "duration": 52,
    "start_time": "2025-02-21T07:06:51.818Z"
   },
   {
    "duration": 40,
    "start_time": "2025-02-21T07:06:51.871Z"
   },
   {
    "duration": 169,
    "start_time": "2025-02-21T07:06:51.912Z"
   },
   {
    "duration": 12,
    "start_time": "2025-02-21T07:06:52.083Z"
   },
   {
    "duration": 179,
    "start_time": "2025-02-21T07:06:52.097Z"
   },
   {
    "duration": 212,
    "start_time": "2025-02-21T07:06:52.277Z"
   },
   {
    "duration": 129,
    "start_time": "2025-02-21T07:06:52.490Z"
   },
   {
    "duration": 74,
    "start_time": "2025-02-21T07:06:52.621Z"
   },
   {
    "duration": 5650,
    "start_time": "2025-02-21T07:06:52.696Z"
   },
   {
    "duration": 24,
    "start_time": "2025-02-21T07:06:58.348Z"
   },
   {
    "duration": 172,
    "start_time": "2025-02-21T07:06:58.374Z"
   },
   {
    "duration": 12,
    "start_time": "2025-02-21T07:06:58.548Z"
   },
   {
    "duration": 174,
    "start_time": "2025-02-21T07:06:58.561Z"
   },
   {
    "duration": 10,
    "start_time": "2025-02-21T07:06:58.736Z"
   },
   {
    "duration": 26,
    "start_time": "2025-02-21T07:06:58.748Z"
   },
   {
    "duration": 8,
    "start_time": "2025-02-21T07:06:58.776Z"
   },
   {
    "duration": 379782,
    "start_time": "2025-02-21T07:06:58.785Z"
   },
   {
    "duration": 57,
    "start_time": "2025-02-21T07:13:18.568Z"
   },
   {
    "duration": 20,
    "start_time": "2025-02-21T07:13:18.626Z"
   },
   {
    "duration": 93,
    "start_time": "2025-02-21T07:13:18.647Z"
   },
   {
    "duration": 32,
    "start_time": "2025-02-21T07:13:18.742Z"
   },
   {
    "duration": 56,
    "start_time": "2025-02-21T07:13:18.776Z"
   },
   {
    "duration": 38,
    "start_time": "2025-02-21T07:13:18.834Z"
   },
   {
    "duration": 51,
    "start_time": "2025-02-21T07:13:18.874Z"
   },
   {
    "duration": 9,
    "start_time": "2025-02-21T07:13:18.927Z"
   },
   {
    "duration": 165,
    "start_time": "2025-02-21T07:13:18.938Z"
   },
   {
    "duration": 137,
    "start_time": "2025-02-21T07:13:19.109Z"
   },
   {
    "duration": 204,
    "start_time": "2025-02-21T07:13:19.252Z"
   },
   {
    "duration": 124,
    "start_time": "2025-02-21T07:13:19.458Z"
   },
   {
    "duration": 132,
    "start_time": "2025-02-21T07:13:19.583Z"
   },
   {
    "duration": 113,
    "start_time": "2025-02-21T07:13:19.717Z"
   },
   {
    "duration": 112,
    "start_time": "2025-02-21T07:13:19.832Z"
   },
   {
    "duration": 37,
    "start_time": "2025-02-21T07:13:19.945Z"
   },
   {
    "duration": 193,
    "start_time": "2025-02-21T07:13:19.983Z"
   },
   {
    "duration": 19,
    "start_time": "2025-02-21T07:13:20.178Z"
   },
   {
    "duration": 148,
    "start_time": "2025-02-21T07:13:20.199Z"
   },
   {
    "duration": 83,
    "start_time": "2025-02-21T07:13:20.348Z"
   },
   {
    "duration": 30,
    "start_time": "2025-02-21T07:13:20.433Z"
   },
   {
    "duration": 17,
    "start_time": "2025-02-21T07:13:20.465Z"
   },
   {
    "duration": 91,
    "start_time": "2025-02-21T07:13:20.483Z"
   },
   {
    "duration": 9,
    "start_time": "2025-02-21T07:13:20.575Z"
   },
   {
    "duration": 11,
    "start_time": "2025-02-21T07:13:35.281Z"
   },
   {
    "duration": 104,
    "start_time": "2025-02-21T07:14:29.407Z"
   },
   {
    "duration": 5,
    "start_time": "2025-02-21T07:14:40.563Z"
   },
   {
    "duration": 11,
    "start_time": "2025-02-21T07:14:42.711Z"
   },
   {
    "duration": 5,
    "start_time": "2025-02-21T07:14:54.115Z"
   },
   {
    "duration": 10,
    "start_time": "2025-02-21T07:14:55.868Z"
   },
   {
    "duration": 5,
    "start_time": "2025-02-21T07:15:04.836Z"
   },
   {
    "duration": 11,
    "start_time": "2025-02-21T07:15:06.482Z"
   },
   {
    "duration": 4,
    "start_time": "2025-02-21T07:15:19.036Z"
   },
   {
    "duration": 11,
    "start_time": "2025-02-21T07:15:21.061Z"
   },
   {
    "duration": 5,
    "start_time": "2025-02-21T07:16:09.486Z"
   },
   {
    "duration": 12,
    "start_time": "2025-02-21T07:16:11.777Z"
   },
   {
    "duration": 5,
    "start_time": "2025-02-21T07:16:26.068Z"
   },
   {
    "duration": 16,
    "start_time": "2025-02-21T07:16:27.838Z"
   },
   {
    "duration": 63,
    "start_time": "2025-02-21T07:17:55.708Z"
   },
   {
    "duration": 5,
    "start_time": "2025-02-21T07:17:59.190Z"
   },
   {
    "duration": 11,
    "start_time": "2025-02-21T07:18:00.860Z"
   },
   {
    "duration": 4295,
    "start_time": "2025-02-21T09:30:58.634Z"
   },
   {
    "duration": 1430,
    "start_time": "2025-02-21T09:31:02.931Z"
   },
   {
    "duration": 2464,
    "start_time": "2025-02-21T09:31:04.363Z"
   },
   {
    "duration": 23,
    "start_time": "2025-02-21T09:31:06.828Z"
   },
   {
    "duration": 17,
    "start_time": "2025-02-21T09:31:06.854Z"
   },
   {
    "duration": 14,
    "start_time": "2025-02-21T09:31:06.873Z"
   },
   {
    "duration": 7,
    "start_time": "2025-02-21T09:31:06.888Z"
   },
   {
    "duration": 149,
    "start_time": "2025-02-21T09:31:06.896Z"
   },
   {
    "duration": 22,
    "start_time": "2025-02-21T09:31:07.047Z"
   },
   {
    "duration": 19,
    "start_time": "2025-02-21T09:31:07.071Z"
   },
   {
    "duration": 41,
    "start_time": "2025-02-21T09:31:07.091Z"
   },
   {
    "duration": 148,
    "start_time": "2025-02-21T09:31:07.133Z"
   },
   {
    "duration": 168,
    "start_time": "2025-02-21T09:31:07.283Z"
   },
   {
    "duration": 44,
    "start_time": "2025-02-21T09:31:07.453Z"
   },
   {
    "duration": 16,
    "start_time": "2025-02-21T09:31:07.498Z"
   },
   {
    "duration": 12,
    "start_time": "2025-02-21T09:31:07.515Z"
   },
   {
    "duration": 51,
    "start_time": "2025-02-21T09:31:07.529Z"
   },
   {
    "duration": 29,
    "start_time": "2025-02-21T09:31:07.582Z"
   },
   {
    "duration": 85,
    "start_time": "2025-02-21T09:31:07.613Z"
   },
   {
    "duration": 17,
    "start_time": "2025-02-21T09:31:07.699Z"
   },
   {
    "duration": 64,
    "start_time": "2025-02-21T09:31:07.718Z"
   },
   {
    "duration": 36,
    "start_time": "2025-02-21T09:31:07.784Z"
   },
   {
    "duration": 46,
    "start_time": "2025-02-21T09:31:07.821Z"
   },
   {
    "duration": 7,
    "start_time": "2025-02-21T09:31:07.883Z"
   },
   {
    "duration": 12,
    "start_time": "2025-02-21T09:31:07.891Z"
   },
   {
    "duration": 21,
    "start_time": "2025-02-21T09:31:07.904Z"
   },
   {
    "duration": 5,
    "start_time": "2025-02-21T09:31:07.927Z"
   },
   {
    "duration": 7,
    "start_time": "2025-02-21T09:31:07.934Z"
   },
   {
    "duration": 131,
    "start_time": "2025-02-21T09:31:07.942Z"
   },
   {
    "duration": 161,
    "start_time": "2025-02-21T09:31:08.079Z"
   },
   {
    "duration": 110,
    "start_time": "2025-02-21T09:31:08.242Z"
   },
   {
    "duration": 168,
    "start_time": "2025-02-21T09:31:08.354Z"
   },
   {
    "duration": 95,
    "start_time": "2025-02-21T09:31:08.523Z"
   },
   {
    "duration": 16,
    "start_time": "2025-02-21T09:31:08.620Z"
   },
   {
    "duration": 61,
    "start_time": "2025-02-21T09:31:08.638Z"
   },
   {
    "duration": 16,
    "start_time": "2025-02-21T09:31:08.701Z"
   },
   {
    "duration": 83,
    "start_time": "2025-02-21T09:31:08.719Z"
   },
   {
    "duration": 8,
    "start_time": "2025-02-21T09:31:08.803Z"
   },
   {
    "duration": 66,
    "start_time": "2025-02-21T09:31:08.812Z"
   },
   {
    "duration": 25,
    "start_time": "2025-02-21T09:31:08.879Z"
   },
   {
    "duration": 174,
    "start_time": "2025-02-21T09:31:08.909Z"
   },
   {
    "duration": 55,
    "start_time": "2025-02-21T09:31:09.084Z"
   },
   {
    "duration": 8,
    "start_time": "2025-02-21T09:31:09.141Z"
   },
   {
    "duration": 260,
    "start_time": "2025-02-21T09:31:09.157Z"
   },
   {
    "duration": 223,
    "start_time": "2025-02-21T09:31:09.418Z"
   },
   {
    "duration": 478,
    "start_time": "2025-02-21T09:31:09.642Z"
   },
   {
    "duration": 94,
    "start_time": "2025-02-21T09:31:10.121Z"
   },
   {
    "duration": 70,
    "start_time": "2025-02-21T09:31:10.216Z"
   },
   {
    "duration": 101,
    "start_time": "2025-02-21T09:31:10.288Z"
   },
   {
    "duration": 14,
    "start_time": "2025-02-21T09:31:10.390Z"
   },
   {
    "duration": 4,
    "start_time": "2025-02-21T09:31:10.405Z"
   },
   {
    "duration": 78,
    "start_time": "2025-02-21T09:31:10.410Z"
   },
   {
    "duration": 11,
    "start_time": "2025-02-21T09:31:10.490Z"
   },
   {
    "duration": 4027,
    "start_time": "2025-02-21T09:31:10.502Z"
   },
   {
    "duration": 71,
    "start_time": "2025-02-21T09:31:14.530Z"
   },
   {
    "duration": 23,
    "start_time": "2025-02-21T09:31:14.602Z"
   },
   {
    "duration": 212,
    "start_time": "2025-02-21T09:31:14.627Z"
   },
   {
    "duration": 43,
    "start_time": "2025-02-21T09:31:14.840Z"
   },
   {
    "duration": 199,
    "start_time": "2025-02-21T09:31:14.885Z"
   },
   {
    "duration": 236,
    "start_time": "2025-02-21T09:31:15.086Z"
   },
   {
    "duration": 118,
    "start_time": "2025-02-21T09:31:15.324Z"
   },
   {
    "duration": 87,
    "start_time": "2025-02-21T09:31:15.443Z"
   },
   {
    "duration": 6984,
    "start_time": "2025-02-21T09:31:15.532Z"
   },
   {
    "duration": 25,
    "start_time": "2025-02-21T09:31:22.517Z"
   },
   {
    "duration": 237,
    "start_time": "2025-02-21T09:31:22.544Z"
   },
   {
    "duration": 12,
    "start_time": "2025-02-21T09:31:22.786Z"
   },
   {
    "duration": 186,
    "start_time": "2025-02-21T09:31:22.799Z"
   },
   {
    "duration": 11,
    "start_time": "2025-02-21T09:31:22.987Z"
   },
   {
    "duration": 24,
    "start_time": "2025-02-21T09:31:22.999Z"
   },
   {
    "duration": 4,
    "start_time": "2025-02-21T09:31:23.025Z"
   },
   {
    "duration": 456567,
    "start_time": "2025-02-21T09:31:23.030Z"
   },
   {
    "duration": 64,
    "start_time": "2025-02-21T09:38:59.599Z"
   },
   {
    "duration": 15,
    "start_time": "2025-02-21T09:38:59.666Z"
   },
   {
    "duration": 95,
    "start_time": "2025-02-21T09:38:59.683Z"
   },
   {
    "duration": 31,
    "start_time": "2025-02-21T09:38:59.780Z"
   },
   {
    "duration": 46,
    "start_time": "2025-02-21T09:38:59.812Z"
   },
   {
    "duration": 40,
    "start_time": "2025-02-21T09:38:59.863Z"
   },
   {
    "duration": 29,
    "start_time": "2025-02-21T09:38:59.905Z"
   },
   {
    "duration": 22,
    "start_time": "2025-02-21T09:38:59.936Z"
   },
   {
    "duration": 190,
    "start_time": "2025-02-21T09:38:59.959Z"
   },
   {
    "duration": 156,
    "start_time": "2025-02-21T09:39:00.151Z"
   },
   {
    "duration": 212,
    "start_time": "2025-02-21T09:39:00.308Z"
   },
   {
    "duration": 119,
    "start_time": "2025-02-21T09:39:00.521Z"
   },
   {
    "duration": 138,
    "start_time": "2025-02-21T09:39:00.642Z"
   },
   {
    "duration": 119,
    "start_time": "2025-02-21T09:39:00.783Z"
   },
   {
    "duration": 103,
    "start_time": "2025-02-21T09:39:00.904Z"
   },
   {
    "duration": 32,
    "start_time": "2025-02-21T09:39:01.010Z"
   },
   {
    "duration": 140,
    "start_time": "2025-02-21T09:39:01.043Z"
   },
   {
    "duration": 21,
    "start_time": "2025-02-21T09:39:01.184Z"
   },
   {
    "duration": 263,
    "start_time": "2025-02-21T09:39:01.207Z"
   },
   {
    "duration": 94,
    "start_time": "2025-02-21T09:39:01.472Z"
   },
   {
    "duration": 50,
    "start_time": "2025-02-21T09:39:01.569Z"
   },
   {
    "duration": 69,
    "start_time": "2025-02-21T09:39:01.621Z"
   },
   {
    "duration": 77,
    "start_time": "2025-02-21T09:39:01.691Z"
   },
   {
    "duration": 30,
    "start_time": "2025-02-21T09:39:01.773Z"
   },
   {
    "duration": 23,
    "start_time": "2025-02-21T09:39:01.805Z"
   },
   {
    "duration": 14,
    "start_time": "2025-02-21T10:01:33.742Z"
   },
   {
    "duration": 24,
    "start_time": "2025-02-21T10:01:35.960Z"
   },
   {
    "duration": 101,
    "start_time": "2025-02-21T10:20:36.445Z"
   },
   {
    "duration": 8,
    "start_time": "2025-02-21T10:20:47.947Z"
   },
   {
    "duration": 55,
    "start_time": "2025-02-21T10:21:04.334Z"
   },
   {
    "duration": 9,
    "start_time": "2025-02-21T10:38:49.907Z"
   },
   {
    "duration": 129,
    "start_time": "2025-02-21T10:49:48.795Z"
   },
   {
    "duration": 122,
    "start_time": "2025-02-21T10:50:02.637Z"
   },
   {
    "duration": 116,
    "start_time": "2025-02-21T10:50:57.548Z"
   },
   {
    "duration": 117,
    "start_time": "2025-02-21T10:51:10.470Z"
   },
   {
    "duration": 242,
    "start_time": "2025-02-21T11:00:15.379Z"
   },
   {
    "duration": 75,
    "start_time": "2025-02-21T11:00:41.256Z"
   },
   {
    "duration": 214,
    "start_time": "2025-02-21T11:00:43.392Z"
   },
   {
    "duration": 96,
    "start_time": "2025-02-21T11:00:52.138Z"
   },
   {
    "duration": 229,
    "start_time": "2025-02-21T11:00:59.578Z"
   },
   {
    "duration": 331,
    "start_time": "2025-02-21T11:01:07.737Z"
   },
   {
    "duration": 529,
    "start_time": "2025-02-21T11:01:19.019Z"
   },
   {
    "duration": 184,
    "start_time": "2025-02-21T11:01:29.478Z"
   },
   {
    "duration": 11,
    "start_time": "2025-02-21T11:03:38.233Z"
   },
   {
    "duration": 10,
    "start_time": "2025-02-21T11:03:58.556Z"
   },
   {
    "duration": 5,
    "start_time": "2025-02-21T11:04:13.959Z"
   },
   {
    "duration": 76,
    "start_time": "2025-02-21T11:06:01.982Z"
   },
   {
    "duration": 4,
    "start_time": "2025-02-21T11:06:10.589Z"
   },
   {
    "duration": 17,
    "start_time": "2025-02-21T11:06:21.872Z"
   },
   {
    "duration": 14,
    "start_time": "2025-02-21T11:06:32.825Z"
   },
   {
    "duration": 20,
    "start_time": "2025-02-21T11:06:37.957Z"
   },
   {
    "duration": 14,
    "start_time": "2025-02-21T11:06:49.008Z"
   },
   {
    "duration": 14,
    "start_time": "2025-02-21T11:07:08.695Z"
   },
   {
    "duration": 14,
    "start_time": "2025-02-21T11:08:20.958Z"
   },
   {
    "duration": 300,
    "start_time": "2025-02-21T11:08:47.676Z"
   },
   {
    "duration": 129,
    "start_time": "2025-02-21T11:09:40.646Z"
   },
   {
    "duration": 129,
    "start_time": "2025-02-21T11:09:51.688Z"
   },
   {
    "duration": 125,
    "start_time": "2025-02-21T11:09:55.248Z"
   },
   {
    "duration": 149,
    "start_time": "2025-02-21T11:10:01.393Z"
   },
   {
    "duration": 226,
    "start_time": "2025-02-21T11:10:27.876Z"
   },
   {
    "duration": 160,
    "start_time": "2025-02-21T11:10:39.961Z"
   },
   {
    "duration": 151,
    "start_time": "2025-02-21T11:11:23.508Z"
   },
   {
    "duration": 161,
    "start_time": "2025-02-21T11:11:39.133Z"
   },
   {
    "duration": 156,
    "start_time": "2025-02-21T11:12:11.042Z"
   },
   {
    "duration": 2408,
    "start_time": "2025-02-21T12:17:05.506Z"
   },
   {
    "duration": 3,
    "start_time": "2025-02-21T12:17:07.917Z"
   },
   {
    "duration": 2058,
    "start_time": "2025-02-21T12:17:07.922Z"
   },
   {
    "duration": 19,
    "start_time": "2025-02-21T12:17:09.981Z"
   },
   {
    "duration": 16,
    "start_time": "2025-02-21T12:17:10.002Z"
   },
   {
    "duration": 7,
    "start_time": "2025-02-21T12:17:10.020Z"
   },
   {
    "duration": 30,
    "start_time": "2025-02-21T12:17:10.028Z"
   },
   {
    "duration": 129,
    "start_time": "2025-02-21T12:17:10.060Z"
   },
   {
    "duration": 26,
    "start_time": "2025-02-21T12:17:10.191Z"
   },
   {
    "duration": 13,
    "start_time": "2025-02-21T12:17:10.219Z"
   },
   {
    "duration": 50,
    "start_time": "2025-02-21T12:17:10.234Z"
   },
   {
    "duration": 101,
    "start_time": "2025-02-21T12:17:10.286Z"
   },
   {
    "duration": 167,
    "start_time": "2025-02-21T12:17:10.388Z"
   },
   {
    "duration": 23,
    "start_time": "2025-02-21T12:17:10.558Z"
   },
   {
    "duration": 15,
    "start_time": "2025-02-21T12:17:10.583Z"
   },
   {
    "duration": 7,
    "start_time": "2025-02-21T12:17:10.600Z"
   },
   {
    "duration": 53,
    "start_time": "2025-02-21T12:17:10.608Z"
   },
   {
    "duration": 28,
    "start_time": "2025-02-21T12:17:10.662Z"
   },
   {
    "duration": 20,
    "start_time": "2025-02-21T12:17:10.692Z"
   },
   {
    "duration": 84,
    "start_time": "2025-02-21T12:17:10.713Z"
   },
   {
    "duration": 51,
    "start_time": "2025-02-21T12:17:10.799Z"
   },
   {
    "duration": 36,
    "start_time": "2025-02-21T12:17:10.851Z"
   },
   {
    "duration": 31,
    "start_time": "2025-02-21T12:17:10.888Z"
   },
   {
    "duration": 9,
    "start_time": "2025-02-21T12:17:10.920Z"
   },
   {
    "duration": 10,
    "start_time": "2025-02-21T12:17:10.930Z"
   },
   {
    "duration": 27,
    "start_time": "2025-02-21T12:17:10.942Z"
   },
   {
    "duration": 5,
    "start_time": "2025-02-21T12:17:10.971Z"
   },
   {
    "duration": 76,
    "start_time": "2025-02-21T12:17:10.978Z"
   },
   {
    "duration": 95,
    "start_time": "2025-02-21T12:17:11.056Z"
   },
   {
    "duration": 144,
    "start_time": "2025-02-21T12:17:11.158Z"
   },
   {
    "duration": 105,
    "start_time": "2025-02-21T12:17:11.303Z"
   },
   {
    "duration": 143,
    "start_time": "2025-02-21T12:17:11.410Z"
   },
   {
    "duration": 91,
    "start_time": "2025-02-21T12:17:11.557Z"
   },
   {
    "duration": 22,
    "start_time": "2025-02-21T12:17:11.650Z"
   },
   {
    "duration": 34,
    "start_time": "2025-02-21T12:17:11.674Z"
   },
   {
    "duration": 14,
    "start_time": "2025-02-21T12:17:11.709Z"
   },
   {
    "duration": 68,
    "start_time": "2025-02-21T12:17:11.725Z"
   },
   {
    "duration": 140,
    "start_time": "2025-02-21T12:17:11.795Z"
   },
   {
    "duration": 71,
    "start_time": "2025-02-21T12:17:11.937Z"
   },
   {
    "duration": 18,
    "start_time": "2025-02-21T12:17:12.010Z"
   },
   {
    "duration": 137,
    "start_time": "2025-02-21T12:17:12.034Z"
   },
   {
    "duration": 57,
    "start_time": "2025-02-21T12:17:12.172Z"
   },
   {
    "duration": 28,
    "start_time": "2025-02-21T12:17:12.230Z"
   },
   {
    "duration": 203,
    "start_time": "2025-02-21T12:17:12.259Z"
   },
   {
    "duration": 352,
    "start_time": "2025-02-21T12:17:12.463Z"
   },
   {
    "duration": 466,
    "start_time": "2025-02-21T12:17:12.817Z"
   },
   {
    "duration": 97,
    "start_time": "2025-02-21T12:17:13.285Z"
   },
   {
    "duration": 61,
    "start_time": "2025-02-21T12:17:13.384Z"
   },
   {
    "duration": 56,
    "start_time": "2025-02-21T12:17:13.459Z"
   },
   {
    "duration": 15,
    "start_time": "2025-02-21T12:17:13.516Z"
   },
   {
    "duration": 24,
    "start_time": "2025-02-21T12:17:13.533Z"
   },
   {
    "duration": 5,
    "start_time": "2025-02-21T12:17:13.559Z"
   },
   {
    "duration": 10,
    "start_time": "2025-02-21T12:17:13.565Z"
   },
   {
    "duration": 3557,
    "start_time": "2025-02-21T12:17:13.577Z"
   },
   {
    "duration": 55,
    "start_time": "2025-02-21T12:17:17.136Z"
   },
   {
    "duration": 23,
    "start_time": "2025-02-21T12:17:17.193Z"
   },
   {
    "duration": 188,
    "start_time": "2025-02-21T12:17:17.218Z"
   },
   {
    "duration": 12,
    "start_time": "2025-02-21T12:17:17.408Z"
   },
   {
    "duration": 183,
    "start_time": "2025-02-21T12:17:17.421Z"
   },
   {
    "duration": 216,
    "start_time": "2025-02-21T12:17:17.606Z"
   },
   {
    "duration": 104,
    "start_time": "2025-02-21T12:17:17.823Z"
   },
   {
    "duration": 115,
    "start_time": "2025-02-21T12:17:17.929Z"
   },
   {
    "duration": 6230,
    "start_time": "2025-02-21T12:17:18.046Z"
   },
   {
    "duration": 25,
    "start_time": "2025-02-21T12:17:24.278Z"
   },
   {
    "duration": 185,
    "start_time": "2025-02-21T12:17:24.304Z"
   },
   {
    "duration": 14,
    "start_time": "2025-02-21T12:17:24.491Z"
   },
   {
    "duration": 186,
    "start_time": "2025-02-21T12:17:24.507Z"
   },
   {
    "duration": 10,
    "start_time": "2025-02-21T12:17:24.695Z"
   },
   {
    "duration": 33,
    "start_time": "2025-02-21T12:17:24.706Z"
   },
   {
    "duration": 47,
    "start_time": "2025-02-21T12:17:24.741Z"
   },
   {
    "duration": 2537,
    "start_time": "2025-02-21T13:27:07.500Z"
   },
   {
    "duration": 4,
    "start_time": "2025-02-21T13:27:10.039Z"
   },
   {
    "duration": 2207,
    "start_time": "2025-02-21T13:27:10.045Z"
   },
   {
    "duration": 23,
    "start_time": "2025-02-21T13:27:12.254Z"
   },
   {
    "duration": 56,
    "start_time": "2025-02-21T13:27:12.280Z"
   },
   {
    "duration": 8,
    "start_time": "2025-02-21T13:27:12.338Z"
   },
   {
    "duration": 7,
    "start_time": "2025-02-21T13:27:12.348Z"
   },
   {
    "duration": 151,
    "start_time": "2025-02-21T13:27:12.356Z"
   },
   {
    "duration": 23,
    "start_time": "2025-02-21T13:27:12.509Z"
   },
   {
    "duration": 25,
    "start_time": "2025-02-21T13:27:12.534Z"
   },
   {
    "duration": 29,
    "start_time": "2025-02-21T13:27:12.561Z"
   },
   {
    "duration": 111,
    "start_time": "2025-02-21T13:27:12.592Z"
   },
   {
    "duration": 178,
    "start_time": "2025-02-21T13:27:12.705Z"
   },
   {
    "duration": 23,
    "start_time": "2025-02-21T13:27:12.886Z"
   },
   {
    "duration": 16,
    "start_time": "2025-02-21T13:27:12.910Z"
   },
   {
    "duration": 36,
    "start_time": "2025-02-21T13:27:12.928Z"
   },
   {
    "duration": 33,
    "start_time": "2025-02-21T13:27:12.966Z"
   },
   {
    "duration": 59,
    "start_time": "2025-02-21T13:27:13.000Z"
   },
   {
    "duration": 31,
    "start_time": "2025-02-21T13:27:13.062Z"
   },
   {
    "duration": 17,
    "start_time": "2025-02-21T13:27:13.095Z"
   },
   {
    "duration": 69,
    "start_time": "2025-02-21T13:27:13.114Z"
   },
   {
    "duration": 34,
    "start_time": "2025-02-21T13:27:13.185Z"
   },
   {
    "duration": 137,
    "start_time": "2025-02-21T13:27:13.220Z"
   },
   {
    "duration": 8,
    "start_time": "2025-02-21T13:27:13.359Z"
   },
   {
    "duration": 10,
    "start_time": "2025-02-21T13:27:13.369Z"
   },
   {
    "duration": 16,
    "start_time": "2025-02-21T13:27:13.381Z"
   },
   {
    "duration": 5,
    "start_time": "2025-02-21T13:27:13.398Z"
   },
   {
    "duration": 6,
    "start_time": "2025-02-21T13:27:13.405Z"
   },
   {
    "duration": 137,
    "start_time": "2025-02-21T13:27:13.412Z"
   },
   {
    "duration": 178,
    "start_time": "2025-02-21T13:27:13.550Z"
   },
   {
    "duration": 121,
    "start_time": "2025-02-21T13:27:13.729Z"
   },
   {
    "duration": 152,
    "start_time": "2025-02-21T13:27:13.858Z"
   },
   {
    "duration": 84,
    "start_time": "2025-02-21T13:27:14.012Z"
   },
   {
    "duration": 142,
    "start_time": "2025-02-21T13:27:14.098Z"
   },
   {
    "duration": 35,
    "start_time": "2025-02-21T13:27:14.242Z"
   },
   {
    "duration": 76,
    "start_time": "2025-02-21T13:27:14.279Z"
   },
   {
    "duration": 54,
    "start_time": "2025-02-21T13:27:14.357Z"
   },
   {
    "duration": 8,
    "start_time": "2025-02-21T13:27:14.412Z"
   },
   {
    "duration": 86,
    "start_time": "2025-02-21T13:27:14.421Z"
   },
   {
    "duration": 19,
    "start_time": "2025-02-21T13:27:14.509Z"
   },
   {
    "duration": 168,
    "start_time": "2025-02-21T13:27:14.534Z"
   },
   {
    "duration": 64,
    "start_time": "2025-02-21T13:27:14.704Z"
   },
   {
    "duration": 10,
    "start_time": "2025-02-21T13:27:14.771Z"
   },
   {
    "duration": 234,
    "start_time": "2025-02-21T13:27:14.782Z"
   },
   {
    "duration": 259,
    "start_time": "2025-02-21T13:27:15.018Z"
   },
   {
    "duration": 461,
    "start_time": "2025-02-21T13:27:15.279Z"
   },
   {
    "duration": 96,
    "start_time": "2025-02-21T13:27:15.742Z"
   },
   {
    "duration": 68,
    "start_time": "2025-02-21T13:27:15.840Z"
   },
   {
    "duration": 99,
    "start_time": "2025-02-21T13:27:15.910Z"
   },
   {
    "duration": 15,
    "start_time": "2025-02-21T13:27:16.011Z"
   },
   {
    "duration": 196,
    "start_time": "2025-02-21T13:27:16.028Z"
   },
   {
    "duration": 20,
    "start_time": "2025-02-21T13:27:16.225Z"
   },
   {
    "duration": 89,
    "start_time": "2025-02-21T13:27:16.247Z"
   },
   {
    "duration": 3702,
    "start_time": "2025-02-21T13:27:16.337Z"
   },
   {
    "duration": 57,
    "start_time": "2025-02-21T13:27:20.041Z"
   },
   {
    "duration": 154,
    "start_time": "2025-02-21T13:27:20.099Z"
   },
   {
    "duration": 192,
    "start_time": "2025-02-21T13:27:20.255Z"
   },
   {
    "duration": 19,
    "start_time": "2025-02-21T13:27:20.448Z"
   },
   {
    "duration": 189,
    "start_time": "2025-02-21T13:27:20.469Z"
   },
   {
    "duration": 217,
    "start_time": "2025-02-21T13:27:20.660Z"
   },
   {
    "duration": 120,
    "start_time": "2025-02-21T13:27:20.879Z"
   },
   {
    "duration": 96,
    "start_time": "2025-02-21T13:27:21.000Z"
   },
   {
    "duration": 6493,
    "start_time": "2025-02-21T13:27:21.098Z"
   },
   {
    "duration": 24,
    "start_time": "2025-02-21T13:27:27.593Z"
   },
   {
    "duration": 191,
    "start_time": "2025-02-21T13:27:27.618Z"
   },
   {
    "duration": 11,
    "start_time": "2025-02-21T13:27:27.810Z"
   },
   {
    "duration": 193,
    "start_time": "2025-02-21T13:27:27.823Z"
   },
   {
    "duration": 9,
    "start_time": "2025-02-21T13:27:28.017Z"
   },
   {
    "duration": 58,
    "start_time": "2025-02-21T13:27:28.028Z"
   },
   {
    "duration": 150,
    "start_time": "2025-02-21T13:27:28.088Z"
   },
   {
    "duration": 3861,
    "start_time": "2025-02-21T20:26:03.340Z"
   },
   {
    "duration": 1453,
    "start_time": "2025-02-21T20:26:07.204Z"
   },
   {
    "duration": 2076,
    "start_time": "2025-02-21T20:26:08.659Z"
   },
   {
    "duration": 22,
    "start_time": "2025-02-21T20:26:10.737Z"
   },
   {
    "duration": 9,
    "start_time": "2025-02-21T20:26:10.761Z"
   },
   {
    "duration": 17,
    "start_time": "2025-02-21T20:26:10.772Z"
   },
   {
    "duration": 8,
    "start_time": "2025-02-21T20:26:10.791Z"
   },
   {
    "duration": 155,
    "start_time": "2025-02-21T20:26:10.801Z"
   },
   {
    "duration": 32,
    "start_time": "2025-02-21T20:26:10.959Z"
   },
   {
    "duration": 17,
    "start_time": "2025-02-21T20:26:10.995Z"
   },
   {
    "duration": 78,
    "start_time": "2025-02-21T20:26:11.013Z"
   },
   {
    "duration": 117,
    "start_time": "2025-02-21T20:26:11.094Z"
   },
   {
    "duration": 210,
    "start_time": "2025-02-21T20:26:11.213Z"
   },
   {
    "duration": 24,
    "start_time": "2025-02-21T20:26:11.425Z"
   },
   {
    "duration": 32,
    "start_time": "2025-02-21T20:26:11.451Z"
   },
   {
    "duration": 12,
    "start_time": "2025-02-21T20:26:11.486Z"
   },
   {
    "duration": 25,
    "start_time": "2025-02-21T20:26:11.500Z"
   },
   {
    "duration": 71,
    "start_time": "2025-02-21T20:26:11.527Z"
   },
   {
    "duration": 21,
    "start_time": "2025-02-21T20:26:11.600Z"
   },
   {
    "duration": 21,
    "start_time": "2025-02-21T20:26:11.623Z"
   },
   {
    "duration": 84,
    "start_time": "2025-02-21T20:26:11.645Z"
   },
   {
    "duration": 50,
    "start_time": "2025-02-21T20:26:11.731Z"
   },
   {
    "duration": 41,
    "start_time": "2025-02-21T20:26:11.784Z"
   },
   {
    "duration": 15,
    "start_time": "2025-02-21T20:26:11.827Z"
   },
   {
    "duration": 9,
    "start_time": "2025-02-21T20:26:11.844Z"
   },
   {
    "duration": 40,
    "start_time": "2025-02-21T20:26:11.855Z"
   },
   {
    "duration": 13,
    "start_time": "2025-02-21T20:26:11.898Z"
   },
   {
    "duration": 7,
    "start_time": "2025-02-21T20:26:11.915Z"
   },
   {
    "duration": 137,
    "start_time": "2025-02-21T20:26:11.924Z"
   },
   {
    "duration": 169,
    "start_time": "2025-02-21T20:26:12.062Z"
   },
   {
    "duration": 127,
    "start_time": "2025-02-21T20:26:12.232Z"
   },
   {
    "duration": 176,
    "start_time": "2025-02-21T20:26:12.361Z"
   },
   {
    "duration": 95,
    "start_time": "2025-02-21T20:26:12.538Z"
   },
   {
    "duration": 17,
    "start_time": "2025-02-21T20:26:12.635Z"
   },
   {
    "duration": 67,
    "start_time": "2025-02-21T20:26:12.653Z"
   },
   {
    "duration": 16,
    "start_time": "2025-02-21T20:26:12.722Z"
   },
   {
    "duration": 82,
    "start_time": "2025-02-21T20:26:12.740Z"
   },
   {
    "duration": 8,
    "start_time": "2025-02-21T20:26:12.824Z"
   },
   {
    "duration": 94,
    "start_time": "2025-02-21T20:26:12.833Z"
   },
   {
    "duration": 22,
    "start_time": "2025-02-21T20:26:12.929Z"
   },
   {
    "duration": 168,
    "start_time": "2025-02-21T20:26:12.952Z"
   },
   {
    "duration": 84,
    "start_time": "2025-02-21T20:26:13.122Z"
   },
   {
    "duration": 9,
    "start_time": "2025-02-21T20:26:13.208Z"
   },
   {
    "duration": 250,
    "start_time": "2025-02-21T20:26:13.219Z"
   },
   {
    "duration": 231,
    "start_time": "2025-02-21T20:26:13.476Z"
   },
   {
    "duration": 448,
    "start_time": "2025-02-21T20:26:13.709Z"
   },
   {
    "duration": 98,
    "start_time": "2025-02-21T20:26:14.159Z"
   },
   {
    "duration": 74,
    "start_time": "2025-02-21T20:26:14.259Z"
   },
   {
    "duration": 95,
    "start_time": "2025-02-21T20:26:14.335Z"
   },
   {
    "duration": 14,
    "start_time": "2025-02-21T20:26:14.432Z"
   },
   {
    "duration": 4,
    "start_time": "2025-02-21T20:26:14.448Z"
   },
   {
    "duration": 23,
    "start_time": "2025-02-21T20:26:14.453Z"
   },
   {
    "duration": 14,
    "start_time": "2025-02-21T20:26:14.479Z"
   },
   {
    "duration": 4010,
    "start_time": "2025-02-21T20:26:14.495Z"
   },
   {
    "duration": 52,
    "start_time": "2025-02-21T20:26:18.506Z"
   },
   {
    "duration": 44,
    "start_time": "2025-02-21T20:26:18.560Z"
   },
   {
    "duration": 179,
    "start_time": "2025-02-21T20:26:18.606Z"
   },
   {
    "duration": 14,
    "start_time": "2025-02-21T20:26:18.787Z"
   },
   {
    "duration": 183,
    "start_time": "2025-02-21T20:26:18.803Z"
   },
   {
    "duration": 215,
    "start_time": "2025-02-21T20:26:18.988Z"
   },
   {
    "duration": 140,
    "start_time": "2025-02-21T20:26:19.205Z"
   },
   {
    "duration": 81,
    "start_time": "2025-02-21T20:26:19.347Z"
   },
   {
    "duration": 6735,
    "start_time": "2025-02-21T20:26:19.430Z"
   },
   {
    "duration": 41,
    "start_time": "2025-02-21T20:26:26.167Z"
   },
   {
    "duration": 226,
    "start_time": "2025-02-21T20:26:26.210Z"
   },
   {
    "duration": 13,
    "start_time": "2025-02-21T20:26:26.438Z"
   },
   {
    "duration": 187,
    "start_time": "2025-02-21T20:26:26.452Z"
   },
   {
    "duration": 11,
    "start_time": "2025-02-21T20:26:26.640Z"
   },
   {
    "duration": 40,
    "start_time": "2025-02-21T20:26:26.652Z"
   },
   {
    "duration": 5,
    "start_time": "2025-02-21T20:26:26.694Z"
   },
   {
    "duration": 392833,
    "start_time": "2025-02-21T20:26:26.701Z"
   },
   {
    "duration": 63,
    "start_time": "2025-02-21T20:32:59.536Z"
   },
   {
    "duration": 36,
    "start_time": "2025-02-21T20:32:59.601Z"
   },
   {
    "duration": 95,
    "start_time": "2025-02-21T20:32:59.639Z"
   },
   {
    "duration": 41,
    "start_time": "2025-02-21T20:32:59.736Z"
   },
   {
    "duration": 33,
    "start_time": "2025-02-21T20:32:59.779Z"
   },
   {
    "duration": 41,
    "start_time": "2025-02-21T20:32:59.814Z"
   },
   {
    "duration": 34,
    "start_time": "2025-02-21T20:32:59.874Z"
   },
   {
    "duration": 10,
    "start_time": "2025-02-21T20:32:59.910Z"
   },
   {
    "duration": 200,
    "start_time": "2025-02-21T20:32:59.922Z"
   },
   {
    "duration": 147,
    "start_time": "2025-02-21T20:33:00.123Z"
   },
   {
    "duration": 204,
    "start_time": "2025-02-21T20:33:00.276Z"
   },
   {
    "duration": 121,
    "start_time": "2025-02-21T20:33:00.482Z"
   },
   {
    "duration": 115,
    "start_time": "2025-02-21T20:33:00.604Z"
   },
   {
    "duration": 110,
    "start_time": "2025-02-21T20:33:00.721Z"
   },
   {
    "duration": 99,
    "start_time": "2025-02-21T20:33:00.833Z"
   },
   {
    "duration": 51,
    "start_time": "2025-02-21T20:33:00.934Z"
   },
   {
    "duration": 111,
    "start_time": "2025-02-21T20:33:00.987Z"
   },
   {
    "duration": 20,
    "start_time": "2025-02-21T20:33:01.100Z"
   },
   {
    "duration": 157,
    "start_time": "2025-02-21T20:33:01.122Z"
   },
   {
    "duration": 122,
    "start_time": "2025-02-21T20:33:01.281Z"
   },
   {
    "duration": 34,
    "start_time": "2025-02-21T20:33:01.404Z"
   },
   {
    "duration": 36,
    "start_time": "2025-02-21T20:33:01.439Z"
   },
   {
    "duration": 78,
    "start_time": "2025-02-21T20:33:01.477Z"
   },
   {
    "duration": 35,
    "start_time": "2025-02-21T20:33:01.556Z"
   },
   {
    "duration": 28,
    "start_time": "2025-02-21T20:33:01.593Z"
   },
   {
    "duration": 88,
    "start_time": "2025-02-21T20:33:01.623Z"
   },
   {
    "duration": 9,
    "start_time": "2025-02-21T20:33:01.713Z"
   },
   {
    "duration": 137,
    "start_time": "2025-02-21T20:33:01.724Z"
   },
   {
    "duration": 132,
    "start_time": "2025-02-21T20:33:01.862Z"
   },
   {
    "duration": 183,
    "start_time": "2025-02-21T20:33:01.996Z"
   },
   {
    "duration": 387,
    "start_time": "2025-02-21T20:33:02.181Z"
   },
   {
    "duration": 17,
    "start_time": "2025-02-21T20:35:16.049Z"
   },
   {
    "duration": 151,
    "start_time": "2025-02-21T20:36:31.949Z"
   },
   {
    "duration": 145,
    "start_time": "2025-02-21T20:37:01.089Z"
   },
   {
    "duration": 340,
    "start_time": "2025-02-21T20:37:27.537Z"
   },
   {
    "duration": 153,
    "start_time": "2025-02-21T20:37:57.121Z"
   },
   {
    "duration": 161,
    "start_time": "2025-02-21T20:38:12.538Z"
   },
   {
    "duration": 270,
    "start_time": "2025-02-21T20:40:01.483Z"
   },
   {
    "duration": 172,
    "start_time": "2025-02-21T21:02:39.483Z"
   },
   {
    "duration": 181,
    "start_time": "2025-02-21T21:02:53.080Z"
   },
   {
    "duration": 5,
    "start_time": "2025-02-21T21:05:25.664Z"
   },
   {
    "duration": 5,
    "start_time": "2025-02-21T21:05:39.401Z"
   },
   {
    "duration": 174,
    "start_time": "2025-02-21T21:05:47.361Z"
   },
   {
    "duration": 175,
    "start_time": "2025-02-21T21:06:09.104Z"
   },
   {
    "duration": 30,
    "start_time": "2025-02-21T21:11:57.269Z"
   },
   {
    "duration": 9,
    "start_time": "2025-02-21T21:13:32.987Z"
   },
   {
    "duration": 8,
    "start_time": "2025-02-21T21:18:08.448Z"
   },
   {
    "duration": 10,
    "start_time": "2025-02-21T21:18:14.689Z"
   },
   {
    "duration": 8,
    "start_time": "2025-02-21T21:18:45.895Z"
   },
   {
    "duration": 4,
    "start_time": "2025-02-21T21:33:22.001Z"
   },
   {
    "duration": 6,
    "start_time": "2025-02-21T21:33:59.117Z"
   },
   {
    "duration": 9,
    "start_time": "2025-02-21T21:38:56.890Z"
   },
   {
    "duration": 9,
    "start_time": "2025-02-21T21:39:16.267Z"
   },
   {
    "duration": 7,
    "start_time": "2025-02-21T21:39:27.448Z"
   },
   {
    "duration": 9,
    "start_time": "2025-02-21T21:40:09.197Z"
   },
   {
    "duration": 14,
    "start_time": "2025-02-21T21:54:10.799Z"
   },
   {
    "duration": 8,
    "start_time": "2025-02-21T21:54:40.180Z"
   },
   {
    "duration": 10,
    "start_time": "2025-02-21T21:54:50.294Z"
   },
   {
    "duration": 10,
    "start_time": "2025-02-21T21:55:05.749Z"
   },
   {
    "duration": 12,
    "start_time": "2025-02-21T21:55:20.605Z"
   },
   {
    "duration": 10,
    "start_time": "2025-02-21T21:56:21.402Z"
   },
   {
    "duration": 11,
    "start_time": "2025-02-21T21:57:06.105Z"
   },
   {
    "duration": 10,
    "start_time": "2025-02-21T21:57:09.442Z"
   },
   {
    "duration": 88,
    "start_time": "2025-02-21T22:00:24.757Z"
   },
   {
    "duration": 192,
    "start_time": "2025-02-21T22:00:31.772Z"
   },
   {
    "duration": 187,
    "start_time": "2025-02-21T22:00:57.217Z"
   },
   {
    "duration": 186,
    "start_time": "2025-02-21T22:01:16.962Z"
   },
   {
    "duration": 184,
    "start_time": "2025-02-21T22:06:04.079Z"
   },
   {
    "duration": 10,
    "start_time": "2025-02-21T22:31:28.279Z"
   },
   {
    "duration": 7,
    "start_time": "2025-02-21T22:37:00.574Z"
   },
   {
    "duration": 9,
    "start_time": "2025-02-21T22:37:06.648Z"
   },
   {
    "duration": 267,
    "start_time": "2025-02-21T22:46:50.970Z"
   },
   {
    "duration": 271,
    "start_time": "2025-02-21T22:47:01.857Z"
   },
   {
    "duration": 415,
    "start_time": "2025-02-21T22:50:15.426Z"
   },
   {
    "duration": 287,
    "start_time": "2025-02-21T22:52:47.758Z"
   },
   {
    "duration": 163,
    "start_time": "2025-02-21T22:58:38.258Z"
   },
   {
    "duration": 16,
    "start_time": "2025-02-21T23:01:13.858Z"
   },
   {
    "duration": 9,
    "start_time": "2025-02-21T23:01:30.066Z"
   },
   {
    "duration": 118,
    "start_time": "2025-02-21T23:05:49.658Z"
   },
   {
    "duration": 132,
    "start_time": "2025-02-21T23:06:23.029Z"
   },
   {
    "duration": 2829,
    "start_time": "2025-02-22T00:21:16.764Z"
   },
   {
    "duration": 4,
    "start_time": "2025-02-22T00:21:19.596Z"
   },
   {
    "duration": 2850,
    "start_time": "2025-02-22T00:21:19.602Z"
   },
   {
    "duration": 23,
    "start_time": "2025-02-22T00:21:22.455Z"
   },
   {
    "duration": 10,
    "start_time": "2025-02-22T00:21:22.479Z"
   },
   {
    "duration": 15,
    "start_time": "2025-02-22T00:21:22.491Z"
   },
   {
    "duration": 8,
    "start_time": "2025-02-22T00:21:22.507Z"
   },
   {
    "duration": 163,
    "start_time": "2025-02-22T00:21:22.517Z"
   },
   {
    "duration": 29,
    "start_time": "2025-02-22T00:21:22.682Z"
   },
   {
    "duration": 14,
    "start_time": "2025-02-22T00:21:22.715Z"
   },
   {
    "duration": 66,
    "start_time": "2025-02-22T00:21:22.731Z"
   },
   {
    "duration": 116,
    "start_time": "2025-02-22T00:21:22.798Z"
   },
   {
    "duration": 197,
    "start_time": "2025-02-22T00:21:22.915Z"
   },
   {
    "duration": 28,
    "start_time": "2025-02-22T00:21:23.114Z"
   },
   {
    "duration": 35,
    "start_time": "2025-02-22T00:21:23.144Z"
   },
   {
    "duration": 8,
    "start_time": "2025-02-22T00:21:23.181Z"
   },
   {
    "duration": 28,
    "start_time": "2025-02-22T00:21:23.190Z"
   },
   {
    "duration": 61,
    "start_time": "2025-02-22T00:21:23.220Z"
   },
   {
    "duration": 23,
    "start_time": "2025-02-22T00:21:23.282Z"
   },
   {
    "duration": 31,
    "start_time": "2025-02-22T00:21:23.307Z"
   },
   {
    "duration": 63,
    "start_time": "2025-02-22T00:21:23.340Z"
   },
   {
    "duration": 40,
    "start_time": "2025-02-22T00:21:23.405Z"
   },
   {
    "duration": 50,
    "start_time": "2025-02-22T00:21:23.447Z"
   },
   {
    "duration": 7,
    "start_time": "2025-02-22T00:21:23.499Z"
   },
   {
    "duration": 12,
    "start_time": "2025-02-22T00:21:23.508Z"
   },
   {
    "duration": 20,
    "start_time": "2025-02-22T00:21:23.521Z"
   },
   {
    "duration": 37,
    "start_time": "2025-02-22T00:21:23.542Z"
   },
   {
    "duration": 8,
    "start_time": "2025-02-22T00:21:23.584Z"
   },
   {
    "duration": 124,
    "start_time": "2025-02-22T00:21:23.594Z"
   },
   {
    "duration": 168,
    "start_time": "2025-02-22T00:21:23.720Z"
   },
   {
    "duration": 118,
    "start_time": "2025-02-22T00:21:23.890Z"
   },
   {
    "duration": 159,
    "start_time": "2025-02-22T00:21:24.011Z"
   },
   {
    "duration": 87,
    "start_time": "2025-02-22T00:21:24.172Z"
   },
   {
    "duration": 33,
    "start_time": "2025-02-22T00:21:24.261Z"
   },
   {
    "duration": 39,
    "start_time": "2025-02-22T00:21:24.296Z"
   },
   {
    "duration": 43,
    "start_time": "2025-02-22T00:21:24.337Z"
   },
   {
    "duration": 50,
    "start_time": "2025-02-22T00:21:24.382Z"
   },
   {
    "duration": 9,
    "start_time": "2025-02-22T00:21:24.434Z"
   },
   {
    "duration": 89,
    "start_time": "2025-02-22T00:21:24.445Z"
   },
   {
    "duration": 29,
    "start_time": "2025-02-22T00:21:24.535Z"
   },
   {
    "duration": 161,
    "start_time": "2025-02-22T00:21:24.566Z"
   },
   {
    "duration": 73,
    "start_time": "2025-02-22T00:21:24.729Z"
   },
   {
    "duration": 10,
    "start_time": "2025-02-22T00:21:24.804Z"
   },
   {
    "duration": 231,
    "start_time": "2025-02-22T00:21:24.816Z"
   },
   {
    "duration": 217,
    "start_time": "2025-02-22T00:21:25.049Z"
   },
   {
    "duration": 515,
    "start_time": "2025-02-22T00:21:25.268Z"
   },
   {
    "duration": 119,
    "start_time": "2025-02-22T00:21:25.785Z"
   },
   {
    "duration": 71,
    "start_time": "2025-02-22T00:21:25.906Z"
   },
   {
    "duration": 81,
    "start_time": "2025-02-22T00:21:25.979Z"
   },
   {
    "duration": 27,
    "start_time": "2025-02-22T00:21:26.062Z"
   },
   {
    "duration": 4,
    "start_time": "2025-02-22T00:21:26.091Z"
   },
   {
    "duration": 10,
    "start_time": "2025-02-22T00:21:26.097Z"
   },
   {
    "duration": 9,
    "start_time": "2025-02-22T00:21:26.109Z"
   },
   {
    "duration": 3854,
    "start_time": "2025-02-22T00:21:26.120Z"
   },
   {
    "duration": 59,
    "start_time": "2025-02-22T00:21:29.976Z"
   },
   {
    "duration": 43,
    "start_time": "2025-02-22T00:21:30.037Z"
   },
   {
    "duration": 205,
    "start_time": "2025-02-22T00:21:30.082Z"
   },
   {
    "duration": 13,
    "start_time": "2025-02-22T00:21:30.289Z"
   },
   {
    "duration": 193,
    "start_time": "2025-02-22T00:21:30.303Z"
   },
   {
    "duration": 241,
    "start_time": "2025-02-22T00:21:30.497Z"
   },
   {
    "duration": 115,
    "start_time": "2025-02-22T00:21:30.739Z"
   },
   {
    "duration": 86,
    "start_time": "2025-02-22T00:21:30.856Z"
   },
   {
    "duration": 6406,
    "start_time": "2025-02-22T00:21:30.944Z"
   },
   {
    "duration": 36,
    "start_time": "2025-02-22T00:21:37.351Z"
   },
   {
    "duration": 182,
    "start_time": "2025-02-22T00:21:37.389Z"
   },
   {
    "duration": 13,
    "start_time": "2025-02-22T00:21:37.573Z"
   },
   {
    "duration": 200,
    "start_time": "2025-02-22T00:21:37.588Z"
   },
   {
    "duration": 13,
    "start_time": "2025-02-22T00:21:37.790Z"
   },
   {
    "duration": 29,
    "start_time": "2025-02-22T00:21:37.806Z"
   },
   {
    "duration": 20,
    "start_time": "2025-02-22T00:21:37.838Z"
   },
   {
    "duration": 410122,
    "start_time": "2025-02-22T00:21:37.876Z"
   },
   {
    "duration": 75,
    "start_time": "2025-02-22T00:28:28.001Z"
   },
   {
    "duration": 25,
    "start_time": "2025-02-22T00:28:28.078Z"
   },
   {
    "duration": 105,
    "start_time": "2025-02-22T00:28:28.105Z"
   },
   {
    "duration": 35,
    "start_time": "2025-02-22T00:28:28.212Z"
   },
   {
    "duration": 51,
    "start_time": "2025-02-22T00:28:28.249Z"
   },
   {
    "duration": 35,
    "start_time": "2025-02-22T00:28:28.302Z"
   },
   {
    "duration": 60,
    "start_time": "2025-02-22T00:28:28.339Z"
   },
   {
    "duration": 12,
    "start_time": "2025-02-22T00:28:28.401Z"
   },
   {
    "duration": 200,
    "start_time": "2025-02-22T00:28:28.415Z"
   },
   {
    "duration": 154,
    "start_time": "2025-02-22T00:28:28.617Z"
   },
   {
    "duration": 231,
    "start_time": "2025-02-22T00:28:28.780Z"
   },
   {
    "duration": 143,
    "start_time": "2025-02-22T00:28:29.013Z"
   },
   {
    "duration": 138,
    "start_time": "2025-02-22T00:28:29.158Z"
   },
   {
    "duration": 119,
    "start_time": "2025-02-22T00:28:29.298Z"
   },
   {
    "duration": 120,
    "start_time": "2025-02-22T00:28:29.419Z"
   },
   {
    "duration": 55,
    "start_time": "2025-02-22T00:28:29.541Z"
   },
   {
    "duration": 117,
    "start_time": "2025-02-22T00:28:29.598Z"
   },
   {
    "duration": 22,
    "start_time": "2025-02-22T00:28:29.717Z"
   },
   {
    "duration": 197,
    "start_time": "2025-02-22T00:28:29.741Z"
   },
   {
    "duration": 119,
    "start_time": "2025-02-22T00:28:29.940Z"
   },
   {
    "duration": 38,
    "start_time": "2025-02-22T00:28:30.061Z"
   },
   {
    "duration": 48,
    "start_time": "2025-02-22T00:28:30.102Z"
   },
   {
    "duration": 102,
    "start_time": "2025-02-22T00:28:30.152Z"
   },
   {
    "duration": 32,
    "start_time": "2025-02-22T00:28:30.256Z"
   },
   {
    "duration": 40,
    "start_time": "2025-02-22T00:28:30.290Z"
   },
   {
    "duration": 82,
    "start_time": "2025-02-22T00:28:30.331Z"
   },
   {
    "duration": 10,
    "start_time": "2025-02-22T00:28:30.415Z"
   },
   {
    "duration": 15,
    "start_time": "2025-02-22T00:28:30.427Z"
   },
   {
    "duration": 163,
    "start_time": "2025-02-22T00:28:30.443Z"
   },
   {
    "duration": 137,
    "start_time": "2025-02-22T00:28:30.608Z"
   },
   {
    "duration": 193,
    "start_time": "2025-02-22T00:28:30.746Z"
   },
   {
    "duration": 294,
    "start_time": "2025-02-22T00:28:30.940Z"
   },
   {
    "duration": 191,
    "start_time": "2025-02-22T00:28:31.236Z"
   },
   {
    "duration": 22,
    "start_time": "2025-02-22T00:28:31.429Z"
   },
   {
    "duration": 29,
    "start_time": "2025-02-22T00:28:31.453Z"
   },
   {
    "duration": 17,
    "start_time": "2025-02-22T00:28:31.484Z"
   },
   {
    "duration": 17,
    "start_time": "2025-02-22T00:28:31.503Z"
   },
   {
    "duration": 46,
    "start_time": "2025-02-22T00:28:31.521Z"
   },
   {
    "duration": 23,
    "start_time": "2025-02-22T00:28:31.569Z"
   },
   {
    "duration": 225,
    "start_time": "2025-02-22T00:28:31.593Z"
   },
   {
    "duration": 10,
    "start_time": "2025-02-22T00:28:31.820Z"
   },
   {
    "duration": 247,
    "start_time": "2025-02-22T00:28:31.832Z"
   },
   {
    "duration": 10,
    "start_time": "2025-02-22T00:28:32.080Z"
   },
   {
    "duration": 14,
    "start_time": "2025-02-22T00:28:32.092Z"
   },
   {
    "duration": 277,
    "start_time": "2025-02-22T00:28:32.108Z"
   }
  ],
  "colab": {
   "provenance": []
  },
  "kernelspec": {
   "display_name": "Python 3 (ipykernel)",
   "language": "python",
   "name": "python3"
  },
  "language_info": {
   "codemirror_mode": {
    "name": "ipython",
    "version": 3
   },
   "file_extension": ".py",
   "mimetype": "text/x-python",
   "name": "python",
   "nbconvert_exporter": "python",
   "pygments_lexer": "ipython3",
   "version": "3.9.5"
  },
  "toc": {
   "base_numbering": 1,
   "nav_menu": {},
   "number_sections": true,
   "sideBar": true,
   "skip_h1_title": true,
   "title_cell": "Table of Contents",
   "title_sidebar": "Contents",
   "toc_cell": false,
   "toc_position": {},
   "toc_section_display": true,
   "toc_window_display": false
  }
 },
 "nbformat": 4,
 "nbformat_minor": 1
}
