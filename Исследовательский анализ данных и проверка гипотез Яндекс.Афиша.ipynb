{
 "cells": [
  {
   "cell_type": "markdown",
   "metadata": {
    "id": "LMuaGIE3lGcr"
   },
   "source": [
    "# Исследовательский анализ данных и проверка гипотез. Яндекс.Афиша."
   ]
  },
  {
   "cell_type": "markdown",
   "metadata": {},
   "source": [
    "Коллеги из продуктовой команды просят провести исследовательский анализ данных в Python, чтобы выявить инсайты об изменении пользовательских предпочтений и популярности событий осенью 2024 года, а также проверить гипотезы о разнице в поведении пользователей с мобильными и стационарными устройствами."
   ]
  },
  {
   "cell_type": "markdown",
   "metadata": {},
   "source": [
    "**Автор:** Семин Андрей Геннадьевич  \n",
    "**Дата составления отчета:** 17.05.2025г."
   ]
  },
  {
   "cell_type": "markdown",
   "metadata": {},
   "source": [
    "<a class=\"anchor\" id=\"1_charter\"></a> \n",
    "## Описание проекта"
   ]
  },
  {
   "cell_type": "markdown",
   "metadata": {},
   "source": [
    "### Цель проекта:\n",
    "\n",
    "Выявить инсайты об изменении пользовательских предпочтений и популярности событий осени 2024 года."
   ]
  },
  {
   "cell_type": "markdown",
   "metadata": {},
   "source": [
    "### Задачи:\n",
    "\n",
    "1. Загрузка данных и знакомство с ними\n",
    "2. Предобработка данных и подготовка их к исследованию\n",
    "3. Исследовательских анализ данных\n",
    "   1. Анализ распределения заказов по сегментам и их сезонные изменения\n",
    "   2. Осенняя активность пользователей\n",
    "   3. Популярные события и партнёры\n",
    "4. Статистический анализ данных\n",
    "5. Общи вывод и рекомендации"
   ]
  },
  {
   "cell_type": "markdown",
   "metadata": {},
   "source": [
    "### Описание данных\n",
    "\n",
    "Данные о бронировании билетов на сервисе Яндекс Афиша за период с 1 июня по 30 октября 2024 года представлены в двух датасетах `final_tickets_orders_df.csv` и `final_tickets_events_df.csv`."
   ]
  },
  {
   "cell_type": "markdown",
   "metadata": {},
   "source": [
    "Первый датасет `final_tickets_orders_df.csv` включает информацию обо всех заказах билетов, совершённых с двух типов устройств — мобильных и стационарных. Поля датасета соответствуют таблице purchases, с которой вы работали в предыдущих заданиях:  \n",
    "`order_id` — уникальный идентификатор заказа;  \n",
    "`user_id` — уникальный идентификатор пользователя;  \n",
    "`created_dt_msk` — дата создания заказа (московское время);  \n",
    "`created_ts_msk` — дата и время создания заказа (московское время);  \n",
    "`event_id` — идентификатор мероприятия из таблицы events;  \n",
    "`cinema_circuit` — сеть кинотеатров. Если не применимо, то здесь будет значение 'нет';  \n",
    "`age_limit` — возрастное ограничение мероприятия;  \n",
    "`currency_code` — валюта оплаты, например rub для российских рублей;  \n",
    "`device_type_canonical` — тип устройства, с которого был оформлен заказ, например mobile для мобильных устройств, desktop для стационарных;  \n",
    "`revenue` — выручка от заказа;  \n",
    "`service_name`  — название билетного оператора;  \n",
    "`tickets_count` — количество купленных билетов;  \n",
    "`total` — общая сумма заказа;  \n",
    "`days_since_prev` - количество дней с предыдущей покупки для каждого пользователя. Если покупки не было, то данные содержат пропуск.  \n",
    "\n",
    "Второй датасет `final_tickets_events_df.csv` содержит информацию о событиях, включая город и регион события, а также информацию о площадке проведения мероприятия.Датасет содержит такие поля:  \n",
    "`event_id` — уникальный идентификатор мероприятия;  \n",
    "`event_name` — название мероприятия;  \n",
    "`event_type_description` — описание типа мероприятия;  \n",
    "`event_type_main` — основной тип мероприятия: театральная постановка, концерт и так далее;  \n",
    "`organizers` — организаторы мероприятия;  \n",
    "`region_name` — название региона;  \n",
    "`city_name` — название города;  \n",
    "`venue_id` — уникальный идентификатор площадки;  \n",
    "`venue_name` — название площадки;  \n",
    "`venue_address` — адрес площадки.  \n",
    "\n",
    "Датасет `final_tickets_tenge_df.csv` с информацией о курсе тенге к российскому рублю за 2024 год. Значения в рублях представлено для 100 тенге. Датасет содержит такие поля:  \n",
    "`nominal` — номинал (100 тенге);  \n",
    "`data` — дата;  \n",
    "`curs` — курс тенге к рублю;  \n",
    "`cdx` — обозначение валюты (kzt)."
   ]
  },
  {
   "cell_type": "markdown",
   "metadata": {},
   "source": [
    "### Содержание проекта:\n",
    "\n",
    "* [1. Описание проекта](#1_charter)\n",
    "* [2. Загрузка данных и знакомтсво с ними](#2_charter)\n",
    "* [3. Предобработка данных](#3_charter)\n",
    "* [4. Исследовательский анализ данных](#4_charter)\n",
    "* [5. Статистический анализ данных](#5_charter)\n",
    "* [6. Итоговый вывод и рекомендации](#6_charter)\n"
   ]
  },
  {
   "cell_type": "markdown",
   "metadata": {},
   "source": [
    "<a class=\"anchor\" id=\"2_charter\"></a> \n",
    "## Загрузка данных и знакомство с ними"
   ]
  },
  {
   "cell_type": "code",
   "execution_count": 2,
   "metadata": {},
   "outputs": [],
   "source": [
    "# Покдлючим необходимые библиотеки\n",
    "import pandas as pd\n",
    "import matplotlib.pyplot as plt\n",
    "import seaborn as sns\n",
    "import numpy as np\n",
    "from scipy.stats import ttest_ind\n",
    "from scipy.stats import mannwhitneyu"
   ]
  },
  {
   "cell_type": "code",
   "execution_count": 4,
   "metadata": {},
   "outputs": [
    {
     "data": {
      "text/html": [
       "<div>\n",
       "<style scoped>\n",
       "    .dataframe tbody tr th:only-of-type {\n",
       "        vertical-align: middle;\n",
       "    }\n",
       "\n",
       "    .dataframe tbody tr th {\n",
       "        vertical-align: top;\n",
       "    }\n",
       "\n",
       "    .dataframe thead th {\n",
       "        text-align: right;\n",
       "    }\n",
       "</style>\n",
       "<table border=\"1\" class=\"dataframe\">\n",
       "  <thead>\n",
       "    <tr style=\"text-align: right;\">\n",
       "      <th></th>\n",
       "      <th>order_id</th>\n",
       "      <th>user_id</th>\n",
       "      <th>created_dt_msk</th>\n",
       "      <th>created_ts_msk</th>\n",
       "      <th>event_id</th>\n",
       "      <th>cinema_circuit</th>\n",
       "      <th>age_limit</th>\n",
       "      <th>currency_code</th>\n",
       "      <th>device_type_canonical</th>\n",
       "      <th>revenue</th>\n",
       "      <th>service_name</th>\n",
       "      <th>tickets_count</th>\n",
       "      <th>total</th>\n",
       "      <th>days_since_prev</th>\n",
       "    </tr>\n",
       "  </thead>\n",
       "  <tbody>\n",
       "    <tr>\n",
       "      <th>0</th>\n",
       "      <td>4359165</td>\n",
       "      <td>0002849b70a3ce2</td>\n",
       "      <td>2024-08-20</td>\n",
       "      <td>2024-08-20 16:08:03</td>\n",
       "      <td>169230</td>\n",
       "      <td>нет</td>\n",
       "      <td>16</td>\n",
       "      <td>rub</td>\n",
       "      <td>mobile</td>\n",
       "      <td>1521.94</td>\n",
       "      <td>Край билетов</td>\n",
       "      <td>4</td>\n",
       "      <td>10870.99</td>\n",
       "      <td>NaN</td>\n",
       "    </tr>\n",
       "    <tr>\n",
       "      <th>1</th>\n",
       "      <td>7965605</td>\n",
       "      <td>0005ca5e93f2cf4</td>\n",
       "      <td>2024-07-23</td>\n",
       "      <td>2024-07-23 18:36:24</td>\n",
       "      <td>237325</td>\n",
       "      <td>нет</td>\n",
       "      <td>0</td>\n",
       "      <td>rub</td>\n",
       "      <td>mobile</td>\n",
       "      <td>289.45</td>\n",
       "      <td>Мой билет</td>\n",
       "      <td>2</td>\n",
       "      <td>2067.51</td>\n",
       "      <td>NaN</td>\n",
       "    </tr>\n",
       "    <tr>\n",
       "      <th>2</th>\n",
       "      <td>7292370</td>\n",
       "      <td>0005ca5e93f2cf4</td>\n",
       "      <td>2024-10-06</td>\n",
       "      <td>2024-10-06 13:56:02</td>\n",
       "      <td>578454</td>\n",
       "      <td>нет</td>\n",
       "      <td>0</td>\n",
       "      <td>rub</td>\n",
       "      <td>mobile</td>\n",
       "      <td>1258.57</td>\n",
       "      <td>За билетом!</td>\n",
       "      <td>4</td>\n",
       "      <td>13984.16</td>\n",
       "      <td>75.0</td>\n",
       "    </tr>\n",
       "    <tr>\n",
       "      <th>3</th>\n",
       "      <td>1139875</td>\n",
       "      <td>000898990054619</td>\n",
       "      <td>2024-07-13</td>\n",
       "      <td>2024-07-13 19:40:48</td>\n",
       "      <td>387271</td>\n",
       "      <td>нет</td>\n",
       "      <td>0</td>\n",
       "      <td>rub</td>\n",
       "      <td>mobile</td>\n",
       "      <td>8.49</td>\n",
       "      <td>Лови билет!</td>\n",
       "      <td>2</td>\n",
       "      <td>212.28</td>\n",
       "      <td>NaN</td>\n",
       "    </tr>\n",
       "    <tr>\n",
       "      <th>4</th>\n",
       "      <td>972400</td>\n",
       "      <td>000898990054619</td>\n",
       "      <td>2024-10-04</td>\n",
       "      <td>2024-10-04 22:33:15</td>\n",
       "      <td>509453</td>\n",
       "      <td>нет</td>\n",
       "      <td>18</td>\n",
       "      <td>rub</td>\n",
       "      <td>mobile</td>\n",
       "      <td>1390.41</td>\n",
       "      <td>Билеты без проблем</td>\n",
       "      <td>3</td>\n",
       "      <td>10695.43</td>\n",
       "      <td>83.0</td>\n",
       "    </tr>\n",
       "  </tbody>\n",
       "</table>\n",
       "</div>"
      ],
      "text/plain": [
       "   order_id          user_id created_dt_msk       created_ts_msk  event_id  \\\n",
       "0   4359165  0002849b70a3ce2     2024-08-20  2024-08-20 16:08:03    169230   \n",
       "1   7965605  0005ca5e93f2cf4     2024-07-23  2024-07-23 18:36:24    237325   \n",
       "2   7292370  0005ca5e93f2cf4     2024-10-06  2024-10-06 13:56:02    578454   \n",
       "3   1139875  000898990054619     2024-07-13  2024-07-13 19:40:48    387271   \n",
       "4    972400  000898990054619     2024-10-04  2024-10-04 22:33:15    509453   \n",
       "\n",
       "  cinema_circuit  age_limit currency_code device_type_canonical  revenue  \\\n",
       "0            нет         16           rub                mobile  1521.94   \n",
       "1            нет          0           rub                mobile   289.45   \n",
       "2            нет          0           rub                mobile  1258.57   \n",
       "3            нет          0           rub                mobile     8.49   \n",
       "4            нет         18           rub                mobile  1390.41   \n",
       "\n",
       "         service_name  tickets_count     total  days_since_prev  \n",
       "0        Край билетов              4  10870.99              NaN  \n",
       "1           Мой билет              2   2067.51              NaN  \n",
       "2         За билетом!              4  13984.16             75.0  \n",
       "3         Лови билет!              2    212.28              NaN  \n",
       "4  Билеты без проблем              3  10695.43             83.0  "
      ]
     },
     "execution_count": 4,
     "metadata": {},
     "output_type": "execute_result"
    }
   ],
   "source": [
    "#начнем знакомтсво с данными\n",
    "fto_df.head()"
   ]
  },
  {
   "cell_type": "code",
   "execution_count": 5,
   "metadata": {},
   "outputs": [
    {
     "name": "stdout",
     "output_type": "stream",
     "text": [
      "<class 'pandas.core.frame.DataFrame'>\n",
      "RangeIndex: 290849 entries, 0 to 290848\n",
      "Data columns (total 14 columns):\n",
      " #   Column                 Non-Null Count   Dtype  \n",
      "---  ------                 --------------   -----  \n",
      " 0   order_id               290849 non-null  int64  \n",
      " 1   user_id                290849 non-null  object \n",
      " 2   created_dt_msk         290849 non-null  object \n",
      " 3   created_ts_msk         290849 non-null  object \n",
      " 4   event_id               290849 non-null  int64  \n",
      " 5   cinema_circuit         290849 non-null  object \n",
      " 6   age_limit              290849 non-null  int64  \n",
      " 7   currency_code          290849 non-null  object \n",
      " 8   device_type_canonical  290849 non-null  object \n",
      " 9   revenue                290849 non-null  float64\n",
      " 10  service_name           290849 non-null  object \n",
      " 11  tickets_count          290849 non-null  int64  \n",
      " 12  total                  290849 non-null  float64\n",
      " 13  days_since_prev        268909 non-null  float64\n",
      "dtypes: float64(3), int64(4), object(7)\n",
      "memory usage: 31.1+ MB\n"
     ]
    }
   ],
   "source": [
    "fto_df.info()"
   ]
  },
  {
   "cell_type": "code",
   "execution_count": 6,
   "metadata": {},
   "outputs": [
    {
     "data": {
      "text/plain": [
       "order_id                 0.000000\n",
       "user_id                  0.000000\n",
       "created_dt_msk           0.000000\n",
       "created_ts_msk           0.000000\n",
       "event_id                 0.000000\n",
       "cinema_circuit           0.000000\n",
       "age_limit                0.000000\n",
       "currency_code            0.000000\n",
       "device_type_canonical    0.000000\n",
       "revenue                  0.000000\n",
       "service_name             0.000000\n",
       "tickets_count            0.000000\n",
       "total                    0.000000\n",
       "days_since_prev          7.543433\n",
       "dtype: float64"
      ]
     },
     "execution_count": 6,
     "metadata": {},
     "output_type": "execute_result"
    }
   ],
   "source": [
    "lens = fto_df.shape[0]\n",
    "fto_df.isna().sum()/fto_df.shape[0]*100"
   ]
  },
  {
   "cell_type": "markdown",
   "metadata": {},
   "source": [
    "В датасете представлены данные в соотвествии с описанием. Всего в датасете содержаться 290849 строк и 13 столбцов. Типы данных в датасете: int64, object и float64. Учитывая, что в данных присуствуют поля с датой и временем потребуется преобразование типов данных. Пропуски в данных присуствуют только в графе `days_since_prev` - количество дней с по сравнению с прошлой покупкой. Учитывая, что для первой покупки нет данных о предыдущей, то появление пропусков вполне логично и не потребует дальнейшей проработки."
   ]
  },
  {
   "cell_type": "code",
   "execution_count": 7,
   "metadata": {},
   "outputs": [
    {
     "data": {
      "text/html": [
       "<div>\n",
       "<style scoped>\n",
       "    .dataframe tbody tr th:only-of-type {\n",
       "        vertical-align: middle;\n",
       "    }\n",
       "\n",
       "    .dataframe tbody tr th {\n",
       "        vertical-align: top;\n",
       "    }\n",
       "\n",
       "    .dataframe thead th {\n",
       "        text-align: right;\n",
       "    }\n",
       "</style>\n",
       "<table border=\"1\" class=\"dataframe\">\n",
       "  <thead>\n",
       "    <tr style=\"text-align: right;\">\n",
       "      <th></th>\n",
       "      <th>event_id</th>\n",
       "      <th>event_name</th>\n",
       "      <th>event_type_description</th>\n",
       "      <th>event_type_main</th>\n",
       "      <th>organizers</th>\n",
       "      <th>region_name</th>\n",
       "      <th>city_name</th>\n",
       "      <th>city_id</th>\n",
       "      <th>venue_id</th>\n",
       "      <th>venue_name</th>\n",
       "      <th>venue_address</th>\n",
       "    </tr>\n",
       "  </thead>\n",
       "  <tbody>\n",
       "    <tr>\n",
       "      <th>0</th>\n",
       "      <td>4436</td>\n",
       "      <td>e4f26fba-da77-4c61-928a-6c3e434d793f</td>\n",
       "      <td>спектакль</td>\n",
       "      <td>театр</td>\n",
       "      <td>№4893</td>\n",
       "      <td>Североярская область</td>\n",
       "      <td>Озёрск</td>\n",
       "      <td>2</td>\n",
       "      <td>1600</td>\n",
       "      <td>Кладбище искусств \"Проблема\" и партнеры</td>\n",
       "      <td>наб. Загородная, д. 785</td>\n",
       "    </tr>\n",
       "    <tr>\n",
       "      <th>1</th>\n",
       "      <td>5785</td>\n",
       "      <td>5cc08a60-fdea-4186-9bb2-bffc3603fb77</td>\n",
       "      <td>спектакль</td>\n",
       "      <td>театр</td>\n",
       "      <td>№1931</td>\n",
       "      <td>Светополянский округ</td>\n",
       "      <td>Глиноград</td>\n",
       "      <td>54</td>\n",
       "      <td>2196</td>\n",
       "      <td>Лекции по искусству \"Свет\" Групп</td>\n",
       "      <td>ул. Ягодная, д. 942</td>\n",
       "    </tr>\n",
       "    <tr>\n",
       "      <th>2</th>\n",
       "      <td>8817</td>\n",
       "      <td>8e379a89-3a10-4811-ba06-ec22ebebe989</td>\n",
       "      <td>спектакль</td>\n",
       "      <td>театр</td>\n",
       "      <td>№4896</td>\n",
       "      <td>Североярская область</td>\n",
       "      <td>Озёрск</td>\n",
       "      <td>2</td>\n",
       "      <td>4043</td>\n",
       "      <td>Кинокомитет \"Золотая\" Инк</td>\n",
       "      <td>ш. Коммуны, д. 92 стр. 6</td>\n",
       "    </tr>\n",
       "    <tr>\n",
       "      <th>3</th>\n",
       "      <td>8849</td>\n",
       "      <td>682e3129-6a32-4952-9d8a-ef7f60d4c247</td>\n",
       "      <td>спектакль</td>\n",
       "      <td>театр</td>\n",
       "      <td>№4960</td>\n",
       "      <td>Каменевский регион</td>\n",
       "      <td>Глиногорск</td>\n",
       "      <td>213</td>\n",
       "      <td>1987</td>\n",
       "      <td>Выставка ремесел \"Свет\" Лтд</td>\n",
       "      <td>пер. Набережный, д. 35</td>\n",
       "    </tr>\n",
       "    <tr>\n",
       "      <th>4</th>\n",
       "      <td>8850</td>\n",
       "      <td>d6e99176-c77f-4af0-9222-07c571f6c624</td>\n",
       "      <td>спектакль</td>\n",
       "      <td>театр</td>\n",
       "      <td>№4770</td>\n",
       "      <td>Лесодальний край</td>\n",
       "      <td>Родниковец</td>\n",
       "      <td>55</td>\n",
       "      <td>4230</td>\n",
       "      <td>Фестивальный проект \"Листья\" Групп</td>\n",
       "      <td>пер. Проезжий, д. 9</td>\n",
       "    </tr>\n",
       "  </tbody>\n",
       "</table>\n",
       "</div>"
      ],
      "text/plain": [
       "   event_id                            event_name event_type_description  \\\n",
       "0      4436  e4f26fba-da77-4c61-928a-6c3e434d793f              спектакль   \n",
       "1      5785  5cc08a60-fdea-4186-9bb2-bffc3603fb77              спектакль   \n",
       "2      8817  8e379a89-3a10-4811-ba06-ec22ebebe989              спектакль   \n",
       "3      8849  682e3129-6a32-4952-9d8a-ef7f60d4c247              спектакль   \n",
       "4      8850  d6e99176-c77f-4af0-9222-07c571f6c624              спектакль   \n",
       "\n",
       "  event_type_main organizers           region_name   city_name  city_id  \\\n",
       "0           театр      №4893  Североярская область      Озёрск        2   \n",
       "1           театр      №1931  Светополянский округ   Глиноград       54   \n",
       "2           театр      №4896  Североярская область      Озёрск        2   \n",
       "3           театр      №4960    Каменевский регион  Глиногорск      213   \n",
       "4           театр      №4770      Лесодальний край  Родниковец       55   \n",
       "\n",
       "   venue_id                               venue_name             venue_address  \n",
       "0      1600  Кладбище искусств \"Проблема\" и партнеры   наб. Загородная, д. 785  \n",
       "1      2196         Лекции по искусству \"Свет\" Групп       ул. Ягодная, д. 942  \n",
       "2      4043                Кинокомитет \"Золотая\" Инк  ш. Коммуны, д. 92 стр. 6  \n",
       "3      1987              Выставка ремесел \"Свет\" Лтд    пер. Набережный, д. 35  \n",
       "4      4230       Фестивальный проект \"Листья\" Групп       пер. Проезжий, д. 9  "
      ]
     },
     "execution_count": 7,
     "metadata": {},
     "output_type": "execute_result"
    }
   ],
   "source": [
    "fte_df.head()"
   ]
  },
  {
   "cell_type": "code",
   "execution_count": 8,
   "metadata": {},
   "outputs": [
    {
     "name": "stdout",
     "output_type": "stream",
     "text": [
      "<class 'pandas.core.frame.DataFrame'>\n",
      "RangeIndex: 22427 entries, 0 to 22426\n",
      "Data columns (total 11 columns):\n",
      " #   Column                  Non-Null Count  Dtype \n",
      "---  ------                  --------------  ----- \n",
      " 0   event_id                22427 non-null  int64 \n",
      " 1   event_name              22427 non-null  object\n",
      " 2   event_type_description  22427 non-null  object\n",
      " 3   event_type_main         22427 non-null  object\n",
      " 4   organizers              22427 non-null  object\n",
      " 5   region_name             22427 non-null  object\n",
      " 6   city_name               22427 non-null  object\n",
      " 7   city_id                 22427 non-null  int64 \n",
      " 8   venue_id                22427 non-null  int64 \n",
      " 9   venue_name              22427 non-null  object\n",
      " 10  venue_address           22427 non-null  object\n",
      "dtypes: int64(3), object(8)\n",
      "memory usage: 1.9+ MB\n"
     ]
    }
   ],
   "source": [
    "fte_df.info()"
   ]
  },
  {
   "cell_type": "markdown",
   "metadata": {},
   "source": [
    "Данные датафрйема соотвествуют описанию, представленному выше. Размеры датасета составляют - 22427 строк и 11 столбцов. Пропусков в данных не обнаружено. Типы данных - object и int64. Указанные типы можно оптимизировать."
   ]
  },
  {
   "cell_type": "code",
   "execution_count": 9,
   "metadata": {},
   "outputs": [
    {
     "data": {
      "text/html": [
       "<div>\n",
       "<style scoped>\n",
       "    .dataframe tbody tr th:only-of-type {\n",
       "        vertical-align: middle;\n",
       "    }\n",
       "\n",
       "    .dataframe tbody tr th {\n",
       "        vertical-align: top;\n",
       "    }\n",
       "\n",
       "    .dataframe thead th {\n",
       "        text-align: right;\n",
       "    }\n",
       "</style>\n",
       "<table border=\"1\" class=\"dataframe\">\n",
       "  <thead>\n",
       "    <tr style=\"text-align: right;\">\n",
       "      <th></th>\n",
       "      <th>data</th>\n",
       "      <th>nominal</th>\n",
       "      <th>curs</th>\n",
       "      <th>cdx</th>\n",
       "    </tr>\n",
       "  </thead>\n",
       "  <tbody>\n",
       "    <tr>\n",
       "      <th>0</th>\n",
       "      <td>2024-01-10</td>\n",
       "      <td>100</td>\n",
       "      <td>19.9391</td>\n",
       "      <td>kzt</td>\n",
       "    </tr>\n",
       "    <tr>\n",
       "      <th>1</th>\n",
       "      <td>2024-01-11</td>\n",
       "      <td>100</td>\n",
       "      <td>19.7255</td>\n",
       "      <td>kzt</td>\n",
       "    </tr>\n",
       "    <tr>\n",
       "      <th>2</th>\n",
       "      <td>2024-01-12</td>\n",
       "      <td>100</td>\n",
       "      <td>19.5839</td>\n",
       "      <td>kzt</td>\n",
       "    </tr>\n",
       "    <tr>\n",
       "      <th>3</th>\n",
       "      <td>2024-01-13</td>\n",
       "      <td>100</td>\n",
       "      <td>19.4501</td>\n",
       "      <td>kzt</td>\n",
       "    </tr>\n",
       "    <tr>\n",
       "      <th>4</th>\n",
       "      <td>2024-01-14</td>\n",
       "      <td>100</td>\n",
       "      <td>19.4501</td>\n",
       "      <td>kzt</td>\n",
       "    </tr>\n",
       "  </tbody>\n",
       "</table>\n",
       "</div>"
      ],
      "text/plain": [
       "         data  nominal     curs  cdx\n",
       "0  2024-01-10      100  19.9391  kzt\n",
       "1  2024-01-11      100  19.7255  kzt\n",
       "2  2024-01-12      100  19.5839  kzt\n",
       "3  2024-01-13      100  19.4501  kzt\n",
       "4  2024-01-14      100  19.4501  kzt"
      ]
     },
     "execution_count": 9,
     "metadata": {},
     "output_type": "execute_result"
    }
   ],
   "source": [
    "ftt_df.head()"
   ]
  },
  {
   "cell_type": "code",
   "execution_count": 10,
   "metadata": {},
   "outputs": [
    {
     "name": "stdout",
     "output_type": "stream",
     "text": [
      "<class 'pandas.core.frame.DataFrame'>\n",
      "RangeIndex: 357 entries, 0 to 356\n",
      "Data columns (total 4 columns):\n",
      " #   Column   Non-Null Count  Dtype  \n",
      "---  ------   --------------  -----  \n",
      " 0   data     357 non-null    object \n",
      " 1   nominal  357 non-null    int64  \n",
      " 2   curs     357 non-null    float64\n",
      " 3   cdx      357 non-null    object \n",
      "dtypes: float64(1), int64(1), object(2)\n",
      "memory usage: 11.3+ KB\n"
     ]
    }
   ],
   "source": [
    "ftt_df.info()"
   ]
  },
  {
   "cell_type": "markdown",
   "metadata": {},
   "source": [
    "Данные соотвествуют описанию, пропусков в данных нет. Типы данных не оптимальны, так как присутсвует дата в формате object."
   ]
  },
  {
   "cell_type": "markdown",
   "metadata": {},
   "source": [
    "**Промежуточный вывод**\n",
    "\n",
    "Данные, представленные в датафреймах полность соотвествуют описанию. Пропуски в данных обнаружены лишь в одном поле одного датафрейма. При этом заполнение пропусков не потребуется, так как они несут важную информацию о первом заказе и их заполнение в последствии может сказаться на исследовательском анализе и проверке гипотез. \n",
    "\n",
    "При загрузке типы данных были определены автоматически и не всегда верно, на этапе предобработки данных это необходимо учесть и заменить типы данных."
   ]
  },
  {
   "cell_type": "markdown",
   "metadata": {},
   "source": [
    "<a class=\"anchor\" id=\"3_charter\"></a> \n",
    "## Предобработка данных и подготовка их к исследованию"
   ]
  },
  {
   "cell_type": "code",
   "execution_count": 11,
   "metadata": {},
   "outputs": [
    {
     "data": {
      "text/plain": [
       "'Уникальные значения по полю cinema_circuit'"
      ]
     },
     "metadata": {},
     "output_type": "display_data"
    },
    {
     "data": {
      "text/plain": [
       "нет           289451\n",
       "Другое          1261\n",
       "КиноСити         122\n",
       "Москино            7\n",
       "Киномакс           7\n",
       "ЦентрФильм         1\n",
       "Name: cinema_circuit, dtype: int64"
      ]
     },
     "metadata": {},
     "output_type": "display_data"
    },
    {
     "data": {
      "text/plain": [
       "'Уникальные значения по полю age_limit'"
      ]
     },
     "metadata": {},
     "output_type": "display_data"
    },
    {
     "data": {
      "text/plain": [
       "16    78579\n",
       "12    62557\n",
       "0     61487\n",
       "6     52173\n",
       "18    36053\n",
       "Name: age_limit, dtype: int64"
      ]
     },
     "metadata": {},
     "output_type": "display_data"
    },
    {
     "data": {
      "text/plain": [
       "'Уникальные значения по полю currency_code'"
      ]
     },
     "metadata": {},
     "output_type": "display_data"
    },
    {
     "data": {
      "text/plain": [
       "rub    285780\n",
       "kzt      5069\n",
       "Name: currency_code, dtype: int64"
      ]
     },
     "metadata": {},
     "output_type": "display_data"
    },
    {
     "data": {
      "text/plain": [
       "'Уникальные значения по полю device_type_canonical'"
      ]
     },
     "metadata": {},
     "output_type": "display_data"
    },
    {
     "data": {
      "text/plain": [
       "mobile     232679\n",
       "desktop     58170\n",
       "Name: device_type_canonical, dtype: int64"
      ]
     },
     "metadata": {},
     "output_type": "display_data"
    },
    {
     "data": {
      "text/plain": [
       "'Уникальные значения по полю service_name'"
      ]
     },
     "metadata": {},
     "output_type": "display_data"
    },
    {
     "data": {
      "text/plain": [
       "Билеты без проблем        63709\n",
       "Лови билет!               41126\n",
       "Билеты в руки             40364\n",
       "Мой билет                 34843\n",
       "Облачко                   26642\n",
       "Лучшие билеты             17795\n",
       "Весь в билетах            16849\n",
       "Прачечная                 10273\n",
       "Край билетов               6207\n",
       "Тебе билет!                5228\n",
       "Яблоко                     5039\n",
       "Дом культуры               4502\n",
       "За билетом!                2865\n",
       "Городской дом культуры     2733\n",
       "Show_ticket                2200\n",
       "Мир касс                   2167\n",
       "Быстробилет                2003\n",
       "Выступления.ру             1616\n",
       "Восьмёрка                  1118\n",
       "Crazy ticket!               790\n",
       "Росбилет                    539\n",
       "Шоу начинается!             499\n",
       "Быстрый кассир              381\n",
       "Радио ticket                376\n",
       "Телебилет                   321\n",
       "КарандашРУ                  133\n",
       "Реестр                      125\n",
       "Билет по телефону            85\n",
       "Вперёд!                      80\n",
       "Дырокол                      74\n",
       "Кино билет                   67\n",
       "Цвет и билет                 61\n",
       "Тех билет                    22\n",
       "Лимоны                        8\n",
       "Зе Бест!                      5\n",
       "Билеты в интернете            4\n",
       "Name: service_name, dtype: int64"
      ]
     },
     "metadata": {},
     "output_type": "display_data"
    }
   ],
   "source": [
    "# Проверим уникальные значения категориальных данных, чтобы оценить какие варианты записи встречаются в данных\n",
    "# к категориальным данным относятся cinema_circuit, age_limit, currency_code, device_type_canonical, service_name\n",
    "display('Уникальные значения по полю cinema_circuit')\n",
    "display(fto_df['cinema_circuit'].value_counts())\n",
    "display('Уникальные значения по полю age_limit')\n",
    "display(fto_df['age_limit'].value_counts())\n",
    "display('Уникальные значения по полю currency_code')\n",
    "display(fto_df['currency_code'].value_counts())\n",
    "display('Уникальные значения по полю device_type_canonical')\n",
    "display(fto_df['device_type_canonical'].value_counts())\n",
    "display('Уникальные значения по полю service_name')\n",
    "display(fto_df['service_name'].value_counts())"
   ]
  },
  {
   "cell_type": "markdown",
   "metadata": {},
   "source": [
    "В данных датафрейма встречается множество различных категорий по перечисленным полям. Неявные дубликаты в категориях незамечены. В поле, содержащем информацию о сети кинотеатров, присутсвуют значения нет. Из описание данных это значение предполгает, что информация о кинотеатре нет, так как мероприятие проводилось не в нем. "
   ]
  },
  {
   "cell_type": "code",
   "execution_count": 12,
   "metadata": {},
   "outputs": [
    {
     "data": {
      "text/plain": [
       "'Уникальные значения по полю event_type_description'"
      ]
     },
     "metadata": {},
     "output_type": "display_data"
    },
    {
     "data": {
      "text/plain": [
       "концерт                   8485\n",
       "спектакль                 6015\n",
       "событие                   4530\n",
       "шоу                        731\n",
       "спортивное мероприятие     575\n",
       "балет                      484\n",
       "мюзикл                     359\n",
       "спорт                      297\n",
       "опера                      252\n",
       "фестиваль                  212\n",
       "выставка                   209\n",
       "ёлка                       157\n",
       "цирковое шоу               112\n",
       "экскурсия                    3\n",
       "оперетта                     1\n",
       "кукольный спектакль          1\n",
       "подарок                      1\n",
       "музыкальный спектакль        1\n",
       "снегурочка                   1\n",
       "рок-мюзикл                   1\n",
       "Name: event_type_description, dtype: int64"
      ]
     },
     "metadata": {},
     "output_type": "display_data"
    },
    {
     "data": {
      "text/plain": [
       "'Уникальные значения по полю event_type_main'"
      ]
     },
     "metadata": {},
     "output_type": "display_data"
    },
    {
     "data": {
      "text/plain": [
       "концерты    8680\n",
       "театр       7076\n",
       "другое      4658\n",
       "спорт        872\n",
       "стендап      636\n",
       "выставки     290\n",
       "ёлки         215\n",
       "Name: event_type_main, dtype: int64"
      ]
     },
     "metadata": {},
     "output_type": "display_data"
    },
    {
     "data": {
      "text/plain": [
       "'Уникальные значения по полю region_name'"
      ]
     },
     "metadata": {},
     "output_type": "display_data"
    },
    {
     "data": {
      "text/plain": [
       "Каменевский регион          5983\n",
       "Североярская область        3814\n",
       "Широковская область         1233\n",
       "Светополянский округ        1075\n",
       "Речиновская область          702\n",
       "                            ... \n",
       "Теплоозёрский округ            2\n",
       "Верхозёрский край              2\n",
       "Лесноярский край               2\n",
       "Светолесский край              2\n",
       "Сосноводолинская область       2\n",
       "Name: region_name, Length: 81, dtype: int64"
      ]
     },
     "metadata": {},
     "output_type": "display_data"
    },
    {
     "data": {
      "text/plain": [
       "'Уникальные значения по полю city_name'"
      ]
     },
     "metadata": {},
     "output_type": "display_data"
    },
    {
     "data": {
      "text/plain": [
       "Глиногорск      5778\n",
       "Озёрск          3806\n",
       "Глиноград        817\n",
       "Дальнесветск     702\n",
       "Радужнополье     695\n",
       "                ... \n",
       "Байкуль            1\n",
       "Лесогорск          1\n",
       "Акжолтау           1\n",
       "Глинополин         1\n",
       "Глинополянск       1\n",
       "Name: city_name, Length: 352, dtype: int64"
      ]
     },
     "metadata": {},
     "output_type": "display_data"
    },
    {
     "data": {
      "text/plain": [
       "'Уникальные значения по полю venue_name'"
      ]
     },
     "metadata": {},
     "output_type": "display_data"
    },
    {
     "data": {
      "text/plain": [
       "Дворец культуры \"Скворечник\" Инк                 313\n",
       "Фестивальный проект \"Листья\" Групп               281\n",
       "Творческое объединение \"Гармония\" Инк            188\n",
       "Совет искусства \"Шар\" и партнеры                 167\n",
       "Центр культурного наследия \"Заряд\" и партнеры    158\n",
       "                                                ... \n",
       "Креативное пространство \"Мгновение\" Групп          1\n",
       "Площадка для муралов \"Angle\" Лтд                   1\n",
       "Научный центр \"Светлый\" и партнеры                 1\n",
       "Школа музыкального театра \"Эксплорер\" Групп        1\n",
       "Центр искусства и культуры \"Розы\" и партнеры       1\n",
       "Name: venue_name, Length: 3217, dtype: int64"
      ]
     },
     "metadata": {},
     "output_type": "display_data"
    }
   ],
   "source": [
    "# к категориальным данным в датасете fte_df относятся event_type_description, event_type_main, region_name, city_name,venue_name\n",
    "display('Уникальные значения по полю event_type_description')\n",
    "display(fte_df['event_type_description'].value_counts())\n",
    "display('Уникальные значения по полю event_type_main')\n",
    "display(fte_df['event_type_main'].value_counts())\n",
    "display('Уникальные значения по полю region_name')\n",
    "display(fte_df['region_name'].value_counts())\n",
    "display('Уникальные значения по полю city_name')\n",
    "display(fte_df['city_name'].value_counts())\n",
    "display('Уникальные значения по полю venue_name')\n",
    "display(fte_df['venue_name'].value_counts())"
   ]
  },
  {
   "cell_type": "markdown",
   "metadata": {},
   "source": [
    "В первом приближении в категориальных данных незамечено наличие категорий, которые подразумевают пропуск в данных или отсуствие информации. Такж не заметны неявные дубликаты. "
   ]
  },
  {
   "cell_type": "code",
   "execution_count": 13,
   "metadata": {},
   "outputs": [
    {
     "data": {
      "text/plain": [
       "'Уникальные значения по полю cdx'"
      ]
     },
     "metadata": {},
     "output_type": "display_data"
    },
    {
     "data": {
      "text/plain": [
       "kzt    357\n",
       "Name: cdx, dtype: int64"
      ]
     },
     "metadata": {},
     "output_type": "display_data"
    }
   ],
   "source": [
    "display('Уникальные значения по полю cdx')\n",
    "display(ftt_df['cdx'].value_counts())"
   ]
  },
  {
   "cell_type": "markdown",
   "metadata": {},
   "source": [
    "В датасете ftt_df к категории можно отнести лишь размерность валюты. Учитывая что датасет несет смысл только для перевода выручки за билет из тенге в рубли, то в нем и не должно было быть информации о курсе другух валют, однако проверка никогда не помешает."
   ]
  },
  {
   "cell_type": "code",
   "execution_count": 14,
   "metadata": {},
   "outputs": [
    {
     "data": {
      "text/plain": [
       "count    290849.000000\n",
       "mean          2.754230\n",
       "std           1.170467\n",
       "min           1.000000\n",
       "25%           2.000000\n",
       "50%           3.000000\n",
       "75%           4.000000\n",
       "max          57.000000\n",
       "Name: tickets_count, dtype: float64"
      ]
     },
     "execution_count": 14,
     "metadata": {},
     "output_type": "execute_result"
    }
   ],
   "source": [
    "# Присутпим к проверке количественных данных. Для анализа самыми важными является количество купленных билетов и полученная выручка.\n",
    "fto_df['tickets_count'].describe()"
   ]
  },
  {
   "cell_type": "code",
   "execution_count": 15,
   "metadata": {},
   "outputs": [
    {
     "data": {
      "image/png": "[encoded data removed]",
      "text/plain": [
       "<Figure size 720x576 with 1 Axes>"
      ]
     },
     "metadata": {
      "needs_background": "light"
     },
     "output_type": "display_data"
    }
   ],
   "source": [
    "fto_df['tickets_count'].plot(kind = 'hist', bins = 200, color = 'blue', title = 'Распределение по количеству купленных билетов за один заказ',\n",
    "                           figsize=(10,8))\n",
    "plt.xlabel('Количество купленных билетов')\n",
    "plt.ylabel('Количество заказов')\n",
    "plt.grid()\n",
    "plt.show()"
   ]
  },
  {
   "cell_type": "markdown",
   "metadata": {},
   "source": [
    "Из полученной истограммы очень сложно сделать оценку количества купленных билетов за один раз, стоит также построить ящик с усами."
   ]
  },
  {
   "cell_type": "code",
   "execution_count": 16,
   "metadata": {},
   "outputs": [
    {
     "name": "stderr",
     "output_type": "stream",
     "text": [
      "/opt/conda/lib/python3.9/site-packages/seaborn/_decorators.py:36: FutureWarning: Pass the following variable as a keyword arg: x. From version 0.12, the only valid positional argument will be `data`, and passing other arguments without an explicit keyword will result in an error or misinterpretation.\n",
      "  warnings.warn(\n"
     ]
    },
    {
     "data": {
      "image/png": "[encoded data removed]",
      "text/plain": [
       "<Figure size 720x576 with 1 Axes>"
      ]
     },
     "metadata": {
      "needs_background": "light"
     },
     "output_type": "display_data"
    }
   ],
   "source": [
    "plt.figure(figsize = (10,8))\n",
    "sns.boxplot(fto_df['tickets_count'])\n",
    "plt.xlabel('Количество купленных билетов')\n",
    "plt.ylabel('Количество заказов')\n",
    "plt.grid()\n",
    "plt.show()"
   ]
  },
  {
   "cell_type": "code",
   "execution_count": 17,
   "metadata": {},
   "outputs": [
    {
     "name": "stderr",
     "output_type": "stream",
     "text": [
      "/opt/conda/lib/python3.9/site-packages/seaborn/_decorators.py:36: FutureWarning: Pass the following variable as a keyword arg: x. From version 0.12, the only valid positional argument will be `data`, and passing other arguments without an explicit keyword will result in an error or misinterpretation.\n",
      "  warnings.warn(\n"
     ]
    },
    {
     "data": {
      "image/png": "[encoded data removed]",
      "text/plain": [
       "<Figure size 720x576 with 1 Axes>"
      ]
     },
     "metadata": {
      "needs_background": "light"
     },
     "output_type": "display_data"
    }
   ],
   "source": [
    "plt.figure(figsize = (10,8))\n",
    "sns.boxplot(fto_df['tickets_count'], showfliers = False)\n",
    "plt.xlabel('Количество купленных билетов')\n",
    "plt.ylabel('Количество заказов')\n",
    "plt.grid()\n",
    "plt.show()"
   ]
  },
  {
   "cell_type": "markdown",
   "metadata": {},
   "source": [
    "Из поулченных графиков распределения и оценки, а также статистических показателей по полю \"Количество билетов\" заметно ч то в данных присутствуют выбросы. Чаще всего в одном заказе покупют от 2 до 4 билетов. Медиана и среднее отличаются (последнее меньше первого), что говорит о неравномерности распределения и влиянию меньших значений на среднее. Также, учитывая что среднее меньше, чем медиана, то количество значений - выбросов небольшое. Максимальное количество билетов, купленных в рамках одного заказа составляет 57 штук. Возможно один человек покупал билеты на группу людей (например посещение школьников в театр или кино). Из ворого ящика \"с усами\" заметно, что предельно допустимое значенисоставляет 7. Оценим какое количество значений можно отнести к выбросам."
   ]
  },
  {
   "cell_type": "code",
   "execution_count": 18,
   "metadata": {},
   "outputs": [
    {
     "data": {
      "text/plain": [
       "0.043321448586723696"
      ]
     },
     "execution_count": 18,
     "metadata": {},
     "output_type": "execute_result"
    }
   ],
   "source": [
    "fto_df['tickets_count'][fto_df['tickets_count'] > 7].count()/fto_df.shape[0]*100"
   ]
  },
  {
   "cell_type": "markdown",
   "metadata": {},
   "source": [
    "Количество таких заказов - выбросов не большое и их вполне можно будет убрать в дальнейшем. "
   ]
  },
  {
   "cell_type": "code",
   "execution_count": 19,
   "metadata": {},
   "outputs": [
    {
     "data": {
      "text/plain": [
       "count    285780.000000\n",
       "mean        547.568333\n",
       "std         871.524559\n",
       "min         -90.760000\n",
       "25%         113.827500\n",
       "50%         346.100000\n",
       "75%         791.700000\n",
       "max       81174.540000\n",
       "Name: revenue, dtype: float64"
      ]
     },
     "execution_count": 19,
     "metadata": {},
     "output_type": "execute_result"
    }
   ],
   "source": [
    "# Теперь првоверим статистические значения по полю выручки\n",
    "fto_df['revenue'][fto_df['currency_code'] == 'rub'].describe()"
   ]
  },
  {
   "cell_type": "code",
   "execution_count": 20,
   "metadata": {},
   "outputs": [
    {
     "data": {
      "image/png": "[encoded data removed]",
      "text/plain": [
       "<Figure size 720x576 with 1 Axes>"
      ]
     },
     "metadata": {
      "needs_background": "light"
     },
     "output_type": "display_data"
    }
   ],
   "source": [
    "fto_df['revenue'][fto_df['currency_code'] == 'rub'].plot(kind = 'hist', bins = 200, color = 'blue', title = 'Распределение выручки за один заказ',\n",
    "                           figsize=(10,8))\n",
    "plt.xlabel('Выручка за заказ')\n",
    "plt.ylabel('Количество заказов')\n",
    "plt.grid()\n",
    "plt.show()"
   ]
  },
  {
   "cell_type": "code",
   "execution_count": 21,
   "metadata": {},
   "outputs": [
    {
     "name": "stderr",
     "output_type": "stream",
     "text": [
      "/opt/conda/lib/python3.9/site-packages/seaborn/_decorators.py:36: FutureWarning: Pass the following variable as a keyword arg: x. From version 0.12, the only valid positional argument will be `data`, and passing other arguments without an explicit keyword will result in an error or misinterpretation.\n",
      "  warnings.warn(\n"
     ]
    },
    {
     "data": {
      "image/png": "[encoded data removed]",
      "text/plain": [
       "<Figure size 720x576 with 1 Axes>"
      ]
     },
     "metadata": {
      "needs_background": "light"
     },
     "output_type": "display_data"
    }
   ],
   "source": [
    "plt.figure(figsize = (10,8))\n",
    "sns.boxplot(fto_df['revenue'][fto_df['currency_code'] == 'rub'])\n",
    "plt.xlabel('Выручка')\n",
    "plt.ylabel('Количество заказов')\n",
    "plt.grid()\n",
    "plt.show()"
   ]
  },
  {
   "cell_type": "code",
   "execution_count": 22,
   "metadata": {},
   "outputs": [
    {
     "name": "stderr",
     "output_type": "stream",
     "text": [
      "/opt/conda/lib/python3.9/site-packages/seaborn/_decorators.py:36: FutureWarning: Pass the following variable as a keyword arg: x. From version 0.12, the only valid positional argument will be `data`, and passing other arguments without an explicit keyword will result in an error or misinterpretation.\n",
      "  warnings.warn(\n"
     ]
    },
    {
     "data": {
      "image/png": "[encoded data removed]",
      "text/plain": [
       "<Figure size 720x576 with 1 Axes>"
      ]
     },
     "metadata": {
      "needs_background": "light"
     },
     "output_type": "display_data"
    }
   ],
   "source": [
    "plt.figure(figsize = (10,8))\n",
    "sns.boxplot(fto_df['revenue'][fto_df['currency_code'] == 'rub'], showfliers = False)\n",
    "plt.xlabel('Выручка')\n",
    "plt.ylabel('Количество заказов')\n",
    "plt.grid()\n",
    "plt.show()"
   ]
  },
  {
   "cell_type": "code",
   "execution_count": 23,
   "metadata": {},
   "outputs": [
    {
     "data": {
      "text/plain": [
       "1808.5087500000002"
      ]
     },
     "metadata": {},
     "output_type": "display_data"
    }
   ],
   "source": [
    "IQR = fto_df['revenue'][fto_df['currency_code'] == 'rub'].quantile(0.75) - fto_df['revenue'][fto_df['currency_code'] == 'rub'].quantile(0.25)\n",
    "display(fto_df['revenue'][fto_df['currency_code'] == 'rub'].quantile(0.75)+IQR*1.5)"
   ]
  },
  {
   "cell_type": "markdown",
   "metadata": {},
   "source": [
    "Из полученных статистчиеских показателей заметно, что большинство значений по выручке расположено в промежутке от 113 до 792 рубля, при этом медиана составляет 346 рублей. Среднее равно 547 рублей, что говорит о влиянии выбросов на него, также о большой вариативности данных говорит среднеквадратичное отклонение равное 871."
   ]
  },
  {
   "cell_type": "markdown",
   "metadata": {},
   "source": [
    "Из гисторгаммы видно, что распределение неравномерно, она ассиметрично с удлинненым правым хвостом. Это же заметно и по ящику с усами с выбросами. Математическим способом была вычислена граница правого уса, которая составляет 1808,5 руб. Следует оценить количество выбросов."
   ]
  },
  {
   "cell_type": "code",
   "execution_count": 24,
   "metadata": {},
   "outputs": [
    {
     "data": {
      "text/plain": [
       "3.4994103469497917"
      ]
     },
     "execution_count": 24,
     "metadata": {},
     "output_type": "execute_result"
    }
   ],
   "source": [
    "fto_df['revenue'][(fto_df['revenue'] > 1808.5) & (fto_df['currency_code'] == 'rub')].count()/fto_df.shape[0]*100"
   ]
  },
  {
   "cell_type": "markdown",
   "metadata": {},
   "source": [
    "Здесь количество выбросов значительно выше, чем в предыдущем случае с билетами и составляет 3,5% от всех данных. "
   ]
  },
  {
   "cell_type": "code",
   "execution_count": 25,
   "metadata": {},
   "outputs": [
    {
     "data": {
      "text/plain": [
       "count     5069.000000\n",
       "mean      4995.206767\n",
       "std       4916.752776\n",
       "min          0.000000\n",
       "25%        518.100000\n",
       "50%       3698.830000\n",
       "75%       7397.660000\n",
       "max      26425.860000\n",
       "Name: revenue, dtype: float64"
      ]
     },
     "execution_count": 25,
     "metadata": {},
     "output_type": "execute_result"
    }
   ],
   "source": [
    "#Теперь проверим данные по тенге\n",
    "fto_df['revenue'][fto_df['currency_code'] == 'kzt'].describe()"
   ]
  },
  {
   "cell_type": "code",
   "execution_count": 26,
   "metadata": {},
   "outputs": [
    {
     "data": {
      "image/png": "[encoded data removed]",
      "text/plain": [
       "<Figure size 720x576 with 1 Axes>"
      ]
     },
     "metadata": {
      "needs_background": "light"
     },
     "output_type": "display_data"
    }
   ],
   "source": [
    "fto_df['revenue'][fto_df['currency_code'] == 'kzt'].plot(kind = 'hist', bins = 200, color = 'blue', title = 'Распределение выручки за один заказ',\n",
    "                           figsize=(10,8))\n",
    "plt.xlabel('Выручка за заказ')\n",
    "plt.ylabel('Количество заказов')\n",
    "plt.grid()\n",
    "plt.show()"
   ]
  },
  {
   "cell_type": "code",
   "execution_count": 27,
   "metadata": {},
   "outputs": [
    {
     "name": "stderr",
     "output_type": "stream",
     "text": [
      "/opt/conda/lib/python3.9/site-packages/seaborn/_decorators.py:36: FutureWarning: Pass the following variable as a keyword arg: x. From version 0.12, the only valid positional argument will be `data`, and passing other arguments without an explicit keyword will result in an error or misinterpretation.\n",
      "  warnings.warn(\n"
     ]
    },
    {
     "data": {
      "image/png": "[encoded data removed]",
      "text/plain": [
       "<Figure size 720x576 with 1 Axes>"
      ]
     },
     "metadata": {
      "needs_background": "light"
     },
     "output_type": "display_data"
    }
   ],
   "source": [
    "plt.figure(figsize = (10,8))\n",
    "sns.boxplot(fto_df['revenue'][fto_df['currency_code'] == 'kzt'])\n",
    "plt.xlabel('Выручка')\n",
    "plt.ylabel('Количество заказов')\n",
    "plt.grid()\n",
    "plt.show()"
   ]
  },
  {
   "cell_type": "code",
   "execution_count": 28,
   "metadata": {},
   "outputs": [
    {
     "name": "stderr",
     "output_type": "stream",
     "text": [
      "/opt/conda/lib/python3.9/site-packages/seaborn/_decorators.py:36: FutureWarning: Pass the following variable as a keyword arg: x. From version 0.12, the only valid positional argument will be `data`, and passing other arguments without an explicit keyword will result in an error or misinterpretation.\n",
      "  warnings.warn(\n"
     ]
    },
    {
     "data": {
      "image/png": "[encoded data removed]",
      "text/plain": [
       "<Figure size 720x576 with 1 Axes>"
      ]
     },
     "metadata": {
      "needs_background": "light"
     },
     "output_type": "display_data"
    }
   ],
   "source": [
    "plt.figure(figsize = (10,8))\n",
    "sns.boxplot(fto_df['revenue'][fto_df['currency_code'] == 'kzt'], showfliers = False)\n",
    "plt.xlabel('Выручка')\n",
    "plt.ylabel('Количество заказов')\n",
    "plt.grid()\n",
    "plt.show()"
   ]
  },
  {
   "cell_type": "code",
   "execution_count": 29,
   "metadata": {},
   "outputs": [
    {
     "data": {
      "text/plain": [
       "17717.0"
      ]
     },
     "metadata": {},
     "output_type": "display_data"
    }
   ],
   "source": [
    "IQR_kzt = fto_df['revenue'][fto_df['currency_code'] == 'kzt'].quantile(0.75) - fto_df['revenue'][fto_df['currency_code'] == 'kzt'].quantile(0.25)\n",
    "display(fto_df['revenue'][fto_df['currency_code'] == 'kzt'].quantile(0.75)+IQR_kzt*1.5)"
   ]
  },
  {
   "cell_type": "markdown",
   "metadata": {},
   "source": [
    "Чаще всео выручка от продаже  составляет от 518 до 7400 тенге. При этом медиана равна 3700. Среднее - 4995. Это говорит о том, что выбросы вновь присутсвюут и влияют на среднее. Максимальная выручка с продаже составила 26425 тенге. Из графиков видно, что распределение также неравномерно и имеет правый хвост. Ящик с усами демострирует, что выбросы в данных присутсвуют. Стоит оценить им количество."
   ]
  },
  {
   "cell_type": "code",
   "execution_count": 30,
   "metadata": {},
   "outputs": [
    {
     "data": {
      "text/plain": [
       "0.00997080959535704"
      ]
     },
     "execution_count": 30,
     "metadata": {},
     "output_type": "execute_result"
    }
   ],
   "source": [
    "fto_df['revenue'][(fto_df['revenue'] > 17717) & (fto_df['currency_code'] == 'kzt')].count()/fto_df.shape[0]*100"
   ]
  },
  {
   "cell_type": "markdown",
   "metadata": {},
   "source": [
    "Количество значений выбросов в данном случае невелико и от них также можно избавиться.\n",
    "\n",
    "В основных количественных полях рассмотрены статистические значения и их распределение. В данных присутствуют выбросы, что плохо скажется на последующем анализе, окончательно выбросы будут убраны после. "
   ]
  },
  {
   "cell_type": "code",
   "execution_count": 31,
   "metadata": {},
   "outputs": [
    {
     "data": {
      "text/plain": [
       "0"
      ]
     },
     "execution_count": 31,
     "metadata": {},
     "output_type": "execute_result"
    }
   ],
   "source": [
    "# Проверим наличие явных дубликатов \n",
    "fto_df.duplicated().sum()"
   ]
  },
  {
   "cell_type": "markdown",
   "metadata": {},
   "source": [
    "Явных дубликатов в записях не найдено."
   ]
  },
  {
   "cell_type": "code",
   "execution_count": 32,
   "metadata": {},
   "outputs": [
    {
     "data": {
      "text/plain": [
       "30"
      ]
     },
     "execution_count": 32,
     "metadata": {},
     "output_type": "execute_result"
    }
   ],
   "source": [
    "# Проверим наличие неявных дубликатов \n",
    "fto_df.duplicated(subset = fto_df.columns.delete(0)).sum()"
   ]
  },
  {
   "cell_type": "markdown",
   "metadata": {},
   "source": [
    "Проверка дубликатов проведена по основным полям: индентификатору пользователя, времени оформления заказа, идентификатору мероприятия, выручке и количеству приобретаемых билетов. Суммарно найдено 30 дубликата."
   ]
  },
  {
   "cell_type": "markdown",
   "metadata": {},
   "source": [
    "В начале раздела были рассмотрены категориальные данные, ошибок в названии и дублирования обнаружено не было, что может говорить о том, что неявных дубликатов вызванных по причине опечатки в данных не обнаружено.\n",
    "\n",
    "Удалим явные дубликаты из датафрейма"
   ]
  },
  {
   "cell_type": "code",
   "execution_count": 33,
   "metadata": {},
   "outputs": [
    {
     "data": {
      "text/html": [
       "<div>\n",
       "<style scoped>\n",
       "    .dataframe tbody tr th:only-of-type {\n",
       "        vertical-align: middle;\n",
       "    }\n",
       "\n",
       "    .dataframe tbody tr th {\n",
       "        vertical-align: top;\n",
       "    }\n",
       "\n",
       "    .dataframe thead th {\n",
       "        text-align: right;\n",
       "    }\n",
       "</style>\n",
       "<table border=\"1\" class=\"dataframe\">\n",
       "  <thead>\n",
       "    <tr style=\"text-align: right;\">\n",
       "      <th></th>\n",
       "      <th>order_id</th>\n",
       "      <th>user_id</th>\n",
       "      <th>created_dt_msk</th>\n",
       "      <th>created_ts_msk</th>\n",
       "      <th>event_id</th>\n",
       "      <th>cinema_circuit</th>\n",
       "      <th>age_limit</th>\n",
       "      <th>currency_code</th>\n",
       "      <th>device_type_canonical</th>\n",
       "      <th>revenue</th>\n",
       "      <th>service_name</th>\n",
       "      <th>tickets_count</th>\n",
       "      <th>total</th>\n",
       "      <th>days_since_prev</th>\n",
       "    </tr>\n",
       "  </thead>\n",
       "  <tbody>\n",
       "    <tr>\n",
       "      <th>0</th>\n",
       "      <td>4359165</td>\n",
       "      <td>0002849b70a3ce2</td>\n",
       "      <td>2024-08-20</td>\n",
       "      <td>2024-08-20 16:08:03</td>\n",
       "      <td>169230</td>\n",
       "      <td>нет</td>\n",
       "      <td>16</td>\n",
       "      <td>rub</td>\n",
       "      <td>mobile</td>\n",
       "      <td>1521.94</td>\n",
       "      <td>Край билетов</td>\n",
       "      <td>4</td>\n",
       "      <td>10870.99</td>\n",
       "      <td>NaN</td>\n",
       "    </tr>\n",
       "    <tr>\n",
       "      <th>1</th>\n",
       "      <td>7965605</td>\n",
       "      <td>0005ca5e93f2cf4</td>\n",
       "      <td>2024-07-23</td>\n",
       "      <td>2024-07-23 18:36:24</td>\n",
       "      <td>237325</td>\n",
       "      <td>нет</td>\n",
       "      <td>0</td>\n",
       "      <td>rub</td>\n",
       "      <td>mobile</td>\n",
       "      <td>289.45</td>\n",
       "      <td>Мой билет</td>\n",
       "      <td>2</td>\n",
       "      <td>2067.51</td>\n",
       "      <td>NaN</td>\n",
       "    </tr>\n",
       "    <tr>\n",
       "      <th>2</th>\n",
       "      <td>7292370</td>\n",
       "      <td>0005ca5e93f2cf4</td>\n",
       "      <td>2024-10-06</td>\n",
       "      <td>2024-10-06 13:56:02</td>\n",
       "      <td>578454</td>\n",
       "      <td>нет</td>\n",
       "      <td>0</td>\n",
       "      <td>rub</td>\n",
       "      <td>mobile</td>\n",
       "      <td>1258.57</td>\n",
       "      <td>За билетом!</td>\n",
       "      <td>4</td>\n",
       "      <td>13984.16</td>\n",
       "      <td>75.0</td>\n",
       "    </tr>\n",
       "    <tr>\n",
       "      <th>3</th>\n",
       "      <td>1139875</td>\n",
       "      <td>000898990054619</td>\n",
       "      <td>2024-07-13</td>\n",
       "      <td>2024-07-13 19:40:48</td>\n",
       "      <td>387271</td>\n",
       "      <td>нет</td>\n",
       "      <td>0</td>\n",
       "      <td>rub</td>\n",
       "      <td>mobile</td>\n",
       "      <td>8.49</td>\n",
       "      <td>Лови билет!</td>\n",
       "      <td>2</td>\n",
       "      <td>212.28</td>\n",
       "      <td>NaN</td>\n",
       "    </tr>\n",
       "    <tr>\n",
       "      <th>4</th>\n",
       "      <td>972400</td>\n",
       "      <td>000898990054619</td>\n",
       "      <td>2024-10-04</td>\n",
       "      <td>2024-10-04 22:33:15</td>\n",
       "      <td>509453</td>\n",
       "      <td>нет</td>\n",
       "      <td>18</td>\n",
       "      <td>rub</td>\n",
       "      <td>mobile</td>\n",
       "      <td>1390.41</td>\n",
       "      <td>Билеты без проблем</td>\n",
       "      <td>3</td>\n",
       "      <td>10695.43</td>\n",
       "      <td>83.0</td>\n",
       "    </tr>\n",
       "    <tr>\n",
       "      <th>...</th>\n",
       "      <td>...</td>\n",
       "      <td>...</td>\n",
       "      <td>...</td>\n",
       "      <td>...</td>\n",
       "      <td>...</td>\n",
       "      <td>...</td>\n",
       "      <td>...</td>\n",
       "      <td>...</td>\n",
       "      <td>...</td>\n",
       "      <td>...</td>\n",
       "      <td>...</td>\n",
       "      <td>...</td>\n",
       "      <td>...</td>\n",
       "      <td>...</td>\n",
       "    </tr>\n",
       "    <tr>\n",
       "      <th>290844</th>\n",
       "      <td>368620</td>\n",
       "      <td>fffcd3dde79eb2c</td>\n",
       "      <td>2024-10-27</td>\n",
       "      <td>2024-10-27 18:00:57</td>\n",
       "      <td>33189</td>\n",
       "      <td>нет</td>\n",
       "      <td>6</td>\n",
       "      <td>rub</td>\n",
       "      <td>mobile</td>\n",
       "      <td>965.57</td>\n",
       "      <td>Весь в билетах</td>\n",
       "      <td>4</td>\n",
       "      <td>9655.73</td>\n",
       "      <td>0.0</td>\n",
       "    </tr>\n",
       "    <tr>\n",
       "      <th>290845</th>\n",
       "      <td>368562</td>\n",
       "      <td>fffcd3dde79eb2c</td>\n",
       "      <td>2024-10-27</td>\n",
       "      <td>2024-10-27 17:53:53</td>\n",
       "      <td>33189</td>\n",
       "      <td>нет</td>\n",
       "      <td>6</td>\n",
       "      <td>rub</td>\n",
       "      <td>mobile</td>\n",
       "      <td>1448.36</td>\n",
       "      <td>Весь в билетах</td>\n",
       "      <td>6</td>\n",
       "      <td>14483.60</td>\n",
       "      <td>0.0</td>\n",
       "    </tr>\n",
       "    <tr>\n",
       "      <th>290846</th>\n",
       "      <td>8473772</td>\n",
       "      <td>fffcd3dde79eb2c</td>\n",
       "      <td>2024-10-30</td>\n",
       "      <td>2024-10-30 13:37:43</td>\n",
       "      <td>205231</td>\n",
       "      <td>нет</td>\n",
       "      <td>16</td>\n",
       "      <td>rub</td>\n",
       "      <td>desktop</td>\n",
       "      <td>178.95</td>\n",
       "      <td>Прачечная</td>\n",
       "      <td>2</td>\n",
       "      <td>4473.74</td>\n",
       "      <td>3.0</td>\n",
       "    </tr>\n",
       "    <tr>\n",
       "      <th>290847</th>\n",
       "      <td>5526067</td>\n",
       "      <td>fffeeb3c120cf0b</td>\n",
       "      <td>2024-09-24</td>\n",
       "      <td>2024-09-24 10:07:42</td>\n",
       "      <td>454526</td>\n",
       "      <td>нет</td>\n",
       "      <td>18</td>\n",
       "      <td>rub</td>\n",
       "      <td>desktop</td>\n",
       "      <td>661.53</td>\n",
       "      <td>Билеты без проблем</td>\n",
       "      <td>2</td>\n",
       "      <td>6615.34</td>\n",
       "      <td>NaN</td>\n",
       "    </tr>\n",
       "    <tr>\n",
       "      <th>290848</th>\n",
       "      <td>813654</td>\n",
       "      <td>ffff00725179321</td>\n",
       "      <td>2024-09-25</td>\n",
       "      <td>2024-09-25 15:12:40</td>\n",
       "      <td>284965</td>\n",
       "      <td>нет</td>\n",
       "      <td>16</td>\n",
       "      <td>rub</td>\n",
       "      <td>mobile</td>\n",
       "      <td>802.25</td>\n",
       "      <td>Мой билет</td>\n",
       "      <td>2</td>\n",
       "      <td>8913.92</td>\n",
       "      <td>NaN</td>\n",
       "    </tr>\n",
       "  </tbody>\n",
       "</table>\n",
       "<p>290819 rows × 14 columns</p>\n",
       "</div>"
      ],
      "text/plain": [
       "        order_id          user_id created_dt_msk       created_ts_msk  \\\n",
       "0        4359165  0002849b70a3ce2     2024-08-20  2024-08-20 16:08:03   \n",
       "1        7965605  0005ca5e93f2cf4     2024-07-23  2024-07-23 18:36:24   \n",
       "2        7292370  0005ca5e93f2cf4     2024-10-06  2024-10-06 13:56:02   \n",
       "3        1139875  000898990054619     2024-07-13  2024-07-13 19:40:48   \n",
       "4         972400  000898990054619     2024-10-04  2024-10-04 22:33:15   \n",
       "...          ...              ...            ...                  ...   \n",
       "290844    368620  fffcd3dde79eb2c     2024-10-27  2024-10-27 18:00:57   \n",
       "290845    368562  fffcd3dde79eb2c     2024-10-27  2024-10-27 17:53:53   \n",
       "290846   8473772  fffcd3dde79eb2c     2024-10-30  2024-10-30 13:37:43   \n",
       "290847   5526067  fffeeb3c120cf0b     2024-09-24  2024-09-24 10:07:42   \n",
       "290848    813654  ffff00725179321     2024-09-25  2024-09-25 15:12:40   \n",
       "\n",
       "        event_id cinema_circuit  age_limit currency_code  \\\n",
       "0         169230            нет         16           rub   \n",
       "1         237325            нет          0           rub   \n",
       "2         578454            нет          0           rub   \n",
       "3         387271            нет          0           rub   \n",
       "4         509453            нет         18           rub   \n",
       "...          ...            ...        ...           ...   \n",
       "290844     33189            нет          6           rub   \n",
       "290845     33189            нет          6           rub   \n",
       "290846    205231            нет         16           rub   \n",
       "290847    454526            нет         18           rub   \n",
       "290848    284965            нет         16           rub   \n",
       "\n",
       "       device_type_canonical  revenue        service_name  tickets_count  \\\n",
       "0                     mobile  1521.94        Край билетов              4   \n",
       "1                     mobile   289.45           Мой билет              2   \n",
       "2                     mobile  1258.57         За билетом!              4   \n",
       "3                     mobile     8.49         Лови билет!              2   \n",
       "4                     mobile  1390.41  Билеты без проблем              3   \n",
       "...                      ...      ...                 ...            ...   \n",
       "290844                mobile   965.57      Весь в билетах              4   \n",
       "290845                mobile  1448.36      Весь в билетах              6   \n",
       "290846               desktop   178.95           Прачечная              2   \n",
       "290847               desktop   661.53  Билеты без проблем              2   \n",
       "290848                mobile   802.25           Мой билет              2   \n",
       "\n",
       "           total  days_since_prev  \n",
       "0       10870.99              NaN  \n",
       "1        2067.51              NaN  \n",
       "2       13984.16             75.0  \n",
       "3         212.28              NaN  \n",
       "4       10695.43             83.0  \n",
       "...          ...              ...  \n",
       "290844   9655.73              0.0  \n",
       "290845  14483.60              0.0  \n",
       "290846   4473.74              3.0  \n",
       "290847   6615.34              NaN  \n",
       "290848   8913.92              NaN  \n",
       "\n",
       "[290819 rows x 14 columns]"
      ]
     },
     "execution_count": 33,
     "metadata": {},
     "output_type": "execute_result"
    }
   ],
   "source": [
    "fto_df.drop_duplicates(subset = fto_df.columns.delete(0), keep = 'first')"
   ]
  },
  {
   "cell_type": "markdown",
   "metadata": {},
   "source": [
    "Первоначальное количество данных уменьшилось и теперь составляет 290809 строк."
   ]
  },
  {
   "cell_type": "code",
   "execution_count": 34,
   "metadata": {},
   "outputs": [],
   "source": [
    "# Преобразуем типы данных в датафреймах\n",
    "fto_df['created_dt_msk'] = pd.to_datetime(fto_df['created_dt_msk'])\n",
    "fto_df['created_ts_msk'] = pd.to_datetime(fto_df['created_ts_msk'])\n",
    "fto_df['age_limit'] = pd.to_numeric(fto_df['age_limit'], downcast = 'integer')\n",
    "fto_df['tickets_count'] = pd.to_numeric(fto_df['tickets_count'], downcast = 'integer')\n",
    "\n",
    "fte_df['city_id'] = pd.to_numeric(fte_df['city_id'], downcast = 'integer')\n",
    "fte_df['venue_id'] = pd.to_numeric(fte_df['venue_id'], downcast = 'integer')\n",
    "\n",
    "ftt_df['nominal'] = pd.to_numeric(ftt_df['nominal'], downcast = 'integer')\n",
    "ftt_df['data'] = pd.to_datetime(ftt_df['data'])"
   ]
  },
  {
   "cell_type": "code",
   "execution_count": 35,
   "metadata": {},
   "outputs": [
    {
     "data": {
      "text/html": [
       "<div>\n",
       "<style scoped>\n",
       "    .dataframe tbody tr th:only-of-type {\n",
       "        vertical-align: middle;\n",
       "    }\n",
       "\n",
       "    .dataframe tbody tr th {\n",
       "        vertical-align: top;\n",
       "    }\n",
       "\n",
       "    .dataframe thead th {\n",
       "        text-align: right;\n",
       "    }\n",
       "</style>\n",
       "<table border=\"1\" class=\"dataframe\">\n",
       "  <thead>\n",
       "    <tr style=\"text-align: right;\">\n",
       "      <th></th>\n",
       "      <th>order_id</th>\n",
       "      <th>user_id</th>\n",
       "      <th>created_dt_msk</th>\n",
       "      <th>created_ts_msk</th>\n",
       "      <th>event_id</th>\n",
       "      <th>cinema_circuit</th>\n",
       "      <th>age_limit</th>\n",
       "      <th>currency_code</th>\n",
       "      <th>device_type_canonical</th>\n",
       "      <th>revenue</th>\n",
       "      <th>service_name</th>\n",
       "      <th>tickets_count</th>\n",
       "      <th>total</th>\n",
       "      <th>days_since_prev</th>\n",
       "      <th>revenue_rub</th>\n",
       "    </tr>\n",
       "  </thead>\n",
       "  <tbody>\n",
       "    <tr>\n",
       "      <th>0</th>\n",
       "      <td>4359165</td>\n",
       "      <td>0002849b70a3ce2</td>\n",
       "      <td>2024-08-20</td>\n",
       "      <td>2024-08-20 16:08:03</td>\n",
       "      <td>169230</td>\n",
       "      <td>нет</td>\n",
       "      <td>16</td>\n",
       "      <td>rub</td>\n",
       "      <td>mobile</td>\n",
       "      <td>1521.94</td>\n",
       "      <td>Край билетов</td>\n",
       "      <td>4</td>\n",
       "      <td>10870.99</td>\n",
       "      <td>NaN</td>\n",
       "      <td>1521.94</td>\n",
       "    </tr>\n",
       "    <tr>\n",
       "      <th>1</th>\n",
       "      <td>7965605</td>\n",
       "      <td>0005ca5e93f2cf4</td>\n",
       "      <td>2024-07-23</td>\n",
       "      <td>2024-07-23 18:36:24</td>\n",
       "      <td>237325</td>\n",
       "      <td>нет</td>\n",
       "      <td>0</td>\n",
       "      <td>rub</td>\n",
       "      <td>mobile</td>\n",
       "      <td>289.45</td>\n",
       "      <td>Мой билет</td>\n",
       "      <td>2</td>\n",
       "      <td>2067.51</td>\n",
       "      <td>NaN</td>\n",
       "      <td>289.45</td>\n",
       "    </tr>\n",
       "    <tr>\n",
       "      <th>2</th>\n",
       "      <td>7292370</td>\n",
       "      <td>0005ca5e93f2cf4</td>\n",
       "      <td>2024-10-06</td>\n",
       "      <td>2024-10-06 13:56:02</td>\n",
       "      <td>578454</td>\n",
       "      <td>нет</td>\n",
       "      <td>0</td>\n",
       "      <td>rub</td>\n",
       "      <td>mobile</td>\n",
       "      <td>1258.57</td>\n",
       "      <td>За билетом!</td>\n",
       "      <td>4</td>\n",
       "      <td>13984.16</td>\n",
       "      <td>75.0</td>\n",
       "      <td>1258.57</td>\n",
       "    </tr>\n",
       "    <tr>\n",
       "      <th>3</th>\n",
       "      <td>1139875</td>\n",
       "      <td>000898990054619</td>\n",
       "      <td>2024-07-13</td>\n",
       "      <td>2024-07-13 19:40:48</td>\n",
       "      <td>387271</td>\n",
       "      <td>нет</td>\n",
       "      <td>0</td>\n",
       "      <td>rub</td>\n",
       "      <td>mobile</td>\n",
       "      <td>8.49</td>\n",
       "      <td>Лови билет!</td>\n",
       "      <td>2</td>\n",
       "      <td>212.28</td>\n",
       "      <td>NaN</td>\n",
       "      <td>8.49</td>\n",
       "    </tr>\n",
       "    <tr>\n",
       "      <th>4</th>\n",
       "      <td>972400</td>\n",
       "      <td>000898990054619</td>\n",
       "      <td>2024-10-04</td>\n",
       "      <td>2024-10-04 22:33:15</td>\n",
       "      <td>509453</td>\n",
       "      <td>нет</td>\n",
       "      <td>18</td>\n",
       "      <td>rub</td>\n",
       "      <td>mobile</td>\n",
       "      <td>1390.41</td>\n",
       "      <td>Билеты без проблем</td>\n",
       "      <td>3</td>\n",
       "      <td>10695.43</td>\n",
       "      <td>83.0</td>\n",
       "      <td>1390.41</td>\n",
       "    </tr>\n",
       "    <tr>\n",
       "      <th>...</th>\n",
       "      <td>...</td>\n",
       "      <td>...</td>\n",
       "      <td>...</td>\n",
       "      <td>...</td>\n",
       "      <td>...</td>\n",
       "      <td>...</td>\n",
       "      <td>...</td>\n",
       "      <td>...</td>\n",
       "      <td>...</td>\n",
       "      <td>...</td>\n",
       "      <td>...</td>\n",
       "      <td>...</td>\n",
       "      <td>...</td>\n",
       "      <td>...</td>\n",
       "      <td>...</td>\n",
       "    </tr>\n",
       "    <tr>\n",
       "      <th>290844</th>\n",
       "      <td>368620</td>\n",
       "      <td>fffcd3dde79eb2c</td>\n",
       "      <td>2024-10-27</td>\n",
       "      <td>2024-10-27 18:00:57</td>\n",
       "      <td>33189</td>\n",
       "      <td>нет</td>\n",
       "      <td>6</td>\n",
       "      <td>rub</td>\n",
       "      <td>mobile</td>\n",
       "      <td>965.57</td>\n",
       "      <td>Весь в билетах</td>\n",
       "      <td>4</td>\n",
       "      <td>9655.73</td>\n",
       "      <td>0.0</td>\n",
       "      <td>965.57</td>\n",
       "    </tr>\n",
       "    <tr>\n",
       "      <th>290845</th>\n",
       "      <td>368562</td>\n",
       "      <td>fffcd3dde79eb2c</td>\n",
       "      <td>2024-10-27</td>\n",
       "      <td>2024-10-27 17:53:53</td>\n",
       "      <td>33189</td>\n",
       "      <td>нет</td>\n",
       "      <td>6</td>\n",
       "      <td>rub</td>\n",
       "      <td>mobile</td>\n",
       "      <td>1448.36</td>\n",
       "      <td>Весь в билетах</td>\n",
       "      <td>6</td>\n",
       "      <td>14483.60</td>\n",
       "      <td>0.0</td>\n",
       "      <td>1448.36</td>\n",
       "    </tr>\n",
       "    <tr>\n",
       "      <th>290846</th>\n",
       "      <td>8473772</td>\n",
       "      <td>fffcd3dde79eb2c</td>\n",
       "      <td>2024-10-30</td>\n",
       "      <td>2024-10-30 13:37:43</td>\n",
       "      <td>205231</td>\n",
       "      <td>нет</td>\n",
       "      <td>16</td>\n",
       "      <td>rub</td>\n",
       "      <td>desktop</td>\n",
       "      <td>178.95</td>\n",
       "      <td>Прачечная</td>\n",
       "      <td>2</td>\n",
       "      <td>4473.74</td>\n",
       "      <td>3.0</td>\n",
       "      <td>178.95</td>\n",
       "    </tr>\n",
       "    <tr>\n",
       "      <th>290847</th>\n",
       "      <td>5526067</td>\n",
       "      <td>fffeeb3c120cf0b</td>\n",
       "      <td>2024-09-24</td>\n",
       "      <td>2024-09-24 10:07:42</td>\n",
       "      <td>454526</td>\n",
       "      <td>нет</td>\n",
       "      <td>18</td>\n",
       "      <td>rub</td>\n",
       "      <td>desktop</td>\n",
       "      <td>661.53</td>\n",
       "      <td>Билеты без проблем</td>\n",
       "      <td>2</td>\n",
       "      <td>6615.34</td>\n",
       "      <td>NaN</td>\n",
       "      <td>661.53</td>\n",
       "    </tr>\n",
       "    <tr>\n",
       "      <th>290848</th>\n",
       "      <td>813654</td>\n",
       "      <td>ffff00725179321</td>\n",
       "      <td>2024-09-25</td>\n",
       "      <td>2024-09-25 15:12:40</td>\n",
       "      <td>284965</td>\n",
       "      <td>нет</td>\n",
       "      <td>16</td>\n",
       "      <td>rub</td>\n",
       "      <td>mobile</td>\n",
       "      <td>802.25</td>\n",
       "      <td>Мой билет</td>\n",
       "      <td>2</td>\n",
       "      <td>8913.92</td>\n",
       "      <td>NaN</td>\n",
       "      <td>802.25</td>\n",
       "    </tr>\n",
       "  </tbody>\n",
       "</table>\n",
       "<p>290849 rows × 15 columns</p>\n",
       "</div>"
      ],
      "text/plain": [
       "        order_id          user_id created_dt_msk      created_ts_msk  \\\n",
       "0        4359165  0002849b70a3ce2     2024-08-20 2024-08-20 16:08:03   \n",
       "1        7965605  0005ca5e93f2cf4     2024-07-23 2024-07-23 18:36:24   \n",
       "2        7292370  0005ca5e93f2cf4     2024-10-06 2024-10-06 13:56:02   \n",
       "3        1139875  000898990054619     2024-07-13 2024-07-13 19:40:48   \n",
       "4         972400  000898990054619     2024-10-04 2024-10-04 22:33:15   \n",
       "...          ...              ...            ...                 ...   \n",
       "290844    368620  fffcd3dde79eb2c     2024-10-27 2024-10-27 18:00:57   \n",
       "290845    368562  fffcd3dde79eb2c     2024-10-27 2024-10-27 17:53:53   \n",
       "290846   8473772  fffcd3dde79eb2c     2024-10-30 2024-10-30 13:37:43   \n",
       "290847   5526067  fffeeb3c120cf0b     2024-09-24 2024-09-24 10:07:42   \n",
       "290848    813654  ffff00725179321     2024-09-25 2024-09-25 15:12:40   \n",
       "\n",
       "        event_id cinema_circuit  age_limit currency_code  \\\n",
       "0         169230            нет         16           rub   \n",
       "1         237325            нет          0           rub   \n",
       "2         578454            нет          0           rub   \n",
       "3         387271            нет          0           rub   \n",
       "4         509453            нет         18           rub   \n",
       "...          ...            ...        ...           ...   \n",
       "290844     33189            нет          6           rub   \n",
       "290845     33189            нет          6           rub   \n",
       "290846    205231            нет         16           rub   \n",
       "290847    454526            нет         18           rub   \n",
       "290848    284965            нет         16           rub   \n",
       "\n",
       "       device_type_canonical  revenue        service_name  tickets_count  \\\n",
       "0                     mobile  1521.94        Край билетов              4   \n",
       "1                     mobile   289.45           Мой билет              2   \n",
       "2                     mobile  1258.57         За билетом!              4   \n",
       "3                     mobile     8.49         Лови билет!              2   \n",
       "4                     mobile  1390.41  Билеты без проблем              3   \n",
       "...                      ...      ...                 ...            ...   \n",
       "290844                mobile   965.57      Весь в билетах              4   \n",
       "290845                mobile  1448.36      Весь в билетах              6   \n",
       "290846               desktop   178.95           Прачечная              2   \n",
       "290847               desktop   661.53  Билеты без проблем              2   \n",
       "290848                mobile   802.25           Мой билет              2   \n",
       "\n",
       "           total  days_since_prev  revenue_rub  \n",
       "0       10870.99              NaN      1521.94  \n",
       "1        2067.51              NaN       289.45  \n",
       "2       13984.16             75.0      1258.57  \n",
       "3         212.28              NaN         8.49  \n",
       "4       10695.43             83.0      1390.41  \n",
       "...          ...              ...          ...  \n",
       "290844   9655.73              0.0       965.57  \n",
       "290845  14483.60              0.0      1448.36  \n",
       "290846   4473.74              3.0       178.95  \n",
       "290847   6615.34              NaN       661.53  \n",
       "290848   8913.92              NaN       802.25  \n",
       "\n",
       "[290849 rows x 15 columns]"
      ]
     },
     "execution_count": 35,
     "metadata": {},
     "output_type": "execute_result"
    }
   ],
   "source": [
    "# Добавим новый столбик, где будет представлена выручка в рублях\n",
    "fto_df_plus = fto_df.merge(ftt_df, left_on = ['created_dt_msk', 'currency_code'], right_on = ['data', 'cdx'], how = 'left')\n",
    "fto_df_plus[['nominal', 'curs']] = fto_df_plus[['nominal', 'curs']].fillna(1)\n",
    "fto_df_plus['revenue_rub'] = fto_df_plus['revenue'] / fto_df_plus['nominal'] * fto_df_plus['curs']\n",
    "fto_df_plus = fto_df_plus.drop(['nominal', 'curs', 'cdx', 'data'], axis = 1)\n",
    "fto_df_plus"
   ]
  },
  {
   "cell_type": "code",
   "execution_count": 36,
   "metadata": {},
   "outputs": [
    {
     "data": {
      "text/plain": [
       "10    100221\n",
       "9      69976\n",
       "8      45044\n",
       "7      40925\n",
       "6      34683\n",
       "Name: month, dtype: int64"
      ]
     },
     "execution_count": 36,
     "metadata": {},
     "output_type": "execute_result"
    }
   ],
   "source": [
    "# Добавим новые столбцы с выручкой за один билет и с месяцем\n",
    "fto_df_plus['one_tickets_revenue_rub'] = fto_df_plus['revenue_rub'] / fto_df_plus['tickets_count']\n",
    "fto_df_plus['month'] = fto_df_plus['created_dt_msk'].dt.month\n",
    "fto_df_plus['month'].value_counts()"
   ]
  },
  {
   "cell_type": "code",
   "execution_count": 37,
   "metadata": {},
   "outputs": [],
   "source": [
    "def month_and_seasons(row):\n",
    "    if row['month'] == 6:\n",
    "        return 'Июнь'\n",
    "    elif row['month'] == 7:\n",
    "        return 'Июль'\n",
    "    elif row['month'] == 8:\n",
    "        return 'Август'\n",
    "    elif row['month'] == 9:\n",
    "        return 'Сентябрь'\n",
    "    elif row['month'] == 10:\n",
    "        return 'Октябрь'\n",
    "    \n",
    "    \n",
    "    \n",
    "    \n",
    "fto_df_plus['month'] = fto_df_plus.apply(month_and_seasons, axis = 1)"
   ]
  },
  {
   "cell_type": "code",
   "execution_count": 38,
   "metadata": {},
   "outputs": [],
   "source": [
    "def seasons(row):\n",
    "    if row['month'] == 'Июнь' or row['month'] == 'Июль' or row['month'] == 'Август':\n",
    "        return 'Лето'\n",
    "    else:\n",
    "        return 'Осень'\n",
    "    \n",
    "fto_df_plus['season'] = fto_df_plus.apply(seasons, axis = 1)"
   ]
  },
  {
   "cell_type": "code",
   "execution_count": 39,
   "metadata": {},
   "outputs": [
    {
     "data": {
      "text/html": [
       "<div>\n",
       "<style scoped>\n",
       "    .dataframe tbody tr th:only-of-type {\n",
       "        vertical-align: middle;\n",
       "    }\n",
       "\n",
       "    .dataframe tbody tr th {\n",
       "        vertical-align: top;\n",
       "    }\n",
       "\n",
       "    .dataframe thead th {\n",
       "        text-align: right;\n",
       "    }\n",
       "</style>\n",
       "<table border=\"1\" class=\"dataframe\">\n",
       "  <thead>\n",
       "    <tr style=\"text-align: right;\">\n",
       "      <th></th>\n",
       "      <th>order_id</th>\n",
       "      <th>user_id</th>\n",
       "      <th>created_dt_msk</th>\n",
       "      <th>created_ts_msk</th>\n",
       "      <th>event_id</th>\n",
       "      <th>cinema_circuit</th>\n",
       "      <th>age_limit</th>\n",
       "      <th>currency_code</th>\n",
       "      <th>device_type_canonical</th>\n",
       "      <th>revenue</th>\n",
       "      <th>service_name</th>\n",
       "      <th>tickets_count</th>\n",
       "      <th>total</th>\n",
       "      <th>days_since_prev</th>\n",
       "      <th>revenue_rub</th>\n",
       "      <th>one_tickets_revenue_rub</th>\n",
       "      <th>month</th>\n",
       "      <th>season</th>\n",
       "    </tr>\n",
       "  </thead>\n",
       "  <tbody>\n",
       "    <tr>\n",
       "      <th>0</th>\n",
       "      <td>4359165</td>\n",
       "      <td>0002849b70a3ce2</td>\n",
       "      <td>2024-08-20</td>\n",
       "      <td>2024-08-20 16:08:03</td>\n",
       "      <td>169230</td>\n",
       "      <td>нет</td>\n",
       "      <td>16</td>\n",
       "      <td>rub</td>\n",
       "      <td>mobile</td>\n",
       "      <td>1521.94</td>\n",
       "      <td>Край билетов</td>\n",
       "      <td>4</td>\n",
       "      <td>10870.99</td>\n",
       "      <td>NaN</td>\n",
       "      <td>1521.94</td>\n",
       "      <td>380.485000</td>\n",
       "      <td>Август</td>\n",
       "      <td>Лето</td>\n",
       "    </tr>\n",
       "    <tr>\n",
       "      <th>1</th>\n",
       "      <td>7965605</td>\n",
       "      <td>0005ca5e93f2cf4</td>\n",
       "      <td>2024-07-23</td>\n",
       "      <td>2024-07-23 18:36:24</td>\n",
       "      <td>237325</td>\n",
       "      <td>нет</td>\n",
       "      <td>0</td>\n",
       "      <td>rub</td>\n",
       "      <td>mobile</td>\n",
       "      <td>289.45</td>\n",
       "      <td>Мой билет</td>\n",
       "      <td>2</td>\n",
       "      <td>2067.51</td>\n",
       "      <td>NaN</td>\n",
       "      <td>289.45</td>\n",
       "      <td>144.725000</td>\n",
       "      <td>Июль</td>\n",
       "      <td>Лето</td>\n",
       "    </tr>\n",
       "    <tr>\n",
       "      <th>2</th>\n",
       "      <td>7292370</td>\n",
       "      <td>0005ca5e93f2cf4</td>\n",
       "      <td>2024-10-06</td>\n",
       "      <td>2024-10-06 13:56:02</td>\n",
       "      <td>578454</td>\n",
       "      <td>нет</td>\n",
       "      <td>0</td>\n",
       "      <td>rub</td>\n",
       "      <td>mobile</td>\n",
       "      <td>1258.57</td>\n",
       "      <td>За билетом!</td>\n",
       "      <td>4</td>\n",
       "      <td>13984.16</td>\n",
       "      <td>75.0</td>\n",
       "      <td>1258.57</td>\n",
       "      <td>314.642500</td>\n",
       "      <td>Октябрь</td>\n",
       "      <td>Осень</td>\n",
       "    </tr>\n",
       "    <tr>\n",
       "      <th>3</th>\n",
       "      <td>1139875</td>\n",
       "      <td>000898990054619</td>\n",
       "      <td>2024-07-13</td>\n",
       "      <td>2024-07-13 19:40:48</td>\n",
       "      <td>387271</td>\n",
       "      <td>нет</td>\n",
       "      <td>0</td>\n",
       "      <td>rub</td>\n",
       "      <td>mobile</td>\n",
       "      <td>8.49</td>\n",
       "      <td>Лови билет!</td>\n",
       "      <td>2</td>\n",
       "      <td>212.28</td>\n",
       "      <td>NaN</td>\n",
       "      <td>8.49</td>\n",
       "      <td>4.245000</td>\n",
       "      <td>Июль</td>\n",
       "      <td>Лето</td>\n",
       "    </tr>\n",
       "    <tr>\n",
       "      <th>4</th>\n",
       "      <td>972400</td>\n",
       "      <td>000898990054619</td>\n",
       "      <td>2024-10-04</td>\n",
       "      <td>2024-10-04 22:33:15</td>\n",
       "      <td>509453</td>\n",
       "      <td>нет</td>\n",
       "      <td>18</td>\n",
       "      <td>rub</td>\n",
       "      <td>mobile</td>\n",
       "      <td>1390.41</td>\n",
       "      <td>Билеты без проблем</td>\n",
       "      <td>3</td>\n",
       "      <td>10695.43</td>\n",
       "      <td>83.0</td>\n",
       "      <td>1390.41</td>\n",
       "      <td>463.470000</td>\n",
       "      <td>Октябрь</td>\n",
       "      <td>Осень</td>\n",
       "    </tr>\n",
       "    <tr>\n",
       "      <th>...</th>\n",
       "      <td>...</td>\n",
       "      <td>...</td>\n",
       "      <td>...</td>\n",
       "      <td>...</td>\n",
       "      <td>...</td>\n",
       "      <td>...</td>\n",
       "      <td>...</td>\n",
       "      <td>...</td>\n",
       "      <td>...</td>\n",
       "      <td>...</td>\n",
       "      <td>...</td>\n",
       "      <td>...</td>\n",
       "      <td>...</td>\n",
       "      <td>...</td>\n",
       "      <td>...</td>\n",
       "      <td>...</td>\n",
       "      <td>...</td>\n",
       "      <td>...</td>\n",
       "    </tr>\n",
       "    <tr>\n",
       "      <th>290844</th>\n",
       "      <td>368620</td>\n",
       "      <td>fffcd3dde79eb2c</td>\n",
       "      <td>2024-10-27</td>\n",
       "      <td>2024-10-27 18:00:57</td>\n",
       "      <td>33189</td>\n",
       "      <td>нет</td>\n",
       "      <td>6</td>\n",
       "      <td>rub</td>\n",
       "      <td>mobile</td>\n",
       "      <td>965.57</td>\n",
       "      <td>Весь в билетах</td>\n",
       "      <td>4</td>\n",
       "      <td>9655.73</td>\n",
       "      <td>0.0</td>\n",
       "      <td>965.57</td>\n",
       "      <td>241.392500</td>\n",
       "      <td>Октябрь</td>\n",
       "      <td>Осень</td>\n",
       "    </tr>\n",
       "    <tr>\n",
       "      <th>290845</th>\n",
       "      <td>368562</td>\n",
       "      <td>fffcd3dde79eb2c</td>\n",
       "      <td>2024-10-27</td>\n",
       "      <td>2024-10-27 17:53:53</td>\n",
       "      <td>33189</td>\n",
       "      <td>нет</td>\n",
       "      <td>6</td>\n",
       "      <td>rub</td>\n",
       "      <td>mobile</td>\n",
       "      <td>1448.36</td>\n",
       "      <td>Весь в билетах</td>\n",
       "      <td>6</td>\n",
       "      <td>14483.60</td>\n",
       "      <td>0.0</td>\n",
       "      <td>1448.36</td>\n",
       "      <td>241.393333</td>\n",
       "      <td>Октябрь</td>\n",
       "      <td>Осень</td>\n",
       "    </tr>\n",
       "    <tr>\n",
       "      <th>290846</th>\n",
       "      <td>8473772</td>\n",
       "      <td>fffcd3dde79eb2c</td>\n",
       "      <td>2024-10-30</td>\n",
       "      <td>2024-10-30 13:37:43</td>\n",
       "      <td>205231</td>\n",
       "      <td>нет</td>\n",
       "      <td>16</td>\n",
       "      <td>rub</td>\n",
       "      <td>desktop</td>\n",
       "      <td>178.95</td>\n",
       "      <td>Прачечная</td>\n",
       "      <td>2</td>\n",
       "      <td>4473.74</td>\n",
       "      <td>3.0</td>\n",
       "      <td>178.95</td>\n",
       "      <td>89.475000</td>\n",
       "      <td>Октябрь</td>\n",
       "      <td>Осень</td>\n",
       "    </tr>\n",
       "    <tr>\n",
       "      <th>290847</th>\n",
       "      <td>5526067</td>\n",
       "      <td>fffeeb3c120cf0b</td>\n",
       "      <td>2024-09-24</td>\n",
       "      <td>2024-09-24 10:07:42</td>\n",
       "      <td>454526</td>\n",
       "      <td>нет</td>\n",
       "      <td>18</td>\n",
       "      <td>rub</td>\n",
       "      <td>desktop</td>\n",
       "      <td>661.53</td>\n",
       "      <td>Билеты без проблем</td>\n",
       "      <td>2</td>\n",
       "      <td>6615.34</td>\n",
       "      <td>NaN</td>\n",
       "      <td>661.53</td>\n",
       "      <td>330.765000</td>\n",
       "      <td>Сентябрь</td>\n",
       "      <td>Осень</td>\n",
       "    </tr>\n",
       "    <tr>\n",
       "      <th>290848</th>\n",
       "      <td>813654</td>\n",
       "      <td>ffff00725179321</td>\n",
       "      <td>2024-09-25</td>\n",
       "      <td>2024-09-25 15:12:40</td>\n",
       "      <td>284965</td>\n",
       "      <td>нет</td>\n",
       "      <td>16</td>\n",
       "      <td>rub</td>\n",
       "      <td>mobile</td>\n",
       "      <td>802.25</td>\n",
       "      <td>Мой билет</td>\n",
       "      <td>2</td>\n",
       "      <td>8913.92</td>\n",
       "      <td>NaN</td>\n",
       "      <td>802.25</td>\n",
       "      <td>401.125000</td>\n",
       "      <td>Сентябрь</td>\n",
       "      <td>Осень</td>\n",
       "    </tr>\n",
       "  </tbody>\n",
       "</table>\n",
       "<p>290849 rows × 18 columns</p>\n",
       "</div>"
      ],
      "text/plain": [
       "        order_id          user_id created_dt_msk      created_ts_msk  \\\n",
       "0        4359165  0002849b70a3ce2     2024-08-20 2024-08-20 16:08:03   \n",
       "1        7965605  0005ca5e93f2cf4     2024-07-23 2024-07-23 18:36:24   \n",
       "2        7292370  0005ca5e93f2cf4     2024-10-06 2024-10-06 13:56:02   \n",
       "3        1139875  000898990054619     2024-07-13 2024-07-13 19:40:48   \n",
       "4         972400  000898990054619     2024-10-04 2024-10-04 22:33:15   \n",
       "...          ...              ...            ...                 ...   \n",
       "290844    368620  fffcd3dde79eb2c     2024-10-27 2024-10-27 18:00:57   \n",
       "290845    368562  fffcd3dde79eb2c     2024-10-27 2024-10-27 17:53:53   \n",
       "290846   8473772  fffcd3dde79eb2c     2024-10-30 2024-10-30 13:37:43   \n",
       "290847   5526067  fffeeb3c120cf0b     2024-09-24 2024-09-24 10:07:42   \n",
       "290848    813654  ffff00725179321     2024-09-25 2024-09-25 15:12:40   \n",
       "\n",
       "        event_id cinema_circuit  age_limit currency_code  \\\n",
       "0         169230            нет         16           rub   \n",
       "1         237325            нет          0           rub   \n",
       "2         578454            нет          0           rub   \n",
       "3         387271            нет          0           rub   \n",
       "4         509453            нет         18           rub   \n",
       "...          ...            ...        ...           ...   \n",
       "290844     33189            нет          6           rub   \n",
       "290845     33189            нет          6           rub   \n",
       "290846    205231            нет         16           rub   \n",
       "290847    454526            нет         18           rub   \n",
       "290848    284965            нет         16           rub   \n",
       "\n",
       "       device_type_canonical  revenue        service_name  tickets_count  \\\n",
       "0                     mobile  1521.94        Край билетов              4   \n",
       "1                     mobile   289.45           Мой билет              2   \n",
       "2                     mobile  1258.57         За билетом!              4   \n",
       "3                     mobile     8.49         Лови билет!              2   \n",
       "4                     mobile  1390.41  Билеты без проблем              3   \n",
       "...                      ...      ...                 ...            ...   \n",
       "290844                mobile   965.57      Весь в билетах              4   \n",
       "290845                mobile  1448.36      Весь в билетах              6   \n",
       "290846               desktop   178.95           Прачечная              2   \n",
       "290847               desktop   661.53  Билеты без проблем              2   \n",
       "290848                mobile   802.25           Мой билет              2   \n",
       "\n",
       "           total  days_since_prev  revenue_rub  one_tickets_revenue_rub  \\\n",
       "0       10870.99              NaN      1521.94               380.485000   \n",
       "1        2067.51              NaN       289.45               144.725000   \n",
       "2       13984.16             75.0      1258.57               314.642500   \n",
       "3         212.28              NaN         8.49                 4.245000   \n",
       "4       10695.43             83.0      1390.41               463.470000   \n",
       "...          ...              ...          ...                      ...   \n",
       "290844   9655.73              0.0       965.57               241.392500   \n",
       "290845  14483.60              0.0      1448.36               241.393333   \n",
       "290846   4473.74              3.0       178.95                89.475000   \n",
       "290847   6615.34              NaN       661.53               330.765000   \n",
       "290848   8913.92              NaN       802.25               401.125000   \n",
       "\n",
       "           month season  \n",
       "0         Август   Лето  \n",
       "1           Июль   Лето  \n",
       "2        Октябрь  Осень  \n",
       "3           Июль   Лето  \n",
       "4        Октябрь  Осень  \n",
       "...          ...    ...  \n",
       "290844   Октябрь  Осень  \n",
       "290845   Октябрь  Осень  \n",
       "290846   Октябрь  Осень  \n",
       "290847  Сентябрь  Осень  \n",
       "290848  Сентябрь  Осень  \n",
       "\n",
       "[290849 rows x 18 columns]"
      ]
     },
     "execution_count": 39,
     "metadata": {},
     "output_type": "execute_result"
    }
   ],
   "source": [
    "fto_df_plus"
   ]
  },
  {
   "cell_type": "markdown",
   "metadata": {},
   "source": [
    "Теперь, после того как все данные подготовлены избавимся от выбросов по полям выручки в рублях и количеству билетов. Для этого возьмем значения квантиля в 0.99."
   ]
  },
  {
   "cell_type": "code",
   "execution_count": 40,
   "metadata": {},
   "outputs": [
    {
     "data": {
      "text/html": [
       "<div>\n",
       "<style scoped>\n",
       "    .dataframe tbody tr th:only-of-type {\n",
       "        vertical-align: middle;\n",
       "    }\n",
       "\n",
       "    .dataframe tbody tr th {\n",
       "        vertical-align: top;\n",
       "    }\n",
       "\n",
       "    .dataframe thead th {\n",
       "        text-align: right;\n",
       "    }\n",
       "</style>\n",
       "<table border=\"1\" class=\"dataframe\">\n",
       "  <thead>\n",
       "    <tr style=\"text-align: right;\">\n",
       "      <th></th>\n",
       "      <th>order_id</th>\n",
       "      <th>user_id</th>\n",
       "      <th>created_dt_msk</th>\n",
       "      <th>created_ts_msk</th>\n",
       "      <th>event_id</th>\n",
       "      <th>cinema_circuit</th>\n",
       "      <th>age_limit</th>\n",
       "      <th>currency_code</th>\n",
       "      <th>device_type_canonical</th>\n",
       "      <th>revenue</th>\n",
       "      <th>service_name</th>\n",
       "      <th>tickets_count</th>\n",
       "      <th>total</th>\n",
       "      <th>days_since_prev</th>\n",
       "      <th>revenue_rub</th>\n",
       "      <th>one_tickets_revenue_rub</th>\n",
       "      <th>month</th>\n",
       "      <th>season</th>\n",
       "    </tr>\n",
       "  </thead>\n",
       "  <tbody>\n",
       "    <tr>\n",
       "      <th>0</th>\n",
       "      <td>4359165</td>\n",
       "      <td>0002849b70a3ce2</td>\n",
       "      <td>2024-08-20</td>\n",
       "      <td>2024-08-20 16:08:03</td>\n",
       "      <td>169230</td>\n",
       "      <td>нет</td>\n",
       "      <td>16</td>\n",
       "      <td>rub</td>\n",
       "      <td>mobile</td>\n",
       "      <td>1521.94</td>\n",
       "      <td>Край билетов</td>\n",
       "      <td>4</td>\n",
       "      <td>10870.99</td>\n",
       "      <td>NaN</td>\n",
       "      <td>1521.94</td>\n",
       "      <td>380.485000</td>\n",
       "      <td>Август</td>\n",
       "      <td>Лето</td>\n",
       "    </tr>\n",
       "    <tr>\n",
       "      <th>1</th>\n",
       "      <td>7965605</td>\n",
       "      <td>0005ca5e93f2cf4</td>\n",
       "      <td>2024-07-23</td>\n",
       "      <td>2024-07-23 18:36:24</td>\n",
       "      <td>237325</td>\n",
       "      <td>нет</td>\n",
       "      <td>0</td>\n",
       "      <td>rub</td>\n",
       "      <td>mobile</td>\n",
       "      <td>289.45</td>\n",
       "      <td>Мой билет</td>\n",
       "      <td>2</td>\n",
       "      <td>2067.51</td>\n",
       "      <td>NaN</td>\n",
       "      <td>289.45</td>\n",
       "      <td>144.725000</td>\n",
       "      <td>Июль</td>\n",
       "      <td>Лето</td>\n",
       "    </tr>\n",
       "    <tr>\n",
       "      <th>2</th>\n",
       "      <td>7292370</td>\n",
       "      <td>0005ca5e93f2cf4</td>\n",
       "      <td>2024-10-06</td>\n",
       "      <td>2024-10-06 13:56:02</td>\n",
       "      <td>578454</td>\n",
       "      <td>нет</td>\n",
       "      <td>0</td>\n",
       "      <td>rub</td>\n",
       "      <td>mobile</td>\n",
       "      <td>1258.57</td>\n",
       "      <td>За билетом!</td>\n",
       "      <td>4</td>\n",
       "      <td>13984.16</td>\n",
       "      <td>75.0</td>\n",
       "      <td>1258.57</td>\n",
       "      <td>314.642500</td>\n",
       "      <td>Октябрь</td>\n",
       "      <td>Осень</td>\n",
       "    </tr>\n",
       "    <tr>\n",
       "      <th>3</th>\n",
       "      <td>1139875</td>\n",
       "      <td>000898990054619</td>\n",
       "      <td>2024-07-13</td>\n",
       "      <td>2024-07-13 19:40:48</td>\n",
       "      <td>387271</td>\n",
       "      <td>нет</td>\n",
       "      <td>0</td>\n",
       "      <td>rub</td>\n",
       "      <td>mobile</td>\n",
       "      <td>8.49</td>\n",
       "      <td>Лови билет!</td>\n",
       "      <td>2</td>\n",
       "      <td>212.28</td>\n",
       "      <td>NaN</td>\n",
       "      <td>8.49</td>\n",
       "      <td>4.245000</td>\n",
       "      <td>Июль</td>\n",
       "      <td>Лето</td>\n",
       "    </tr>\n",
       "    <tr>\n",
       "      <th>4</th>\n",
       "      <td>972400</td>\n",
       "      <td>000898990054619</td>\n",
       "      <td>2024-10-04</td>\n",
       "      <td>2024-10-04 22:33:15</td>\n",
       "      <td>509453</td>\n",
       "      <td>нет</td>\n",
       "      <td>18</td>\n",
       "      <td>rub</td>\n",
       "      <td>mobile</td>\n",
       "      <td>1390.41</td>\n",
       "      <td>Билеты без проблем</td>\n",
       "      <td>3</td>\n",
       "      <td>10695.43</td>\n",
       "      <td>83.0</td>\n",
       "      <td>1390.41</td>\n",
       "      <td>463.470000</td>\n",
       "      <td>Октябрь</td>\n",
       "      <td>Осень</td>\n",
       "    </tr>\n",
       "    <tr>\n",
       "      <th>...</th>\n",
       "      <td>...</td>\n",
       "      <td>...</td>\n",
       "      <td>...</td>\n",
       "      <td>...</td>\n",
       "      <td>...</td>\n",
       "      <td>...</td>\n",
       "      <td>...</td>\n",
       "      <td>...</td>\n",
       "      <td>...</td>\n",
       "      <td>...</td>\n",
       "      <td>...</td>\n",
       "      <td>...</td>\n",
       "      <td>...</td>\n",
       "      <td>...</td>\n",
       "      <td>...</td>\n",
       "      <td>...</td>\n",
       "      <td>...</td>\n",
       "      <td>...</td>\n",
       "    </tr>\n",
       "    <tr>\n",
       "      <th>290844</th>\n",
       "      <td>368620</td>\n",
       "      <td>fffcd3dde79eb2c</td>\n",
       "      <td>2024-10-27</td>\n",
       "      <td>2024-10-27 18:00:57</td>\n",
       "      <td>33189</td>\n",
       "      <td>нет</td>\n",
       "      <td>6</td>\n",
       "      <td>rub</td>\n",
       "      <td>mobile</td>\n",
       "      <td>965.57</td>\n",
       "      <td>Весь в билетах</td>\n",
       "      <td>4</td>\n",
       "      <td>9655.73</td>\n",
       "      <td>0.0</td>\n",
       "      <td>965.57</td>\n",
       "      <td>241.392500</td>\n",
       "      <td>Октябрь</td>\n",
       "      <td>Осень</td>\n",
       "    </tr>\n",
       "    <tr>\n",
       "      <th>290845</th>\n",
       "      <td>368562</td>\n",
       "      <td>fffcd3dde79eb2c</td>\n",
       "      <td>2024-10-27</td>\n",
       "      <td>2024-10-27 17:53:53</td>\n",
       "      <td>33189</td>\n",
       "      <td>нет</td>\n",
       "      <td>6</td>\n",
       "      <td>rub</td>\n",
       "      <td>mobile</td>\n",
       "      <td>1448.36</td>\n",
       "      <td>Весь в билетах</td>\n",
       "      <td>6</td>\n",
       "      <td>14483.60</td>\n",
       "      <td>0.0</td>\n",
       "      <td>1448.36</td>\n",
       "      <td>241.393333</td>\n",
       "      <td>Октябрь</td>\n",
       "      <td>Осень</td>\n",
       "    </tr>\n",
       "    <tr>\n",
       "      <th>290846</th>\n",
       "      <td>8473772</td>\n",
       "      <td>fffcd3dde79eb2c</td>\n",
       "      <td>2024-10-30</td>\n",
       "      <td>2024-10-30 13:37:43</td>\n",
       "      <td>205231</td>\n",
       "      <td>нет</td>\n",
       "      <td>16</td>\n",
       "      <td>rub</td>\n",
       "      <td>desktop</td>\n",
       "      <td>178.95</td>\n",
       "      <td>Прачечная</td>\n",
       "      <td>2</td>\n",
       "      <td>4473.74</td>\n",
       "      <td>3.0</td>\n",
       "      <td>178.95</td>\n",
       "      <td>89.475000</td>\n",
       "      <td>Октябрь</td>\n",
       "      <td>Осень</td>\n",
       "    </tr>\n",
       "    <tr>\n",
       "      <th>290847</th>\n",
       "      <td>5526067</td>\n",
       "      <td>fffeeb3c120cf0b</td>\n",
       "      <td>2024-09-24</td>\n",
       "      <td>2024-09-24 10:07:42</td>\n",
       "      <td>454526</td>\n",
       "      <td>нет</td>\n",
       "      <td>18</td>\n",
       "      <td>rub</td>\n",
       "      <td>desktop</td>\n",
       "      <td>661.53</td>\n",
       "      <td>Билеты без проблем</td>\n",
       "      <td>2</td>\n",
       "      <td>6615.34</td>\n",
       "      <td>NaN</td>\n",
       "      <td>661.53</td>\n",
       "      <td>330.765000</td>\n",
       "      <td>Сентябрь</td>\n",
       "      <td>Осень</td>\n",
       "    </tr>\n",
       "    <tr>\n",
       "      <th>290848</th>\n",
       "      <td>813654</td>\n",
       "      <td>ffff00725179321</td>\n",
       "      <td>2024-09-25</td>\n",
       "      <td>2024-09-25 15:12:40</td>\n",
       "      <td>284965</td>\n",
       "      <td>нет</td>\n",
       "      <td>16</td>\n",
       "      <td>rub</td>\n",
       "      <td>mobile</td>\n",
       "      <td>802.25</td>\n",
       "      <td>Мой билет</td>\n",
       "      <td>2</td>\n",
       "      <td>8913.92</td>\n",
       "      <td>NaN</td>\n",
       "      <td>802.25</td>\n",
       "      <td>401.125000</td>\n",
       "      <td>Сентябрь</td>\n",
       "      <td>Осень</td>\n",
       "    </tr>\n",
       "  </tbody>\n",
       "</table>\n",
       "<p>290503 rows × 18 columns</p>\n",
       "</div>"
      ],
      "text/plain": [
       "        order_id          user_id created_dt_msk      created_ts_msk  \\\n",
       "0        4359165  0002849b70a3ce2     2024-08-20 2024-08-20 16:08:03   \n",
       "1        7965605  0005ca5e93f2cf4     2024-07-23 2024-07-23 18:36:24   \n",
       "2        7292370  0005ca5e93f2cf4     2024-10-06 2024-10-06 13:56:02   \n",
       "3        1139875  000898990054619     2024-07-13 2024-07-13 19:40:48   \n",
       "4         972400  000898990054619     2024-10-04 2024-10-04 22:33:15   \n",
       "...          ...              ...            ...                 ...   \n",
       "290844    368620  fffcd3dde79eb2c     2024-10-27 2024-10-27 18:00:57   \n",
       "290845    368562  fffcd3dde79eb2c     2024-10-27 2024-10-27 17:53:53   \n",
       "290846   8473772  fffcd3dde79eb2c     2024-10-30 2024-10-30 13:37:43   \n",
       "290847   5526067  fffeeb3c120cf0b     2024-09-24 2024-09-24 10:07:42   \n",
       "290848    813654  ffff00725179321     2024-09-25 2024-09-25 15:12:40   \n",
       "\n",
       "        event_id cinema_circuit  age_limit currency_code  \\\n",
       "0         169230            нет         16           rub   \n",
       "1         237325            нет          0           rub   \n",
       "2         578454            нет          0           rub   \n",
       "3         387271            нет          0           rub   \n",
       "4         509453            нет         18           rub   \n",
       "...          ...            ...        ...           ...   \n",
       "290844     33189            нет          6           rub   \n",
       "290845     33189            нет          6           rub   \n",
       "290846    205231            нет         16           rub   \n",
       "290847    454526            нет         18           rub   \n",
       "290848    284965            нет         16           rub   \n",
       "\n",
       "       device_type_canonical  revenue        service_name  tickets_count  \\\n",
       "0                     mobile  1521.94        Край билетов              4   \n",
       "1                     mobile   289.45           Мой билет              2   \n",
       "2                     mobile  1258.57         За билетом!              4   \n",
       "3                     mobile     8.49         Лови билет!              2   \n",
       "4                     mobile  1390.41  Билеты без проблем              3   \n",
       "...                      ...      ...                 ...            ...   \n",
       "290844                mobile   965.57      Весь в билетах              4   \n",
       "290845                mobile  1448.36      Весь в билетах              6   \n",
       "290846               desktop   178.95           Прачечная              2   \n",
       "290847               desktop   661.53  Билеты без проблем              2   \n",
       "290848                mobile   802.25           Мой билет              2   \n",
       "\n",
       "           total  days_since_prev  revenue_rub  one_tickets_revenue_rub  \\\n",
       "0       10870.99              NaN      1521.94               380.485000   \n",
       "1        2067.51              NaN       289.45               144.725000   \n",
       "2       13984.16             75.0      1258.57               314.642500   \n",
       "3         212.28              NaN         8.49                 4.245000   \n",
       "4       10695.43             83.0      1390.41               463.470000   \n",
       "...          ...              ...          ...                      ...   \n",
       "290844   9655.73              0.0       965.57               241.392500   \n",
       "290845  14483.60              0.0      1448.36               241.393333   \n",
       "290846   4473.74              3.0       178.95                89.475000   \n",
       "290847   6615.34              NaN       661.53               330.765000   \n",
       "290848   8913.92              NaN       802.25               401.125000   \n",
       "\n",
       "           month season  \n",
       "0         Август   Лето  \n",
       "1           Июль   Лето  \n",
       "2        Октябрь  Осень  \n",
       "3           Июль   Лето  \n",
       "4        Октябрь  Осень  \n",
       "...          ...    ...  \n",
       "290844   Октябрь  Осень  \n",
       "290845   Октябрь  Осень  \n",
       "290846   Октябрь  Осень  \n",
       "290847  Сентябрь  Осень  \n",
       "290848  Сентябрь  Осень  \n",
       "\n",
       "[290503 rows x 18 columns]"
      ]
     },
     "metadata": {},
     "output_type": "display_data"
    }
   ],
   "source": [
    "fto_df_plus_wf = fto_df_plus[(fto_df_plus['revenue_rub'] < fto_df_plus['revenue_rub'].quantile(0.99)) |\n",
    "                             (fto_df_plus['tickets_count'] < fto_df_plus['tickets_count'].quantile(0.99))]\n",
    "display(fto_df_plus_wf)"
   ]
  },
  {
   "cell_type": "markdown",
   "metadata": {},
   "source": [
    "На этом этапе предобработка данных завершена."
   ]
  },
  {
   "cell_type": "code",
   "execution_count": 41,
   "metadata": {},
   "outputs": [
    {
     "data": {
      "text/plain": [
       "'Было отсеяно:'"
      ]
     },
     "metadata": {},
     "output_type": "display_data"
    },
    {
     "data": {
      "text/plain": [
       "346"
      ]
     },
     "metadata": {},
     "output_type": "display_data"
    },
    {
     "data": {
      "text/plain": [
       "'Осталось:'"
      ]
     },
     "metadata": {},
     "output_type": "display_data"
    },
    {
     "data": {
      "text/plain": [
       "290503"
      ]
     },
     "metadata": {},
     "output_type": "display_data"
    }
   ],
   "source": [
    "display('Было отсеяно:', lens - fto_df_plus_wf.shape[0])\n",
    "display('Осталось:', fto_df_plus_wf.shape[0])"
   ]
  },
  {
   "cell_type": "markdown",
   "metadata": {},
   "source": [
    "### Промежуточный вывод по разделу:\n",
    "\n",
    "В ходе раздела было реализована преодбработка данных.  \n",
    "Были выполнены слеудющие шаги:\n",
    "- Изучены категориальные значения, проверены на отсуствие повторов в виду опечаток а также наличие значений, которые могут означать пропуск  или отсутствие данных;\n",
    "- Изучены основные количественные значения по полям выручки и количество купленных билетов, найдены выбросы в данных;\n",
    "- Найдены и удалены неявные дубликаты;\n",
    "- Выполнено преобразование типов данных на более оптимальные и подходящие для дальнейшей работы;\n",
    "- Добавлены новые поля, в которых хранится информация и выручке в рублях, месяце и сезоне оформления заказа, а также о полученной выручки за покупку одного билета.\n",
    "- Удалены выбросы в записях по полям выручка в рублях и количество приобритенных билетов.\n",
    "\n",
    "В итоге после предобработки данных и удаления дубликатов и выбросов осталось 290459 записей, было удалено 390 записей. Количество удаленно записей составляет менее 1%, а объема данных достаточно для проведения исследовательского анализа и оценке гипотез.\n"
   ]
  },
  {
   "cell_type": "markdown",
   "metadata": {},
   "source": [
    "<a class=\"anchor\" id=\"4_charter\"></a> \n",
    "## Исследовательский анализ данных"
   ]
  },
  {
   "cell_type": "markdown",
   "metadata": {},
   "source": [
    "### Анализ распределения заказов по сегментам и их сезонные изменения"
   ]
  },
  {
   "cell_type": "code",
   "execution_count": 42,
   "metadata": {},
   "outputs": [
    {
     "data": {
      "text/plain": [
       "month\n",
       "Октябрь     100103\n",
       "Сентябрь     69881\n",
       "Август       45000\n",
       "Июль         40883\n",
       "Июнь         34636\n",
       "Name: order_id, dtype: int64"
      ]
     },
     "execution_count": 42,
     "metadata": {},
     "output_type": "execute_result"
    }
   ],
   "source": [
    "# Найдем количество заказов по месяцам\n",
    "fto_df_plus_wf.groupby('month')['order_id'].count().sort_values(ascending = False)"
   ]
  },
  {
   "cell_type": "markdown",
   "metadata": {},
   "source": [
    "Из данных заметно, что в лентние месяцы количество заказов постепенно увеличивается, при этом в осеннии месяцы увелчение происходит более резко. Особенно это заметно в октябре, где количество заказов больше всего.  \n",
    "Рассмотрим как менялось количество заказов по месяцам и по другим категориям."
   ]
  },
  {
   "cell_type": "code",
   "execution_count": 43,
   "metadata": {},
   "outputs": [
    {
     "data": {
      "text/html": [
       "<div>\n",
       "<style scoped>\n",
       "    .dataframe tbody tr th:only-of-type {\n",
       "        vertical-align: middle;\n",
       "    }\n",
       "\n",
       "    .dataframe tbody tr th {\n",
       "        vertical-align: top;\n",
       "    }\n",
       "\n",
       "    .dataframe thead th {\n",
       "        text-align: right;\n",
       "    }\n",
       "</style>\n",
       "<table border=\"1\" class=\"dataframe\">\n",
       "  <thead>\n",
       "    <tr style=\"text-align: right;\">\n",
       "      <th></th>\n",
       "      <th>order_id</th>\n",
       "      <th>user_id</th>\n",
       "      <th>created_dt_msk</th>\n",
       "      <th>created_ts_msk</th>\n",
       "      <th>event_id</th>\n",
       "      <th>cinema_circuit</th>\n",
       "      <th>age_limit</th>\n",
       "      <th>currency_code</th>\n",
       "      <th>device_type_canonical</th>\n",
       "      <th>revenue</th>\n",
       "      <th>...</th>\n",
       "      <th>event_name</th>\n",
       "      <th>event_type_description</th>\n",
       "      <th>event_type_main</th>\n",
       "      <th>organizers</th>\n",
       "      <th>region_name</th>\n",
       "      <th>city_name</th>\n",
       "      <th>city_id</th>\n",
       "      <th>venue_id</th>\n",
       "      <th>venue_name</th>\n",
       "      <th>venue_address</th>\n",
       "    </tr>\n",
       "  </thead>\n",
       "  <tbody>\n",
       "    <tr>\n",
       "      <th>0</th>\n",
       "      <td>4359165</td>\n",
       "      <td>0002849b70a3ce2</td>\n",
       "      <td>2024-08-20</td>\n",
       "      <td>2024-08-20 16:08:03</td>\n",
       "      <td>169230</td>\n",
       "      <td>нет</td>\n",
       "      <td>16</td>\n",
       "      <td>rub</td>\n",
       "      <td>mobile</td>\n",
       "      <td>1521.94</td>\n",
       "      <td>...</td>\n",
       "      <td>f0f7b271-04eb-4af6-bcb8-8f05cf46d6ad</td>\n",
       "      <td>спектакль</td>\n",
       "      <td>театр</td>\n",
       "      <td>№3322</td>\n",
       "      <td>Каменевский регион</td>\n",
       "      <td>Глиногорск</td>\n",
       "      <td>213</td>\n",
       "      <td>3972</td>\n",
       "      <td>Сценический центр \"Деталь\" Групп</td>\n",
       "      <td>алл. Машиностроителей, д. 19 стр. 6</td>\n",
       "    </tr>\n",
       "    <tr>\n",
       "      <th>1</th>\n",
       "      <td>7431164</td>\n",
       "      <td>024dc5236465850</td>\n",
       "      <td>2024-07-23</td>\n",
       "      <td>2024-07-23 20:52:02</td>\n",
       "      <td>169230</td>\n",
       "      <td>нет</td>\n",
       "      <td>16</td>\n",
       "      <td>rub</td>\n",
       "      <td>mobile</td>\n",
       "      <td>1902.42</td>\n",
       "      <td>...</td>\n",
       "      <td>f0f7b271-04eb-4af6-bcb8-8f05cf46d6ad</td>\n",
       "      <td>спектакль</td>\n",
       "      <td>театр</td>\n",
       "      <td>№3322</td>\n",
       "      <td>Каменевский регион</td>\n",
       "      <td>Глиногорск</td>\n",
       "      <td>213</td>\n",
       "      <td>3972</td>\n",
       "      <td>Сценический центр \"Деталь\" Групп</td>\n",
       "      <td>алл. Машиностроителей, д. 19 стр. 6</td>\n",
       "    </tr>\n",
       "    <tr>\n",
       "      <th>2</th>\n",
       "      <td>7431106</td>\n",
       "      <td>024dc5236465850</td>\n",
       "      <td>2024-07-23</td>\n",
       "      <td>2024-07-23 20:54:19</td>\n",
       "      <td>169230</td>\n",
       "      <td>нет</td>\n",
       "      <td>16</td>\n",
       "      <td>rub</td>\n",
       "      <td>mobile</td>\n",
       "      <td>1141.45</td>\n",
       "      <td>...</td>\n",
       "      <td>f0f7b271-04eb-4af6-bcb8-8f05cf46d6ad</td>\n",
       "      <td>спектакль</td>\n",
       "      <td>театр</td>\n",
       "      <td>№3322</td>\n",
       "      <td>Каменевский регион</td>\n",
       "      <td>Глиногорск</td>\n",
       "      <td>213</td>\n",
       "      <td>3972</td>\n",
       "      <td>Сценический центр \"Деталь\" Групп</td>\n",
       "      <td>алл. Машиностроителей, д. 19 стр. 6</td>\n",
       "    </tr>\n",
       "    <tr>\n",
       "      <th>3</th>\n",
       "      <td>7431135</td>\n",
       "      <td>024dc5236465850</td>\n",
       "      <td>2024-07-23</td>\n",
       "      <td>2024-07-23 20:59:44</td>\n",
       "      <td>169230</td>\n",
       "      <td>нет</td>\n",
       "      <td>16</td>\n",
       "      <td>rub</td>\n",
       "      <td>mobile</td>\n",
       "      <td>1902.42</td>\n",
       "      <td>...</td>\n",
       "      <td>f0f7b271-04eb-4af6-bcb8-8f05cf46d6ad</td>\n",
       "      <td>спектакль</td>\n",
       "      <td>театр</td>\n",
       "      <td>№3322</td>\n",
       "      <td>Каменевский регион</td>\n",
       "      <td>Глиногорск</td>\n",
       "      <td>213</td>\n",
       "      <td>3972</td>\n",
       "      <td>Сценический центр \"Деталь\" Групп</td>\n",
       "      <td>алл. Машиностроителей, д. 19 стр. 6</td>\n",
       "    </tr>\n",
       "    <tr>\n",
       "      <th>4</th>\n",
       "      <td>7431048</td>\n",
       "      <td>024dc5236465850</td>\n",
       "      <td>2024-07-23</td>\n",
       "      <td>2024-07-23 21:02:08</td>\n",
       "      <td>169230</td>\n",
       "      <td>нет</td>\n",
       "      <td>16</td>\n",
       "      <td>rub</td>\n",
       "      <td>mobile</td>\n",
       "      <td>1521.94</td>\n",
       "      <td>...</td>\n",
       "      <td>f0f7b271-04eb-4af6-bcb8-8f05cf46d6ad</td>\n",
       "      <td>спектакль</td>\n",
       "      <td>театр</td>\n",
       "      <td>№3322</td>\n",
       "      <td>Каменевский регион</td>\n",
       "      <td>Глиногорск</td>\n",
       "      <td>213</td>\n",
       "      <td>3972</td>\n",
       "      <td>Сценический центр \"Деталь\" Групп</td>\n",
       "      <td>алл. Машиностроителей, д. 19 стр. 6</td>\n",
       "    </tr>\n",
       "    <tr>\n",
       "      <th>...</th>\n",
       "      <td>...</td>\n",
       "      <td>...</td>\n",
       "      <td>...</td>\n",
       "      <td>...</td>\n",
       "      <td>...</td>\n",
       "      <td>...</td>\n",
       "      <td>...</td>\n",
       "      <td>...</td>\n",
       "      <td>...</td>\n",
       "      <td>...</td>\n",
       "      <td>...</td>\n",
       "      <td>...</td>\n",
       "      <td>...</td>\n",
       "      <td>...</td>\n",
       "      <td>...</td>\n",
       "      <td>...</td>\n",
       "      <td>...</td>\n",
       "      <td>...</td>\n",
       "      <td>...</td>\n",
       "      <td>...</td>\n",
       "      <td>...</td>\n",
       "    </tr>\n",
       "    <tr>\n",
       "      <th>290260</th>\n",
       "      <td>7375078</td>\n",
       "      <td>ff684621b134cc4</td>\n",
       "      <td>2024-10-06</td>\n",
       "      <td>2024-10-06 12:32:09</td>\n",
       "      <td>12820</td>\n",
       "      <td>нет</td>\n",
       "      <td>18</td>\n",
       "      <td>rub</td>\n",
       "      <td>desktop</td>\n",
       "      <td>279.82</td>\n",
       "      <td>...</td>\n",
       "      <td>a59dafa6-f5a0-4c98-a460-5f6bb27218df</td>\n",
       "      <td>спектакль</td>\n",
       "      <td>театр</td>\n",
       "      <td>№1871</td>\n",
       "      <td>Каменевский регион</td>\n",
       "      <td>Глиногорск</td>\n",
       "      <td>213</td>\n",
       "      <td>4574</td>\n",
       "      <td>Архив \"Туман\" Лимитед</td>\n",
       "      <td>ш. Водопроводное, д. 87 стр. 572</td>\n",
       "    </tr>\n",
       "    <tr>\n",
       "      <th>290261</th>\n",
       "      <td>343390</td>\n",
       "      <td>ff684621b134cc4</td>\n",
       "      <td>2024-10-31</td>\n",
       "      <td>2024-10-31 12:27:42</td>\n",
       "      <td>357588</td>\n",
       "      <td>нет</td>\n",
       "      <td>6</td>\n",
       "      <td>rub</td>\n",
       "      <td>mobile</td>\n",
       "      <td>427.06</td>\n",
       "      <td>...</td>\n",
       "      <td>f56f3d67-4673-4fb3-b202-3f2bfd39fcf6</td>\n",
       "      <td>мюзикл</td>\n",
       "      <td>театр</td>\n",
       "      <td>№1469</td>\n",
       "      <td>Североярская область</td>\n",
       "      <td>Озёрск</td>\n",
       "      <td>2</td>\n",
       "      <td>2303</td>\n",
       "      <td>Санкт-Петербургский дом культуры \"Сказка\" Лтд</td>\n",
       "      <td>алл. Макарова, д. 5/2</td>\n",
       "    </tr>\n",
       "    <tr>\n",
       "      <th>290262</th>\n",
       "      <td>7378935</td>\n",
       "      <td>ff6bf53a0207b52</td>\n",
       "      <td>2024-10-02</td>\n",
       "      <td>2024-10-02 20:58:31</td>\n",
       "      <td>300765</td>\n",
       "      <td>нет</td>\n",
       "      <td>6</td>\n",
       "      <td>rub</td>\n",
       "      <td>mobile</td>\n",
       "      <td>224.88</td>\n",
       "      <td>...</td>\n",
       "      <td>cf71bf2b-8e5c-47e0-a0f3-c2d4910c4677</td>\n",
       "      <td>спектакль</td>\n",
       "      <td>театр</td>\n",
       "      <td>№4915</td>\n",
       "      <td>Североярская область</td>\n",
       "      <td>Озёрск</td>\n",
       "      <td>2</td>\n",
       "      <td>3850</td>\n",
       "      <td>Творческое объединение \"Ветер\" Инкорпорэйтед</td>\n",
       "      <td>пр. Тупиковый, д. 9 стр. 8</td>\n",
       "    </tr>\n",
       "    <tr>\n",
       "      <th>290263</th>\n",
       "      <td>195084</td>\n",
       "      <td>ffdadadd5de9c4b</td>\n",
       "      <td>2024-07-22</td>\n",
       "      <td>2024-07-22 13:44:54</td>\n",
       "      <td>540339</td>\n",
       "      <td>нет</td>\n",
       "      <td>6</td>\n",
       "      <td>rub</td>\n",
       "      <td>desktop</td>\n",
       "      <td>92.18</td>\n",
       "      <td>...</td>\n",
       "      <td>f17a01b7-3cd3-4cd1-919c-3459bd074886</td>\n",
       "      <td>концерт</td>\n",
       "      <td>концерты</td>\n",
       "      <td>№1742</td>\n",
       "      <td>Светополянский округ</td>\n",
       "      <td>Глиноград</td>\n",
       "      <td>54</td>\n",
       "      <td>3692</td>\n",
       "      <td>Цирк \"Зависть\" Групп</td>\n",
       "      <td>ул. Красина, д. 64 стр. 5/7</td>\n",
       "    </tr>\n",
       "    <tr>\n",
       "      <th>290264</th>\n",
       "      <td>2938020</td>\n",
       "      <td>ffdfac9273f943b</td>\n",
       "      <td>2024-10-22</td>\n",
       "      <td>2024-10-22 09:30:54</td>\n",
       "      <td>568852</td>\n",
       "      <td>нет</td>\n",
       "      <td>0</td>\n",
       "      <td>rub</td>\n",
       "      <td>mobile</td>\n",
       "      <td>1696.56</td>\n",
       "      <td>...</td>\n",
       "      <td>0fd6df8e-49e5-4337-954d-5a4606b1b899</td>\n",
       "      <td>концерт</td>\n",
       "      <td>концерты</td>\n",
       "      <td>№2689</td>\n",
       "      <td>Североярская область</td>\n",
       "      <td>Озёрск</td>\n",
       "      <td>2</td>\n",
       "      <td>4102</td>\n",
       "      <td>Школа музыки \"Парадигма\" Лтд</td>\n",
       "      <td>пр. Сплавный, д. 236 к. 918</td>\n",
       "    </tr>\n",
       "  </tbody>\n",
       "</table>\n",
       "<p>290265 rows × 28 columns</p>\n",
       "</div>"
      ],
      "text/plain": [
       "        order_id          user_id created_dt_msk      created_ts_msk  \\\n",
       "0        4359165  0002849b70a3ce2     2024-08-20 2024-08-20 16:08:03   \n",
       "1        7431164  024dc5236465850     2024-07-23 2024-07-23 20:52:02   \n",
       "2        7431106  024dc5236465850     2024-07-23 2024-07-23 20:54:19   \n",
       "3        7431135  024dc5236465850     2024-07-23 2024-07-23 20:59:44   \n",
       "4        7431048  024dc5236465850     2024-07-23 2024-07-23 21:02:08   \n",
       "...          ...              ...            ...                 ...   \n",
       "290260   7375078  ff684621b134cc4     2024-10-06 2024-10-06 12:32:09   \n",
       "290261    343390  ff684621b134cc4     2024-10-31 2024-10-31 12:27:42   \n",
       "290262   7378935  ff6bf53a0207b52     2024-10-02 2024-10-02 20:58:31   \n",
       "290263    195084  ffdadadd5de9c4b     2024-07-22 2024-07-22 13:44:54   \n",
       "290264   2938020  ffdfac9273f943b     2024-10-22 2024-10-22 09:30:54   \n",
       "\n",
       "        event_id cinema_circuit  age_limit currency_code  \\\n",
       "0         169230            нет         16           rub   \n",
       "1         169230            нет         16           rub   \n",
       "2         169230            нет         16           rub   \n",
       "3         169230            нет         16           rub   \n",
       "4         169230            нет         16           rub   \n",
       "...          ...            ...        ...           ...   \n",
       "290260     12820            нет         18           rub   \n",
       "290261    357588            нет          6           rub   \n",
       "290262    300765            нет          6           rub   \n",
       "290263    540339            нет          6           rub   \n",
       "290264    568852            нет          0           rub   \n",
       "\n",
       "       device_type_canonical  revenue  ...  \\\n",
       "0                     mobile  1521.94  ...   \n",
       "1                     mobile  1902.42  ...   \n",
       "2                     mobile  1141.45  ...   \n",
       "3                     mobile  1902.42  ...   \n",
       "4                     mobile  1521.94  ...   \n",
       "...                      ...      ...  ...   \n",
       "290260               desktop   279.82  ...   \n",
       "290261                mobile   427.06  ...   \n",
       "290262                mobile   224.88  ...   \n",
       "290263               desktop    92.18  ...   \n",
       "290264                mobile  1696.56  ...   \n",
       "\n",
       "                                  event_name  event_type_description  \\\n",
       "0       f0f7b271-04eb-4af6-bcb8-8f05cf46d6ad               спектакль   \n",
       "1       f0f7b271-04eb-4af6-bcb8-8f05cf46d6ad               спектакль   \n",
       "2       f0f7b271-04eb-4af6-bcb8-8f05cf46d6ad               спектакль   \n",
       "3       f0f7b271-04eb-4af6-bcb8-8f05cf46d6ad               спектакль   \n",
       "4       f0f7b271-04eb-4af6-bcb8-8f05cf46d6ad               спектакль   \n",
       "...                                      ...                     ...   \n",
       "290260  a59dafa6-f5a0-4c98-a460-5f6bb27218df               спектакль   \n",
       "290261  f56f3d67-4673-4fb3-b202-3f2bfd39fcf6                  мюзикл   \n",
       "290262  cf71bf2b-8e5c-47e0-a0f3-c2d4910c4677               спектакль   \n",
       "290263  f17a01b7-3cd3-4cd1-919c-3459bd074886                 концерт   \n",
       "290264  0fd6df8e-49e5-4337-954d-5a4606b1b899                 концерт   \n",
       "\n",
       "        event_type_main  organizers           region_name   city_name city_id  \\\n",
       "0                 театр       №3322    Каменевский регион  Глиногорск     213   \n",
       "1                 театр       №3322    Каменевский регион  Глиногорск     213   \n",
       "2                 театр       №3322    Каменевский регион  Глиногорск     213   \n",
       "3                 театр       №3322    Каменевский регион  Глиногорск     213   \n",
       "4                 театр       №3322    Каменевский регион  Глиногорск     213   \n",
       "...                 ...         ...                   ...         ...     ...   \n",
       "290260            театр       №1871    Каменевский регион  Глиногорск     213   \n",
       "290261            театр       №1469  Североярская область      Озёрск       2   \n",
       "290262            театр       №4915  Североярская область      Озёрск       2   \n",
       "290263         концерты       №1742  Светополянский округ   Глиноград      54   \n",
       "290264         концерты       №2689  Североярская область      Озёрск       2   \n",
       "\n",
       "       venue_id                                     venue_name  \\\n",
       "0          3972               Сценический центр \"Деталь\" Групп   \n",
       "1          3972               Сценический центр \"Деталь\" Групп   \n",
       "2          3972               Сценический центр \"Деталь\" Групп   \n",
       "3          3972               Сценический центр \"Деталь\" Групп   \n",
       "4          3972               Сценический центр \"Деталь\" Групп   \n",
       "...         ...                                            ...   \n",
       "290260     4574                          Архив \"Туман\" Лимитед   \n",
       "290261     2303  Санкт-Петербургский дом культуры \"Сказка\" Лтд   \n",
       "290262     3850   Творческое объединение \"Ветер\" Инкорпорэйтед   \n",
       "290263     3692                           Цирк \"Зависть\" Групп   \n",
       "290264     4102                   Школа музыки \"Парадигма\" Лтд   \n",
       "\n",
       "                              venue_address  \n",
       "0       алл. Машиностроителей, д. 19 стр. 6  \n",
       "1       алл. Машиностроителей, д. 19 стр. 6  \n",
       "2       алл. Машиностроителей, д. 19 стр. 6  \n",
       "3       алл. Машиностроителей, д. 19 стр. 6  \n",
       "4       алл. Машиностроителей, д. 19 стр. 6  \n",
       "...                                     ...  \n",
       "290260     ш. Водопроводное, д. 87 стр. 572  \n",
       "290261                алл. Макарова, д. 5/2  \n",
       "290262           пр. Тупиковый, д. 9 стр. 8  \n",
       "290263          ул. Красина, д. 64 стр. 5/7  \n",
       "290264          пр. Сплавный, д. 236 к. 918  \n",
       "\n",
       "[290265 rows x 28 columns]"
      ]
     },
     "execution_count": 43,
     "metadata": {},
     "output_type": "execute_result"
    }
   ],
   "source": [
    "# Для начала объеденим данные двух датафреймов\n",
    "all_df = fto_df_plus_wf.merge(fte_df, on = 'event_id')\n",
    "all_df"
   ]
  },
  {
   "cell_type": "markdown",
   "metadata": {},
   "source": [
    "После объединения данных осталось 290221 запись (было 290459) это говорит о том, что есть ряд заказов, у которых нет информации о мероприятии. Также как и в прошлый раз, такие данные стоит удалить, поскольку их немного и ими можно принеберсь (приблизитель 0,1%)."
   ]
  },
  {
   "cell_type": "code",
   "execution_count": 44,
   "metadata": {
    "scrolled": true
   },
   "outputs": [
    {
     "data": {
      "text/plain": [
       "season  event_type_main\n",
       "Лето    выставки            2417\n",
       "        другое             32567\n",
       "        концерты           51451\n",
       "        спорт               3013\n",
       "        стендап             6392\n",
       "        театр              24188\n",
       "        ёлки                 275\n",
       "Осень   выставки            2437\n",
       "        другое             33280\n",
       "        концерты           63597\n",
       "        спорт              18898\n",
       "        стендап             6982\n",
       "        театр              43061\n",
       "        ёлки                1707\n",
       "Name: order_id, dtype: int64"
      ]
     },
     "execution_count": 44,
     "metadata": {},
     "output_type": "execute_result"
    }
   ],
   "source": [
    "all_df.groupby(['season', 'event_type_main'])['order_id'].count()"
   ]
  },
  {
   "cell_type": "code",
   "execution_count": 45,
   "metadata": {},
   "outputs": [
    {
     "data": {
      "text/html": [
       "<div>\n",
       "<style scoped>\n",
       "    .dataframe tbody tr th:only-of-type {\n",
       "        vertical-align: middle;\n",
       "    }\n",
       "\n",
       "    .dataframe tbody tr th {\n",
       "        vertical-align: top;\n",
       "    }\n",
       "\n",
       "    .dataframe thead th {\n",
       "        text-align: right;\n",
       "    }\n",
       "</style>\n",
       "<table border=\"1\" class=\"dataframe\">\n",
       "  <thead>\n",
       "    <tr style=\"text-align: right;\">\n",
       "      <th>season</th>\n",
       "      <th>Лето</th>\n",
       "      <th>Осень</th>\n",
       "    </tr>\n",
       "    <tr>\n",
       "      <th>event_type_main</th>\n",
       "      <th></th>\n",
       "      <th></th>\n",
       "    </tr>\n",
       "  </thead>\n",
       "  <tbody>\n",
       "    <tr>\n",
       "      <th>выставки</th>\n",
       "      <td>2417</td>\n",
       "      <td>2437</td>\n",
       "    </tr>\n",
       "    <tr>\n",
       "      <th>другое</th>\n",
       "      <td>32567</td>\n",
       "      <td>33280</td>\n",
       "    </tr>\n",
       "    <tr>\n",
       "      <th>концерты</th>\n",
       "      <td>51451</td>\n",
       "      <td>63597</td>\n",
       "    </tr>\n",
       "    <tr>\n",
       "      <th>спорт</th>\n",
       "      <td>3013</td>\n",
       "      <td>18898</td>\n",
       "    </tr>\n",
       "    <tr>\n",
       "      <th>стендап</th>\n",
       "      <td>6392</td>\n",
       "      <td>6982</td>\n",
       "    </tr>\n",
       "    <tr>\n",
       "      <th>театр</th>\n",
       "      <td>24188</td>\n",
       "      <td>43061</td>\n",
       "    </tr>\n",
       "    <tr>\n",
       "      <th>ёлки</th>\n",
       "      <td>275</td>\n",
       "      <td>1707</td>\n",
       "    </tr>\n",
       "  </tbody>\n",
       "</table>\n",
       "</div>"
      ],
      "text/plain": [
       "season            Лето  Осень\n",
       "event_type_main              \n",
       "выставки          2417   2437\n",
       "другое           32567  33280\n",
       "концерты         51451  63597\n",
       "спорт             3013  18898\n",
       "стендап           6392   6982\n",
       "театр            24188  43061\n",
       "ёлки               275   1707"
      ]
     },
     "metadata": {},
     "output_type": "display_data"
    },
    {
     "data": {
      "text/plain": [
       "<Figure size 720x576 with 0 Axes>"
      ]
     },
     "metadata": {},
     "output_type": "display_data"
    },
    {
     "data": {
      "image/png": "[encoded data removed]",
      "text/plain": [
       "<Figure size 1080x504 with 1 Axes>"
      ]
     },
     "metadata": {
      "needs_background": "light"
     },
     "output_type": "display_data"
    }
   ],
   "source": [
    "plt.figure(figsize = (10,8))\n",
    "pivot_table = all_df.pivot_table(values = 'order_id', index = 'event_type_main', columns = 'season', aggfunc = 'count')\n",
    "display(pivot_table)\n",
    "pivot_table.plot(kind = 'bar', title = 'Распределение количество заказов по типам мероприятий', xlabel = 'Тип мероприятия',\n",
    "                ylabel = 'Количество заказов', rot = 45, figsize = (15,7))\n",
    "plt.grid(axis = 'y')\n",
    "plt.show()"
   ]
  },
  {
   "cell_type": "markdown",
   "metadata": {},
   "source": [
    "При рассмотрении распределения количества заказов по мероприятиям заметно, что осенью  по всем типам мероприятий юыло больше заказов чем летом. Однако, стоит также учитывать, что заказов осенью было больше, поэтому чтобы оценить тенденцию заказов по определенному типу мероприятия стоит посмотреть как распределеились заказы в долевом соотношении."
   ]
  },
  {
   "cell_type": "code",
   "execution_count": 46,
   "metadata": {},
   "outputs": [
    {
     "data": {
      "text/html": [
       "<div>\n",
       "<style scoped>\n",
       "    .dataframe tbody tr th:only-of-type {\n",
       "        vertical-align: middle;\n",
       "    }\n",
       "\n",
       "    .dataframe tbody tr th {\n",
       "        vertical-align: top;\n",
       "    }\n",
       "\n",
       "    .dataframe thead th {\n",
       "        text-align: right;\n",
       "    }\n",
       "</style>\n",
       "<table border=\"1\" class=\"dataframe\">\n",
       "  <thead>\n",
       "    <tr style=\"text-align: right;\">\n",
       "      <th>event_type_main</th>\n",
       "      <th>выставки</th>\n",
       "      <th>другое</th>\n",
       "      <th>концерты</th>\n",
       "      <th>спорт</th>\n",
       "      <th>стендап</th>\n",
       "      <th>театр</th>\n",
       "      <th>ёлки</th>\n",
       "      <th>All</th>\n",
       "    </tr>\n",
       "    <tr>\n",
       "      <th>season</th>\n",
       "      <th></th>\n",
       "      <th></th>\n",
       "      <th></th>\n",
       "      <th></th>\n",
       "      <th></th>\n",
       "      <th></th>\n",
       "      <th></th>\n",
       "      <th></th>\n",
       "    </tr>\n",
       "  </thead>\n",
       "  <tbody>\n",
       "    <tr>\n",
       "      <th>Лето</th>\n",
       "      <td>2417</td>\n",
       "      <td>32567</td>\n",
       "      <td>51451</td>\n",
       "      <td>3013</td>\n",
       "      <td>6392</td>\n",
       "      <td>24188</td>\n",
       "      <td>275</td>\n",
       "      <td>120303</td>\n",
       "    </tr>\n",
       "    <tr>\n",
       "      <th>Осень</th>\n",
       "      <td>2437</td>\n",
       "      <td>33280</td>\n",
       "      <td>63597</td>\n",
       "      <td>18898</td>\n",
       "      <td>6982</td>\n",
       "      <td>43061</td>\n",
       "      <td>1707</td>\n",
       "      <td>169962</td>\n",
       "    </tr>\n",
       "  </tbody>\n",
       "</table>\n",
       "</div>"
      ],
      "text/plain": [
       "event_type_main  выставки  другое  концерты  спорт  стендап  театр  ёлки  \\\n",
       "season                                                                     \n",
       "Лето                 2417   32567     51451   3013     6392  24188   275   \n",
       "Осень                2437   33280     63597  18898     6982  43061  1707   \n",
       "\n",
       "event_type_main     All  \n",
       "season                   \n",
       "Лето             120303  \n",
       "Осень            169962  "
      ]
     },
     "metadata": {},
     "output_type": "display_data"
    },
    {
     "data": {
      "image/png": "[encoded data removed]",
      "text/plain": [
       "<Figure size 1080x504 with 1 Axes>"
      ]
     },
     "metadata": {
      "needs_background": "light"
     },
     "output_type": "display_data"
    }
   ],
   "source": [
    "pivot_table = all_df.pivot_table(values = 'order_id', index = 'season', columns = 'event_type_main', aggfunc = 'count', margins = True)\n",
    "pivot_table.drop('All', inplace = True)\n",
    "display(pivot_table)\n",
    "for i in pivot_table.columns:\n",
    "    for j in pivot_table.index:\n",
    "        pivot_table[i][j] = round((pivot_table[i][j] / pivot_table['All'][j]) * 100,2)\n",
    "pivot_table.drop(columns = 'All', inplace = True)\n",
    "pivot_table.plot(kind = 'bar', figsize=(15,7), xlabel = 'Сезон', title = 'Распределение заказов по типу мероприятий', ylabel = 'Доля заказов', rot = 0)\n",
    "plt.legend(loc=\"upper left\", bbox_to_anchor=(1,1))\n",
    "plt.grid(axis = 'y')\n",
    "plt.show()"
   ]
  },
  {
   "cell_type": "markdown",
   "metadata": {},
   "source": [
    "Из графика видно, что летом при оформлении заказа самыми популярными были концерты, \"другое\" и театры. При этом осенью тенденция заказов немного изменилась. Концерты так же остались самыми популярными, однако пользователи стали чаще приобретать билеты в театр, также резко увеличился интерес к спортивным меропритиям и елкам. При росте количества заказов такие мероприятия как другие, выставки и стендапы не преобрели особого успеха в росте посетителей."
   ]
  },
  {
   "cell_type": "code",
   "execution_count": 47,
   "metadata": {},
   "outputs": [
    {
     "data": {
      "text/plain": [
       "season  device_type_canonical\n",
       "Лето    desktop                   23407\n",
       "        mobile                    96896\n",
       "Осень   desktop                   34638\n",
       "        mobile                   135324\n",
       "Name: order_id, dtype: int64"
      ]
     },
     "execution_count": 47,
     "metadata": {},
     "output_type": "execute_result"
    }
   ],
   "source": [
    "all_df.groupby(['season', 'device_type_canonical'])['order_id'].count()"
   ]
  },
  {
   "cell_type": "code",
   "execution_count": 48,
   "metadata": {},
   "outputs": [
    {
     "data": {
      "text/html": [
       "<div>\n",
       "<style scoped>\n",
       "    .dataframe tbody tr th:only-of-type {\n",
       "        vertical-align: middle;\n",
       "    }\n",
       "\n",
       "    .dataframe tbody tr th {\n",
       "        vertical-align: top;\n",
       "    }\n",
       "\n",
       "    .dataframe thead th {\n",
       "        text-align: right;\n",
       "    }\n",
       "</style>\n",
       "<table border=\"1\" class=\"dataframe\">\n",
       "  <thead>\n",
       "    <tr style=\"text-align: right;\">\n",
       "      <th>season</th>\n",
       "      <th>Лето</th>\n",
       "      <th>Осень</th>\n",
       "    </tr>\n",
       "    <tr>\n",
       "      <th>device_type_canonical</th>\n",
       "      <th></th>\n",
       "      <th></th>\n",
       "    </tr>\n",
       "  </thead>\n",
       "  <tbody>\n",
       "    <tr>\n",
       "      <th>desktop</th>\n",
       "      <td>23407</td>\n",
       "      <td>34638</td>\n",
       "    </tr>\n",
       "    <tr>\n",
       "      <th>mobile</th>\n",
       "      <td>96896</td>\n",
       "      <td>135324</td>\n",
       "    </tr>\n",
       "  </tbody>\n",
       "</table>\n",
       "</div>"
      ],
      "text/plain": [
       "season                  Лето   Осень\n",
       "device_type_canonical               \n",
       "desktop                23407   34638\n",
       "mobile                 96896  135324"
      ]
     },
     "metadata": {},
     "output_type": "display_data"
    },
    {
     "data": {
      "image/png": "[encoded data removed]",
      "text/plain": [
       "<Figure size 1080x504 with 1 Axes>"
      ]
     },
     "metadata": {
      "needs_background": "light"
     },
     "output_type": "display_data"
    }
   ],
   "source": [
    "pivot_table = all_df.pivot_table(values = 'order_id', index = 'device_type_canonical', columns = 'season', aggfunc = 'count')\n",
    "display(pivot_table)\n",
    "pivot_table.plot(kind = 'bar', title = 'Распределение количество заказов по типу устройств', xlabel = 'Тип устройства',\n",
    "                ylabel = 'Количество заказов', rot = 0, figsize=(15,7))\n",
    "plt.grid(axis = 'y')\n",
    "plt.show()"
   ]
  },
  {
   "cell_type": "code",
   "execution_count": 49,
   "metadata": {},
   "outputs": [
    {
     "data": {
      "text/html": [
       "<div>\n",
       "<style scoped>\n",
       "    .dataframe tbody tr th:only-of-type {\n",
       "        vertical-align: middle;\n",
       "    }\n",
       "\n",
       "    .dataframe tbody tr th {\n",
       "        vertical-align: top;\n",
       "    }\n",
       "\n",
       "    .dataframe thead th {\n",
       "        text-align: right;\n",
       "    }\n",
       "</style>\n",
       "<table border=\"1\" class=\"dataframe\">\n",
       "  <thead>\n",
       "    <tr style=\"text-align: right;\">\n",
       "      <th>device_type_canonical</th>\n",
       "      <th>desktop</th>\n",
       "      <th>mobile</th>\n",
       "      <th>All</th>\n",
       "    </tr>\n",
       "    <tr>\n",
       "      <th>season</th>\n",
       "      <th></th>\n",
       "      <th></th>\n",
       "      <th></th>\n",
       "    </tr>\n",
       "  </thead>\n",
       "  <tbody>\n",
       "    <tr>\n",
       "      <th>Лето</th>\n",
       "      <td>23407</td>\n",
       "      <td>96896</td>\n",
       "      <td>120303</td>\n",
       "    </tr>\n",
       "    <tr>\n",
       "      <th>Осень</th>\n",
       "      <td>34638</td>\n",
       "      <td>135324</td>\n",
       "      <td>169962</td>\n",
       "    </tr>\n",
       "  </tbody>\n",
       "</table>\n",
       "</div>"
      ],
      "text/plain": [
       "device_type_canonical  desktop  mobile     All\n",
       "season                                        \n",
       "Лето                     23407   96896  120303\n",
       "Осень                    34638  135324  169962"
      ]
     },
     "metadata": {},
     "output_type": "display_data"
    },
    {
     "data": {
      "image/png": "[encoded data removed]",
      "text/plain": [
       "<Figure size 1080x504 with 1 Axes>"
      ]
     },
     "metadata": {
      "needs_background": "light"
     },
     "output_type": "display_data"
    }
   ],
   "source": [
    "pivot_table = all_df.pivot_table(values = 'order_id', index = 'season', columns = 'device_type_canonical', aggfunc = 'count', margins = True)\n",
    "pivot_table.drop('All', inplace = True)\n",
    "display(pivot_table)\n",
    "for i in pivot_table.columns:\n",
    "    for j in pivot_table.index:\n",
    "        pivot_table[i][j] = round((pivot_table[i][j] / pivot_table['All'][j]) * 100,2)\n",
    "pivot_table.drop(columns = 'All', inplace = True)\n",
    "pivot_table.plot(kind = 'bar', figsize=(15,7), xlabel = 'Сезон', title = 'Распределение заказов по типу устройств', ylabel = 'Доля заказов', rot = 0)\n",
    "plt.legend(loc=\"upper left\", bbox_to_anchor=(1,1))\n",
    "plt.grid(axis = 'y')\n",
    "plt.show()"
   ]
  },
  {
   "cell_type": "markdown",
   "metadata": {},
   "source": [
    "Количество пользователей, осуществляющих заказ с телефона почти в 4 раза больше чем с компьютера. Из графиков видно, что заказов совершенных с телефонов и с компьютеров осенью больше чем летом, однако в долевом соотношении результаты почти не изменились (осенью доля заказов совершенных с  компьютера стала чуть больше чем летом)."
   ]
  },
  {
   "cell_type": "code",
   "execution_count": 50,
   "metadata": {},
   "outputs": [
    {
     "data": {
      "text/plain": [
       "season  age_limit\n",
       "Лето    0            21607\n",
       "        6            21933\n",
       "        12           24765\n",
       "        16           33978\n",
       "        18           18020\n",
       "Осень   0            39862\n",
       "        6            30138\n",
       "        12           37597\n",
       "        16           44495\n",
       "        18           17870\n",
       "Name: order_id, dtype: int64"
      ]
     },
     "execution_count": 50,
     "metadata": {},
     "output_type": "execute_result"
    }
   ],
   "source": [
    "all_df.groupby(['season', 'age_limit'])['order_id'].count()"
   ]
  },
  {
   "cell_type": "code",
   "execution_count": 51,
   "metadata": {},
   "outputs": [
    {
     "data": {
      "text/html": [
       "<div>\n",
       "<style scoped>\n",
       "    .dataframe tbody tr th:only-of-type {\n",
       "        vertical-align: middle;\n",
       "    }\n",
       "\n",
       "    .dataframe tbody tr th {\n",
       "        vertical-align: top;\n",
       "    }\n",
       "\n",
       "    .dataframe thead th {\n",
       "        text-align: right;\n",
       "    }\n",
       "</style>\n",
       "<table border=\"1\" class=\"dataframe\">\n",
       "  <thead>\n",
       "    <tr style=\"text-align: right;\">\n",
       "      <th>season</th>\n",
       "      <th>Лето</th>\n",
       "      <th>Осень</th>\n",
       "    </tr>\n",
       "    <tr>\n",
       "      <th>age_limit</th>\n",
       "      <th></th>\n",
       "      <th></th>\n",
       "    </tr>\n",
       "  </thead>\n",
       "  <tbody>\n",
       "    <tr>\n",
       "      <th>0</th>\n",
       "      <td>21607</td>\n",
       "      <td>39862</td>\n",
       "    </tr>\n",
       "    <tr>\n",
       "      <th>6</th>\n",
       "      <td>21933</td>\n",
       "      <td>30138</td>\n",
       "    </tr>\n",
       "    <tr>\n",
       "      <th>12</th>\n",
       "      <td>24765</td>\n",
       "      <td>37597</td>\n",
       "    </tr>\n",
       "    <tr>\n",
       "      <th>16</th>\n",
       "      <td>33978</td>\n",
       "      <td>44495</td>\n",
       "    </tr>\n",
       "    <tr>\n",
       "      <th>18</th>\n",
       "      <td>18020</td>\n",
       "      <td>17870</td>\n",
       "    </tr>\n",
       "  </tbody>\n",
       "</table>\n",
       "</div>"
      ],
      "text/plain": [
       "season      Лето  Осень\n",
       "age_limit              \n",
       "0          21607  39862\n",
       "6          21933  30138\n",
       "12         24765  37597\n",
       "16         33978  44495\n",
       "18         18020  17870"
      ]
     },
     "metadata": {},
     "output_type": "display_data"
    },
    {
     "data": {
      "image/png": "[encoded data removed]",
      "text/plain": [
       "<Figure size 1080x504 with 1 Axes>"
      ]
     },
     "metadata": {
      "needs_background": "light"
     },
     "output_type": "display_data"
    }
   ],
   "source": [
    "pivot_table = all_df.pivot_table(values = 'order_id', index = 'age_limit', columns = 'season', aggfunc = 'count')\n",
    "display(pivot_table)\n",
    "pivot_table.plot(kind = 'bar', title = 'Распределение количество заказов по возрастной категории', xlabel = 'Возрастная категория',\n",
    "                ylabel = 'Количество заказов', rot = 0, figsize=(15,7))\n",
    "plt.grid(axis = 'y')\n",
    "plt.show()"
   ]
  },
  {
   "cell_type": "code",
   "execution_count": 52,
   "metadata": {},
   "outputs": [
    {
     "data": {
      "text/html": [
       "<div>\n",
       "<style scoped>\n",
       "    .dataframe tbody tr th:only-of-type {\n",
       "        vertical-align: middle;\n",
       "    }\n",
       "\n",
       "    .dataframe tbody tr th {\n",
       "        vertical-align: top;\n",
       "    }\n",
       "\n",
       "    .dataframe thead th {\n",
       "        text-align: right;\n",
       "    }\n",
       "</style>\n",
       "<table border=\"1\" class=\"dataframe\">\n",
       "  <thead>\n",
       "    <tr style=\"text-align: right;\">\n",
       "      <th>age_limit</th>\n",
       "      <th>0</th>\n",
       "      <th>6</th>\n",
       "      <th>12</th>\n",
       "      <th>16</th>\n",
       "      <th>18</th>\n",
       "      <th>All</th>\n",
       "    </tr>\n",
       "    <tr>\n",
       "      <th>season</th>\n",
       "      <th></th>\n",
       "      <th></th>\n",
       "      <th></th>\n",
       "      <th></th>\n",
       "      <th></th>\n",
       "      <th></th>\n",
       "    </tr>\n",
       "  </thead>\n",
       "  <tbody>\n",
       "    <tr>\n",
       "      <th>Лето</th>\n",
       "      <td>21607</td>\n",
       "      <td>21933</td>\n",
       "      <td>24765</td>\n",
       "      <td>33978</td>\n",
       "      <td>18020</td>\n",
       "      <td>120303</td>\n",
       "    </tr>\n",
       "    <tr>\n",
       "      <th>Осень</th>\n",
       "      <td>39862</td>\n",
       "      <td>30138</td>\n",
       "      <td>37597</td>\n",
       "      <td>44495</td>\n",
       "      <td>17870</td>\n",
       "      <td>169962</td>\n",
       "    </tr>\n",
       "  </tbody>\n",
       "</table>\n",
       "</div>"
      ],
      "text/plain": [
       "age_limit      0      6     12     16     18     All\n",
       "season                                              \n",
       "Лето       21607  21933  24765  33978  18020  120303\n",
       "Осень      39862  30138  37597  44495  17870  169962"
      ]
     },
     "metadata": {},
     "output_type": "display_data"
    },
    {
     "data": {
      "image/png": "[encoded data removed]",
      "text/plain": [
       "<Figure size 1080x504 with 1 Axes>"
      ]
     },
     "metadata": {
      "needs_background": "light"
     },
     "output_type": "display_data"
    }
   ],
   "source": [
    "pivot_table = all_df.pivot_table(values = 'order_id', index = 'season', columns = 'age_limit', aggfunc = 'count', margins = True)\n",
    "pivot_table.drop('All', inplace = True)\n",
    "display(pivot_table)\n",
    "for i in pivot_table.columns:\n",
    "    for j in pivot_table.index:\n",
    "        pivot_table[i][j] = round((pivot_table[i][j] / pivot_table['All'][j]) * 100,2)\n",
    "pivot_table.drop(columns = 'All', inplace = True)\n",
    "pivot_table.plot(kind = 'bar', figsize=(15,7), xlabel = 'Сезон', title = 'Распределение заказов по возрастной категории', ylabel = 'Доля заказов', rot = 0)\n",
    "plt.legend(loc=\"upper left\", bbox_to_anchor=(1,1))\n",
    "plt.grid(axis = 'y')\n",
    "plt.show()"
   ]
  },
  {
   "cell_type": "markdown",
   "metadata": {},
   "source": [
    "По полученным данным, самой популярной возрастной категорией является 16+. Осенью почти во всех категориях количество заказов увеличилось, за исключением категории 18+. Однако разница небольшая (чуть больше 100 заказов). Однако, при рассмотрении долевого сотношения заказов в сезоне можно заметить новые тренды. Осенью большую популярность получили мероприятия категории 0+, а также увеличилось доля заказов билетов на мероприятия категории 12+. Доля присуствия категории 16+ среди всех заказов осень уменьшилась, однако продолжает быть топовой категорией среди оставшихся."
   ]
  },
  {
   "cell_type": "code",
   "execution_count": 53,
   "metadata": {},
   "outputs": [
    {
     "data": {
      "text/plain": [
       "season  event_type_main\n",
       "Лето    выставки            86.388607\n",
       "        другое              80.943415\n",
       "        концерты           318.589737\n",
       "        спорт               54.112065\n",
       "        стендап            226.596884\n",
       "        театр              222.121563\n",
       "        ёлки               274.749549\n",
       "Осень   выставки            91.066619\n",
       "        другое              76.943437\n",
       "        концерты           286.109052\n",
       "        спорт               52.132324\n",
       "        стендап            249.586575\n",
       "        театр              182.664170\n",
       "        ёлки               233.464783\n",
       "Name: one_tickets_revenue_rub, dtype: float64"
      ]
     },
     "execution_count": 53,
     "metadata": {},
     "output_type": "execute_result"
    }
   ],
   "source": [
    "# Изучим изменение в значении выручки, полученной с одного билета\n",
    "all_df.groupby(['season', 'event_type_main'])['one_tickets_revenue_rub'].mean()"
   ]
  },
  {
   "cell_type": "code",
   "execution_count": 54,
   "metadata": {},
   "outputs": [
    {
     "data": {
      "image/png": "[encoded data removed]",
      "text/plain": [
       "<Figure size 1080x504 with 1 Axes>"
      ]
     },
     "metadata": {
      "needs_background": "light"
     },
     "output_type": "display_data"
    },
    {
     "data": {
      "text/html": [
       "<div>\n",
       "<style scoped>\n",
       "    .dataframe tbody tr th:only-of-type {\n",
       "        vertical-align: middle;\n",
       "    }\n",
       "\n",
       "    .dataframe tbody tr th {\n",
       "        vertical-align: top;\n",
       "    }\n",
       "\n",
       "    .dataframe thead th {\n",
       "        text-align: right;\n",
       "    }\n",
       "</style>\n",
       "<table border=\"1\" class=\"dataframe\">\n",
       "  <thead>\n",
       "    <tr style=\"text-align: right;\">\n",
       "      <th>season</th>\n",
       "      <th>Лето</th>\n",
       "      <th>Осень</th>\n",
       "      <th>разница, %</th>\n",
       "    </tr>\n",
       "    <tr>\n",
       "      <th>event_type_main</th>\n",
       "      <th></th>\n",
       "      <th></th>\n",
       "      <th></th>\n",
       "    </tr>\n",
       "  </thead>\n",
       "  <tbody>\n",
       "    <tr>\n",
       "      <th>выставки</th>\n",
       "      <td>86.388607</td>\n",
       "      <td>91.066619</td>\n",
       "      <td>5.415080</td>\n",
       "    </tr>\n",
       "    <tr>\n",
       "      <th>другое</th>\n",
       "      <td>80.943415</td>\n",
       "      <td>76.943437</td>\n",
       "      <td>-4.941697</td>\n",
       "    </tr>\n",
       "    <tr>\n",
       "      <th>концерты</th>\n",
       "      <td>318.589737</td>\n",
       "      <td>286.109052</td>\n",
       "      <td>-10.195145</td>\n",
       "    </tr>\n",
       "    <tr>\n",
       "      <th>спорт</th>\n",
       "      <td>54.112065</td>\n",
       "      <td>52.132324</td>\n",
       "      <td>-3.658594</td>\n",
       "    </tr>\n",
       "    <tr>\n",
       "      <th>стендап</th>\n",
       "      <td>226.596884</td>\n",
       "      <td>249.586575</td>\n",
       "      <td>10.145634</td>\n",
       "    </tr>\n",
       "    <tr>\n",
       "      <th>театр</th>\n",
       "      <td>222.121563</td>\n",
       "      <td>182.664170</td>\n",
       "      <td>-17.763873</td>\n",
       "    </tr>\n",
       "    <tr>\n",
       "      <th>ёлки</th>\n",
       "      <td>274.749549</td>\n",
       "      <td>233.464783</td>\n",
       "      <td>-15.026327</td>\n",
       "    </tr>\n",
       "  </tbody>\n",
       "</table>\n",
       "</div>"
      ],
      "text/plain": [
       "season                 Лето       Осень  разница, %\n",
       "event_type_main                                    \n",
       "выставки          86.388607   91.066619    5.415080\n",
       "другое            80.943415   76.943437   -4.941697\n",
       "концерты         318.589737  286.109052  -10.195145\n",
       "спорт             54.112065   52.132324   -3.658594\n",
       "стендап          226.596884  249.586575   10.145634\n",
       "театр            222.121563  182.664170  -17.763873\n",
       "ёлки             274.749549  233.464783  -15.026327"
      ]
     },
     "execution_count": 54,
     "metadata": {},
     "output_type": "execute_result"
    }
   ],
   "source": [
    "revenue_ticket_table = all_df.pivot_table(values = 'one_tickets_revenue_rub', index = 'event_type_main', columns = 'season', aggfunc = 'mean')\n",
    "revenue_ticket_table.plot(kind = 'bar', figsize = (15,7), title = 'Выручка с одного билета по типу мероприятий', xlabel = 'Тип мероприятия',\n",
    "                          ylabel = 'Выручка, руб.', rot = 45)\n",
    "plt.grid(axis = 'y')\n",
    "plt.show()\n",
    "revenue_ticket_table['разница, %'] = (revenue_ticket_table['Осень'] - revenue_ticket_table['Лето']) / revenue_ticket_table['Лето'] * 100\n",
    "revenue_ticket_table"
   ]
  },
  {
   "cell_type": "markdown",
   "metadata": {},
   "source": [
    "Из графиков заметно, что в большинстве типов мероприятий среднее значение выручки за один билет в заказе осенью уменьшилось от 3 до 17%. Исключением стали такие мероприятия как выставки - увеличилось на 5% и стендапы - 10%. Учитывая тенденции, обнаруженные ранее, можно предположить, что эти два события связаны: чем меньше стала выручка, тем популярнее стали типы мероприятий осенью."
   ]
  },
  {
   "cell_type": "markdown",
   "metadata": {},
   "source": [
    "**ВЫВОД:**\n",
    "\n",
    "С наступлением осени количество оформляемых заказов значительно увеличилось. Самыми популярными мероприятиями являются концерты, другое и театры. По сравнению с летним периодом осенью интерес пользователей значительно увеличился к таким мероприятиям как театры, спортивные мероприятия и елки. Меньше всего увеличились выставки и стендапы. Также заметны небольшие изменения в устройствах, с которых были оформлены билеты (осенью доля пользователей, оформивших заказ с компьютера стала чуть больше чем летом). Измнения заметны в возрастной категории мероприятий. Категория 16+ безоговорочный лидер в продаж, однако популярность по сравннеию с летним периодом осенью получили такие категории как 0+ и 12+ (возможно это связано с окончанием каникул в школах, часто в школах учеников водят в театры, или же возвращением из отпусков и летних лагерей - родители чаще стали ходить с детьми на мероприятия). \n",
    "\n",
    "Особено значимы изменения в средней выручки, полученной за один билет. Оснеью по всем мероприятиям выручка снизилась от 3 до 17 процентов, искючение - выставки и стендапы выручка с которых выросла. Предположительно, увеличение количества заказов осенью может быть связан именно с этим (изменилась стоимость билетов и как итог - выручка, при этом увеличилась стоимость)."
   ]
  },
  {
   "cell_type": "markdown",
   "metadata": {},
   "source": [
    "### Осенняя активность пользователей"
   ]
  },
  {
   "cell_type": "code",
   "execution_count": 55,
   "metadata": {},
   "outputs": [
    {
     "data": {
      "text/html": [
       "<div>\n",
       "<style scoped>\n",
       "    .dataframe tbody tr th:only-of-type {\n",
       "        vertical-align: middle;\n",
       "    }\n",
       "\n",
       "    .dataframe tbody tr th {\n",
       "        vertical-align: top;\n",
       "    }\n",
       "\n",
       "    .dataframe thead th {\n",
       "        text-align: right;\n",
       "    }\n",
       "</style>\n",
       "<table border=\"1\" class=\"dataframe\">\n",
       "  <thead>\n",
       "    <tr style=\"text-align: right;\">\n",
       "      <th></th>\n",
       "      <th>Средняя стоимость билета</th>\n",
       "      <th>Количество заказов</th>\n",
       "      <th>Количество пользователей</th>\n",
       "      <th>Среднее число заказов на пользователя</th>\n",
       "    </tr>\n",
       "    <tr>\n",
       "      <th>created_dt_msk</th>\n",
       "      <th></th>\n",
       "      <th></th>\n",
       "      <th></th>\n",
       "      <th></th>\n",
       "    </tr>\n",
       "  </thead>\n",
       "  <tbody>\n",
       "    <tr>\n",
       "      <th>2024-09-01</th>\n",
       "      <td>206.407230</td>\n",
       "      <td>1340</td>\n",
       "      <td>567</td>\n",
       "      <td>2.363316</td>\n",
       "    </tr>\n",
       "    <tr>\n",
       "      <th>2024-09-02</th>\n",
       "      <td>195.536090</td>\n",
       "      <td>1391</td>\n",
       "      <td>580</td>\n",
       "      <td>2.398276</td>\n",
       "    </tr>\n",
       "    <tr>\n",
       "      <th>2024-09-03</th>\n",
       "      <td>81.886188</td>\n",
       "      <td>5122</td>\n",
       "      <td>782</td>\n",
       "      <td>6.549872</td>\n",
       "    </tr>\n",
       "    <tr>\n",
       "      <th>2024-09-04</th>\n",
       "      <td>183.675947</td>\n",
       "      <td>1782</td>\n",
       "      <td>688</td>\n",
       "      <td>2.590116</td>\n",
       "    </tr>\n",
       "    <tr>\n",
       "      <th>2024-09-05</th>\n",
       "      <td>193.213086</td>\n",
       "      <td>1956</td>\n",
       "      <td>743</td>\n",
       "      <td>2.632571</td>\n",
       "    </tr>\n",
       "    <tr>\n",
       "      <th>...</th>\n",
       "      <td>...</td>\n",
       "      <td>...</td>\n",
       "      <td>...</td>\n",
       "      <td>...</td>\n",
       "    </tr>\n",
       "    <tr>\n",
       "      <th>2024-10-27</th>\n",
       "      <td>190.848377</td>\n",
       "      <td>2866</td>\n",
       "      <td>1039</td>\n",
       "      <td>2.758422</td>\n",
       "    </tr>\n",
       "    <tr>\n",
       "      <th>2024-10-28</th>\n",
       "      <td>176.724348</td>\n",
       "      <td>2860</td>\n",
       "      <td>988</td>\n",
       "      <td>2.894737</td>\n",
       "    </tr>\n",
       "    <tr>\n",
       "      <th>2024-10-29</th>\n",
       "      <td>189.784035</td>\n",
       "      <td>2886</td>\n",
       "      <td>1004</td>\n",
       "      <td>2.874502</td>\n",
       "    </tr>\n",
       "    <tr>\n",
       "      <th>2024-10-30</th>\n",
       "      <td>188.540452</td>\n",
       "      <td>2956</td>\n",
       "      <td>1048</td>\n",
       "      <td>2.820611</td>\n",
       "    </tr>\n",
       "    <tr>\n",
       "      <th>2024-10-31</th>\n",
       "      <td>153.490257</td>\n",
       "      <td>5985</td>\n",
       "      <td>1280</td>\n",
       "      <td>4.675781</td>\n",
       "    </tr>\n",
       "  </tbody>\n",
       "</table>\n",
       "<p>61 rows × 4 columns</p>\n",
       "</div>"
      ],
      "text/plain": [
       "                Средняя стоимость билета  Количество заказов  \\\n",
       "created_dt_msk                                                 \n",
       "2024-09-01                    206.407230                1340   \n",
       "2024-09-02                    195.536090                1391   \n",
       "2024-09-03                     81.886188                5122   \n",
       "2024-09-04                    183.675947                1782   \n",
       "2024-09-05                    193.213086                1956   \n",
       "...                                  ...                 ...   \n",
       "2024-10-27                    190.848377                2866   \n",
       "2024-10-28                    176.724348                2860   \n",
       "2024-10-29                    189.784035                2886   \n",
       "2024-10-30                    188.540452                2956   \n",
       "2024-10-31                    153.490257                5985   \n",
       "\n",
       "                Количество пользователей  \\\n",
       "created_dt_msk                             \n",
       "2024-09-01                           567   \n",
       "2024-09-02                           580   \n",
       "2024-09-03                           782   \n",
       "2024-09-04                           688   \n",
       "2024-09-05                           743   \n",
       "...                                  ...   \n",
       "2024-10-27                          1039   \n",
       "2024-10-28                           988   \n",
       "2024-10-29                          1004   \n",
       "2024-10-30                          1048   \n",
       "2024-10-31                          1280   \n",
       "\n",
       "                Среднее число заказов на пользователя  \n",
       "created_dt_msk                                         \n",
       "2024-09-01                                   2.363316  \n",
       "2024-09-02                                   2.398276  \n",
       "2024-09-03                                   6.549872  \n",
       "2024-09-04                                   2.590116  \n",
       "2024-09-05                                   2.632571  \n",
       "...                                               ...  \n",
       "2024-10-27                                   2.758422  \n",
       "2024-10-28                                   2.894737  \n",
       "2024-10-29                                   2.874502  \n",
       "2024-10-30                                   2.820611  \n",
       "2024-10-31                                   4.675781  \n",
       "\n",
       "[61 rows x 4 columns]"
      ]
     },
     "execution_count": 55,
     "metadata": {},
     "output_type": "execute_result"
    }
   ],
   "source": [
    "# Создадим сводную таблицу, в которую соберем следующие поля по дням:\n",
    "# - общее число заказов\n",
    "# - количество активных пользователей\n",
    "# - среднее число заказов на одного пользователя\n",
    "# - средняя стоимость одного билета\n",
    "pt_days = all_df[(all_df['month'] == 'Сентябрь') | (all_df['month'] == 'Октябрь')].pivot_table(values = ['order_id', 'user_id', 'one_tickets_revenue_rub'], \n",
    "                                                                                                index = 'created_dt_msk', aggfunc = {'order_id' : 'count', 'user_id' : 'nunique', 'one_tickets_revenue_rub' : 'mean'})\n",
    "pt_days.columns = ['Средняя стоимость билета', 'Количество заказов', 'Количество пользователей']\n",
    "pt_days['Среднее число заказов на пользователя'] = pt_days['Количество заказов'] / pt_days['Количество пользователей']\n",
    "pt_days"
   ]
  },
  {
   "cell_type": "code",
   "execution_count": 60,
   "metadata": {
    "scrolled": false
   },
   "outputs": [
    {
     "data": {
      "image/png": "[encoded data removed]",
      "text/plain": [
       "<Figure size 720x576 with 1 Axes>"
      ]
     },
     "metadata": {
      "needs_background": "light"
     },
     "output_type": "display_data"
    }
   ],
   "source": [
    "plt.figure(figsize = (10,8))\n",
    "pt_days['Количество заказов'].plot(kind = 'line', color = 'blue', \n",
    "                                   title = 'Количество заказов в день', \n",
    "                                   xlabel = 'Дата',\n",
    "                                   ylabel = 'Количество заказов')\n",
    "mean_order = pt_days['Количество заказов'].mean()\n",
    "plt.axhline(mean_order, color = 'red', linestyle = '--', label = 'Среднее количество')\n",
    "plt.legend()\n",
    "plt.grid(axis = 'y')\n",
    "plt.show()"
   ]
  },
  {
   "cell_type": "markdown",
   "metadata": {},
   "source": [
    "На графике предсталено распеделение заказов по датам в сентябре и октябре. Заметны всплески - выбросы в количестве заказов в конце месяца - начале следующего. По графику также видно, что в сентябре дней с количеством заказов меньше среднего значительно меньше чем в октябре, таким образом прорисовывается положительная тенденция к оформлению заказа."
   ]
  },
  {
   "cell_type": "code",
   "execution_count": 61,
   "metadata": {},
   "outputs": [
    {
     "data": {
      "image/png": "[encoded data removed]",
      "text/plain": [
       "<Figure size 720x576 with 1 Axes>"
      ]
     },
     "metadata": {
      "needs_background": "light"
     },
     "output_type": "display_data"
    }
   ],
   "source": [
    "plt.figure(figsize = (10,8))\n",
    "pt_days['Количество пользователей'].plot(kind = 'line', color = 'blue', \n",
    "                                   title = 'Количество пользователей в день', \n",
    "                                   xlabel = 'Дата',\n",
    "                                   ylabel = 'Количество пользователей')\n",
    "plt.axhline(pt_days['Количество пользователей'].mean(), color = 'red', linestyle = '--', label = 'Среднее количество')\n",
    "plt.legend()\n",
    "plt.grid(axis = 'y')\n",
    "plt.show()"
   ]
  },
  {
   "cell_type": "markdown",
   "metadata": {},
   "source": [
    "В среднем ежедневно сервис используют чуть больше 900 пользователей. Заметна положительная динамика в количестве уникальных пользователей использующих приложение."
   ]
  },
  {
   "cell_type": "code",
   "execution_count": 63,
   "metadata": {},
   "outputs": [
    {
     "data": {
      "image/png": "[encoded data removed]",
      "text/plain": [
       "<Figure size 720x576 with 1 Axes>"
      ]
     },
     "metadata": {
      "needs_background": "light"
     },
     "output_type": "display_data"
    }
   ],
   "source": [
    "plt.figure(figsize = (10,8))\n",
    "pt_days['Среднее число заказов на пользователя'].plot(kind = 'line', color = 'blue', \n",
    "                                   title = 'Среднее число заказов на пользователя в день', \n",
    "                                   xlabel = 'Дата',\n",
    "                                   ylabel = 'Среднее количество заказов')\n",
    "plt.axhline(pt_days['Среднее число заказов на пользователя'].mean(), color = 'red', linestyle = '--', label = 'Среднее количество за все время')\n",
    "plt.legend()\n",
    "plt.grid(axis = 'y')\n",
    "plt.show()"
   ]
  },
  {
   "cell_type": "markdown",
   "metadata": {},
   "source": [
    "График очень напоминает предыдущий (Количество заказов в день). Также как и там, здесь присутствуют всплески в конце месяца - начале следующего. Динамика среднего количества заказов в день увеличивается, однако в отличии от количества заказов менее интенсивно. Это говорит о том, что пользователи все больше заинтерсованы в покупке билетов через сервис. Учитывая такие всплески, можно предположить что многие пользователи заказывают билеты на месяц вперед из-за получения зарплаты и планирования своих развлечений. \n",
    "\n",
    "***Вот так деньги и уходят - в день зарплаты)***"
   ]
  },
  {
   "cell_type": "code",
   "execution_count": 64,
   "metadata": {},
   "outputs": [
    {
     "data": {
      "image/png": "[encoded data removed]",
      "text/plain": [
       "<Figure size 720x576 with 1 Axes>"
      ]
     },
     "metadata": {
      "needs_background": "light"
     },
     "output_type": "display_data"
    }
   ],
   "source": [
    "plt.figure(figsize = (10,8))\n",
    "pt_days['Средняя стоимость билета'].plot(kind = 'line', color = 'blue', \n",
    "                                   title = 'Средняя стоимость билета в день', \n",
    "                                   xlabel = 'Дата',\n",
    "                                   ylabel = 'Средняя стоимость билета')\n",
    "plt.axhline(pt_days['Средняя стоимость билета'].mean(), color = 'red', linestyle = '--', label = 'Среднее стоимость за все время')\n",
    "plt.legend()\n",
    "plt.grid(axis = 'y')\n",
    "plt.show()"
   ]
  },
  {
   "cell_type": "markdown",
   "metadata": {},
   "source": [
    "В отличии от остальных графиков, средняя выручка с одного не несет положительной тенденции, она почти постоянна, за исключением дней массовой покупки билетов. В качестве причины может быть наличие какой-либо акции или же процесс расчета выручки."
   ]
  },
  {
   "cell_type": "code",
   "execution_count": 67,
   "metadata": {},
   "outputs": [
    {
     "data": {
      "image/png": "[encoded data removed]",
      "text/plain": [
       "<Figure size 720x576 with 1 Axes>"
      ]
     },
     "metadata": {
      "needs_background": "light"
     },
     "output_type": "display_data"
    }
   ],
   "source": [
    "# Ради интереса\n",
    "plt.figure(figsize = (10,8))\n",
    "all_df[(all_df['month'] == 'Сентябрь') | (all_df['month'] == 'Октябрь')].groupby('created_dt_msk')['total'].mean().plot(kind = 'line',\n",
    "                                                                                                                       title = 'Средняя стоимость заказов',\n",
    "                                                                                                                       xlabel = 'Дата',\n",
    "                                                                                                                       ylabel = 'Стоимость, руб.',\n",
    "                                                                                                                       color = 'blue')\n",
    "plt.grid (axis = 'y')\n",
    "plt.show()"
   ]
  },
  {
   "cell_type": "markdown",
   "metadata": {},
   "source": [
    "Все же учитывая что количество заказов в эти дни больше чем в предыдущие как и количество оформляемых заказов пользователями, при почти единых значениях в количестве уникальных пользователей, скорее всего в эти дни проходят какие-то акции или же же в начале месяца билеты более дешевые, в отличии от последующих дней, как следствие выручка - процент от суммы покупки."
   ]
  },
  {
   "cell_type": "code",
   "execution_count": 68,
   "metadata": {},
   "outputs": [
    {
     "data": {
      "image/png": "[encoded data removed]",
      "text/plain": [
       "<Figure size 720x576 with 1 Axes>"
      ]
     },
     "metadata": {
      "needs_background": "light"
     },
     "output_type": "display_data"
    }
   ],
   "source": [
    "#Изучим пользовательскую активность по дням недели\n",
    "order_day = all_df[(all_df['month'] == 'Сентябрь') | (all_df['month'] == 'Октябрь')].groupby('created_dt_msk')['order_id'].count().reset_index()\n",
    "order_day['day'] = order_day['created_dt_msk'].dt.day_name()\n",
    "plt.figure(figsize = (10,8))\n",
    "order_day.groupby('day')['order_id'].sum().sort_values().plot(kind = 'barh', color = 'blue', \n",
    "                                                             title = 'Рапрседеление количества заказов по дням недели',\n",
    "                                                             xlabel = 'День недели',\n",
    "                                                             ylabel = 'Количество заказов')\n",
    "plt.grid (axis = 'x')\n",
    "plt.show()"
   ]
  },
  {
   "cell_type": "markdown",
   "metadata": {},
   "source": [
    "Больше всего билетов пользователи заказывают во вторник и в четверг, а меньше всего - на выходных."
   ]
  },
  {
   "cell_type": "markdown",
   "metadata": {},
   "source": [
    "**ВЫВОД:**\n",
    "\n",
    "Осенняя активность пользователей демонстрирует что количество пользователей имеет положительную тенденцию, как следствие растет и количество заказов. Сренее количество заказов, оформляемых пользователями за день также имеет положительную тенденцию, однако менее интенсивную по сравнению с другими показателями. Средняя выручка с билета в отличии от остальных не демострирует роста, она скорее стабильна. \n",
    "\n",
    "Заметно, что большое количество заказов оформляется в начале месяца, все это связано стоимостью билетов. В начале месяца билеты дешевле, как следствие заказов  вразы больше. Это также дает понимание о том, что выручка с продажи билетво представляет собой процент от общей стоимости, так как в эти дни выручка ниже всего. \n",
    "\n",
    "В оснвоном пользователи покупаю билеты в будние дни, чаще всего во вторик и четверг. В выходные активность пользователей меньше."
   ]
  },
  {
   "cell_type": "markdown",
   "metadata": {},
   "source": [
    "### Популярные события и партнеры"
   ]
  },
  {
   "cell_type": "code",
   "execution_count": 69,
   "metadata": {},
   "outputs": [
    {
     "data": {
      "text/html": [
       "<div>\n",
       "<style scoped>\n",
       "    .dataframe tbody tr th:only-of-type {\n",
       "        vertical-align: middle;\n",
       "    }\n",
       "\n",
       "    .dataframe tbody tr th {\n",
       "        vertical-align: top;\n",
       "    }\n",
       "\n",
       "    .dataframe thead th {\n",
       "        text-align: right;\n",
       "    }\n",
       "</style>\n",
       "<table border=\"1\" class=\"dataframe\">\n",
       "  <thead>\n",
       "    <tr style=\"text-align: right;\">\n",
       "      <th></th>\n",
       "      <th>Регион</th>\n",
       "      <th>Количество мероприятий</th>\n",
       "      <th>Количество заказов</th>\n",
       "      <th>Доля мероприятий, %</th>\n",
       "      <th>Доля заказов, %</th>\n",
       "    </tr>\n",
       "  </thead>\n",
       "  <tbody>\n",
       "    <tr>\n",
       "      <th>0</th>\n",
       "      <td>Каменевский регион</td>\n",
       "      <td>5982</td>\n",
       "      <td>90918</td>\n",
       "      <td>26.673206</td>\n",
       "      <td>31.322412</td>\n",
       "    </tr>\n",
       "    <tr>\n",
       "      <th>1</th>\n",
       "      <td>Североярская область</td>\n",
       "      <td>3812</td>\n",
       "      <td>44010</td>\n",
       "      <td>16.997369</td>\n",
       "      <td>15.162007</td>\n",
       "    </tr>\n",
       "    <tr>\n",
       "      <th>2</th>\n",
       "      <td>Широковская область</td>\n",
       "      <td>1233</td>\n",
       "      <td>16428</td>\n",
       "      <td>5.497837</td>\n",
       "      <td>5.659656</td>\n",
       "    </tr>\n",
       "    <tr>\n",
       "      <th>3</th>\n",
       "      <td>Светополянский округ</td>\n",
       "      <td>1075</td>\n",
       "      <td>7603</td>\n",
       "      <td>4.793329</td>\n",
       "      <td>2.619331</td>\n",
       "    </tr>\n",
       "    <tr>\n",
       "      <th>4</th>\n",
       "      <td>Речиновская область</td>\n",
       "      <td>702</td>\n",
       "      <td>6291</td>\n",
       "      <td>3.130156</td>\n",
       "      <td>2.167330</td>\n",
       "    </tr>\n",
       "    <tr>\n",
       "      <th>5</th>\n",
       "      <td>Травяная область</td>\n",
       "      <td>683</td>\n",
       "      <td>5045</td>\n",
       "      <td>3.045436</td>\n",
       "      <td>1.738067</td>\n",
       "    </tr>\n",
       "    <tr>\n",
       "      <th>6</th>\n",
       "      <td>Горицветская область</td>\n",
       "      <td>551</td>\n",
       "      <td>5163</td>\n",
       "      <td>2.456860</td>\n",
       "      <td>1.778719</td>\n",
       "    </tr>\n",
       "    <tr>\n",
       "      <th>7</th>\n",
       "      <td>Серебринская область</td>\n",
       "      <td>542</td>\n",
       "      <td>5598</td>\n",
       "      <td>2.416730</td>\n",
       "      <td>1.928583</td>\n",
       "    </tr>\n",
       "    <tr>\n",
       "      <th>8</th>\n",
       "      <td>Яблоневская область</td>\n",
       "      <td>535</td>\n",
       "      <td>6152</td>\n",
       "      <td>2.385517</td>\n",
       "      <td>2.119443</td>\n",
       "    </tr>\n",
       "    <tr>\n",
       "      <th>9</th>\n",
       "      <td>Тепляковская область</td>\n",
       "      <td>530</td>\n",
       "      <td>4388</td>\n",
       "      <td>2.363223</td>\n",
       "      <td>1.511722</td>\n",
       "    </tr>\n",
       "  </tbody>\n",
       "</table>\n",
       "</div>"
      ],
      "text/plain": [
       "                 Регион  Количество мероприятий  Количество заказов  \\\n",
       "0    Каменевский регион                    5982               90918   \n",
       "1  Североярская область                    3812               44010   \n",
       "2   Широковская область                    1233               16428   \n",
       "3  Светополянский округ                    1075                7603   \n",
       "4   Речиновская область                     702                6291   \n",
       "5      Травяная область                     683                5045   \n",
       "6  Горицветская область                     551                5163   \n",
       "7  Серебринская область                     542                5598   \n",
       "8   Яблоневская область                     535                6152   \n",
       "9  Тепляковская область                     530                4388   \n",
       "\n",
       "   Доля мероприятий, %  Доля заказов, %  \n",
       "0            26.673206        31.322412  \n",
       "1            16.997369        15.162007  \n",
       "2             5.497837         5.659656  \n",
       "3             4.793329         2.619331  \n",
       "4             3.130156         2.167330  \n",
       "5             3.045436         1.738067  \n",
       "6             2.456860         1.778719  \n",
       "7             2.416730         1.928583  \n",
       "8             2.385517         2.119443  \n",
       "9             2.363223         1.511722  "
      ]
     },
     "metadata": {},
     "output_type": "display_data"
    },
    {
     "data": {
      "text/html": [
       "<div>\n",
       "<style scoped>\n",
       "    .dataframe tbody tr th:only-of-type {\n",
       "        vertical-align: middle;\n",
       "    }\n",
       "\n",
       "    .dataframe tbody tr th {\n",
       "        vertical-align: top;\n",
       "    }\n",
       "\n",
       "    .dataframe thead th {\n",
       "        text-align: right;\n",
       "    }\n",
       "</style>\n",
       "<table border=\"1\" class=\"dataframe\">\n",
       "  <thead>\n",
       "    <tr style=\"text-align: right;\">\n",
       "      <th></th>\n",
       "      <th>Регион</th>\n",
       "      <th>Количество мероприятий</th>\n",
       "      <th>Количество заказов</th>\n",
       "      <th>Доля мероприятий, %</th>\n",
       "      <th>Доля заказов, %</th>\n",
       "    </tr>\n",
       "  </thead>\n",
       "  <tbody>\n",
       "    <tr>\n",
       "      <th>76</th>\n",
       "      <td>Светолесский край</td>\n",
       "      <td>2</td>\n",
       "      <td>24</td>\n",
       "      <td>0.008918</td>\n",
       "      <td>0.008268</td>\n",
       "    </tr>\n",
       "    <tr>\n",
       "      <th>77</th>\n",
       "      <td>Лесноярский край</td>\n",
       "      <td>2</td>\n",
       "      <td>19</td>\n",
       "      <td>0.008918</td>\n",
       "      <td>0.006546</td>\n",
       "    </tr>\n",
       "    <tr>\n",
       "      <th>78</th>\n",
       "      <td>Верхозёрский край</td>\n",
       "      <td>2</td>\n",
       "      <td>11</td>\n",
       "      <td>0.008918</td>\n",
       "      <td>0.003790</td>\n",
       "    </tr>\n",
       "    <tr>\n",
       "      <th>79</th>\n",
       "      <td>Сосноводолинская область</td>\n",
       "      <td>2</td>\n",
       "      <td>10</td>\n",
       "      <td>0.008918</td>\n",
       "      <td>0.003445</td>\n",
       "    </tr>\n",
       "    <tr>\n",
       "      <th>80</th>\n",
       "      <td>Теплоозёрский округ</td>\n",
       "      <td>2</td>\n",
       "      <td>7</td>\n",
       "      <td>0.008918</td>\n",
       "      <td>0.002412</td>\n",
       "    </tr>\n",
       "  </tbody>\n",
       "</table>\n",
       "</div>"
      ],
      "text/plain": [
       "                      Регион  Количество мероприятий  Количество заказов  \\\n",
       "76         Светолесский край                       2                  24   \n",
       "77          Лесноярский край                       2                  19   \n",
       "78         Верхозёрский край                       2                  11   \n",
       "79  Сосноводолинская область                       2                  10   \n",
       "80       Теплоозёрский округ                       2                   7   \n",
       "\n",
       "    Доля мероприятий, %  Доля заказов, %  \n",
       "76             0.008918         0.008268  \n",
       "77             0.008918         0.006546  \n",
       "78             0.008918         0.003790  \n",
       "79             0.008918         0.003445  \n",
       "80             0.008918         0.002412  "
      ]
     },
     "metadata": {},
     "output_type": "display_data"
    }
   ],
   "source": [
    "# Оценим сколько мероприятий и заказов было сделано по регионам\n",
    "region_date = all_df.groupby('region_name').agg({'event_id' : 'nunique', 'order_id' : 'count'}).sort_values(by = ['event_id','order_id'], ascending = False).reset_index()\n",
    "region_date['share_event'] = region_date['event_id'] / fte_df.shape[0] * 100\n",
    "region_date['share_order'] = region_date['order_id'] / all_df.shape[0] * 100\n",
    "region_date.columns = ['Регион','Количество мероприятий', 'Количество заказов', \n",
    "                       'Доля мероприятий, %', 'Доля заказов, %']\n",
    "display(region_date.head(10))\n",
    "display(region_date.tail(5))"
   ]
  },
  {
   "cell_type": "code",
   "execution_count": 83,
   "metadata": {},
   "outputs": [
    {
     "data": {
      "text/html": [
       "<div>\n",
       "<style scoped>\n",
       "    .dataframe tbody tr th:only-of-type {\n",
       "        vertical-align: middle;\n",
       "    }\n",
       "\n",
       "    .dataframe tbody tr th {\n",
       "        vertical-align: top;\n",
       "    }\n",
       "\n",
       "    .dataframe thead th {\n",
       "        text-align: right;\n",
       "    }\n",
       "</style>\n",
       "<table border=\"1\" class=\"dataframe\">\n",
       "  <thead>\n",
       "    <tr style=\"text-align: right;\">\n",
       "      <th></th>\n",
       "      <th>Регион</th>\n",
       "      <th>Количество мероприятий</th>\n",
       "      <th>Количество заказов</th>\n",
       "      <th>Выручка</th>\n",
       "      <th>Доля мероприятий, %</th>\n",
       "      <th>Доля заказов, %</th>\n",
       "      <th>Доля выручки, %</th>\n",
       "    </tr>\n",
       "  </thead>\n",
       "  <tbody>\n",
       "    <tr>\n",
       "      <th>0</th>\n",
       "      <td>Билеты без проблем</td>\n",
       "      <td>2855</td>\n",
       "      <td>32752</td>\n",
       "      <td>1.348757e+07</td>\n",
       "      <td>16.456280</td>\n",
       "      <td>19.270190</td>\n",
       "      <td>15.316580</td>\n",
       "    </tr>\n",
       "    <tr>\n",
       "      <th>1</th>\n",
       "      <td>Облачко</td>\n",
       "      <td>1413</td>\n",
       "      <td>15601</td>\n",
       "      <td>1.241090e+07</td>\n",
       "      <td>8.144562</td>\n",
       "      <td>9.179111</td>\n",
       "      <td>14.093906</td>\n",
       "    </tr>\n",
       "    <tr>\n",
       "      <th>2</th>\n",
       "      <td>Мой билет</td>\n",
       "      <td>1012</td>\n",
       "      <td>19656</td>\n",
       "      <td>1.172736e+07</td>\n",
       "      <td>5.833189</td>\n",
       "      <td>11.564938</td>\n",
       "      <td>13.317665</td>\n",
       "    </tr>\n",
       "    <tr>\n",
       "      <th>3</th>\n",
       "      <td>Лови билет!</td>\n",
       "      <td>3626</td>\n",
       "      <td>25855</td>\n",
       "      <td>1.058734e+07</td>\n",
       "      <td>20.900340</td>\n",
       "      <td>15.212224</td>\n",
       "      <td>12.023053</td>\n",
       "    </tr>\n",
       "    <tr>\n",
       "      <th>4</th>\n",
       "      <td>Весь в билетах</td>\n",
       "      <td>607</td>\n",
       "      <td>9597</td>\n",
       "      <td>1.002921e+07</td>\n",
       "      <td>3.498761</td>\n",
       "      <td>5.646556</td>\n",
       "      <td>11.389235</td>\n",
       "    </tr>\n",
       "  </tbody>\n",
       "</table>\n",
       "</div>"
      ],
      "text/plain": [
       "               Регион  Количество мероприятий  Количество заказов  \\\n",
       "0  Билеты без проблем                    2855               32752   \n",
       "1             Облачко                    1413               15601   \n",
       "2           Мой билет                    1012               19656   \n",
       "3         Лови билет!                    3626               25855   \n",
       "4      Весь в билетах                     607                9597   \n",
       "\n",
       "        Выручка  Доля мероприятий, %  Доля заказов, %  Доля выручки, %  \n",
       "0  1.348757e+07            16.456280        19.270190        15.316580  \n",
       "1  1.241090e+07             8.144562         9.179111        14.093906  \n",
       "2  1.172736e+07             5.833189        11.564938        13.317665  \n",
       "3  1.058734e+07            20.900340        15.212224        12.023053  \n",
       "4  1.002921e+07             3.498761         5.646556        11.389235  "
      ]
     },
     "metadata": {},
     "output_type": "display_data"
    },
    {
     "data": {
      "text/html": [
       "<div>\n",
       "<style scoped>\n",
       "    .dataframe tbody tr th:only-of-type {\n",
       "        vertical-align: middle;\n",
       "    }\n",
       "\n",
       "    .dataframe tbody tr th {\n",
       "        vertical-align: top;\n",
       "    }\n",
       "\n",
       "    .dataframe thead th {\n",
       "        text-align: right;\n",
       "    }\n",
       "</style>\n",
       "<table border=\"1\" class=\"dataframe\">\n",
       "  <thead>\n",
       "    <tr style=\"text-align: right;\">\n",
       "      <th></th>\n",
       "      <th>Регион</th>\n",
       "      <th>Количество мероприятий</th>\n",
       "      <th>Количество заказов</th>\n",
       "      <th>Выручка</th>\n",
       "      <th>Доля мероприятий, %</th>\n",
       "      <th>Доля заказов, %</th>\n",
       "      <th>Доля выручки, %</th>\n",
       "    </tr>\n",
       "  </thead>\n",
       "  <tbody>\n",
       "    <tr>\n",
       "      <th>30</th>\n",
       "      <td>Быстрый кассир</td>\n",
       "      <td>1</td>\n",
       "      <td>8</td>\n",
       "      <td>7780.71</td>\n",
       "      <td>0.005764</td>\n",
       "      <td>0.004707</td>\n",
       "      <td>0.008836</td>\n",
       "    </tr>\n",
       "    <tr>\n",
       "      <th>31</th>\n",
       "      <td>Тех билет</td>\n",
       "      <td>2</td>\n",
       "      <td>5</td>\n",
       "      <td>1722.63</td>\n",
       "      <td>0.011528</td>\n",
       "      <td>0.002942</td>\n",
       "      <td>0.001956</td>\n",
       "    </tr>\n",
       "    <tr>\n",
       "      <th>32</th>\n",
       "      <td>Билеты в интернете</td>\n",
       "      <td>1</td>\n",
       "      <td>4</td>\n",
       "      <td>548.23</td>\n",
       "      <td>0.005764</td>\n",
       "      <td>0.002353</td>\n",
       "      <td>0.000623</td>\n",
       "    </tr>\n",
       "    <tr>\n",
       "      <th>33</th>\n",
       "      <td>Лимоны</td>\n",
       "      <td>1</td>\n",
       "      <td>1</td>\n",
       "      <td>119.93</td>\n",
       "      <td>0.005764</td>\n",
       "      <td>0.000588</td>\n",
       "      <td>0.000136</td>\n",
       "    </tr>\n",
       "    <tr>\n",
       "      <th>34</th>\n",
       "      <td>Зе Бест!</td>\n",
       "      <td>1</td>\n",
       "      <td>2</td>\n",
       "      <td>30.01</td>\n",
       "      <td>0.005764</td>\n",
       "      <td>0.001177</td>\n",
       "      <td>0.000034</td>\n",
       "    </tr>\n",
       "  </tbody>\n",
       "</table>\n",
       "</div>"
      ],
      "text/plain": [
       "                Регион  Количество мероприятий  Количество заказов  Выручка  \\\n",
       "30      Быстрый кассир                       1                   8  7780.71   \n",
       "31           Тех билет                       2                   5  1722.63   \n",
       "32  Билеты в интернете                       1                   4   548.23   \n",
       "33              Лимоны                       1                   1   119.93   \n",
       "34            Зе Бест!                       1                   2    30.01   \n",
       "\n",
       "    Доля мероприятий, %  Доля заказов, %  Доля выручки, %  \n",
       "30             0.005764         0.004707         0.008836  \n",
       "31             0.011528         0.002942         0.001956  \n",
       "32             0.005764         0.002353         0.000623  \n",
       "33             0.005764         0.000588         0.000136  \n",
       "34             0.005764         0.001177         0.000034  "
      ]
     },
     "metadata": {},
     "output_type": "display_data"
    }
   ],
   "source": [
    "# Теперь оценим партнеров\n",
    "service_date = all_df.groupby('service_name').agg({'event_id' : 'nunique',\n",
    "                                                  'order_id' : 'count',\n",
    "                                                  'revenue_rub' : 'sum'}).sort_values(by = 'revenue_rub', ascending = False).reset_index()\n",
    "service_date['share_event'] = service_date['event_id'] / service_date['event_id'].sum() * 100\n",
    "service_date['share_order'] = service_date['order_id'] / service_date['order_id'].sum() * 100\n",
    "service_date['share_revenue'] = service_date['revenue_rub'] / service_date['revenue_rub'].sum() * 100\n",
    "service_date.columns = ['Регион','Количество мероприятий', 'Количество заказов', 'Выручка',\n",
    "                       'Доля мероприятий, %', 'Доля заказов, %', 'Доля выручки, %']\n",
    "display(service_date.head(5))\n",
    "display(service_date.tail(5))\n"
   ]
  },
  {
   "cell_type": "markdown",
   "metadata": {},
   "source": [
    "**ВЫВОД:**\n",
    "\n",
    "При рассмотрении популярных регионов и партнеров были получены следующие результаты:\n",
    "- Каменский региона и Североярская область являются лидерами по количество проводимых мероприятий и осуществленным заказам. В  этих краях прошло свыше 43% от всех мероприятий, размещенных на Яндекс.Афише. Количество заказов, совершенных в этих областях составляет свыше 46% от общего числа заказов. Каменский регион - лидер.\n",
    "- Теплоозерский округ, Сосноводолинская область, Лесноярский край, Светолесский край и Верхозерский край - аутсайдеры, в этих местах было меньше всего мероприятий и заказов\n",
    "- В ТОП 3 партнера по выручке входят Билеты без проблем, Мой билет, Облачко - совместно 44% от всей выручки. Выручка от данных партнеров превышает значения в 2 млн.руб. от каждого, в то время как от остальных менее 1.8 млн.руб.\n",
    "- Аутсайдеры - Кино билет, Тех билет, Лимоны, Билеты в интернете, Зе Бест! - общая выручка менее 1% в общей картине выручки."
   ]
  },
  {
   "cell_type": "markdown",
   "metadata": {},
   "source": [
    "### Промежуточный вывод:\n",
    "\n",
    "В разделе были изучены все основные исследовательские задачи:\n",
    "- о заказах и их распределении по различным категориям - заметно наличие сезонных тенденций;\n",
    "- об активности пользователей - пользователей и заказов становится больше,есть дни массовой покупки билетов из-за низкой цены - дни низкой выручки за билет \n",
    "- о популярных события и партнерах - найдены популярные регионы для проведения мероприятий и ТОП 3 партнера по лучшим показателям выручки."
   ]
  },
  {
   "cell_type": "markdown",
   "metadata": {},
   "source": [
    "<a class=\"anchor\" id=\"5_charter\"></a> \n",
    "## Статистический анализ данных"
   ]
  },
  {
   "cell_type": "markdown",
   "metadata": {},
   "source": [
    "Коллеги из продуктового отдела хотят отдельно проверить несколько гипотез относительно активности пользователей мобильных и стационарных устройств. \n",
    "- Среднее количество заказов на одного пользователя мобильного приложения выше по сравнению с пользователями стационарных устройств.\n",
    "- Среднее время между заказами пользователей мобильных приложений выше по сравнению с пользователями стационарных устройств."
   ]
  },
  {
   "cell_type": "code",
   "execution_count": 71,
   "metadata": {},
   "outputs": [
    {
     "data": {
      "text/plain": [
       "15864"
      ]
     },
     "metadata": {},
     "output_type": "display_data"
    },
    {
     "data": {
      "text/plain": [
       "device_type_canonical\n",
       "desktop     4898\n",
       "mobile     14232\n",
       "Name: user_id, dtype: int64"
      ]
     },
     "execution_count": 71,
     "metadata": {},
     "output_type": "execute_result"
    }
   ],
   "source": [
    "all_df = all_df[all_df['season'] == 'Осень']\n",
    "display(all_df['user_id'].nunique())\n",
    "all_df.groupby('device_type_canonical')['user_id'].nunique()"
   ]
  },
  {
   "cell_type": "code",
   "execution_count": 87,
   "metadata": {},
   "outputs": [
    {
     "data": {
      "text/plain": [
       "count    14232.000000\n",
       "mean         9.508432\n",
       "std         68.421661\n",
       "min          1.000000\n",
       "25%          1.000000\n",
       "50%          2.000000\n",
       "75%          5.000000\n",
       "max       4358.000000\n",
       "Name: order_id, dtype: float64"
      ]
     },
     "metadata": {},
     "output_type": "display_data"
    },
    {
     "data": {
      "text/plain": [
       "count    4898.000000\n",
       "mean        7.071866\n",
       "std        36.160700\n",
       "min         1.000000\n",
       "25%         1.000000\n",
       "50%         2.000000\n",
       "75%         4.000000\n",
       "max      1507.000000\n",
       "Name: order_id, dtype: float64"
      ]
     },
     "metadata": {},
     "output_type": "display_data"
    }
   ],
   "source": [
    "#Узнаем статистические показатели среднего количество заказов по группам\n",
    "display(all_df[all_df['device_type_canonical'] == 'mobile'].groupby('user_id')['order_id'].count().describe())\n",
    "display(all_df[all_df['device_type_canonical'] == 'desktop'].groupby('user_id')['order_id'].count().describe())"
   ]
  },
  {
   "cell_type": "markdown",
   "metadata": {},
   "source": [
    "Исходя из полученного результата можно сделать вывод о том, что почти 3500 пользователей пользовались и компьютером и телефоном при оформлении заказов, кроме того, разница в количестве пользователей превышает 25%. Кроме того, из статистических показателей видно, что значения медианы очень сильно отличается от среднего в меньшую сторону. Это говорит о влиянии выбросов, которые таке заметны по показателю \"максимально значение\" - для мобильной версии 4358 заказов на одного пользователя, а по компьютеру - 1507 заказов. Эти факторы говорят о том, что  использование тестов Стьюдента не представляется возможным, так как выборки пересекаются и не являются независиыми. В данном случае лучше всего подойдет тест Манни-Уитни."
   ]
  },
  {
   "cell_type": "markdown",
   "metadata": {},
   "source": [
    "Сформируем первую гипотезу:  \n",
    "Нулевая (Н0) - среднее количество заказов на одного пользователя на телефоне меньше или равно чем на компьютере (M_mobile <= M_desktop)  \n",
    "Альтернативная (Н1) - среднее количество заказов на одного пользоваетля  на телефоне выше чем на компьютере (M_mobile > M_desktop)  "
   ]
  },
  {
   "cell_type": "code",
   "execution_count": 72,
   "metadata": {},
   "outputs": [
    {
     "data": {
      "text/plain": [
       "9.508431703204048"
      ]
     },
     "metadata": {},
     "output_type": "display_data"
    },
    {
     "data": {
      "text/plain": [
       "7.071866067782769"
      ]
     },
     "metadata": {},
     "output_type": "display_data"
    },
    {
     "data": {
      "text/plain": [
       "'Разница: 2.436565635421279'"
      ]
     },
     "metadata": {},
     "output_type": "display_data"
    }
   ],
   "source": [
    "# Узнаем состояние изучаемых метрик\n",
    "M_mobile = all_df[all_df['device_type_canonical'] == 'mobile'].groupby('user_id')['order_id'].count().mean()\n",
    "display(M_mobile)\n",
    "M_desktop = all_df[all_df['device_type_canonical'] == 'desktop'].groupby('user_id')['order_id'].count().mean()\n",
    "display(M_desktop)\n",
    "display(f'Разница: {M_mobile - M_desktop}')"
   ]
  },
  {
   "cell_type": "markdown",
   "metadata": {},
   "source": [
    "Разница в количестве страниц присутствует и составлет 2,4 заказа на пользователя. Учитывая распределение данных и наличие пересчений в группах, стоит применять тест Манна-Уитни."
   ]
  },
  {
   "cell_type": "code",
   "execution_count": 73,
   "metadata": {},
   "outputs": [
    {
     "name": "stdout",
     "output_type": "stream",
     "text": [
      "pvalue=1.6412858633267908e-07 < 0.05\n",
      "Нулевая гипотеза не находит подтверждения! Распределения метрики в группах различаются\n"
     ]
    }
   ],
   "source": [
    "alpha = 0.05\n",
    "mw_test = mannwhitneyu(\n",
    "    all_df[all_df['device_type_canonical'] == 'mobile'].groupby('user_id')['order_id'].count(),\n",
    "    all_df[all_df['device_type_canonical'] == 'desktop'].groupby('user_id')['order_id'].count(),\n",
    "    alternative='greater'\n",
    ")\n",
    "\n",
    "if mw_test.pvalue > alpha:\n",
    "    print(f'pvalue={mw_test.pvalue} > {alpha}')\n",
    "    print('Нулевая гипотеза находит подтверждение! Распределения метрики в группах равны')\n",
    "else:\n",
    "    print(f'pvalue={mw_test.pvalue} < {alpha}')\n",
    "    print('Нулевая гипотеза не находит подтверждения! Распределения метрики в группах различаются')"
   ]
  },
  {
   "cell_type": "markdown",
   "metadata": {},
   "source": [
    "При проведении оценки статистической значимости расхождений с помощью теста Маннау-Уитни было получено pvalue = 1.673535712895521e-07 < 0.05. Нулевая гипотеза не подтверждается, значит метрики в двух группах действительно различаются."
   ]
  },
  {
   "cell_type": "markdown",
   "metadata": {},
   "source": [
    "Сформируем вторую гипотезу:  \n",
    "Нулевая (Н0) - среднее время между заказами пользователей мобильного приложения больше или равно чем у пользователей стационарных устройств (M_desktop <= M_mobile)  \n",
    "Альтернативная (Н1) - среднее время между заказами пользователей мобильного приложения больше или равно чем у пользователей стационарных устройств (M_desktop > M_mobile)"
   ]
  },
  {
   "cell_type": "markdown",
   "metadata": {},
   "source": [
    "Учитывая, что пользователи могут оформлять билеты как с мобильной версии приложения так и с версии для станционарных устройств, то получить точные значения времени между заказами невозможно, так как пользователь мог совершить прошлый заказ с другого устройства. Стоит выбрать только тех пользователей, которые постоянно совершают заказ с компьютера и с телефона и оценить их среднее время между заказами."
   ]
  },
  {
   "cell_type": "code",
   "execution_count": 74,
   "metadata": {},
   "outputs": [
    {
     "data": {
      "text/html": [
       "<div>\n",
       "<style scoped>\n",
       "    .dataframe tbody tr th:only-of-type {\n",
       "        vertical-align: middle;\n",
       "    }\n",
       "\n",
       "    .dataframe tbody tr th {\n",
       "        vertical-align: top;\n",
       "    }\n",
       "\n",
       "    .dataframe thead th {\n",
       "        text-align: right;\n",
       "    }\n",
       "</style>\n",
       "<table border=\"1\" class=\"dataframe\">\n",
       "  <thead>\n",
       "    <tr style=\"text-align: right;\">\n",
       "      <th></th>\n",
       "      <th>device_type_canonical</th>\n",
       "      <th>user_id</th>\n",
       "      <th>days_since_prev</th>\n",
       "    </tr>\n",
       "  </thead>\n",
       "  <tbody>\n",
       "    <tr>\n",
       "      <th>0</th>\n",
       "      <td>desktop</td>\n",
       "      <td>0028d17a676f8c8</td>\n",
       "      <td>NaN</td>\n",
       "    </tr>\n",
       "    <tr>\n",
       "      <th>1</th>\n",
       "      <td>desktop</td>\n",
       "      <td>002b75ca606ba46</td>\n",
       "      <td>4.666667</td>\n",
       "    </tr>\n",
       "    <tr>\n",
       "      <th>2</th>\n",
       "      <td>desktop</td>\n",
       "      <td>002ec276eee9b0b</td>\n",
       "      <td>10.000000</td>\n",
       "    </tr>\n",
       "    <tr>\n",
       "      <th>3</th>\n",
       "      <td>desktop</td>\n",
       "      <td>0040e12d70fae81</td>\n",
       "      <td>39.000000</td>\n",
       "    </tr>\n",
       "    <tr>\n",
       "      <th>4</th>\n",
       "      <td>desktop</td>\n",
       "      <td>005fefeabf1e678</td>\n",
       "      <td>0.000000</td>\n",
       "    </tr>\n",
       "    <tr>\n",
       "      <th>...</th>\n",
       "      <td>...</td>\n",
       "      <td>...</td>\n",
       "      <td>...</td>\n",
       "    </tr>\n",
       "    <tr>\n",
       "      <th>19125</th>\n",
       "      <td>mobile</td>\n",
       "      <td>ffe73c50cbd71fc</td>\n",
       "      <td>0.000000</td>\n",
       "    </tr>\n",
       "    <tr>\n",
       "      <th>19126</th>\n",
       "      <td>mobile</td>\n",
       "      <td>ffed3ff067d4f12</td>\n",
       "      <td>26.000000</td>\n",
       "    </tr>\n",
       "    <tr>\n",
       "      <th>19127</th>\n",
       "      <td>mobile</td>\n",
       "      <td>fff13b79bd47d7c</td>\n",
       "      <td>20.666667</td>\n",
       "    </tr>\n",
       "    <tr>\n",
       "      <th>19128</th>\n",
       "      <td>mobile</td>\n",
       "      <td>fffcd3dde79eb2c</td>\n",
       "      <td>4.000000</td>\n",
       "    </tr>\n",
       "    <tr>\n",
       "      <th>19129</th>\n",
       "      <td>mobile</td>\n",
       "      <td>ffff00725179321</td>\n",
       "      <td>NaN</td>\n",
       "    </tr>\n",
       "  </tbody>\n",
       "</table>\n",
       "<p>19130 rows × 3 columns</p>\n",
       "</div>"
      ],
      "text/plain": [
       "      device_type_canonical          user_id  days_since_prev\n",
       "0                   desktop  0028d17a676f8c8              NaN\n",
       "1                   desktop  002b75ca606ba46         4.666667\n",
       "2                   desktop  002ec276eee9b0b        10.000000\n",
       "3                   desktop  0040e12d70fae81        39.000000\n",
       "4                   desktop  005fefeabf1e678         0.000000\n",
       "...                     ...              ...              ...\n",
       "19125                mobile  ffe73c50cbd71fc         0.000000\n",
       "19126                mobile  ffed3ff067d4f12        26.000000\n",
       "19127                mobile  fff13b79bd47d7c        20.666667\n",
       "19128                mobile  fffcd3dde79eb2c         4.000000\n",
       "19129                mobile  ffff00725179321              NaN\n",
       "\n",
       "[19130 rows x 3 columns]"
      ]
     },
     "execution_count": 74,
     "metadata": {},
     "output_type": "execute_result"
    }
   ],
   "source": [
    "# Узнаем среднее время заказов пользователей\n",
    "user_by_md = all_df.groupby(['device_type_canonical', 'user_id'])['days_since_prev'].mean().reset_index()\n",
    "user_by_md"
   ]
  },
  {
   "cell_type": "code",
   "execution_count": 75,
   "metadata": {
    "scrolled": true
   },
   "outputs": [
    {
     "data": {
      "text/plain": [
       "['f7a0146fc193947',\n",
       " '666abded97d8aa1',\n",
       " '90d3d49ebe18300',\n",
       " '35568fdd2689a4b',\n",
       " '014d39a51e32a03',\n",
       " 'e6d9fd5efffc27b',\n",
       " 'ecaaf287834c0e1',\n",
       " '2fde2bd3b8c1f2e',\n",
       " 'c904a0165e66c35',\n",
       " 'b6ffff236c675ac',\n",
       " '9fee7ea0b48bd2a',\n",
       " '23c7f5765a4dc25',\n",
       " '04716f6f34ea66b',\n",
       " '43b3c3ea3dfe223',\n",
       " '3240834d0b5d360',\n",
       " '92a1520b8130c52',\n",
       " 'e01834701180238',\n",
       " '097dc038ddd11bf',\n",
       " '4870437fb35e917',\n",
       " 'd8767303aa6ddb7',\n",
       " '708ae83aa902a7b',\n",
       " 'c43453c3610b08a',\n",
       " '8746170843d9d54',\n",
       " 'b344c148a4ac657',\n",
       " '60238d5383494d9',\n",
       " 'd9fb724cd6cc232',\n",
       " 'b4d71019c0c5915',\n",
       " '2727d2cee2191db',\n",
       " '9dd1ea98e391ecb',\n",
       " '03ad8c7a2514a67',\n",
       " '32b897d499ffb66',\n",
       " 'ad6263cbbbe3657',\n",
       " '56d47ea6fe73974',\n",
       " '4866855725010d1',\n",
       " 'd7895a3477a6113',\n",
       " '922ce62178fe531',\n",
       " '55ed96b8deffc45',\n",
       " '1a66f181a803c75',\n",
       " '7c47fc331c8e9fd',\n",
       " 'fb2209ca9c8a3a4',\n",
       " 'affeb2ae5f99c25',\n",
       " '1d97278b41df98f',\n",
       " '8b26b596b2299da',\n",
       " 'e7baf14aea1df9a',\n",
       " '3df883298a48c49',\n",
       " 'a9aa4af9bb53cd7',\n",
       " 'af26d5b5924d2f3',\n",
       " '6f416d815d76fe7',\n",
       " '2334ac3fa90a68c',\n",
       " '3ae9629b85c6d96',\n",
       " 'a4cdd45e68476a2',\n",
       " 'c4b59bd73ffc152',\n",
       " '305f22db20857d9',\n",
       " '992017ec305bf3b',\n",
       " '0fe9fd52e8427ae',\n",
       " '1ad8929c9447d7a',\n",
       " 'f721bf84bccd2d5',\n",
       " '0c48c4874faa486',\n",
       " '733708d98ced39c',\n",
       " 'bc5316788167e3b',\n",
       " '09858eb44735ed9',\n",
       " '1e3eab3aedb74d4',\n",
       " '5398de0e9942edb',\n",
       " '813c0113e12c5f5',\n",
       " 'c254979a4cf9d1f',\n",
       " 'eafdff380b2657d',\n",
       " '1f386beaa063714',\n",
       " '4745542d9f363a7',\n",
       " '89eb12473dfd5e1',\n",
       " '7169a9610011672',\n",
       " 'e35e526ac722993',\n",
       " '25cfa3398e4932c',\n",
       " '509a4464aa0cf59',\n",
       " '0d0d311d13365cf',\n",
       " '63c8c7cb5f6bdd5',\n",
       " 'ff840c2bf377690',\n",
       " '1c4746f587702a6',\n",
       " 'b7dffbf577a082b',\n",
       " '272191c95ae581d',\n",
       " '826830eb1ce1169',\n",
       " '14442eca13b2cca',\n",
       " '105888ff5de4a73',\n",
       " 'f28f4ba18d85394',\n",
       " 'a1b51afb4188fa5',\n",
       " 'fb93f33f51fc968',\n",
       " '692a674b4222be5',\n",
       " '59893258039297e',\n",
       " '223929829c1d021',\n",
       " 'b5a097660ef9a6f',\n",
       " '1398a9f5e8b4ac8',\n",
       " '7fdc728072cfb0a',\n",
       " 'e4682e3bf249e35',\n",
       " '4941149a14754ce',\n",
       " '67519cb658a6411',\n",
       " 'eb3ecf7fd1412cf',\n",
       " 'f3e93609c1849a5',\n",
       " '533b80b309efe44',\n",
       " '8cd173a3679b199',\n",
       " '396e91fa33ec90b',\n",
       " '57ff2437f152580',\n",
       " '8860b4ff17fcc70',\n",
       " '788087e88da82a1',\n",
       " '6813db4ffc9a33a',\n",
       " 'fe729d6c0624862',\n",
       " '0d707cc27e906cd',\n",
       " '991f4790499dd13',\n",
       " 'fb21741699a1707',\n",
       " 'f621099589dbde0',\n",
       " '9b83e3af86b811d',\n",
       " 'abf8b940873f97c',\n",
       " '560594a95e78309',\n",
       " '663e210f7cf9fe7',\n",
       " '928c0562a2fd71e',\n",
       " 'c64d59fc31266d8',\n",
       " '670928d04526590',\n",
       " '0ba0916b82d2bdd',\n",
       " 'c8314c817c3385f',\n",
       " '555ab1e99054cb1',\n",
       " '2e089a83b1c53d7',\n",
       " 'e993c38f6ad9427',\n",
       " '7ac45a014bc7e06',\n",
       " '36485a3b3bf5f5f',\n",
       " '1f50093d21b108b',\n",
       " '07fac55c42e3414',\n",
       " '97b73ef4feb6690',\n",
       " 'cb684e5658f3b91',\n",
       " '355de7158726ec6',\n",
       " 'c02e67523e534d6',\n",
       " '252a07c65c85971',\n",
       " '5c24b92853fb7cd',\n",
       " '730fd896651f1da',\n",
       " '06eb7897f65b433',\n",
       " '73d0700735ef939',\n",
       " '96368e5714d1673',\n",
       " '96bd3757671edee',\n",
       " 'b9593727de119fc',\n",
       " 'c949da9d164c71a',\n",
       " 'cb3489b3169716c',\n",
       " 'a1df02200a08002',\n",
       " '2ac24e1496eca35',\n",
       " 'ea996b287daf4b5',\n",
       " '22017e4862092e7',\n",
       " '463d468bb739ba9',\n",
       " '329b1a3e6200037',\n",
       " '39207dfaf73d679',\n",
       " '96d572b21c9d950',\n",
       " 'fc56dc513a7aa2a',\n",
       " '952263efdc63e5d',\n",
       " '32fff932e1e96d6',\n",
       " 'f87039fbb9937eb',\n",
       " '14faa2c2a24904c',\n",
       " '4a69479f304066b',\n",
       " '3902623e086b773',\n",
       " '205428256274241',\n",
       " 'e5caa3387c1a874',\n",
       " 'ccc423be909e8c5',\n",
       " '45d49c476c93ca6',\n",
       " '16329d647baf182',\n",
       " '54c3d527d8c38df',\n",
       " '94ccc8d7bb3a4d8',\n",
       " 'c22bc8c9bce059d',\n",
       " '164894fcbf28267',\n",
       " '60d09a82e783d09',\n",
       " '5771bc571cf7f37',\n",
       " 'd7ec9b772cc82c7',\n",
       " '3f0f9c553bf370f',\n",
       " '7616f57d0c88cab',\n",
       " '93403461fe68582',\n",
       " 'af1499d20a10ce8',\n",
       " '1e407ecca806464',\n",
       " '2eec351240152dd',\n",
       " '2e580c0e30fa03d',\n",
       " 'aac16d543cfc2ca',\n",
       " 'af23c067a7a2f8f',\n",
       " '8e1d9841b0fae24',\n",
       " 'd13a10ac25ae4f4',\n",
       " '9f9d4b26aa8a016',\n",
       " 'f6a31c3e426b7f4',\n",
       " 'b618521c9fb8b5c',\n",
       " '8cca70dc78a13f7',\n",
       " 'd86f883f1c52bf8',\n",
       " 'a1e8fec88287e98',\n",
       " '256df38ebfe4f1c',\n",
       " 'c5300b2977b819e',\n",
       " 'e55cdabb75eeef4',\n",
       " '2b8fb6b6aca6ca5',\n",
       " '743387d56268eb9',\n",
       " '8347a281df238e9',\n",
       " '8c048b50e13fe22',\n",
       " 'e0828b596bbf4bd',\n",
       " '4c8fe65669aab3f',\n",
       " 'b14a9b3638f7a39',\n",
       " 'f6522727bcc9e66',\n",
       " 'b5293cfc33c715a',\n",
       " '2bf8877b04e2761',\n",
       " '5e94e92b5d72271',\n",
       " '6f7e93a91ce349a',\n",
       " '3365d2ab36a3c13',\n",
       " 'a5cb909ca7e5f08',\n",
       " '1661c382a640334',\n",
       " '27f42ec8f707ba9',\n",
       " 'b61068b03c5f9fb',\n",
       " '7732e86dd3a62db',\n",
       " 'c0680671a3c7f75',\n",
       " 'f9181346d331074',\n",
       " '1598a22548f7b4e',\n",
       " '91a98b70e3f470b',\n",
       " 'de4b71555c7fcc9',\n",
       " '770528de4186887',\n",
       " 'd464a19614ad040',\n",
       " 'af2eea763f8f029',\n",
       " '4c287d557cee1ab',\n",
       " '6835891fec1ff49',\n",
       " 'b5ecbee7c8fe379',\n",
       " 'fd4d47438ebb946',\n",
       " '9baf50336ad7171',\n",
       " '1959e050e274bfd',\n",
       " '5fb209b1dfe7553',\n",
       " '7d73b8da46f3f04',\n",
       " '356bd429e3edf9c',\n",
       " '6221adf2397ae5a',\n",
       " '68a086bd02492e7',\n",
       " 'de442ca210bc5f8',\n",
       " '9a80ea670384878',\n",
       " 'ab8468075883147',\n",
       " '206fbebc6b410cc',\n",
       " '473179981153516',\n",
       " '4b49d4f93d5cd86',\n",
       " '281b16b63ffac52',\n",
       " '3327703b0afd9d9',\n",
       " '6459e50036af48c',\n",
       " '96e77baa6246163',\n",
       " '0b0008d6382aa90',\n",
       " 'afbe84b320a018b',\n",
       " 'b94e965d55593e9',\n",
       " '22b5fbe654b9401',\n",
       " '3d58fa6ad12b6ce',\n",
       " '8a365e38ba78b86',\n",
       " '77c8a9649a92916',\n",
       " 'd43ae67d2c795be',\n",
       " 'baa884ea4484e2d',\n",
       " '6c369cd4a10e172',\n",
       " '8f0d39de46f36f3',\n",
       " '99bd94c15cf8d7f',\n",
       " '41f0542293392c4',\n",
       " '77eba1002a839ca',\n",
       " '0d27dadd637f49b',\n",
       " 'bc8b2c7e044be5e',\n",
       " '498424b2c7f16c3',\n",
       " 'b937a1521939d5d',\n",
       " '40c96a8311c1ae1',\n",
       " '9a847fe99956c95',\n",
       " 'b4295770c18cc86',\n",
       " '5d262e40ec5b2a2',\n",
       " '624715c1b24d005',\n",
       " '8243ad8d159b130',\n",
       " 'b0e4026ab6da68a',\n",
       " 'fe80122ed490bb5',\n",
       " '60a5830d54d48a8',\n",
       " '926504a9508cbb3',\n",
       " '43913dc0fdda1e4',\n",
       " 'e91ee82a4afe4c8',\n",
       " '462cb1976dabae9',\n",
       " '27605775799b6dd',\n",
       " '5baece435c6919a',\n",
       " 'ad315c028ec4545',\n",
       " 'e0bb0dba7fd2b8f',\n",
       " '8d8d256ddcb72ff',\n",
       " 'ab751e152297818',\n",
       " '66fd6e6de03ccdc',\n",
       " '16ea30d9a6417fd',\n",
       " 'e5f4f01c292a9e2',\n",
       " '35564a44c5a2cee',\n",
       " 'b90097c80a2cb7f',\n",
       " '14a81c560d778c4',\n",
       " '2ad9366cbb7e652',\n",
       " '024dc5236465850',\n",
       " 'd84a474922aa0e4',\n",
       " 'b1d1cba963a4038',\n",
       " 'ccd00018804a932',\n",
       " 'bfcb1e3259026b3',\n",
       " 'e34bae798ca2059',\n",
       " 'eb88a16d2bd9fde',\n",
       " 'e226cc9d03c48ad',\n",
       " 'a89eade43e4d1c3',\n",
       " '6e679fb4bd69b93',\n",
       " 'c1f0c9a10fafeee',\n",
       " '570663d186a3a7b',\n",
       " 'f6af1139a64d911',\n",
       " 'a556e137c9008e5',\n",
       " 'bf8f29a407e2fae',\n",
       " 'c578097a3ea3e4d',\n",
       " '57a698f16e2d75d',\n",
       " '119c6dbd20e06d8',\n",
       " '6ab1cd8f516fbcf',\n",
       " '25e09cd176ae7c7',\n",
       " '4dd06933c6873d0',\n",
       " '05390576c72ff0e',\n",
       " '757c3bd2b874f27',\n",
       " '4485c774211a829',\n",
       " 'f10183ea6b03ac4',\n",
       " '51f61695220d54a',\n",
       " '90270b1235857d5',\n",
       " '6340d0b890546fa',\n",
       " 'b5f57883879e2f4',\n",
       " '19ed243ae88a0e2',\n",
       " '7905e1ad9c5c9a6',\n",
       " '0ce9e24aaf0d7fe',\n",
       " '8dbb77a73cc0345',\n",
       " '613a26ca933d9a7',\n",
       " '60b877a80e9a09f',\n",
       " '696a8b62ae82672',\n",
       " '062202455094ad2',\n",
       " '1ecc9e34a3159f8',\n",
       " '4cf0d9f74d1dd71',\n",
       " '52022ca0ab87b8a',\n",
       " '133af0bccc2defa',\n",
       " '49f44df2fcbebb0',\n",
       " '911a69be3dcb979',\n",
       " '3de72a7cbd84adc',\n",
       " '972424590472a3b',\n",
       " 'dc205401360f3ff',\n",
       " '94aec0f244cc889',\n",
       " '281a080db804168',\n",
       " '01f567d5c80c808',\n",
       " '9720a43a4f26f5b',\n",
       " '60074dcea49b6b2',\n",
       " '7476ea319791722',\n",
       " '746265f06f9ea07',\n",
       " '93d051903159cbd',\n",
       " 'ec8b9b3eba85bf5',\n",
       " 'c07c6e600ed166f',\n",
       " 'c5a280a11620ee9',\n",
       " '702f1d7ec725a09',\n",
       " 'e6bed6da267dba6',\n",
       " 'fca9e11c944e35b',\n",
       " '896ef56284d9cc3',\n",
       " '191fa011b8814ec',\n",
       " 'e55cf881b70d306',\n",
       " 'bed4bac42ce0496',\n",
       " '543e560f3bb7b2a',\n",
       " '23daa7d884bee60',\n",
       " '6713badbfbfd8c4',\n",
       " '7a3651f9c062db4',\n",
       " 'bcdc42173061238',\n",
       " '236307778fecbd3',\n",
       " '9103be7b790235f',\n",
       " '6a3af5230c0fe77',\n",
       " '00ab1d21393d532',\n",
       " '5bdc98b24b614e7',\n",
       " '6acf69c3c1b3b52',\n",
       " '78de607f78bb860',\n",
       " '7b8ebb61f73c347',\n",
       " '2c8855840da3b47',\n",
       " '1d9204aff100551',\n",
       " '5a731277b044e84',\n",
       " 'a14c2bcc8918e49',\n",
       " '645bfb05d23a85a',\n",
       " '9c9922e9e501faf',\n",
       " 'd669b1f7760491f',\n",
       " '9b92cad2e2ab008',\n",
       " '8d60ded48987df8',\n",
       " 'fc837f5a0c671b1',\n",
       " '1b2a3ab73a522d8',\n",
       " '929fa8fb14f4e7b',\n",
       " '5b2a44448993666',\n",
       " '339f6a1ca919c79',\n",
       " 'd4c35012d2586e4',\n",
       " 'fcbc00010438282',\n",
       " '944f2a0f917f570',\n",
       " '9d785578075ed7d',\n",
       " '6e74f61553a3f4b',\n",
       " 'c6861edccd45041',\n",
       " '50bca38f7db0eb2',\n",
       " '45b67db2c14ed34',\n",
       " 'b24acc39d810cd2',\n",
       " 'c65dbef7ab317de',\n",
       " 'd88f7b08b2698d1',\n",
       " '621ea23457578ee',\n",
       " '1c2086b12e37403',\n",
       " '79315a416b52061',\n",
       " 'c1f0a3b869682ae',\n",
       " 'd720be37facce1c',\n",
       " '0e218c0bb602230',\n",
       " '53b281ff5fada99',\n",
       " 'd809ae0290b17fe',\n",
       " '586554d7702cea7',\n",
       " '9402cc20d69d44f',\n",
       " '02ccac3e625a215',\n",
       " '2b1f730d7024681',\n",
       " 'c514c06c63aef08',\n",
       " 'e3c444c0caa4a33',\n",
       " 'a2cfc926084e15b',\n",
       " 'b916100adfff4ea',\n",
       " '08b7f8a3a38362e',\n",
       " 'd3c861a3ad394c0',\n",
       " 'fa30444978894f1',\n",
       " 'bb1e257bf430031',\n",
       " 'eaefc72e6716d97',\n",
       " 'b85f7e51cc8b74c',\n",
       " '1c8258021ec88f0',\n",
       " '4f6302c4412be9e',\n",
       " '5a9999a41805370',\n",
       " 'fe4d4062301a853',\n",
       " 'fe6a68c787f5b5d',\n",
       " 'fffcd3dde79eb2c',\n",
       " '125b899851eaea5',\n",
       " '3709bb304ee3774',\n",
       " 'fed639acdaafdb3',\n",
       " '275a1207223dfa3',\n",
       " '5be160e819782c3',\n",
       " '7130bbbef44f7c8',\n",
       " '2f869e688770924',\n",
       " 'c063fcc80ded9df',\n",
       " '3e5d830c5d92e16',\n",
       " 'd0d270e580f06bc',\n",
       " '2015123fda51417',\n",
       " 'ef76f8bd53a38da',\n",
       " 'f105c1fb436d682',\n",
       " 'cfd21a3210b5a35',\n",
       " '247521d9c1516f6',\n",
       " '573898904fd68ae',\n",
       " '96a7418d581d152',\n",
       " '0315944009e1928',\n",
       " 'b999e727a3354de',\n",
       " '317e2e957d556b1',\n",
       " 'c96b961916a84fb',\n",
       " '877e948fafbb345',\n",
       " '404e26fea98b5de',\n",
       " '10ade0fcfe69c2e',\n",
       " '3724ed7ac38b8ac',\n",
       " 'cd77ad12a3be1b1',\n",
       " 'e6933452ced7b54',\n",
       " 'fe8fd21b2ca4d91',\n",
       " '86de9fcef2890d3',\n",
       " '561d7bc837fae17',\n",
       " '5001885a4e06011',\n",
       " 'a25da0c4f2b31cb',\n",
       " '7000cab8bbccf7f',\n",
       " '81e735400e60e96',\n",
       " '828e1cd748372c4',\n",
       " '298170b2a02fd25',\n",
       " 'ae027aab83ccb32',\n",
       " '4fa401fca3b0452',\n",
       " 'b1a6bedf6ff951d',\n",
       " 'd54a70442b39259',\n",
       " '7314bcdf0018d6e',\n",
       " 'f848923ccd64db1',\n",
       " '2dac54c19279527',\n",
       " '2c395b8c88fd7e1',\n",
       " '5a141b76e217479',\n",
       " 'aa5d0a865ba1d6d',\n",
       " '3c0c714ff139da0',\n",
       " '1a1472917fc513d',\n",
       " 'aca38b898566eff',\n",
       " 'e3010bd817e7363',\n",
       " 'e6877bb6656dd1c',\n",
       " 'e5b054013876883',\n",
       " 'a1fc5659cc0268c',\n",
       " 'e801cf685a4f7c7',\n",
       " 'fc950d43881de43',\n",
       " '0e962445084918d',\n",
       " '9486fcf5af179bc',\n",
       " 'd7b549be3fffb19',\n",
       " '5e66a197627e3ba',\n",
       " '90d01715e121020',\n",
       " '30df2644f473577',\n",
       " '3a62574381f7aec',\n",
       " 'acddb815a4ad10e',\n",
       " '4b3f9ba6cf3685a',\n",
       " '1afe7ff378909c2',\n",
       " 'c3bfc6d4b0cc207',\n",
       " 'be298840924f2dd',\n",
       " '13a943680f73655',\n",
       " 'bbbe3149b012afc',\n",
       " 'ec052e109801519',\n",
       " '495395bb434e7ea',\n",
       " '319aa8d5c2bd7ae',\n",
       " '782dada30316409',\n",
       " 'fa2a6111a94deb7',\n",
       " '30f80bcaad15c00',\n",
       " 'f17fcdd8b032749',\n",
       " '736df0a6df2e05e',\n",
       " '976686e904c04b6',\n",
       " 'b99f3746d279c06',\n",
       " 'c50489992ab38ee',\n",
       " '92d11d65f4ea799',\n",
       " 'b13a3ef69d2dd28',\n",
       " '099e1511e2243c4',\n",
       " '3a120ea8323ae97',\n",
       " 'a2e2def0ce5a42d',\n",
       " 'b0b880f6f6dc8d0',\n",
       " 'b8650da414bb9c4',\n",
       " 'eebad7e760555ec',\n",
       " '621d0f4390bf825',\n",
       " '654bbff58e1595c',\n",
       " '323935016e51bf5',\n",
       " '69d4c1625995449',\n",
       " '73df3f7ebc6ab0b',\n",
       " 'd83405b8227ab3f',\n",
       " '5acce182a4eae34',\n",
       " 'afdbfa5aae49b3b',\n",
       " 'c7442f3dc601840',\n",
       " '0de99f3b8d84b7d',\n",
       " 'dd51cf07a593fcc',\n",
       " 'f04eb3bb2657868',\n",
       " 'e2714544538635b',\n",
       " 'b5eb431428aa50f',\n",
       " '2fff90cc9dfdf2b',\n",
       " '94c21c40b1d6376',\n",
       " '96cc99fa91ad24c',\n",
       " 'c9057c415fe1006',\n",
       " 'b78552412db654f',\n",
       " 'd83a3c12b141d8d',\n",
       " '011becee63d8a50',\n",
       " '0306ce6fee53523',\n",
       " '4c4848f6e050cbe',\n",
       " '57f073e7330bac0',\n",
       " '07bbae54c0e3c74',\n",
       " '438b122a4da465e',\n",
       " '6a345af169d301e',\n",
       " 'bac0c285c80f77c',\n",
       " 'd9405f508397923',\n",
       " '86d64bd3d47235c',\n",
       " 'dbfb2af7356f7af',\n",
       " '245d9f0e5542f53',\n",
       " '948f1635efbfb9f',\n",
       " 'd80bb1daf85f237',\n",
       " '539da7bb20e4c2b',\n",
       " '59773c120303e1f',\n",
       " 'c6ef049c34ebdc5',\n",
       " '72e31a44b986ad0',\n",
       " 'aafb66ec2c9ea48',\n",
       " 'd513f28e89c9d3a',\n",
       " 'dddfa46f2b72c56',\n",
       " '65128fe51e4fded',\n",
       " 'bc7735fc1f84bcc',\n",
       " '21a37a060be63c5',\n",
       " '7842dbc6f6bd43f',\n",
       " '2746d0b6e0f2f6f',\n",
       " 'bfcb17c5365f039',\n",
       " 'b02e79557734f7a',\n",
       " 'cfffea630ce0597',\n",
       " 'd57c7c92eb53d0f',\n",
       " '0e5e3b8c7463ea4',\n",
       " 'a731a47f149e8af',\n",
       " 'c137c851abe6016',\n",
       " 'cd03309aed89117',\n",
       " 'ee50e778afe4260',\n",
       " 'b858c028c875820',\n",
       " '351046f0523bc44',\n",
       " 'dac40e4077d8097',\n",
       " 'c19c149e410d83c',\n",
       " 'fa29aaa3c1d5c0c',\n",
       " 'c26d3592b09d59a',\n",
       " 'ddbb829cc7e541b',\n",
       " 'e81aedb4eb32087',\n",
       " 'e8be0c946d4f232',\n",
       " '59fab72b6d95bc9',\n",
       " '2a38632dd8c14d5',\n",
       " '19d655adcf953d4',\n",
       " 'f5efc07a01c6b1e',\n",
       " '138e1faacde17f1',\n",
       " 'd63a4755fe92a14',\n",
       " '0101ef3edcc444e',\n",
       " '87067b21decdf8f',\n",
       " 'de54ee95d8a7c96',\n",
       " '34b2f07283266a9',\n",
       " 'e26e26c770d0b1b',\n",
       " 'bd8969b25b6f321',\n",
       " '0bc868062d5878a',\n",
       " '1bcd0194fc4a69f',\n",
       " 'f6586dea5fc9178',\n",
       " 'b696487efed715a',\n",
       " '8f4e4d4a4ae404e',\n",
       " 'f219011e3b8c9d7',\n",
       " 'a6c29ab806e766e',\n",
       " '50eac21730532e2',\n",
       " '48db4894b715911',\n",
       " '400a9250378dab2',\n",
       " 'b8ea914a97e9f79',\n",
       " 'f5c76896a81c2b0',\n",
       " 'edb6024f13195ae',\n",
       " '71b552cf47efb10',\n",
       " '9bbe3534bbaa8e1',\n",
       " 'c985cce868c5a37',\n",
       " '43d6e3a32f36b13',\n",
       " 'a72cfc76b357839',\n",
       " '89c88329f2f57f5',\n",
       " '9b3e8cf51a6aedb',\n",
       " '569f3d7b4cf74b5',\n",
       " '092ad14229d884a',\n",
       " '07c1a6dc7abaa79',\n",
       " '9eff969a002a9c1',\n",
       " '8abf599e5a3f89c',\n",
       " 'a844511cb293dee',\n",
       " 'e3233f8c7eadd95',\n",
       " 'cff37e65efb7b76',\n",
       " '822151183d916c4',\n",
       " '243e52730aa97c7',\n",
       " '9ce88c6c82ca4ec',\n",
       " 'e48aa68c80496ac',\n",
       " 'c450d4a16429d42',\n",
       " 'baf221ab63408e0',\n",
       " '557f93a02f5a776',\n",
       " '30284fa54bc1bf2',\n",
       " '1df0d3e43279985',\n",
       " 'e504837e9afab52',\n",
       " 'cb8fc0bfd6f2f76',\n",
       " '93e7855af1778a9',\n",
       " 'bd493469046d8ad',\n",
       " 'ef32b616102d621',\n",
       " '143ff697d515d67',\n",
       " '5db4ea81909b842',\n",
       " '70019b76d64130e',\n",
       " '29fd7521cc06e0d',\n",
       " '9ce30a8c7e956a2',\n",
       " '36fdb1aa3676d46',\n",
       " '3bc5bf467ad8f29',\n",
       " '7c4e8b1abfdae07',\n",
       " '51740274364e370',\n",
       " '7511759c372fea1',\n",
       " '9d12689c4a1f28e',\n",
       " '9fe5fc63ede68ed',\n",
       " 'a927adc5ac6fcf9',\n",
       " 'a5597b4887c922d',\n",
       " 'b6d359e7e53f88b',\n",
       " '1c0e6f4decedd8d',\n",
       " 'eb3bcf81738b42b',\n",
       " '2b7371d7c8e7454',\n",
       " '8f00eac0ec93248',\n",
       " '1fa4eb46859c06d',\n",
       " '4dad619d9c17ea7',\n",
       " '9776ca47e36f20c',\n",
       " 'b8fbbda9518a6c0',\n",
       " 'a5d5f39bf5a21b3',\n",
       " 'f07f5cdebad9258',\n",
       " '354e32a7bd40137',\n",
       " '07f6b473454e233',\n",
       " 'ae8e3d5af3036a6',\n",
       " '49fc9f884fbf3af',\n",
       " '268df6f395fe3f7',\n",
       " '10d226da7a158d1',\n",
       " '93ca3682dfbf7f6',\n",
       " 'd8a62d06edb6a9d',\n",
       " 'f312ae2133408be',\n",
       " '167445a3502d8c4',\n",
       " '85c15f00ebab607',\n",
       " '26e6f975d148a28',\n",
       " 'a9c5861d0054aeb',\n",
       " 'c3a9ee7f75238a6',\n",
       " '1e659ad2ab78354',\n",
       " 'a5aeb6ee76da32d',\n",
       " 'c7d4d0d8a2f0135',\n",
       " 'de111731c5580de',\n",
       " '04296aa26ec3adb',\n",
       " '46ea71170f39cf9',\n",
       " 'b4d585258d838b1',\n",
       " 'c2a4913038c9f18',\n",
       " 'ccef659f963a5bf',\n",
       " 'e617bb564c5812e',\n",
       " '077c4b54368a1cf',\n",
       " '5f79061ceaa6606',\n",
       " '451899891fda9f7',\n",
       " 'ca4fc4186851001',\n",
       " 'c63c9fc15922a7a',\n",
       " '0a725b574ebb459',\n",
       " '2003f8b7963d828',\n",
       " '66e67112009b2cc',\n",
       " 'eba317b20c00a78',\n",
       " '5da39f6f12f4905',\n",
       " '76e42f8085526dc',\n",
       " '60ea4937ad26ac5',\n",
       " '03854e2d8c46d82',\n",
       " '2b8d135856354d0',\n",
       " 'cd9b528e269c4b2',\n",
       " '75c7893ea1eb7ef',\n",
       " 'b52e1b054c35a9d',\n",
       " '28009db2d0a66db',\n",
       " 'ef79b4a85a25001',\n",
       " 'a9ef6507906147a',\n",
       " '6d56430f78d06af',\n",
       " 'faeb88addaf0c79',\n",
       " '1381fbe6eb99ca9',\n",
       " 'd62c06931725ff0',\n",
       " 'f0999e117c2fbfa',\n",
       " '183dc227fb38348',\n",
       " '59141d0abcf435e',\n",
       " '85d734c72f263c4',\n",
       " '336dc419994b796',\n",
       " '73c897c4cacfd3e',\n",
       " '8faf49cd66e447d',\n",
       " 'f087ba41a3f9b31',\n",
       " 'ace0e43ad2733c8',\n",
       " '21b0708e338afb1',\n",
       " '066dbc1c7d3b89c',\n",
       " '509f2944a4b69e6',\n",
       " '88884036d7caed3',\n",
       " '47a0ae3bea1e5d3',\n",
       " '05055378ef673f4',\n",
       " 'd483de9a3728fe3',\n",
       " '3acaaa931f82ff6',\n",
       " '88ef1fc8304a1f5',\n",
       " 'f3e903c5aa6d2db',\n",
       " '00fc1746bb2eac1',\n",
       " '48ffee39d176a22',\n",
       " '51b1a3a021c10e6',\n",
       " 'e409b45d176ada6',\n",
       " 'f4c23bbcb6026fd',\n",
       " '44d9f965bd7f0ca',\n",
       " '1fa424694a23a34',\n",
       " 'ac883d20d26cf91',\n",
       " '15b2a4f019a87b0',\n",
       " 'fd8b050ab2ff95f',\n",
       " '34064fb83f91129',\n",
       " 'b91bb2847fa1d1f',\n",
       " '171a6aa678110ee',\n",
       " '1e58c9624e8dff1',\n",
       " '5a06c27c8a2227f',\n",
       " '85ff88317de8faa',\n",
       " 'ef53ef78483f007',\n",
       " '8f803733e915109',\n",
       " '47826af858b7113',\n",
       " '660d526c483749b',\n",
       " '9d898be86b31893',\n",
       " 'a6e534e99261f55',\n",
       " 'b8bb47893e6b403',\n",
       " 'd010f0bcd8439a4',\n",
       " 'aeb629ae6bd15e9',\n",
       " 'f183ad08aab4628',\n",
       " '5a12e792133aeb5',\n",
       " '1b371c711084608',\n",
       " '164e229ac329220',\n",
       " 'a6bc48ea129333f',\n",
       " '0b9b8c1c4187ec8',\n",
       " '1dfcff69b71938e',\n",
       " '61f5b44c79942b8',\n",
       " '3010bfff14ce8ae',\n",
       " 'cbc43a91bf43233',\n",
       " '3c48f02e215cc9e',\n",
       " '62e25b937be7888',\n",
       " 'fe61525fa1a5c72',\n",
       " '019fa401ddb00aa',\n",
       " '951145a5f4b26f9',\n",
       " '6c514578b4707b2',\n",
       " '91534bdad7cdcf7',\n",
       " '9768113c067d31e',\n",
       " '39e8fb6cd0d2b9a',\n",
       " '3fe7754299dd528',\n",
       " '7a7ac3c803e5d17',\n",
       " '8313cbf53b30aad',\n",
       " '71afcd8a2d4a571',\n",
       " 'd3063e55d944c08',\n",
       " '50c706a366758b6',\n",
       " '90ada8e6d56bd6b',\n",
       " '938699c80c98f4e',\n",
       " '2636011cd996894',\n",
       " '8a40ac78fa1364e',\n",
       " 'e3cb47a56655cd1',\n",
       " '6cce34e8fdd23aa',\n",
       " 'c5f33918c70b3fe',\n",
       " '32e793faecd5db5',\n",
       " '7d9f566661cd479',\n",
       " '0c820a0dae71ce2',\n",
       " '555f21eb8353de4',\n",
       " '3178d7dc73ade2c',\n",
       " '6d0913b3ab6735b',\n",
       " '70e8f1560cd0896',\n",
       " '9481facc389e737',\n",
       " '55042c9f91c3124',\n",
       " '9d801e01aa7d159',\n",
       " 'a1670107f3b617d',\n",
       " 'cd2326c7ef584b6',\n",
       " '9147ecaf2801bf5',\n",
       " '94db6897a1ac666',\n",
       " 'e73564876c0af42',\n",
       " '98734aaf1a2e202',\n",
       " '82d9b15b39d0092',\n",
       " '4a0e92e363d4ca2',\n",
       " 'b0f8c0999f2de22',\n",
       " 'f612656a4f15ffe',\n",
       " '91a0dea9e918bba',\n",
       " '4c78e97b0cec16e',\n",
       " '5f7b6f995594e2a',\n",
       " '6197ae4b415d012',\n",
       " 'd6677fed53e63e2',\n",
       " '3eb9cd749f824a5',\n",
       " '1aa83fda64dafd7',\n",
       " '16d0729b8886d99',\n",
       " '8f0913057572ea5',\n",
       " '9b783a14906a526',\n",
       " '2244cd4dcf189c2',\n",
       " '460530600aeb341',\n",
       " '80a065ed1f02072',\n",
       " '59f0dd3a2ee0322',\n",
       " '15a0a39c5276eb2',\n",
       " '214279f841fcd2a',\n",
       " '1cb1605eeb3374e',\n",
       " '5f258552cdd338d',\n",
       " '43803787fa4ed96',\n",
       " 'a47c09e428ff035',\n",
       " '6191b67aadb9231',\n",
       " 'cdefd4cb34f4d15',\n",
       " '303637975d7c38d',\n",
       " '4680bfb9e7b945c',\n",
       " '523ed3febb5e6db',\n",
       " '8fb991394be3b2b',\n",
       " 'c55143c27f0da73',\n",
       " 'ccca11fa3f6ba2e',\n",
       " '53f9e999842c619',\n",
       " '7b9888ec96c5fb6',\n",
       " '3a228a5ea08fe73',\n",
       " '9faa8bd0de203a8',\n",
       " '87e81dbafdad770',\n",
       " '4833dd13fef8a78',\n",
       " '41b22e537de151e',\n",
       " 'd8722eb12db1c80',\n",
       " '41a70b927a02d79',\n",
       " '8a771be7e29207d',\n",
       " '193515c8a1f96d4',\n",
       " 'cf204b05ce2fd07',\n",
       " 'f669a47d822f63c',\n",
       " 'de70e44785b1efd',\n",
       " 'd6c165254af2361',\n",
       " '5d4abed0f5fb0b6',\n",
       " 'db6d40d98e73a5d',\n",
       " '34d63b4f2a8e085',\n",
       " '3b4d0d59a95fe9a',\n",
       " '51a231b1478ed56',\n",
       " 'fec9fb67e61f014',\n",
       " '2a7b4ddbafdf079',\n",
       " '47e76f5fc687d49',\n",
       " 'ba1f5e27622d8b5',\n",
       " '38088978ef555f5',\n",
       " '1c7336368c8b9a2',\n",
       " 'be53534ef73e781',\n",
       " 'df40cb56025622e',\n",
       " '502607a06441bea',\n",
       " 'cca300d892c183a',\n",
       " '25ff380ed795cef',\n",
       " '8027e117a2a51b3',\n",
       " 'cf60278ce0cc8b5',\n",
       " '1a1a929439f4cd1',\n",
       " '16c21d00a64b523',\n",
       " '213eb8de1161d88',\n",
       " '871a53e26a29e43',\n",
       " '7426a7054f58dca',\n",
       " 'd187ab0ff043911',\n",
       " 'c173c804d4e7d7e',\n",
       " 'b16325dab2920c4',\n",
       " 'ace863a45d55396',\n",
       " '15a13d216650f52',\n",
       " '797aa625fede9bb',\n",
       " '60893c4e70271c0',\n",
       " '684e4c7a3ed0a1e',\n",
       " '3c65367cff49c1f',\n",
       " 'ad2dc32364ed948',\n",
       " 'c474fda1fe98696',\n",
       " '1de60365607599e',\n",
       " '213033cbc99ddc7',\n",
       " '7b71b18bfee791d',\n",
       " '81b12c92c723e2e',\n",
       " 'a1279a20b35f9c2',\n",
       " '77e000c098d8469',\n",
       " 'ae6373b584d09b8',\n",
       " 'ff9310a90294d5c',\n",
       " '933d4663f860cee',\n",
       " '1db3c30f6d1fd5c',\n",
       " 'bc24949c918a2e7',\n",
       " '68f6b154bb548e3',\n",
       " '4c99326e5d82bb3',\n",
       " '4d52b31f256e0c3',\n",
       " 'd820b618486a5f0',\n",
       " 'e306c456ccb7abc',\n",
       " 'ef7bde99ee4c752',\n",
       " 'cfc044205294ae3',\n",
       " '0f5ae2c1fdab9f4',\n",
       " '16d306848fd88cc',\n",
       " '2d2ef03016d0c74',\n",
       " '660eb80cf310800',\n",
       " 'f7745127e919895',\n",
       " '944671575e5aa0c',\n",
       " '39a2e62d5f0e6a4',\n",
       " '8d52f5c8c871f39',\n",
       " 'a087da8dcbef32a',\n",
       " '00ca94ffb2a68b5',\n",
       " '9cc44e4ec056e34',\n",
       " '6b7371b8a093d74',\n",
       " 'af4f72c31d01463',\n",
       " '3ad097b7d8d793a',\n",
       " '7deff8262e6be86',\n",
       " '1d2b6da94768a5b',\n",
       " '88106db1f5e5c72',\n",
       " 'f79254f7be42cca',\n",
       " '6036795b5973e83',\n",
       " '08d06ca418b5390',\n",
       " 'd9ad299d6437db1',\n",
       " '7e58e16f7a514f4',\n",
       " '5a7e0840b0e0ef8',\n",
       " 'caa19aca1d2ab5c',\n",
       " 'f7e9f2e7c0b44af',\n",
       " '32af03e02ee6944',\n",
       " '9fa383d638c316e',\n",
       " '55028d278d68a85',\n",
       " '41a14b38bcfffe1',\n",
       " '1f9d003700790d0',\n",
       " '2071911d4e0d40d',\n",
       " '743d5604b52ad8d',\n",
       " '38a44d07b166906',\n",
       " 'bb96fc358edd890',\n",
       " '774d8911f085cd6',\n",
       " '243ce3e0008cc67',\n",
       " '9ac2e479e1bec3f',\n",
       " '22e7efd69d88e61',\n",
       " 'ef2112415afafdb',\n",
       " 'fde2a2ece6c0307',\n",
       " '882654ec48a8b4c',\n",
       " '043f669c9f734b1',\n",
       " 'e715cf9b822bc67',\n",
       " '08de56a362515c4',\n",
       " '02812f1183de24c',\n",
       " 'a41c520fb30d9fb',\n",
       " '15efbeb6a7afde9',\n",
       " 'c397e25b90e7eaf',\n",
       " '4a245632055e673',\n",
       " '315cac09f7bb0e6',\n",
       " '5a302e2781c1e86',\n",
       " '6abefff4382916b',\n",
       " 'dc2721ae48256d4',\n",
       " 'dfce7f1b185d1f9',\n",
       " '085ff374b441c60',\n",
       " 'dc1ccb07dd27628',\n",
       " 'a7bbcc127e2b4df',\n",
       " 'fd42eb300f40f53',\n",
       " 'a61c78631044e84',\n",
       " '60e9cf68ff71046',\n",
       " 'd9150f4090ec45f',\n",
       " 'e043db3cee04cdb',\n",
       " 'fa2dbe07a6f3854',\n",
       " '55b3608e1e830a5',\n",
       " '9989b63b099aa10',\n",
       " '7e0a9556fa13597',\n",
       " 'f9c166672db007d',\n",
       " '1fba2f472c35c8d',\n",
       " 'dbc3da55695dda3',\n",
       " '340d74185a70574',\n",
       " '6bf0c4152af5e43',\n",
       " '32cf2cf1a52bf32',\n",
       " '3f0359c80a85fe1',\n",
       " '5eddbc64f9e3818',\n",
       " '8e3d08e66e6d727',\n",
       " 'e7a4795191d04af',\n",
       " '96e5dc3aeca2892',\n",
       " 'bf4938b5f8f2d4d',\n",
       " 'e76b40ecbd93e5c',\n",
       " '0d01fcf05b845f4',\n",
       " 'ef59a2332e6a58e',\n",
       " '09e4e3f2a7187d2',\n",
       " '80d3e0d97569d79',\n",
       " '8d6c1ff89fac35f',\n",
       " 'cb86188fcb2b288',\n",
       " '668e5eaf1043bf1',\n",
       " '7a22f89d7ab0219',\n",
       " '76325938f9e14bb',\n",
       " '29b7edb6008161f',\n",
       " 'f12816ca86af064',\n",
       " '3292e51e7219e1e',\n",
       " 'f497c8bbc424ca7',\n",
       " '3a8c26df6be743d',\n",
       " '1eb1e467b57ff4c',\n",
       " '81c7d8bc6f6ea52',\n",
       " 'e071cd44ed55b9f',\n",
       " '976f6c94775aaa2',\n",
       " '60c703d665c716f',\n",
       " 'a97e42508160c80',\n",
       " 'bad6d71a750aae5',\n",
       " '080732859319383',\n",
       " 'e3d319f4207e86b',\n",
       " 'f711b08f98c0a55',\n",
       " '856bebae1aeb7fe',\n",
       " 'b4f0eff605b3772',\n",
       " 'eb9a5c402db1b9a',\n",
       " '43803b184cfb58f',\n",
       " '61111f47c0677c8',\n",
       " 'c2b0524ba08e281',\n",
       " '38ca349f72f9b29',\n",
       " '10fbcb17b7f72ca',\n",
       " '934b9fe9359f3fd',\n",
       " 'aeda1a9f6e73298',\n",
       " '2d30c63820ba396',\n",
       " 'd98e4ed8e5352b2',\n",
       " '9d0808e41b1be28',\n",
       " 'b2f7367d6274e25',\n",
       " '918feb6608da9e8',\n",
       " 'fd127030c0df686',\n",
       " '360946a8aa9c45e',\n",
       " 'f49d24b93882c2e',\n",
       " '35ff2784b543455',\n",
       " '12f8ce9a0698e98',\n",
       " '2e64c88c4570e98',\n",
       " ...]"
      ]
     },
     "metadata": {},
     "output_type": "display_data"
    },
    {
     "data": {
      "text/plain": [
       "3266"
      ]
     },
     "execution_count": 75,
     "metadata": {},
     "output_type": "execute_result"
    }
   ],
   "source": [
    "#Выберем пользователей, которые присустуют в двух группах\n",
    "\n",
    "intersection = list(set(user_by_md[user_by_md['device_type_canonical'] == 'desktop']['user_id']).intersection(set(user_by_md[user_by_md['device_type_canonical'] == 'mobile']['user_id'])))\n",
    "display(intersection)\n",
    "len(intersection)"
   ]
  },
  {
   "cell_type": "markdown",
   "metadata": {},
   "source": [
    "Суммарно количество пользователей, которые использовали и компьютер и телефон составило 4979 человек. Для точности анализа выбросим их из подготовленного датафрейма со средним временем."
   ]
  },
  {
   "cell_type": "code",
   "execution_count": 76,
   "metadata": {},
   "outputs": [
    {
     "data": {
      "text/html": [
       "<div>\n",
       "<style scoped>\n",
       "    .dataframe tbody tr th:only-of-type {\n",
       "        vertical-align: middle;\n",
       "    }\n",
       "\n",
       "    .dataframe tbody tr th {\n",
       "        vertical-align: top;\n",
       "    }\n",
       "\n",
       "    .dataframe thead th {\n",
       "        text-align: right;\n",
       "    }\n",
       "</style>\n",
       "<table border=\"1\" class=\"dataframe\">\n",
       "  <thead>\n",
       "    <tr style=\"text-align: right;\">\n",
       "      <th></th>\n",
       "      <th>device_type_canonical</th>\n",
       "      <th>user_id</th>\n",
       "      <th>days_since_prev</th>\n",
       "    </tr>\n",
       "  </thead>\n",
       "  <tbody>\n",
       "    <tr>\n",
       "      <th>3</th>\n",
       "      <td>desktop</td>\n",
       "      <td>0040e12d70fae81</td>\n",
       "      <td>39.000000</td>\n",
       "    </tr>\n",
       "    <tr>\n",
       "      <th>5</th>\n",
       "      <td>desktop</td>\n",
       "      <td>006d1660d830822</td>\n",
       "      <td>12.428571</td>\n",
       "    </tr>\n",
       "    <tr>\n",
       "      <th>9</th>\n",
       "      <td>desktop</td>\n",
       "      <td>00bdfa36a6e542b</td>\n",
       "      <td>NaN</td>\n",
       "    </tr>\n",
       "    <tr>\n",
       "      <th>11</th>\n",
       "      <td>desktop</td>\n",
       "      <td>00cb8c1ef996876</td>\n",
       "      <td>1.000000</td>\n",
       "    </tr>\n",
       "    <tr>\n",
       "      <th>12</th>\n",
       "      <td>desktop</td>\n",
       "      <td>00e62ce48c12cb4</td>\n",
       "      <td>0.000000</td>\n",
       "    </tr>\n",
       "    <tr>\n",
       "      <th>...</th>\n",
       "      <td>...</td>\n",
       "      <td>...</td>\n",
       "      <td>...</td>\n",
       "    </tr>\n",
       "    <tr>\n",
       "      <th>19124</th>\n",
       "      <td>mobile</td>\n",
       "      <td>ffe364dd8211157</td>\n",
       "      <td>41.333333</td>\n",
       "    </tr>\n",
       "    <tr>\n",
       "      <th>19125</th>\n",
       "      <td>mobile</td>\n",
       "      <td>ffe73c50cbd71fc</td>\n",
       "      <td>0.000000</td>\n",
       "    </tr>\n",
       "    <tr>\n",
       "      <th>19126</th>\n",
       "      <td>mobile</td>\n",
       "      <td>ffed3ff067d4f12</td>\n",
       "      <td>26.000000</td>\n",
       "    </tr>\n",
       "    <tr>\n",
       "      <th>19127</th>\n",
       "      <td>mobile</td>\n",
       "      <td>fff13b79bd47d7c</td>\n",
       "      <td>20.666667</td>\n",
       "    </tr>\n",
       "    <tr>\n",
       "      <th>19129</th>\n",
       "      <td>mobile</td>\n",
       "      <td>ffff00725179321</td>\n",
       "      <td>NaN</td>\n",
       "    </tr>\n",
       "  </tbody>\n",
       "</table>\n",
       "<p>12598 rows × 3 columns</p>\n",
       "</div>"
      ],
      "text/plain": [
       "      device_type_canonical          user_id  days_since_prev\n",
       "3                   desktop  0040e12d70fae81        39.000000\n",
       "5                   desktop  006d1660d830822        12.428571\n",
       "9                   desktop  00bdfa36a6e542b              NaN\n",
       "11                  desktop  00cb8c1ef996876         1.000000\n",
       "12                  desktop  00e62ce48c12cb4         0.000000\n",
       "...                     ...              ...              ...\n",
       "19124                mobile  ffe364dd8211157        41.333333\n",
       "19125                mobile  ffe73c50cbd71fc         0.000000\n",
       "19126                mobile  ffed3ff067d4f12        26.000000\n",
       "19127                mobile  fff13b79bd47d7c        20.666667\n",
       "19129                mobile  ffff00725179321              NaN\n",
       "\n",
       "[12598 rows x 3 columns]"
      ]
     },
     "execution_count": 76,
     "metadata": {},
     "output_type": "execute_result"
    }
   ],
   "source": [
    "user_by_md = user_by_md[~user_by_md['user_id'].isin(intersection)]\n",
    "user_by_md"
   ]
  },
  {
   "cell_type": "markdown",
   "metadata": {},
   "source": [
    "В датафрейме осталось 12598 записи.\n",
    "\n",
    "Рассмотрим как по итогу распределились уникальные пользователи."
   ]
  },
  {
   "cell_type": "code",
   "execution_count": 77,
   "metadata": {},
   "outputs": [
    {
     "data": {
      "text/plain": [
       "mobile     10966\n",
       "desktop     1632\n",
       "Name: device_type_canonical, dtype: int64"
      ]
     },
     "execution_count": 77,
     "metadata": {},
     "output_type": "execute_result"
    }
   ],
   "source": [
    "user_by_md['device_type_canonical'].value_counts()"
   ]
  },
  {
   "cell_type": "markdown",
   "metadata": {},
   "source": [
    "Количество пользователей, которые использовали для заказов только телефон составило 10966 человека, а только компьютер - 1632. В данных встречается пропуски, что может говорить о том, что пользователь лишь один раз заказал что-то через сервис. Оценим количество пропусков в полцченном датасете."
   ]
  },
  {
   "cell_type": "code",
   "execution_count": 78,
   "metadata": {},
   "outputs": [
    {
     "name": "stdout",
     "output_type": "stream",
     "text": [
      "<class 'pandas.core.frame.DataFrame'>\n",
      "Int64Index: 12598 entries, 3 to 19129\n",
      "Data columns (total 3 columns):\n",
      " #   Column                 Non-Null Count  Dtype  \n",
      "---  ------                 --------------  -----  \n",
      " 0   device_type_canonical  12598 non-null  object \n",
      " 1   user_id                12598 non-null  object \n",
      " 2   days_since_prev        7964 non-null   float64\n",
      "dtypes: float64(1), object(2)\n",
      "memory usage: 393.7+ KB\n"
     ]
    }
   ],
   "source": [
    "user_by_md.info()"
   ]
  },
  {
   "cell_type": "markdown",
   "metadata": {},
   "source": [
    "Количество пропуско весьма велико, это говорит о том, что почти 40% отобранных пользователей приобретали билет на платформе всего лишь один раз. Теперь посмотрим у какого количества пользователей заполнины значения среднего времени между покупкаи билетов."
   ]
  },
  {
   "cell_type": "code",
   "execution_count": 79,
   "metadata": {
    "scrolled": true
   },
   "outputs": [
    {
     "data": {
      "text/plain": [
       "device_type_canonical\n",
       "desktop     896\n",
       "mobile     7068\n",
       "Name: days_since_prev, dtype: int64"
      ]
     },
     "execution_count": 79,
     "metadata": {},
     "output_type": "execute_result"
    }
   ],
   "source": [
    "user_by_md.groupby('device_type_canonical')['days_since_prev'].count()"
   ]
  },
  {
   "cell_type": "code",
   "execution_count": 91,
   "metadata": {},
   "outputs": [
    {
     "data": {
      "text/plain": [
       "count    7068.000000\n",
       "mean       25.274872\n",
       "std        30.216630\n",
       "min         0.000000\n",
       "25%         2.870536\n",
       "50%        14.000000\n",
       "75%        36.000000\n",
       "max       148.000000\n",
       "Name: days_since_prev, dtype: float64"
      ]
     },
     "metadata": {},
     "output_type": "display_data"
    },
    {
     "data": {
      "text/plain": [
       "count    896.000000\n",
       "mean      31.447425\n",
       "std       36.554438\n",
       "min        0.000000\n",
       "25%        0.000000\n",
       "50%       16.500000\n",
       "75%       53.000000\n",
       "max      146.000000\n",
       "Name: days_since_prev, dtype: float64"
      ]
     },
     "metadata": {},
     "output_type": "display_data"
    }
   ],
   "source": [
    "#Узнаем статистические показатели среднего количество заказов по группам\n",
    "display(user_by_md[user_by_md['device_type_canonical'] == 'mobile'].groupby('user_id')['days_since_prev'].mean().describe())\n",
    "display(user_by_md[user_by_md['device_type_canonical'] == 'desktop'].groupby('user_id')['days_since_prev'].mean().describe())"
   ]
  },
  {
   "cell_type": "markdown",
   "metadata": {},
   "source": [
    "Разница между группами колосальная и выбросы в выборках также присуствуют (средние значения выше чем медиана - есть вытянутый правый хвост, максимальные значения не попадают в доверетильный интвервал поэтому и считаются выбросами) и потому так же как и раньше тест Стьюдента здесь не применим, хотя группы и получились независимыми. Воспользуемся тестом Манни-Уитни."
   ]
  },
  {
   "cell_type": "code",
   "execution_count": 80,
   "metadata": {},
   "outputs": [],
   "source": [
    "#Подготовим датасет для дальнейшего использования, избавимся от полей с пропусками\n",
    "user_md = user_by_md.dropna()"
   ]
  },
  {
   "cell_type": "markdown",
   "metadata": {},
   "source": [
    "В данных осталось 7964 записи (896 - пользователи только компьютерной верии, 7068 - пользователи только мобильного приложения)."
   ]
  },
  {
   "cell_type": "code",
   "execution_count": 81,
   "metadata": {},
   "outputs": [
    {
     "name": "stderr",
     "output_type": "stream",
     "text": [
      "/tmp/ipykernel_31/2345311524.py:1: UserWarning: Boolean Series key will be reindexed to match DataFrame index.\n",
      "  mobile_mean = user_md[user_by_md['device_type_canonical'] == 'mobile']['days_since_prev'].mean()\n",
      "/tmp/ipykernel_31/2345311524.py:2: UserWarning: Boolean Series key will be reindexed to match DataFrame index.\n",
      "  desktop_mean = user_md[user_by_md['device_type_canonical'] == 'desktop']['days_since_prev'].mean()\n"
     ]
    },
    {
     "data": {
      "text/plain": [
       "'Количество дней между заказами у пользователей телефонов'"
      ]
     },
     "metadata": {},
     "output_type": "display_data"
    },
    {
     "data": {
      "text/plain": [
       "25.274872245478043"
      ]
     },
     "metadata": {},
     "output_type": "display_data"
    },
    {
     "data": {
      "text/plain": [
       "'Количество дней между заказами у пользователей компьютеров'"
      ]
     },
     "metadata": {},
     "output_type": "display_data"
    },
    {
     "data": {
      "text/plain": [
       "31.447425145497878"
      ]
     },
     "metadata": {},
     "output_type": "display_data"
    },
    {
     "data": {
      "text/plain": [
       "'Разница составляет 6.172552900019834'"
      ]
     },
     "metadata": {},
     "output_type": "display_data"
    }
   ],
   "source": [
    "mobile_mean = user_md[user_by_md['device_type_canonical'] == 'mobile']['days_since_prev'].mean()\n",
    "desktop_mean = user_md[user_by_md['device_type_canonical'] == 'desktop']['days_since_prev'].mean()\n",
    "display('Количество дней между заказами у пользователей телефонов', mobile_mean)\n",
    "display('Количество дней между заказами у пользователей компьютеров', desktop_mean)\n",
    "display (f'Разница составляет {desktop_mean - mobile_mean}')"
   ]
  },
  {
   "cell_type": "markdown",
   "metadata": {},
   "source": [
    "Действительно присутсвует разница, между среднем временем между заказов у пользователей, совершающих заказы с моблиьных устройств и с компьютеров, которая составляет приблизительно 6 дней."
   ]
  },
  {
   "cell_type": "code",
   "execution_count": 82,
   "metadata": {},
   "outputs": [
    {
     "name": "stdout",
     "output_type": "stream",
     "text": [
      "pvalue=0.1811667926797753 > 0.05\n",
      "Нулевая гипотеза находит подтверждение! Распределения метрики в группах не отличаются\n"
     ]
    }
   ],
   "source": [
    "user_mobile = user_md[user_md['device_type_canonical'] == 'mobile']['days_since_prev']\n",
    "user_desktop = user_md[user_md['device_type_canonical'] == 'desktop']['days_since_prev']\n",
    "mw_test = mannwhitneyu(\n",
    "    user_desktop,\n",
    "    user_mobile,\n",
    "    alternative='greater'\n",
    ")\n",
    "\n",
    "if mw_test.pvalue > alpha:\n",
    "    print(f'pvalue={mw_test.pvalue} > {alpha}')\n",
    "    print('Нулевая гипотеза находит подтверждение! Распределения метрики в группах не отличаются')\n",
    "else:\n",
    "    print(f'pvalue={mw_test.pvalue} < {alpha}')\n",
    "    print('Нулевая гипотеза не находит подтверждения! Распределения метрики в группах различаются')"
   ]
  },
  {
   "cell_type": "markdown",
   "metadata": {},
   "source": [
    "В результате проведения теста Манна-Уитни значение pvalue составило 0.1812443177919537, что говорит о невозможности отклонить нулевую гипотезу, таким образом разница в группах статистически незначима."
   ]
  },
  {
   "cell_type": "markdown",
   "metadata": {},
   "source": [
    "### Промежуточный вывод\n",
    "\n",
    "Проверка гипотез показала следующие факты:\n",
    "- Среднее количество заказов на одного пользователя мобильного приложения и стационарного устройства отличаются и это отличие статистически значимо. Через мобильное приложение пользователь обычно оформляют больше заказов.\n",
    "- Среднее время между заказами пользователей мобильных приложений и станционарных устройств отличается, однако данное отличие не статистически значимо, тем самым нельзя говорить однозначно говорить о том, что с телефонов пользователи быстрее возвращаются для оформления новых заказов нельзя."
   ]
  },
  {
   "cell_type": "markdown",
   "metadata": {},
   "source": [
    "<a class=\"anchor\" id=\"6_charter\"></a> \n",
    "## Общий вывод и рекомендации"
   ]
  },
  {
   "cell_type": "markdown",
   "metadata": {},
   "source": [
    "### Информация о данных:\n",
    "- для работы было получено три датасета хранящие информацию о свыше 290 тысяч заказах, более 22 тысяч мероприятий и курсу тенге к рублю на протяжении 2024 года;\n",
    "- в данных были представлена информация о заказе (дата и время оформления, стоимость, количество билетов, выручка, типе устройства и т.д.), пользователе, мероприятиях (место проведения, категория, регион, город, название) а также информация о партнерах, организаторах и т.д.\n",
    "\n",
    "Перед проведением исследовательского анализа данных была проведена предобработка данных:\n",
    "- изменены типы переменных\n",
    "- добавлены новые поля с выручкой за билет, сезоне и месяце проведения мероприятия;\n",
    "- проверены и удалены явные и неявные дубликаты;\n",
    "- оценены категориальные и количественные значения, ошибки в категориях не найдены, на основе изучения статистических показателей количественных значений были выявлены и устранены выбросы в данных.\n",
    "\n",
    "В результате предобработки и объединения объем данных был уменьшен менее чем на 0.5% от общего объема данных."
   ]
  },
  {
   "cell_type": "markdown",
   "metadata": {},
   "source": [
    "### Результаты исследовательского анализа:  \n",
    "- Замечены сезонные колебания, осенью произошел всплекс по количеству оформленных заказов по сравнению с летом;\n",
    "- Самые популярные мероприятия относятся к концертам, другим и тетрам. Осенью распределение заказов по меропритиям изменилось, концерты продолжили занимать лидирующие позиции а на втором месте расположились театры. Появися большой спрос на спортивные мероприятия и елки. Увеличение количество заказов почти не отразилось на таких мероприятиях как выставки и стендапы.\n",
    "- Самая популярная возрастная категория 16+. С наступлением осени некоторые категории начали становится более популярными это 0+ и 12+, однако заказов из категории 16+ все равно больше. \n",
    "- Осенью произошло падение в выручки за один приобретаемый билет.В основном это связано с тем, что изменилась основная стоимость (выручка - % от стоимости заказа). В основном цены упали от 3 до 17% от летней цены. Только выставки и стендапы усилили свои позиции в стоимости билетов.\n",
    "- Динамики изменения показателей общего числа заказов, количества активных пользователей, среднего чиса заказов на одного пользоваетля и средней выручки от одного билета осенью по дням демонстрирует наличие пиковых моментов:\n",
    "   - Количество уникальных пользователей имеет положительную тенденцию увеличения;\n",
    "   - Графики ежедневных заказов и среднего количества билетов покупаемых пользователями также показывают положительную тенденци на увеличиние и демонстрирует наличие пиковых значений в начале месяца. Предположения: 1. В начале месяца пользователи покупают больше билетов, что может говорить о планировании мероприятий на месяц. 2. В начале месяца могут проходить акции на покупку билетов, что побуждает пользователей на осуществление покупки.\n",
    "   - График средней вырчки за один билет не имеет строгой тенденции на увеличиение или уменьшение. Однако также как и предыдущие графики имеет схожие пиковые значения в теже даты, которые сильно меньше стандартных значений. Преположение 1. Наличие программы лояльности, в которой пользователь получает скидку при приобретении большого количества билетов. 2. В начале месяца люди покупают успевают купить более дешевые билеты на мероприятия, которые хотели бы посетить.\n",
    "- Изучение распределения заказов по дням недели показала, что пользователи активнее всего оформляют заказы в будние дни (особено в четные - вторник и четверг), чем в выходные.\n",
    "- На основе анализа данных были определены топ регионов, в которых проходит больше всего мероприятий -  это Каменский региона и Североярская область В этих краях прошло свыше 43% от всех мероприятий, размещенных на Яндекс.Афише. Количество заказов, совершенных в этих областях составляет свыше 46% от общего числа заказов. Каменский регион - лидер. Теплоозерский округ, Сосноводолинская область, Лесноярский край, Светолесский край и Верхозерский край - аутсайдеры, в этих местах было меньше всего мероприятий и заказов\n",
    "- В ТОП 3 партнера по выручке входят Билеты без проблем, Мой билет, Облачко - совместно 44% от всей выручки. Выручка от данных партнеров превышает значения в 2 млн.руб. от каждого, в то время как от остальных менее 1.8 млн.руб. Аутсайдеры - Кино билет, Тех билет, Лимоны, Билеты в интернете, Зе Бест! - общая выручка менее 1% в общей картине выручки."
   ]
  },
  {
   "cell_type": "markdown",
   "metadata": {},
   "source": [
    "### Гипотезы\n",
    "\n",
    "Предположения коллег из продуктовго отдела отчасти подтвердились!\n",
    "\n",
    "Действительно, среднее количество заказов на одного пользователя мобильного приложения и стационарного устройства отличаются и это отличие статистически значимо. Через мобильное приложение пользователь обычно оформляют больше заказов.\n",
    "\n",
    "**На данном этапе сложно подтвердить.** Среднее время между заказами пользователей мобильных приложений и станционарных устройств отличается, однако данное отличие не статистически значимо, тем самым нельзя говорить однозначно говорить о том, что с телефонов пользователи быстрее возвращаются для оформления новых заказов нельзя."
   ]
  },
  {
   "cell_type": "markdown",
   "metadata": {},
   "source": [
    "### Рекомендации\n",
    "\n",
    "1. Стоит обратить внимание на показатели выручки. В осенней период пользователей стало больше и количество активных пользователей также увеличивается. При это, выручка от продажи билетов осенью стала меньше почти по всем типам мероприятий. Учитывая общую тенденцию на увеличение количества заказов, можно пересмотреть процесс расчета выручки с целью ее увеличиения. \n",
    "\n",
    "2. Пользователи очень активно покупают билеты в начале месяца, в эти дни показатели среднего количеств заказов на одного пользователя максимально высокие. Стоит внедрить рекомендательную систему или усовершенствовать рекоменательную систему, которая будет подбирать более интересные мерпориятия пользователям для увеличения подобных показателей.\n",
    "\n",
    "3. При изучении гипотезы было обнаружено, что немного пользователей дошли до повторного зазказа. Стоит продумать механзим привлечения и удержания пользователей (например программу лояльности, которая заключается в появлении у пользователя показателя лояльности и начисления скидки на билеты в зависимости от частоты оформления заказов)."
   ]
  }
 ],
 "metadata": {
  "ExecuteTimeLog": [
   {
    "duration": 93,
    "start_time": "2025-05-16T09:43:52.288Z"
   },
   {
    "duration": 1436,
    "start_time": "2025-05-16T09:59:29.062Z"
   },
   {
    "duration": 2077,
    "start_time": "2025-05-16T10:05:18.030Z"
   },
   {
    "duration": 18,
    "start_time": "2025-05-16T10:05:48.488Z"
   },
   {
    "duration": 110,
    "start_time": "2025-05-16T10:06:28.586Z"
   },
   {
    "duration": 106,
    "start_time": "2025-05-16T10:06:52.756Z"
   },
   {
    "duration": 12,
    "start_time": "2025-05-16T10:11:48.845Z"
   },
   {
    "duration": 24,
    "start_time": "2025-05-16T10:12:14.370Z"
   },
   {
    "duration": 9,
    "start_time": "2025-05-16T10:13:51.961Z"
   },
   {
    "duration": 12,
    "start_time": "2025-05-16T10:14:33.086Z"
   },
   {
    "duration": 131,
    "start_time": "2025-05-16T10:44:53.868Z"
   },
   {
    "duration": 139,
    "start_time": "2025-05-16T11:00:25.429Z"
   },
   {
    "duration": 1299,
    "start_time": "2025-05-16T11:01:44.822Z"
   },
   {
    "duration": 33,
    "start_time": "2025-05-16T11:02:26.768Z"
   },
   {
    "duration": 7,
    "start_time": "2025-05-16T11:05:49.596Z"
   },
   {
    "duration": 2,
    "start_time": "2025-05-16T11:08:32.920Z"
   },
   {
    "duration": 15,
    "start_time": "2025-05-16T11:09:13.269Z"
   },
   {
    "duration": 265,
    "start_time": "2025-05-16T11:11:26.948Z"
   },
   {
    "duration": 377,
    "start_time": "2025-05-16T11:11:34.448Z"
   },
   {
    "duration": 408,
    "start_time": "2025-05-16T11:12:13.966Z"
   },
   {
    "duration": 483,
    "start_time": "2025-05-16T11:12:56.825Z"
   },
   {
    "duration": 425,
    "start_time": "2025-05-16T11:13:15.887Z"
   },
   {
    "duration": 12,
    "start_time": "2025-05-16T11:14:32.343Z"
   },
   {
    "duration": 130,
    "start_time": "2025-05-16T11:14:38.471Z"
   },
   {
    "duration": 13,
    "start_time": "2025-05-16T11:15:37.785Z"
   },
   {
    "duration": 113,
    "start_time": "2025-05-16T11:16:19.757Z"
   },
   {
    "duration": 110,
    "start_time": "2025-05-16T11:16:30.713Z"
   },
   {
    "duration": 110,
    "start_time": "2025-05-16T11:16:38.471Z"
   },
   {
    "duration": 126,
    "start_time": "2025-05-16T11:16:55.868Z"
   },
   {
    "duration": 208,
    "start_time": "2025-05-16T11:17:46.709Z"
   },
   {
    "duration": 132,
    "start_time": "2025-05-16T11:18:07.673Z"
   },
   {
    "duration": 4,
    "start_time": "2025-05-16T11:24:22.625Z"
   },
   {
    "duration": 11,
    "start_time": "2025-05-16T11:24:30.859Z"
   },
   {
    "duration": 6,
    "start_time": "2025-05-16T11:24:47.498Z"
   },
   {
    "duration": 96,
    "start_time": "2025-05-16T11:32:46.370Z"
   },
   {
    "duration": 37,
    "start_time": "2025-05-16T11:32:49.875Z"
   },
   {
    "duration": 484,
    "start_time": "2025-05-16T11:46:37.537Z"
   },
   {
    "duration": 188,
    "start_time": "2025-05-16T11:47:10.023Z"
   },
   {
    "duration": 149,
    "start_time": "2025-05-16T11:47:28.087Z"
   },
   {
    "duration": 54,
    "start_time": "2025-05-16T11:49:23.870Z"
   },
   {
    "duration": 91,
    "start_time": "2025-05-16T11:49:57.562Z"
   },
   {
    "duration": 105,
    "start_time": "2025-05-16T11:50:14.387Z"
   },
   {
    "duration": 80,
    "start_time": "2025-05-16T11:50:23.376Z"
   },
   {
    "duration": 80,
    "start_time": "2025-05-16T11:50:25.581Z"
   },
   {
    "duration": 76,
    "start_time": "2025-05-16T11:51:00.514Z"
   },
   {
    "duration": 79,
    "start_time": "2025-05-16T11:51:17.373Z"
   },
   {
    "duration": 78,
    "start_time": "2025-05-16T11:51:22.419Z"
   },
   {
    "duration": 461,
    "start_time": "2025-05-16T11:59:19.334Z"
   },
   {
    "duration": 174,
    "start_time": "2025-05-16T11:59:32.320Z"
   },
   {
    "duration": 246,
    "start_time": "2025-05-16T11:59:39.722Z"
   },
   {
    "duration": 7,
    "start_time": "2025-05-16T12:01:52.731Z"
   },
   {
    "duration": 4,
    "start_time": "2025-05-16T12:03:24.174Z"
   },
   {
    "duration": 115,
    "start_time": "2025-05-16T12:03:36.528Z"
   },
   {
    "duration": 1117,
    "start_time": "2025-05-16T12:03:40.290Z"
   },
   {
    "duration": 24,
    "start_time": "2025-05-16T12:03:59.574Z"
   },
   {
    "duration": 26,
    "start_time": "2025-05-16T12:05:36.835Z"
   },
   {
    "duration": 413,
    "start_time": "2025-05-16T12:06:06.691Z"
   },
   {
    "duration": 400,
    "start_time": "2025-05-16T12:06:09.620Z"
   },
   {
    "duration": 134,
    "start_time": "2025-05-16T12:06:42.320Z"
   },
   {
    "duration": 141,
    "start_time": "2025-05-16T12:06:56.324Z"
   },
   {
    "duration": 62,
    "start_time": "2025-05-16T12:07:37.829Z"
   },
   {
    "duration": 24,
    "start_time": "2025-05-16T12:28:08.270Z"
   },
   {
    "duration": 101,
    "start_time": "2025-05-16T12:44:01.425Z"
   },
   {
    "duration": 153,
    "start_time": "2025-05-16T12:44:13.010Z"
   },
   {
    "duration": 151,
    "start_time": "2025-05-16T12:49:52.676Z"
   },
   {
    "duration": 203,
    "start_time": "2025-05-16T12:57:13.398Z"
   },
   {
    "duration": 164,
    "start_time": "2025-05-16T13:03:32.502Z"
   },
   {
    "duration": 19,
    "start_time": "2025-05-16T13:14:04.490Z"
   },
   {
    "duration": 19,
    "start_time": "2025-05-16T13:14:42.322Z"
   },
   {
    "duration": 1948,
    "start_time": "2025-05-16T13:14:50.042Z"
   },
   {
    "duration": 20,
    "start_time": "2025-05-16T13:15:00.162Z"
   },
   {
    "duration": 17,
    "start_time": "2025-05-16T13:18:19.134Z"
   },
   {
    "duration": 19,
    "start_time": "2025-05-16T13:19:29.890Z"
   },
   {
    "duration": 17,
    "start_time": "2025-05-16T13:19:39.700Z"
   },
   {
    "duration": 18,
    "start_time": "2025-05-16T13:20:09.304Z"
   },
   {
    "duration": 22,
    "start_time": "2025-05-16T13:21:04.609Z"
   },
   {
    "duration": 23,
    "start_time": "2025-05-16T13:21:37.886Z"
   },
   {
    "duration": 24,
    "start_time": "2025-05-16T13:22:13.116Z"
   },
   {
    "duration": 9,
    "start_time": "2025-05-16T13:28:24.183Z"
   },
   {
    "duration": 65,
    "start_time": "2025-05-16T13:28:29.337Z"
   },
   {
    "duration": 163,
    "start_time": "2025-05-16T13:29:00.226Z"
   },
   {
    "duration": 141,
    "start_time": "2025-05-16T13:29:27.736Z"
   },
   {
    "duration": 169,
    "start_time": "2025-05-16T13:29:40.044Z"
   },
   {
    "duration": 179,
    "start_time": "2025-05-16T13:31:27.971Z"
   },
   {
    "duration": 177,
    "start_time": "2025-05-16T13:32:58.992Z"
   },
   {
    "duration": 212,
    "start_time": "2025-05-16T13:33:08.302Z"
   },
   {
    "duration": 206,
    "start_time": "2025-05-16T13:33:46.670Z"
   },
   {
    "duration": 211,
    "start_time": "2025-05-16T13:34:55.865Z"
   },
   {
    "duration": 226,
    "start_time": "2025-05-16T13:35:03.298Z"
   },
   {
    "duration": 234,
    "start_time": "2025-05-16T13:35:14.934Z"
   },
   {
    "duration": 242,
    "start_time": "2025-05-16T13:36:52.169Z"
   },
   {
    "duration": 30,
    "start_time": "2025-05-16T13:39:43.838Z"
   },
   {
    "duration": 35,
    "start_time": "2025-05-16T13:41:27.215Z"
   },
   {
    "duration": 5464,
    "start_time": "2025-05-16T13:44:18.399Z"
   },
   {
    "duration": 5524,
    "start_time": "2025-05-16T13:44:55.488Z"
   },
   {
    "duration": 4776,
    "start_time": "2025-05-16T13:46:16.930Z"
   },
   {
    "duration": 28,
    "start_time": "2025-05-16T13:46:32.397Z"
   },
   {
    "duration": 106,
    "start_time": "2025-05-16T13:52:22.444Z"
   },
   {
    "duration": 30,
    "start_time": "2025-05-16T13:52:25.107Z"
   },
   {
    "duration": 68,
    "start_time": "2025-05-16T13:52:31.284Z"
   },
   {
    "duration": 3,
    "start_time": "2025-05-16T13:52:39.033Z"
   },
   {
    "duration": 1994,
    "start_time": "2025-05-16T13:52:39.039Z"
   },
   {
    "duration": 14,
    "start_time": "2025-05-16T13:52:41.035Z"
   },
   {
    "duration": 108,
    "start_time": "2025-05-16T13:52:41.050Z"
   },
   {
    "duration": 94,
    "start_time": "2025-05-16T13:52:41.161Z"
   },
   {
    "duration": 40,
    "start_time": "2025-05-16T13:52:41.256Z"
   },
   {
    "duration": 30,
    "start_time": "2025-05-16T13:52:41.298Z"
   },
   {
    "duration": 8,
    "start_time": "2025-05-16T13:52:41.329Z"
   },
   {
    "duration": 27,
    "start_time": "2025-05-16T13:52:41.339Z"
   },
   {
    "duration": 141,
    "start_time": "2025-05-16T13:52:41.367Z"
   },
   {
    "duration": 51,
    "start_time": "2025-05-16T13:52:41.509Z"
   },
   {
    "duration": 6,
    "start_time": "2025-05-16T13:52:41.561Z"
   },
   {
    "duration": 91,
    "start_time": "2025-05-16T13:52:41.568Z"
   },
   {
    "duration": 409,
    "start_time": "2025-05-16T13:52:41.663Z"
   },
   {
    "duration": 135,
    "start_time": "2025-05-16T13:52:42.075Z"
   },
   {
    "duration": 140,
    "start_time": "2025-05-16T13:52:42.211Z"
   },
   {
    "duration": 5,
    "start_time": "2025-05-16T13:52:42.353Z"
   },
   {
    "duration": 50,
    "start_time": "2025-05-16T13:52:42.360Z"
   },
   {
    "duration": 566,
    "start_time": "2025-05-16T13:52:42.411Z"
   },
   {
    "duration": 188,
    "start_time": "2025-05-16T13:52:42.978Z"
   },
   {
    "duration": 163,
    "start_time": "2025-05-16T13:52:43.168Z"
   },
   {
    "duration": 77,
    "start_time": "2025-05-16T13:52:43.332Z"
   },
   {
    "duration": 41,
    "start_time": "2025-05-16T13:52:43.411Z"
   },
   {
    "duration": 47,
    "start_time": "2025-05-16T13:52:43.454Z"
   },
   {
    "duration": 524,
    "start_time": "2025-05-16T13:52:43.503Z"
   },
   {
    "duration": 151,
    "start_time": "2025-05-16T13:52:44.028Z"
   },
   {
    "duration": 163,
    "start_time": "2025-05-16T13:52:44.181Z"
   },
   {
    "duration": 74,
    "start_time": "2025-05-16T13:52:44.346Z"
   },
   {
    "duration": 33,
    "start_time": "2025-05-16T13:52:44.435Z"
   },
   {
    "duration": 150,
    "start_time": "2025-05-16T13:52:44.470Z"
   },
   {
    "duration": 159,
    "start_time": "2025-05-16T13:52:44.622Z"
   },
   {
    "duration": 134,
    "start_time": "2025-05-16T13:52:44.783Z"
   },
   {
    "duration": 253,
    "start_time": "2025-05-16T13:52:44.919Z"
   },
   {
    "duration": 33,
    "start_time": "2025-05-16T13:52:45.174Z"
   },
   {
    "duration": 5679,
    "start_time": "2025-05-16T13:52:45.209Z"
   },
   {
    "duration": 4739,
    "start_time": "2025-05-16T13:52:50.890Z"
   },
   {
    "duration": 33,
    "start_time": "2025-05-16T13:52:55.630Z"
   },
   {
    "duration": 70,
    "start_time": "2025-05-16T13:52:55.665Z"
   },
   {
    "duration": 55,
    "start_time": "2025-05-16T13:53:03.267Z"
   },
   {
    "duration": 4,
    "start_time": "2025-05-16T13:54:10.445Z"
   },
   {
    "duration": 1933,
    "start_time": "2025-05-16T13:54:10.451Z"
   },
   {
    "duration": 14,
    "start_time": "2025-05-16T13:54:12.385Z"
   },
   {
    "duration": 126,
    "start_time": "2025-05-16T13:54:12.401Z"
   },
   {
    "duration": 95,
    "start_time": "2025-05-16T13:54:12.529Z"
   },
   {
    "duration": 27,
    "start_time": "2025-05-16T13:54:12.626Z"
   },
   {
    "duration": 25,
    "start_time": "2025-05-16T13:54:12.656Z"
   },
   {
    "duration": 13,
    "start_time": "2025-05-16T13:54:12.683Z"
   },
   {
    "duration": 35,
    "start_time": "2025-05-16T13:54:12.698Z"
   },
   {
    "duration": 162,
    "start_time": "2025-05-16T13:54:12.736Z"
   },
   {
    "duration": 57,
    "start_time": "2025-05-16T13:54:12.900Z"
   },
   {
    "duration": 7,
    "start_time": "2025-05-16T13:54:12.959Z"
   },
   {
    "duration": 14,
    "start_time": "2025-05-16T13:54:12.968Z"
   },
   {
    "duration": 447,
    "start_time": "2025-05-16T13:54:12.985Z"
   },
   {
    "duration": 128,
    "start_time": "2025-05-16T13:54:13.435Z"
   },
   {
    "duration": 136,
    "start_time": "2025-05-16T13:54:13.565Z"
   },
   {
    "duration": 5,
    "start_time": "2025-05-16T13:54:13.703Z"
   },
   {
    "duration": 55,
    "start_time": "2025-05-16T13:54:13.710Z"
   },
   {
    "duration": 480,
    "start_time": "2025-05-16T13:54:13.767Z"
   },
   {
    "duration": 202,
    "start_time": "2025-05-16T13:54:14.249Z"
   },
   {
    "duration": 188,
    "start_time": "2025-05-16T13:54:14.453Z"
   },
   {
    "duration": 94,
    "start_time": "2025-05-16T13:54:14.643Z"
   },
   {
    "duration": 25,
    "start_time": "2025-05-16T13:54:14.740Z"
   },
   {
    "duration": 26,
    "start_time": "2025-05-16T13:54:14.766Z"
   },
   {
    "duration": 548,
    "start_time": "2025-05-16T13:54:14.794Z"
   },
   {
    "duration": 147,
    "start_time": "2025-05-16T13:54:15.344Z"
   },
   {
    "duration": 161,
    "start_time": "2025-05-16T13:54:15.493Z"
   },
   {
    "duration": 62,
    "start_time": "2025-05-16T13:54:15.655Z"
   },
   {
    "duration": 40,
    "start_time": "2025-05-16T13:54:15.719Z"
   },
   {
    "duration": 145,
    "start_time": "2025-05-16T13:54:15.762Z"
   },
   {
    "duration": 170,
    "start_time": "2025-05-16T13:54:15.908Z"
   },
   {
    "duration": 140,
    "start_time": "2025-05-16T13:54:16.080Z"
   },
   {
    "duration": 238,
    "start_time": "2025-05-16T13:54:16.222Z"
   },
   {
    "duration": 35,
    "start_time": "2025-05-16T13:54:16.462Z"
   },
   {
    "duration": 5595,
    "start_time": "2025-05-16T13:54:16.499Z"
   },
   {
    "duration": 4895,
    "start_time": "2025-05-16T13:54:22.096Z"
   },
   {
    "duration": 28,
    "start_time": "2025-05-16T13:54:26.993Z"
   },
   {
    "duration": 89,
    "start_time": "2025-05-16T13:54:27.022Z"
   },
   {
    "duration": 36,
    "start_time": "2025-05-16T13:54:27.112Z"
   },
   {
    "duration": 9,
    "start_time": "2025-05-16T13:58:44.099Z"
   },
   {
    "duration": 200,
    "start_time": "2025-05-16T15:04:09.977Z"
   },
   {
    "duration": 25,
    "start_time": "2025-05-16T15:20:00.833Z"
   },
   {
    "duration": 25,
    "start_time": "2025-05-16T15:20:26.100Z"
   },
   {
    "duration": 736,
    "start_time": "2025-05-16T15:29:10.546Z"
   },
   {
    "duration": 48,
    "start_time": "2025-05-16T15:35:46.617Z"
   },
   {
    "duration": 47,
    "start_time": "2025-05-16T15:36:10.206Z"
   },
   {
    "duration": 47,
    "start_time": "2025-05-16T15:36:17.500Z"
   },
   {
    "duration": 239,
    "start_time": "2025-05-16T16:04:53.517Z"
   },
   {
    "duration": 252,
    "start_time": "2025-05-16T16:08:00.188Z"
   },
   {
    "duration": 48,
    "start_time": "2025-05-16T16:11:58.315Z"
   },
   {
    "duration": 51,
    "start_time": "2025-05-16T16:12:22.889Z"
   },
   {
    "duration": 55,
    "start_time": "2025-05-16T16:12:59.785Z"
   },
   {
    "duration": 83,
    "start_time": "2025-05-16T16:13:25.597Z"
   },
   {
    "duration": 68,
    "start_time": "2025-05-16T16:13:29.122Z"
   },
   {
    "duration": 230,
    "start_time": "2025-05-16T16:20:03.629Z"
   },
   {
    "duration": 249,
    "start_time": "2025-05-16T16:20:25.476Z"
   },
   {
    "duration": 72,
    "start_time": "2025-05-16T16:22:41.950Z"
   },
   {
    "duration": 47,
    "start_time": "2025-05-16T16:29:36.558Z"
   },
   {
    "duration": 52,
    "start_time": "2025-05-16T16:29:39.317Z"
   },
   {
    "duration": 1113,
    "start_time": "2025-05-16T16:43:07.826Z"
   },
   {
    "duration": 231,
    "start_time": "2025-05-16T16:43:25.263Z"
   },
   {
    "duration": 60,
    "start_time": "2025-05-16T16:43:47.676Z"
   },
   {
    "duration": 1975,
    "start_time": "2025-05-16T16:47:18.967Z"
   },
   {
    "duration": 1882,
    "start_time": "2025-05-16T16:47:59.794Z"
   },
   {
    "duration": 462,
    "start_time": "2025-05-16T16:48:16.963Z"
   },
   {
    "duration": 343,
    "start_time": "2025-05-16T16:48:48.625Z"
   },
   {
    "duration": 182,
    "start_time": "2025-05-16T16:50:58.256Z"
   },
   {
    "duration": 226,
    "start_time": "2025-05-16T16:52:31.320Z"
   },
   {
    "duration": 193,
    "start_time": "2025-05-16T16:52:58.745Z"
   },
   {
    "duration": 187,
    "start_time": "2025-05-16T16:53:10.849Z"
   },
   {
    "duration": 217,
    "start_time": "2025-05-16T16:53:31.815Z"
   },
   {
    "duration": 242,
    "start_time": "2025-05-16T16:59:01.148Z"
   },
   {
    "duration": 231,
    "start_time": "2025-05-16T16:59:16.726Z"
   },
   {
    "duration": 255,
    "start_time": "2025-05-16T17:01:50.966Z"
   },
   {
    "duration": 450,
    "start_time": "2025-05-16T17:06:17.583Z"
   },
   {
    "duration": 162,
    "start_time": "2025-05-16T17:08:49.025Z"
   },
   {
    "duration": 152,
    "start_time": "2025-05-16T17:08:58.705Z"
   },
   {
    "duration": 77,
    "start_time": "2025-05-16T17:10:11.301Z"
   },
   {
    "duration": 150,
    "start_time": "2025-05-16T17:10:18.598Z"
   },
   {
    "duration": 13,
    "start_time": "2025-05-16T17:10:24.267Z"
   },
   {
    "duration": 70,
    "start_time": "2025-05-16T17:10:29.041Z"
   },
   {
    "duration": 62,
    "start_time": "2025-05-16T17:10:34.600Z"
   },
   {
    "duration": 62,
    "start_time": "2025-05-16T17:11:33.418Z"
   },
   {
    "duration": 156,
    "start_time": "2025-05-16T17:11:43.979Z"
   },
   {
    "duration": 372,
    "start_time": "2025-05-16T17:12:07.118Z"
   },
   {
    "duration": 398,
    "start_time": "2025-05-16T17:12:16.190Z"
   },
   {
    "duration": 388,
    "start_time": "2025-05-16T17:12:22.391Z"
   },
   {
    "duration": 85,
    "start_time": "2025-05-16T17:13:17.070Z"
   },
   {
    "duration": 1162,
    "start_time": "2025-05-16T17:13:20.996Z"
   },
   {
    "duration": 399,
    "start_time": "2025-05-16T17:13:46.253Z"
   },
   {
    "duration": 171,
    "start_time": "2025-05-16T17:14:24.544Z"
   },
   {
    "duration": 414,
    "start_time": "2025-05-16T17:14:29.353Z"
   },
   {
    "duration": 248,
    "start_time": "2025-05-16T17:15:34.520Z"
   },
   {
    "duration": 216,
    "start_time": "2025-05-16T17:16:03.074Z"
   },
   {
    "duration": 343,
    "start_time": "2025-05-16T17:17:38.549Z"
   },
   {
    "duration": 350,
    "start_time": "2025-05-16T17:17:46.466Z"
   },
   {
    "duration": 229,
    "start_time": "2025-05-16T17:17:59.896Z"
   },
   {
    "duration": 242,
    "start_time": "2025-05-16T17:18:08.481Z"
   },
   {
    "duration": 395,
    "start_time": "2025-05-16T17:18:18.394Z"
   },
   {
    "duration": 404,
    "start_time": "2025-05-16T17:19:12.935Z"
   },
   {
    "duration": 400,
    "start_time": "2025-05-16T17:19:55.472Z"
   },
   {
    "duration": 249,
    "start_time": "2025-05-16T17:20:21.790Z"
   },
   {
    "duration": 52,
    "start_time": "2025-05-16T18:56:58.026Z"
   },
   {
    "duration": 1479,
    "start_time": "2025-05-16T18:57:02.546Z"
   },
   {
    "duration": 2373,
    "start_time": "2025-05-16T18:57:04.027Z"
   },
   {
    "duration": 19,
    "start_time": "2025-05-16T18:57:06.402Z"
   },
   {
    "duration": 107,
    "start_time": "2025-05-16T18:57:06.423Z"
   },
   {
    "duration": 111,
    "start_time": "2025-05-16T18:57:06.532Z"
   },
   {
    "duration": 21,
    "start_time": "2025-05-16T18:57:06.645Z"
   },
   {
    "duration": 21,
    "start_time": "2025-05-16T18:57:06.668Z"
   },
   {
    "duration": 10,
    "start_time": "2025-05-16T18:57:06.690Z"
   },
   {
    "duration": 19,
    "start_time": "2025-05-16T18:57:06.701Z"
   },
   {
    "duration": 186,
    "start_time": "2025-05-16T18:57:06.722Z"
   },
   {
    "duration": 62,
    "start_time": "2025-05-16T18:57:06.910Z"
   },
   {
    "duration": 8,
    "start_time": "2025-05-16T18:57:06.974Z"
   },
   {
    "duration": 27,
    "start_time": "2025-05-16T18:57:06.983Z"
   },
   {
    "duration": 490,
    "start_time": "2025-05-16T18:57:07.012Z"
   },
   {
    "duration": 143,
    "start_time": "2025-05-16T18:57:07.503Z"
   },
   {
    "duration": 153,
    "start_time": "2025-05-16T18:57:07.648Z"
   },
   {
    "duration": 6,
    "start_time": "2025-05-16T18:57:07.803Z"
   },
   {
    "duration": 88,
    "start_time": "2025-05-16T18:57:07.810Z"
   },
   {
    "duration": 502,
    "start_time": "2025-05-16T18:57:07.899Z"
   },
   {
    "duration": 282,
    "start_time": "2025-05-16T18:57:08.403Z"
   },
   {
    "duration": 173,
    "start_time": "2025-05-16T18:57:08.687Z"
   },
   {
    "duration": 79,
    "start_time": "2025-05-16T18:57:08.862Z"
   },
   {
    "duration": 46,
    "start_time": "2025-05-16T18:57:08.942Z"
   },
   {
    "duration": 29,
    "start_time": "2025-05-16T18:57:08.989Z"
   },
   {
    "duration": 457,
    "start_time": "2025-05-16T18:57:09.020Z"
   },
   {
    "duration": 151,
    "start_time": "2025-05-16T18:57:09.479Z"
   },
   {
    "duration": 162,
    "start_time": "2025-05-16T18:57:09.633Z"
   },
   {
    "duration": 75,
    "start_time": "2025-05-16T18:57:09.800Z"
   },
   {
    "duration": 25,
    "start_time": "2025-05-16T18:57:09.878Z"
   },
   {
    "duration": 329,
    "start_time": "2025-05-16T18:57:09.905Z"
   },
   {
    "duration": 178,
    "start_time": "2025-05-16T18:57:10.236Z"
   },
   {
    "duration": 214,
    "start_time": "2025-05-16T18:57:10.416Z"
   },
   {
    "duration": 176,
    "start_time": "2025-05-16T18:57:10.632Z"
   },
   {
    "duration": 273,
    "start_time": "2025-05-16T18:57:10.809Z"
   },
   {
    "duration": 37,
    "start_time": "2025-05-16T18:57:11.084Z"
   },
   {
    "duration": 5761,
    "start_time": "2025-05-16T18:57:11.122Z"
   },
   {
    "duration": 5014,
    "start_time": "2025-05-16T18:57:16.885Z"
   },
   {
    "duration": 29,
    "start_time": "2025-05-16T18:57:21.901Z"
   },
   {
    "duration": 94,
    "start_time": "2025-05-16T18:57:21.932Z"
   },
   {
    "duration": 7,
    "start_time": "2025-05-16T18:57:22.028Z"
   },
   {
    "duration": 41,
    "start_time": "2025-05-16T18:57:22.037Z"
   },
   {
    "duration": 801,
    "start_time": "2025-05-16T18:57:22.080Z"
   },
   {
    "duration": 50,
    "start_time": "2025-05-16T18:57:22.883Z"
   },
   {
    "duration": 434,
    "start_time": "2025-05-16T18:57:22.935Z"
   },
   {
    "duration": 427,
    "start_time": "2025-05-16T18:57:23.372Z"
   },
   {
    "duration": 47,
    "start_time": "2025-05-16T18:57:23.800Z"
   },
   {
    "duration": 262,
    "start_time": "2025-05-16T18:58:22.660Z"
   },
   {
    "duration": 88,
    "start_time": "2025-05-16T18:58:47.392Z"
   },
   {
    "duration": 276,
    "start_time": "2025-05-16T18:58:52.455Z"
   },
   {
    "duration": 253,
    "start_time": "2025-05-16T18:59:18.914Z"
   },
   {
    "duration": 254,
    "start_time": "2025-05-16T19:00:19.062Z"
   },
   {
    "duration": 398,
    "start_time": "2025-05-16T19:00:29.832Z"
   },
   {
    "duration": 41,
    "start_time": "2025-05-16T19:04:58.084Z"
   },
   {
    "duration": 244,
    "start_time": "2025-05-16T19:10:57.236Z"
   },
   {
    "duration": 415,
    "start_time": "2025-05-16T19:11:29.826Z"
   },
   {
    "duration": 475,
    "start_time": "2025-05-16T19:11:44.981Z"
   },
   {
    "duration": 420,
    "start_time": "2025-05-16T19:12:27.902Z"
   },
   {
    "duration": 115,
    "start_time": "2025-05-16T19:12:45.454Z"
   },
   {
    "duration": 406,
    "start_time": "2025-05-16T19:12:54.976Z"
   },
   {
    "duration": 13,
    "start_time": "2025-05-16T19:19:55.374Z"
   },
   {
    "duration": 50,
    "start_time": "2025-05-16T19:20:04.519Z"
   },
   {
    "duration": 69,
    "start_time": "2025-05-16T19:22:50.774Z"
   },
   {
    "duration": 70,
    "start_time": "2025-05-16T19:24:06.068Z"
   },
   {
    "duration": 79,
    "start_time": "2025-05-16T19:24:13.935Z"
   },
   {
    "duration": 262,
    "start_time": "2025-05-16T19:25:02.687Z"
   },
   {
    "duration": 322,
    "start_time": "2025-05-16T19:28:03.523Z"
   },
   {
    "duration": 307,
    "start_time": "2025-05-16T19:29:23.891Z"
   },
   {
    "duration": 98,
    "start_time": "2025-05-16T20:45:24.969Z"
   },
   {
    "duration": 86,
    "start_time": "2025-05-16T20:46:22.220Z"
   },
   {
    "duration": 90,
    "start_time": "2025-05-16T20:46:29.268Z"
   },
   {
    "duration": 93,
    "start_time": "2025-05-16T20:47:38.577Z"
   },
   {
    "duration": 95,
    "start_time": "2025-05-16T20:47:57.638Z"
   },
   {
    "duration": 104,
    "start_time": "2025-05-16T20:48:22.881Z"
   },
   {
    "duration": 94,
    "start_time": "2025-05-16T20:48:30.584Z"
   },
   {
    "duration": 139,
    "start_time": "2025-05-16T20:48:50.700Z"
   },
   {
    "duration": 363,
    "start_time": "2025-05-16T20:50:47.847Z"
   },
   {
    "duration": 1229,
    "start_time": "2025-05-16T20:51:36.387Z"
   },
   {
    "duration": 490,
    "start_time": "2025-05-16T20:54:17.774Z"
   },
   {
    "duration": 331,
    "start_time": "2025-05-16T20:56:16.962Z"
   },
   {
    "duration": 330,
    "start_time": "2025-05-16T20:56:34.445Z"
   },
   {
    "duration": 511,
    "start_time": "2025-05-16T20:57:01.754Z"
   },
   {
    "duration": 523,
    "start_time": "2025-05-16T20:57:25.858Z"
   },
   {
    "duration": 496,
    "start_time": "2025-05-16T20:57:46.183Z"
   },
   {
    "duration": 329,
    "start_time": "2025-05-16T20:58:22.369Z"
   },
   {
    "duration": 357,
    "start_time": "2025-05-16T20:58:36.624Z"
   },
   {
    "duration": 575,
    "start_time": "2025-05-16T20:58:40.713Z"
   },
   {
    "duration": 471,
    "start_time": "2025-05-16T20:58:45.762Z"
   },
   {
    "duration": 649,
    "start_time": "2025-05-16T21:02:05.367Z"
   },
   {
    "duration": 1483,
    "start_time": "2025-05-16T21:04:40.525Z"
   },
   {
    "duration": 445,
    "start_time": "2025-05-16T21:04:46.232Z"
   },
   {
    "duration": 485,
    "start_time": "2025-05-16T21:04:53.656Z"
   },
   {
    "duration": 509,
    "start_time": "2025-05-16T21:05:05.688Z"
   },
   {
    "duration": 602,
    "start_time": "2025-05-16T21:13:03.744Z"
   },
   {
    "duration": 81,
    "start_time": "2025-05-16T21:19:25.576Z"
   },
   {
    "duration": 79,
    "start_time": "2025-05-16T21:19:31.271Z"
   },
   {
    "duration": 417,
    "start_time": "2025-05-16T21:19:58.947Z"
   },
   {
    "duration": 382,
    "start_time": "2025-05-16T21:21:14.610Z"
   },
   {
    "duration": 515,
    "start_time": "2025-05-16T21:22:19.294Z"
   },
   {
    "duration": 407,
    "start_time": "2025-05-16T21:22:47.475Z"
   },
   {
    "duration": 79,
    "start_time": "2025-05-16T21:31:12.627Z"
   },
   {
    "duration": 90,
    "start_time": "2025-05-16T21:31:19.250Z"
   },
   {
    "duration": 1600,
    "start_time": "2025-05-16T21:32:14.617Z"
   },
   {
    "duration": 85,
    "start_time": "2025-05-16T21:32:27.400Z"
   },
   {
    "duration": 245,
    "start_time": "2025-05-16T21:33:03.007Z"
   },
   {
    "duration": 350,
    "start_time": "2025-05-16T21:33:31.063Z"
   },
   {
    "duration": 280,
    "start_time": "2025-05-16T21:35:22.822Z"
   },
   {
    "duration": 294,
    "start_time": "2025-05-16T21:35:32.681Z"
   },
   {
    "duration": 270,
    "start_time": "2025-05-16T21:35:38.280Z"
   },
   {
    "duration": 69,
    "start_time": "2025-05-16T21:55:21.820Z"
   },
   {
    "duration": 52,
    "start_time": "2025-05-16T21:55:28.162Z"
   },
   {
    "duration": 53,
    "start_time": "2025-05-16T21:55:56.021Z"
   },
   {
    "duration": 53,
    "start_time": "2025-05-16T21:56:07.523Z"
   },
   {
    "duration": 60,
    "start_time": "2025-05-16T21:56:45.308Z"
   },
   {
    "duration": 1159,
    "start_time": "2025-05-16T21:57:29.700Z"
   },
   {
    "duration": 54,
    "start_time": "2025-05-16T21:57:33.813Z"
   },
   {
    "duration": 68,
    "start_time": "2025-05-16T22:00:52.553Z"
   },
   {
    "duration": 60,
    "start_time": "2025-05-16T22:01:01.788Z"
   },
   {
    "duration": 64,
    "start_time": "2025-05-16T22:01:50.341Z"
   },
   {
    "duration": 85,
    "start_time": "2025-05-16T22:07:10.914Z"
   },
   {
    "duration": 358,
    "start_time": "2025-05-16T22:07:15.445Z"
   },
   {
    "duration": 558,
    "start_time": "2025-05-16T22:07:56.108Z"
   },
   {
    "duration": 79,
    "start_time": "2025-05-16T22:08:31.892Z"
   },
   {
    "duration": 54,
    "start_time": "2025-05-16T22:08:57.179Z"
   },
   {
    "duration": 66,
    "start_time": "2025-05-16T22:09:02.014Z"
   },
   {
    "duration": 96,
    "start_time": "2025-05-16T22:15:29.151Z"
   },
   {
    "duration": 65,
    "start_time": "2025-05-16T22:15:36.968Z"
   },
   {
    "duration": 13,
    "start_time": "2025-05-16T22:39:46.914Z"
   },
   {
    "duration": 150,
    "start_time": "2025-05-16T22:39:58.885Z"
   },
   {
    "duration": 133,
    "start_time": "2025-05-16T22:40:28.013Z"
   },
   {
    "duration": 143,
    "start_time": "2025-05-16T22:40:32.152Z"
   },
   {
    "duration": 3,
    "start_time": "2025-05-16T22:42:53.130Z"
   },
   {
    "duration": 118,
    "start_time": "2025-05-16T22:57:43.846Z"
   },
   {
    "duration": 108,
    "start_time": "2025-05-16T22:57:53.518Z"
   },
   {
    "duration": 166,
    "start_time": "2025-05-16T22:59:36.744Z"
   },
   {
    "duration": 162,
    "start_time": "2025-05-16T22:59:42.830Z"
   },
   {
    "duration": 158,
    "start_time": "2025-05-16T23:00:11.936Z"
   },
   {
    "duration": 1714,
    "start_time": "2025-05-16T23:02:20.699Z"
   },
   {
    "duration": 1568,
    "start_time": "2025-05-16T23:04:06.077Z"
   },
   {
    "duration": 1773,
    "start_time": "2025-05-16T23:05:15.309Z"
   },
   {
    "duration": 172,
    "start_time": "2025-05-16T23:05:56.040Z"
   },
   {
    "duration": 1465,
    "start_time": "2025-05-17T07:03:54.917Z"
   },
   {
    "duration": 2218,
    "start_time": "2025-05-17T07:03:56.385Z"
   },
   {
    "duration": 19,
    "start_time": "2025-05-17T07:03:58.605Z"
   },
   {
    "duration": 129,
    "start_time": "2025-05-17T07:03:58.626Z"
   },
   {
    "duration": 105,
    "start_time": "2025-05-17T07:03:58.757Z"
   },
   {
    "duration": 12,
    "start_time": "2025-05-17T07:03:58.864Z"
   },
   {
    "duration": 43,
    "start_time": "2025-05-17T07:03:58.877Z"
   },
   {
    "duration": 10,
    "start_time": "2025-05-17T07:03:58.922Z"
   },
   {
    "duration": 17,
    "start_time": "2025-05-17T07:03:58.934Z"
   },
   {
    "duration": 146,
    "start_time": "2025-05-17T07:03:58.954Z"
   },
   {
    "duration": 73,
    "start_time": "2025-05-17T07:03:59.102Z"
   },
   {
    "duration": 7,
    "start_time": "2025-05-17T07:03:59.176Z"
   },
   {
    "duration": 23,
    "start_time": "2025-05-17T07:03:59.185Z"
   },
   {
    "duration": 464,
    "start_time": "2025-05-17T07:03:59.241Z"
   },
   {
    "duration": 136,
    "start_time": "2025-05-17T07:03:59.707Z"
   },
   {
    "duration": 141,
    "start_time": "2025-05-17T07:03:59.845Z"
   },
   {
    "duration": 5,
    "start_time": "2025-05-17T07:03:59.988Z"
   },
   {
    "duration": 58,
    "start_time": "2025-05-17T07:03:59.995Z"
   },
   {
    "duration": 566,
    "start_time": "2025-05-17T07:04:00.055Z"
   },
   {
    "duration": 190,
    "start_time": "2025-05-17T07:04:00.622Z"
   },
   {
    "duration": 191,
    "start_time": "2025-05-17T07:04:00.813Z"
   },
   {
    "duration": 107,
    "start_time": "2025-05-17T07:04:01.006Z"
   },
   {
    "duration": 34,
    "start_time": "2025-05-17T07:04:01.115Z"
   },
   {
    "duration": 116,
    "start_time": "2025-05-17T07:04:01.152Z"
   },
   {
    "duration": 390,
    "start_time": "2025-05-17T07:04:01.269Z"
   },
   {
    "duration": 145,
    "start_time": "2025-05-17T07:04:01.660Z"
   },
   {
    "duration": 155,
    "start_time": "2025-05-17T07:04:01.807Z"
   },
   {
    "duration": 63,
    "start_time": "2025-05-17T07:04:01.964Z"
   },
   {
    "duration": 25,
    "start_time": "2025-05-17T07:04:02.039Z"
   },
   {
    "duration": 341,
    "start_time": "2025-05-17T07:04:02.065Z"
   },
   {
    "duration": 182,
    "start_time": "2025-05-17T07:04:02.408Z"
   },
   {
    "duration": 204,
    "start_time": "2025-05-17T07:04:02.592Z"
   },
   {
    "duration": 183,
    "start_time": "2025-05-17T07:04:02.797Z"
   },
   {
    "duration": 269,
    "start_time": "2025-05-17T07:04:02.982Z"
   },
   {
    "duration": 34,
    "start_time": "2025-05-17T07:04:03.253Z"
   },
   {
    "duration": 5824,
    "start_time": "2025-05-17T07:04:03.289Z"
   },
   {
    "duration": 4734,
    "start_time": "2025-05-17T07:04:09.115Z"
   },
   {
    "duration": 28,
    "start_time": "2025-05-17T07:04:13.851Z"
   },
   {
    "duration": 90,
    "start_time": "2025-05-17T07:04:13.881Z"
   },
   {
    "duration": 6,
    "start_time": "2025-05-17T07:04:13.972Z"
   },
   {
    "duration": 24,
    "start_time": "2025-05-17T07:04:13.982Z"
   },
   {
    "duration": 792,
    "start_time": "2025-05-17T07:04:14.007Z"
   },
   {
    "duration": 68,
    "start_time": "2025-05-17T07:04:14.801Z"
   },
   {
    "duration": 413,
    "start_time": "2025-05-17T07:04:14.871Z"
   },
   {
    "duration": 411,
    "start_time": "2025-05-17T07:04:15.287Z"
   },
   {
    "duration": 56,
    "start_time": "2025-05-17T07:04:15.700Z"
   },
   {
    "duration": 243,
    "start_time": "2025-05-17T07:04:15.758Z"
   },
   {
    "duration": 339,
    "start_time": "2025-05-17T07:04:16.002Z"
   },
   {
    "duration": 34,
    "start_time": "2025-05-17T07:04:16.342Z"
   },
   {
    "duration": 250,
    "start_time": "2025-05-17T07:04:16.378Z"
   },
   {
    "duration": 346,
    "start_time": "2025-05-17T07:04:16.630Z"
   },
   {
    "duration": 62,
    "start_time": "2025-05-17T07:04:16.978Z"
   },
   {
    "duration": 269,
    "start_time": "2025-05-17T07:04:17.042Z"
   },
   {
    "duration": 151,
    "start_time": "2025-05-17T07:04:17.313Z"
   },
   {
    "duration": 448,
    "start_time": "2025-05-17T07:04:17.466Z"
   },
   {
    "duration": 404,
    "start_time": "2025-05-17T07:04:17.916Z"
   },
   {
    "duration": 371,
    "start_time": "2025-05-17T07:04:18.322Z"
   },
   {
    "duration": 419,
    "start_time": "2025-05-17T07:04:18.694Z"
   },
   {
    "duration": 352,
    "start_time": "2025-05-17T07:04:19.115Z"
   },
   {
    "duration": 235,
    "start_time": "2025-05-17T07:04:19.469Z"
   },
   {
    "duration": 85,
    "start_time": "2025-05-17T07:04:19.705Z"
   },
   {
    "duration": 73,
    "start_time": "2025-05-17T07:04:19.791Z"
   },
   {
    "duration": 122,
    "start_time": "2025-05-17T07:04:19.865Z"
   },
   {
    "duration": 154,
    "start_time": "2025-05-17T07:04:19.989Z"
   },
   {
    "duration": 164,
    "start_time": "2025-05-17T07:04:20.144Z"
   },
   {
    "duration": 84,
    "start_time": "2025-05-17T07:32:50.105Z"
   },
   {
    "duration": 91,
    "start_time": "2025-05-17T07:33:10.472Z"
   },
   {
    "duration": 76,
    "start_time": "2025-05-17T07:41:07.768Z"
   },
   {
    "duration": 85,
    "start_time": "2025-05-17T07:41:16.800Z"
   },
   {
    "duration": 122,
    "start_time": "2025-05-17T07:42:53.545Z"
   },
   {
    "duration": 14,
    "start_time": "2025-05-17T07:43:54.473Z"
   },
   {
    "duration": 15,
    "start_time": "2025-05-17T07:44:05.434Z"
   },
   {
    "duration": 14,
    "start_time": "2025-05-17T07:44:44.561Z"
   },
   {
    "duration": 92,
    "start_time": "2025-05-17T07:45:15.233Z"
   },
   {
    "duration": 15,
    "start_time": "2025-05-17T07:50:11.721Z"
   },
   {
    "duration": 25,
    "start_time": "2025-05-17T07:50:21.241Z"
   },
   {
    "duration": 36,
    "start_time": "2025-05-17T07:50:40.920Z"
   },
   {
    "duration": 119,
    "start_time": "2025-05-17T07:51:00.849Z"
   },
   {
    "duration": 26,
    "start_time": "2025-05-17T07:51:04.897Z"
   },
   {
    "duration": 17,
    "start_time": "2025-05-17T07:53:38.281Z"
   },
   {
    "duration": 7,
    "start_time": "2025-05-17T07:55:24.835Z"
   },
   {
    "duration": 15,
    "start_time": "2025-05-17T08:12:41.201Z"
   },
   {
    "duration": 8,
    "start_time": "2025-05-17T08:16:37.332Z"
   },
   {
    "duration": 3,
    "start_time": "2025-05-17T08:24:14.759Z"
   },
   {
    "duration": 5210,
    "start_time": "2025-05-17T08:24:14.764Z"
   },
   {
    "duration": 15,
    "start_time": "2025-05-17T08:24:19.976Z"
   },
   {
    "duration": 156,
    "start_time": "2025-05-17T08:24:19.993Z"
   },
   {
    "duration": 107,
    "start_time": "2025-05-17T08:24:20.152Z"
   },
   {
    "duration": 12,
    "start_time": "2025-05-17T08:24:20.261Z"
   },
   {
    "duration": 21,
    "start_time": "2025-05-17T08:24:20.275Z"
   },
   {
    "duration": 17,
    "start_time": "2025-05-17T08:24:20.298Z"
   },
   {
    "duration": 32,
    "start_time": "2025-05-17T08:24:20.317Z"
   },
   {
    "duration": 151,
    "start_time": "2025-05-17T08:24:20.352Z"
   },
   {
    "duration": 55,
    "start_time": "2025-05-17T08:24:20.505Z"
   },
   {
    "duration": 7,
    "start_time": "2025-05-17T08:24:20.562Z"
   },
   {
    "duration": 38,
    "start_time": "2025-05-17T08:24:20.570Z"
   },
   {
    "duration": 457,
    "start_time": "2025-05-17T08:24:20.610Z"
   },
   {
    "duration": 264,
    "start_time": "2025-05-17T08:24:21.069Z"
   },
   {
    "duration": 146,
    "start_time": "2025-05-17T08:24:21.334Z"
   },
   {
    "duration": 6,
    "start_time": "2025-05-17T08:24:21.481Z"
   },
   {
    "duration": 56,
    "start_time": "2025-05-17T08:24:21.488Z"
   },
   {
    "duration": 484,
    "start_time": "2025-05-17T08:24:21.545Z"
   },
   {
    "duration": 180,
    "start_time": "2025-05-17T08:24:22.038Z"
   },
   {
    "duration": 165,
    "start_time": "2025-05-17T08:24:22.220Z"
   },
   {
    "duration": 80,
    "start_time": "2025-05-17T08:24:22.387Z"
   },
   {
    "duration": 24,
    "start_time": "2025-05-17T08:24:22.469Z"
   },
   {
    "duration": 52,
    "start_time": "2025-05-17T08:24:22.495Z"
   },
   {
    "duration": 414,
    "start_time": "2025-05-17T08:24:22.549Z"
   },
   {
    "duration": 145,
    "start_time": "2025-05-17T08:24:22.965Z"
   },
   {
    "duration": 255,
    "start_time": "2025-05-17T08:24:23.112Z"
   },
   {
    "duration": 71,
    "start_time": "2025-05-17T08:24:23.371Z"
   },
   {
    "duration": 25,
    "start_time": "2025-05-17T08:24:23.444Z"
   },
   {
    "duration": 308,
    "start_time": "2025-05-17T08:24:23.470Z"
   },
   {
    "duration": 149,
    "start_time": "2025-05-17T08:24:23.779Z"
   },
   {
    "duration": 165,
    "start_time": "2025-05-17T08:24:23.930Z"
   },
   {
    "duration": 142,
    "start_time": "2025-05-17T08:24:24.097Z"
   },
   {
    "duration": 238,
    "start_time": "2025-05-17T08:24:24.241Z"
   },
   {
    "duration": 36,
    "start_time": "2025-05-17T08:24:24.482Z"
   },
   {
    "duration": 5645,
    "start_time": "2025-05-17T08:24:24.520Z"
   },
   {
    "duration": 5196,
    "start_time": "2025-05-17T08:24:30.167Z"
   },
   {
    "duration": 30,
    "start_time": "2025-05-17T08:24:35.364Z"
   },
   {
    "duration": 120,
    "start_time": "2025-05-17T08:24:35.396Z"
   },
   {
    "duration": 7,
    "start_time": "2025-05-17T08:24:35.517Z"
   },
   {
    "duration": 87,
    "start_time": "2025-05-17T08:24:35.525Z"
   },
   {
    "duration": 772,
    "start_time": "2025-05-17T08:24:35.614Z"
   },
   {
    "duration": 60,
    "start_time": "2025-05-17T08:24:36.387Z"
   },
   {
    "duration": 418,
    "start_time": "2025-05-17T08:24:36.449Z"
   },
   {
    "duration": 418,
    "start_time": "2025-05-17T08:24:36.869Z"
   },
   {
    "duration": 59,
    "start_time": "2025-05-17T08:24:37.288Z"
   },
   {
    "duration": 261,
    "start_time": "2025-05-17T08:24:37.348Z"
   },
   {
    "duration": 363,
    "start_time": "2025-05-17T08:24:37.612Z"
   },
   {
    "duration": 34,
    "start_time": "2025-05-17T08:24:37.976Z"
   },
   {
    "duration": 248,
    "start_time": "2025-05-17T08:24:38.011Z"
   },
   {
    "duration": 339,
    "start_time": "2025-05-17T08:24:38.261Z"
   },
   {
    "duration": 58,
    "start_time": "2025-05-17T08:24:38.602Z"
   },
   {
    "duration": 279,
    "start_time": "2025-05-17T08:24:38.661Z"
   },
   {
    "duration": 159,
    "start_time": "2025-05-17T08:24:38.942Z"
   },
   {
    "duration": 421,
    "start_time": "2025-05-17T08:24:39.103Z"
   },
   {
    "duration": 456,
    "start_time": "2025-05-17T08:24:39.526Z"
   },
   {
    "duration": 425,
    "start_time": "2025-05-17T08:24:39.984Z"
   },
   {
    "duration": 442,
    "start_time": "2025-05-17T08:24:40.411Z"
   },
   {
    "duration": 418,
    "start_time": "2025-05-17T08:24:40.855Z"
   },
   {
    "duration": 256,
    "start_time": "2025-05-17T08:24:41.275Z"
   },
   {
    "duration": 66,
    "start_time": "2025-05-17T08:24:41.534Z"
   },
   {
    "duration": 90,
    "start_time": "2025-05-17T08:24:41.602Z"
   },
   {
    "duration": 154,
    "start_time": "2025-05-17T08:24:41.694Z"
   },
   {
    "duration": 107,
    "start_time": "2025-05-17T08:24:41.850Z"
   },
   {
    "duration": 112,
    "start_time": "2025-05-17T08:24:41.958Z"
   },
   {
    "duration": 68,
    "start_time": "2025-05-17T08:24:42.072Z"
   },
   {
    "duration": 26,
    "start_time": "2025-05-17T08:24:42.141Z"
   },
   {
    "duration": 14,
    "start_time": "2025-05-17T08:24:42.169Z"
   },
   {
    "duration": 28,
    "start_time": "2025-05-17T08:24:42.185Z"
   },
   {
    "duration": 53,
    "start_time": "2025-05-17T08:24:42.215Z"
   },
   {
    "duration": 24,
    "start_time": "2025-05-17T08:24:42.270Z"
   },
   {
    "duration": 122,
    "start_time": "2025-05-17T08:25:03.999Z"
   },
   {
    "duration": 95,
    "start_time": "2025-05-17T08:25:23.214Z"
   },
   {
    "duration": 107,
    "start_time": "2025-05-17T08:25:26.599Z"
   },
   {
    "duration": 58,
    "start_time": "2025-05-17T08:25:35.118Z"
   },
   {
    "duration": 24,
    "start_time": "2025-05-17T08:25:37.998Z"
   },
   {
    "duration": 14,
    "start_time": "2025-05-17T08:25:45.894Z"
   },
   {
    "duration": 9,
    "start_time": "2025-05-17T08:25:53.486Z"
   },
   {
    "duration": 13,
    "start_time": "2025-05-17T08:26:00.558Z"
   },
   {
    "duration": 8,
    "start_time": "2025-05-17T08:26:03.863Z"
   },
   {
    "duration": 102,
    "start_time": "2025-05-17T08:26:54.461Z"
   },
   {
    "duration": 13,
    "start_time": "2025-05-17T08:32:46.845Z"
   },
   {
    "duration": 15,
    "start_time": "2025-05-17T08:33:29.166Z"
   },
   {
    "duration": 15,
    "start_time": "2025-05-17T08:33:56.591Z"
   },
   {
    "duration": 1054,
    "start_time": "2025-05-17T08:47:39.358Z"
   },
   {
    "duration": 13,
    "start_time": "2025-05-17T08:47:58.669Z"
   },
   {
    "duration": 15,
    "start_time": "2025-05-17T08:49:44.638Z"
   },
   {
    "duration": 1287,
    "start_time": "2025-05-17T08:52:10.775Z"
   },
   {
    "duration": 11,
    "start_time": "2025-05-17T08:52:19.534Z"
   },
   {
    "duration": 10,
    "start_time": "2025-05-17T08:52:34.397Z"
   },
   {
    "duration": 10,
    "start_time": "2025-05-17T08:52:51.566Z"
   },
   {
    "duration": 3,
    "start_time": "2025-05-17T09:08:22.777Z"
   },
   {
    "duration": 1771,
    "start_time": "2025-05-17T09:08:22.782Z"
   },
   {
    "duration": 16,
    "start_time": "2025-05-17T09:08:24.554Z"
   },
   {
    "duration": 108,
    "start_time": "2025-05-17T09:08:24.571Z"
   },
   {
    "duration": 107,
    "start_time": "2025-05-17T09:08:24.682Z"
   },
   {
    "duration": 13,
    "start_time": "2025-05-17T09:08:24.790Z"
   },
   {
    "duration": 35,
    "start_time": "2025-05-17T09:08:24.804Z"
   },
   {
    "duration": 9,
    "start_time": "2025-05-17T09:08:24.841Z"
   },
   {
    "duration": 24,
    "start_time": "2025-05-17T09:08:24.852Z"
   },
   {
    "duration": 172,
    "start_time": "2025-05-17T09:08:24.879Z"
   },
   {
    "duration": 35,
    "start_time": "2025-05-17T09:08:25.053Z"
   },
   {
    "duration": 6,
    "start_time": "2025-05-17T09:08:25.090Z"
   },
   {
    "duration": 56,
    "start_time": "2025-05-17T09:08:25.097Z"
   },
   {
    "duration": 483,
    "start_time": "2025-05-17T09:08:25.156Z"
   },
   {
    "duration": 144,
    "start_time": "2025-05-17T09:08:25.640Z"
   },
   {
    "duration": 141,
    "start_time": "2025-05-17T09:08:25.785Z"
   },
   {
    "duration": 15,
    "start_time": "2025-05-17T09:08:25.928Z"
   },
   {
    "duration": 67,
    "start_time": "2025-05-17T09:08:25.944Z"
   },
   {
    "duration": 495,
    "start_time": "2025-05-17T09:08:26.013Z"
   },
   {
    "duration": 200,
    "start_time": "2025-05-17T09:08:26.510Z"
   },
   {
    "duration": 165,
    "start_time": "2025-05-17T09:08:26.712Z"
   },
   {
    "duration": 111,
    "start_time": "2025-05-17T09:08:26.879Z"
   },
   {
    "duration": 34,
    "start_time": "2025-05-17T09:08:26.992Z"
   },
   {
    "duration": 42,
    "start_time": "2025-05-17T09:08:27.040Z"
   },
   {
    "duration": 452,
    "start_time": "2025-05-17T09:08:27.084Z"
   },
   {
    "duration": 173,
    "start_time": "2025-05-17T09:08:27.540Z"
   },
   {
    "duration": 337,
    "start_time": "2025-05-17T09:08:27.715Z"
   },
   {
    "duration": 88,
    "start_time": "2025-05-17T09:08:28.054Z"
   },
   {
    "duration": 25,
    "start_time": "2025-05-17T09:08:28.143Z"
   },
   {
    "duration": 275,
    "start_time": "2025-05-17T09:08:28.169Z"
   },
   {
    "duration": 146,
    "start_time": "2025-05-17T09:08:28.446Z"
   },
   {
    "duration": 163,
    "start_time": "2025-05-17T09:08:28.594Z"
   },
   {
    "duration": 140,
    "start_time": "2025-05-17T09:08:28.759Z"
   },
   {
    "duration": 254,
    "start_time": "2025-05-17T09:08:28.901Z"
   },
   {
    "duration": 34,
    "start_time": "2025-05-17T09:08:29.156Z"
   },
   {
    "duration": 5881,
    "start_time": "2025-05-17T09:08:29.192Z"
   },
   {
    "duration": 5207,
    "start_time": "2025-05-17T09:08:35.074Z"
   },
   {
    "duration": 28,
    "start_time": "2025-05-17T09:08:40.283Z"
   },
   {
    "duration": 132,
    "start_time": "2025-05-17T09:08:40.312Z"
   },
   {
    "duration": 6,
    "start_time": "2025-05-17T09:08:40.445Z"
   },
   {
    "duration": 33,
    "start_time": "2025-05-17T09:08:40.456Z"
   },
   {
    "duration": 664,
    "start_time": "2025-05-17T09:08:40.490Z"
   },
   {
    "duration": 45,
    "start_time": "2025-05-17T09:08:41.155Z"
   },
   {
    "duration": 409,
    "start_time": "2025-05-17T09:08:41.201Z"
   },
   {
    "duration": 398,
    "start_time": "2025-05-17T09:08:41.611Z"
   },
   {
    "duration": 55,
    "start_time": "2025-05-17T09:08:42.010Z"
   },
   {
    "duration": 225,
    "start_time": "2025-05-17T09:08:42.067Z"
   },
   {
    "duration": 359,
    "start_time": "2025-05-17T09:08:42.295Z"
   },
   {
    "duration": 34,
    "start_time": "2025-05-17T09:08:42.656Z"
   },
   {
    "duration": 228,
    "start_time": "2025-05-17T09:08:42.692Z"
   },
   {
    "duration": 333,
    "start_time": "2025-05-17T09:08:42.921Z"
   },
   {
    "duration": 49,
    "start_time": "2025-05-17T09:08:43.256Z"
   },
   {
    "duration": 308,
    "start_time": "2025-05-17T09:08:43.307Z"
   },
   {
    "duration": 143,
    "start_time": "2025-05-17T09:08:43.616Z"
   },
   {
    "duration": 529,
    "start_time": "2025-05-17T09:08:43.761Z"
   },
   {
    "duration": 412,
    "start_time": "2025-05-17T09:08:44.338Z"
   },
   {
    "duration": 425,
    "start_time": "2025-05-17T09:08:44.752Z"
   },
   {
    "duration": 435,
    "start_time": "2025-05-17T09:08:45.180Z"
   },
   {
    "duration": 381,
    "start_time": "2025-05-17T09:08:45.617Z"
   },
   {
    "duration": 247,
    "start_time": "2025-05-17T09:08:46.000Z"
   },
   {
    "duration": 61,
    "start_time": "2025-05-17T09:08:46.249Z"
   },
   {
    "duration": 81,
    "start_time": "2025-05-17T09:08:46.312Z"
   },
   {
    "duration": 126,
    "start_time": "2025-05-17T09:08:46.395Z"
   },
   {
    "duration": 101,
    "start_time": "2025-05-17T09:08:46.523Z"
   },
   {
    "duration": 107,
    "start_time": "2025-05-17T09:08:46.638Z"
   },
   {
    "duration": 58,
    "start_time": "2025-05-17T09:08:46.747Z"
   },
   {
    "duration": 43,
    "start_time": "2025-05-17T09:08:46.806Z"
   },
   {
    "duration": 15,
    "start_time": "2025-05-17T09:08:46.851Z"
   },
   {
    "duration": 22,
    "start_time": "2025-05-17T09:08:46.867Z"
   },
   {
    "duration": 18,
    "start_time": "2025-05-17T09:08:46.891Z"
   },
   {
    "duration": 6,
    "start_time": "2025-05-17T09:08:46.911Z"
   },
   {
    "duration": 36,
    "start_time": "2025-05-17T09:08:46.918Z"
   },
   {
    "duration": 38,
    "start_time": "2025-05-17T09:08:46.956Z"
   },
   {
    "duration": 24,
    "start_time": "2025-05-17T09:08:46.996Z"
   },
   {
    "duration": 14,
    "start_time": "2025-05-17T09:10:14.087Z"
   },
   {
    "duration": 15,
    "start_time": "2025-05-17T09:11:10.504Z"
   },
   {
    "duration": 8,
    "start_time": "2025-05-17T09:11:38.376Z"
   },
   {
    "duration": 15,
    "start_time": "2025-05-17T09:11:50.151Z"
   },
   {
    "duration": 20,
    "start_time": "2025-05-17T09:12:06.136Z"
   },
   {
    "duration": 15,
    "start_time": "2025-05-17T09:12:30.407Z"
   },
   {
    "duration": 19,
    "start_time": "2025-05-17T09:12:41.015Z"
   },
   {
    "duration": 16,
    "start_time": "2025-05-17T09:12:43.298Z"
   },
   {
    "duration": 18,
    "start_time": "2025-05-17T09:13:26.311Z"
   },
   {
    "duration": 16,
    "start_time": "2025-05-17T09:13:34.327Z"
   },
   {
    "duration": 15,
    "start_time": "2025-05-17T09:14:36.991Z"
   },
   {
    "duration": 15,
    "start_time": "2025-05-17T09:15:59.072Z"
   },
   {
    "duration": 102,
    "start_time": "2025-05-17T09:16:12.087Z"
   },
   {
    "duration": 3,
    "start_time": "2025-05-17T10:24:15.592Z"
   },
   {
    "duration": 2279,
    "start_time": "2025-05-17T10:24:15.597Z"
   },
   {
    "duration": 15,
    "start_time": "2025-05-17T10:24:17.877Z"
   },
   {
    "duration": 100,
    "start_time": "2025-05-17T10:24:17.894Z"
   },
   {
    "duration": 99,
    "start_time": "2025-05-17T10:24:17.997Z"
   },
   {
    "duration": 12,
    "start_time": "2025-05-17T10:24:18.098Z"
   },
   {
    "duration": 56,
    "start_time": "2025-05-17T10:24:18.112Z"
   },
   {
    "duration": 14,
    "start_time": "2025-05-17T10:24:18.169Z"
   },
   {
    "duration": 37,
    "start_time": "2025-05-17T10:24:18.185Z"
   },
   {
    "duration": 170,
    "start_time": "2025-05-17T10:24:18.224Z"
   },
   {
    "duration": 57,
    "start_time": "2025-05-17T10:24:18.395Z"
   },
   {
    "duration": 6,
    "start_time": "2025-05-17T10:24:18.454Z"
   },
   {
    "duration": 34,
    "start_time": "2025-05-17T10:24:18.462Z"
   },
   {
    "duration": 429,
    "start_time": "2025-05-17T10:24:18.499Z"
   },
   {
    "duration": 154,
    "start_time": "2025-05-17T10:24:18.930Z"
   },
   {
    "duration": 155,
    "start_time": "2025-05-17T10:24:19.086Z"
   },
   {
    "duration": 5,
    "start_time": "2025-05-17T10:24:19.243Z"
   },
   {
    "duration": 60,
    "start_time": "2025-05-17T10:24:19.250Z"
   },
   {
    "duration": 500,
    "start_time": "2025-05-17T10:24:19.312Z"
   },
   {
    "duration": 194,
    "start_time": "2025-05-17T10:24:19.814Z"
   },
   {
    "duration": 182,
    "start_time": "2025-05-17T10:24:20.009Z"
   },
   {
    "duration": 91,
    "start_time": "2025-05-17T10:24:20.193Z"
   },
   {
    "duration": 25,
    "start_time": "2025-05-17T10:24:20.286Z"
   },
   {
    "duration": 75,
    "start_time": "2025-05-17T10:24:20.313Z"
   },
   {
    "duration": 419,
    "start_time": "2025-05-17T10:24:20.390Z"
   },
   {
    "duration": 167,
    "start_time": "2025-05-17T10:24:20.811Z"
   },
   {
    "duration": 378,
    "start_time": "2025-05-17T10:24:20.981Z"
   },
   {
    "duration": 64,
    "start_time": "2025-05-17T10:24:21.361Z"
   },
   {
    "duration": 31,
    "start_time": "2025-05-17T10:24:21.438Z"
   },
   {
    "duration": 303,
    "start_time": "2025-05-17T10:24:21.471Z"
   },
   {
    "duration": 155,
    "start_time": "2025-05-17T10:24:21.776Z"
   },
   {
    "duration": 176,
    "start_time": "2025-05-17T10:24:21.933Z"
   },
   {
    "duration": 162,
    "start_time": "2025-05-17T10:24:22.111Z"
   },
   {
    "duration": 251,
    "start_time": "2025-05-17T10:24:22.275Z"
   },
   {
    "duration": 43,
    "start_time": "2025-05-17T10:24:22.528Z"
   },
   {
    "duration": 5762,
    "start_time": "2025-05-17T10:24:22.572Z"
   },
   {
    "duration": 5082,
    "start_time": "2025-05-17T10:24:28.339Z"
   },
   {
    "duration": 35,
    "start_time": "2025-05-17T10:24:33.423Z"
   },
   {
    "duration": 136,
    "start_time": "2025-05-17T10:24:33.460Z"
   },
   {
    "duration": 6,
    "start_time": "2025-05-17T10:24:33.598Z"
   },
   {
    "duration": 73,
    "start_time": "2025-05-17T10:24:33.609Z"
   },
   {
    "duration": 700,
    "start_time": "2025-05-17T10:24:33.683Z"
   },
   {
    "duration": 59,
    "start_time": "2025-05-17T10:24:34.385Z"
   },
   {
    "duration": 418,
    "start_time": "2025-05-17T10:24:34.446Z"
   },
   {
    "duration": 429,
    "start_time": "2025-05-17T10:24:34.865Z"
   },
   {
    "duration": 54,
    "start_time": "2025-05-17T10:24:35.296Z"
   },
   {
    "duration": 234,
    "start_time": "2025-05-17T10:24:35.351Z"
   },
   {
    "duration": 349,
    "start_time": "2025-05-17T10:24:35.586Z"
   },
   {
    "duration": 42,
    "start_time": "2025-05-17T10:24:35.939Z"
   },
   {
    "duration": 217,
    "start_time": "2025-05-17T10:24:35.983Z"
   },
   {
    "duration": 326,
    "start_time": "2025-05-17T10:24:36.203Z"
   },
   {
    "duration": 52,
    "start_time": "2025-05-17T10:24:36.531Z"
   },
   {
    "duration": 282,
    "start_time": "2025-05-17T10:24:36.585Z"
   },
   {
    "duration": 146,
    "start_time": "2025-05-17T10:24:36.869Z"
   },
   {
    "duration": 412,
    "start_time": "2025-05-17T10:24:37.017Z"
   },
   {
    "duration": 443,
    "start_time": "2025-05-17T10:24:37.432Z"
   },
   {
    "duration": 437,
    "start_time": "2025-05-17T10:24:37.877Z"
   },
   {
    "duration": 434,
    "start_time": "2025-05-17T10:24:38.315Z"
   },
   {
    "duration": 377,
    "start_time": "2025-05-17T10:24:38.751Z"
   },
   {
    "duration": 251,
    "start_time": "2025-05-17T10:24:39.129Z"
   },
   {
    "duration": 81,
    "start_time": "2025-05-17T10:24:39.383Z"
   },
   {
    "duration": 62,
    "start_time": "2025-05-17T10:24:39.465Z"
   },
   {
    "duration": 123,
    "start_time": "2025-05-17T10:24:39.539Z"
   },
   {
    "duration": 98,
    "start_time": "2025-05-17T10:24:39.664Z"
   },
   {
    "duration": 113,
    "start_time": "2025-05-17T10:24:39.763Z"
   },
   {
    "duration": 64,
    "start_time": "2025-05-17T10:24:39.877Z"
   },
   {
    "duration": 23,
    "start_time": "2025-05-17T10:24:39.942Z"
   },
   {
    "duration": 30,
    "start_time": "2025-05-17T10:24:39.967Z"
   },
   {
    "duration": 32,
    "start_time": "2025-05-17T10:24:39.999Z"
   },
   {
    "duration": 59,
    "start_time": "2025-05-17T10:24:40.032Z"
   },
   {
    "duration": 10,
    "start_time": "2025-05-17T10:24:40.093Z"
   },
   {
    "duration": 28,
    "start_time": "2025-05-17T10:24:40.104Z"
   },
   {
    "duration": 74,
    "start_time": "2025-05-17T10:24:40.134Z"
   },
   {
    "duration": 17,
    "start_time": "2025-05-17T10:24:40.210Z"
   },
   {
    "duration": 1376,
    "start_time": "2025-05-17T13:12:02.015Z"
   },
   {
    "duration": 2047,
    "start_time": "2025-05-17T13:12:03.393Z"
   },
   {
    "duration": 19,
    "start_time": "2025-05-17T13:12:05.442Z"
   },
   {
    "duration": 108,
    "start_time": "2025-05-17T13:12:05.463Z"
   },
   {
    "duration": 99,
    "start_time": "2025-05-17T13:12:05.573Z"
   },
   {
    "duration": 11,
    "start_time": "2025-05-17T13:12:05.673Z"
   },
   {
    "duration": 48,
    "start_time": "2025-05-17T13:12:05.686Z"
   },
   {
    "duration": 10,
    "start_time": "2025-05-17T13:12:05.736Z"
   },
   {
    "duration": 19,
    "start_time": "2025-05-17T13:12:05.748Z"
   },
   {
    "duration": 138,
    "start_time": "2025-05-17T13:12:05.768Z"
   },
   {
    "duration": 59,
    "start_time": "2025-05-17T13:12:05.907Z"
   },
   {
    "duration": 6,
    "start_time": "2025-05-17T13:12:05.967Z"
   },
   {
    "duration": 34,
    "start_time": "2025-05-17T13:12:05.975Z"
   },
   {
    "duration": 413,
    "start_time": "2025-05-17T13:12:06.012Z"
   },
   {
    "duration": 122,
    "start_time": "2025-05-17T13:12:06.427Z"
   },
   {
    "duration": 132,
    "start_time": "2025-05-17T13:12:06.551Z"
   },
   {
    "duration": 6,
    "start_time": "2025-05-17T13:12:06.684Z"
   },
   {
    "duration": 75,
    "start_time": "2025-05-17T13:12:06.691Z"
   },
   {
    "duration": 429,
    "start_time": "2025-05-17T13:12:06.768Z"
   },
   {
    "duration": 246,
    "start_time": "2025-05-17T13:12:07.198Z"
   },
   {
    "duration": 154,
    "start_time": "2025-05-17T13:12:07.446Z"
   },
   {
    "duration": 84,
    "start_time": "2025-05-17T13:12:07.601Z"
   },
   {
    "duration": 22,
    "start_time": "2025-05-17T13:12:07.687Z"
   },
   {
    "duration": 67,
    "start_time": "2025-05-17T13:12:07.710Z"
   },
   {
    "duration": 422,
    "start_time": "2025-05-17T13:12:07.779Z"
   },
   {
    "duration": 128,
    "start_time": "2025-05-17T13:12:08.202Z"
   },
   {
    "duration": 146,
    "start_time": "2025-05-17T13:12:08.331Z"
   },
   {
    "duration": 56,
    "start_time": "2025-05-17T13:12:08.478Z"
   },
   {
    "duration": 29,
    "start_time": "2025-05-17T13:12:08.536Z"
   },
   {
    "duration": 294,
    "start_time": "2025-05-17T13:12:08.566Z"
   },
   {
    "duration": 148,
    "start_time": "2025-05-17T13:12:08.862Z"
   },
   {
    "duration": 292,
    "start_time": "2025-05-17T13:12:09.011Z"
   },
   {
    "duration": 158,
    "start_time": "2025-05-17T13:12:09.305Z"
   },
   {
    "duration": 234,
    "start_time": "2025-05-17T13:12:09.464Z"
   },
   {
    "duration": 30,
    "start_time": "2025-05-17T13:12:09.699Z"
   },
   {
    "duration": 5079,
    "start_time": "2025-05-17T13:12:09.731Z"
   },
   {
    "duration": 4518,
    "start_time": "2025-05-17T13:12:14.812Z"
   },
   {
    "duration": 38,
    "start_time": "2025-05-17T13:12:19.332Z"
   },
   {
    "duration": 66,
    "start_time": "2025-05-17T13:12:19.371Z"
   },
   {
    "duration": 28,
    "start_time": "2025-05-17T13:12:19.439Z"
   },
   {
    "duration": 22,
    "start_time": "2025-05-17T13:12:19.472Z"
   },
   {
    "duration": 688,
    "start_time": "2025-05-17T13:12:19.495Z"
   },
   {
    "duration": 44,
    "start_time": "2025-05-17T13:12:20.185Z"
   },
   {
    "duration": 375,
    "start_time": "2025-05-17T13:12:20.231Z"
   },
   {
    "duration": 356,
    "start_time": "2025-05-17T13:12:20.608Z"
   },
   {
    "duration": 42,
    "start_time": "2025-05-17T13:12:20.966Z"
   },
   {
    "duration": 225,
    "start_time": "2025-05-17T13:12:21.010Z"
   },
   {
    "duration": 306,
    "start_time": "2025-05-17T13:12:21.236Z"
   },
   {
    "duration": 37,
    "start_time": "2025-05-17T13:12:21.543Z"
   },
   {
    "duration": 191,
    "start_time": "2025-05-17T13:12:21.581Z"
   },
   {
    "duration": 287,
    "start_time": "2025-05-17T13:12:21.773Z"
   },
   {
    "duration": 43,
    "start_time": "2025-05-17T13:12:22.061Z"
   },
   {
    "duration": 249,
    "start_time": "2025-05-17T13:12:22.106Z"
   },
   {
    "duration": 132,
    "start_time": "2025-05-17T13:12:22.356Z"
   },
   {
    "duration": 450,
    "start_time": "2025-05-17T13:12:22.489Z"
   },
   {
    "duration": 392,
    "start_time": "2025-05-17T13:12:22.940Z"
   },
   {
    "duration": 363,
    "start_time": "2025-05-17T13:12:23.334Z"
   },
   {
    "duration": 403,
    "start_time": "2025-05-17T13:12:23.698Z"
   },
   {
    "duration": 340,
    "start_time": "2025-05-17T13:12:24.102Z"
   },
   {
    "duration": 220,
    "start_time": "2025-05-17T13:12:24.444Z"
   },
   {
    "duration": 54,
    "start_time": "2025-05-17T13:12:24.665Z"
   },
   {
    "duration": 85,
    "start_time": "2025-05-17T13:12:24.721Z"
   },
   {
    "duration": 107,
    "start_time": "2025-05-17T13:12:24.808Z"
   },
   {
    "duration": 95,
    "start_time": "2025-05-17T13:12:24.917Z"
   },
   {
    "duration": 104,
    "start_time": "2025-05-17T13:12:25.014Z"
   },
   {
    "duration": 56,
    "start_time": "2025-05-17T13:12:25.119Z"
   },
   {
    "duration": 21,
    "start_time": "2025-05-17T13:12:25.177Z"
   },
   {
    "duration": 16,
    "start_time": "2025-05-17T13:12:25.200Z"
   },
   {
    "duration": 6,
    "start_time": "2025-05-17T13:12:25.218Z"
   },
   {
    "duration": 38,
    "start_time": "2025-05-17T13:12:25.225Z"
   },
   {
    "duration": 67,
    "start_time": "2025-05-17T13:12:25.264Z"
   },
   {
    "duration": 90,
    "start_time": "2025-05-17T13:12:25.333Z"
   },
   {
    "duration": 14,
    "start_time": "2025-05-17T13:12:25.424Z"
   },
   {
    "duration": 54,
    "start_time": "2025-05-17T13:12:25.439Z"
   },
   {
    "duration": 1412,
    "start_time": "2025-05-17T17:29:22.713Z"
   },
   {
    "duration": 1906,
    "start_time": "2025-05-17T17:29:24.127Z"
   },
   {
    "duration": 19,
    "start_time": "2025-05-17T17:29:26.035Z"
   },
   {
    "duration": 151,
    "start_time": "2025-05-17T17:29:26.056Z"
   },
   {
    "duration": 120,
    "start_time": "2025-05-17T17:29:26.208Z"
   },
   {
    "duration": 12,
    "start_time": "2025-05-17T17:29:26.330Z"
   },
   {
    "duration": 36,
    "start_time": "2025-05-17T17:29:26.344Z"
   },
   {
    "duration": 37,
    "start_time": "2025-05-17T17:29:26.382Z"
   },
   {
    "duration": 105,
    "start_time": "2025-05-17T17:29:26.421Z"
   },
   {
    "duration": 163,
    "start_time": "2025-05-17T17:29:26.531Z"
   },
   {
    "duration": 35,
    "start_time": "2025-05-17T17:29:26.695Z"
   },
   {
    "duration": 45,
    "start_time": "2025-05-17T17:29:26.732Z"
   },
   {
    "duration": 16,
    "start_time": "2025-05-17T17:29:26.779Z"
   },
   {
    "duration": 479,
    "start_time": "2025-05-17T17:29:26.797Z"
   },
   {
    "duration": 135,
    "start_time": "2025-05-17T17:29:27.278Z"
   },
   {
    "duration": 134,
    "start_time": "2025-05-17T17:29:27.415Z"
   },
   {
    "duration": 6,
    "start_time": "2025-05-17T17:29:27.551Z"
   },
   {
    "duration": 65,
    "start_time": "2025-05-17T17:29:27.558Z"
   },
   {
    "duration": 540,
    "start_time": "2025-05-17T17:29:27.624Z"
   },
   {
    "duration": 279,
    "start_time": "2025-05-17T17:29:28.166Z"
   },
   {
    "duration": 169,
    "start_time": "2025-05-17T17:29:28.447Z"
   },
   {
    "duration": 81,
    "start_time": "2025-05-17T17:29:28.618Z"
   },
   {
    "duration": 23,
    "start_time": "2025-05-17T17:29:28.700Z"
   },
   {
    "duration": 76,
    "start_time": "2025-05-17T17:29:28.724Z"
   },
   {
    "duration": 437,
    "start_time": "2025-05-17T17:29:28.802Z"
   },
   {
    "duration": 143,
    "start_time": "2025-05-17T17:29:29.241Z"
   },
   {
    "duration": 152,
    "start_time": "2025-05-17T17:29:29.386Z"
   },
   {
    "duration": 68,
    "start_time": "2025-05-17T17:29:29.542Z"
   },
   {
    "duration": 24,
    "start_time": "2025-05-17T17:29:29.612Z"
   },
   {
    "duration": 400,
    "start_time": "2025-05-17T17:29:29.637Z"
   },
   {
    "duration": 176,
    "start_time": "2025-05-17T17:29:30.039Z"
   },
   {
    "duration": 332,
    "start_time": "2025-05-17T17:29:30.216Z"
   },
   {
    "duration": 176,
    "start_time": "2025-05-17T17:29:30.550Z"
   },
   {
    "duration": 281,
    "start_time": "2025-05-17T17:29:30.727Z"
   },
   {
    "duration": 36,
    "start_time": "2025-05-17T17:29:31.010Z"
   },
   {
    "duration": 107,
    "start_time": "2025-05-17T17:32:17.970Z"
   },
   {
    "duration": 29,
    "start_time": "2025-05-17T17:32:30.965Z"
   },
   {
    "duration": 4,
    "start_time": "2025-05-17T17:32:45.690Z"
   },
   {
    "duration": 1882,
    "start_time": "2025-05-17T17:32:45.696Z"
   },
   {
    "duration": 14,
    "start_time": "2025-05-17T17:32:47.580Z"
   },
   {
    "duration": 112,
    "start_time": "2025-05-17T17:32:47.596Z"
   },
   {
    "duration": 103,
    "start_time": "2025-05-17T17:32:47.710Z"
   },
   {
    "duration": 13,
    "start_time": "2025-05-17T17:32:47.814Z"
   },
   {
    "duration": 21,
    "start_time": "2025-05-17T17:32:47.828Z"
   },
   {
    "duration": 28,
    "start_time": "2025-05-17T17:32:47.850Z"
   },
   {
    "duration": 34,
    "start_time": "2025-05-17T17:32:47.880Z"
   },
   {
    "duration": 146,
    "start_time": "2025-05-17T17:32:47.916Z"
   },
   {
    "duration": 44,
    "start_time": "2025-05-17T17:32:48.065Z"
   },
   {
    "duration": 24,
    "start_time": "2025-05-17T17:32:48.111Z"
   },
   {
    "duration": 22,
    "start_time": "2025-05-17T17:32:48.136Z"
   },
   {
    "duration": 427,
    "start_time": "2025-05-17T17:32:48.176Z"
   },
   {
    "duration": 137,
    "start_time": "2025-05-17T17:32:48.605Z"
   },
   {
    "duration": 146,
    "start_time": "2025-05-17T17:32:48.743Z"
   },
   {
    "duration": 6,
    "start_time": "2025-05-17T17:32:48.890Z"
   },
   {
    "duration": 50,
    "start_time": "2025-05-17T17:32:48.897Z"
   },
   {
    "duration": 654,
    "start_time": "2025-05-17T17:32:48.949Z"
   },
   {
    "duration": 193,
    "start_time": "2025-05-17T17:32:49.605Z"
   },
   {
    "duration": 173,
    "start_time": "2025-05-17T17:32:49.800Z"
   },
   {
    "duration": 80,
    "start_time": "2025-05-17T17:32:49.976Z"
   },
   {
    "duration": 58,
    "start_time": "2025-05-17T17:32:50.058Z"
   },
   {
    "duration": 38,
    "start_time": "2025-05-17T17:32:50.117Z"
   },
   {
    "duration": 419,
    "start_time": "2025-05-17T17:32:50.157Z"
   },
   {
    "duration": 155,
    "start_time": "2025-05-17T17:32:50.578Z"
   },
   {
    "duration": 162,
    "start_time": "2025-05-17T17:32:50.735Z"
   },
   {
    "duration": 78,
    "start_time": "2025-05-17T17:32:50.899Z"
   },
   {
    "duration": 24,
    "start_time": "2025-05-17T17:32:50.982Z"
   },
   {
    "duration": 320,
    "start_time": "2025-05-17T17:32:51.007Z"
   },
   {
    "duration": 156,
    "start_time": "2025-05-17T17:32:51.329Z"
   },
   {
    "duration": 29,
    "start_time": "2025-05-17T17:32:51.486Z"
   },
   {
    "duration": 146,
    "start_time": "2025-05-17T17:32:51.516Z"
   },
   {
    "duration": 268,
    "start_time": "2025-05-17T17:32:51.664Z"
   },
   {
    "duration": 49,
    "start_time": "2025-05-17T17:32:51.934Z"
   },
   {
    "duration": 5968,
    "start_time": "2025-05-17T17:32:51.985Z"
   },
   {
    "duration": 5005,
    "start_time": "2025-05-17T17:32:57.954Z"
   },
   {
    "duration": 32,
    "start_time": "2025-05-17T17:33:02.961Z"
   },
   {
    "duration": 121,
    "start_time": "2025-05-17T17:33:02.995Z"
   },
   {
    "duration": 7,
    "start_time": "2025-05-17T17:33:03.117Z"
   },
   {
    "duration": 72,
    "start_time": "2025-05-17T17:33:03.126Z"
   },
   {
    "duration": 761,
    "start_time": "2025-05-17T17:33:03.200Z"
   },
   {
    "duration": 59,
    "start_time": "2025-05-17T17:33:03.962Z"
   },
   {
    "duration": 492,
    "start_time": "2025-05-17T17:33:04.023Z"
   },
   {
    "duration": 425,
    "start_time": "2025-05-17T17:33:04.517Z"
   },
   {
    "duration": 60,
    "start_time": "2025-05-17T17:33:04.944Z"
   },
   {
    "duration": 242,
    "start_time": "2025-05-17T17:33:05.006Z"
   },
   {
    "duration": 342,
    "start_time": "2025-05-17T17:33:05.250Z"
   },
   {
    "duration": 33,
    "start_time": "2025-05-17T17:33:05.594Z"
   },
   {
    "duration": 308,
    "start_time": "2025-05-17T17:33:05.629Z"
   },
   {
    "duration": 323,
    "start_time": "2025-05-17T17:33:05.939Z"
   },
   {
    "duration": 51,
    "start_time": "2025-05-17T17:33:06.264Z"
   },
   {
    "duration": 272,
    "start_time": "2025-05-17T17:33:06.317Z"
   },
   {
    "duration": 154,
    "start_time": "2025-05-17T17:33:06.591Z"
   },
   {
    "duration": 435,
    "start_time": "2025-05-17T17:33:06.747Z"
   },
   {
    "duration": 479,
    "start_time": "2025-05-17T17:33:07.183Z"
   },
   {
    "duration": 408,
    "start_time": "2025-05-17T17:33:07.676Z"
   },
   {
    "duration": 460,
    "start_time": "2025-05-17T17:33:08.087Z"
   },
   {
    "duration": 375,
    "start_time": "2025-05-17T17:33:08.549Z"
   },
   {
    "duration": 243,
    "start_time": "2025-05-17T17:33:08.926Z"
   },
   {
    "duration": 65,
    "start_time": "2025-05-17T17:33:09.170Z"
   },
   {
    "duration": 82,
    "start_time": "2025-05-17T17:33:09.237Z"
   },
   {
    "duration": 127,
    "start_time": "2025-05-17T17:33:09.321Z"
   },
   {
    "duration": 109,
    "start_time": "2025-05-17T17:33:09.449Z"
   },
   {
    "duration": 111,
    "start_time": "2025-05-17T17:33:09.559Z"
   },
   {
    "duration": 59,
    "start_time": "2025-05-17T17:33:09.677Z"
   },
   {
    "duration": 40,
    "start_time": "2025-05-17T17:33:09.738Z"
   },
   {
    "duration": 14,
    "start_time": "2025-05-17T17:33:09.780Z"
   },
   {
    "duration": 14,
    "start_time": "2025-05-17T17:33:09.795Z"
   },
   {
    "duration": 20,
    "start_time": "2025-05-17T17:33:09.810Z"
   },
   {
    "duration": 21,
    "start_time": "2025-05-17T17:33:09.832Z"
   },
   {
    "duration": 15,
    "start_time": "2025-05-17T17:33:09.855Z"
   },
   {
    "duration": 57,
    "start_time": "2025-05-17T17:33:09.872Z"
   },
   {
    "duration": 15,
    "start_time": "2025-05-17T17:33:09.930Z"
   },
   {
    "duration": 4,
    "start_time": "2025-05-17T17:34:00.630Z"
   },
   {
    "duration": 1711,
    "start_time": "2025-05-17T17:34:00.635Z"
   },
   {
    "duration": 14,
    "start_time": "2025-05-17T17:34:02.350Z"
   },
   {
    "duration": 112,
    "start_time": "2025-05-17T17:34:02.366Z"
   },
   {
    "duration": 103,
    "start_time": "2025-05-17T17:34:02.481Z"
   },
   {
    "duration": 30,
    "start_time": "2025-05-17T17:34:02.586Z"
   },
   {
    "duration": 65,
    "start_time": "2025-05-17T17:34:02.618Z"
   },
   {
    "duration": 10,
    "start_time": "2025-05-17T17:34:02.685Z"
   },
   {
    "duration": 99,
    "start_time": "2025-05-17T17:34:02.696Z"
   },
   {
    "duration": 288,
    "start_time": "2025-05-17T17:34:02.797Z"
   },
   {
    "duration": 35,
    "start_time": "2025-05-17T17:34:03.088Z"
   },
   {
    "duration": 88,
    "start_time": "2025-05-17T17:34:03.124Z"
   },
   {
    "duration": 64,
    "start_time": "2025-05-17T17:34:03.214Z"
   },
   {
    "duration": 445,
    "start_time": "2025-05-17T17:34:03.280Z"
   },
   {
    "duration": 295,
    "start_time": "2025-05-17T17:34:03.727Z"
   },
   {
    "duration": 141,
    "start_time": "2025-05-17T17:34:04.023Z"
   },
   {
    "duration": 14,
    "start_time": "2025-05-17T17:34:04.165Z"
   },
   {
    "duration": 51,
    "start_time": "2025-05-17T17:34:04.181Z"
   },
   {
    "duration": 611,
    "start_time": "2025-05-17T17:34:04.234Z"
   },
   {
    "duration": 212,
    "start_time": "2025-05-17T17:34:04.848Z"
   },
   {
    "duration": 173,
    "start_time": "2025-05-17T17:34:05.062Z"
   },
   {
    "duration": 91,
    "start_time": "2025-05-17T17:34:05.237Z"
   },
   {
    "duration": 26,
    "start_time": "2025-05-17T17:34:05.329Z"
   },
   {
    "duration": 77,
    "start_time": "2025-05-17T17:34:05.357Z"
   },
   {
    "duration": 439,
    "start_time": "2025-05-17T17:34:05.436Z"
   },
   {
    "duration": 174,
    "start_time": "2025-05-17T17:34:05.877Z"
   },
   {
    "duration": 279,
    "start_time": "2025-05-17T17:34:06.052Z"
   },
   {
    "duration": 74,
    "start_time": "2025-05-17T17:34:06.332Z"
   },
   {
    "duration": 26,
    "start_time": "2025-05-17T17:34:06.409Z"
   },
   {
    "duration": 440,
    "start_time": "2025-05-17T17:34:06.437Z"
   },
   {
    "duration": 288,
    "start_time": "2025-05-17T17:34:14.312Z"
   },
   {
    "duration": 264,
    "start_time": "2025-05-17T17:34:43.997Z"
   },
   {
    "duration": 296,
    "start_time": "2025-05-17T18:39:05.110Z"
   },
   {
    "duration": 10,
    "start_time": "2025-05-17T18:40:52.727Z"
   },
   {
    "duration": 276,
    "start_time": "2025-05-17T18:42:05.653Z"
   },
   {
    "duration": 3,
    "start_time": "2025-05-17T18:42:39.614Z"
   },
   {
    "duration": 1903,
    "start_time": "2025-05-17T18:42:39.619Z"
   },
   {
    "duration": 14,
    "start_time": "2025-05-17T18:42:41.524Z"
   },
   {
    "duration": 111,
    "start_time": "2025-05-17T18:42:41.540Z"
   },
   {
    "duration": 96,
    "start_time": "2025-05-17T18:42:41.654Z"
   },
   {
    "duration": 24,
    "start_time": "2025-05-17T18:42:41.752Z"
   },
   {
    "duration": 53,
    "start_time": "2025-05-17T18:42:41.778Z"
   },
   {
    "duration": 32,
    "start_time": "2025-05-17T18:42:41.833Z"
   },
   {
    "duration": 14,
    "start_time": "2025-05-17T18:42:41.867Z"
   },
   {
    "duration": 167,
    "start_time": "2025-05-17T18:42:41.883Z"
   },
   {
    "duration": 50,
    "start_time": "2025-05-17T18:42:42.054Z"
   },
   {
    "duration": 15,
    "start_time": "2025-05-17T18:42:42.105Z"
   },
   {
    "duration": 15,
    "start_time": "2025-05-17T18:42:42.121Z"
   },
   {
    "duration": 439,
    "start_time": "2025-05-17T18:42:42.137Z"
   },
   {
    "duration": 130,
    "start_time": "2025-05-17T18:42:42.577Z"
   },
   {
    "duration": 131,
    "start_time": "2025-05-17T18:42:42.709Z"
   },
   {
    "duration": 5,
    "start_time": "2025-05-17T18:42:42.841Z"
   },
   {
    "duration": 53,
    "start_time": "2025-05-17T18:42:42.848Z"
   },
   {
    "duration": 458,
    "start_time": "2025-05-17T18:42:42.903Z"
   },
   {
    "duration": 181,
    "start_time": "2025-05-17T18:42:43.363Z"
   },
   {
    "duration": 149,
    "start_time": "2025-05-17T18:42:43.545Z"
   },
   {
    "duration": 87,
    "start_time": "2025-05-17T18:42:43.696Z"
   },
   {
    "duration": 24,
    "start_time": "2025-05-17T18:42:43.785Z"
   },
   {
    "duration": 55,
    "start_time": "2025-05-17T18:42:43.810Z"
   },
   {
    "duration": 490,
    "start_time": "2025-05-17T18:42:43.867Z"
   },
   {
    "duration": 137,
    "start_time": "2025-05-17T18:42:44.359Z"
   },
   {
    "duration": 150,
    "start_time": "2025-05-17T18:42:44.498Z"
   },
   {
    "duration": 70,
    "start_time": "2025-05-17T18:42:44.650Z"
   },
   {
    "duration": 76,
    "start_time": "2025-05-17T18:42:44.725Z"
   },
   {
    "duration": 274,
    "start_time": "2025-05-17T18:42:44.803Z"
   },
   {
    "duration": 251,
    "start_time": "2025-05-17T18:42:45.078Z"
   },
   {
    "duration": 304,
    "start_time": "2025-05-17T18:42:45.331Z"
   },
   {
    "duration": 154,
    "start_time": "2025-05-17T18:42:45.636Z"
   },
   {
    "duration": 271,
    "start_time": "2025-05-17T18:42:45.791Z"
   },
   {
    "duration": 43,
    "start_time": "2025-05-17T18:42:46.064Z"
   },
   {
    "duration": 5669,
    "start_time": "2025-05-17T18:42:46.109Z"
   },
   {
    "duration": 4891,
    "start_time": "2025-05-17T18:42:51.780Z"
   },
   {
    "duration": 27,
    "start_time": "2025-05-17T18:42:56.676Z"
   },
   {
    "duration": 159,
    "start_time": "2025-05-17T18:42:56.704Z"
   },
   {
    "duration": 13,
    "start_time": "2025-05-17T18:42:56.865Z"
   },
   {
    "duration": 25,
    "start_time": "2025-05-17T18:42:56.879Z"
   },
   {
    "duration": 714,
    "start_time": "2025-05-17T18:42:56.906Z"
   },
   {
    "duration": 58,
    "start_time": "2025-05-17T18:42:57.622Z"
   },
   {
    "duration": 387,
    "start_time": "2025-05-17T18:42:57.682Z"
   },
   {
    "duration": 393,
    "start_time": "2025-05-17T18:42:58.070Z"
   },
   {
    "duration": 47,
    "start_time": "2025-05-17T18:42:58.465Z"
   },
   {
    "duration": 225,
    "start_time": "2025-05-17T18:42:58.514Z"
   },
   {
    "duration": 343,
    "start_time": "2025-05-17T18:42:58.741Z"
   },
   {
    "duration": 30,
    "start_time": "2025-05-17T18:42:59.086Z"
   },
   {
    "duration": 217,
    "start_time": "2025-05-17T18:42:59.117Z"
   },
   {
    "duration": 309,
    "start_time": "2025-05-17T18:42:59.335Z"
   },
   {
    "duration": 52,
    "start_time": "2025-05-17T18:42:59.646Z"
   },
   {
    "duration": 295,
    "start_time": "2025-05-17T18:42:59.700Z"
   },
   {
    "duration": 144,
    "start_time": "2025-05-17T18:42:59.997Z"
   },
   {
    "duration": 430,
    "start_time": "2025-05-17T18:43:00.142Z"
   },
   {
    "duration": 485,
    "start_time": "2025-05-17T18:43:00.574Z"
   },
   {
    "duration": 373,
    "start_time": "2025-05-17T18:43:01.061Z"
   },
   {
    "duration": 427,
    "start_time": "2025-05-17T18:43:01.436Z"
   },
   {
    "duration": 390,
    "start_time": "2025-05-17T18:43:01.865Z"
   },
   {
    "duration": 239,
    "start_time": "2025-05-17T18:43:02.257Z"
   },
   {
    "duration": 59,
    "start_time": "2025-05-17T18:43:02.498Z"
   },
   {
    "duration": 160,
    "start_time": "2025-05-17T18:43:02.558Z"
   },
   {
    "duration": 257,
    "start_time": "2025-05-17T18:43:02.720Z"
   },
   {
    "duration": 102,
    "start_time": "2025-05-17T18:43:02.979Z"
   },
   {
    "duration": 107,
    "start_time": "2025-05-17T18:43:03.082Z"
   },
   {
    "duration": 56,
    "start_time": "2025-05-17T18:43:03.191Z"
   },
   {
    "duration": 39,
    "start_time": "2025-05-17T18:43:03.249Z"
   },
   {
    "duration": 15,
    "start_time": "2025-05-17T18:43:03.289Z"
   },
   {
    "duration": 9,
    "start_time": "2025-05-17T18:43:03.306Z"
   },
   {
    "duration": 42,
    "start_time": "2025-05-17T18:43:03.316Z"
   },
   {
    "duration": 44,
    "start_time": "2025-05-17T18:43:03.360Z"
   },
   {
    "duration": 12,
    "start_time": "2025-05-17T18:43:03.406Z"
   },
   {
    "duration": 34,
    "start_time": "2025-05-17T18:43:03.420Z"
   },
   {
    "duration": 129,
    "start_time": "2025-05-17T18:43:03.456Z"
   },
   {
    "duration": 1261,
    "start_time": "2025-05-18T10:22:54.255Z"
   },
   {
    "duration": 2477,
    "start_time": "2025-05-18T10:22:55.518Z"
   },
   {
    "duration": 20,
    "start_time": "2025-05-18T10:22:57.997Z"
   },
   {
    "duration": 109,
    "start_time": "2025-05-18T10:22:58.019Z"
   },
   {
    "duration": 104,
    "start_time": "2025-05-18T10:22:58.129Z"
   },
   {
    "duration": 12,
    "start_time": "2025-05-18T10:22:58.235Z"
   },
   {
    "duration": 34,
    "start_time": "2025-05-18T10:22:58.249Z"
   },
   {
    "duration": 12,
    "start_time": "2025-05-18T10:22:58.285Z"
   },
   {
    "duration": 13,
    "start_time": "2025-05-18T10:22:58.299Z"
   },
   {
    "duration": 172,
    "start_time": "2025-05-18T10:22:58.315Z"
   },
   {
    "duration": 36,
    "start_time": "2025-05-18T10:22:58.488Z"
   },
   {
    "duration": 6,
    "start_time": "2025-05-18T10:22:58.525Z"
   },
   {
    "duration": 53,
    "start_time": "2025-05-18T10:22:58.532Z"
   },
   {
    "duration": 475,
    "start_time": "2025-05-18T10:22:58.587Z"
   },
   {
    "duration": 141,
    "start_time": "2025-05-18T10:22:59.064Z"
   },
   {
    "duration": 147,
    "start_time": "2025-05-18T10:22:59.206Z"
   },
   {
    "duration": 6,
    "start_time": "2025-05-18T10:22:59.355Z"
   },
   {
    "duration": 45,
    "start_time": "2025-05-18T10:22:59.371Z"
   },
   {
    "duration": 504,
    "start_time": "2025-05-18T10:22:59.417Z"
   },
   {
    "duration": 277,
    "start_time": "2025-05-18T10:22:59.923Z"
   },
   {
    "duration": 182,
    "start_time": "2025-05-18T10:23:00.201Z"
   },
   {
    "duration": 99,
    "start_time": "2025-05-18T10:23:00.385Z"
   },
   {
    "duration": 25,
    "start_time": "2025-05-18T10:23:00.486Z"
   },
   {
    "duration": 43,
    "start_time": "2025-05-18T10:23:00.513Z"
   },
   {
    "duration": 441,
    "start_time": "2025-05-18T10:23:00.558Z"
   },
   {
    "duration": 151,
    "start_time": "2025-05-18T10:23:01.001Z"
   },
   {
    "duration": 167,
    "start_time": "2025-05-18T10:23:01.154Z"
   },
   {
    "duration": 73,
    "start_time": "2025-05-18T10:23:01.325Z"
   },
   {
    "duration": 25,
    "start_time": "2025-05-18T10:23:01.399Z"
   },
   {
    "duration": 352,
    "start_time": "2025-05-18T10:23:01.426Z"
   },
   {
    "duration": 315,
    "start_time": "2025-05-18T10:23:01.780Z"
   },
   {
    "duration": 386,
    "start_time": "2025-05-18T10:23:02.097Z"
   },
   {
    "duration": 186,
    "start_time": "2025-05-18T10:23:02.485Z"
   },
   {
    "duration": 281,
    "start_time": "2025-05-18T10:23:02.673Z"
   },
   {
    "duration": 39,
    "start_time": "2025-05-18T10:23:02.956Z"
   },
   {
    "duration": 5874,
    "start_time": "2025-05-18T10:23:02.997Z"
   },
   {
    "duration": 5201,
    "start_time": "2025-05-18T10:23:08.873Z"
   },
   {
    "duration": 29,
    "start_time": "2025-05-18T10:23:14.075Z"
   },
   {
    "duration": 113,
    "start_time": "2025-05-18T10:23:14.106Z"
   },
   {
    "duration": 7,
    "start_time": "2025-05-18T10:23:14.221Z"
   },
   {
    "duration": 76,
    "start_time": "2025-05-18T10:23:14.229Z"
   },
   {
    "duration": 788,
    "start_time": "2025-05-18T10:23:14.307Z"
   },
   {
    "duration": 50,
    "start_time": "2025-05-18T10:23:15.097Z"
   },
   {
    "duration": 427,
    "start_time": "2025-05-18T10:23:15.149Z"
   },
   {
    "duration": 423,
    "start_time": "2025-05-18T10:23:15.578Z"
   },
   {
    "duration": 47,
    "start_time": "2025-05-18T10:23:16.002Z"
   },
   {
    "duration": 266,
    "start_time": "2025-05-18T10:23:16.051Z"
   },
   {
    "duration": 363,
    "start_time": "2025-05-18T10:23:16.318Z"
   },
   {
    "duration": 32,
    "start_time": "2025-05-18T10:23:16.683Z"
   },
   {
    "duration": 242,
    "start_time": "2025-05-18T10:23:16.717Z"
   },
   {
    "duration": 337,
    "start_time": "2025-05-18T10:23:16.961Z"
   },
   {
    "duration": 48,
    "start_time": "2025-05-18T10:23:17.300Z"
   },
   {
    "duration": 298,
    "start_time": "2025-05-18T10:23:17.350Z"
   },
   {
    "duration": 155,
    "start_time": "2025-05-18T10:23:17.649Z"
   },
   {
    "duration": 439,
    "start_time": "2025-05-18T10:23:17.806Z"
   },
   {
    "duration": 424,
    "start_time": "2025-05-18T10:23:18.247Z"
   },
   {
    "duration": 466,
    "start_time": "2025-05-18T10:23:18.673Z"
   },
   {
    "duration": 451,
    "start_time": "2025-05-18T10:23:19.141Z"
   },
   {
    "duration": 398,
    "start_time": "2025-05-18T10:23:19.594Z"
   },
   {
    "duration": 260,
    "start_time": "2025-05-18T10:23:19.994Z"
   },
   {
    "duration": 69,
    "start_time": "2025-05-18T10:23:20.256Z"
   },
   {
    "duration": 84,
    "start_time": "2025-05-18T10:23:20.328Z"
   },
   {
    "duration": 137,
    "start_time": "2025-05-18T10:23:20.414Z"
   },
   {
    "duration": 120,
    "start_time": "2025-05-18T10:23:20.553Z"
   },
   {
    "duration": 137,
    "start_time": "2025-05-18T10:23:20.675Z"
   },
   {
    "duration": 74,
    "start_time": "2025-05-18T10:23:20.813Z"
   },
   {
    "duration": 28,
    "start_time": "2025-05-18T10:23:20.889Z"
   },
   {
    "duration": 70,
    "start_time": "2025-05-18T10:23:20.919Z"
   },
   {
    "duration": 24,
    "start_time": "2025-05-18T10:23:20.990Z"
   },
   {
    "duration": 33,
    "start_time": "2025-05-18T10:23:21.016Z"
   },
   {
    "duration": 28,
    "start_time": "2025-05-18T10:23:21.050Z"
   },
   {
    "duration": 22,
    "start_time": "2025-05-18T10:23:21.079Z"
   },
   {
    "duration": 25,
    "start_time": "2025-05-18T10:23:21.102Z"
   },
   {
    "duration": 27,
    "start_time": "2025-05-18T10:23:21.128Z"
   },
   {
    "duration": 56,
    "start_time": "2025-05-18T11:53:44.445Z"
   },
   {
    "duration": 1568,
    "start_time": "2025-05-18T11:53:49.073Z"
   },
   {
    "duration": 2031,
    "start_time": "2025-05-18T11:53:50.644Z"
   },
   {
    "duration": 24,
    "start_time": "2025-05-18T11:53:52.677Z"
   },
   {
    "duration": 166,
    "start_time": "2025-05-18T11:53:52.704Z"
   },
   {
    "duration": 122,
    "start_time": "2025-05-18T11:53:52.872Z"
   },
   {
    "duration": 14,
    "start_time": "2025-05-18T11:53:52.996Z"
   },
   {
    "duration": 98,
    "start_time": "2025-05-18T11:53:53.012Z"
   },
   {
    "duration": 12,
    "start_time": "2025-05-18T11:53:53.113Z"
   },
   {
    "duration": 12,
    "start_time": "2025-05-18T11:53:53.127Z"
   },
   {
    "duration": 160,
    "start_time": "2025-05-18T11:53:53.142Z"
   },
   {
    "duration": 71,
    "start_time": "2025-05-18T11:53:53.304Z"
   },
   {
    "duration": 7,
    "start_time": "2025-05-18T11:53:53.377Z"
   },
   {
    "duration": 16,
    "start_time": "2025-05-18T11:53:53.386Z"
   },
   {
    "duration": 514,
    "start_time": "2025-05-18T11:53:53.403Z"
   },
   {
    "duration": 152,
    "start_time": "2025-05-18T11:53:53.918Z"
   },
   {
    "duration": 155,
    "start_time": "2025-05-18T11:53:54.072Z"
   },
   {
    "duration": 7,
    "start_time": "2025-05-18T11:53:54.229Z"
   },
   {
    "duration": 66,
    "start_time": "2025-05-18T11:53:54.237Z"
   },
   {
    "duration": 542,
    "start_time": "2025-05-18T11:53:54.305Z"
   },
   {
    "duration": 314,
    "start_time": "2025-05-18T11:53:54.849Z"
   },
   {
    "duration": 185,
    "start_time": "2025-05-18T11:53:55.165Z"
   },
   {
    "duration": 117,
    "start_time": "2025-05-18T11:53:55.351Z"
   },
   {
    "duration": 45,
    "start_time": "2025-05-18T11:53:55.470Z"
   },
   {
    "duration": 61,
    "start_time": "2025-05-18T11:53:55.518Z"
   },
   {
    "duration": 543,
    "start_time": "2025-05-18T11:53:55.581Z"
   },
   {
    "duration": 161,
    "start_time": "2025-05-18T11:53:56.126Z"
   },
   {
    "duration": 174,
    "start_time": "2025-05-18T11:53:56.289Z"
   },
   {
    "duration": 72,
    "start_time": "2025-05-18T11:53:56.468Z"
   },
   {
    "duration": 52,
    "start_time": "2025-05-18T11:53:56.542Z"
   },
   {
    "duration": 411,
    "start_time": "2025-05-18T11:53:56.596Z"
   },
   {
    "duration": 366,
    "start_time": "2025-05-18T11:53:57.009Z"
   },
   {
    "duration": 436,
    "start_time": "2025-05-18T11:53:57.377Z"
   },
   {
    "duration": 207,
    "start_time": "2025-05-18T11:53:57.816Z"
   },
   {
    "duration": 318,
    "start_time": "2025-05-18T11:53:58.026Z"
   },
   {
    "duration": 49,
    "start_time": "2025-05-18T11:53:58.347Z"
   },
   {
    "duration": 6718,
    "start_time": "2025-05-18T11:53:58.398Z"
   },
   {
    "duration": 5506,
    "start_time": "2025-05-18T11:54:05.118Z"
   },
   {
    "duration": 41,
    "start_time": "2025-05-18T11:54:10.626Z"
   },
   {
    "duration": 160,
    "start_time": "2025-05-18T11:54:10.669Z"
   },
   {
    "duration": 8,
    "start_time": "2025-05-18T11:54:10.831Z"
   },
   {
    "duration": 34,
    "start_time": "2025-05-18T11:54:10.862Z"
   },
   {
    "duration": 830,
    "start_time": "2025-05-18T11:54:10.898Z"
   },
   {
    "duration": 65,
    "start_time": "2025-05-18T11:54:11.731Z"
   },
   {
    "duration": 465,
    "start_time": "2025-05-18T11:54:11.798Z"
   },
   {
    "duration": 442,
    "start_time": "2025-05-18T11:54:12.265Z"
   },
   {
    "duration": 63,
    "start_time": "2025-05-18T11:54:12.708Z"
   },
   {
    "duration": 287,
    "start_time": "2025-05-18T11:54:12.773Z"
   },
   {
    "duration": 368,
    "start_time": "2025-05-18T11:54:13.062Z"
   },
   {
    "duration": 42,
    "start_time": "2025-05-18T11:54:13.433Z"
   },
   {
    "duration": 260,
    "start_time": "2025-05-18T11:54:13.477Z"
   },
   {
    "duration": 408,
    "start_time": "2025-05-18T11:54:13.739Z"
   },
   {
    "duration": 58,
    "start_time": "2025-05-18T11:54:14.150Z"
   },
   {
    "duration": 332,
    "start_time": "2025-05-18T11:54:14.211Z"
   },
   {
    "duration": 169,
    "start_time": "2025-05-18T11:54:14.545Z"
   },
   {
    "duration": 467,
    "start_time": "2025-05-18T11:54:14.716Z"
   },
   {
    "duration": 0,
    "start_time": "2025-05-18T11:54:15.185Z"
   },
   {
    "duration": 0,
    "start_time": "2025-05-18T11:54:15.187Z"
   },
   {
    "duration": 0,
    "start_time": "2025-05-18T11:54:15.188Z"
   },
   {
    "duration": 0,
    "start_time": "2025-05-18T11:54:15.191Z"
   },
   {
    "duration": 0,
    "start_time": "2025-05-18T11:54:15.192Z"
   },
   {
    "duration": 0,
    "start_time": "2025-05-18T11:54:15.193Z"
   },
   {
    "duration": 0,
    "start_time": "2025-05-18T11:54:15.195Z"
   },
   {
    "duration": 0,
    "start_time": "2025-05-18T11:54:15.196Z"
   },
   {
    "duration": 0,
    "start_time": "2025-05-18T11:54:15.198Z"
   },
   {
    "duration": 0,
    "start_time": "2025-05-18T11:54:15.199Z"
   },
   {
    "duration": 0,
    "start_time": "2025-05-18T11:54:15.200Z"
   },
   {
    "duration": 0,
    "start_time": "2025-05-18T11:54:15.202Z"
   },
   {
    "duration": 0,
    "start_time": "2025-05-18T11:54:15.203Z"
   },
   {
    "duration": 0,
    "start_time": "2025-05-18T11:54:15.204Z"
   },
   {
    "duration": 0,
    "start_time": "2025-05-18T11:54:15.205Z"
   },
   {
    "duration": 0,
    "start_time": "2025-05-18T11:54:15.207Z"
   },
   {
    "duration": 0,
    "start_time": "2025-05-18T11:54:15.208Z"
   },
   {
    "duration": 0,
    "start_time": "2025-05-18T11:54:15.209Z"
   },
   {
    "duration": 0,
    "start_time": "2025-05-18T11:54:15.211Z"
   },
   {
    "duration": 522,
    "start_time": "2025-05-18T11:55:43.084Z"
   },
   {
    "duration": 451,
    "start_time": "2025-05-18T11:56:40.403Z"
   },
   {
    "duration": 438,
    "start_time": "2025-05-18T11:57:42.724Z"
   },
   {
    "duration": 487,
    "start_time": "2025-05-18T11:59:28.869Z"
   },
   {
    "duration": 433,
    "start_time": "2025-05-18T11:59:37.429Z"
   },
   {
    "duration": 448,
    "start_time": "2025-05-18T12:00:12.485Z"
   },
   {
    "duration": 472,
    "start_time": "2025-05-18T12:00:37.216Z"
   },
   {
    "duration": 530,
    "start_time": "2025-05-18T12:01:10.511Z"
   },
   {
    "duration": 391,
    "start_time": "2025-05-18T12:01:16.516Z"
   },
   {
    "duration": 93,
    "start_time": "2025-05-18T12:02:43.105Z"
   },
   {
    "duration": 435,
    "start_time": "2025-05-18T12:02:49.907Z"
   },
   {
    "duration": 276,
    "start_time": "2025-05-18T12:03:20.006Z"
   },
   {
    "duration": 78,
    "start_time": "2025-05-18T12:03:20.284Z"
   },
   {
    "duration": 251,
    "start_time": "2025-05-18T12:03:20.364Z"
   },
   {
    "duration": 205,
    "start_time": "2025-05-18T12:03:20.618Z"
   },
   {
    "duration": 114,
    "start_time": "2025-05-18T12:03:20.825Z"
   },
   {
    "duration": 133,
    "start_time": "2025-05-18T12:03:20.941Z"
   },
   {
    "duration": 65,
    "start_time": "2025-05-18T12:03:21.077Z"
   },
   {
    "duration": 39,
    "start_time": "2025-05-18T12:03:21.144Z"
   },
   {
    "duration": 19,
    "start_time": "2025-05-18T12:03:21.185Z"
   },
   {
    "duration": 7,
    "start_time": "2025-05-18T12:03:21.207Z"
   },
   {
    "duration": 15,
    "start_time": "2025-05-18T12:03:21.259Z"
   },
   {
    "duration": 9,
    "start_time": "2025-05-18T12:03:21.276Z"
   },
   {
    "duration": 9,
    "start_time": "2025-05-18T12:03:21.287Z"
   },
   {
    "duration": 23,
    "start_time": "2025-05-18T12:03:21.298Z"
   },
   {
    "duration": 56,
    "start_time": "2025-05-18T12:03:21.323Z"
   },
   {
    "duration": 54,
    "start_time": "2025-05-18T12:06:49.124Z"
   },
   {
    "duration": 94,
    "start_time": "2025-05-18T12:18:59.215Z"
   },
   {
    "duration": 78,
    "start_time": "2025-05-18T12:19:10.667Z"
   },
   {
    "duration": 144,
    "start_time": "2025-05-18T12:19:33.292Z"
   },
   {
    "duration": 115,
    "start_time": "2025-05-18T12:23:25.523Z"
   },
   {
    "duration": 15,
    "start_time": "2025-05-18T12:23:53.506Z"
   },
   {
    "duration": 32,
    "start_time": "2025-05-18T12:24:56.290Z"
   },
   {
    "duration": 32,
    "start_time": "2025-05-18T12:25:05.843Z"
   },
   {
    "duration": 28,
    "start_time": "2025-05-18T12:25:13.298Z"
   }
  ],
  "colab": {
   "provenance": []
  },
  "kernelspec": {
   "display_name": "Python 3 (ipykernel)",
   "language": "python",
   "name": "python3"
  },
  "language_info": {
   "codemirror_mode": {
    "name": "ipython",
    "version": 3
   },
   "file_extension": ".py",
   "mimetype": "text/x-python",
   "name": "python",
   "nbconvert_exporter": "python",
   "pygments_lexer": "ipython3",
   "version": "3.9.5"
  },
  "toc": {
   "base_numbering": 1,
   "nav_menu": {},
   "number_sections": true,
   "sideBar": true,
   "skip_h1_title": true,
   "title_cell": "Table of Contents",
   "title_sidebar": "Contents",
   "toc_cell": false,
   "toc_position": {},
   "toc_section_display": true,
   "toc_window_display": false
  }
 },
 "nbformat": 4,
 "nbformat_minor": 1
}
